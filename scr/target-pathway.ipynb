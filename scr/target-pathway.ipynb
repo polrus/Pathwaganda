{
 "cells": [
  {
   "cell_type": "markdown",
   "id": "a6db7321",
   "metadata": {},
   "source": [
    "! This code is pasted from IBD_pathway_to_cell from similarity_mvp and haven't been run !"
   ]
  },
  {
   "cell_type": "markdown",
   "id": "22d0a244",
   "metadata": {},
   "source": [
    "Process CSV files in specified folders within a GCS directory and save target-pathway relationships in a format suitable for TensorBoard Embedding Projector. "
   ]
  },
  {
   "cell_type": "code",
   "execution_count": null,
   "id": "fcc5652d",
   "metadata": {
    "vscode": {
     "languageId": "plaintext"
    }
   },
   "outputs": [],
   "source": [
    "def save_target_pathway_tensorboard(input_gcs_dir, output_gcs_dir, folders_to_process):\n",
    "    \"\"\"\n",
    "    Args:\n",
    "        input_gcs_dir (str): Input GCS directory path.\n",
    "        output_gcs_dir (str): Output GCS directory path.\n",
    "        folders_to_process (list): List of folder names within the input directory to process.\n",
    "\n",
    "    Output:\n",
    "        Saves target-pathway relationships as TSV files in the output GCS directory.\n",
    "    \"\"\"\n",
    "    # Initialize GCS filesystem\n",
    "    fs = gcsfs.GCSFileSystem()\n",
    "\n",
    "    # Ensure no trailing slashes in input and output directories\n",
    "    input_gcs_dir = input_gcs_dir.rstrip(\"/\")\n",
    "    output_gcs_dir = output_gcs_dir.rstrip(\"/\")\n",
    "\n",
    "    for folder_name in folders_to_process:\n",
    "        folder_path = f\"{input_gcs_dir}/{folder_name}\"\n",
    "        output_folder_path = f\"{output_gcs_dir}/{folder_name}\"\n",
    "\n",
    "        # Ensure output folder exists\n",
    "        if not fs.exists(output_folder_path):\n",
    "            fs.mkdirs(output_folder_path)\n",
    "\n",
    "        # List files in the input folder\n",
    "        files_in_folder = fs.ls(folder_path)\n",
    "        csv_files = [file for file in files_in_folder if file.endswith('.csv')]\n",
    "\n",
    "        for file_path in csv_files:\n",
    "            # Read the CSV file directly from GCS\n",
    "            with fs.open(file_path, 'r') as f:\n",
    "                df = pd.read_csv(f)\n",
    "\n",
    "            # Check if 'propagated_edge' and 'Term' exist in the file\n",
    "            if 'propagated_edge' not in df.columns or 'Term' not in df.columns:\n",
    "                print(f\"Skipping {file_path}: missing required columns.\")\n",
    "                continue\n",
    "\n",
    "            # Explode the `propagated_edge` column\n",
    "            df['propagated_edge_exploded'] = df['propagated_edge'].str.split(',')\n",
    "            df = df.explode('propagated_edge_exploded').dropna(subset=['propagated_edge_exploded'])\n",
    "\n",
    "            # Prepare data for TensorBoard format\n",
    "            embedding_metadata = df[['propagated_edge_exploded', 'Term']]\n",
    "            embedding_metadata = embedding_metadata.rename(\n",
    "                columns={\"propagated_edge_exploded\": \"Target\", \"Term\": \"Pathway\"}\n",
    "            )\n",
    "\n",
    "            # Save target-pathway relationships as a TSV\n",
    "            output_file_name = f\"{Path(file_path).stem}_target_pathway.tsv\"\n",
    "            output_file_path = f\"{output_folder_path}/{output_file_name}\"\n",
    "\n",
    "            # Save directly to GCS\n",
    "            with fs.open(output_file_path, 'w') as f:\n",
    "                embedding_metadata.to_csv(f, sep='\\t', index=False)\n",
    "\n",
    "            print(f\"Processed and uploaded: {output_file_path}\")\n"
   ]
  },
  {
   "cell_type": "code",
   "execution_count": null,
   "id": "060bb180",
   "metadata": {
    "vscode": {
     "languageId": "plaintext"
    }
   },
   "outputs": [],
   "source": [
    "input_gcs_dir = \"gs://ot-team/polina/pathway_propagation_validation_v2/gsea_output\"\n",
    "output_gcs_dir = \"gs://ot-team/polina/pathway_propagation_validation_v2/4tensorboard/jaccard\"\n",
    "\n",
    "library = [\"Reactome_Pathways_2024\"]\n",
    "\n",
    "save_target_pathway_tensorboard(input_gcs_dir, output_gcs_dir, library)"
   ]
  },
  {
   "cell_type": "code",
   "execution_count": null,
   "id": "ff962462",
   "metadata": {
    "vscode": {
     "languageId": "plaintext"
    }
   },
   "outputs": [],
   "source": []
  },
  {
   "cell_type": "code",
   "execution_count": null,
   "id": "0bf81c38",
   "metadata": {
    "vscode": {
     "languageId": "plaintext"
    }
   },
   "outputs": [],
   "source": []
  },
  {
   "cell_type": "code",
   "execution_count": null,
   "id": "796fbd27",
   "metadata": {
    "vscode": {
     "languageId": "plaintext"
    }
   },
   "outputs": [],
   "source": []
  },
  {
   "cell_type": "code",
   "execution_count": null,
   "id": "e640365a",
   "metadata": {
    "vscode": {
     "languageId": "plaintext"
    }
   },
   "outputs": [],
   "source": []
  },
  {
   "cell_type": "code",
   "execution_count": null,
   "id": "fb1b7bed",
   "metadata": {
    "vscode": {
     "languageId": "plaintext"
    }
   },
   "outputs": [],
   "source": []
  },
  {
   "cell_type": "code",
   "execution_count": null,
   "id": "c148e14a",
   "metadata": {
    "vscode": {
     "languageId": "plaintext"
    }
   },
   "outputs": [],
   "source": []
  }
 ],
 "metadata": {
  "language_info": {
   "name": "python"
  }
 },
 "nbformat": 4,
 "nbformat_minor": 5
}
