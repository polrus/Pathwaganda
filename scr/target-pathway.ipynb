{
 "cells": [
  {
   "cell_type": "markdown",
   "id": "ff962462",
   "metadata": {
    "vscode": {
     "languageId": "plaintext"
    }
   },
   "source": [
    "# Save target-pathway lists as spark dfs and filter out non-gene targets"
   ]
  },
  {
   "cell_type": "markdown",
   "id": "0bf81c38",
   "metadata": {
    "vscode": {
     "languageId": "plaintext"
    }
   },
   "source": [
    "Input folder: ot-team/polina/pathway_propagation_validation_v2/gsea_output"
   ]
  },
  {
   "cell_type": "code",
   "execution_count": 1,
   "id": "796fbd27",
   "metadata": {},
   "outputs": [],
   "source": [
    "from pyspark.sql import SparkSession\n",
    "from pyspark.sql import functions as f\n",
    "from pyspark.sql.functions import col, explode, split, collect_set"
   ]
  },
  {
   "cell_type": "code",
   "execution_count": 2,
   "id": "e640365a",
   "metadata": {},
   "outputs": [],
   "source": [
    "spark = SparkSession.builder.getOrCreate()"
   ]
  },
  {
   "cell_type": "code",
   "execution_count": 3,
   "id": "6c734457",
   "metadata": {},
   "outputs": [
    {
     "name": "stderr",
     "output_type": "stream",
     "text": [
      "                                                                                \r"
     ]
    }
   ],
   "source": [
    "# Target info from OT platform to parse gene names\n",
    "target_path = \"gs://open-targets-data-releases/25.03/output/target/\"\n",
    "target = spark.read.parquet(target_path)\n",
    "target_names = target.select(\"approvedSymbol\", \"id\")"
   ]
  },
  {
   "cell_type": "code",
   "execution_count": 4,
   "id": "fb1b7bed",
   "metadata": {},
   "outputs": [],
   "source": [
    "# Rename columns and aggregate by approvedSymbol\n",
    "target_names = target.select(\"approvedSymbol\", \"id\").groupBy('approvedSymbol').agg(\n",
    "    f.concat_ws(',', f.collect_list('id')).alias('targetId')\n",
    ")"
   ]
  },
  {
   "cell_type": "code",
   "execution_count": 5,
   "id": "08a24274",
   "metadata": {},
   "outputs": [],
   "source": [
    "def calculate_propagated_targets_with_terms(\n",
    "    input_gcs_dir, \n",
    "    output_gcs_dir, \n",
    "    folders_to_process, \n",
    "    target_table\n",
    "):\n",
    "    \"\"\"\n",
    "    Process CSV files in specified GCS folders to generate Spark DataFrames\n",
    "    with propagated targets and their corresponding terms. Merges with target_table\n",
    "    on approvedSymbol and filters out unmatched rows. Saves results in Parquet format.\n",
    "\n",
    "    Args:\n",
    "        input_gcs_dir (str): Input GCS directory path (gs://bucket/path/)\n",
    "        output_gcs_dir (str): Output GCS directory path (gs://bucket/path/)\n",
    "        folders_to_process (list): List of folder names to process\n",
    "        target_table (DataFrame): Spark DataFrame with 'approvedSymbol' and 'targetId'\n",
    "    \"\"\"\n",
    "    input_gcs_dir = input_gcs_dir.rstrip(\"/\")\n",
    "    output_gcs_dir = output_gcs_dir.rstrip(\"/\")\n",
    "\n",
    "    for folder_name in folders_to_process:\n",
    "        csv_files = spark.sparkContext.wholeTextFiles(f\"{input_gcs_dir}/{folder_name}/*.csv\").keys().collect()\n",
    "        \n",
    "        for csv_file in csv_files:\n",
    "            csv_name = csv_file.split(\"/\")[-1].replace(\".csv\", \"\")\n",
    "            output_folder_path = f\"{output_gcs_dir}/{folder_name}/{csv_name}\"\n",
    "\n",
    "            df = spark.read.option(\"header\", True).csv(csv_file)\n",
    "\n",
    "            if not {'propagated_edge', 'Term'}.issubset(df.columns):\n",
    "                print(f\"Skipping {csv_file}: missing required columns.\")\n",
    "                continue\n",
    "\n",
    "            df_exploded = df.withColumn(\n",
    "                \"approvedSymbol\", explode(split(col(\"propagated_edge\"), \",\"))\n",
    "            ).dropna(subset=[\"approvedSymbol\"])\n",
    "\n",
    "            target_terms_df = df_exploded.groupBy(\"approvedSymbol\") \\\n",
    "                .agg(collect_set(\"Term\").alias(\"terms\"))\n",
    "\n",
    "            merged_df = target_terms_df.join(\n",
    "                target_table.select(\"approvedSymbol\", \"targetId\"),\n",
    "                on=\"approvedSymbol\",\n",
    "                how=\"inner\"\n",
    "            )\n",
    "\n",
    "            # Write as Parquet (supports array columns)\n",
    "            merged_df.write.mode(\"overwrite\").parquet(output_folder_path)\n",
    "            print(f\"Saved: {output_folder_path}\")"
   ]
  },
  {
   "cell_type": "code",
   "execution_count": 15,
   "id": "18ee1d10",
   "metadata": {},
   "outputs": [
    {
     "name": "stderr",
     "output_type": "stream",
     "text": [
      "                                                                                \r"
     ]
    },
    {
     "name": "stdout",
     "output_type": "stream",
     "text": [
      "Saved: gs://ot-team/polina/pathway_propagation_validation_v2/gsea_output_spark/KEGG_2021_Human/EFO_0000095_ge_mm_som_gsea_KEGG_2021_Human_pval0.05\n"
     ]
    },
    {
     "name": "stderr",
     "output_type": "stream",
     "text": [
      "                                                                                \r"
     ]
    },
    {
     "name": "stdout",
     "output_type": "stream",
     "text": [
      "Saved: gs://ot-team/polina/pathway_propagation_validation_v2/gsea_output_spark/KEGG_2021_Human/EFO_0000222_ge_mm_som_gsea_KEGG_2021_Human_pval0.05\n"
     ]
    },
    {
     "name": "stderr",
     "output_type": "stream",
     "text": [
      "                                                                                \r"
     ]
    },
    {
     "name": "stdout",
     "output_type": "stream",
     "text": [
      "Saved: gs://ot-team/polina/pathway_propagation_validation_v2/gsea_output_spark/KEGG_2021_Human/EFO_0000274_ge_mm_gsea_KEGG_2021_Human_pval0.05\n"
     ]
    },
    {
     "name": "stderr",
     "output_type": "stream",
     "text": [
      "                                                                                \r"
     ]
    },
    {
     "name": "stdout",
     "output_type": "stream",
     "text": [
      "Saved: gs://ot-team/polina/pathway_propagation_validation_v2/gsea_output_spark/KEGG_2021_Human/EFO_0000183_ge_mm_som_gsea_KEGG_2021_Human_pval0.05\n"
     ]
    },
    {
     "name": "stderr",
     "output_type": "stream",
     "text": [
      "                                                                                \r"
     ]
    },
    {
     "name": "stdout",
     "output_type": "stream",
     "text": [
      "Saved: gs://ot-team/polina/pathway_propagation_validation_v2/gsea_output_spark/KEGG_2021_Human/EFO_0000341_ge_mm_gsea_KEGG_2021_Human_pval0.05\n"
     ]
    },
    {
     "name": "stderr",
     "output_type": "stream",
     "text": [
      "                                                                                \r"
     ]
    },
    {
     "name": "stdout",
     "output_type": "stream",
     "text": [
      "Saved: gs://ot-team/polina/pathway_propagation_validation_v2/gsea_output_spark/KEGG_2021_Human/EFO_0000384_ge_mm_gsea_KEGG_2021_Human_pval0.05\n"
     ]
    },
    {
     "name": "stderr",
     "output_type": "stream",
     "text": [
      "                                                                                \r"
     ]
    },
    {
     "name": "stdout",
     "output_type": "stream",
     "text": [
      "Saved: gs://ot-team/polina/pathway_propagation_validation_v2/gsea_output_spark/KEGG_2021_Human/EFO_0000403_ge_mm_som_gsea_KEGG_2021_Human_pval0.05\n"
     ]
    },
    {
     "name": "stderr",
     "output_type": "stream",
     "text": [
      "                                                                                \r"
     ]
    },
    {
     "name": "stdout",
     "output_type": "stream",
     "text": [
      "Saved: gs://ot-team/polina/pathway_propagation_validation_v2/gsea_output_spark/KEGG_2021_Human/EFO_0000275_ge_mm_gsea_KEGG_2021_Human_pval0.05\n"
     ]
    },
    {
     "name": "stderr",
     "output_type": "stream",
     "text": [
      "                                                                                \r"
     ]
    },
    {
     "name": "stdout",
     "output_type": "stream",
     "text": [
      "Saved: gs://ot-team/polina/pathway_propagation_validation_v2/gsea_output_spark/KEGG_2021_Human/EFO_0000474_ge_mm_gsea_KEGG_2021_Human_pval0.05\n"
     ]
    },
    {
     "name": "stderr",
     "output_type": "stream",
     "text": [
      "                                                                                \r"
     ]
    },
    {
     "name": "stdout",
     "output_type": "stream",
     "text": [
      "Saved: gs://ot-team/polina/pathway_propagation_validation_v2/gsea_output_spark/KEGG_2021_Human/EFO_0000519_ge_mm_som_gsea_KEGG_2021_Human_pval0.05\n"
     ]
    },
    {
     "name": "stderr",
     "output_type": "stream",
     "text": [
      "                                                                                \r"
     ]
    },
    {
     "name": "stdout",
     "output_type": "stream",
     "text": [
      "Saved: gs://ot-team/polina/pathway_propagation_validation_v2/gsea_output_spark/KEGG_2021_Human/EFO_0000565_ge_mm_som_gsea_KEGG_2021_Human_pval0.05\n"
     ]
    },
    {
     "name": "stderr",
     "output_type": "stream",
     "text": [
      "                                                                                \r"
     ]
    },
    {
     "name": "stdout",
     "output_type": "stream",
     "text": [
      "Saved: gs://ot-team/polina/pathway_propagation_validation_v2/gsea_output_spark/KEGG_2021_Human/EFO_0000612_ge_mm_gsea_KEGG_2021_Human_pval0.05\n"
     ]
    },
    {
     "name": "stderr",
     "output_type": "stream",
     "text": [
      "                                                                                \r"
     ]
    },
    {
     "name": "stdout",
     "output_type": "stream",
     "text": [
      "Saved: gs://ot-team/polina/pathway_propagation_validation_v2/gsea_output_spark/KEGG_2021_Human/EFO_0000637_ge_mm_som_gsea_KEGG_2021_Human_pval0.05\n"
     ]
    },
    {
     "name": "stderr",
     "output_type": "stream",
     "text": [
      "                                                                                \r"
     ]
    },
    {
     "name": "stdout",
     "output_type": "stream",
     "text": [
      "Saved: gs://ot-team/polina/pathway_propagation_validation_v2/gsea_output_spark/KEGG_2021_Human/EFO_0000574_ge_mm_som_gsea_KEGG_2021_Human_pval0.05\n"
     ]
    },
    {
     "name": "stderr",
     "output_type": "stream",
     "text": [
      "                                                                                \r"
     ]
    },
    {
     "name": "stdout",
     "output_type": "stream",
     "text": [
      "Saved: gs://ot-team/polina/pathway_propagation_validation_v2/gsea_output_spark/KEGG_2021_Human/EFO_0000685_ge_mm_gsea_KEGG_2021_Human_pval0.05\n"
     ]
    },
    {
     "name": "stderr",
     "output_type": "stream",
     "text": [
      "                                                                                \r"
     ]
    },
    {
     "name": "stdout",
     "output_type": "stream",
     "text": [
      "Saved: gs://ot-team/polina/pathway_propagation_validation_v2/gsea_output_spark/KEGG_2021_Human/EFO_0000702_ge_mm_som_gsea_KEGG_2021_Human_pval0.05\n"
     ]
    },
    {
     "name": "stderr",
     "output_type": "stream",
     "text": [
      "                                                                                \r"
     ]
    },
    {
     "name": "stdout",
     "output_type": "stream",
     "text": [
      "Saved: gs://ot-team/polina/pathway_propagation_validation_v2/gsea_output_spark/KEGG_2021_Human/EFO_0000676_ge_mm_gsea_KEGG_2021_Human_pval0.05\n"
     ]
    },
    {
     "name": "stderr",
     "output_type": "stream",
     "text": [
      "                                                                                \r"
     ]
    },
    {
     "name": "stdout",
     "output_type": "stream",
     "text": [
      "Saved: gs://ot-team/polina/pathway_propagation_validation_v2/gsea_output_spark/KEGG_2021_Human/EFO_0001073_ge_mm_gsea_KEGG_2021_Human_pval0.05\n"
     ]
    },
    {
     "name": "stderr",
     "output_type": "stream",
     "text": [
      "                                                                                \r"
     ]
    },
    {
     "name": "stdout",
     "output_type": "stream",
     "text": [
      "Saved: gs://ot-team/polina/pathway_propagation_validation_v2/gsea_output_spark/KEGG_2021_Human/EFO_0001378_ge_mm_som_gsea_KEGG_2021_Human_pval0.05\n"
     ]
    },
    {
     "name": "stderr",
     "output_type": "stream",
     "text": [
      "                                                                                \r"
     ]
    },
    {
     "name": "stdout",
     "output_type": "stream",
     "text": [
      "Saved: gs://ot-team/polina/pathway_propagation_validation_v2/gsea_output_spark/KEGG_2021_Human/EFO_0002429_ge_mm_som_gsea_KEGG_2021_Human_pval0.05\n"
     ]
    },
    {
     "name": "stderr",
     "output_type": "stream",
     "text": [
      "                                                                                \r"
     ]
    },
    {
     "name": "stdout",
     "output_type": "stream",
     "text": [
      "Saved: gs://ot-team/polina/pathway_propagation_validation_v2/gsea_output_spark/KEGG_2021_Human/EFO_0003060_ge_mm_som_gsea_KEGG_2021_Human_pval0.05\n"
     ]
    },
    {
     "name": "stderr",
     "output_type": "stream",
     "text": [
      "                                                                                \r"
     ]
    },
    {
     "name": "stdout",
     "output_type": "stream",
     "text": [
      "Saved: gs://ot-team/polina/pathway_propagation_validation_v2/gsea_output_spark/KEGG_2021_Human/EFO_0003144_ge_mm_gsea_KEGG_2021_Human_pval0.05\n"
     ]
    },
    {
     "name": "stderr",
     "output_type": "stream",
     "text": [
      "                                                                                \r"
     ]
    },
    {
     "name": "stdout",
     "output_type": "stream",
     "text": [
      "Saved: gs://ot-team/polina/pathway_propagation_validation_v2/gsea_output_spark/KEGG_2021_Human/EFO_0003758_ge_mm_gsea_KEGG_2021_Human_pval0.05\n"
     ]
    },
    {
     "name": "stderr",
     "output_type": "stream",
     "text": [
      "                                                                                \r"
     ]
    },
    {
     "name": "stdout",
     "output_type": "stream",
     "text": [
      "Saved: gs://ot-team/polina/pathway_propagation_validation_v2/gsea_output_spark/KEGG_2021_Human/EFO_0003833_ge_mm_som_gsea_KEGG_2021_Human_pval0.05\n"
     ]
    },
    {
     "name": "stderr",
     "output_type": "stream",
     "text": [
      "                                                                                \r"
     ]
    },
    {
     "name": "stdout",
     "output_type": "stream",
     "text": [
      "Saved: gs://ot-team/polina/pathway_propagation_validation_v2/gsea_output_spark/KEGG_2021_Human/EFO_0003869_ge_mm_som_gsea_KEGG_2021_Human_pval0.05\n"
     ]
    },
    {
     "name": "stderr",
     "output_type": "stream",
     "text": [
      "                                                                                \r"
     ]
    },
    {
     "name": "stdout",
     "output_type": "stream",
     "text": [
      "Saved: gs://ot-team/polina/pathway_propagation_validation_v2/gsea_output_spark/KEGG_2021_Human/EFO_0004142_ge_mm_som_gsea_KEGG_2021_Human_pval0.05\n"
     ]
    },
    {
     "name": "stderr",
     "output_type": "stream",
     "text": [
      "                                                                                \r"
     ]
    },
    {
     "name": "stdout",
     "output_type": "stream",
     "text": [
      "Saved: gs://ot-team/polina/pathway_propagation_validation_v2/gsea_output_spark/KEGG_2021_Human/EFO_0009606_ge_mm_gsea_KEGG_2021_Human_pval0.05\n"
     ]
    },
    {
     "name": "stderr",
     "output_type": "stream",
     "text": [
      "                                                                                \r"
     ]
    },
    {
     "name": "stdout",
     "output_type": "stream",
     "text": [
      "Saved: gs://ot-team/polina/pathway_propagation_validation_v2/gsea_output_spark/KEGG_2021_Human/EFO_0005952_ge_mm_som_gsea_KEGG_2021_Human_pval0.05\n"
     ]
    },
    {
     "name": "stderr",
     "output_type": "stream",
     "text": [
      "                                                                                \r"
     ]
    },
    {
     "name": "stdout",
     "output_type": "stream",
     "text": [
      "Saved: gs://ot-team/polina/pathway_propagation_validation_v2/gsea_output_spark/KEGG_2021_Human/EFO_1001901_ge_mm_som_gsea_KEGG_2021_Human_pval0.05\n"
     ]
    },
    {
     "name": "stderr",
     "output_type": "stream",
     "text": [
      "                                                                                \r"
     ]
    },
    {
     "name": "stdout",
     "output_type": "stream",
     "text": [
      "Saved: gs://ot-team/polina/pathway_propagation_validation_v2/gsea_output_spark/KEGG_2021_Human/MONDO_0001657_ge_mm_som_gsea_KEGG_2021_Human_pval0.05\n"
     ]
    },
    {
     "name": "stderr",
     "output_type": "stream",
     "text": [
      "                                                                                \r"
     ]
    },
    {
     "name": "stdout",
     "output_type": "stream",
     "text": [
      "Saved: gs://ot-team/polina/pathway_propagation_validation_v2/gsea_output_spark/KEGG_2021_Human/MONDO_0002367_ge_mm_som_gsea_KEGG_2021_Human_pval0.05\n"
     ]
    },
    {
     "name": "stderr",
     "output_type": "stream",
     "text": [
      "                                                                                \r"
     ]
    },
    {
     "name": "stdout",
     "output_type": "stream",
     "text": [
      "Saved: gs://ot-team/polina/pathway_propagation_validation_v2/gsea_output_spark/KEGG_2021_Human/MONDO_0004975_ge_mm_gsea_KEGG_2021_Human_pval0.05\n"
     ]
    },
    {
     "name": "stderr",
     "output_type": "stream",
     "text": [
      "                                                                                \r"
     ]
    },
    {
     "name": "stdout",
     "output_type": "stream",
     "text": [
      "Saved: gs://ot-team/polina/pathway_propagation_validation_v2/gsea_output_spark/KEGG_2021_Human/MONDO_0004976_ge_mm_gsea_KEGG_2021_Human_pval0.05\n"
     ]
    },
    {
     "name": "stderr",
     "output_type": "stream",
     "text": [
      "                                                                                \r"
     ]
    },
    {
     "name": "stdout",
     "output_type": "stream",
     "text": [
      "Saved: gs://ot-team/polina/pathway_propagation_validation_v2/gsea_output_spark/KEGG_2021_Human/MONDO_0004979_ge_mm_gsea_KEGG_2021_Human_pval0.05\n"
     ]
    },
    {
     "name": "stderr",
     "output_type": "stream",
     "text": [
      "                                                                                \r"
     ]
    },
    {
     "name": "stdout",
     "output_type": "stream",
     "text": [
      "Saved: gs://ot-team/polina/pathway_propagation_validation_v2/gsea_output_spark/KEGG_2021_Human/MONDO_0004985_ge_mm_gsea_KEGG_2021_Human_pval0.05\n"
     ]
    },
    {
     "name": "stderr",
     "output_type": "stream",
     "text": [
      "                                                                                \r"
     ]
    },
    {
     "name": "stdout",
     "output_type": "stream",
     "text": [
      "Saved: gs://ot-team/polina/pathway_propagation_validation_v2/gsea_output_spark/KEGG_2021_Human/MONDO_0005178_ge_mm_gsea_KEGG_2021_Human_pval0.05\n"
     ]
    },
    {
     "name": "stderr",
     "output_type": "stream",
     "text": [
      "                                                                                \r"
     ]
    },
    {
     "name": "stdout",
     "output_type": "stream",
     "text": [
      "Saved: gs://ot-team/polina/pathway_propagation_validation_v2/gsea_output_spark/KEGG_2021_Human/MONDO_0005147_ge_mm_gsea_KEGG_2021_Human_pval0.05\n"
     ]
    },
    {
     "name": "stderr",
     "output_type": "stream",
     "text": [
      "                                                                                \r"
     ]
    },
    {
     "name": "stdout",
     "output_type": "stream",
     "text": [
      "Saved: gs://ot-team/polina/pathway_propagation_validation_v2/gsea_output_spark/KEGG_2021_Human/MONDO_0005180_ge_mm_gsea_KEGG_2021_Human_pval0.05\n"
     ]
    },
    {
     "name": "stderr",
     "output_type": "stream",
     "text": [
      "                                                                                \r"
     ]
    },
    {
     "name": "stdout",
     "output_type": "stream",
     "text": [
      "Saved: gs://ot-team/polina/pathway_propagation_validation_v2/gsea_output_spark/KEGG_2021_Human/MONDO_0005301_ge_mm_gsea_KEGG_2021_Human_pval0.05\n"
     ]
    },
    {
     "name": "stderr",
     "output_type": "stream",
     "text": [
      "                                                                                \r"
     ]
    },
    {
     "name": "stdout",
     "output_type": "stream",
     "text": [
      "Saved: gs://ot-team/polina/pathway_propagation_validation_v2/gsea_output_spark/KEGG_2021_Human/MONDO_0005277_ge_mm_gsea_KEGG_2021_Human_pval0.05\n"
     ]
    },
    {
     "name": "stderr",
     "output_type": "stream",
     "text": [
      "                                                                                \r"
     ]
    },
    {
     "name": "stdout",
     "output_type": "stream",
     "text": [
      "Saved: gs://ot-team/polina/pathway_propagation_validation_v2/gsea_output_spark/KEGG_2021_Human/MONDO_0007915_ge_mm_gsea_KEGG_2021_Human_pval0.05\n"
     ]
    },
    {
     "name": "stderr",
     "output_type": "stream",
     "text": [
      "                                                                                \r"
     ]
    },
    {
     "name": "stdout",
     "output_type": "stream",
     "text": [
      "Saved: gs://ot-team/polina/pathway_propagation_validation_v2/gsea_output_spark/KEGG_2021_Human/MONDO_0008170_ge_mm_som_gsea_KEGG_2021_Human_pval0.05\n"
     ]
    },
    {
     "name": "stderr",
     "output_type": "stream",
     "text": [
      "                                                                                \r"
     ]
    },
    {
     "name": "stdout",
     "output_type": "stream",
     "text": [
      "Saved: gs://ot-team/polina/pathway_propagation_validation_v2/gsea_output_spark/KEGG_2021_Human/MONDO_0008315_ge_mm_som_gsea_KEGG_2021_Human_pval0.05\n"
     ]
    },
    {
     "name": "stderr",
     "output_type": "stream",
     "text": [
      "                                                                                \r"
     ]
    },
    {
     "name": "stdout",
     "output_type": "stream",
     "text": [
      "Saved: gs://ot-team/polina/pathway_propagation_validation_v2/gsea_output_spark/KEGG_2021_Human/MONDO_0011719_ge_mm_som_gsea_KEGG_2021_Human_pval0.05\n"
     ]
    },
    {
     "name": "stderr",
     "output_type": "stream",
     "text": [
      "                                                                                \r"
     ]
    },
    {
     "name": "stdout",
     "output_type": "stream",
     "text": [
      "Saved: gs://ot-team/polina/pathway_propagation_validation_v2/gsea_output_spark/KEGG_2021_Human/EFO_0000729_ge_mm_gsea_KEGG_2021_Human_pval0.05\n"
     ]
    },
    {
     "name": "stderr",
     "output_type": "stream",
     "text": [
      "                                                                                \r"
     ]
    },
    {
     "name": "stdout",
     "output_type": "stream",
     "text": [
      "Saved: gs://ot-team/polina/pathway_propagation_validation_v2/gsea_output_spark/KEGG_2021_Human/EFO_0000756_ge_mm_som_gsea_KEGG_2021_Human_pval0.05\n"
     ]
    }
   ],
   "source": [
    "calculate_propagated_targets_with_terms(\n",
    "    input_gcs_dir = \"gs://ot-team/polina/pathway_propagation_validation_v2/gsea_output\", \n",
    "    output_gcs_dir = \"gs://ot-team/polina/pathway_propagation_validation_v2/gsea_output_spark\", \n",
    "    folders_to_process = [\"KEGG_2021_Human\"], \n",
    "    target_table = target_names\n",
    ")"
   ]
  },
  {
   "cell_type": "code",
   "execution_count": 6,
   "id": "80929a03",
   "metadata": {},
   "outputs": [
    {
     "name": "stderr",
     "output_type": "stream",
     "text": [
      "                                                                                \r"
     ]
    },
    {
     "name": "stdout",
     "output_type": "stream",
     "text": [
      "Saved: gs://ot-team/polina/pathway_propagation_validation_v2/gsea_output_spark/Reactome_Pathways_2024/EFO_0000095_ge_mm_som_gsea_Reactome_Pathways_2024_pval0.05\n"
     ]
    },
    {
     "name": "stderr",
     "output_type": "stream",
     "text": [
      "                                                                                \r"
     ]
    },
    {
     "name": "stdout",
     "output_type": "stream",
     "text": [
      "Saved: gs://ot-team/polina/pathway_propagation_validation_v2/gsea_output_spark/Reactome_Pathways_2024/EFO_0000222_ge_mm_som_gsea_Reactome_Pathways_2024_pval0.05\n"
     ]
    },
    {
     "name": "stderr",
     "output_type": "stream",
     "text": [
      "                                                                                \r"
     ]
    },
    {
     "name": "stdout",
     "output_type": "stream",
     "text": [
      "Saved: gs://ot-team/polina/pathway_propagation_validation_v2/gsea_output_spark/Reactome_Pathways_2024/EFO_0000274_ge_mm_gsea_Reactome_Pathways_2024_pval0.05\n"
     ]
    },
    {
     "name": "stderr",
     "output_type": "stream",
     "text": [
      "                                                                                \r"
     ]
    },
    {
     "name": "stdout",
     "output_type": "stream",
     "text": [
      "Saved: gs://ot-team/polina/pathway_propagation_validation_v2/gsea_output_spark/Reactome_Pathways_2024/EFO_0000275_ge_mm_gsea_Reactome_Pathways_2024_pval0.05\n"
     ]
    },
    {
     "name": "stderr",
     "output_type": "stream",
     "text": [
      "                                                                                \r"
     ]
    },
    {
     "name": "stdout",
     "output_type": "stream",
     "text": [
      "Saved: gs://ot-team/polina/pathway_propagation_validation_v2/gsea_output_spark/Reactome_Pathways_2024/EFO_0000341_ge_mm_gsea_Reactome_Pathways_2024_pval0.05\n"
     ]
    },
    {
     "name": "stderr",
     "output_type": "stream",
     "text": [
      "                                                                                \r"
     ]
    },
    {
     "name": "stdout",
     "output_type": "stream",
     "text": [
      "Saved: gs://ot-team/polina/pathway_propagation_validation_v2/gsea_output_spark/Reactome_Pathways_2024/EFO_0000384_ge_mm_gsea_Reactome_Pathways_2024_pval0.05\n"
     ]
    },
    {
     "name": "stderr",
     "output_type": "stream",
     "text": [
      "                                                                                \r"
     ]
    },
    {
     "name": "stdout",
     "output_type": "stream",
     "text": [
      "Saved: gs://ot-team/polina/pathway_propagation_validation_v2/gsea_output_spark/Reactome_Pathways_2024/EFO_0000403_ge_mm_som_gsea_Reactome_Pathways_2024_pval0.05\n"
     ]
    },
    {
     "name": "stderr",
     "output_type": "stream",
     "text": [
      "                                                                                \r"
     ]
    },
    {
     "name": "stdout",
     "output_type": "stream",
     "text": [
      "Saved: gs://ot-team/polina/pathway_propagation_validation_v2/gsea_output_spark/Reactome_Pathways_2024/EFO_0000474_ge_mm_gsea_Reactome_Pathways_2024_pval0.05\n"
     ]
    },
    {
     "name": "stderr",
     "output_type": "stream",
     "text": [
      "                                                                                \r"
     ]
    },
    {
     "name": "stdout",
     "output_type": "stream",
     "text": [
      "Saved: gs://ot-team/polina/pathway_propagation_validation_v2/gsea_output_spark/Reactome_Pathways_2024/EFO_0000519_ge_mm_som_gsea_Reactome_Pathways_2024_pval0.05\n"
     ]
    },
    {
     "name": "stderr",
     "output_type": "stream",
     "text": [
      "                                                                                \r"
     ]
    },
    {
     "name": "stdout",
     "output_type": "stream",
     "text": [
      "Saved: gs://ot-team/polina/pathway_propagation_validation_v2/gsea_output_spark/Reactome_Pathways_2024/EFO_0000565_ge_mm_som_gsea_Reactome_Pathways_2024_pval0.05\n"
     ]
    },
    {
     "name": "stderr",
     "output_type": "stream",
     "text": [
      "                                                                                \r"
     ]
    },
    {
     "name": "stdout",
     "output_type": "stream",
     "text": [
      "Saved: gs://ot-team/polina/pathway_propagation_validation_v2/gsea_output_spark/Reactome_Pathways_2024/EFO_0000612_ge_mm_gsea_Reactome_Pathways_2024_pval0.05\n"
     ]
    },
    {
     "name": "stderr",
     "output_type": "stream",
     "text": [
      "                                                                                \r"
     ]
    },
    {
     "name": "stdout",
     "output_type": "stream",
     "text": [
      "Saved: gs://ot-team/polina/pathway_propagation_validation_v2/gsea_output_spark/Reactome_Pathways_2024/EFO_0000574_ge_mm_som_gsea_Reactome_Pathways_2024_pval0.05\n"
     ]
    },
    {
     "name": "stderr",
     "output_type": "stream",
     "text": [
      "                                                                                \r"
     ]
    },
    {
     "name": "stdout",
     "output_type": "stream",
     "text": [
      "Saved: gs://ot-team/polina/pathway_propagation_validation_v2/gsea_output_spark/Reactome_Pathways_2024/EFO_0000637_ge_mm_som_gsea_Reactome_Pathways_2024_pval0.05\n"
     ]
    },
    {
     "name": "stderr",
     "output_type": "stream",
     "text": [
      "                                                                                \r"
     ]
    },
    {
     "name": "stdout",
     "output_type": "stream",
     "text": [
      "Saved: gs://ot-team/polina/pathway_propagation_validation_v2/gsea_output_spark/Reactome_Pathways_2024/EFO_0000183_ge_mm_som_gsea_Reactome_Pathways_2024_pval0.05\n"
     ]
    },
    {
     "name": "stderr",
     "output_type": "stream",
     "text": [
      "                                                                                \r"
     ]
    },
    {
     "name": "stdout",
     "output_type": "stream",
     "text": [
      "Saved: gs://ot-team/polina/pathway_propagation_validation_v2/gsea_output_spark/Reactome_Pathways_2024/EFO_0000676_ge_mm_gsea_Reactome_Pathways_2024_pval0.05\n"
     ]
    },
    {
     "name": "stderr",
     "output_type": "stream",
     "text": [
      "                                                                                \r"
     ]
    },
    {
     "name": "stdout",
     "output_type": "stream",
     "text": [
      "Saved: gs://ot-team/polina/pathway_propagation_validation_v2/gsea_output_spark/Reactome_Pathways_2024/EFO_0000685_ge_mm_gsea_Reactome_Pathways_2024_pval0.05\n"
     ]
    },
    {
     "name": "stderr",
     "output_type": "stream",
     "text": [
      "                                                                                \r"
     ]
    },
    {
     "name": "stdout",
     "output_type": "stream",
     "text": [
      "Saved: gs://ot-team/polina/pathway_propagation_validation_v2/gsea_output_spark/Reactome_Pathways_2024/EFO_0000702_ge_mm_som_gsea_Reactome_Pathways_2024_pval0.05\n"
     ]
    },
    {
     "name": "stderr",
     "output_type": "stream",
     "text": [
      "                                                                                \r"
     ]
    },
    {
     "name": "stdout",
     "output_type": "stream",
     "text": [
      "Saved: gs://ot-team/polina/pathway_propagation_validation_v2/gsea_output_spark/Reactome_Pathways_2024/EFO_0000729_ge_mm_gsea_Reactome_Pathways_2024_pval0.05\n"
     ]
    },
    {
     "name": "stderr",
     "output_type": "stream",
     "text": [
      "                                                                                \r"
     ]
    },
    {
     "name": "stdout",
     "output_type": "stream",
     "text": [
      "Saved: gs://ot-team/polina/pathway_propagation_validation_v2/gsea_output_spark/Reactome_Pathways_2024/EFO_0000756_ge_mm_som_gsea_Reactome_Pathways_2024_pval0.05\n"
     ]
    },
    {
     "name": "stderr",
     "output_type": "stream",
     "text": [
      "                                                                                \r"
     ]
    },
    {
     "name": "stdout",
     "output_type": "stream",
     "text": [
      "Saved: gs://ot-team/polina/pathway_propagation_validation_v2/gsea_output_spark/Reactome_Pathways_2024/EFO_0001073_ge_mm_gsea_Reactome_Pathways_2024_pval0.05\n"
     ]
    },
    {
     "name": "stderr",
     "output_type": "stream",
     "text": [
      "                                                                                \r"
     ]
    },
    {
     "name": "stdout",
     "output_type": "stream",
     "text": [
      "Saved: gs://ot-team/polina/pathway_propagation_validation_v2/gsea_output_spark/Reactome_Pathways_2024/EFO_0002429_ge_mm_som_gsea_Reactome_Pathways_2024_pval0.05\n"
     ]
    },
    {
     "name": "stderr",
     "output_type": "stream",
     "text": [
      "                                                                                \r"
     ]
    },
    {
     "name": "stdout",
     "output_type": "stream",
     "text": [
      "Saved: gs://ot-team/polina/pathway_propagation_validation_v2/gsea_output_spark/Reactome_Pathways_2024/EFO_0001378_ge_mm_som_gsea_Reactome_Pathways_2024_pval0.05\n"
     ]
    },
    {
     "name": "stderr",
     "output_type": "stream",
     "text": [
      "                                                                                \r"
     ]
    },
    {
     "name": "stdout",
     "output_type": "stream",
     "text": [
      "Saved: gs://ot-team/polina/pathway_propagation_validation_v2/gsea_output_spark/Reactome_Pathways_2024/EFO_0003060_ge_mm_som_gsea_Reactome_Pathways_2024_pval0.05\n"
     ]
    },
    {
     "name": "stderr",
     "output_type": "stream",
     "text": [
      "                                                                                \r"
     ]
    },
    {
     "name": "stdout",
     "output_type": "stream",
     "text": [
      "Saved: gs://ot-team/polina/pathway_propagation_validation_v2/gsea_output_spark/Reactome_Pathways_2024/EFO_0003144_ge_mm_gsea_Reactome_Pathways_2024_pval0.05\n"
     ]
    },
    {
     "name": "stderr",
     "output_type": "stream",
     "text": [
      "                                                                                \r"
     ]
    },
    {
     "name": "stdout",
     "output_type": "stream",
     "text": [
      "Saved: gs://ot-team/polina/pathway_propagation_validation_v2/gsea_output_spark/Reactome_Pathways_2024/EFO_0003758_ge_mm_gsea_Reactome_Pathways_2024_pval0.05\n"
     ]
    },
    {
     "name": "stderr",
     "output_type": "stream",
     "text": [
      "                                                                                \r"
     ]
    },
    {
     "name": "stdout",
     "output_type": "stream",
     "text": [
      "Saved: gs://ot-team/polina/pathway_propagation_validation_v2/gsea_output_spark/Reactome_Pathways_2024/EFO_0003833_ge_mm_som_gsea_Reactome_Pathways_2024_pval0.05\n"
     ]
    },
    {
     "name": "stderr",
     "output_type": "stream",
     "text": [
      "                                                                                \r"
     ]
    },
    {
     "name": "stdout",
     "output_type": "stream",
     "text": [
      "Saved: gs://ot-team/polina/pathway_propagation_validation_v2/gsea_output_spark/Reactome_Pathways_2024/EFO_0003869_ge_mm_som_gsea_Reactome_Pathways_2024_pval0.05\n"
     ]
    },
    {
     "name": "stderr",
     "output_type": "stream",
     "text": [
      "                                                                                \r"
     ]
    },
    {
     "name": "stdout",
     "output_type": "stream",
     "text": [
      "Saved: gs://ot-team/polina/pathway_propagation_validation_v2/gsea_output_spark/Reactome_Pathways_2024/EFO_0004142_ge_mm_som_gsea_Reactome_Pathways_2024_pval0.05\n"
     ]
    },
    {
     "name": "stderr",
     "output_type": "stream",
     "text": [
      "                                                                                \r"
     ]
    },
    {
     "name": "stdout",
     "output_type": "stream",
     "text": [
      "Saved: gs://ot-team/polina/pathway_propagation_validation_v2/gsea_output_spark/Reactome_Pathways_2024/EFO_0005952_ge_mm_som_gsea_Reactome_Pathways_2024_pval0.05\n"
     ]
    },
    {
     "name": "stderr",
     "output_type": "stream",
     "text": [
      "                                                                                \r"
     ]
    },
    {
     "name": "stdout",
     "output_type": "stream",
     "text": [
      "Saved: gs://ot-team/polina/pathway_propagation_validation_v2/gsea_output_spark/Reactome_Pathways_2024/EFO_0009606_ge_mm_gsea_Reactome_Pathways_2024_pval0.05\n"
     ]
    },
    {
     "name": "stderr",
     "output_type": "stream",
     "text": [
      "                                                                                \r"
     ]
    },
    {
     "name": "stdout",
     "output_type": "stream",
     "text": [
      "Saved: gs://ot-team/polina/pathway_propagation_validation_v2/gsea_output_spark/Reactome_Pathways_2024/EFO_1001901_ge_mm_som_gsea_Reactome_Pathways_2024_pval0.05\n"
     ]
    },
    {
     "name": "stderr",
     "output_type": "stream",
     "text": [
      "                                                                                \r"
     ]
    },
    {
     "name": "stdout",
     "output_type": "stream",
     "text": [
      "Saved: gs://ot-team/polina/pathway_propagation_validation_v2/gsea_output_spark/Reactome_Pathways_2024/MONDO_0001657_ge_mm_som_gsea_Reactome_Pathways_2024_pval0.05\n"
     ]
    },
    {
     "name": "stderr",
     "output_type": "stream",
     "text": [
      "                                                                                \r"
     ]
    },
    {
     "name": "stdout",
     "output_type": "stream",
     "text": [
      "Saved: gs://ot-team/polina/pathway_propagation_validation_v2/gsea_output_spark/Reactome_Pathways_2024/MONDO_0002367_ge_mm_som_gsea_Reactome_Pathways_2024_pval0.05\n"
     ]
    },
    {
     "name": "stderr",
     "output_type": "stream",
     "text": [
      "                                                                                \r"
     ]
    },
    {
     "name": "stdout",
     "output_type": "stream",
     "text": [
      "Saved: gs://ot-team/polina/pathway_propagation_validation_v2/gsea_output_spark/Reactome_Pathways_2024/MONDO_0004975_ge_mm_gsea_Reactome_Pathways_2024_pval0.05\n"
     ]
    },
    {
     "name": "stderr",
     "output_type": "stream",
     "text": [
      "                                                                                \r"
     ]
    },
    {
     "name": "stdout",
     "output_type": "stream",
     "text": [
      "Saved: gs://ot-team/polina/pathway_propagation_validation_v2/gsea_output_spark/Reactome_Pathways_2024/MONDO_0004976_ge_mm_gsea_Reactome_Pathways_2024_pval0.05\n"
     ]
    },
    {
     "name": "stderr",
     "output_type": "stream",
     "text": [
      "                                                                                \r"
     ]
    },
    {
     "name": "stdout",
     "output_type": "stream",
     "text": [
      "Saved: gs://ot-team/polina/pathway_propagation_validation_v2/gsea_output_spark/Reactome_Pathways_2024/MONDO_0004979_ge_mm_gsea_Reactome_Pathways_2024_pval0.05\n"
     ]
    },
    {
     "name": "stderr",
     "output_type": "stream",
     "text": [
      "                                                                                \r"
     ]
    },
    {
     "name": "stdout",
     "output_type": "stream",
     "text": [
      "Saved: gs://ot-team/polina/pathway_propagation_validation_v2/gsea_output_spark/Reactome_Pathways_2024/MONDO_0004985_ge_mm_gsea_Reactome_Pathways_2024_pval0.05\n"
     ]
    },
    {
     "name": "stderr",
     "output_type": "stream",
     "text": [
      "                                                                                \r"
     ]
    },
    {
     "name": "stdout",
     "output_type": "stream",
     "text": [
      "Saved: gs://ot-team/polina/pathway_propagation_validation_v2/gsea_output_spark/Reactome_Pathways_2024/MONDO_0005147_ge_mm_gsea_Reactome_Pathways_2024_pval0.05\n"
     ]
    },
    {
     "name": "stderr",
     "output_type": "stream",
     "text": [
      "                                                                                \r"
     ]
    },
    {
     "name": "stdout",
     "output_type": "stream",
     "text": [
      "Saved: gs://ot-team/polina/pathway_propagation_validation_v2/gsea_output_spark/Reactome_Pathways_2024/MONDO_0005178_ge_mm_gsea_Reactome_Pathways_2024_pval0.05\n"
     ]
    },
    {
     "name": "stderr",
     "output_type": "stream",
     "text": [
      "                                                                                \r"
     ]
    },
    {
     "name": "stdout",
     "output_type": "stream",
     "text": [
      "Saved: gs://ot-team/polina/pathway_propagation_validation_v2/gsea_output_spark/Reactome_Pathways_2024/MONDO_0005180_ge_mm_gsea_Reactome_Pathways_2024_pval0.05\n"
     ]
    },
    {
     "name": "stderr",
     "output_type": "stream",
     "text": [
      "                                                                                \r"
     ]
    },
    {
     "name": "stdout",
     "output_type": "stream",
     "text": [
      "Saved: gs://ot-team/polina/pathway_propagation_validation_v2/gsea_output_spark/Reactome_Pathways_2024/MONDO_0005277_ge_mm_gsea_Reactome_Pathways_2024_pval0.05\n"
     ]
    },
    {
     "name": "stderr",
     "output_type": "stream",
     "text": [
      "                                                                                \r"
     ]
    },
    {
     "name": "stdout",
     "output_type": "stream",
     "text": [
      "Saved: gs://ot-team/polina/pathway_propagation_validation_v2/gsea_output_spark/Reactome_Pathways_2024/MONDO_0005301_ge_mm_gsea_Reactome_Pathways_2024_pval0.05\n"
     ]
    },
    {
     "name": "stderr",
     "output_type": "stream",
     "text": [
      "                                                                                \r"
     ]
    },
    {
     "name": "stdout",
     "output_type": "stream",
     "text": [
      "Saved: gs://ot-team/polina/pathway_propagation_validation_v2/gsea_output_spark/Reactome_Pathways_2024/MONDO_0007915_ge_mm_gsea_Reactome_Pathways_2024_pval0.05\n"
     ]
    },
    {
     "name": "stderr",
     "output_type": "stream",
     "text": [
      "                                                                                \r"
     ]
    },
    {
     "name": "stdout",
     "output_type": "stream",
     "text": [
      "Saved: gs://ot-team/polina/pathway_propagation_validation_v2/gsea_output_spark/Reactome_Pathways_2024/MONDO_0008170_ge_mm_som_gsea_Reactome_Pathways_2024_pval0.05\n"
     ]
    },
    {
     "name": "stderr",
     "output_type": "stream",
     "text": [
      "                                                                                \r"
     ]
    },
    {
     "name": "stdout",
     "output_type": "stream",
     "text": [
      "Saved: gs://ot-team/polina/pathway_propagation_validation_v2/gsea_output_spark/Reactome_Pathways_2024/MONDO_0008315_ge_mm_som_gsea_Reactome_Pathways_2024_pval0.05\n"
     ]
    },
    {
     "name": "stderr",
     "output_type": "stream",
     "text": [
      "                                                                                \r"
     ]
    },
    {
     "name": "stdout",
     "output_type": "stream",
     "text": [
      "Saved: gs://ot-team/polina/pathway_propagation_validation_v2/gsea_output_spark/Reactome_Pathways_2024/MONDO_0011719_ge_mm_som_gsea_Reactome_Pathways_2024_pval0.05\n"
     ]
    }
   ],
   "source": [
    "calculate_propagated_targets_with_terms(\n",
    "    input_gcs_dir = \"gs://ot-team/polina/pathway_propagation_validation_v2/gsea_output\", \n",
    "    output_gcs_dir = \"gs://ot-team/polina/pathway_propagation_validation_v2/gsea_output_spark\", \n",
    "    folders_to_process = [\"Reactome_Pathways_2024\"], \n",
    "    target_table = target_names\n",
    ")"
   ]
  },
  {
   "cell_type": "code",
   "execution_count": 8,
   "id": "4f35b93e",
   "metadata": {},
   "outputs": [
    {
     "name": "stderr",
     "output_type": "stream",
     "text": [
      "                                                                                \r"
     ]
    },
    {
     "name": "stdout",
     "output_type": "stream",
     "text": [
      "Saved: gs://ot-team/polina/pathway_propagation_validation_v2/gsea_output_spark/WikiPathways_2024_Human/EFO_0000095_ge_mm_som_gsea_WikiPathways_2024_Human_pval0.05\n"
     ]
    },
    {
     "name": "stderr",
     "output_type": "stream",
     "text": [
      "                                                                                \r"
     ]
    },
    {
     "name": "stdout",
     "output_type": "stream",
     "text": [
      "Saved: gs://ot-team/polina/pathway_propagation_validation_v2/gsea_output_spark/WikiPathways_2024_Human/EFO_0000222_ge_mm_som_gsea_WikiPathways_2024_Human_pval0.05\n"
     ]
    },
    {
     "name": "stderr",
     "output_type": "stream",
     "text": [
      "                                                                                \r"
     ]
    },
    {
     "name": "stdout",
     "output_type": "stream",
     "text": [
      "Saved: gs://ot-team/polina/pathway_propagation_validation_v2/gsea_output_spark/WikiPathways_2024_Human/EFO_0000183_ge_mm_som_gsea_WikiPathways_2024_Human_pval0.05\n"
     ]
    },
    {
     "name": "stderr",
     "output_type": "stream",
     "text": [
      "                                                                                \r"
     ]
    },
    {
     "name": "stdout",
     "output_type": "stream",
     "text": [
      "Saved: gs://ot-team/polina/pathway_propagation_validation_v2/gsea_output_spark/WikiPathways_2024_Human/EFO_0000274_ge_mm_gsea_WikiPathways_2024_Human_pval0.05\n"
     ]
    },
    {
     "name": "stderr",
     "output_type": "stream",
     "text": [
      "                                                                                \r"
     ]
    },
    {
     "name": "stdout",
     "output_type": "stream",
     "text": [
      "Saved: gs://ot-team/polina/pathway_propagation_validation_v2/gsea_output_spark/WikiPathways_2024_Human/EFO_0000341_ge_mm_gsea_WikiPathways_2024_Human_pval0.05\n"
     ]
    },
    {
     "name": "stderr",
     "output_type": "stream",
     "text": [
      "                                                                                \r"
     ]
    },
    {
     "name": "stdout",
     "output_type": "stream",
     "text": [
      "Saved: gs://ot-team/polina/pathway_propagation_validation_v2/gsea_output_spark/WikiPathways_2024_Human/EFO_0000275_ge_mm_gsea_WikiPathways_2024_Human_pval0.05\n"
     ]
    },
    {
     "name": "stderr",
     "output_type": "stream",
     "text": [
      "                                                                                \r"
     ]
    },
    {
     "name": "stdout",
     "output_type": "stream",
     "text": [
      "Saved: gs://ot-team/polina/pathway_propagation_validation_v2/gsea_output_spark/WikiPathways_2024_Human/EFO_0000384_ge_mm_gsea_WikiPathways_2024_Human_pval0.05\n"
     ]
    },
    {
     "name": "stderr",
     "output_type": "stream",
     "text": [
      "                                                                                \r"
     ]
    },
    {
     "name": "stdout",
     "output_type": "stream",
     "text": [
      "Saved: gs://ot-team/polina/pathway_propagation_validation_v2/gsea_output_spark/WikiPathways_2024_Human/EFO_0000474_ge_mm_gsea_WikiPathways_2024_Human_pval0.05\n"
     ]
    },
    {
     "name": "stderr",
     "output_type": "stream",
     "text": [
      "                                                                                \r"
     ]
    },
    {
     "name": "stdout",
     "output_type": "stream",
     "text": [
      "Saved: gs://ot-team/polina/pathway_propagation_validation_v2/gsea_output_spark/WikiPathways_2024_Human/EFO_0000403_ge_mm_som_gsea_WikiPathways_2024_Human_pval0.05\n"
     ]
    },
    {
     "name": "stderr",
     "output_type": "stream",
     "text": [
      "                                                                                \r"
     ]
    },
    {
     "name": "stdout",
     "output_type": "stream",
     "text": [
      "Saved: gs://ot-team/polina/pathway_propagation_validation_v2/gsea_output_spark/WikiPathways_2024_Human/EFO_0000519_ge_mm_som_gsea_WikiPathways_2024_Human_pval0.05\n"
     ]
    },
    {
     "name": "stderr",
     "output_type": "stream",
     "text": [
      "                                                                                \r"
     ]
    },
    {
     "name": "stdout",
     "output_type": "stream",
     "text": [
      "Saved: gs://ot-team/polina/pathway_propagation_validation_v2/gsea_output_spark/WikiPathways_2024_Human/EFO_0000565_ge_mm_som_gsea_WikiPathways_2024_Human_pval0.05\n"
     ]
    },
    {
     "name": "stderr",
     "output_type": "stream",
     "text": [
      "                                                                                \r"
     ]
    },
    {
     "name": "stdout",
     "output_type": "stream",
     "text": [
      "Saved: gs://ot-team/polina/pathway_propagation_validation_v2/gsea_output_spark/WikiPathways_2024_Human/EFO_0000574_ge_mm_som_gsea_WikiPathways_2024_Human_pval0.05\n"
     ]
    },
    {
     "name": "stderr",
     "output_type": "stream",
     "text": [
      "                                                                                \r"
     ]
    },
    {
     "name": "stdout",
     "output_type": "stream",
     "text": [
      "Saved: gs://ot-team/polina/pathway_propagation_validation_v2/gsea_output_spark/WikiPathways_2024_Human/EFO_0000612_ge_mm_gsea_WikiPathways_2024_Human_pval0.05\n"
     ]
    },
    {
     "name": "stderr",
     "output_type": "stream",
     "text": [
      "                                                                                \r"
     ]
    },
    {
     "name": "stdout",
     "output_type": "stream",
     "text": [
      "Saved: gs://ot-team/polina/pathway_propagation_validation_v2/gsea_output_spark/WikiPathways_2024_Human/EFO_0000637_ge_mm_som_gsea_WikiPathways_2024_Human_pval0.05\n"
     ]
    },
    {
     "name": "stderr",
     "output_type": "stream",
     "text": [
      "                                                                                \r"
     ]
    },
    {
     "name": "stdout",
     "output_type": "stream",
     "text": [
      "Saved: gs://ot-team/polina/pathway_propagation_validation_v2/gsea_output_spark/WikiPathways_2024_Human/EFO_0000676_ge_mm_gsea_WikiPathways_2024_Human_pval0.05\n"
     ]
    },
    {
     "name": "stderr",
     "output_type": "stream",
     "text": [
      "                                                                                \r"
     ]
    },
    {
     "name": "stdout",
     "output_type": "stream",
     "text": [
      "Saved: gs://ot-team/polina/pathway_propagation_validation_v2/gsea_output_spark/WikiPathways_2024_Human/EFO_0000685_ge_mm_gsea_WikiPathways_2024_Human_pval0.05\n"
     ]
    },
    {
     "name": "stderr",
     "output_type": "stream",
     "text": [
      "                                                                                \r"
     ]
    },
    {
     "name": "stdout",
     "output_type": "stream",
     "text": [
      "Saved: gs://ot-team/polina/pathway_propagation_validation_v2/gsea_output_spark/WikiPathways_2024_Human/EFO_0000702_ge_mm_som_gsea_WikiPathways_2024_Human_pval0.05\n"
     ]
    },
    {
     "name": "stderr",
     "output_type": "stream",
     "text": [
      "                                                                                \r"
     ]
    },
    {
     "name": "stdout",
     "output_type": "stream",
     "text": [
      "Saved: gs://ot-team/polina/pathway_propagation_validation_v2/gsea_output_spark/WikiPathways_2024_Human/EFO_0000729_ge_mm_gsea_WikiPathways_2024_Human_pval0.05\n"
     ]
    },
    {
     "name": "stderr",
     "output_type": "stream",
     "text": [
      "                                                                                \r"
     ]
    },
    {
     "name": "stdout",
     "output_type": "stream",
     "text": [
      "Saved: gs://ot-team/polina/pathway_propagation_validation_v2/gsea_output_spark/WikiPathways_2024_Human/EFO_0001073_ge_mm_gsea_WikiPathways_2024_Human_pval0.05\n"
     ]
    },
    {
     "name": "stderr",
     "output_type": "stream",
     "text": [
      "                                                                                \r"
     ]
    },
    {
     "name": "stdout",
     "output_type": "stream",
     "text": [
      "Saved: gs://ot-team/polina/pathway_propagation_validation_v2/gsea_output_spark/WikiPathways_2024_Human/EFO_0001378_ge_mm_som_gsea_WikiPathways_2024_Human_pval0.05\n"
     ]
    },
    {
     "name": "stderr",
     "output_type": "stream",
     "text": [
      "                                                                                \r"
     ]
    },
    {
     "name": "stdout",
     "output_type": "stream",
     "text": [
      "Saved: gs://ot-team/polina/pathway_propagation_validation_v2/gsea_output_spark/WikiPathways_2024_Human/EFO_0002429_ge_mm_som_gsea_WikiPathways_2024_Human_pval0.05\n"
     ]
    },
    {
     "name": "stderr",
     "output_type": "stream",
     "text": [
      "                                                                                \r"
     ]
    },
    {
     "name": "stdout",
     "output_type": "stream",
     "text": [
      "Saved: gs://ot-team/polina/pathway_propagation_validation_v2/gsea_output_spark/WikiPathways_2024_Human/EFO_0003060_ge_mm_som_gsea_WikiPathways_2024_Human_pval0.05\n"
     ]
    },
    {
     "name": "stderr",
     "output_type": "stream",
     "text": [
      "                                                                                \r"
     ]
    },
    {
     "name": "stdout",
     "output_type": "stream",
     "text": [
      "Saved: gs://ot-team/polina/pathway_propagation_validation_v2/gsea_output_spark/WikiPathways_2024_Human/EFO_0003144_ge_mm_gsea_WikiPathways_2024_Human_pval0.05\n"
     ]
    },
    {
     "name": "stderr",
     "output_type": "stream",
     "text": [
      "                                                                                \r"
     ]
    },
    {
     "name": "stdout",
     "output_type": "stream",
     "text": [
      "Saved: gs://ot-team/polina/pathway_propagation_validation_v2/gsea_output_spark/WikiPathways_2024_Human/EFO_0003758_ge_mm_gsea_WikiPathways_2024_Human_pval0.05\n"
     ]
    },
    {
     "name": "stderr",
     "output_type": "stream",
     "text": [
      "                                                                                \r"
     ]
    },
    {
     "name": "stdout",
     "output_type": "stream",
     "text": [
      "Saved: gs://ot-team/polina/pathway_propagation_validation_v2/gsea_output_spark/WikiPathways_2024_Human/EFO_0003833_ge_mm_som_gsea_WikiPathways_2024_Human_pval0.05\n"
     ]
    },
    {
     "name": "stderr",
     "output_type": "stream",
     "text": [
      "                                                                                \r"
     ]
    },
    {
     "name": "stdout",
     "output_type": "stream",
     "text": [
      "Saved: gs://ot-team/polina/pathway_propagation_validation_v2/gsea_output_spark/WikiPathways_2024_Human/EFO_0003869_ge_mm_som_gsea_WikiPathways_2024_Human_pval0.05\n"
     ]
    },
    {
     "name": "stderr",
     "output_type": "stream",
     "text": [
      "                                                                                \r"
     ]
    },
    {
     "name": "stdout",
     "output_type": "stream",
     "text": [
      "Saved: gs://ot-team/polina/pathway_propagation_validation_v2/gsea_output_spark/WikiPathways_2024_Human/EFO_0004142_ge_mm_som_gsea_WikiPathways_2024_Human_pval0.05\n"
     ]
    },
    {
     "name": "stderr",
     "output_type": "stream",
     "text": [
      "                                                                                \r"
     ]
    },
    {
     "name": "stdout",
     "output_type": "stream",
     "text": [
      "Saved: gs://ot-team/polina/pathway_propagation_validation_v2/gsea_output_spark/WikiPathways_2024_Human/EFO_0005952_ge_mm_som_gsea_WikiPathways_2024_Human_pval0.05\n"
     ]
    },
    {
     "name": "stderr",
     "output_type": "stream",
     "text": [
      "                                                                                \r"
     ]
    },
    {
     "name": "stdout",
     "output_type": "stream",
     "text": [
      "Saved: gs://ot-team/polina/pathway_propagation_validation_v2/gsea_output_spark/WikiPathways_2024_Human/EFO_0009606_ge_mm_gsea_WikiPathways_2024_Human_pval0.05\n"
     ]
    },
    {
     "name": "stderr",
     "output_type": "stream",
     "text": [
      "                                                                                \r"
     ]
    },
    {
     "name": "stdout",
     "output_type": "stream",
     "text": [
      "Saved: gs://ot-team/polina/pathway_propagation_validation_v2/gsea_output_spark/WikiPathways_2024_Human/EFO_1001231_ge_mm_gsea_WikiPathways_2024_Human_pval0.05\n"
     ]
    },
    {
     "name": "stderr",
     "output_type": "stream",
     "text": [
      "                                                                                \r"
     ]
    },
    {
     "name": "stdout",
     "output_type": "stream",
     "text": [
      "Saved: gs://ot-team/polina/pathway_propagation_validation_v2/gsea_output_spark/WikiPathways_2024_Human/EFO_1001901_ge_mm_som_gsea_WikiPathways_2024_Human_pval0.05\n"
     ]
    },
    {
     "name": "stderr",
     "output_type": "stream",
     "text": [
      "                                                                                \r"
     ]
    },
    {
     "name": "stdout",
     "output_type": "stream",
     "text": [
      "Saved: gs://ot-team/polina/pathway_propagation_validation_v2/gsea_output_spark/WikiPathways_2024_Human/MONDO_0001657_ge_mm_som_gsea_WikiPathways_2024_Human_pval0.05\n"
     ]
    },
    {
     "name": "stderr",
     "output_type": "stream",
     "text": [
      "                                                                                \r"
     ]
    },
    {
     "name": "stdout",
     "output_type": "stream",
     "text": [
      "Saved: gs://ot-team/polina/pathway_propagation_validation_v2/gsea_output_spark/WikiPathways_2024_Human/MONDO_0002367_ge_mm_som_gsea_WikiPathways_2024_Human_pval0.05\n"
     ]
    },
    {
     "name": "stderr",
     "output_type": "stream",
     "text": [
      "                                                                                \r"
     ]
    },
    {
     "name": "stdout",
     "output_type": "stream",
     "text": [
      "Saved: gs://ot-team/polina/pathway_propagation_validation_v2/gsea_output_spark/WikiPathways_2024_Human/MONDO_0004975_ge_mm_gsea_WikiPathways_2024_Human_pval0.05\n"
     ]
    },
    {
     "name": "stderr",
     "output_type": "stream",
     "text": [
      "                                                                                \r"
     ]
    },
    {
     "name": "stdout",
     "output_type": "stream",
     "text": [
      "Saved: gs://ot-team/polina/pathway_propagation_validation_v2/gsea_output_spark/WikiPathways_2024_Human/MONDO_0004976_ge_mm_gsea_WikiPathways_2024_Human_pval0.05\n"
     ]
    },
    {
     "name": "stderr",
     "output_type": "stream",
     "text": [
      "                                                                                \r"
     ]
    },
    {
     "name": "stdout",
     "output_type": "stream",
     "text": [
      "Saved: gs://ot-team/polina/pathway_propagation_validation_v2/gsea_output_spark/WikiPathways_2024_Human/MONDO_0004979_ge_mm_gsea_WikiPathways_2024_Human_pval0.05\n"
     ]
    },
    {
     "name": "stderr",
     "output_type": "stream",
     "text": [
      "                                                                                \r"
     ]
    },
    {
     "name": "stdout",
     "output_type": "stream",
     "text": [
      "Saved: gs://ot-team/polina/pathway_propagation_validation_v2/gsea_output_spark/WikiPathways_2024_Human/MONDO_0004985_ge_mm_gsea_WikiPathways_2024_Human_pval0.05\n"
     ]
    },
    {
     "name": "stderr",
     "output_type": "stream",
     "text": [
      "                                                                                \r"
     ]
    },
    {
     "name": "stdout",
     "output_type": "stream",
     "text": [
      "Saved: gs://ot-team/polina/pathway_propagation_validation_v2/gsea_output_spark/WikiPathways_2024_Human/MONDO_0005147_ge_mm_gsea_WikiPathways_2024_Human_pval0.05\n"
     ]
    },
    {
     "name": "stderr",
     "output_type": "stream",
     "text": [
      "                                                                                \r"
     ]
    },
    {
     "name": "stdout",
     "output_type": "stream",
     "text": [
      "Saved: gs://ot-team/polina/pathway_propagation_validation_v2/gsea_output_spark/WikiPathways_2024_Human/MONDO_0005178_ge_mm_gsea_WikiPathways_2024_Human_pval0.05\n"
     ]
    },
    {
     "name": "stderr",
     "output_type": "stream",
     "text": [
      "                                                                                \r"
     ]
    },
    {
     "name": "stdout",
     "output_type": "stream",
     "text": [
      "Saved: gs://ot-team/polina/pathway_propagation_validation_v2/gsea_output_spark/WikiPathways_2024_Human/MONDO_0005180_ge_mm_gsea_WikiPathways_2024_Human_pval0.05\n"
     ]
    },
    {
     "name": "stderr",
     "output_type": "stream",
     "text": [
      "                                                                                \r"
     ]
    },
    {
     "name": "stdout",
     "output_type": "stream",
     "text": [
      "Saved: gs://ot-team/polina/pathway_propagation_validation_v2/gsea_output_spark/WikiPathways_2024_Human/MONDO_0005277_ge_mm_gsea_WikiPathways_2024_Human_pval0.05\n"
     ]
    },
    {
     "name": "stderr",
     "output_type": "stream",
     "text": [
      "                                                                                \r"
     ]
    },
    {
     "name": "stdout",
     "output_type": "stream",
     "text": [
      "Saved: gs://ot-team/polina/pathway_propagation_validation_v2/gsea_output_spark/WikiPathways_2024_Human/MONDO_0005301_ge_mm_gsea_WikiPathways_2024_Human_pval0.05\n"
     ]
    },
    {
     "name": "stderr",
     "output_type": "stream",
     "text": [
      "                                                                                \r"
     ]
    },
    {
     "name": "stdout",
     "output_type": "stream",
     "text": [
      "Saved: gs://ot-team/polina/pathway_propagation_validation_v2/gsea_output_spark/WikiPathways_2024_Human/MONDO_0007915_ge_mm_gsea_WikiPathways_2024_Human_pval0.05\n"
     ]
    },
    {
     "name": "stderr",
     "output_type": "stream",
     "text": [
      "                                                                                \r"
     ]
    },
    {
     "name": "stdout",
     "output_type": "stream",
     "text": [
      "Saved: gs://ot-team/polina/pathway_propagation_validation_v2/gsea_output_spark/WikiPathways_2024_Human/MONDO_0008170_ge_mm_som_gsea_WikiPathways_2024_Human_pval0.05\n"
     ]
    },
    {
     "name": "stderr",
     "output_type": "stream",
     "text": [
      "                                                                                \r"
     ]
    },
    {
     "name": "stdout",
     "output_type": "stream",
     "text": [
      "Saved: gs://ot-team/polina/pathway_propagation_validation_v2/gsea_output_spark/WikiPathways_2024_Human/MONDO_0008315_ge_mm_som_gsea_WikiPathways_2024_Human_pval0.05\n"
     ]
    },
    {
     "name": "stderr",
     "output_type": "stream",
     "text": [
      "                                                                                \r"
     ]
    },
    {
     "name": "stdout",
     "output_type": "stream",
     "text": [
      "Saved: gs://ot-team/polina/pathway_propagation_validation_v2/gsea_output_spark/WikiPathways_2024_Human/MONDO_0011719_ge_mm_som_gsea_WikiPathways_2024_Human_pval0.05\n"
     ]
    },
    {
     "name": "stderr",
     "output_type": "stream",
     "text": [
      "                                                                                \r"
     ]
    },
    {
     "name": "stdout",
     "output_type": "stream",
     "text": [
      "Saved: gs://ot-team/polina/pathway_propagation_validation_v2/gsea_output_spark/WikiPathways_2024_Human/EFO_0000756_ge_mm_som_gsea_WikiPathways_2024_Human_pval0.05\n"
     ]
    }
   ],
   "source": [
    "calculate_propagated_targets_with_terms(\n",
    "    input_gcs_dir = \"gs://ot-team/polina/pathway_propagation_validation_v2/gsea_output\", \n",
    "    output_gcs_dir = \"gs://ot-team/polina/pathway_propagation_validation_v2/gsea_output_spark\", \n",
    "    folders_to_process = [\"WikiPathways_2024_Human\"], \n",
    "    target_table = target_names\n",
    ")"
   ]
  },
  {
   "cell_type": "code",
   "execution_count": 9,
   "id": "8f6f592c",
   "metadata": {},
   "outputs": [
    {
     "name": "stderr",
     "output_type": "stream",
     "text": [
      "                                                                                \r"
     ]
    },
    {
     "name": "stdout",
     "output_type": "stream",
     "text": [
      "Saved: gs://ot-team/polina/pathway_propagation_validation_v2/gsea_output_spark/GO_Biological_Process_2023/EFO_0000095_ge_mm_som_gsea_GO_Biological_Process_2023_pval0.05\n"
     ]
    },
    {
     "name": "stderr",
     "output_type": "stream",
     "text": [
      "                                                                                \r"
     ]
    },
    {
     "name": "stdout",
     "output_type": "stream",
     "text": [
      "Saved: gs://ot-team/polina/pathway_propagation_validation_v2/gsea_output_spark/GO_Biological_Process_2023/EFO_0000183_ge_mm_som_gsea_GO_Biological_Process_2023_pval0.05\n"
     ]
    },
    {
     "name": "stderr",
     "output_type": "stream",
     "text": [
      "                                                                                \r"
     ]
    },
    {
     "name": "stdout",
     "output_type": "stream",
     "text": [
      "Saved: gs://ot-team/polina/pathway_propagation_validation_v2/gsea_output_spark/GO_Biological_Process_2023/EFO_0000222_ge_mm_som_gsea_GO_Biological_Process_2023_pval0.05\n"
     ]
    },
    {
     "name": "stderr",
     "output_type": "stream",
     "text": [
      "                                                                                \r"
     ]
    },
    {
     "name": "stdout",
     "output_type": "stream",
     "text": [
      "Saved: gs://ot-team/polina/pathway_propagation_validation_v2/gsea_output_spark/GO_Biological_Process_2023/EFO_0000274_ge_mm_gsea_GO_Biological_Process_2023_pval0.05\n"
     ]
    },
    {
     "name": "stderr",
     "output_type": "stream",
     "text": [
      "                                                                                \r"
     ]
    },
    {
     "name": "stdout",
     "output_type": "stream",
     "text": [
      "Saved: gs://ot-team/polina/pathway_propagation_validation_v2/gsea_output_spark/GO_Biological_Process_2023/EFO_0000275_ge_mm_gsea_GO_Biological_Process_2023_pval0.05\n"
     ]
    },
    {
     "name": "stderr",
     "output_type": "stream",
     "text": [
      "                                                                                \r"
     ]
    },
    {
     "name": "stdout",
     "output_type": "stream",
     "text": [
      "Saved: gs://ot-team/polina/pathway_propagation_validation_v2/gsea_output_spark/GO_Biological_Process_2023/EFO_0000341_ge_mm_gsea_GO_Biological_Process_2023_pval0.05\n"
     ]
    },
    {
     "name": "stderr",
     "output_type": "stream",
     "text": [
      "                                                                                \r"
     ]
    },
    {
     "name": "stdout",
     "output_type": "stream",
     "text": [
      "Saved: gs://ot-team/polina/pathway_propagation_validation_v2/gsea_output_spark/GO_Biological_Process_2023/EFO_0000384_ge_mm_gsea_GO_Biological_Process_2023_pval0.05\n"
     ]
    },
    {
     "name": "stderr",
     "output_type": "stream",
     "text": [
      "                                                                                \r"
     ]
    },
    {
     "name": "stdout",
     "output_type": "stream",
     "text": [
      "Saved: gs://ot-team/polina/pathway_propagation_validation_v2/gsea_output_spark/GO_Biological_Process_2023/EFO_0000403_ge_mm_som_gsea_GO_Biological_Process_2023_pval0.05\n"
     ]
    },
    {
     "name": "stderr",
     "output_type": "stream",
     "text": [
      "                                                                                \r"
     ]
    },
    {
     "name": "stdout",
     "output_type": "stream",
     "text": [
      "Saved: gs://ot-team/polina/pathway_propagation_validation_v2/gsea_output_spark/GO_Biological_Process_2023/EFO_0000474_ge_mm_gsea_GO_Biological_Process_2023_pval0.05\n"
     ]
    },
    {
     "name": "stderr",
     "output_type": "stream",
     "text": [
      "                                                                                \r"
     ]
    },
    {
     "name": "stdout",
     "output_type": "stream",
     "text": [
      "Saved: gs://ot-team/polina/pathway_propagation_validation_v2/gsea_output_spark/GO_Biological_Process_2023/EFO_0000519_ge_mm_som_gsea_GO_Biological_Process_2023_pval0.05\n"
     ]
    },
    {
     "name": "stderr",
     "output_type": "stream",
     "text": [
      "                                                                                \r"
     ]
    },
    {
     "name": "stdout",
     "output_type": "stream",
     "text": [
      "Saved: gs://ot-team/polina/pathway_propagation_validation_v2/gsea_output_spark/GO_Biological_Process_2023/EFO_0000565_ge_mm_som_gsea_GO_Biological_Process_2023_pval0.05\n"
     ]
    },
    {
     "name": "stderr",
     "output_type": "stream",
     "text": [
      "                                                                                \r"
     ]
    },
    {
     "name": "stdout",
     "output_type": "stream",
     "text": [
      "Saved: gs://ot-team/polina/pathway_propagation_validation_v2/gsea_output_spark/GO_Biological_Process_2023/EFO_0000574_ge_mm_som_gsea_GO_Biological_Process_2023_pval0.05\n"
     ]
    },
    {
     "name": "stderr",
     "output_type": "stream",
     "text": [
      "                                                                                \r"
     ]
    },
    {
     "name": "stdout",
     "output_type": "stream",
     "text": [
      "Saved: gs://ot-team/polina/pathway_propagation_validation_v2/gsea_output_spark/GO_Biological_Process_2023/EFO_0000612_ge_mm_gsea_GO_Biological_Process_2023_pval0.05\n"
     ]
    },
    {
     "name": "stderr",
     "output_type": "stream",
     "text": [
      "                                                                                \r"
     ]
    },
    {
     "name": "stdout",
     "output_type": "stream",
     "text": [
      "Saved: gs://ot-team/polina/pathway_propagation_validation_v2/gsea_output_spark/GO_Biological_Process_2023/EFO_0000637_ge_mm_som_gsea_GO_Biological_Process_2023_pval0.05\n"
     ]
    },
    {
     "name": "stderr",
     "output_type": "stream",
     "text": [
      "                                                                                \r"
     ]
    },
    {
     "name": "stdout",
     "output_type": "stream",
     "text": [
      "Saved: gs://ot-team/polina/pathway_propagation_validation_v2/gsea_output_spark/GO_Biological_Process_2023/EFO_0000676_ge_mm_gsea_GO_Biological_Process_2023_pval0.05\n"
     ]
    },
    {
     "name": "stderr",
     "output_type": "stream",
     "text": [
      "                                                                                \r"
     ]
    },
    {
     "name": "stdout",
     "output_type": "stream",
     "text": [
      "Saved: gs://ot-team/polina/pathway_propagation_validation_v2/gsea_output_spark/GO_Biological_Process_2023/EFO_0000685_ge_mm_gsea_GO_Biological_Process_2023_pval0.05\n"
     ]
    },
    {
     "name": "stderr",
     "output_type": "stream",
     "text": [
      "                                                                                \r"
     ]
    },
    {
     "name": "stdout",
     "output_type": "stream",
     "text": [
      "Saved: gs://ot-team/polina/pathway_propagation_validation_v2/gsea_output_spark/GO_Biological_Process_2023/EFO_0000702_ge_mm_som_gsea_GO_Biological_Process_2023_pval0.05\n"
     ]
    },
    {
     "name": "stderr",
     "output_type": "stream",
     "text": [
      "                                                                                \r"
     ]
    },
    {
     "name": "stdout",
     "output_type": "stream",
     "text": [
      "Saved: gs://ot-team/polina/pathway_propagation_validation_v2/gsea_output_spark/GO_Biological_Process_2023/EFO_0000729_ge_mm_gsea_GO_Biological_Process_2023_pval0.05\n"
     ]
    },
    {
     "name": "stderr",
     "output_type": "stream",
     "text": [
      "                                                                                \r"
     ]
    },
    {
     "name": "stdout",
     "output_type": "stream",
     "text": [
      "Saved: gs://ot-team/polina/pathway_propagation_validation_v2/gsea_output_spark/GO_Biological_Process_2023/EFO_0001073_ge_mm_gsea_GO_Biological_Process_2023_pval0.05\n"
     ]
    },
    {
     "name": "stderr",
     "output_type": "stream",
     "text": [
      "                                                                                \r"
     ]
    },
    {
     "name": "stdout",
     "output_type": "stream",
     "text": [
      "Saved: gs://ot-team/polina/pathway_propagation_validation_v2/gsea_output_spark/GO_Biological_Process_2023/EFO_0001378_ge_mm_som_gsea_GO_Biological_Process_2023_pval0.05\n"
     ]
    },
    {
     "name": "stderr",
     "output_type": "stream",
     "text": [
      "                                                                                \r"
     ]
    },
    {
     "name": "stdout",
     "output_type": "stream",
     "text": [
      "Saved: gs://ot-team/polina/pathway_propagation_validation_v2/gsea_output_spark/GO_Biological_Process_2023/EFO_0002429_ge_mm_som_gsea_GO_Biological_Process_2023_pval0.05\n"
     ]
    },
    {
     "name": "stderr",
     "output_type": "stream",
     "text": [
      "                                                                                \r"
     ]
    },
    {
     "name": "stdout",
     "output_type": "stream",
     "text": [
      "Saved: gs://ot-team/polina/pathway_propagation_validation_v2/gsea_output_spark/GO_Biological_Process_2023/EFO_0003060_ge_mm_som_gsea_GO_Biological_Process_2023_pval0.05\n"
     ]
    },
    {
     "name": "stderr",
     "output_type": "stream",
     "text": [
      "                                                                                \r"
     ]
    },
    {
     "name": "stdout",
     "output_type": "stream",
     "text": [
      "Saved: gs://ot-team/polina/pathway_propagation_validation_v2/gsea_output_spark/GO_Biological_Process_2023/EFO_0003144_ge_mm_gsea_GO_Biological_Process_2023_pval0.05\n"
     ]
    },
    {
     "name": "stderr",
     "output_type": "stream",
     "text": [
      "                                                                                \r"
     ]
    },
    {
     "name": "stdout",
     "output_type": "stream",
     "text": [
      "Saved: gs://ot-team/polina/pathway_propagation_validation_v2/gsea_output_spark/GO_Biological_Process_2023/EFO_0003758_ge_mm_gsea_GO_Biological_Process_2023_pval0.05\n"
     ]
    },
    {
     "name": "stderr",
     "output_type": "stream",
     "text": [
      "                                                                                \r"
     ]
    },
    {
     "name": "stdout",
     "output_type": "stream",
     "text": [
      "Saved: gs://ot-team/polina/pathway_propagation_validation_v2/gsea_output_spark/GO_Biological_Process_2023/EFO_0003833_ge_mm_som_gsea_GO_Biological_Process_2023_pval0.05\n"
     ]
    },
    {
     "name": "stderr",
     "output_type": "stream",
     "text": [
      "                                                                                \r"
     ]
    },
    {
     "name": "stdout",
     "output_type": "stream",
     "text": [
      "Saved: gs://ot-team/polina/pathway_propagation_validation_v2/gsea_output_spark/GO_Biological_Process_2023/EFO_0004142_ge_mm_som_gsea_GO_Biological_Process_2023_pval0.05\n"
     ]
    },
    {
     "name": "stderr",
     "output_type": "stream",
     "text": [
      "                                                                                \r"
     ]
    },
    {
     "name": "stdout",
     "output_type": "stream",
     "text": [
      "Saved: gs://ot-team/polina/pathway_propagation_validation_v2/gsea_output_spark/GO_Biological_Process_2023/EFO_0003869_ge_mm_som_gsea_GO_Biological_Process_2023_pval0.05\n"
     ]
    },
    {
     "name": "stderr",
     "output_type": "stream",
     "text": [
      "                                                                                \r"
     ]
    },
    {
     "name": "stdout",
     "output_type": "stream",
     "text": [
      "Saved: gs://ot-team/polina/pathway_propagation_validation_v2/gsea_output_spark/GO_Biological_Process_2023/EFO_0005952_ge_mm_som_gsea_GO_Biological_Process_2023_pval0.05\n"
     ]
    },
    {
     "name": "stderr",
     "output_type": "stream",
     "text": [
      "                                                                                \r"
     ]
    },
    {
     "name": "stdout",
     "output_type": "stream",
     "text": [
      "Saved: gs://ot-team/polina/pathway_propagation_validation_v2/gsea_output_spark/GO_Biological_Process_2023/EFO_1001231_ge_mm_gsea_GO_Biological_Process_2023_pval0.05\n"
     ]
    },
    {
     "name": "stderr",
     "output_type": "stream",
     "text": [
      "                                                                                \r"
     ]
    },
    {
     "name": "stdout",
     "output_type": "stream",
     "text": [
      "Saved: gs://ot-team/polina/pathway_propagation_validation_v2/gsea_output_spark/GO_Biological_Process_2023/EFO_0009606_ge_mm_gsea_GO_Biological_Process_2023_pval0.05\n"
     ]
    },
    {
     "name": "stderr",
     "output_type": "stream",
     "text": [
      "                                                                                \r"
     ]
    },
    {
     "name": "stdout",
     "output_type": "stream",
     "text": [
      "Saved: gs://ot-team/polina/pathway_propagation_validation_v2/gsea_output_spark/GO_Biological_Process_2023/EFO_1001901_ge_mm_som_gsea_GO_Biological_Process_2023_pval0.05\n"
     ]
    },
    {
     "name": "stderr",
     "output_type": "stream",
     "text": [
      "                                                                                \r"
     ]
    },
    {
     "name": "stdout",
     "output_type": "stream",
     "text": [
      "Saved: gs://ot-team/polina/pathway_propagation_validation_v2/gsea_output_spark/GO_Biological_Process_2023/MONDO_0001657_ge_mm_som_gsea_GO_Biological_Process_2023_pval0.05\n"
     ]
    },
    {
     "name": "stderr",
     "output_type": "stream",
     "text": [
      "                                                                                \r"
     ]
    },
    {
     "name": "stdout",
     "output_type": "stream",
     "text": [
      "Saved: gs://ot-team/polina/pathway_propagation_validation_v2/gsea_output_spark/GO_Biological_Process_2023/MONDO_0002367_ge_mm_som_gsea_GO_Biological_Process_2023_pval0.05\n"
     ]
    },
    {
     "name": "stderr",
     "output_type": "stream",
     "text": [
      "                                                                                \r"
     ]
    },
    {
     "name": "stdout",
     "output_type": "stream",
     "text": [
      "Saved: gs://ot-team/polina/pathway_propagation_validation_v2/gsea_output_spark/GO_Biological_Process_2023/MONDO_0004975_ge_mm_gsea_GO_Biological_Process_2023_pval0.05\n"
     ]
    },
    {
     "name": "stderr",
     "output_type": "stream",
     "text": [
      "                                                                                \r"
     ]
    },
    {
     "name": "stdout",
     "output_type": "stream",
     "text": [
      "Saved: gs://ot-team/polina/pathway_propagation_validation_v2/gsea_output_spark/GO_Biological_Process_2023/MONDO_0004976_ge_mm_gsea_GO_Biological_Process_2023_pval0.05\n"
     ]
    },
    {
     "name": "stderr",
     "output_type": "stream",
     "text": [
      "                                                                                \r"
     ]
    },
    {
     "name": "stdout",
     "output_type": "stream",
     "text": [
      "Saved: gs://ot-team/polina/pathway_propagation_validation_v2/gsea_output_spark/GO_Biological_Process_2023/MONDO_0004979_ge_mm_gsea_GO_Biological_Process_2023_pval0.05\n"
     ]
    },
    {
     "name": "stderr",
     "output_type": "stream",
     "text": [
      "                                                                                \r"
     ]
    },
    {
     "name": "stdout",
     "output_type": "stream",
     "text": [
      "Saved: gs://ot-team/polina/pathway_propagation_validation_v2/gsea_output_spark/GO_Biological_Process_2023/MONDO_0004985_ge_mm_gsea_GO_Biological_Process_2023_pval0.05\n"
     ]
    },
    {
     "name": "stderr",
     "output_type": "stream",
     "text": [
      "                                                                                \r"
     ]
    },
    {
     "name": "stdout",
     "output_type": "stream",
     "text": [
      "Saved: gs://ot-team/polina/pathway_propagation_validation_v2/gsea_output_spark/GO_Biological_Process_2023/MONDO_0005147_ge_mm_gsea_GO_Biological_Process_2023_pval0.05\n"
     ]
    },
    {
     "name": "stderr",
     "output_type": "stream",
     "text": [
      "                                                                                \r"
     ]
    },
    {
     "name": "stdout",
     "output_type": "stream",
     "text": [
      "Saved: gs://ot-team/polina/pathway_propagation_validation_v2/gsea_output_spark/GO_Biological_Process_2023/MONDO_0005178_ge_mm_gsea_GO_Biological_Process_2023_pval0.05\n"
     ]
    },
    {
     "name": "stderr",
     "output_type": "stream",
     "text": [
      "                                                                                \r"
     ]
    },
    {
     "name": "stdout",
     "output_type": "stream",
     "text": [
      "Saved: gs://ot-team/polina/pathway_propagation_validation_v2/gsea_output_spark/GO_Biological_Process_2023/MONDO_0005180_ge_mm_gsea_GO_Biological_Process_2023_pval0.05\n"
     ]
    },
    {
     "name": "stderr",
     "output_type": "stream",
     "text": [
      "                                                                                \r"
     ]
    },
    {
     "name": "stdout",
     "output_type": "stream",
     "text": [
      "Saved: gs://ot-team/polina/pathway_propagation_validation_v2/gsea_output_spark/GO_Biological_Process_2023/MONDO_0005277_ge_mm_gsea_GO_Biological_Process_2023_pval0.05\n"
     ]
    },
    {
     "name": "stderr",
     "output_type": "stream",
     "text": [
      "                                                                                \r"
     ]
    },
    {
     "name": "stdout",
     "output_type": "stream",
     "text": [
      "Saved: gs://ot-team/polina/pathway_propagation_validation_v2/gsea_output_spark/GO_Biological_Process_2023/MONDO_0005301_ge_mm_gsea_GO_Biological_Process_2023_pval0.05\n"
     ]
    },
    {
     "name": "stderr",
     "output_type": "stream",
     "text": [
      "                                                                                \r"
     ]
    },
    {
     "name": "stdout",
     "output_type": "stream",
     "text": [
      "Saved: gs://ot-team/polina/pathway_propagation_validation_v2/gsea_output_spark/GO_Biological_Process_2023/MONDO_0007915_ge_mm_gsea_GO_Biological_Process_2023_pval0.05\n"
     ]
    },
    {
     "name": "stderr",
     "output_type": "stream",
     "text": [
      "                                                                                \r"
     ]
    },
    {
     "name": "stdout",
     "output_type": "stream",
     "text": [
      "Saved: gs://ot-team/polina/pathway_propagation_validation_v2/gsea_output_spark/GO_Biological_Process_2023/MONDO_0008170_ge_mm_som_gsea_GO_Biological_Process_2023_pval0.05\n"
     ]
    },
    {
     "name": "stderr",
     "output_type": "stream",
     "text": [
      "                                                                                \r"
     ]
    },
    {
     "name": "stdout",
     "output_type": "stream",
     "text": [
      "Saved: gs://ot-team/polina/pathway_propagation_validation_v2/gsea_output_spark/GO_Biological_Process_2023/MONDO_0008315_ge_mm_som_gsea_GO_Biological_Process_2023_pval0.05\n"
     ]
    },
    {
     "name": "stderr",
     "output_type": "stream",
     "text": [
      "                                                                                \r"
     ]
    },
    {
     "name": "stdout",
     "output_type": "stream",
     "text": [
      "Saved: gs://ot-team/polina/pathway_propagation_validation_v2/gsea_output_spark/GO_Biological_Process_2023/MONDO_0011719_ge_mm_som_gsea_GO_Biological_Process_2023_pval0.05\n"
     ]
    },
    {
     "name": "stderr",
     "output_type": "stream",
     "text": [
      "                                                                                \r"
     ]
    },
    {
     "name": "stdout",
     "output_type": "stream",
     "text": [
      "Saved: gs://ot-team/polina/pathway_propagation_validation_v2/gsea_output_spark/GO_Biological_Process_2023/EFO_0000756_ge_mm_som_gsea_GO_Biological_Process_2023_pval0.05\n"
     ]
    }
   ],
   "source": [
    "calculate_propagated_targets_with_terms(\n",
    "    input_gcs_dir = \"gs://ot-team/polina/pathway_propagation_validation_v2/gsea_output\", \n",
    "    output_gcs_dir = \"gs://ot-team/polina/pathway_propagation_validation_v2/gsea_output_spark\", \n",
    "    folders_to_process = [\"GO_Biological_Process_2023\"], \n",
    "    target_table = target_names\n",
    ")"
   ]
  },
  {
   "cell_type": "code",
   "execution_count": 10,
   "id": "52d65724",
   "metadata": {},
   "outputs": [],
   "source": [
    "spark_df = spark.read.parquet(\"gs://ot-team/polina/pathway_propagation_validation_v2/gsea_output_spark/GO_Biological_Process_2023/EFO_0000756_ge_mm_som_gsea_GO_Biological_Process_2023_pval0.05\")"
   ]
  },
  {
   "cell_type": "code",
   "execution_count": 11,
   "id": "f8d64b37",
   "metadata": {},
   "outputs": [
    {
     "name": "stdout",
     "output_type": "stream",
     "text": [
      "+--------------+-------------------------------------------------------------------------------------------------------------------------------------------------------------------------------------------------------------------------------------------------------------------+---------------+\n",
      "|approvedSymbol|terms                                                                                                                                                                                                                                                              |targetId       |\n",
      "+--------------+-------------------------------------------------------------------------------------------------------------------------------------------------------------------------------------------------------------------------------------------------------------------+---------------+\n",
      "|AATK          |[Protein Autophosphorylation (GO:0046777)]                                                                                                                                                                                                                         |ENSG00000181409|\n",
      "|ABCA7         |[Protein Modification Process (GO:0036211), Positive Regulation Of Multicellular Organismal Process (GO:0051240)]                                                                                                                                                  |ENSG00000064687|\n",
      "|ABCA8         |[Sphingolipid Biosynthetic Process (GO:0030148)]                                                                                                                                                                                                                   |ENSG00000141338|\n",
      "|ABCB11        |[Fatty Acid Metabolic Process (GO:0006631)]                                                                                                                                                                                                                        |ENSG00000073734|\n",
      "|ABCB4         |[Response To Organic Cyclic Compound (GO:0014070)]                                                                                                                                                                                                                 |ENSG00000005471|\n",
      "|ABCB8         |[Monoatomic Cation Transmembrane Transport (GO:0098655), Inorganic Cation Transmembrane Transport (GO:0098662)]                                                                                                                                                    |ENSG00000197150|\n",
      "|ABCC8         |[Monoatomic Cation Transmembrane Transport (GO:0098655), Potassium Ion Transmembrane Transport (GO:0071805), Potassium Ion Transport (GO:0006813), Inorganic Cation Transmembrane Transport (GO:0098662)]                                                          |ENSG00000006071|\n",
      "|ABCC9         |[Monoatomic Cation Transmembrane Transport (GO:0098655), Potassium Ion Transmembrane Transport (GO:0071805), Potassium Ion Transport (GO:0006813), Inorganic Cation Transmembrane Transport (GO:0098662), Potassium Ion Import Across Plasma Membrane (GO:1990573)]|ENSG00000069431|\n",
      "|ABCD2         |[Positive Regulation Of Cellular Catabolic Process (GO:0031331), Fatty Acid Metabolic Process (GO:0006631)]                                                                                                                                                        |ENSG00000173208|\n",
      "|ABCG1         |[Negative Regulation Of Cell Differentiation (GO:0045596)]                                                                                                                                                                                                         |ENSG00000160179|\n",
      "+--------------+-------------------------------------------------------------------------------------------------------------------------------------------------------------------------------------------------------------------------------------------------------------------+---------------+\n",
      "only showing top 10 rows\n",
      "\n"
     ]
    }
   ],
   "source": [
    "spark_df.show(10, truncate=False)"
   ]
  },
  {
   "cell_type": "code",
   "execution_count": 12,
   "id": "6828a33d",
   "metadata": {},
   "outputs": [
    {
     "data": {
      "text/plain": [
       "8959"
      ]
     },
     "execution_count": 12,
     "metadata": {},
     "output_type": "execute_result"
    }
   ],
   "source": [
    "spark_df.count()"
   ]
  },
  {
   "cell_type": "markdown",
   "id": "7b0576f1",
   "metadata": {},
   "source": [
    "# Save target-pathways lists for tensor board visualisation"
   ]
  },
  {
   "cell_type": "markdown",
   "id": "a6db7321",
   "metadata": {},
   "source": [
    "! This code is pasted from IBD_pathway_to_cell from similarity_mvp and haven't been run !"
   ]
  },
  {
   "cell_type": "markdown",
   "id": "22d0a244",
   "metadata": {},
   "source": [
    "Process CSV files in specified folders within a GCS directory and save target-pathway relationships in a format suitable for TensorBoard Embedding Projector. "
   ]
  },
  {
   "cell_type": "code",
   "execution_count": null,
   "id": "fcc5652d",
   "metadata": {},
   "outputs": [],
   "source": [
    "def save_target_pathway_tensorboard(input_gcs_dir, output_gcs_dir, folders_to_process):\n",
    "    \"\"\"\n",
    "    Args:\n",
    "        input_gcs_dir (str): Input GCS directory path.\n",
    "        output_gcs_dir (str): Output GCS directory path.\n",
    "        folders_to_process (list): List of folder names within the input directory to process.\n",
    "\n",
    "    Output:\n",
    "        Saves target-pathway relationships as TSV files in the output GCS directory.\n",
    "    \"\"\"\n",
    "    # Initialize GCS filesystem\n",
    "    fs = gcsfs.GCSFileSystem()\n",
    "\n",
    "    # Ensure no trailing slashes in input and output directories\n",
    "    input_gcs_dir = input_gcs_dir.rstrip(\"/\")\n",
    "    output_gcs_dir = output_gcs_dir.rstrip(\"/\")\n",
    "\n",
    "    for folder_name in folders_to_process:\n",
    "        folder_path = f\"{input_gcs_dir}/{folder_name}\"\n",
    "        output_folder_path = f\"{output_gcs_dir}/{folder_name}\"\n",
    "\n",
    "        # Ensure output folder exists\n",
    "        if not fs.exists(output_folder_path):\n",
    "            fs.mkdirs(output_folder_path)\n",
    "\n",
    "        # List files in the input folder\n",
    "        files_in_folder = fs.ls(folder_path)\n",
    "        csv_files = [file for file in files_in_folder if file.endswith('.csv')]\n",
    "\n",
    "        for file_path in csv_files:\n",
    "            # Read the CSV file directly from GCS\n",
    "            with fs.open(file_path, 'r') as f:\n",
    "                df = pd.read_csv(f)\n",
    "\n",
    "            # Check if 'propagated_edge' and 'Term' exist in the file\n",
    "            if 'propagated_edge' not in df.columns or 'Term' not in df.columns:\n",
    "                print(f\"Skipping {file_path}: missing required columns.\")\n",
    "                continue\n",
    "\n",
    "            # Explode the `propagated_edge` column\n",
    "            df['propagated_edge_exploded'] = df['propagated_edge'].str.split(',')\n",
    "            df = df.explode('propagated_edge_exploded').dropna(subset=['propagated_edge_exploded'])\n",
    "\n",
    "            # Prepare data for TensorBoard format\n",
    "            embedding_metadata = df[['propagated_edge_exploded', 'Term']]\n",
    "            embedding_metadata = embedding_metadata.rename(\n",
    "                columns={\"propagated_edge_exploded\": \"Target\", \"Term\": \"Pathway\"}\n",
    "            )\n",
    "\n",
    "            # Save target-pathway relationships as a TSV\n",
    "            output_file_name = f\"{Path(file_path).stem}_target_pathway.tsv\"\n",
    "            output_file_path = f\"{output_folder_path}/{output_file_name}\"\n",
    "\n",
    "            # Save directly to GCS\n",
    "            with fs.open(output_file_path, 'w') as f:\n",
    "                embedding_metadata.to_csv(f, sep='\\t', index=False)\n",
    "\n",
    "            print(f\"Processed and uploaded: {output_file_path}\")\n"
   ]
  },
  {
   "cell_type": "code",
   "execution_count": null,
   "id": "060bb180",
   "metadata": {},
   "outputs": [],
   "source": [
    "input_gcs_dir = \"gs://ot-team/polina/pathway_propagation_validation_v2/gsea_output\"\n",
    "output_gcs_dir = \"gs://ot-team/polina/pathway_propagation_validation_v2/4tensorboard/jaccard\"\n",
    "\n",
    "library = [\"Reactome_Pathways_2024\"]\n",
    "\n",
    "save_target_pathway_tensorboard(input_gcs_dir, output_gcs_dir, library)"
   ]
  }
 ],
 "metadata": {
  "kernelspec": {
   "display_name": "PySpark",
   "language": "python",
   "name": "pyspark"
  },
  "language_info": {
   "codemirror_mode": {
    "name": "ipython",
    "version": 3
   },
   "file_extension": ".py",
   "mimetype": "text/x-python",
   "name": "python",
   "nbconvert_exporter": "python",
   "pygments_lexer": "ipython3",
   "version": "3.11.8"
  }
 },
 "nbformat": 4,
 "nbformat_minor": 5
}
