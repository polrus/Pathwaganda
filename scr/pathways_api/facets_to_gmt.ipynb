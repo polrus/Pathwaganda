{
 "cells": [
  {
   "cell_type": "code",
   "execution_count": 7,
   "id": "e0e65b34",
   "metadata": {},
   "outputs": [],
   "source": [
    "from pyspark.sql import SparkSession\n",
    "from pyspark.sql.functions import col\n",
    "from pyspark.sql import functions as F"
   ]
  },
  {
   "cell_type": "code",
   "execution_count": 2,
   "id": "7a62ccd7",
   "metadata": {},
   "outputs": [
    {
     "name": "stderr",
     "output_type": "stream",
     "text": [
      "WARNING: Using incubator modules: jdk.incubator.vector\n",
      "Using Spark's default log4j profile: org/apache/spark/log4j2-defaults.properties\n",
      "Setting default log level to \"WARN\".\n",
      "To adjust logging level use sc.setLogLevel(newLevel). For SparkR, use setLogLevel(newLevel).\n",
      "25/09/11 11:11:59 WARN NativeCodeLoader: Unable to load native-hadoop library for your platform... using builtin-java classes where applicable\n"
     ]
    }
   ],
   "source": [
    "spark = SparkSession.builder.getOrCreate()"
   ]
  },
  {
   "cell_type": "code",
   "execution_count": 3,
   "id": "476ddc01",
   "metadata": {},
   "outputs": [
    {
     "name": "stderr",
     "output_type": "stream",
     "text": [
      "                                                                                \r"
     ]
    }
   ],
   "source": [
    "facets = spark.read.parquet(\"/Users/polina/Pathwaganda/data/search_facet_target\")"
   ]
  },
  {
   "cell_type": "code",
   "execution_count": 4,
   "id": "7a2bd34d",
   "metadata": {},
   "outputs": [
    {
     "name": "stdout",
     "output_type": "stream",
     "text": [
      "+--------------------+-------------+-----------------+------------+\n",
      "|               label|     category|        entityIds|datasourceId|\n",
      "+--------------------+-------------+-----------------+------------+\n",
      "|2'-5'-oligoadenyl...|Approved Name|[ENSG00000111335]|        NULL|\n",
      "|3-hydroxybutyrate...|Approved Name|[ENSG00000161267]|        NULL|\n",
      "|5'-aminolevulinat...|Approved Name|[ENSG00000158578]|        NULL|\n",
      "|A-kinase anchorin...|Approved Name|[ENSG00000170776]|        NULL|\n",
      "|A-kinase interact...|Approved Name|[ENSG00000166452]|        NULL|\n",
      "| ABI family member 3|Approved Name|[ENSG00000108798]|        NULL|\n",
      "|ACBD3 antisense R...|Approved Name|[ENSG00000234478]|        NULL|\n",
      "|  ACCSL pseudogene 1|Approved Name|[ENSG00000230570]|        NULL|\n",
      "|ACD shelterin com...|Approved Name|[ENSG00000102977]|        NULL|\n",
      "|  ACTB pseudogene 12|Approved Name|[ENSG00000233125]|        NULL|\n",
      "+--------------------+-------------+-----------------+------------+\n",
      "only showing top 10 rows\n"
     ]
    }
   ],
   "source": [
    "facets.show(10)"
   ]
  },
  {
   "cell_type": "code",
   "execution_count": 5,
   "id": "b62bc450",
   "metadata": {},
   "outputs": [
    {
     "name": "stdout",
     "output_type": "stream",
     "text": [
      "+-----------------------------+\n",
      "|category                     |\n",
      "+-----------------------------+\n",
      "|Approved Name                |\n",
      "|Approved Symbol              |\n",
      "|Target ID                    |\n",
      "|GO:CC                        |\n",
      "|GO:MF                        |\n",
      "|GO:BP                        |\n",
      "|Subcellular Location         |\n",
      "|Tractability PROTAC          |\n",
      "|Tractability Other Modalities|\n",
      "|Tractability Antibody        |\n",
      "|Reactome                     |\n",
      "|Tractability Small Molecule  |\n",
      "|ChEMBL Target Class          |\n",
      "+-----------------------------+\n",
      "\n"
     ]
    }
   ],
   "source": [
    "facets.select(\"category\").distinct().show(truncate=False)"
   ]
  },
  {
   "cell_type": "code",
   "execution_count": 6,
   "id": "f13ebf99",
   "metadata": {},
   "outputs": [
    {
     "name": "stdout",
     "output_type": "stream",
     "text": [
      "+--------------------+--------+--------------------+------------+\n",
      "|               label|category|           entityIds|datasourceId|\n",
      "+--------------------+--------+--------------------+------------+\n",
      "|           7SK snRNP|   GO:CC|[ENSG00000174720,...|  GO:0120259|\n",
      "|              A band|   GO:CC|[ENSG00000134571,...|  GO:0031672|\n",
      "|    CCR4-NOT complex|   GO:CC|[ENSG00000138767,...|  GO:0030014|\n",
      "|    ESC/E(Z) complex|   GO:CC|[ENSG00000108799,...|  GO:0035098|\n",
      "|IgM immunoglobuli...|   GO:CC|[ENSG00000211899,...|  GO:0071753|\n",
      "|L-type voltage-ga...|   GO:CC|[ENSG00000075461,...|  GO:1990454|\n",
      "|Rad51B-Rad51C-Rad...|   GO:CC|[ENSG00000196584,...|  GO:0033063|\n",
      "|       TORC2 complex|   GO:CC|[ENSG00000149212,...|  GO:0031932|\n",
      "|Toll-like recepto...|   GO:CC|[ENSG00000174125,...|  GO:0035354|\n",
      "|  ciliary basal body|   GO:CC|[ENSG00000118965,...|  GO:0036064|\n",
      "|cis-Golgi network...|   GO:CC|[ENSG00000099246,...|  GO:0033106|\n",
      "|collagen type V t...|   GO:CC|[ENSG00000130635,...|  GO:0005588|\n",
      "|collagen type XV ...|   GO:CC|   [ENSG00000204291]|  GO:0005582|\n",
      "|endodeoxyribonucl...|   GO:CC|[ENSG00000166349,...|  GO:1905347|\n",
      "|    exocytic vesicle|   GO:CC|[ENSG00000164674,...|  GO:0070382|\n",
      "|haptoglobin-hemog...|   GO:CC|[ENSG00000130656,...|  GO:0031838|\n",
      "|         kinetochore|   GO:CC|[ENSG00000145632,...|  GO:0000776|\n",
      "|    meprin A complex|   GO:CC|[ENSG00000112818,...|  GO:0017090|\n",
      "|mitotic spindle a...|   GO:CC|[ENSG00000101367,...|  GO:1905721|\n",
      "|neuronal dense co...|   GO:CC|[ENSG00000130294,...|  GO:0098992|\n",
      "+--------------------+--------+--------------------+------------+\n",
      "only showing top 20 rows\n"
     ]
    }
   ],
   "source": [
    "facets.filter(col(\"category\") == \"GO:CC\").show()"
   ]
  },
  {
   "cell_type": "markdown",
   "id": "fac62c99",
   "metadata": {},
   "source": [
    "# Prepare gmt files"
   ]
  },
  {
   "cell_type": "code",
   "execution_count": 9,
   "id": "625f60f8",
   "metadata": {},
   "outputs": [],
   "source": [
    "from pyspark.sql import functions as F\n",
    "\n",
    "def export_gmt_files(spark_df, categories, output_dir, target_parquet):\n",
    "    # Read target parquet and select required columns\n",
    "    target_df = (\n",
    "        spark.read.parquet(target_parquet)\n",
    "        .select(F.col(\"id\").alias(\"geneId\"), \"approvedSymbol\")\n",
    "    )\n",
    "\n",
    "    # Add Term column\n",
    "    df = spark_df.withColumn(\n",
    "        \"Term\",\n",
    "        F.concat_ws(\"\", F.col(\"label\"), F.lit(\"{\"), F.col(\"datasourceId\"), F.lit(\"}\"))\n",
    "    )\n",
    "\n",
    "    for cat in categories:\n",
    "        # Filter by category\n",
    "        df_cat = df.filter(F.col(\"category\") == cat)\n",
    "\n",
    "        # Explode entityIds\n",
    "        df_cat = df_cat.withColumn(\"geneId\", F.explode(\"entityIds\"))\n",
    "\n",
    "        # Join with target to bring approvedSymbol\n",
    "        df_cat = df_cat.join(target_df, on=\"geneId\", how=\"inner\")\n",
    "\n",
    "        # Group by Term and collect symbols\n",
    "        df_grouped = (\n",
    "            df_cat.groupBy(\"Term\")\n",
    "                  .agg(F.collect_list(\"approvedSymbol\").alias(\"symbols\"))\n",
    "        )\n",
    "\n",
    "        # Convert Spark -> Pandas\n",
    "        pdf = df_grouped.toPandas()\n",
    "\n",
    "        # Format into GMT lines using approvedSymbol\n",
    "        pdf[\"gmt_line\"] = pdf.apply(\n",
    "            lambda row: row[\"Term\"] + \"\\t\" + \"\\t\".join(row[\"symbols\"]),\n",
    "            axis=1\n",
    "        )\n",
    "\n",
    "        # Save as a single .gmt file\n",
    "        output_path = f\"{output_dir}/{cat}.gmt\"\n",
    "        pdf[\"gmt_line\"].to_csv(output_path, index=False, header=False)"
   ]
  },
  {
   "cell_type": "code",
   "execution_count": 10,
   "id": "406a6c45",
   "metadata": {},
   "outputs": [],
   "source": [
    "categories = [\"Reactome\", \"GO:BP\", \"GO:MF\", \"GO:CC\"]\n",
    "\n",
    "# Define output directory and target parquet\n",
    "output_dir = \"/Users/polina/Pathwaganda/data/gmt_pathway_files_prep/from_facets\"\n",
    "target_parquet = \"/Users/polina/Pathwaganda/data/target\"\n",
    "\n",
    "# Call the function\n",
    "export_gmt_files(facets, categories, output_dir, target_parquet)\n"
   ]
  },
  {
   "cell_type": "markdown",
   "id": "faaab947",
   "metadata": {},
   "source": [
    "## Add propagation for ancestors "
   ]
  },
  {
   "cell_type": "code",
   "execution_count": 14,
   "id": "49f9b055",
   "metadata": {},
   "outputs": [],
   "source": [
    "import json\n",
    "import re\n",
    "from collections import defaultdict\n",
    "\n",
    "def propagate_targets_to_gmt(go_json_path, gmt_path, output_path, namespace=\"biological_process\"):\n",
    "    # --- Load GO JSON ---\n",
    "    with open(go_json_path, \"r\") as f:\n",
    "        go_data = json.load(f)\n",
    "\n",
    "    nodes = {n[\"id\"]: n for n in go_data[\"graphs\"][0][\"nodes\"] if n[\"type\"] == \"CLASS\"}\n",
    "    \n",
    "    # Map GO:XXXXXXX → {namespace, label, deprecated}\n",
    "    go_info = {}\n",
    "    for node_id, node in nodes.items():\n",
    "        go_id = \"GO:\" + node_id.split(\"_\")[-1]  # GO_0000014 → GO:0000014\n",
    "        lbl = node.get(\"lbl\", go_id)\n",
    "        deprecated = node.get(\"meta\", {}).get(\"deprecated\", False)\n",
    "        ns = None\n",
    "        for bpv in node.get(\"meta\", {}).get(\"basicPropertyValues\", []):\n",
    "            if bpv[\"pred\"].endswith(\"hasOBONamespace\"):\n",
    "                ns = bpv[\"val\"]\n",
    "        go_info[go_id] = {\"label\": lbl, \"namespace\": ns, \"deprecated\": deprecated}\n",
    "\n",
    "    # --- Build child → parent relations ---\n",
    "    child_to_parents = defaultdict(set)\n",
    "    for edge in go_data[\"graphs\"][0].get(\"edges\", []):\n",
    "        child = edge[\"sub\"]\n",
    "        parent = edge[\"obj\"]\n",
    "        if edge[\"pred\"].endswith((\"is_a\", \"BFO_0000050\")):  # is_a or part_of\n",
    "            child_to_parents[child].add(parent)\n",
    "\n",
    "    # Helper: get all ancestors\n",
    "    def get_ancestors(go_uri):\n",
    "        ancestors = set()\n",
    "        stack = [go_uri]\n",
    "        while stack:\n",
    "            cur = stack.pop()\n",
    "            for parent in child_to_parents.get(cur, []):\n",
    "                if parent not in ancestors:\n",
    "                    ancestors.add(parent)\n",
    "                    stack.append(parent)\n",
    "        return ancestors\n",
    "\n",
    "    # --- Parse GMT ---\n",
    "    propagated = defaultdict(set)\n",
    "    term_labels = {}  # keep label{GO:XXXX} for writing later\n",
    "\n",
    "    with open(gmt_path, \"r\") as f:\n",
    "        for line in f:\n",
    "            parts = line.strip().split(\"\\t\")\n",
    "            if len(parts) < 2:\n",
    "                continue\n",
    "            desc, genes = parts[0], parts[1:]\n",
    "            m = re.search(r\"\\{(GO:\\d+)\\}\", desc)\n",
    "            if not m:\n",
    "                continue\n",
    "            go_term = m.group(1)\n",
    "\n",
    "            # Skip if not in correct namespace or deprecated\n",
    "            if go_info.get(go_term, {}).get(\"namespace\") != namespace:\n",
    "                continue\n",
    "            if go_info.get(go_term, {}).get(\"deprecated\"):\n",
    "                continue\n",
    "\n",
    "            # Add genes to original GO term\n",
    "            propagated[go_term].update(genes)\n",
    "            term_labels[go_term] = desc  # keep original term name\n",
    "\n",
    "            # Add genes to ancestors\n",
    "            go_uri = f\"http://purl.obolibrary.org/obo/{go_term.replace(':', '_')}\"\n",
    "            for ancestor in get_ancestors(go_uri):\n",
    "                ancestor_go = \"GO:\" + ancestor.split(\"_\")[-1]\n",
    "                info = go_info.get(ancestor_go, {})\n",
    "                if info.get(\"namespace\") == namespace and not info.get(\"deprecated\"):\n",
    "                    propagated[ancestor_go].update(genes)\n",
    "                    # If no label was stored, generate one\n",
    "                    if ancestor_go not in term_labels:\n",
    "                        term_labels[ancestor_go] = f\"{info.get('label', ancestor_go)}{{{ancestor_go}}}\"\n",
    "\n",
    "    # --- Write GMT ---\n",
    "    with open(output_path, \"w\") as out:\n",
    "        for go_id, genes in propagated.items():\n",
    "            label = term_labels.get(go_id, f\"{go_id}{{{go_id}}}\")\n",
    "            out.write(label + \"\\t\" + \"\\t\".join(sorted(genes)) + \"\\n\")\n",
    "\n",
    "    print(f\"Propagated GMT saved to {output_path}\")\n"
   ]
  },
  {
   "cell_type": "code",
   "execution_count": 17,
   "id": "3d09affa",
   "metadata": {},
   "outputs": [
    {
     "name": "stdout",
     "output_type": "stream",
     "text": [
      "Propagated GMT saved to /Users/polina/Pathwaganda/data/gmt_pathway_files_prep/from_facets/propagated/GO:BP.gmt\n"
     ]
    }
   ],
   "source": [
    "go_hirarchies = \"/Users/polina/Pathwaganda/data/gmt_pathway_files_prep/hierarchy_files/go-basic.json\"\n",
    "go_gmt = \"/Users/polina/Pathwaganda/data/gmt_pathway_files_prep/from_facets/GO:BP.gmt\"\n",
    "output_path = \"/Users/polina/Pathwaganda/data/gmt_pathway_files_prep/from_facets/propagated/GO:BP.gmt\"\n",
    "\n",
    "result = propagate_targets_to_gmt(go_hirarchies, go_gmt, output_path, namespace=\"biological_process\")"
   ]
  },
  {
   "cell_type": "code",
   "execution_count": 18,
   "id": "78f8e3c7",
   "metadata": {},
   "outputs": [
    {
     "name": "stdout",
     "output_type": "stream",
     "text": [
      "Propagated GMT saved to /Users/polina/Pathwaganda/data/gmt_pathway_files_prep/from_facets/propagated/GO:CC.gmt\n"
     ]
    }
   ],
   "source": [
    "go_hirarchies = \"/Users/polina/Pathwaganda/data/gmt_pathway_files_prep/hierarchy_files/go-basic.json\"\n",
    "go_gmt = \"/Users/polina/Pathwaganda/data/gmt_pathway_files_prep/from_facets/GO:CC.gmt\"\n",
    "output_path = \"/Users/polina/Pathwaganda/data/gmt_pathway_files_prep/from_facets/propagated/GO:CC.gmt\"\n",
    "\n",
    "result = propagate_targets_to_gmt(go_hirarchies, go_gmt, output_path, namespace=\"cellular_component\")"
   ]
  },
  {
   "cell_type": "code",
   "execution_count": 19,
   "id": "d299d069",
   "metadata": {},
   "outputs": [
    {
     "name": "stdout",
     "output_type": "stream",
     "text": [
      "Propagated GMT saved to /Users/polina/Pathwaganda/data/gmt_pathway_files_prep/from_facets/propagated/GO:MF.gmt\n"
     ]
    }
   ],
   "source": [
    "go_hirarchies = \"/Users/polina/Pathwaganda/data/gmt_pathway_files_prep/hierarchy_files/go-basic.json\"\n",
    "go_gmt = \"/Users/polina/Pathwaganda/data/gmt_pathway_files_prep/from_facets/GO:MF.gmt\"\n",
    "output_path = \"/Users/polina/Pathwaganda/data/gmt_pathway_files_prep/from_facets/propagated/GO:MF.gmt\"\n",
    "\n",
    "result = propagate_targets_to_gmt(go_hirarchies, go_gmt, output_path, namespace=\"molecular_function\")"
   ]
  },
  {
   "cell_type": "code",
   "execution_count": null,
   "id": "b41d35e3",
   "metadata": {},
   "outputs": [],
   "source": []
  }
 ],
 "metadata": {
  "kernelspec": {
   "display_name": "pathwaganda",
   "language": "python",
   "name": "python3"
  },
  "language_info": {
   "codemirror_mode": {
    "name": "ipython",
    "version": 3
   },
   "file_extension": ".py",
   "mimetype": "text/x-python",
   "name": "python",
   "nbconvert_exporter": "python",
   "pygments_lexer": "ipython3",
   "version": "3.13.1"
  }
 },
 "nbformat": 4,
 "nbformat_minor": 5
}
