{
 "cells": [
  {
   "cell_type": "code",
   "execution_count": 6,
   "id": "e0e65b34",
   "metadata": {},
   "outputs": [],
   "source": [
    "from pyspark.sql import SparkSession\n",
    "from pyspark.sql.functions import col"
   ]
  },
  {
   "cell_type": "code",
   "execution_count": 2,
   "id": "7a62ccd7",
   "metadata": {},
   "outputs": [
    {
     "name": "stderr",
     "output_type": "stream",
     "text": [
      "WARNING: Using incubator modules: jdk.incubator.vector\n",
      "Using Spark's default log4j profile: org/apache/spark/log4j2-defaults.properties\n",
      "Setting default log level to \"WARN\".\n",
      "To adjust logging level use sc.setLogLevel(newLevel). For SparkR, use setLogLevel(newLevel).\n",
      "25/08/21 16:01:50 WARN NativeCodeLoader: Unable to load native-hadoop library for your platform... using builtin-java classes where applicable\n",
      "25/08/21 16:01:51 WARN Utils: Service 'SparkUI' could not bind on port 4040. Attempting port 4041.\n",
      "25/08/21 16:01:51 WARN Utils: Service 'SparkUI' could not bind on port 4041. Attempting port 4042.\n"
     ]
    }
   ],
   "source": [
    "spark = SparkSession.builder.getOrCreate()"
   ]
  },
  {
   "cell_type": "code",
   "execution_count": 8,
   "id": "476ddc01",
   "metadata": {},
   "outputs": [],
   "source": [
    "facets = spark.read.parquet(\"/Users/polina/Pathwaganda/data/search_facet_target\")"
   ]
  },
  {
   "cell_type": "code",
   "execution_count": 11,
   "id": "7a2bd34d",
   "metadata": {},
   "outputs": [
    {
     "name": "stdout",
     "output_type": "stream",
     "text": [
      "+--------------------+-------------+-----------------+------------+\n",
      "|               label|     category|        entityIds|datasourceId|\n",
      "+--------------------+-------------+-----------------+------------+\n",
      "|2'-5'-oligoadenyl...|Approved Name|[ENSG00000111335]|        NULL|\n",
      "|3-hydroxybutyrate...|Approved Name|[ENSG00000161267]|        NULL|\n",
      "|5'-aminolevulinat...|Approved Name|[ENSG00000158578]|        NULL|\n",
      "|A-kinase anchorin...|Approved Name|[ENSG00000170776]|        NULL|\n",
      "|A-kinase interact...|Approved Name|[ENSG00000166452]|        NULL|\n",
      "| ABI family member 3|Approved Name|[ENSG00000108798]|        NULL|\n",
      "|ACBD3 antisense R...|Approved Name|[ENSG00000234478]|        NULL|\n",
      "|  ACCSL pseudogene 1|Approved Name|[ENSG00000230570]|        NULL|\n",
      "|ACD shelterin com...|Approved Name|[ENSG00000102977]|        NULL|\n",
      "|  ACTB pseudogene 12|Approved Name|[ENSG00000233125]|        NULL|\n",
      "+--------------------+-------------+-----------------+------------+\n",
      "only showing top 10 rows\n"
     ]
    }
   ],
   "source": [
    "facets.show(10)"
   ]
  },
  {
   "cell_type": "code",
   "execution_count": 12,
   "id": "b62bc450",
   "metadata": {},
   "outputs": [
    {
     "name": "stdout",
     "output_type": "stream",
     "text": [
      "+--------------------+\n",
      "|            category|\n",
      "+--------------------+\n",
      "|       Approved Name|\n",
      "|     Approved Symbol|\n",
      "|           Target ID|\n",
      "|               GO:CC|\n",
      "|               GO:MF|\n",
      "|               GO:BP|\n",
      "|Subcellular Location|\n",
      "| Tractability PROTAC|\n",
      "|Tractability Othe...|\n",
      "|Tractability Anti...|\n",
      "|            Reactome|\n",
      "|Tractability Smal...|\n",
      "| ChEMBL Target Class|\n",
      "+--------------------+\n",
      "\n"
     ]
    }
   ],
   "source": [
    "facets.select(\"category\").distinct().show()"
   ]
  },
  {
   "cell_type": "code",
   "execution_count": 13,
   "id": "f13ebf99",
   "metadata": {},
   "outputs": [
    {
     "name": "stdout",
     "output_type": "stream",
     "text": [
      "+--------------------+--------+--------------------+-------------+\n",
      "|               label|category|           entityIds| datasourceId|\n",
      "+--------------------+--------+--------------------+-------------+\n",
      "|2-LTR circle form...|Reactome|[ENSG00000137309,...| R-HSA-164843|\n",
      "|3-Methylcrotonyl-...|Reactome|[ENSG00000078070,...|R-HSA-9909438|\n",
      "|3-hydroxyisobutyr...|Reactome|   [ENSG00000198130]|R-HSA-9916722|\n",
      "|3-methylglutaconi...|Reactome|   [ENSG00000148090]|R-HSA-9914274|\n",
      "|5-Phosphoribose 1...|Reactome|[ENSG00000229937,...|  R-HSA-73843|\n",
      "|A tetrasaccharide...|Reactome|[ENSG00000038427,...|R-HSA-1971475|\n",
      "|ABC transporters ...|Reactome|[ENSG00000162735,...|R-HSA-1369062|\n",
      "|ABC-family protei...|Reactome|[ENSG00000187486,...| R-HSA-382556|\n",
      "|ABO blood group b...|Reactome|[ENSG00000176920,...|R-HSA-9033807|\n",
      "|ADORA2B mediated ...|Reactome|[ENSG00000065135,...|R-HSA-9660821|\n",
      "|ADP signalling th...|Reactome|[ENSG00000114450,...| R-HSA-418592|\n",
      "|ADP signalling th...|Reactome|[ENSG00000065135,...| R-HSA-392170|\n",
      "|AKT phosphorylate...|Reactome|[ENSG00000082701,...| R-HSA-198323|\n",
      "|AKT phosphorylate...|Reactome|[ENSG00000150907,...| R-HSA-198693|\n",
      "|AKT-mediated inac...|Reactome|[ENSG00000150907,...| R-HSA-211163|\n",
      "|ALK mutants bind ...|Reactome|[ENSG00000115414,...|R-HSA-9700645|\n",
      "|ALKBH2 mediated r...|Reactome|   [ENSG00000189046]| R-HSA-112122|\n",
      "|ALKBH3 mediated r...|Reactome|[ENSG00000100325,...| R-HSA-112126|\n",
      "|AMPK inhibits chR...|Reactome|[ENSG00000131791,...| R-HSA-163680|\n",
      "|APC truncation mu...|Reactome|   [ENSG00000134982]|R-HSA-5467333|\n",
      "+--------------------+--------+--------------------+-------------+\n",
      "only showing top 20 rows\n"
     ]
    }
   ],
   "source": [
    "facets.filter(col(\"category\") == \"Reactome\").show()"
   ]
  },
  {
   "cell_type": "code",
   "execution_count": null,
   "id": "625f60f8",
   "metadata": {},
   "outputs": [],
   "source": []
  },
  {
   "cell_type": "code",
   "execution_count": null,
   "id": "406a6c45",
   "metadata": {},
   "outputs": [],
   "source": []
  },
  {
   "cell_type": "code",
   "execution_count": null,
   "id": "d299d069",
   "metadata": {},
   "outputs": [],
   "source": []
  }
 ],
 "metadata": {
  "kernelspec": {
   "display_name": "pathwaganda",
   "language": "python",
   "name": "python3"
  },
  "language_info": {
   "codemirror_mode": {
    "name": "ipython",
    "version": 3
   },
   "file_extension": ".py",
   "mimetype": "text/x-python",
   "name": "python",
   "nbconvert_exporter": "python",
   "pygments_lexer": "ipython3",
   "version": "3.13.1"
  }
 },
 "nbformat": 4,
 "nbformat_minor": 5
}
