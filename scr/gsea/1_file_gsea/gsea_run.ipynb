{
 "cells": [
  {
   "cell_type": "markdown",
   "id": "6e2e9b47",
   "metadata": {},
   "source": [
    "## Run blitzGSEA"
   ]
  },
  {
   "cell_type": "code",
   "execution_count": 3,
   "id": "8aca47cd",
   "metadata": {},
   "outputs": [],
   "source": [
    "import os\n",
    "import pandas as pd\n",
    "import blitzgsea as blitz"
   ]
  },
  {
   "cell_type": "code",
   "execution_count": 12,
   "id": "b7253d35",
   "metadata": {},
   "outputs": [],
   "source": [
    "def load_custom_gmt(path):\n",
    "    \"\"\"\n",
    "    Parse a GMT file into a dict: {term_name: [gene1, gene2, ...], …}\n",
    "    \"\"\"\n",
    "    with open(path, 'r') as f:\n",
    "        return {\n",
    "            parts[0]: parts[2:]   # skip description at index 1\n",
    "            for line in f\n",
    "            if (parts := line.strip().split('\\t')) and len(parts) > 2\n",
    "        }\n",
    "\n",
    "\n",
    "def run_gsea_pandas(input_tsv, gmt_file, processes=4):\n",
    "    \"\"\"\n",
    "    Reads TSV, renames columns, runs GSEA with custom pathways, saves as TSV.\n",
    "    \"\"\"\n",
    "    # Load library\n",
    "    library_sets = load_custom_gmt(gmt_file)\n",
    "\n",
    "    # Read input TSV and rename columns\n",
    "    df = pd.read_csv(input_tsv, sep=\"\\t\")\n",
    "    df = df.rename(columns={0: \"symbol\", 1: \"globalScore\"})\n",
    "\n",
    "    # Sort by score descending\n",
    "    df = df.sort_values(\"globalScore\", ascending=False)\n",
    "\n",
    "    # Run GSEA\n",
    "    res_df = blitz.gsea(df, library_sets, processes=processes).reset_index(names=\"Term\")\n",
    "\n",
    "    # Propagated edge from library_sets\n",
    "    res_df[\"propagated_edge\"] = res_df[\"Term\"].map(lambda t: \",\".join(library_sets.get(t, [])))\n",
    "\n",
    "    # Extract ID and clean Term\n",
    "    term_series = res_df[\"Term\"]\n",
    "    res_df[\"ID\"] = term_series.str.extract(r\"\\[([^\\]]+)\\]\", expand=False).fillna(\"\")\n",
    "    res_df[\"Term\"] = term_series.str.replace(r\"\\s*\\[[^\\]]+\\]\", \"\", regex=True).str.strip()\n",
    "\n",
    "    # Ensure leading_edge is a string\n",
    "    if \"leading_edge\" in res_df.columns:\n",
    "        res_df[\"leading_edge\"] = res_df[\"leading_edge\"].apply(\n",
    "            lambda x: \",\".join(x) if isinstance(x, (list, tuple)) else str(x)\n",
    "        )\n",
    "\n",
    "    # Reorder columns\n",
    "    first_cols = [\"Term\", \"ID\"]\n",
    "    res_df = res_df[first_cols + [c for c in res_df.columns if c not in first_cols]]\n",
    "\n",
    "    # Save output\n",
    "    output_path = f\"{os.path.splitext(input_tsv)[0]}_gsea.tsv\"\n",
    "    res_df.to_csv(output_path, sep=\"\\t\", index=False)\n",
    "\n",
    "    print(f\"GSEA results saved to {output_path}\")\n"
   ]
  },
  {
   "cell_type": "code",
   "execution_count": 13,
   "id": "8c8e89b0",
   "metadata": {},
   "outputs": [
    {
     "name": "stdout",
     "output_type": "stream",
     "text": [
      "GSEA results saved to /Users/polina/Pathwaganda/scr/gsea/1_file_gsea/OT-EFO_0003767-associated-targets-13_08_2025-v25_06_gsea.tsv\n"
     ]
    }
   ],
   "source": [
    "scores = \"/Users/polina/Pathwaganda/scr/gsea/1_file_gsea/OT-EFO_0003767-associated-targets-13_08_2025-v25_06.tsv\"\n",
    "library = \"/Users/polina/Pathwaganda/data/gmt_pathway_files_prep/Reactome/ReactomePathways_merged.gmt\"\n",
    "\n",
    "run_gsea_pandas(scores, library, processes=4)"
   ]
  },
  {
   "cell_type": "code",
   "execution_count": null,
   "id": "c2de01df",
   "metadata": {},
   "outputs": [],
   "source": []
  },
  {
   "cell_type": "code",
   "execution_count": null,
   "id": "82f4b00e",
   "metadata": {},
   "outputs": [],
   "source": []
  }
 ],
 "metadata": {
  "kernelspec": {
   "display_name": "Python 3",
   "language": "python",
   "name": "python3"
  },
  "language_info": {
   "codemirror_mode": {
    "name": "ipython",
    "version": 3
   },
   "file_extension": ".py",
   "mimetype": "text/x-python",
   "name": "python",
   "nbconvert_exporter": "python",
   "pygments_lexer": "ipython3",
   "version": "3.11.6"
  }
 },
 "nbformat": 4,
 "nbformat_minor": 5
}
