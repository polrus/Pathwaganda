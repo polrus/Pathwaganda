{
 "cells": [
  {
   "cell_type": "code",
   "execution_count": 1,
   "id": "a1be007d",
   "metadata": {},
   "outputs": [
    {
     "name": "stdout",
     "output_type": "stream",
     "text": [
      "Defaulting to user installation because normal site-packages is not writeable\n",
      "Requirement already satisfied: blitzgsea in /home/polina/.local/lib/python3.11/site-packages (1.3.54)\n",
      "Requirement already satisfied: pandas>=1.1.5 in /opt/conda/miniconda3/lib/python3.11/site-packages (from blitzgsea) (2.1.4)\n",
      "Requirement already satisfied: numpy in /opt/conda/miniconda3/lib/python3.11/site-packages (from blitzgsea) (1.26.4)\n",
      "Requirement already satisfied: scikit-learn in /opt/conda/miniconda3/lib/python3.11/site-packages (from blitzgsea) (1.3.2)\n",
      "Requirement already satisfied: tqdm in /opt/conda/miniconda3/lib/python3.11/site-packages (from blitzgsea) (4.65.0)\n",
      "Requirement already satisfied: statsmodels in /opt/conda/miniconda3/lib/python3.11/site-packages (from blitzgsea) (0.14.4)\n",
      "Requirement already satisfied: mpmath in /opt/conda/miniconda3/lib/python3.11/site-packages (from blitzgsea) (1.3.0)\n",
      "Requirement already satisfied: matplotlib in /opt/conda/miniconda3/lib/python3.11/site-packages (from blitzgsea) (3.8.4)\n",
      "Requirement already satisfied: python-dateutil>=2.8.2 in /opt/conda/miniconda3/lib/python3.11/site-packages (from pandas>=1.1.5->blitzgsea) (2.9.0.post0)\n",
      "Requirement already satisfied: pytz>=2020.1 in /opt/conda/miniconda3/lib/python3.11/site-packages (from pandas>=1.1.5->blitzgsea) (2025.2)\n",
      "Requirement already satisfied: tzdata>=2022.1 in /opt/conda/miniconda3/lib/python3.11/site-packages (from pandas>=1.1.5->blitzgsea) (2025.2)\n",
      "Requirement already satisfied: contourpy>=1.0.1 in /opt/conda/miniconda3/lib/python3.11/site-packages (from matplotlib->blitzgsea) (1.3.2)\n",
      "Requirement already satisfied: cycler>=0.10 in /opt/conda/miniconda3/lib/python3.11/site-packages (from matplotlib->blitzgsea) (0.12.1)\n",
      "Requirement already satisfied: fonttools>=4.22.0 in /opt/conda/miniconda3/lib/python3.11/site-packages (from matplotlib->blitzgsea) (4.57.0)\n",
      "Requirement already satisfied: kiwisolver>=1.3.1 in /opt/conda/miniconda3/lib/python3.11/site-packages (from matplotlib->blitzgsea) (1.4.7)\n",
      "Requirement already satisfied: packaging>=20.0 in /opt/conda/miniconda3/lib/python3.11/site-packages (from matplotlib->blitzgsea) (23.1)\n",
      "Requirement already satisfied: pillow>=8 in /opt/conda/miniconda3/lib/python3.11/site-packages (from matplotlib->blitzgsea) (10.3.0)\n",
      "Requirement already satisfied: pyparsing>=2.3.1 in /opt/conda/miniconda3/lib/python3.11/site-packages (from matplotlib->blitzgsea) (3.2.3)\n",
      "Requirement already satisfied: scipy>=1.5.0 in /opt/conda/miniconda3/lib/python3.11/site-packages (from scikit-learn->blitzgsea) (1.11.4)\n",
      "Requirement already satisfied: joblib>=1.1.1 in /opt/conda/miniconda3/lib/python3.11/site-packages (from scikit-learn->blitzgsea) (1.4.2)\n",
      "Requirement already satisfied: threadpoolctl>=2.0.0 in /opt/conda/miniconda3/lib/python3.11/site-packages (from scikit-learn->blitzgsea) (3.6.0)\n",
      "Requirement already satisfied: patsy>=0.5.6 in /opt/conda/miniconda3/lib/python3.11/site-packages (from statsmodels->blitzgsea) (1.0.1)\n",
      "Requirement already satisfied: six>=1.5 in /opt/conda/miniconda3/lib/python3.11/site-packages (from python-dateutil>=2.8.2->pandas>=1.1.5->blitzgsea) (1.17.0)\n"
     ]
    }
   ],
   "source": [
    "!pip3 install blitzgsea"
   ]
  },
  {
   "cell_type": "markdown",
   "id": "6e2e9b47",
   "metadata": {},
   "source": [
    "## Run blitzGSEA"
   ]
  },
  {
   "cell_type": "markdown",
   "id": "ae3b7a9c",
   "metadata": {},
   "source": [
    "For parquet dir with name \"diseaseID=[ID]\"\n",
    "- for each file - read as dataframe\n",
    "- sort by overallScore (descending)\n",
    "- run result = blitz.gsea(file, library, processes=4)\n",
    "- save all result into directory named after library with parquet partitions named after \"diseaseID=[ID]\" (dont overwrite, add to folder)\n",
    "\n",
    "Use gcsfs to read and write files\n",
    "library can be a list, and are preloaded by this function:\n",
    "\n",
    "    # Determine libraries to process\n",
    "    if libraries is None:\n",
    "        libraries = blitz.enrichr.get_libraries()\n",
    "\n",
    "    # Pre-load all library sets\n",
    "    library_sets = {lib: blitz.enrichr.get_library(lib) for lib in libraries}\n"
   ]
  },
  {
   "cell_type": "code",
   "execution_count": 17,
   "id": "fb664c63",
   "metadata": {},
   "outputs": [],
   "source": [
    "import os\n",
    "import gcsfs\n",
    "import pandas as pd\n",
    "import blitzgsea as blitz\n",
    "from pyspark.sql import SparkSession"
   ]
  },
  {
   "cell_type": "code",
   "execution_count": 18,
   "id": "5ae0d7a1",
   "metadata": {},
   "outputs": [
    {
     "name": "stderr",
     "output_type": "stream",
     "text": [
      "25/07/23 11:24:18 INFO SparkEnv: Registering MapOutputTracker\n",
      "25/07/23 11:24:18 INFO SparkEnv: Registering BlockManagerMaster\n",
      "25/07/23 11:24:18 INFO SparkEnv: Registering BlockManagerMasterHeartbeat\n",
      "25/07/23 11:24:18 INFO SparkEnv: Registering OutputCommitCoordinator\n"
     ]
    }
   ],
   "source": [
    "# Initialize Spark\n",
    "spark = SparkSession.builder.appName(\"run_blitzgsea\").getOrCreate()"
   ]
  },
  {
   "cell_type": "code",
   "execution_count": 16,
   "id": "338fa385",
   "metadata": {},
   "outputs": [],
   "source": [
    "def run_blitzgsea(\n",
    "    input_base: str,\n",
    "    output_base: str,\n",
    "    libraries: list = None,\n",
    "    processes: int = 4,\n",
    "):\n",
    "    \"\"\"\n",
    "    Walk through GCS folders named diseaseId=[ID], read each as Spark,\n",
    "    sort, convert to pandas, run blitz.gsea, then convert back & write.\n",
    "    \"\"\"\n",
    "    fs = gcsfs.GCSFileSystem()\n",
    "\n",
    "    # 1) Load libraries\n",
    "    if libraries is None:\n",
    "        libraries = blitz.enrichr.get_libraries()\n",
    "    library_sets = {lib: blitz.enrichr.get_library(lib) for lib in libraries}\n",
    "\n",
    "    # 2) Find diseaseId= subfolders\n",
    "    base = input_base.rstrip('/') + '/'\n",
    "    all_children = fs.ls(base)\n",
    "    partitions = [\n",
    "        p for p in all_children\n",
    "        if os.path.basename(p).lower().startswith('diseaseid=')\n",
    "    ]\n",
    "    if not partitions:\n",
    "        raise RuntimeError(f\"No diseaseId= partitions found under {base}\")\n",
    "\n",
    "    # 3) Process each partition\n",
    "    for raw_path in partitions:\n",
    "        # ensure full GCS URI\n",
    "        gcs_path = raw_path if raw_path.startswith(\"gs://\") else f\"gs://{raw_path}\"\n",
    "        partition = os.path.basename(raw_path)            # e.g. 'diseaseId=EFO_0000094'\n",
    "        disease_id = partition.split('=', 1)[1]           # => 'EFO_0000094'\n",
    "        print(f\"Reading partition {partition} from {gcs_path}\")\n",
    "\n",
    "        # a) read & sort in Spark\n",
    "        df = spark.read.parquet(gcs_path)\n",
    "        df_sorted = df.orderBy(df.columns[1], ascending=False)\n",
    "\n",
    "        # b) convert to pandas for blitz.gsea\n",
    "        pdf = df_sorted.toPandas()\n",
    "\n",
    "        # c) run GSEA per library and write back via Spark\n",
    "        for lib_name, lib_set in library_sets.items():\n",
    "            # run GSEA (returns pandas with index = Term)\n",
    "            res_pdf = blitz.gsea(pdf, lib_set, processes=processes)\n",
    "\n",
    "            # bring index into a column named 'Term'\n",
    "            res_pdf = res_pdf.reset_index().rename(columns={'index': 'Term'})\n",
    "\n",
    "            # ensure leading_edge is a flat string\n",
    "            res_pdf['leading_edge'] = res_pdf['leading_edge'].apply(\n",
    "                lambda x: ','.join(x) if isinstance(x, (list, tuple)) else str(x)\n",
    "            )\n",
    "\n",
    "            # map each Term to its propagated_edge values\n",
    "            res_pdf['propagated_edge'] = res_pdf['Term'].map(\n",
    "                lambda term: \",\".join(library_sets[lib_name].get(term, []))\n",
    "            )\n",
    "\n",
    "            # put just the ID (not the 'diseaseId=') into the column\n",
    "            res_pdf['diseaseId'] = disease_id\n",
    "\n",
    "            # convert back to Spark and write out\n",
    "            result_df = spark.createDataFrame(res_pdf)\n",
    "            target_dir = os.path.join(output_base, lib_name, partition)\n",
    "            result_df.write.mode(\"append\").parquet(target_dir)\n",
    "\n",
    "            print(f\"  • Appended GSEA for {partition}, library {lib_name}\")"
   ]
  },
  {
   "cell_type": "code",
   "execution_count": null,
   "id": "c54dd79e",
   "metadata": {},
   "outputs": [
    {
     "name": "stdout",
     "output_type": "stream",
     "text": [
      "Reading partition diseaseId=EFO_0000195 from gs://ot-team/polina/pathwaganda/input_4_gsea/non_oncology/diseaseId=EFO_0000195\n"
     ]
    },
    {
     "name": "stderr",
     "output_type": "stream",
     "text": [
      "                                                                                \r"
     ]
    },
    {
     "name": "stdout",
     "output_type": "stream",
     "text": [
      "  • Appended GSEA for diseaseId=EFO_0000195, library KEGG_2021_Human\n"
     ]
    },
    {
     "name": "stderr",
     "output_type": "stream",
     "text": [
      "                                                                                \r"
     ]
    },
    {
     "name": "stdout",
     "output_type": "stream",
     "text": [
      "  • Appended GSEA for diseaseId=EFO_0000195, library Reactome_Pathways_2024\n"
     ]
    },
    {
     "name": "stderr",
     "output_type": "stream",
     "text": [
      "                                                                                \r"
     ]
    },
    {
     "name": "stdout",
     "output_type": "stream",
     "text": [
      "  • Appended GSEA for diseaseId=EFO_0000195, library WikiPathways_2024_Human\n"
     ]
    },
    {
     "name": "stderr",
     "output_type": "stream",
     "text": [
      "                                                                                \r"
     ]
    },
    {
     "name": "stdout",
     "output_type": "stream",
     "text": [
      "  • Appended GSEA for diseaseId=EFO_0000195, library GO_Biological_Process_2025\n",
      "Reading partition diseaseId=EFO_0000246 from gs://ot-team/polina/pathwaganda/input_4_gsea/non_oncology/diseaseId=EFO_0000246\n"
     ]
    },
    {
     "name": "stderr",
     "output_type": "stream",
     "text": [
      "                                                                                \r"
     ]
    },
    {
     "name": "stdout",
     "output_type": "stream",
     "text": [
      "  • Appended GSEA for diseaseId=EFO_0000246, library KEGG_2021_Human\n"
     ]
    },
    {
     "name": "stderr",
     "output_type": "stream",
     "text": [
      "                                                                                \r"
     ]
    },
    {
     "name": "stdout",
     "output_type": "stream",
     "text": [
      "  • Appended GSEA for diseaseId=EFO_0000246, library Reactome_Pathways_2024\n"
     ]
    },
    {
     "name": "stderr",
     "output_type": "stream",
     "text": [
      "                                                                                \r"
     ]
    },
    {
     "name": "stdout",
     "output_type": "stream",
     "text": [
      "  • Appended GSEA for diseaseId=EFO_0000246, library WikiPathways_2024_Human\n"
     ]
    },
    {
     "name": "stderr",
     "output_type": "stream",
     "text": [
      "                                                                                \r"
     ]
    },
    {
     "name": "stdout",
     "output_type": "stream",
     "text": [
      "  • Appended GSEA for diseaseId=EFO_0000246, library GO_Biological_Process_2025\n",
      "Reading partition diseaseId=EFO_0000275 from gs://ot-team/polina/pathwaganda/input_4_gsea/non_oncology/diseaseId=EFO_0000275\n"
     ]
    }
   ],
   "source": [
    "input_base  = \"gs://ot-team/polina/pathwaganda/input_4_gsea/non_oncology\"\n",
    "output_base = \"gs://ot-team/polina/pathwaganda/gsea_run\"\n",
    "libs        = [\"KEGG_2021_Human\", \"Reactome_Pathways_2024\", \n",
    "               \"WikiPathways_2024_Human\", \"GO_Biological_Process_2025\"]\n",
    "\n",
    "run_blitzgsea(\n",
    "    input_base=input_base,\n",
    "    output_base=output_base,\n",
    "    libraries=libs,\n",
    "    processes=4\n",
    ")"
   ]
  },
  {
   "cell_type": "code",
   "execution_count": 20,
   "id": "189453b2",
   "metadata": {},
   "outputs": [
    {
     "name": "stdout",
     "output_type": "stream",
     "text": [
      "+--------------------+-------------------+------------------+--------------------+--------------------+--------------------+------------+--------------------+--------------------+-----------+\n",
      "|                Term|                 es|               nes|                pval|               sidak|                 fdr|geneset_size|        leading_edge|     propagated_edge|  diseaseId|\n",
      "+--------------------+-------------------+------------------+--------------------+--------------------+--------------------+------------+--------------------+--------------------+-----------+\n",
      "|Regulation of TP5...| 0.6044440497518935| 4.963338353635351|6.929171381120369E-7|4.966983646598599E-4|4.354328542606200...|          30|TP53,PPP2R1A,CHD4...|BRPF1,SUPT16H,USP...|EFO_0003825|\n",
      "| Signal Transduction|0.21447151645705248| 4.853241465681454|1.214596525134226...|8.704871434498735E-4|4.354328542606200...|         259|TP53,PPP2R1A,FBXW...|FNBP1,BAD,ANKFY1,...|EFO_0003825|\n",
      "|             Disease|0.24919715248623042| 4.743679006159382|2.098713177023370...| 0.00150364731484632|5.015924493085855E-4|         230|TP53,PPP2R1A,FBXW...|BAD,IGHV3-11,IGHV...|EFO_0003825|\n",
      "|RAF MAP Kinase Ca...|0.49698340618899906| 4.155707170226095|3.242829479832565E-5|0.022983232030840836|0.005812771842599873|          38|PPP2R1A,PIK3CA,KR...|EGF,ACTN2,FRS3,PP...|EFO_0003825|\n",
      "|Signaling by NTRK...|  0.523678258252239|  4.02665436122637|5.657610305798144E-5| 0.03975441875920532|0.008113013178514539|          28|PPP2R1A,CHD4,PIK3...|PPP2R1A,FRS2,VRK3...|EFO_0003825|\n",
      "|MAPK1 MAPK3 Signa...|0.47876186460615694| 3.933513106044253|8.371327222089775E-5| 0.05825894305007921|0.008954751716194947|          40|PPP2R1A,PIK3CA,KR...|EGF,ACTN2,FRS3,PP...|EFO_0003825|\n",
      "|  Signaling by NTRKs|0.47071289319253684|3.9014601227748367|9.561421410175797E-5| 0.06626132316250687|0.008954751716194947|          32|PPP2R1A,CHD4,PIK3...|FRS3,PPP2R1A,FRS2...|EFO_0003825|\n",
      "|TCF Dependent Sig...|0.48291480324460606| 3.890801735626154|9.991354773997152E-5| 0.06913553541670925|0.008954751716194947|          30|AXIN1,PPP2R1A,CDC...|H2AZ2,RNF43,TLE4,...|EFO_0003825|\n",
      "|Diseases of Signa...|0.29990209120199346|3.8424921176639883|1.217913267148596E-4| 0.08362508240418949|0.009649155325600978|         127|TP53,PPP2R1A,FBXW...|SND1,EGF,BAD,FRS3...|EFO_0003825|\n",
      "|    Signaling by WNT| 0.4569112860472889| 3.817928738695628|1.345767827838351...| 0.09198832869197175|0.009649155325600978|          35|PPP2R1A,KRAS,AMER...|H2AZ2,PPP2R1A,H2B...|EFO_0003825|\n",
      "|MAPK Family Signa...|0.45439094405832303|3.7615490410728536|1.688643029809089...| 0.11404217321071242|0.011006882294301064|          48|PPP2R1A,ETV4,PIK3...|EGF,ACTN2,FRS3,PP...|EFO_0003825|\n",
      "|Negative Regulati...|0.44385800563095146|3.6870760548360453|2.268455751743836...| 0.15012561962316717|0.012297400361114486|          35|PPP2R1A,AKT1,PIK3...|PDGFRB,EGF,PDGFRA...|EFO_0003825|\n",
      "|Synthesis of PIPs...| 0.8663275866789749|3.6170678729729744|2.979591925220681...| 0.19238399509427495|0.012297400361114486|           5|  PIK3R1,PIK3CA,PTEN|PLEKHA2,PLEKHA3,P...|EFO_0003825|\n",
      "|       PI Metabolism| 0.8663275866789749|3.6170678729729744|2.979591925220681...| 0.19238399509427495|0.012297400361114486|           5|  PIK3R1,PIK3CA,PTEN|PLEKHA2,PLEKHA3,P...|EFO_0003825|\n",
      "|PIP3 Activates AK...|  0.375639098165373|3.6149212716451795|3.004389076477487E-4|  0.1938190538646246|0.012297400361114486|          59|TP53,PPP2R1A,CHD4...|EGF,BAD,GATAD2A,P...|EFO_0003825|\n",
      "|IGF1R Signaling C...| 0.7006941935968888|3.5976243545499385|3.211369693405519E-4|  0.2056985157069123|0.012297400361114486|          14|PIK3CA,KRAS,FGFR2...|KL,GAB2,GAB1,PTPN...|EFO_0003825|\n",
      "|Signaling by Type...| 0.7006941935968888|3.5976243545499385|3.211369693405519E-4|  0.2056985157069123|0.012297400361114486|          14|PIK3CA,KRAS,FGFR2...|KL,GAB2,GAB1,PTPN...|EFO_0003825|\n",
      "|IRS-related Event...| 0.7006941935968888|3.5976243545499385|3.211369693405519E-4|  0.2056985157069123|0.012297400361114486|          14|PIK3CA,KRAS,FGFR2...|KL,GAB2,GAB1,PTPN...|EFO_0003825|\n",
      "|Intracellular Sig...|0.35343425164896436| 3.584661737117014|3.375153572950928...| 0.21497472124230566|0.012297400361114486|          63|TP53,PPP2R1A,CHD4...|EGF,BAD,GATAD2A,P...|EFO_0003825|\n",
      "|Cell Cycle Checkp...| 0.4623206239266368|3.5804341996751563|3.430237199752994...| 0.21807011209866442|0.012297400361114486|          29|TP53,PPP2R1A,CCNE...|KNL1,HUS1,PPP2R1A...|EFO_0003825|\n",
      "+--------------------+-------------------+------------------+--------------------+--------------------+--------------------+------------+--------------------+--------------------+-----------+\n",
      "only showing top 20 rows\n",
      "\n"
     ]
    }
   ],
   "source": [
    "spark.read.parquet(\"gs://ot-team/polina/pathwaganda/gsea_run/Reactome_Pathways_2024/diseaseId=EFO_0003825\").show()"
   ]
  },
  {
   "cell_type": "code",
   "execution_count": null,
   "id": "82f4b00e",
   "metadata": {},
   "outputs": [],
   "source": []
  }
 ],
 "metadata": {
  "kernelspec": {
   "display_name": "PySpark",
   "language": "python",
   "name": "pyspark"
  },
  "language_info": {
   "codemirror_mode": {
    "name": "ipython",
    "version": 3
   },
   "file_extension": ".py",
   "mimetype": "text/x-python",
   "name": "python",
   "nbconvert_exporter": "python",
   "pygments_lexer": "ipython3",
   "version": "3.11.8"
  }
 },
 "nbformat": 4,
 "nbformat_minor": 5
}
