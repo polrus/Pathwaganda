{
 "cells": [
  {
   "cell_type": "code",
   "execution_count": 1,
   "id": "a1be007d",
   "metadata": {},
   "outputs": [
    {
     "name": "stdout",
     "output_type": "stream",
     "text": [
      "Defaulting to user installation because normal site-packages is not writeable\n",
      "Requirement already satisfied: blitzgsea in /home/polina/.local/lib/python3.11/site-packages (1.3.54)\n",
      "Requirement already satisfied: pandas>=1.1.5 in /opt/conda/miniconda3/lib/python3.11/site-packages (from blitzgsea) (2.1.4)\n",
      "Requirement already satisfied: numpy in /opt/conda/miniconda3/lib/python3.11/site-packages (from blitzgsea) (1.26.4)\n",
      "Requirement already satisfied: scikit-learn in /opt/conda/miniconda3/lib/python3.11/site-packages (from blitzgsea) (1.3.2)\n",
      "Requirement already satisfied: tqdm in /opt/conda/miniconda3/lib/python3.11/site-packages (from blitzgsea) (4.65.0)\n",
      "Requirement already satisfied: statsmodels in /opt/conda/miniconda3/lib/python3.11/site-packages (from blitzgsea) (0.14.4)\n",
      "Requirement already satisfied: mpmath in /opt/conda/miniconda3/lib/python3.11/site-packages (from blitzgsea) (1.3.0)\n",
      "Requirement already satisfied: matplotlib in /opt/conda/miniconda3/lib/python3.11/site-packages (from blitzgsea) (3.8.4)\n",
      "Requirement already satisfied: python-dateutil>=2.8.2 in /opt/conda/miniconda3/lib/python3.11/site-packages (from pandas>=1.1.5->blitzgsea) (2.9.0.post0)\n",
      "Requirement already satisfied: pytz>=2020.1 in /opt/conda/miniconda3/lib/python3.11/site-packages (from pandas>=1.1.5->blitzgsea) (2025.2)\n",
      "Requirement already satisfied: tzdata>=2022.1 in /opt/conda/miniconda3/lib/python3.11/site-packages (from pandas>=1.1.5->blitzgsea) (2025.2)\n",
      "Requirement already satisfied: contourpy>=1.0.1 in /opt/conda/miniconda3/lib/python3.11/site-packages (from matplotlib->blitzgsea) (1.3.2)\n",
      "Requirement already satisfied: cycler>=0.10 in /opt/conda/miniconda3/lib/python3.11/site-packages (from matplotlib->blitzgsea) (0.12.1)\n",
      "Requirement already satisfied: fonttools>=4.22.0 in /opt/conda/miniconda3/lib/python3.11/site-packages (from matplotlib->blitzgsea) (4.57.0)\n",
      "Requirement already satisfied: kiwisolver>=1.3.1 in /opt/conda/miniconda3/lib/python3.11/site-packages (from matplotlib->blitzgsea) (1.4.7)\n",
      "Requirement already satisfied: packaging>=20.0 in /opt/conda/miniconda3/lib/python3.11/site-packages (from matplotlib->blitzgsea) (23.1)\n",
      "Requirement already satisfied: pillow>=8 in /opt/conda/miniconda3/lib/python3.11/site-packages (from matplotlib->blitzgsea) (10.3.0)\n",
      "Requirement already satisfied: pyparsing>=2.3.1 in /opt/conda/miniconda3/lib/python3.11/site-packages (from matplotlib->blitzgsea) (3.2.3)\n",
      "Requirement already satisfied: scipy>=1.5.0 in /opt/conda/miniconda3/lib/python3.11/site-packages (from scikit-learn->blitzgsea) (1.11.4)\n",
      "Requirement already satisfied: joblib>=1.1.1 in /opt/conda/miniconda3/lib/python3.11/site-packages (from scikit-learn->blitzgsea) (1.4.2)\n",
      "Requirement already satisfied: threadpoolctl>=2.0.0 in /opt/conda/miniconda3/lib/python3.11/site-packages (from scikit-learn->blitzgsea) (3.6.0)\n",
      "Requirement already satisfied: patsy>=0.5.6 in /opt/conda/miniconda3/lib/python3.11/site-packages (from statsmodels->blitzgsea) (1.0.1)\n",
      "Requirement already satisfied: six>=1.5 in /opt/conda/miniconda3/lib/python3.11/site-packages (from python-dateutil>=2.8.2->pandas>=1.1.5->blitzgsea) (1.17.0)\n"
     ]
    }
   ],
   "source": [
    "!pip3 install blitzgsea"
   ]
  },
  {
   "cell_type": "code",
   "execution_count": null,
   "id": "805139b8",
   "metadata": {},
   "outputs": [],
   "source": [
    "# from pyspark.sql import SparkSession\n",
    "# from pyspark.sql import functions as f\n",
    "# from pyspark.sql.functions import collect_list, concat_ws, col, when, udf, row_number, sum as spark_sum, max as spark_max, create_map, lit, min as spark_min\n",
    "# from pyspark.sql.types import DoubleType\n",
    "# from pyspark.sql import Window\n",
    "# from itertools import chain\n",
    "# from pyspark.sql import DataFrame\n",
    "# from pyspark.sql import Row\n",
    "# import pandas as pd\n",
    "# import os\n",
    "# import numpy as np\n",
    "# from sklearn.metrics import jaccard_score\n",
    "# from scipy.spatial.distance import pdist, squareform\n",
    "# from scipy.stats import spearmanr, kendalltau\n",
    "# import gcsfs\n",
    "# from pathlib import Path\n",
    "# import blitzgsea as blitz\n",
    "# from functools import reduce\n",
    "# from sklearn.metrics import roc_auc_score, precision_recall_curve\n",
    "# from sklearn.utils import resample\n",
    "# import statsmodels.api as sm\n",
    "# from scipy.stats import ttest_1samp"
   ]
  },
  {
   "cell_type": "code",
   "execution_count": null,
   "id": "a9e26fed",
   "metadata": {},
   "outputs": [],
   "source": []
  },
  {
   "cell_type": "markdown",
   "id": "6e2e9b47",
   "metadata": {},
   "source": [
    "## Run blitzGSEA"
   ]
  },
  {
   "cell_type": "markdown",
   "id": "ae3b7a9c",
   "metadata": {},
   "source": [
    "For parquet dir with name \"diseaseID=[ID]\"\n",
    "- for each file - read as dataframe\n",
    "- sort by overallScore (descending)\n",
    "- run result = blitz.gsea(file, library, processes=4)\n",
    "- save all result into directory named after library with parquet partitions named after \"diseaseID=[ID]\" (dont overwrite, add to folder)\n",
    "\n",
    "Use gcsfs to read and write files\n",
    "library can be a list, and are preloaded by this function:\n",
    "\n",
    "    # Determine libraries to process\n",
    "    if libraries is None:\n",
    "        libraries = blitz.enrichr.get_libraries()\n",
    "\n",
    "    # Pre-load all library sets\n",
    "    library_sets = {lib: blitz.enrichr.get_library(lib) for lib in libraries}\n"
   ]
  },
  {
   "cell_type": "code",
   "execution_count": 17,
   "id": "fb664c63",
   "metadata": {},
   "outputs": [],
   "source": [
    "import os\n",
    "import gcsfs\n",
    "import pandas as pd\n",
    "import blitzgsea as blitz\n",
    "from pyspark.sql import SparkSession"
   ]
  },
  {
   "cell_type": "code",
   "execution_count": 18,
   "id": "5ae0d7a1",
   "metadata": {},
   "outputs": [
    {
     "name": "stderr",
     "output_type": "stream",
     "text": [
      "25/07/23 11:24:18 INFO SparkEnv: Registering MapOutputTracker\n",
      "25/07/23 11:24:18 INFO SparkEnv: Registering BlockManagerMaster\n",
      "25/07/23 11:24:18 INFO SparkEnv: Registering BlockManagerMasterHeartbeat\n",
      "25/07/23 11:24:18 INFO SparkEnv: Registering OutputCommitCoordinator\n"
     ]
    }
   ],
   "source": [
    "# Initialize Spark\n",
    "spark = SparkSession.builder.appName(\"run_blitzgsea\").getOrCreate()"
   ]
  },
  {
   "cell_type": "code",
   "execution_count": 43,
   "id": "338fa385",
   "metadata": {},
   "outputs": [],
   "source": [
    "def run_blitzgsea(\n",
    "    input_base: str,\n",
    "    output_base: str,\n",
    "    libraries: list = None,\n",
    "    processes: int = 4,\n",
    "):\n",
    "    \"\"\"\n",
    "    Walk through GCS folders named diseaseId=[ID], read each as Spark,\n",
    "    sort, convert to pandas, run blitz.gsea, then convert back & write.\n",
    "    \"\"\"\n",
    "    fs = gcsfs.GCSFileSystem()\n",
    "\n",
    "    # 1) Load libraries\n",
    "    if libraries is None:\n",
    "        libraries = blitz.enrichr.get_libraries()\n",
    "    library_sets = {lib: blitz.enrichr.get_library(lib) for lib in libraries}\n",
    "\n",
    "    # 2) Find diseaseId= subfolders\n",
    "    base = input_base.rstrip('/') + '/'\n",
    "    all_children = fs.ls(base)\n",
    "    partitions = [\n",
    "        p for p in all_children\n",
    "        if os.path.basename(p).lower().startswith('diseaseid=')\n",
    "    ]\n",
    "    if not partitions:\n",
    "        raise RuntimeError(f\"No diseaseId= partitions found under {base}\")\n",
    "\n",
    "    # 3) Process each partition\n",
    "    for raw_path in partitions:\n",
    "        # ensure full GCS URI\n",
    "        gcs_path = raw_path if raw_path.startswith(\"gs://\") else f\"gs://{raw_path}\"\n",
    "        partition = os.path.basename(raw_path)\n",
    "        print(f\"Reading partition {partition} from {gcs_path}\")\n",
    "\n",
    "        # a) read & sort in Spark\n",
    "        df = spark.read.parquet(gcs_path)\n",
    "        df_sorted = df.orderBy(df.columns[1], ascending=False)\n",
    "\n",
    "        # b) convert to pandas for blitz.gsea\n",
    "        pdf = df_sorted.toPandas()\n",
    "\n",
    "        # c) run GSEA per library and write back via Spark\n",
    "        for lib_name, lib_set in library_sets.items():\n",
    "            res_pdf = blitz.gsea(pdf, lib_set, processes=processes)\n",
    "            # ensure leading_edge is a string (comma‑sep if it was a list)\n",
    "            res_pdf['leading_edge'] = (\n",
    "                res_pdf['leading_edge']\n",
    "                .apply(lambda x: ','.join(x) if isinstance(x, (list, tuple)) else str(x))\n",
    "            )\n",
    "            result_df = spark.createDataFrame(res_pdf)\n",
    "\n",
    "            target_dir = os.path.join(output_base, lib_name, partition)\n",
    "            result_df.write.mode(\"append\").parquet(target_dir)\n",
    "            print(f\"  • Appended GSEA for {partition}, library {lib_name}\")"
   ]
  },
  {
   "cell_type": "code",
   "execution_count": 44,
   "id": "c54dd79e",
   "metadata": {},
   "outputs": [
    {
     "name": "stdout",
     "output_type": "stream",
     "text": [
      "Reading partition diseaseId=EFO_0000094 from gs://ot-team/polina/pathwaganda/input_4_gsea/oncology/diseaseId=EFO_0000094\n"
     ]
    },
    {
     "name": "stderr",
     "output_type": "stream",
     "text": [
      "                                                                                \r"
     ]
    },
    {
     "name": "stdout",
     "output_type": "stream",
     "text": [
      "  • Appended GSEA for diseaseId=EFO_0000094, library KEGG_2021_Human\n",
      "Reading partition diseaseId=EFO_0000095 from gs://ot-team/polina/pathwaganda/input_4_gsea/oncology/diseaseId=EFO_0000095\n"
     ]
    },
    {
     "name": "stderr",
     "output_type": "stream",
     "text": [
      "                                                                                \r"
     ]
    },
    {
     "name": "stdout",
     "output_type": "stream",
     "text": [
      "  • Appended GSEA for diseaseId=EFO_0000095, library KEGG_2021_Human\n",
      "Reading partition diseaseId=EFO_0000096 from gs://ot-team/polina/pathwaganda/input_4_gsea/oncology/diseaseId=EFO_0000096\n"
     ]
    },
    {
     "name": "stderr",
     "output_type": "stream",
     "text": [
      "                                                                                \r"
     ]
    },
    {
     "name": "stdout",
     "output_type": "stream",
     "text": [
      "  • Appended GSEA for diseaseId=EFO_0000096, library KEGG_2021_Human\n",
      "Reading partition diseaseId=EFO_0000178 from gs://ot-team/polina/pathwaganda/input_4_gsea/oncology/diseaseId=EFO_0000178\n"
     ]
    },
    {
     "name": "stderr",
     "output_type": "stream",
     "text": [
      "                                                                                \r"
     ]
    },
    {
     "name": "stdout",
     "output_type": "stream",
     "text": [
      "  • Appended GSEA for diseaseId=EFO_0000178, library KEGG_2021_Human\n",
      "Reading partition diseaseId=EFO_0000181 from gs://ot-team/polina/pathwaganda/input_4_gsea/oncology/diseaseId=EFO_0000181\n"
     ]
    },
    {
     "name": "stderr",
     "output_type": "stream",
     "text": [
      "                                                                                \r"
     ]
    },
    {
     "name": "stdout",
     "output_type": "stream",
     "text": [
      "  • Appended GSEA for diseaseId=EFO_0000181, library KEGG_2021_Human\n",
      "Reading partition diseaseId=EFO_0000182 from gs://ot-team/polina/pathwaganda/input_4_gsea/oncology/diseaseId=EFO_0000182\n"
     ]
    },
    {
     "name": "stderr",
     "output_type": "stream",
     "text": [
      "                                                                                \r"
     ]
    },
    {
     "name": "stdout",
     "output_type": "stream",
     "text": [
      "  • Appended GSEA for diseaseId=EFO_0000182, library KEGG_2021_Human\n",
      "Reading partition diseaseId=EFO_0000199 from gs://ot-team/polina/pathwaganda/input_4_gsea/oncology/diseaseId=EFO_0000199\n"
     ]
    },
    {
     "name": "stderr",
     "output_type": "stream",
     "text": [
      "                                                                                \r"
     ]
    },
    {
     "name": "stdout",
     "output_type": "stream",
     "text": [
      "  • Appended GSEA for diseaseId=EFO_0000199, library KEGG_2021_Human\n",
      "Reading partition diseaseId=EFO_0000200 from gs://ot-team/polina/pathwaganda/input_4_gsea/oncology/diseaseId=EFO_0000200\n"
     ]
    },
    {
     "name": "stderr",
     "output_type": "stream",
     "text": [
      "                                                                                \r"
     ]
    },
    {
     "name": "stdout",
     "output_type": "stream",
     "text": [
      "  • Appended GSEA for diseaseId=EFO_0000200, library KEGG_2021_Human\n",
      "Reading partition diseaseId=EFO_0000209 from gs://ot-team/polina/pathwaganda/input_4_gsea/oncology/diseaseId=EFO_0000209\n"
     ]
    },
    {
     "name": "stderr",
     "output_type": "stream",
     "text": [
      "                                                                                \r"
     ]
    },
    {
     "name": "stdout",
     "output_type": "stream",
     "text": [
      "  • Appended GSEA for diseaseId=EFO_0000209, library KEGG_2021_Human\n",
      "Reading partition diseaseId=EFO_0000220 from gs://ot-team/polina/pathwaganda/input_4_gsea/oncology/diseaseId=EFO_0000220\n"
     ]
    },
    {
     "name": "stderr",
     "output_type": "stream",
     "text": [
      "                                                                                \r"
     ]
    },
    {
     "name": "stdout",
     "output_type": "stream",
     "text": [
      "  • Appended GSEA for diseaseId=EFO_0000220, library KEGG_2021_Human\n",
      "Reading partition diseaseId=EFO_0000222 from gs://ot-team/polina/pathwaganda/input_4_gsea/oncology/diseaseId=EFO_0000222\n"
     ]
    },
    {
     "name": "stderr",
     "output_type": "stream",
     "text": [
      "                                                                                \r"
     ]
    },
    {
     "name": "stdout",
     "output_type": "stream",
     "text": [
      "  • Appended GSEA for diseaseId=EFO_0000222, library KEGG_2021_Human\n",
      "Reading partition diseaseId=EFO_0000228 from gs://ot-team/polina/pathwaganda/input_4_gsea/oncology/diseaseId=EFO_0000228\n"
     ]
    },
    {
     "name": "stderr",
     "output_type": "stream",
     "text": [
      "                                                                                \r"
     ]
    },
    {
     "name": "stdout",
     "output_type": "stream",
     "text": [
      "  • Appended GSEA for diseaseId=EFO_0000228, library KEGG_2021_Human\n",
      "Reading partition diseaseId=EFO_0000232 from gs://ot-team/polina/pathwaganda/input_4_gsea/oncology/diseaseId=EFO_0000232\n"
     ]
    },
    {
     "name": "stderr",
     "output_type": "stream",
     "text": [
      "                                                                                \r"
     ]
    },
    {
     "name": "stdout",
     "output_type": "stream",
     "text": [
      "  • Appended GSEA for diseaseId=EFO_0000232, library KEGG_2021_Human\n",
      "Reading partition diseaseId=EFO_0000272 from gs://ot-team/polina/pathwaganda/input_4_gsea/oncology/diseaseId=EFO_0000272\n"
     ]
    },
    {
     "name": "stderr",
     "output_type": "stream",
     "text": [
      "                                                                                \r"
     ]
    },
    {
     "name": "stdout",
     "output_type": "stream",
     "text": [
      "  • Appended GSEA for diseaseId=EFO_0000272, library KEGG_2021_Human\n",
      "Reading partition diseaseId=EFO_0000294 from gs://ot-team/polina/pathwaganda/input_4_gsea/oncology/diseaseId=EFO_0000294\n"
     ]
    },
    {
     "name": "stderr",
     "output_type": "stream",
     "text": [
      "                                                                                \r"
     ]
    },
    {
     "name": "stdout",
     "output_type": "stream",
     "text": [
      "  • Appended GSEA for diseaseId=EFO_0000294, library KEGG_2021_Human\n",
      "Reading partition diseaseId=EFO_0000304 from gs://ot-team/polina/pathwaganda/input_4_gsea/oncology/diseaseId=EFO_0000304\n"
     ]
    },
    {
     "name": "stderr",
     "output_type": "stream",
     "text": [
      "                                                                                \r"
     ]
    },
    {
     "name": "stdout",
     "output_type": "stream",
     "text": [
      "  • Appended GSEA for diseaseId=EFO_0000304, library KEGG_2021_Human\n",
      "Reading partition diseaseId=EFO_0000305 from gs://ot-team/polina/pathwaganda/input_4_gsea/oncology/diseaseId=EFO_0000305\n"
     ]
    },
    {
     "name": "stderr",
     "output_type": "stream",
     "text": [
      "                                                                                \r"
     ]
    },
    {
     "name": "stdout",
     "output_type": "stream",
     "text": [
      "  • Appended GSEA for diseaseId=EFO_0000305, library KEGG_2021_Human\n",
      "Reading partition diseaseId=EFO_0000313 from gs://ot-team/polina/pathwaganda/input_4_gsea/oncology/diseaseId=EFO_0000313\n"
     ]
    },
    {
     "name": "stderr",
     "output_type": "stream",
     "text": [
      "                                                                                \r"
     ]
    },
    {
     "name": "stdout",
     "output_type": "stream",
     "text": [
      "  • Appended GSEA for diseaseId=EFO_0000313, library KEGG_2021_Human\n",
      "Reading partition diseaseId=EFO_0000326 from gs://ot-team/polina/pathwaganda/input_4_gsea/oncology/diseaseId=EFO_0000326\n"
     ]
    },
    {
     "name": "stderr",
     "output_type": "stream",
     "text": [
      "                                                                                \r"
     ]
    },
    {
     "name": "stdout",
     "output_type": "stream",
     "text": [
      "  • Appended GSEA for diseaseId=EFO_0000326, library KEGG_2021_Human\n",
      "Reading partition diseaseId=EFO_0000348 from gs://ot-team/polina/pathwaganda/input_4_gsea/oncology/diseaseId=EFO_0000348\n"
     ]
    },
    {
     "name": "stderr",
     "output_type": "stream",
     "text": [
      "                                                                                \r"
     ]
    },
    {
     "name": "stdout",
     "output_type": "stream",
     "text": [
      "  • Appended GSEA for diseaseId=EFO_0000348, library KEGG_2021_Human\n",
      "Reading partition diseaseId=EFO_0000349 from gs://ot-team/polina/pathwaganda/input_4_gsea/oncology/diseaseId=EFO_0000349\n"
     ]
    },
    {
     "name": "stderr",
     "output_type": "stream",
     "text": [
      "                                                                                \r"
     ]
    },
    {
     "name": "stdout",
     "output_type": "stream",
     "text": [
      "  • Appended GSEA for diseaseId=EFO_0000349, library KEGG_2021_Human\n",
      "Reading partition diseaseId=EFO_0000365 from gs://ot-team/polina/pathwaganda/input_4_gsea/oncology/diseaseId=EFO_0000365\n"
     ]
    },
    {
     "name": "stderr",
     "output_type": "stream",
     "text": [
      "                                                                                \r"
     ]
    },
    {
     "name": "stdout",
     "output_type": "stream",
     "text": [
      "  • Appended GSEA for diseaseId=EFO_0000365, library KEGG_2021_Human\n",
      "Reading partition diseaseId=EFO_0000389 from gs://ot-team/polina/pathwaganda/input_4_gsea/oncology/diseaseId=EFO_0000389\n"
     ]
    },
    {
     "name": "stderr",
     "output_type": "stream",
     "text": [
      "                                                                                \r"
     ]
    },
    {
     "name": "stdout",
     "output_type": "stream",
     "text": [
      "  • Appended GSEA for diseaseId=EFO_0000389, library KEGG_2021_Human\n",
      "Reading partition diseaseId=EFO_0000403 from gs://ot-team/polina/pathwaganda/input_4_gsea/oncology/diseaseId=EFO_0000403\n"
     ]
    },
    {
     "name": "stderr",
     "output_type": "stream",
     "text": [
      "                                                                                \r"
     ]
    },
    {
     "name": "stdout",
     "output_type": "stream",
     "text": [
      "  • Appended GSEA for diseaseId=EFO_0000403, library KEGG_2021_Human\n",
      "Reading partition diseaseId=EFO_0000466 from gs://ot-team/polina/pathwaganda/input_4_gsea/oncology/diseaseId=EFO_0000466\n"
     ]
    },
    {
     "name": "stderr",
     "output_type": "stream",
     "text": [
      "                                                                                \r"
     ]
    },
    {
     "name": "stdout",
     "output_type": "stream",
     "text": [
      "  • Appended GSEA for diseaseId=EFO_0000466, library KEGG_2021_Human\n",
      "Reading partition diseaseId=EFO_0000478 from gs://ot-team/polina/pathwaganda/input_4_gsea/oncology/diseaseId=EFO_0000478\n"
     ]
    },
    {
     "name": "stderr",
     "output_type": "stream",
     "text": [
      "                                                                                \r"
     ]
    },
    {
     "name": "stdout",
     "output_type": "stream",
     "text": [
      "  • Appended GSEA for diseaseId=EFO_0000478, library KEGG_2021_Human\n",
      "Reading partition diseaseId=EFO_0000503 from gs://ot-team/polina/pathwaganda/input_4_gsea/oncology/diseaseId=EFO_0000503\n"
     ]
    },
    {
     "name": "stderr",
     "output_type": "stream",
     "text": [
      "                                                                                \r"
     ]
    },
    {
     "name": "stdout",
     "output_type": "stream",
     "text": [
      "  • Appended GSEA for diseaseId=EFO_0000503, library KEGG_2021_Human\n",
      "Reading partition diseaseId=EFO_0000504 from gs://ot-team/polina/pathwaganda/input_4_gsea/oncology/diseaseId=EFO_0000504\n"
     ]
    },
    {
     "name": "stderr",
     "output_type": "stream",
     "text": [
      "                                                                                \r"
     ]
    },
    {
     "name": "stdout",
     "output_type": "stream",
     "text": [
      "  • Appended GSEA for diseaseId=EFO_0000504, library KEGG_2021_Human\n",
      "Reading partition diseaseId=EFO_0000514 from gs://ot-team/polina/pathwaganda/input_4_gsea/oncology/diseaseId=EFO_0000514\n"
     ]
    },
    {
     "name": "stderr",
     "output_type": "stream",
     "text": [
      "                                                                                \r"
     ]
    },
    {
     "name": "stdout",
     "output_type": "stream",
     "text": [
      "  • Appended GSEA for diseaseId=EFO_0000514, library KEGG_2021_Human\n",
      "Reading partition diseaseId=EFO_0000519 from gs://ot-team/polina/pathwaganda/input_4_gsea/oncology/diseaseId=EFO_0000519\n"
     ]
    },
    {
     "name": "stderr",
     "output_type": "stream",
     "text": [
      "                                                                                \r"
     ]
    },
    {
     "name": "stdout",
     "output_type": "stream",
     "text": [
      "  • Appended GSEA for diseaseId=EFO_0000519, library KEGG_2021_Human\n",
      "Reading partition diseaseId=EFO_0000565 from gs://ot-team/polina/pathwaganda/input_4_gsea/oncology/diseaseId=EFO_0000565\n"
     ]
    },
    {
     "name": "stderr",
     "output_type": "stream",
     "text": [
      "                                                                                \r"
     ]
    },
    {
     "name": "stdout",
     "output_type": "stream",
     "text": [
      "  • Appended GSEA for diseaseId=EFO_0000565, library KEGG_2021_Human\n",
      "Reading partition diseaseId=EFO_0000571 from gs://ot-team/polina/pathwaganda/input_4_gsea/oncology/diseaseId=EFO_0000571\n"
     ]
    },
    {
     "name": "stderr",
     "output_type": "stream",
     "text": [
      "                                                                                \r"
     ]
    },
    {
     "name": "stdout",
     "output_type": "stream",
     "text": [
      "  • Appended GSEA for diseaseId=EFO_0000571, library KEGG_2021_Human\n",
      "Reading partition diseaseId=EFO_0000574 from gs://ot-team/polina/pathwaganda/input_4_gsea/oncology/diseaseId=EFO_0000574\n"
     ]
    },
    {
     "name": "stderr",
     "output_type": "stream",
     "text": [
      "                                                                                \r"
     ]
    },
    {
     "name": "stdout",
     "output_type": "stream",
     "text": [
      "  • Appended GSEA for diseaseId=EFO_0000574, library KEGG_2021_Human\n",
      "Reading partition diseaseId=EFO_0000616 from gs://ot-team/polina/pathwaganda/input_4_gsea/oncology/diseaseId=EFO_0000616\n"
     ]
    },
    {
     "name": "stderr",
     "output_type": "stream",
     "text": [
      "                                                                                \r"
     ]
    },
    {
     "name": "stdout",
     "output_type": "stream",
     "text": [
      "  • Appended GSEA for diseaseId=EFO_0000616, library KEGG_2021_Human\n",
      "Reading partition diseaseId=EFO_0000640 from gs://ot-team/polina/pathwaganda/input_4_gsea/oncology/diseaseId=EFO_0000640\n"
     ]
    },
    {
     "name": "stderr",
     "output_type": "stream",
     "text": [
      "                                                                                \r"
     ]
    },
    {
     "name": "stdout",
     "output_type": "stream",
     "text": [
      "  • Appended GSEA for diseaseId=EFO_0000640, library KEGG_2021_Human\n",
      "Reading partition diseaseId=EFO_0000662 from gs://ot-team/polina/pathwaganda/input_4_gsea/oncology/diseaseId=EFO_0000662\n"
     ]
    },
    {
     "name": "stderr",
     "output_type": "stream",
     "text": [
      "                                                                                \r"
     ]
    },
    {
     "name": "stdout",
     "output_type": "stream",
     "text": [
      "  • Appended GSEA for diseaseId=EFO_0000662, library KEGG_2021_Human\n",
      "Reading partition diseaseId=EFO_0000673 from gs://ot-team/polina/pathwaganda/input_4_gsea/oncology/diseaseId=EFO_0000673\n"
     ]
    },
    {
     "name": "stderr",
     "output_type": "stream",
     "text": [
      "                                                                                \r"
     ]
    },
    {
     "name": "stdout",
     "output_type": "stream",
     "text": [
      "  • Appended GSEA for diseaseId=EFO_0000673, library KEGG_2021_Human\n",
      "Reading partition diseaseId=EFO_0000681 from gs://ot-team/polina/pathwaganda/input_4_gsea/oncology/diseaseId=EFO_0000681\n"
     ]
    },
    {
     "name": "stderr",
     "output_type": "stream",
     "text": [
      "                                                                                \r"
     ]
    },
    {
     "name": "stdout",
     "output_type": "stream",
     "text": [
      "  • Appended GSEA for diseaseId=EFO_0000681, library KEGG_2021_Human\n",
      "Reading partition diseaseId=EFO_0000691 from gs://ot-team/polina/pathwaganda/input_4_gsea/oncology/diseaseId=EFO_0000691\n"
     ]
    },
    {
     "name": "stderr",
     "output_type": "stream",
     "text": [
      "                                                                                \r"
     ]
    },
    {
     "name": "stdout",
     "output_type": "stream",
     "text": [
      "  • Appended GSEA for diseaseId=EFO_0000691, library KEGG_2021_Human\n",
      "Reading partition diseaseId=EFO_0000702 from gs://ot-team/polina/pathwaganda/input_4_gsea/oncology/diseaseId=EFO_0000702\n"
     ]
    },
    {
     "name": "stderr",
     "output_type": "stream",
     "text": [
      "                                                                                \r"
     ]
    },
    {
     "name": "stdout",
     "output_type": "stream",
     "text": [
      "  • Appended GSEA for diseaseId=EFO_0000702, library KEGG_2021_Human\n",
      "Reading partition diseaseId=EFO_0000705 from gs://ot-team/polina/pathwaganda/input_4_gsea/oncology/diseaseId=EFO_0000705\n"
     ]
    },
    {
     "name": "stderr",
     "output_type": "stream",
     "text": [
      "                                                                                \r"
     ]
    },
    {
     "name": "stdout",
     "output_type": "stream",
     "text": [
      "  • Appended GSEA for diseaseId=EFO_0000705, library KEGG_2021_Human\n",
      "Reading partition diseaseId=EFO_0000707 from gs://ot-team/polina/pathwaganda/input_4_gsea/oncology/diseaseId=EFO_0000707\n"
     ]
    },
    {
     "name": "stderr",
     "output_type": "stream",
     "text": [
      "                                                                                \r"
     ]
    },
    {
     "name": "stdout",
     "output_type": "stream",
     "text": [
      "  • Appended GSEA for diseaseId=EFO_0000707, library KEGG_2021_Human\n",
      "Reading partition diseaseId=EFO_0000708 from gs://ot-team/polina/pathwaganda/input_4_gsea/oncology/diseaseId=EFO_0000708\n"
     ]
    },
    {
     "name": "stderr",
     "output_type": "stream",
     "text": [
      "                                                                                \r"
     ]
    },
    {
     "name": "stdout",
     "output_type": "stream",
     "text": [
      "  • Appended GSEA for diseaseId=EFO_0000708, library KEGG_2021_Human\n",
      "Reading partition diseaseId=EFO_0000756 from gs://ot-team/polina/pathwaganda/input_4_gsea/oncology/diseaseId=EFO_0000756\n"
     ]
    },
    {
     "name": "stderr",
     "output_type": "stream",
     "text": [
      "                                                                                \r"
     ]
    },
    {
     "name": "stdout",
     "output_type": "stream",
     "text": [
      "  • Appended GSEA for diseaseId=EFO_0000756, library KEGG_2021_Human\n",
      "Reading partition diseaseId=EFO_0001061 from gs://ot-team/polina/pathwaganda/input_4_gsea/oncology/diseaseId=EFO_0001061\n"
     ]
    },
    {
     "name": "stderr",
     "output_type": "stream",
     "text": [
      "                                                                                \r"
     ]
    },
    {
     "name": "stdout",
     "output_type": "stream",
     "text": [
      "  • Appended GSEA for diseaseId=EFO_0001061, library KEGG_2021_Human\n",
      "Reading partition diseaseId=EFO_0001071 from gs://ot-team/polina/pathwaganda/input_4_gsea/oncology/diseaseId=EFO_0001071\n"
     ]
    },
    {
     "name": "stderr",
     "output_type": "stream",
     "text": [
      "                                                                                \r"
     ]
    },
    {
     "name": "stdout",
     "output_type": "stream",
     "text": [
      "  • Appended GSEA for diseaseId=EFO_0001071, library KEGG_2021_Human\n",
      "Reading partition diseaseId=EFO_0001075 from gs://ot-team/polina/pathwaganda/input_4_gsea/oncology/diseaseId=EFO_0001075\n"
     ]
    },
    {
     "name": "stderr",
     "output_type": "stream",
     "text": [
      "                                                                                \r"
     ]
    },
    {
     "name": "stdout",
     "output_type": "stream",
     "text": [
      "  • Appended GSEA for diseaseId=EFO_0001075, library KEGG_2021_Human\n",
      "Reading partition diseaseId=EFO_0001378 from gs://ot-team/polina/pathwaganda/input_4_gsea/oncology/diseaseId=EFO_0001378\n"
     ]
    },
    {
     "name": "stderr",
     "output_type": "stream",
     "text": [
      "                                                                                \r"
     ]
    },
    {
     "name": "stdout",
     "output_type": "stream",
     "text": [
      "  • Appended GSEA for diseaseId=EFO_0001378, library KEGG_2021_Human\n",
      "Reading partition diseaseId=EFO_0001642 from gs://ot-team/polina/pathwaganda/input_4_gsea/oncology/diseaseId=EFO_0001642\n"
     ]
    },
    {
     "name": "stderr",
     "output_type": "stream",
     "text": [
      "                                                                                \r"
     ]
    },
    {
     "name": "stdout",
     "output_type": "stream",
     "text": [
      "  • Appended GSEA for diseaseId=EFO_0001642, library KEGG_2021_Human\n",
      "Reading partition diseaseId=EFO_0001663 from gs://ot-team/polina/pathwaganda/input_4_gsea/oncology/diseaseId=EFO_0001663\n"
     ]
    },
    {
     "name": "stderr",
     "output_type": "stream",
     "text": [
      "                                                                                \r"
     ]
    },
    {
     "name": "stdout",
     "output_type": "stream",
     "text": [
      "  • Appended GSEA for diseaseId=EFO_0001663, library KEGG_2021_Human\n",
      "Reading partition diseaseId=EFO_0002422 from gs://ot-team/polina/pathwaganda/input_4_gsea/oncology/diseaseId=EFO_0002422\n"
     ]
    },
    {
     "name": "stderr",
     "output_type": "stream",
     "text": [
      "                                                                                \r"
     ]
    },
    {
     "name": "stdout",
     "output_type": "stream",
     "text": [
      "  • Appended GSEA for diseaseId=EFO_0002422, library KEGG_2021_Human\n",
      "Reading partition diseaseId=EFO_0002425 from gs://ot-team/polina/pathwaganda/input_4_gsea/oncology/diseaseId=EFO_0002425\n"
     ]
    },
    {
     "name": "stderr",
     "output_type": "stream",
     "text": [
      "                                                                                \r"
     ]
    },
    {
     "name": "stdout",
     "output_type": "stream",
     "text": [
      "  • Appended GSEA for diseaseId=EFO_0002425, library KEGG_2021_Human\n",
      "Reading partition diseaseId=EFO_0002427 from gs://ot-team/polina/pathwaganda/input_4_gsea/oncology/diseaseId=EFO_0002427\n"
     ]
    },
    {
     "name": "stderr",
     "output_type": "stream",
     "text": [
      "                                                                                \r"
     ]
    },
    {
     "name": "stdout",
     "output_type": "stream",
     "text": [
      "  • Appended GSEA for diseaseId=EFO_0002427, library KEGG_2021_Human\n",
      "Reading partition diseaseId=EFO_0002428 from gs://ot-team/polina/pathwaganda/input_4_gsea/oncology/diseaseId=EFO_0002428\n"
     ]
    },
    {
     "name": "stderr",
     "output_type": "stream",
     "text": [
      "                                                                                \r"
     ]
    },
    {
     "name": "stdout",
     "output_type": "stream",
     "text": [
      "  • Appended GSEA for diseaseId=EFO_0002428, library KEGG_2021_Human\n",
      "Reading partition diseaseId=EFO_0002618 from gs://ot-team/polina/pathwaganda/input_4_gsea/oncology/diseaseId=EFO_0002618\n"
     ]
    },
    {
     "name": "stderr",
     "output_type": "stream",
     "text": [
      "                                                                                \r"
     ]
    },
    {
     "name": "stdout",
     "output_type": "stream",
     "text": [
      "  • Appended GSEA for diseaseId=EFO_0002618, library KEGG_2021_Human\n",
      "Reading partition diseaseId=EFO_0002890 from gs://ot-team/polina/pathwaganda/input_4_gsea/oncology/diseaseId=EFO_0002890\n"
     ]
    },
    {
     "name": "stderr",
     "output_type": "stream",
     "text": [
      "                                                                                \r"
     ]
    },
    {
     "name": "stdout",
     "output_type": "stream",
     "text": [
      "  • Appended GSEA for diseaseId=EFO_0002890, library KEGG_2021_Human\n",
      "Reading partition diseaseId=EFO_0002892 from gs://ot-team/polina/pathwaganda/input_4_gsea/oncology/diseaseId=EFO_0002892\n"
     ]
    },
    {
     "name": "stderr",
     "output_type": "stream",
     "text": [
      "                                                                                \r"
     ]
    },
    {
     "name": "stdout",
     "output_type": "stream",
     "text": [
      "  • Appended GSEA for diseaseId=EFO_0002892, library KEGG_2021_Human\n",
      "Reading partition diseaseId=EFO_0002916 from gs://ot-team/polina/pathwaganda/input_4_gsea/oncology/diseaseId=EFO_0002916\n"
     ]
    },
    {
     "name": "stderr",
     "output_type": "stream",
     "text": [
      "                                                                                \r"
     ]
    },
    {
     "name": "stdout",
     "output_type": "stream",
     "text": [
      "  • Appended GSEA for diseaseId=EFO_0002916, library KEGG_2021_Human\n",
      "Reading partition diseaseId=EFO_0002917 from gs://ot-team/polina/pathwaganda/input_4_gsea/oncology/diseaseId=EFO_0002917\n"
     ]
    },
    {
     "name": "stderr",
     "output_type": "stream",
     "text": [
      "                                                                                \r"
     ]
    },
    {
     "name": "stdout",
     "output_type": "stream",
     "text": [
      "  • Appended GSEA for diseaseId=EFO_0002917, library KEGG_2021_Human\n",
      "Reading partition diseaseId=EFO_0002919 from gs://ot-team/polina/pathwaganda/input_4_gsea/oncology/diseaseId=EFO_0002919\n"
     ]
    },
    {
     "name": "stderr",
     "output_type": "stream",
     "text": [
      "                                                                                \r"
     ]
    },
    {
     "name": "stdout",
     "output_type": "stream",
     "text": [
      "  • Appended GSEA for diseaseId=EFO_0002919, library KEGG_2021_Human\n",
      "Reading partition diseaseId=EFO_0003060 from gs://ot-team/polina/pathwaganda/input_4_gsea/oncology/diseaseId=EFO_0003060\n"
     ]
    },
    {
     "name": "stderr",
     "output_type": "stream",
     "text": [
      "                                                                                \r"
     ]
    },
    {
     "name": "stdout",
     "output_type": "stream",
     "text": [
      "  • Appended GSEA for diseaseId=EFO_0003060, library KEGG_2021_Human\n",
      "Reading partition diseaseId=EFO_0003769 from gs://ot-team/polina/pathwaganda/input_4_gsea/oncology/diseaseId=EFO_0003769\n"
     ]
    },
    {
     "name": "stderr",
     "output_type": "stream",
     "text": [
      "                                                                                \r"
     ]
    },
    {
     "name": "stdout",
     "output_type": "stream",
     "text": [
      "  • Appended GSEA for diseaseId=EFO_0003769, library KEGG_2021_Human\n",
      "Reading partition diseaseId=EFO_0003820 from gs://ot-team/polina/pathwaganda/input_4_gsea/oncology/diseaseId=EFO_0003820\n"
     ]
    },
    {
     "name": "stderr",
     "output_type": "stream",
     "text": [
      "                                                                                \r"
     ]
    },
    {
     "name": "stdout",
     "output_type": "stream",
     "text": [
      "  • Appended GSEA for diseaseId=EFO_0003820, library KEGG_2021_Human\n",
      "Reading partition diseaseId=EFO_0003825 from gs://ot-team/polina/pathwaganda/input_4_gsea/oncology/diseaseId=EFO_0003825\n"
     ]
    },
    {
     "name": "stderr",
     "output_type": "stream",
     "text": [
      "                                                                                \r"
     ]
    },
    {
     "name": "stdout",
     "output_type": "stream",
     "text": [
      "  • Appended GSEA for diseaseId=EFO_0003825, library KEGG_2021_Human\n",
      "Reading partition diseaseId=EFO_0003833 from gs://ot-team/polina/pathwaganda/input_4_gsea/oncology/diseaseId=EFO_0003833\n"
     ]
    },
    {
     "name": "stderr",
     "output_type": "stream",
     "text": [
      "                                                                                \r"
     ]
    },
    {
     "name": "stdout",
     "output_type": "stream",
     "text": [
      "  • Appended GSEA for diseaseId=EFO_0003833, library KEGG_2021_Human\n",
      "Reading partition diseaseId=EFO_0003841 from gs://ot-team/polina/pathwaganda/input_4_gsea/oncology/diseaseId=EFO_0003841\n"
     ]
    },
    {
     "name": "stderr",
     "output_type": "stream",
     "text": [
      "                                                                                \r"
     ]
    },
    {
     "name": "stdout",
     "output_type": "stream",
     "text": [
      "  • Appended GSEA for diseaseId=EFO_0003841, library KEGG_2021_Human\n",
      "Reading partition diseaseId=EFO_0003851 from gs://ot-team/polina/pathwaganda/input_4_gsea/oncology/diseaseId=EFO_0003851\n"
     ]
    },
    {
     "name": "stderr",
     "output_type": "stream",
     "text": [
      "                                                                                \r"
     ]
    },
    {
     "name": "stdout",
     "output_type": "stream",
     "text": [
      "  • Appended GSEA for diseaseId=EFO_0003851, library KEGG_2021_Human\n",
      "Reading partition diseaseId=EFO_0003853 from gs://ot-team/polina/pathwaganda/input_4_gsea/oncology/diseaseId=EFO_0003853\n"
     ]
    },
    {
     "name": "stderr",
     "output_type": "stream",
     "text": [
      "                                                                                \r"
     ]
    },
    {
     "name": "stdout",
     "output_type": "stream",
     "text": [
      "  • Appended GSEA for diseaseId=EFO_0003853, library KEGG_2021_Human\n",
      "Reading partition diseaseId=EFO_0003859 from gs://ot-team/polina/pathwaganda/input_4_gsea/oncology/diseaseId=EFO_0003859\n"
     ]
    },
    {
     "name": "stderr",
     "output_type": "stream",
     "text": [
      "                                                                                \r"
     ]
    },
    {
     "name": "stdout",
     "output_type": "stream",
     "text": [
      "  • Appended GSEA for diseaseId=EFO_0003859, library KEGG_2021_Human\n",
      "Reading partition diseaseId=EFO_0003860 from gs://ot-team/polina/pathwaganda/input_4_gsea/oncology/diseaseId=EFO_0003860\n"
     ]
    },
    {
     "name": "stderr",
     "output_type": "stream",
     "text": [
      "                                                                                \r"
     ]
    },
    {
     "name": "stdout",
     "output_type": "stream",
     "text": [
      "  • Appended GSEA for diseaseId=EFO_0003860, library KEGG_2021_Human\n",
      "Reading partition diseaseId=EFO_0003863 from gs://ot-team/polina/pathwaganda/input_4_gsea/oncology/diseaseId=EFO_0003863\n"
     ]
    },
    {
     "name": "stderr",
     "output_type": "stream",
     "text": [
      "                                                                                \r"
     ]
    },
    {
     "name": "stdout",
     "output_type": "stream",
     "text": [
      "  • Appended GSEA for diseaseId=EFO_0003863, library KEGG_2021_Human\n",
      "Reading partition diseaseId=EFO_0003865 from gs://ot-team/polina/pathwaganda/input_4_gsea/oncology/diseaseId=EFO_0003865\n"
     ]
    },
    {
     "name": "stderr",
     "output_type": "stream",
     "text": [
      "                                                                                \r"
     ]
    },
    {
     "name": "stdout",
     "output_type": "stream",
     "text": [
      "  • Appended GSEA for diseaseId=EFO_0003865, library KEGG_2021_Human\n",
      "Reading partition diseaseId=EFO_0003868 from gs://ot-team/polina/pathwaganda/input_4_gsea/oncology/diseaseId=EFO_0003868\n"
     ]
    },
    {
     "name": "stderr",
     "output_type": "stream",
     "text": [
      "                                                                                \r"
     ]
    },
    {
     "name": "stdout",
     "output_type": "stream",
     "text": [
      "  • Appended GSEA for diseaseId=EFO_0003868, library KEGG_2021_Human\n",
      "Reading partition diseaseId=EFO_0003869 from gs://ot-team/polina/pathwaganda/input_4_gsea/oncology/diseaseId=EFO_0003869\n"
     ]
    },
    {
     "name": "stderr",
     "output_type": "stream",
     "text": [
      "                                                                                \r"
     ]
    },
    {
     "name": "stdout",
     "output_type": "stream",
     "text": [
      "  • Appended GSEA for diseaseId=EFO_0003869, library KEGG_2021_Human\n",
      "Reading partition diseaseId=EFO_0003891 from gs://ot-team/polina/pathwaganda/input_4_gsea/oncology/diseaseId=EFO_0003891\n"
     ]
    },
    {
     "name": "stderr",
     "output_type": "stream",
     "text": [
      "                                                                                \r"
     ]
    },
    {
     "name": "stdout",
     "output_type": "stream",
     "text": [
      "  • Appended GSEA for diseaseId=EFO_0003891, library KEGG_2021_Human\n",
      "Reading partition diseaseId=EFO_0003893 from gs://ot-team/polina/pathwaganda/input_4_gsea/oncology/diseaseId=EFO_0003893\n"
     ]
    },
    {
     "name": "stderr",
     "output_type": "stream",
     "text": [
      "                                                                                \r"
     ]
    },
    {
     "name": "stdout",
     "output_type": "stream",
     "text": [
      "  • Appended GSEA for diseaseId=EFO_0003893, library KEGG_2021_Human\n",
      "Reading partition diseaseId=EFO_0003897 from gs://ot-team/polina/pathwaganda/input_4_gsea/oncology/diseaseId=EFO_0003897\n"
     ]
    },
    {
     "name": "stderr",
     "output_type": "stream",
     "text": [
      "                                                                                \r"
     ]
    },
    {
     "name": "stdout",
     "output_type": "stream",
     "text": [
      "  • Appended GSEA for diseaseId=EFO_0003897, library KEGG_2021_Human\n",
      "Reading partition diseaseId=EFO_0004142 from gs://ot-team/polina/pathwaganda/input_4_gsea/oncology/diseaseId=EFO_0004142\n"
     ]
    },
    {
     "name": "stderr",
     "output_type": "stream",
     "text": [
      "                                                                                \r"
     ]
    },
    {
     "name": "stdout",
     "output_type": "stream",
     "text": [
      "  • Appended GSEA for diseaseId=EFO_0004142, library KEGG_2021_Human\n",
      "Reading partition diseaseId=EFO_0004193 from gs://ot-team/polina/pathwaganda/input_4_gsea/oncology/diseaseId=EFO_0004193\n"
     ]
    },
    {
     "name": "stderr",
     "output_type": "stream",
     "text": [
      "                                                                                \r"
     ]
    },
    {
     "name": "stdout",
     "output_type": "stream",
     "text": [
      "  • Appended GSEA for diseaseId=EFO_0004193, library KEGG_2021_Human\n",
      "Reading partition diseaseId=EFO_0004198 from gs://ot-team/polina/pathwaganda/input_4_gsea/oncology/diseaseId=EFO_0004198\n"
     ]
    },
    {
     "name": "stderr",
     "output_type": "stream",
     "text": [
      "                                                                                \r"
     ]
    },
    {
     "name": "stdout",
     "output_type": "stream",
     "text": [
      "  • Appended GSEA for diseaseId=EFO_0004198, library KEGG_2021_Human\n",
      "Reading partition diseaseId=EFO_0004288 from gs://ot-team/polina/pathwaganda/input_4_gsea/oncology/diseaseId=EFO_0004288\n"
     ]
    },
    {
     "name": "stderr",
     "output_type": "stream",
     "text": [
      "                                                                                \r"
     ]
    },
    {
     "name": "stdout",
     "output_type": "stream",
     "text": [
      "  • Appended GSEA for diseaseId=EFO_0004288, library KEGG_2021_Human\n",
      "Reading partition diseaseId=EFO_0004289 from gs://ot-team/polina/pathwaganda/input_4_gsea/oncology/diseaseId=EFO_0004289\n"
     ]
    },
    {
     "name": "stderr",
     "output_type": "stream",
     "text": [
      "                                                                                \r"
     ]
    },
    {
     "name": "stdout",
     "output_type": "stream",
     "text": [
      "  • Appended GSEA for diseaseId=EFO_0004289, library KEGG_2021_Human\n",
      "Reading partition diseaseId=EFO_0004606 from gs://ot-team/polina/pathwaganda/input_4_gsea/oncology/diseaseId=EFO_0004606\n"
     ]
    },
    {
     "name": "stderr",
     "output_type": "stream",
     "text": [
      "                                                                                \r"
     ]
    },
    {
     "name": "stdout",
     "output_type": "stream",
     "text": [
      "  • Appended GSEA for diseaseId=EFO_0004606, library KEGG_2021_Human\n",
      "Reading partition diseaseId=EFO_0005220 from gs://ot-team/polina/pathwaganda/input_4_gsea/oncology/diseaseId=EFO_0005220\n"
     ]
    },
    {
     "name": "stderr",
     "output_type": "stream",
     "text": [
      "                                                                                \r"
     ]
    },
    {
     "name": "stdout",
     "output_type": "stream",
     "text": [
      "  • Appended GSEA for diseaseId=EFO_0005220, library KEGG_2021_Human\n",
      "Reading partition diseaseId=EFO_0005232 from gs://ot-team/polina/pathwaganda/input_4_gsea/oncology/diseaseId=EFO_0005232\n"
     ]
    },
    {
     "name": "stderr",
     "output_type": "stream",
     "text": [
      "                                                                                \r"
     ]
    },
    {
     "name": "stdout",
     "output_type": "stream",
     "text": [
      "  • Appended GSEA for diseaseId=EFO_0005232, library KEGG_2021_Human\n",
      "Reading partition diseaseId=EFO_0005235 from gs://ot-team/polina/pathwaganda/input_4_gsea/oncology/diseaseId=EFO_0005235\n"
     ]
    },
    {
     "name": "stderr",
     "output_type": "stream",
     "text": [
      "                                                                                \r"
     ]
    },
    {
     "name": "stdout",
     "output_type": "stream",
     "text": [
      "  • Appended GSEA for diseaseId=EFO_0005235, library KEGG_2021_Human\n",
      "Reading partition diseaseId=EFO_0005540 from gs://ot-team/polina/pathwaganda/input_4_gsea/oncology/diseaseId=EFO_0005540\n"
     ]
    },
    {
     "name": "stderr",
     "output_type": "stream",
     "text": [
      "                                                                                \r"
     ]
    },
    {
     "name": "stdout",
     "output_type": "stream",
     "text": [
      "  • Appended GSEA for diseaseId=EFO_0005540, library KEGG_2021_Human\n",
      "Reading partition diseaseId=EFO_0005543 from gs://ot-team/polina/pathwaganda/input_4_gsea/oncology/diseaseId=EFO_0005543\n"
     ]
    },
    {
     "name": "stderr",
     "output_type": "stream",
     "text": [
      "                                                                                \r"
     ]
    },
    {
     "name": "stdout",
     "output_type": "stream",
     "text": [
      "  • Appended GSEA for diseaseId=EFO_0005543, library KEGG_2021_Human\n",
      "Reading partition diseaseId=EFO_0005561 from gs://ot-team/polina/pathwaganda/input_4_gsea/oncology/diseaseId=EFO_0005561\n"
     ]
    },
    {
     "name": "stderr",
     "output_type": "stream",
     "text": [
      "                                                                                \r"
     ]
    },
    {
     "name": "stdout",
     "output_type": "stream",
     "text": [
      "  • Appended GSEA for diseaseId=EFO_0005561, library KEGG_2021_Human\n",
      "Reading partition diseaseId=EFO_0005570 from gs://ot-team/polina/pathwaganda/input_4_gsea/oncology/diseaseId=EFO_0005570\n"
     ]
    },
    {
     "name": "stderr",
     "output_type": "stream",
     "text": [
      "                                                                                \r"
     ]
    },
    {
     "name": "stdout",
     "output_type": "stream",
     "text": [
      "  • Appended GSEA for diseaseId=EFO_0005570, library KEGG_2021_Human\n",
      "Reading partition diseaseId=EFO_0005588 from gs://ot-team/polina/pathwaganda/input_4_gsea/oncology/diseaseId=EFO_0005588\n"
     ]
    },
    {
     "name": "stderr",
     "output_type": "stream",
     "text": [
      "                                                                                \r"
     ]
    },
    {
     "name": "stdout",
     "output_type": "stream",
     "text": [
      "  • Appended GSEA for diseaseId=EFO_0005588, library KEGG_2021_Human\n",
      "Reading partition diseaseId=EFO_0005592 from gs://ot-team/polina/pathwaganda/input_4_gsea/oncology/diseaseId=EFO_0005592\n"
     ]
    },
    {
     "name": "stderr",
     "output_type": "stream",
     "text": [
      "                                                                                \r"
     ]
    },
    {
     "name": "stdout",
     "output_type": "stream",
     "text": [
      "  • Appended GSEA for diseaseId=EFO_0005592, library KEGG_2021_Human\n",
      "Reading partition diseaseId=EFO_0005631 from gs://ot-team/polina/pathwaganda/input_4_gsea/oncology/diseaseId=EFO_0005631\n"
     ]
    },
    {
     "name": "stderr",
     "output_type": "stream",
     "text": [
      "                                                                                \r"
     ]
    },
    {
     "name": "stdout",
     "output_type": "stream",
     "text": [
      "  • Appended GSEA for diseaseId=EFO_0005631, library KEGG_2021_Human\n",
      "Reading partition diseaseId=EFO_0005708 from gs://ot-team/polina/pathwaganda/input_4_gsea/oncology/diseaseId=EFO_0005708\n",
      "  • Appended GSEA for diseaseId=EFO_0005708, library KEGG_2021_Human\n",
      "Reading partition diseaseId=EFO_0005784 from gs://ot-team/polina/pathwaganda/input_4_gsea/oncology/diseaseId=EFO_0005784\n"
     ]
    },
    {
     "name": "stderr",
     "output_type": "stream",
     "text": [
      "                                                                                \r"
     ]
    },
    {
     "name": "stdout",
     "output_type": "stream",
     "text": [
      "  • Appended GSEA for diseaseId=EFO_0005784, library KEGG_2021_Human\n",
      "Reading partition diseaseId=EFO_0005922 from gs://ot-team/polina/pathwaganda/input_4_gsea/oncology/diseaseId=EFO_0005922\n"
     ]
    },
    {
     "name": "stderr",
     "output_type": "stream",
     "text": [
      "                                                                                \r"
     ]
    },
    {
     "name": "stdout",
     "output_type": "stream",
     "text": [
      "  • Appended GSEA for diseaseId=EFO_0005922, library KEGG_2021_Human\n",
      "Reading partition diseaseId=EFO_0005950 from gs://ot-team/polina/pathwaganda/input_4_gsea/oncology/diseaseId=EFO_0005950\n"
     ]
    },
    {
     "name": "stderr",
     "output_type": "stream",
     "text": [
      "                                                                                \r"
     ]
    },
    {
     "name": "stdout",
     "output_type": "stream",
     "text": [
      "  • Appended GSEA for diseaseId=EFO_0005950, library KEGG_2021_Human\n",
      "Reading partition diseaseId=EFO_0005952 from gs://ot-team/polina/pathwaganda/input_4_gsea/oncology/diseaseId=EFO_0005952\n"
     ]
    },
    {
     "name": "stderr",
     "output_type": "stream",
     "text": [
      "                                                                                \r"
     ]
    },
    {
     "name": "stdout",
     "output_type": "stream",
     "text": [
      "  • Appended GSEA for diseaseId=EFO_0005952, library KEGG_2021_Human\n",
      "Reading partition diseaseId=EFO_0006318 from gs://ot-team/polina/pathwaganda/input_4_gsea/oncology/diseaseId=EFO_0006318\n"
     ]
    },
    {
     "name": "stderr",
     "output_type": "stream",
     "text": [
      "                                                                                \r"
     ]
    },
    {
     "name": "stdout",
     "output_type": "stream",
     "text": [
      "  • Appended GSEA for diseaseId=EFO_0006318, library KEGG_2021_Human\n",
      "Reading partition diseaseId=EFO_0006460 from gs://ot-team/polina/pathwaganda/input_4_gsea/oncology/diseaseId=EFO_0006460\n"
     ]
    },
    {
     "name": "stderr",
     "output_type": "stream",
     "text": [
      "                                                                                \r"
     ]
    },
    {
     "name": "stdout",
     "output_type": "stream",
     "text": [
      "  • Appended GSEA for diseaseId=EFO_0006460, library KEGG_2021_Human\n",
      "Reading partition diseaseId=EFO_0006500 from gs://ot-team/polina/pathwaganda/input_4_gsea/oncology/diseaseId=EFO_0006500\n"
     ]
    },
    {
     "name": "stderr",
     "output_type": "stream",
     "text": [
      "                                                                                \r"
     ]
    },
    {
     "name": "stdout",
     "output_type": "stream",
     "text": [
      "  • Appended GSEA for diseaseId=EFO_0006500, library KEGG_2021_Human\n",
      "Reading partition diseaseId=EFO_0006544 from gs://ot-team/polina/pathwaganda/input_4_gsea/oncology/diseaseId=EFO_0006544\n"
     ]
    },
    {
     "name": "stderr",
     "output_type": "stream",
     "text": [
      "                                                                                \r"
     ]
    },
    {
     "name": "stdout",
     "output_type": "stream",
     "text": [
      "  • Appended GSEA for diseaseId=EFO_0006544, library KEGG_2021_Human\n",
      "Reading partition diseaseId=EFO_0006545 from gs://ot-team/polina/pathwaganda/input_4_gsea/oncology/diseaseId=EFO_0006545\n"
     ]
    },
    {
     "name": "stderr",
     "output_type": "stream",
     "text": [
      "                                                                                \r"
     ]
    },
    {
     "name": "stdout",
     "output_type": "stream",
     "text": [
      "  • Appended GSEA for diseaseId=EFO_0006545, library KEGG_2021_Human\n",
      "Reading partition diseaseId=EFO_0006858 from gs://ot-team/polina/pathwaganda/input_4_gsea/oncology/diseaseId=EFO_0006858\n"
     ]
    },
    {
     "name": "stderr",
     "output_type": "stream",
     "text": [
      "                                                                                \r"
     ]
    },
    {
     "name": "stdout",
     "output_type": "stream",
     "text": [
      "  • Appended GSEA for diseaseId=EFO_0006858, library KEGG_2021_Human\n",
      "Reading partition diseaseId=EFO_0006859 from gs://ot-team/polina/pathwaganda/input_4_gsea/oncology/diseaseId=EFO_0006859\n"
     ]
    },
    {
     "name": "stderr",
     "output_type": "stream",
     "text": [
      "                                                                                \r"
     ]
    },
    {
     "name": "stdout",
     "output_type": "stream",
     "text": [
      "  • Appended GSEA for diseaseId=EFO_0006859, library KEGG_2021_Human\n",
      "Reading partition diseaseId=EFO_0007330 from gs://ot-team/polina/pathwaganda/input_4_gsea/oncology/diseaseId=EFO_0007330\n"
     ]
    },
    {
     "name": "stderr",
     "output_type": "stream",
     "text": [
      "                                                                                \r"
     ]
    },
    {
     "name": "stdout",
     "output_type": "stream",
     "text": [
      "  • Appended GSEA for diseaseId=EFO_0007330, library KEGG_2021_Human\n",
      "Reading partition diseaseId=EFO_0007331 from gs://ot-team/polina/pathwaganda/input_4_gsea/oncology/diseaseId=EFO_0007331\n"
     ]
    },
    {
     "name": "stderr",
     "output_type": "stream",
     "text": [
      "                                                                                \r"
     ]
    },
    {
     "name": "stdout",
     "output_type": "stream",
     "text": [
      "  • Appended GSEA for diseaseId=EFO_0007331, library KEGG_2021_Human\n",
      "Reading partition diseaseId=EFO_0007355 from gs://ot-team/polina/pathwaganda/input_4_gsea/oncology/diseaseId=EFO_0007355\n"
     ]
    },
    {
     "name": "stderr",
     "output_type": "stream",
     "text": [
      "                                                                                \r"
     ]
    },
    {
     "name": "stdout",
     "output_type": "stream",
     "text": [
      "  • Appended GSEA for diseaseId=EFO_0007355, library KEGG_2021_Human\n",
      "Reading partition diseaseId=EFO_0007392 from gs://ot-team/polina/pathwaganda/input_4_gsea/oncology/diseaseId=EFO_0007392\n"
     ]
    },
    {
     "name": "stderr",
     "output_type": "stream",
     "text": [
      "                                                                                \r"
     ]
    },
    {
     "name": "stdout",
     "output_type": "stream",
     "text": [
      "  • Appended GSEA for diseaseId=EFO_0007392, library KEGG_2021_Human\n",
      "Reading partition diseaseId=EFO_0008509 from gs://ot-team/polina/pathwaganda/input_4_gsea/oncology/diseaseId=EFO_0008509\n"
     ]
    },
    {
     "name": "stderr",
     "output_type": "stream",
     "text": [
      "                                                                                \r"
     ]
    },
    {
     "name": "stdout",
     "output_type": "stream",
     "text": [
      "  • Appended GSEA for diseaseId=EFO_0008509, library KEGG_2021_Human\n",
      "Reading partition diseaseId=EFO_0008515 from gs://ot-team/polina/pathwaganda/input_4_gsea/oncology/diseaseId=EFO_0008515\n"
     ]
    },
    {
     "name": "stderr",
     "output_type": "stream",
     "text": [
      "                                                                                \r"
     ]
    },
    {
     "name": "stdout",
     "output_type": "stream",
     "text": [
      "  • Appended GSEA for diseaseId=EFO_0008515, library KEGG_2021_Human\n",
      "Reading partition diseaseId=EFO_0008524 from gs://ot-team/polina/pathwaganda/input_4_gsea/oncology/diseaseId=EFO_0008524\n"
     ]
    },
    {
     "name": "stderr",
     "output_type": "stream",
     "text": [
      "                                                                                \r"
     ]
    },
    {
     "name": "stdout",
     "output_type": "stream",
     "text": [
      "  • Appended GSEA for diseaseId=EFO_0008524, library KEGG_2021_Human\n",
      "Reading partition diseaseId=EFO_0008528 from gs://ot-team/polina/pathwaganda/input_4_gsea/oncology/diseaseId=EFO_0008528\n"
     ]
    },
    {
     "name": "stderr",
     "output_type": "stream",
     "text": [
      "                                                                                \r"
     ]
    },
    {
     "name": "stdout",
     "output_type": "stream",
     "text": [
      "  • Appended GSEA for diseaseId=EFO_0008528, library KEGG_2021_Human\n",
      "Reading partition diseaseId=EFO_0008549 from gs://ot-team/polina/pathwaganda/input_4_gsea/oncology/diseaseId=EFO_0008549\n"
     ]
    },
    {
     "name": "stderr",
     "output_type": "stream",
     "text": [
      "                                                                                \r"
     ]
    },
    {
     "name": "stdout",
     "output_type": "stream",
     "text": [
      "  • Appended GSEA for diseaseId=EFO_0008549, library KEGG_2021_Human\n",
      "Reading partition diseaseId=EFO_0008550 from gs://ot-team/polina/pathwaganda/input_4_gsea/oncology/diseaseId=EFO_0008550\n"
     ]
    },
    {
     "name": "stderr",
     "output_type": "stream",
     "text": [
      "                                                                                \r"
     ]
    },
    {
     "name": "stdout",
     "output_type": "stream",
     "text": [
      "  • Appended GSEA for diseaseId=EFO_0008550, library KEGG_2021_Human\n",
      "Reading partition diseaseId=EFO_0009119 from gs://ot-team/polina/pathwaganda/input_4_gsea/oncology/diseaseId=EFO_0009119\n"
     ]
    },
    {
     "name": "stderr",
     "output_type": "stream",
     "text": [
      "                                                                                \r"
     ]
    },
    {
     "name": "stdout",
     "output_type": "stream",
     "text": [
      "  • Appended GSEA for diseaseId=EFO_0009119, library KEGG_2021_Human\n",
      "Reading partition diseaseId=EFO_0009255 from gs://ot-team/polina/pathwaganda/input_4_gsea/oncology/diseaseId=EFO_0009255\n"
     ]
    },
    {
     "name": "stderr",
     "output_type": "stream",
     "text": [
      "                                                                                \r"
     ]
    },
    {
     "name": "stdout",
     "output_type": "stream",
     "text": [
      "  • Appended GSEA for diseaseId=EFO_0009255, library KEGG_2021_Human\n",
      "Reading partition diseaseId=EFO_0009259 from gs://ot-team/polina/pathwaganda/input_4_gsea/oncology/diseaseId=EFO_0009259\n"
     ]
    },
    {
     "name": "stderr",
     "output_type": "stream",
     "text": [
      "                                                                                \r"
     ]
    },
    {
     "name": "stdout",
     "output_type": "stream",
     "text": [
      "  • Appended GSEA for diseaseId=EFO_0009259, library KEGG_2021_Human\n",
      "Reading partition diseaseId=EFO_0009260 from gs://ot-team/polina/pathwaganda/input_4_gsea/oncology/diseaseId=EFO_0009260\n"
     ]
    },
    {
     "name": "stderr",
     "output_type": "stream",
     "text": [
      "                                                                                \r"
     ]
    },
    {
     "name": "stdout",
     "output_type": "stream",
     "text": [
      "  • Appended GSEA for diseaseId=EFO_0009260, library KEGG_2021_Human\n",
      "Reading partition diseaseId=EFO_0010176 from gs://ot-team/polina/pathwaganda/input_4_gsea/oncology/diseaseId=EFO_0010176\n"
     ]
    },
    {
     "name": "stderr",
     "output_type": "stream",
     "text": [
      "                                                                                \r"
     ]
    },
    {
     "name": "stdout",
     "output_type": "stream",
     "text": [
      "  • Appended GSEA for diseaseId=EFO_0010176, library KEGG_2021_Human\n",
      "Reading partition diseaseId=EFO_1000020 from gs://ot-team/polina/pathwaganda/input_4_gsea/oncology/diseaseId=EFO_1000020\n",
      "  • Appended GSEA for diseaseId=EFO_1000020, library KEGG_2021_Human\n",
      "Reading partition diseaseId=EFO_1000021 from gs://ot-team/polina/pathwaganda/input_4_gsea/oncology/diseaseId=EFO_1000021\n"
     ]
    },
    {
     "name": "stderr",
     "output_type": "stream",
     "text": [
      "                                                                                \r"
     ]
    },
    {
     "name": "stdout",
     "output_type": "stream",
     "text": [
      "  • Appended GSEA for diseaseId=EFO_1000021, library KEGG_2021_Human\n",
      "Reading partition diseaseId=EFO_1000044 from gs://ot-team/polina/pathwaganda/input_4_gsea/oncology/diseaseId=EFO_1000044\n"
     ]
    },
    {
     "name": "stderr",
     "output_type": "stream",
     "text": [
      "                                                                                \r"
     ]
    },
    {
     "name": "stdout",
     "output_type": "stream",
     "text": [
      "  • Appended GSEA for diseaseId=EFO_1000044, library KEGG_2021_Human\n",
      "Reading partition diseaseId=EFO_1000045 from gs://ot-team/polina/pathwaganda/input_4_gsea/oncology/diseaseId=EFO_1000045\n"
     ]
    },
    {
     "name": "stderr",
     "output_type": "stream",
     "text": [
      "                                                                                \r"
     ]
    },
    {
     "name": "stdout",
     "output_type": "stream",
     "text": [
      "  • Appended GSEA for diseaseId=EFO_1000045, library KEGG_2021_Human\n",
      "Reading partition diseaseId=EFO_1000051 from gs://ot-team/polina/pathwaganda/input_4_gsea/oncology/diseaseId=EFO_1000051\n"
     ]
    },
    {
     "name": "stderr",
     "output_type": "stream",
     "text": [
      "                                                                                \r"
     ]
    },
    {
     "name": "stdout",
     "output_type": "stream",
     "text": [
      "  • Appended GSEA for diseaseId=EFO_1000051, library KEGG_2021_Human\n",
      "Reading partition diseaseId=EFO_1000068 from gs://ot-team/polina/pathwaganda/input_4_gsea/oncology/diseaseId=EFO_1000068\n",
      "  • Appended GSEA for diseaseId=EFO_1000068, library KEGG_2021_Human\n",
      "Reading partition diseaseId=EFO_1000121 from gs://ot-team/polina/pathwaganda/input_4_gsea/oncology/diseaseId=EFO_1000121\n"
     ]
    },
    {
     "name": "stderr",
     "output_type": "stream",
     "text": [
      "                                                                                \r"
     ]
    },
    {
     "name": "stdout",
     "output_type": "stream",
     "text": [
      "  • Appended GSEA for diseaseId=EFO_1000121, library KEGG_2021_Human\n",
      "Reading partition diseaseId=EFO_1000143 from gs://ot-team/polina/pathwaganda/input_4_gsea/oncology/diseaseId=EFO_1000143\n"
     ]
    },
    {
     "name": "stderr",
     "output_type": "stream",
     "text": [
      "                                                                                \r"
     ]
    },
    {
     "name": "stdout",
     "output_type": "stream",
     "text": [
      "  • Appended GSEA for diseaseId=EFO_1000143, library KEGG_2021_Human\n",
      "Reading partition diseaseId=EFO_1000158 from gs://ot-team/polina/pathwaganda/input_4_gsea/oncology/diseaseId=EFO_1000158\n"
     ]
    },
    {
     "name": "stderr",
     "output_type": "stream",
     "text": [
      "                                                                                \r"
     ]
    },
    {
     "name": "stdout",
     "output_type": "stream",
     "text": [
      "  • Appended GSEA for diseaseId=EFO_1000158, library KEGG_2021_Human\n",
      "Reading partition diseaseId=EFO_1000172 from gs://ot-team/polina/pathwaganda/input_4_gsea/oncology/diseaseId=EFO_1000172\n"
     ]
    },
    {
     "name": "stderr",
     "output_type": "stream",
     "text": [
      "                                                                                \r"
     ]
    },
    {
     "name": "stdout",
     "output_type": "stream",
     "text": [
      "  • Appended GSEA for diseaseId=EFO_1000172, library KEGG_2021_Human\n",
      "Reading partition diseaseId=EFO_1000217 from gs://ot-team/polina/pathwaganda/input_4_gsea/oncology/diseaseId=EFO_1000217\n"
     ]
    },
    {
     "name": "stderr",
     "output_type": "stream",
     "text": [
      "                                                                                \r"
     ]
    },
    {
     "name": "stdout",
     "output_type": "stream",
     "text": [
      "  • Appended GSEA for diseaseId=EFO_1000217, library KEGG_2021_Human\n",
      "Reading partition diseaseId=EFO_1000218 from gs://ot-team/polina/pathwaganda/input_4_gsea/oncology/diseaseId=EFO_1000218\n"
     ]
    },
    {
     "name": "stderr",
     "output_type": "stream",
     "text": [
      "                                                                                \r"
     ]
    },
    {
     "name": "stdout",
     "output_type": "stream",
     "text": [
      "  • Appended GSEA for diseaseId=EFO_1000218, library KEGG_2021_Human\n",
      "Reading partition diseaseId=EFO_1000223 from gs://ot-team/polina/pathwaganda/input_4_gsea/oncology/diseaseId=EFO_1000223\n"
     ]
    },
    {
     "name": "stderr",
     "output_type": "stream",
     "text": [
      "                                                                                \r"
     ]
    },
    {
     "name": "stdout",
     "output_type": "stream",
     "text": [
      "  • Appended GSEA for diseaseId=EFO_1000223, library KEGG_2021_Human\n",
      "Reading partition diseaseId=EFO_1000233 from gs://ot-team/polina/pathwaganda/input_4_gsea/oncology/diseaseId=EFO_1000233\n"
     ]
    },
    {
     "name": "stderr",
     "output_type": "stream",
     "text": [
      "                                                                                \r"
     ]
    },
    {
     "name": "stdout",
     "output_type": "stream",
     "text": [
      "  • Appended GSEA for diseaseId=EFO_1000233, library KEGG_2021_Human\n",
      "Reading partition diseaseId=EFO_1000255 from gs://ot-team/polina/pathwaganda/input_4_gsea/oncology/diseaseId=EFO_1000255\n"
     ]
    },
    {
     "name": "stderr",
     "output_type": "stream",
     "text": [
      "                                                                                \r"
     ]
    },
    {
     "name": "stdout",
     "output_type": "stream",
     "text": [
      "  • Appended GSEA for diseaseId=EFO_1000255, library KEGG_2021_Human\n",
      "Reading partition diseaseId=EFO_1000262 from gs://ot-team/polina/pathwaganda/input_4_gsea/oncology/diseaseId=EFO_1000262\n"
     ]
    },
    {
     "name": "stderr",
     "output_type": "stream",
     "text": [
      "                                                                                \r"
     ]
    },
    {
     "name": "stdout",
     "output_type": "stream",
     "text": [
      "  • Appended GSEA for diseaseId=EFO_1000262, library KEGG_2021_Human\n",
      "Reading partition diseaseId=EFO_1000294 from gs://ot-team/polina/pathwaganda/input_4_gsea/oncology/diseaseId=EFO_1000294\n"
     ]
    },
    {
     "name": "stderr",
     "output_type": "stream",
     "text": [
      "                                                                                \r"
     ]
    },
    {
     "name": "stdout",
     "output_type": "stream",
     "text": [
      "  • Appended GSEA for diseaseId=EFO_1000294, library KEGG_2021_Human\n",
      "Reading partition diseaseId=EFO_1000304 from gs://ot-team/polina/pathwaganda/input_4_gsea/oncology/diseaseId=EFO_1000304\n"
     ]
    },
    {
     "name": "stderr",
     "output_type": "stream",
     "text": [
      "                                                                                \r"
     ]
    },
    {
     "name": "stdout",
     "output_type": "stream",
     "text": [
      "  • Appended GSEA for diseaseId=EFO_1000304, library KEGG_2021_Human\n",
      "Reading partition diseaseId=EFO_1000307 from gs://ot-team/polina/pathwaganda/input_4_gsea/oncology/diseaseId=EFO_1000307\n"
     ]
    },
    {
     "name": "stderr",
     "output_type": "stream",
     "text": [
      "                                                                                \r"
     ]
    },
    {
     "name": "stdout",
     "output_type": "stream",
     "text": [
      "  • Appended GSEA for diseaseId=EFO_1000307, library KEGG_2021_Human\n",
      "Reading partition diseaseId=EFO_1000350 from gs://ot-team/polina/pathwaganda/input_4_gsea/oncology/diseaseId=EFO_1000350\n"
     ]
    },
    {
     "name": "stderr",
     "output_type": "stream",
     "text": [
      "                                                                                \r"
     ]
    },
    {
     "name": "stdout",
     "output_type": "stream",
     "text": [
      "  • Appended GSEA for diseaseId=EFO_1000350, library KEGG_2021_Human\n",
      "Reading partition diseaseId=EFO_1000356 from gs://ot-team/polina/pathwaganda/input_4_gsea/oncology/diseaseId=EFO_1000356\n"
     ]
    },
    {
     "name": "stderr",
     "output_type": "stream",
     "text": [
      "                                                                                \r"
     ]
    },
    {
     "name": "stdout",
     "output_type": "stream",
     "text": [
      "  • Appended GSEA for diseaseId=EFO_1000356, library KEGG_2021_Human\n",
      "Reading partition diseaseId=EFO_1000359 from gs://ot-team/polina/pathwaganda/input_4_gsea/oncology/diseaseId=EFO_1000359\n"
     ]
    },
    {
     "name": "stderr",
     "output_type": "stream",
     "text": [
      "                                                                                \r"
     ]
    },
    {
     "name": "stdout",
     "output_type": "stream",
     "text": [
      "  • Appended GSEA for diseaseId=EFO_1000359, library KEGG_2021_Human\n",
      "Reading partition diseaseId=EFO_1000363 from gs://ot-team/polina/pathwaganda/input_4_gsea/oncology/diseaseId=EFO_1000363\n"
     ]
    },
    {
     "name": "stderr",
     "output_type": "stream",
     "text": [
      "                                                                                \r"
     ]
    },
    {
     "name": "stdout",
     "output_type": "stream",
     "text": [
      "  • Appended GSEA for diseaseId=EFO_1000363, library KEGG_2021_Human\n",
      "Reading partition diseaseId=EFO_1000416 from gs://ot-team/polina/pathwaganda/input_4_gsea/oncology/diseaseId=EFO_1000416\n"
     ]
    },
    {
     "name": "stderr",
     "output_type": "stream",
     "text": [
      "                                                                                \r"
     ]
    },
    {
     "name": "stdout",
     "output_type": "stream",
     "text": [
      "  • Appended GSEA for diseaseId=EFO_1000416, library KEGG_2021_Human\n",
      "Reading partition diseaseId=EFO_1000417 from gs://ot-team/polina/pathwaganda/input_4_gsea/oncology/diseaseId=EFO_1000417\n"
     ]
    },
    {
     "name": "stderr",
     "output_type": "stream",
     "text": [
      "                                                                                \r"
     ]
    },
    {
     "name": "stdout",
     "output_type": "stream",
     "text": [
      "  • Appended GSEA for diseaseId=EFO_1000417, library KEGG_2021_Human\n",
      "Reading partition diseaseId=EFO_1000532 from gs://ot-team/polina/pathwaganda/input_4_gsea/oncology/diseaseId=EFO_1000532\n"
     ]
    },
    {
     "name": "stderr",
     "output_type": "stream",
     "text": [
      "                                                                                \r"
     ]
    },
    {
     "name": "stdout",
     "output_type": "stream",
     "text": [
      "  • Appended GSEA for diseaseId=EFO_1000532, library KEGG_2021_Human\n",
      "Reading partition diseaseId=EFO_1000541 from gs://ot-team/polina/pathwaganda/input_4_gsea/oncology/diseaseId=EFO_1000541\n"
     ]
    },
    {
     "name": "stderr",
     "output_type": "stream",
     "text": [
      "                                                                                \r"
     ]
    },
    {
     "name": "stdout",
     "output_type": "stream",
     "text": [
      "  • Appended GSEA for diseaseId=EFO_1000541, library KEGG_2021_Human\n",
      "Reading partition diseaseId=EFO_1000601 from gs://ot-team/polina/pathwaganda/input_4_gsea/oncology/diseaseId=EFO_1000601\n"
     ]
    },
    {
     "name": "stderr",
     "output_type": "stream",
     "text": [
      "                                                                                \r"
     ]
    },
    {
     "name": "stdout",
     "output_type": "stream",
     "text": [
      "  • Appended GSEA for diseaseId=EFO_1000601, library KEGG_2021_Human\n",
      "Reading partition diseaseId=EFO_1000613 from gs://ot-team/polina/pathwaganda/input_4_gsea/oncology/diseaseId=EFO_1000613\n"
     ]
    },
    {
     "name": "stderr",
     "output_type": "stream",
     "text": [
      "                                                                                \r"
     ]
    },
    {
     "name": "stdout",
     "output_type": "stream",
     "text": [
      "  • Appended GSEA for diseaseId=EFO_1000613, library KEGG_2021_Human\n",
      "Reading partition diseaseId=EFO_1000646 from gs://ot-team/polina/pathwaganda/input_4_gsea/oncology/diseaseId=EFO_1000646\n"
     ]
    },
    {
     "name": "stderr",
     "output_type": "stream",
     "text": [
      "                                                                                \r"
     ]
    },
    {
     "name": "stdout",
     "output_type": "stream",
     "text": [
      "  • Appended GSEA for diseaseId=EFO_1000646, library KEGG_2021_Human\n",
      "Reading partition diseaseId=EFO_1000657 from gs://ot-team/polina/pathwaganda/input_4_gsea/oncology/diseaseId=EFO_1000657\n",
      "  • Appended GSEA for diseaseId=EFO_1000657, library KEGG_2021_Human\n",
      "Reading partition diseaseId=EFO_1001185 from gs://ot-team/polina/pathwaganda/input_4_gsea/oncology/diseaseId=EFO_1001185\n"
     ]
    },
    {
     "name": "stderr",
     "output_type": "stream",
     "text": [
      "                                                                                \r"
     ]
    },
    {
     "name": "stdout",
     "output_type": "stream",
     "text": [
      "  • Appended GSEA for diseaseId=EFO_1001185, library KEGG_2021_Human\n",
      "Reading partition diseaseId=EFO_1001331 from gs://ot-team/polina/pathwaganda/input_4_gsea/oncology/diseaseId=EFO_1001331\n"
     ]
    },
    {
     "name": "stderr",
     "output_type": "stream",
     "text": [
      "                                                                                \r"
     ]
    },
    {
     "name": "stdout",
     "output_type": "stream",
     "text": [
      "  • Appended GSEA for diseaseId=EFO_1001331, library KEGG_2021_Human\n",
      "Reading partition diseaseId=EFO_1001471 from gs://ot-team/polina/pathwaganda/input_4_gsea/oncology/diseaseId=EFO_1001471\n"
     ]
    },
    {
     "name": "stderr",
     "output_type": "stream",
     "text": [
      "                                                                                \r"
     ]
    },
    {
     "name": "stdout",
     "output_type": "stream",
     "text": [
      "  • Appended GSEA for diseaseId=EFO_1001471, library KEGG_2021_Human\n",
      "Reading partition diseaseId=EFO_1001512 from gs://ot-team/polina/pathwaganda/input_4_gsea/oncology/diseaseId=EFO_1001512\n"
     ]
    },
    {
     "name": "stderr",
     "output_type": "stream",
     "text": [
      "                                                                                \r"
     ]
    },
    {
     "name": "stdout",
     "output_type": "stream",
     "text": [
      "  • Appended GSEA for diseaseId=EFO_1001512, library KEGG_2021_Human\n",
      "Reading partition diseaseId=EFO_1001763 from gs://ot-team/polina/pathwaganda/input_4_gsea/oncology/diseaseId=EFO_1001763\n"
     ]
    },
    {
     "name": "stderr",
     "output_type": "stream",
     "text": [
      "                                                                                \r"
     ]
    },
    {
     "name": "stdout",
     "output_type": "stream",
     "text": [
      "  • Appended GSEA for diseaseId=EFO_1001763, library KEGG_2021_Human\n",
      "Reading partition diseaseId=EFO_1001901 from gs://ot-team/polina/pathwaganda/input_4_gsea/oncology/diseaseId=EFO_1001901\n"
     ]
    },
    {
     "name": "stderr",
     "output_type": "stream",
     "text": [
      "                                                                                \r"
     ]
    },
    {
     "name": "stdout",
     "output_type": "stream",
     "text": [
      "  • Appended GSEA for diseaseId=EFO_1001901, library KEGG_2021_Human\n",
      "Reading partition diseaseId=EFO_1001938 from gs://ot-team/polina/pathwaganda/input_4_gsea/oncology/diseaseId=EFO_1001938\n"
     ]
    },
    {
     "name": "stderr",
     "output_type": "stream",
     "text": [
      "                                                                                \r"
     ]
    },
    {
     "name": "stdout",
     "output_type": "stream",
     "text": [
      "  • Appended GSEA for diseaseId=EFO_1001938, library KEGG_2021_Human\n",
      "Reading partition diseaseId=EFO_1001949 from gs://ot-team/polina/pathwaganda/input_4_gsea/oncology/diseaseId=EFO_1001949\n"
     ]
    },
    {
     "name": "stderr",
     "output_type": "stream",
     "text": [
      "                                                                                \r"
     ]
    },
    {
     "name": "stdout",
     "output_type": "stream",
     "text": [
      "  • Appended GSEA for diseaseId=EFO_1001949, library KEGG_2021_Human\n",
      "Reading partition diseaseId=EFO_1001950 from gs://ot-team/polina/pathwaganda/input_4_gsea/oncology/diseaseId=EFO_1001950\n",
      "  • Appended GSEA for diseaseId=EFO_1001950, library KEGG_2021_Human\n",
      "Reading partition diseaseId=EFO_1001951 from gs://ot-team/polina/pathwaganda/input_4_gsea/oncology/diseaseId=EFO_1001951\n"
     ]
    },
    {
     "name": "stderr",
     "output_type": "stream",
     "text": [
      "                                                                                \r"
     ]
    },
    {
     "name": "stdout",
     "output_type": "stream",
     "text": [
      "  • Appended GSEA for diseaseId=EFO_1001951, library KEGG_2021_Human\n",
      "Reading partition diseaseId=EFO_1001956 from gs://ot-team/polina/pathwaganda/input_4_gsea/oncology/diseaseId=EFO_1001956\n"
     ]
    },
    {
     "name": "stderr",
     "output_type": "stream",
     "text": [
      "                                                                                \r"
     ]
    },
    {
     "name": "stdout",
     "output_type": "stream",
     "text": [
      "  • Appended GSEA for diseaseId=EFO_1001956, library KEGG_2021_Human\n",
      "Reading partition diseaseId=EFO_1001968 from gs://ot-team/polina/pathwaganda/input_4_gsea/oncology/diseaseId=EFO_1001968\n"
     ]
    },
    {
     "name": "stderr",
     "output_type": "stream",
     "text": [
      "                                                                                \r"
     ]
    },
    {
     "name": "stdout",
     "output_type": "stream",
     "text": [
      "  • Appended GSEA for diseaseId=EFO_1001968, library KEGG_2021_Human\n",
      "Reading partition diseaseId=MONDO_0000376 from gs://ot-team/polina/pathwaganda/input_4_gsea/oncology/diseaseId=MONDO_0000376\n"
     ]
    },
    {
     "name": "stderr",
     "output_type": "stream",
     "text": [
      "                                                                                \r"
     ]
    },
    {
     "name": "stdout",
     "output_type": "stream",
     "text": [
      "  • Appended GSEA for diseaseId=MONDO_0000376, library KEGG_2021_Human\n",
      "Reading partition diseaseId=MONDO_0000383 from gs://ot-team/polina/pathwaganda/input_4_gsea/oncology/diseaseId=MONDO_0000383\n"
     ]
    },
    {
     "name": "stderr",
     "output_type": "stream",
     "text": [
      "                                                                                \r"
     ]
    },
    {
     "name": "stdout",
     "output_type": "stream",
     "text": [
      "  • Appended GSEA for diseaseId=MONDO_0000383, library KEGG_2021_Human\n",
      "Reading partition diseaseId=MONDO_0000386 from gs://ot-team/polina/pathwaganda/input_4_gsea/oncology/diseaseId=MONDO_0000386\n"
     ]
    },
    {
     "name": "stderr",
     "output_type": "stream",
     "text": [
      "                                                                                \r"
     ]
    },
    {
     "name": "stdout",
     "output_type": "stream",
     "text": [
      "  • Appended GSEA for diseaseId=MONDO_0000386, library KEGG_2021_Human\n",
      "Reading partition diseaseId=MONDO_0000621 from gs://ot-team/polina/pathwaganda/input_4_gsea/oncology/diseaseId=MONDO_0000621\n"
     ]
    },
    {
     "name": "stderr",
     "output_type": "stream",
     "text": [
      "                                                                                \r"
     ]
    },
    {
     "name": "stdout",
     "output_type": "stream",
     "text": [
      "  • Appended GSEA for diseaseId=MONDO_0000621, library KEGG_2021_Human\n",
      "Reading partition diseaseId=MONDO_0000624 from gs://ot-team/polina/pathwaganda/input_4_gsea/oncology/diseaseId=MONDO_0000624\n"
     ]
    },
    {
     "name": "stderr",
     "output_type": "stream",
     "text": [
      "                                                                                \r"
     ]
    },
    {
     "name": "stdout",
     "output_type": "stream",
     "text": [
      "  • Appended GSEA for diseaseId=MONDO_0000624, library KEGG_2021_Human\n",
      "Reading partition diseaseId=MONDO_0000629 from gs://ot-team/polina/pathwaganda/input_4_gsea/oncology/diseaseId=MONDO_0000629\n"
     ]
    },
    {
     "name": "stderr",
     "output_type": "stream",
     "text": [
      "                                                                                \r"
     ]
    },
    {
     "name": "stdout",
     "output_type": "stream",
     "text": [
      "  • Appended GSEA for diseaseId=MONDO_0000629, library KEGG_2021_Human\n",
      "Reading partition diseaseId=MONDO_0000636 from gs://ot-team/polina/pathwaganda/input_4_gsea/oncology/diseaseId=MONDO_0000636\n"
     ]
    },
    {
     "name": "stderr",
     "output_type": "stream",
     "text": [
      "                                                                                \r"
     ]
    },
    {
     "name": "stdout",
     "output_type": "stream",
     "text": [
      "  • Appended GSEA for diseaseId=MONDO_0000636, library KEGG_2021_Human\n",
      "Reading partition diseaseId=MONDO_0000637 from gs://ot-team/polina/pathwaganda/input_4_gsea/oncology/diseaseId=MONDO_0000637\n"
     ]
    },
    {
     "name": "stderr",
     "output_type": "stream",
     "text": [
      "                                                                                \r"
     ]
    },
    {
     "name": "stdout",
     "output_type": "stream",
     "text": [
      "  • Appended GSEA for diseaseId=MONDO_0000637, library KEGG_2021_Human\n",
      "Reading partition diseaseId=MONDO_0000640 from gs://ot-team/polina/pathwaganda/input_4_gsea/oncology/diseaseId=MONDO_0000640\n"
     ]
    },
    {
     "name": "stderr",
     "output_type": "stream",
     "text": [
      "                                                                                \r"
     ]
    },
    {
     "name": "stdout",
     "output_type": "stream",
     "text": [
      "  • Appended GSEA for diseaseId=MONDO_0000640, library KEGG_2021_Human\n",
      "Reading partition diseaseId=MONDO_0000648 from gs://ot-team/polina/pathwaganda/input_4_gsea/oncology/diseaseId=MONDO_0000648\n"
     ]
    },
    {
     "name": "stderr",
     "output_type": "stream",
     "text": [
      "                                                                                \r"
     ]
    },
    {
     "name": "stdout",
     "output_type": "stream",
     "text": [
      "  • Appended GSEA for diseaseId=MONDO_0000648, library KEGG_2021_Human\n",
      "Reading partition diseaseId=MONDO_0000653 from gs://ot-team/polina/pathwaganda/input_4_gsea/oncology/diseaseId=MONDO_0000653\n"
     ]
    },
    {
     "name": "stderr",
     "output_type": "stream",
     "text": [
      "                                                                                \r"
     ]
    },
    {
     "name": "stdout",
     "output_type": "stream",
     "text": [
      "  • Appended GSEA for diseaseId=MONDO_0000653, library KEGG_2021_Human\n",
      "Reading partition diseaseId=MONDO_0000920 from gs://ot-team/polina/pathwaganda/input_4_gsea/oncology/diseaseId=MONDO_0000920\n"
     ]
    },
    {
     "name": "stderr",
     "output_type": "stream",
     "text": [
      "                                                                                \r"
     ]
    },
    {
     "name": "stdout",
     "output_type": "stream",
     "text": [
      "  • Appended GSEA for diseaseId=MONDO_0000920, library KEGG_2021_Human\n",
      "Reading partition diseaseId=MONDO_0000956 from gs://ot-team/polina/pathwaganda/input_4_gsea/oncology/diseaseId=MONDO_0000956\n"
     ]
    },
    {
     "name": "stderr",
     "output_type": "stream",
     "text": [
      "                                                                                \r"
     ]
    },
    {
     "name": "stdout",
     "output_type": "stream",
     "text": [
      "  • Appended GSEA for diseaseId=MONDO_0000956, library KEGG_2021_Human\n",
      "Reading partition diseaseId=MONDO_0001014 from gs://ot-team/polina/pathwaganda/input_4_gsea/oncology/diseaseId=MONDO_0001014\n"
     ]
    },
    {
     "name": "stderr",
     "output_type": "stream",
     "text": [
      "                                                                                \r"
     ]
    },
    {
     "name": "stdout",
     "output_type": "stream",
     "text": [
      "  • Appended GSEA for diseaseId=MONDO_0001014, library KEGG_2021_Human\n",
      "Reading partition diseaseId=MONDO_0001056 from gs://ot-team/polina/pathwaganda/input_4_gsea/oncology/diseaseId=MONDO_0001056\n"
     ]
    },
    {
     "name": "stderr",
     "output_type": "stream",
     "text": [
      "                                                                                \r"
     ]
    },
    {
     "name": "stdout",
     "output_type": "stream",
     "text": [
      "  • Appended GSEA for diseaseId=MONDO_0001056, library KEGG_2021_Human\n",
      "Reading partition diseaseId=MONDO_0001187 from gs://ot-team/polina/pathwaganda/input_4_gsea/oncology/diseaseId=MONDO_0001187\n"
     ]
    },
    {
     "name": "stderr",
     "output_type": "stream",
     "text": [
      "                                                                                \r"
     ]
    },
    {
     "name": "stdout",
     "output_type": "stream",
     "text": [
      "  • Appended GSEA for diseaseId=MONDO_0001187, library KEGG_2021_Human\n",
      "Reading partition diseaseId=MONDO_0001572 from gs://ot-team/polina/pathwaganda/input_4_gsea/oncology/diseaseId=MONDO_0001572\n"
     ]
    },
    {
     "name": "stderr",
     "output_type": "stream",
     "text": [
      "                                                                                \r"
     ]
    },
    {
     "name": "stdout",
     "output_type": "stream",
     "text": [
      "  • Appended GSEA for diseaseId=MONDO_0001572, library KEGG_2021_Human\n",
      "Reading partition diseaseId=MONDO_0001657 from gs://ot-team/polina/pathwaganda/input_4_gsea/oncology/diseaseId=MONDO_0001657\n"
     ]
    },
    {
     "name": "stderr",
     "output_type": "stream",
     "text": [
      "                                                                                \r"
     ]
    },
    {
     "name": "stdout",
     "output_type": "stream",
     "text": [
      "  • Appended GSEA for diseaseId=MONDO_0001657, library KEGG_2021_Human\n",
      "Reading partition diseaseId=MONDO_0002033 from gs://ot-team/polina/pathwaganda/input_4_gsea/oncology/diseaseId=MONDO_0002033\n"
     ]
    },
    {
     "name": "stderr",
     "output_type": "stream",
     "text": [
      "                                                                                \r"
     ]
    },
    {
     "name": "stdout",
     "output_type": "stream",
     "text": [
      "  • Appended GSEA for diseaseId=MONDO_0002033, library KEGG_2021_Human\n",
      "Reading partition diseaseId=MONDO_0002038 from gs://ot-team/polina/pathwaganda/input_4_gsea/oncology/diseaseId=MONDO_0002038\n"
     ]
    },
    {
     "name": "stderr",
     "output_type": "stream",
     "text": [
      "                                                                                \r"
     ]
    },
    {
     "name": "stdout",
     "output_type": "stream",
     "text": [
      "  • Appended GSEA for diseaseId=MONDO_0002038, library KEGG_2021_Human\n",
      "Reading partition diseaseId=MONDO_0002108 from gs://ot-team/polina/pathwaganda/input_4_gsea/oncology/diseaseId=MONDO_0002108\n"
     ]
    },
    {
     "name": "stderr",
     "output_type": "stream",
     "text": [
      "                                                                                \r"
     ]
    },
    {
     "name": "stdout",
     "output_type": "stream",
     "text": [
      "  • Appended GSEA for diseaseId=MONDO_0002108, library KEGG_2021_Human\n",
      "Reading partition diseaseId=MONDO_0002116 from gs://ot-team/polina/pathwaganda/input_4_gsea/oncology/diseaseId=MONDO_0002116\n"
     ]
    },
    {
     "name": "stderr",
     "output_type": "stream",
     "text": [
      "                                                                                \r"
     ]
    },
    {
     "name": "stdout",
     "output_type": "stream",
     "text": [
      "  • Appended GSEA for diseaseId=MONDO_0002116, library KEGG_2021_Human\n",
      "Reading partition diseaseId=MONDO_0002120 from gs://ot-team/polina/pathwaganda/input_4_gsea/oncology/diseaseId=MONDO_0002120\n"
     ]
    },
    {
     "name": "stderr",
     "output_type": "stream",
     "text": [
      "                                                                                \r"
     ]
    },
    {
     "name": "stdout",
     "output_type": "stream",
     "text": [
      "  • Appended GSEA for diseaseId=MONDO_0002120, library KEGG_2021_Human\n",
      "Reading partition diseaseId=MONDO_0002149 from gs://ot-team/polina/pathwaganda/input_4_gsea/oncology/diseaseId=MONDO_0002149\n"
     ]
    },
    {
     "name": "stderr",
     "output_type": "stream",
     "text": [
      "                                                                                \r"
     ]
    },
    {
     "name": "stdout",
     "output_type": "stream",
     "text": [
      "  • Appended GSEA for diseaseId=MONDO_0002149, library KEGG_2021_Human\n",
      "Reading partition diseaseId=MONDO_0002165 from gs://ot-team/polina/pathwaganda/input_4_gsea/oncology/diseaseId=MONDO_0002165\n",
      "  • Appended GSEA for diseaseId=MONDO_0002165, library KEGG_2021_Human\n",
      "Reading partition diseaseId=MONDO_0002229 from gs://ot-team/polina/pathwaganda/input_4_gsea/oncology/diseaseId=MONDO_0002229\n"
     ]
    },
    {
     "name": "stderr",
     "output_type": "stream",
     "text": [
      "                                                                                \r"
     ]
    },
    {
     "name": "stdout",
     "output_type": "stream",
     "text": [
      "  • Appended GSEA for diseaseId=MONDO_0002229, library KEGG_2021_Human\n",
      "Reading partition diseaseId=MONDO_0002334 from gs://ot-team/polina/pathwaganda/input_4_gsea/oncology/diseaseId=MONDO_0002334\n"
     ]
    },
    {
     "name": "stderr",
     "output_type": "stream",
     "text": [
      "                                                                                \r"
     ]
    },
    {
     "name": "stdout",
     "output_type": "stream",
     "text": [
      "  • Appended GSEA for diseaseId=MONDO_0002334, library KEGG_2021_Human\n",
      "Reading partition diseaseId=MONDO_0002367 from gs://ot-team/polina/pathwaganda/input_4_gsea/oncology/diseaseId=MONDO_0002367\n"
     ]
    },
    {
     "name": "stderr",
     "output_type": "stream",
     "text": [
      "                                                                                \r"
     ]
    },
    {
     "name": "stdout",
     "output_type": "stream",
     "text": [
      "  • Appended GSEA for diseaseId=MONDO_0002367, library KEGG_2021_Human\n",
      "Reading partition diseaseId=MONDO_0002480 from gs://ot-team/polina/pathwaganda/input_4_gsea/oncology/diseaseId=MONDO_0002480\n"
     ]
    },
    {
     "name": "stderr",
     "output_type": "stream",
     "text": [
      "                                                                                \r"
     ]
    },
    {
     "name": "stdout",
     "output_type": "stream",
     "text": [
      "  • Appended GSEA for diseaseId=MONDO_0002480, library KEGG_2021_Human\n",
      "Reading partition diseaseId=MONDO_0002512 from gs://ot-team/polina/pathwaganda/input_4_gsea/oncology/diseaseId=MONDO_0002512\n"
     ]
    },
    {
     "name": "stderr",
     "output_type": "stream",
     "text": [
      "                                                                                \r"
     ]
    },
    {
     "name": "stdout",
     "output_type": "stream",
     "text": [
      "  • Appended GSEA for diseaseId=MONDO_0002512, library KEGG_2021_Human\n",
      "Reading partition diseaseId=MONDO_0002516 from gs://ot-team/polina/pathwaganda/input_4_gsea/oncology/diseaseId=MONDO_0002516\n"
     ]
    },
    {
     "name": "stderr",
     "output_type": "stream",
     "text": [
      "                                                                                \r"
     ]
    },
    {
     "name": "stdout",
     "output_type": "stream",
     "text": [
      "  • Appended GSEA for diseaseId=MONDO_0002516, library KEGG_2021_Human\n",
      "Reading partition diseaseId=MONDO_0002529 from gs://ot-team/polina/pathwaganda/input_4_gsea/oncology/diseaseId=MONDO_0002529\n"
     ]
    },
    {
     "name": "stderr",
     "output_type": "stream",
     "text": [
      "                                                                                \r"
     ]
    },
    {
     "name": "stdout",
     "output_type": "stream",
     "text": [
      "  • Appended GSEA for diseaseId=MONDO_0002529, library KEGG_2021_Human\n",
      "Reading partition diseaseId=MONDO_0002532 from gs://ot-team/polina/pathwaganda/input_4_gsea/oncology/diseaseId=MONDO_0002532\n"
     ]
    },
    {
     "name": "stderr",
     "output_type": "stream",
     "text": [
      "                                                                                \r"
     ]
    },
    {
     "name": "stdout",
     "output_type": "stream",
     "text": [
      "  • Appended GSEA for diseaseId=MONDO_0002532, library KEGG_2021_Human\n",
      "Reading partition diseaseId=MONDO_0002616 from gs://ot-team/polina/pathwaganda/input_4_gsea/oncology/diseaseId=MONDO_0002616\n"
     ]
    },
    {
     "name": "stderr",
     "output_type": "stream",
     "text": [
      "                                                                                \r"
     ]
    },
    {
     "name": "stdout",
     "output_type": "stream",
     "text": [
      "  • Appended GSEA for diseaseId=MONDO_0002616, library KEGG_2021_Human\n",
      "Reading partition diseaseId=MONDO_0002691 from gs://ot-team/polina/pathwaganda/input_4_gsea/oncology/diseaseId=MONDO_0002691\n"
     ]
    },
    {
     "name": "stderr",
     "output_type": "stream",
     "text": [
      "                                                                                \r"
     ]
    },
    {
     "name": "stdout",
     "output_type": "stream",
     "text": [
      "  • Appended GSEA for diseaseId=MONDO_0002691, library KEGG_2021_Human\n",
      "Reading partition diseaseId=MONDO_0002715 from gs://ot-team/polina/pathwaganda/input_4_gsea/oncology/diseaseId=MONDO_0002715\n"
     ]
    },
    {
     "name": "stderr",
     "output_type": "stream",
     "text": [
      "                                                                                \r"
     ]
    },
    {
     "name": "stdout",
     "output_type": "stream",
     "text": [
      "  • Appended GSEA for diseaseId=MONDO_0002715, library KEGG_2021_Human\n",
      "Reading partition diseaseId=MONDO_0002898 from gs://ot-team/polina/pathwaganda/input_4_gsea/oncology/diseaseId=MONDO_0002898\n"
     ]
    },
    {
     "name": "stderr",
     "output_type": "stream",
     "text": [
      "                                                                                \r"
     ]
    },
    {
     "name": "stdout",
     "output_type": "stream",
     "text": [
      "  • Appended GSEA for diseaseId=MONDO_0002898, library KEGG_2021_Human\n",
      "Reading partition diseaseId=MONDO_0002928 from gs://ot-team/polina/pathwaganda/input_4_gsea/oncology/diseaseId=MONDO_0002928\n"
     ]
    },
    {
     "name": "stderr",
     "output_type": "stream",
     "text": [
      "                                                                                \r"
     ]
    },
    {
     "name": "stdout",
     "output_type": "stream",
     "text": [
      "  • Appended GSEA for diseaseId=MONDO_0002928, library KEGG_2021_Human\n",
      "Reading partition diseaseId=MONDO_0002974 from gs://ot-team/polina/pathwaganda/input_4_gsea/oncology/diseaseId=MONDO_0002974\n"
     ]
    },
    {
     "name": "stderr",
     "output_type": "stream",
     "text": [
      "                                                                                \r"
     ]
    },
    {
     "name": "stdout",
     "output_type": "stream",
     "text": [
      "  • Appended GSEA for diseaseId=MONDO_0002974, library KEGG_2021_Human\n",
      "Reading partition diseaseId=MONDO_0003059 from gs://ot-team/polina/pathwaganda/input_4_gsea/oncology/diseaseId=MONDO_0003059\n"
     ]
    },
    {
     "name": "stderr",
     "output_type": "stream",
     "text": [
      "                                                                                \r"
     ]
    },
    {
     "name": "stdout",
     "output_type": "stream",
     "text": [
      "  • Appended GSEA for diseaseId=MONDO_0003059, library KEGG_2021_Human\n",
      "Reading partition diseaseId=MONDO_0003060 from gs://ot-team/polina/pathwaganda/input_4_gsea/oncology/diseaseId=MONDO_0003060\n"
     ]
    },
    {
     "name": "stderr",
     "output_type": "stream",
     "text": [
      "                                                                                \r"
     ]
    },
    {
     "name": "stdout",
     "output_type": "stream",
     "text": [
      "  • Appended GSEA for diseaseId=MONDO_0003060, library KEGG_2021_Human\n",
      "Reading partition diseaseId=MONDO_0003061 from gs://ot-team/polina/pathwaganda/input_4_gsea/oncology/diseaseId=MONDO_0003061\n"
     ]
    },
    {
     "name": "stderr",
     "output_type": "stream",
     "text": [
      "                                                                                \r"
     ]
    },
    {
     "name": "stdout",
     "output_type": "stream",
     "text": [
      "  • Appended GSEA for diseaseId=MONDO_0003061, library KEGG_2021_Human\n",
      "Reading partition diseaseId=MONDO_0003193 from gs://ot-team/polina/pathwaganda/input_4_gsea/oncology/diseaseId=MONDO_0003193\n"
     ]
    },
    {
     "name": "stderr",
     "output_type": "stream",
     "text": [
      "                                                                                \r"
     ]
    },
    {
     "name": "stdout",
     "output_type": "stream",
     "text": [
      "  • Appended GSEA for diseaseId=MONDO_0003193, library KEGG_2021_Human\n",
      "Reading partition diseaseId=MONDO_0003219 from gs://ot-team/polina/pathwaganda/input_4_gsea/oncology/diseaseId=MONDO_0003219\n"
     ]
    },
    {
     "name": "stderr",
     "output_type": "stream",
     "text": [
      "                                                                                \r"
     ]
    },
    {
     "name": "stdout",
     "output_type": "stream",
     "text": [
      "  • Appended GSEA for diseaseId=MONDO_0003219, library KEGG_2021_Human\n",
      "Reading partition diseaseId=MONDO_0003274 from gs://ot-team/polina/pathwaganda/input_4_gsea/oncology/diseaseId=MONDO_0003274\n"
     ]
    },
    {
     "name": "stderr",
     "output_type": "stream",
     "text": [
      "                                                                                \r"
     ]
    },
    {
     "name": "stdout",
     "output_type": "stream",
     "text": [
      "  • Appended GSEA for diseaseId=MONDO_0003274, library KEGG_2021_Human\n",
      "Reading partition diseaseId=MONDO_0003812 from gs://ot-team/polina/pathwaganda/input_4_gsea/oncology/diseaseId=MONDO_0003812\n"
     ]
    },
    {
     "name": "stderr",
     "output_type": "stream",
     "text": [
      "                                                                                \r"
     ]
    },
    {
     "name": "stdout",
     "output_type": "stream",
     "text": [
      "  • Appended GSEA for diseaseId=MONDO_0003812, library KEGG_2021_Human\n",
      "Reading partition diseaseId=MONDO_0004095 from gs://ot-team/polina/pathwaganda/input_4_gsea/oncology/diseaseId=MONDO_0004095\n"
     ]
    },
    {
     "name": "stderr",
     "output_type": "stream",
     "text": [
      "                                                                                \r"
     ]
    },
    {
     "name": "stdout",
     "output_type": "stream",
     "text": [
      "  • Appended GSEA for diseaseId=MONDO_0004095, library KEGG_2021_Human\n",
      "Reading partition diseaseId=MONDO_0004251 from gs://ot-team/polina/pathwaganda/input_4_gsea/oncology/diseaseId=MONDO_0004251\n"
     ]
    },
    {
     "name": "stderr",
     "output_type": "stream",
     "text": [
      "                                                                                \r"
     ]
    },
    {
     "name": "stdout",
     "output_type": "stream",
     "text": [
      "  • Appended GSEA for diseaseId=MONDO_0004251, library KEGG_2021_Human\n",
      "Reading partition diseaseId=MONDO_0004379 from gs://ot-team/polina/pathwaganda/input_4_gsea/oncology/diseaseId=MONDO_0004379\n"
     ]
    },
    {
     "name": "stderr",
     "output_type": "stream",
     "text": [
      "                                                                                \r"
     ]
    },
    {
     "name": "stdout",
     "output_type": "stream",
     "text": [
      "  • Appended GSEA for diseaseId=MONDO_0004379, library KEGG_2021_Human\n",
      "Reading partition diseaseId=MONDO_0004643 from gs://ot-team/polina/pathwaganda/input_4_gsea/oncology/diseaseId=MONDO_0004643\n"
     ]
    },
    {
     "name": "stderr",
     "output_type": "stream",
     "text": [
      "                                                                                \r"
     ]
    },
    {
     "name": "stdout",
     "output_type": "stream",
     "text": [
      "  • Appended GSEA for diseaseId=MONDO_0004643, library KEGG_2021_Human\n",
      "Reading partition diseaseId=MONDO_0004986 from gs://ot-team/polina/pathwaganda/input_4_gsea/oncology/diseaseId=MONDO_0004986\n"
     ]
    },
    {
     "name": "stderr",
     "output_type": "stream",
     "text": [
      "                                                                                \r"
     ]
    },
    {
     "name": "stdout",
     "output_type": "stream",
     "text": [
      "  • Appended GSEA for diseaseId=MONDO_0004986, library KEGG_2021_Human\n",
      "Reading partition diseaseId=MONDO_0004992 from gs://ot-team/polina/pathwaganda/input_4_gsea/oncology/diseaseId=MONDO_0004992\n"
     ]
    },
    {
     "name": "stderr",
     "output_type": "stream",
     "text": [
      "                                                                                \r"
     ]
    },
    {
     "name": "stdout",
     "output_type": "stream",
     "text": [
      "  • Appended GSEA for diseaseId=MONDO_0004992, library KEGG_2021_Human\n",
      "Reading partition diseaseId=MONDO_0005184 from gs://ot-team/polina/pathwaganda/input_4_gsea/oncology/diseaseId=MONDO_0005184\n"
     ]
    },
    {
     "name": "stderr",
     "output_type": "stream",
     "text": [
      "                                                                                \r"
     ]
    },
    {
     "name": "stdout",
     "output_type": "stream",
     "text": [
      "  • Appended GSEA for diseaseId=MONDO_0005184, library KEGG_2021_Human\n",
      "Reading partition diseaseId=MONDO_0005341 from gs://ot-team/polina/pathwaganda/input_4_gsea/oncology/diseaseId=MONDO_0005341\n"
     ]
    },
    {
     "name": "stderr",
     "output_type": "stream",
     "text": [
      "                                                                                \r"
     ]
    },
    {
     "name": "stdout",
     "output_type": "stream",
     "text": [
      "  • Appended GSEA for diseaseId=MONDO_0005341, library KEGG_2021_Human\n",
      "Reading partition diseaseId=MONDO_0005374 from gs://ot-team/polina/pathwaganda/input_4_gsea/oncology/diseaseId=MONDO_0005374\n"
     ]
    },
    {
     "name": "stderr",
     "output_type": "stream",
     "text": [
      "                                                                                \r"
     ]
    },
    {
     "name": "stdout",
     "output_type": "stream",
     "text": [
      "  • Appended GSEA for diseaseId=MONDO_0005374, library KEGG_2021_Human\n",
      "Reading partition diseaseId=MONDO_0005411 from gs://ot-team/polina/pathwaganda/input_4_gsea/oncology/diseaseId=MONDO_0005411\n"
     ]
    },
    {
     "name": "stderr",
     "output_type": "stream",
     "text": [
      "                                                                                \r"
     ]
    },
    {
     "name": "stdout",
     "output_type": "stream",
     "text": [
      "  • Appended GSEA for diseaseId=MONDO_0005411, library KEGG_2021_Human\n",
      "Reading partition diseaseId=MONDO_0005499 from gs://ot-team/polina/pathwaganda/input_4_gsea/oncology/diseaseId=MONDO_0005499\n",
      "  • Appended GSEA for diseaseId=MONDO_0005499, library KEGG_2021_Human\n",
      "Reading partition diseaseId=MONDO_0005575 from gs://ot-team/polina/pathwaganda/input_4_gsea/oncology/diseaseId=MONDO_0005575\n"
     ]
    },
    {
     "name": "stderr",
     "output_type": "stream",
     "text": [
      "                                                                                \r"
     ]
    },
    {
     "name": "stdout",
     "output_type": "stream",
     "text": [
      "  • Appended GSEA for diseaseId=MONDO_0005575, library KEGG_2021_Human\n",
      "Reading partition diseaseId=MONDO_0007254 from gs://ot-team/polina/pathwaganda/input_4_gsea/oncology/diseaseId=MONDO_0007254\n"
     ]
    },
    {
     "name": "stderr",
     "output_type": "stream",
     "text": [
      "                                                                                \r"
     ]
    },
    {
     "name": "stdout",
     "output_type": "stream",
     "text": [
      "  • Appended GSEA for diseaseId=MONDO_0007254, library KEGG_2021_Human\n",
      "Reading partition diseaseId=MONDO_0007576 from gs://ot-team/polina/pathwaganda/input_4_gsea/oncology/diseaseId=MONDO_0007576\n"
     ]
    },
    {
     "name": "stderr",
     "output_type": "stream",
     "text": [
      "                                                                                \r"
     ]
    },
    {
     "name": "stdout",
     "output_type": "stream",
     "text": [
      "  • Appended GSEA for diseaseId=MONDO_0007576, library KEGG_2021_Human\n",
      "Reading partition diseaseId=MONDO_0007763 from gs://ot-team/polina/pathwaganda/input_4_gsea/oncology/diseaseId=MONDO_0007763\n"
     ]
    },
    {
     "name": "stderr",
     "output_type": "stream",
     "text": [
      "                                                                                \r"
     ]
    },
    {
     "name": "stdout",
     "output_type": "stream",
     "text": [
      "  • Appended GSEA for diseaseId=MONDO_0007763, library KEGG_2021_Human\n",
      "Reading partition diseaseId=MONDO_0008170 from gs://ot-team/polina/pathwaganda/input_4_gsea/oncology/diseaseId=MONDO_0008170\n"
     ]
    },
    {
     "name": "stderr",
     "output_type": "stream",
     "text": [
      "                                                                                \r"
     ]
    },
    {
     "name": "stdout",
     "output_type": "stream",
     "text": [
      "  • Appended GSEA for diseaseId=MONDO_0008170, library KEGG_2021_Human\n",
      "Reading partition diseaseId=MONDO_0008315 from gs://ot-team/polina/pathwaganda/input_4_gsea/oncology/diseaseId=MONDO_0008315\n"
     ]
    },
    {
     "name": "stderr",
     "output_type": "stream",
     "text": [
      "                                                                                \r"
     ]
    },
    {
     "name": "stdout",
     "output_type": "stream",
     "text": [
      "  • Appended GSEA for diseaseId=MONDO_0008315, library KEGG_2021_Human\n",
      "Reading partition diseaseId=MONDO_0008903 from gs://ot-team/polina/pathwaganda/input_4_gsea/oncology/diseaseId=MONDO_0008903\n"
     ]
    },
    {
     "name": "stderr",
     "output_type": "stream",
     "text": [
      "                                                                                \r"
     ]
    },
    {
     "name": "stdout",
     "output_type": "stream",
     "text": [
      "  • Appended GSEA for diseaseId=MONDO_0008903, library KEGG_2021_Human\n",
      "Reading partition diseaseId=MONDO_0011962 from gs://ot-team/polina/pathwaganda/input_4_gsea/oncology/diseaseId=MONDO_0011962\n"
     ]
    },
    {
     "name": "stderr",
     "output_type": "stream",
     "text": [
      "                                                                                \r"
     ]
    },
    {
     "name": "stdout",
     "output_type": "stream",
     "text": [
      "  • Appended GSEA for diseaseId=MONDO_0011962, library KEGG_2021_Human\n",
      "Reading partition diseaseId=MONDO_0015756 from gs://ot-team/polina/pathwaganda/input_4_gsea/oncology/diseaseId=MONDO_0015756\n"
     ]
    },
    {
     "name": "stderr",
     "output_type": "stream",
     "text": [
      "                                                                                \r"
     ]
    },
    {
     "name": "stdout",
     "output_type": "stream",
     "text": [
      "  • Appended GSEA for diseaseId=MONDO_0015756, library KEGG_2021_Human\n",
      "Reading partition diseaseId=MONDO_0015757 from gs://ot-team/polina/pathwaganda/input_4_gsea/oncology/diseaseId=MONDO_0015757\n"
     ]
    },
    {
     "name": "stderr",
     "output_type": "stream",
     "text": [
      "                                                                                \r"
     ]
    },
    {
     "name": "stdout",
     "output_type": "stream",
     "text": [
      "  • Appended GSEA for diseaseId=MONDO_0015757, library KEGG_2021_Human\n",
      "Reading partition diseaseId=MONDO_0015760 from gs://ot-team/polina/pathwaganda/input_4_gsea/oncology/diseaseId=MONDO_0015760\n"
     ]
    },
    {
     "name": "stderr",
     "output_type": "stream",
     "text": [
      "                                                                                \r"
     ]
    },
    {
     "name": "stdout",
     "output_type": "stream",
     "text": [
      "  • Appended GSEA for diseaseId=MONDO_0015760, library KEGG_2021_Human\n",
      "Reading partition diseaseId=MONDO_0016680 from gs://ot-team/polina/pathwaganda/input_4_gsea/oncology/diseaseId=MONDO_0016680\n"
     ]
    },
    {
     "name": "stderr",
     "output_type": "stream",
     "text": [
      "                                                                                \r"
     ]
    },
    {
     "name": "stdout",
     "output_type": "stream",
     "text": [
      "  • Appended GSEA for diseaseId=MONDO_0016680, library KEGG_2021_Human\n",
      "Reading partition diseaseId=MONDO_0017341 from gs://ot-team/polina/pathwaganda/input_4_gsea/oncology/diseaseId=MONDO_0017341\n"
     ]
    },
    {
     "name": "stderr",
     "output_type": "stream",
     "text": [
      "                                                                                \r"
     ]
    },
    {
     "name": "stdout",
     "output_type": "stream",
     "text": [
      "  • Appended GSEA for diseaseId=MONDO_0017341, library KEGG_2021_Human\n",
      "Reading partition diseaseId=MONDO_0017342 from gs://ot-team/polina/pathwaganda/input_4_gsea/oncology/diseaseId=MONDO_0017342\n"
     ]
    },
    {
     "name": "stderr",
     "output_type": "stream",
     "text": [
      "                                                                                \r"
     ]
    },
    {
     "name": "stdout",
     "output_type": "stream",
     "text": [
      "  • Appended GSEA for diseaseId=MONDO_0017342, library KEGG_2021_Human\n",
      "Reading partition diseaseId=MONDO_0017343 from gs://ot-team/polina/pathwaganda/input_4_gsea/oncology/diseaseId=MONDO_0017343\n"
     ]
    },
    {
     "name": "stderr",
     "output_type": "stream",
     "text": [
      "                                                                                \r"
     ]
    },
    {
     "name": "stdout",
     "output_type": "stream",
     "text": [
      "  • Appended GSEA for diseaseId=MONDO_0017343, library KEGG_2021_Human\n",
      "Reading partition diseaseId=MONDO_0017594 from gs://ot-team/polina/pathwaganda/input_4_gsea/oncology/diseaseId=MONDO_0017594\n"
     ]
    },
    {
     "name": "stderr",
     "output_type": "stream",
     "text": [
      "                                                                                \r"
     ]
    },
    {
     "name": "stdout",
     "output_type": "stream",
     "text": [
      "  • Appended GSEA for diseaseId=MONDO_0017594, library KEGG_2021_Human\n",
      "Reading partition diseaseId=MONDO_0017595 from gs://ot-team/polina/pathwaganda/input_4_gsea/oncology/diseaseId=MONDO_0017595\n"
     ]
    },
    {
     "name": "stderr",
     "output_type": "stream",
     "text": [
      "                                                                                \r"
     ]
    },
    {
     "name": "stdout",
     "output_type": "stream",
     "text": [
      "  • Appended GSEA for diseaseId=MONDO_0017595, library KEGG_2021_Human\n",
      "Reading partition diseaseId=MONDO_0018364 from gs://ot-team/polina/pathwaganda/input_4_gsea/oncology/diseaseId=MONDO_0018364\n"
     ]
    },
    {
     "name": "stderr",
     "output_type": "stream",
     "text": [
      "                                                                                \r"
     ]
    },
    {
     "name": "stdout",
     "output_type": "stream",
     "text": [
      "  • Appended GSEA for diseaseId=MONDO_0018364, library KEGG_2021_Human\n",
      "Reading partition diseaseId=MONDO_0018531 from gs://ot-team/polina/pathwaganda/input_4_gsea/oncology/diseaseId=MONDO_0018531\n"
     ]
    },
    {
     "name": "stderr",
     "output_type": "stream",
     "text": [
      "                                                                                \r"
     ]
    },
    {
     "name": "stdout",
     "output_type": "stream",
     "text": [
      "  • Appended GSEA for diseaseId=MONDO_0018531, library KEGG_2021_Human\n",
      "Reading partition diseaseId=MONDO_0019472 from gs://ot-team/polina/pathwaganda/input_4_gsea/oncology/diseaseId=MONDO_0019472\n"
     ]
    },
    {
     "name": "stderr",
     "output_type": "stream",
     "text": [
      "                                                                                \r"
     ]
    },
    {
     "name": "stdout",
     "output_type": "stream",
     "text": [
      "  • Appended GSEA for diseaseId=MONDO_0019472, library KEGG_2021_Human\n",
      "Reading partition diseaseId=MONDO_0020638 from gs://ot-team/polina/pathwaganda/input_4_gsea/oncology/diseaseId=MONDO_0020638\n"
     ]
    },
    {
     "name": "stderr",
     "output_type": "stream",
     "text": [
      "                                                                                \r"
     ]
    },
    {
     "name": "stdout",
     "output_type": "stream",
     "text": [
      "  • Appended GSEA for diseaseId=MONDO_0020638, library KEGG_2021_Human\n",
      "Reading partition diseaseId=MONDO_0020663 from gs://ot-team/polina/pathwaganda/input_4_gsea/oncology/diseaseId=MONDO_0020663\n"
     ]
    },
    {
     "name": "stderr",
     "output_type": "stream",
     "text": [
      "                                                                                \r"
     ]
    },
    {
     "name": "stdout",
     "output_type": "stream",
     "text": [
      "  • Appended GSEA for diseaseId=MONDO_0020663, library KEGG_2021_Human\n",
      "Reading partition diseaseId=MONDO_0020665 from gs://ot-team/polina/pathwaganda/input_4_gsea/oncology/diseaseId=MONDO_0020665\n"
     ]
    },
    {
     "name": "stderr",
     "output_type": "stream",
     "text": [
      "                                                                                \r"
     ]
    },
    {
     "name": "stdout",
     "output_type": "stream",
     "text": [
      "  • Appended GSEA for diseaseId=MONDO_0020665, library KEGG_2021_Human\n",
      "Reading partition diseaseId=MONDO_0021043 from gs://ot-team/polina/pathwaganda/input_4_gsea/oncology/diseaseId=MONDO_0021043\n"
     ]
    },
    {
     "name": "stderr",
     "output_type": "stream",
     "text": [
      "                                                                                \r"
     ]
    },
    {
     "name": "stdout",
     "output_type": "stream",
     "text": [
      "  • Appended GSEA for diseaseId=MONDO_0021043, library KEGG_2021_Human\n",
      "Reading partition diseaseId=MONDO_0021054 from gs://ot-team/polina/pathwaganda/input_4_gsea/oncology/diseaseId=MONDO_0021054\n"
     ]
    },
    {
     "name": "stderr",
     "output_type": "stream",
     "text": [
      "                                                                                \r"
     ]
    },
    {
     "name": "stdout",
     "output_type": "stream",
     "text": [
      "  • Appended GSEA for diseaseId=MONDO_0021054, library KEGG_2021_Human\n",
      "Reading partition diseaseId=MONDO_0021058 from gs://ot-team/polina/pathwaganda/input_4_gsea/oncology/diseaseId=MONDO_0021058\n"
     ]
    },
    {
     "name": "stderr",
     "output_type": "stream",
     "text": [
      "                                                                                \r"
     ]
    },
    {
     "name": "stdout",
     "output_type": "stream",
     "text": [
      "  • Appended GSEA for diseaseId=MONDO_0021058, library KEGG_2021_Human\n",
      "Reading partition diseaseId=MONDO_0021063 from gs://ot-team/polina/pathwaganda/input_4_gsea/oncology/diseaseId=MONDO_0021063\n"
     ]
    },
    {
     "name": "stderr",
     "output_type": "stream",
     "text": [
      "                                                                                \r"
     ]
    },
    {
     "name": "stdout",
     "output_type": "stream",
     "text": [
      "  • Appended GSEA for diseaseId=MONDO_0021063, library KEGG_2021_Human\n",
      "Reading partition diseaseId=MONDO_0021066 from gs://ot-team/polina/pathwaganda/input_4_gsea/oncology/diseaseId=MONDO_0021066\n"
     ]
    },
    {
     "name": "stderr",
     "output_type": "stream",
     "text": [
      "                                                                                \r"
     ]
    },
    {
     "name": "stdout",
     "output_type": "stream",
     "text": [
      "  • Appended GSEA for diseaseId=MONDO_0021066, library KEGG_2021_Human\n",
      "Reading partition diseaseId=MONDO_0021069 from gs://ot-team/polina/pathwaganda/input_4_gsea/oncology/diseaseId=MONDO_0021069\n"
     ]
    },
    {
     "name": "stderr",
     "output_type": "stream",
     "text": [
      "                                                                                \r"
     ]
    },
    {
     "name": "stdout",
     "output_type": "stream",
     "text": [
      "  • Appended GSEA for diseaseId=MONDO_0021069, library KEGG_2021_Human\n",
      "Reading partition diseaseId=MONDO_0021076 from gs://ot-team/polina/pathwaganda/input_4_gsea/oncology/diseaseId=MONDO_0021076\n"
     ]
    },
    {
     "name": "stderr",
     "output_type": "stream",
     "text": [
      "                                                                                \r"
     ]
    },
    {
     "name": "stdout",
     "output_type": "stream",
     "text": [
      "  • Appended GSEA for diseaseId=MONDO_0021076, library KEGG_2021_Human\n",
      "Reading partition diseaseId=MONDO_0021080 from gs://ot-team/polina/pathwaganda/input_4_gsea/oncology/diseaseId=MONDO_0021080\n"
     ]
    },
    {
     "name": "stderr",
     "output_type": "stream",
     "text": [
      "                                                                                \r"
     ]
    },
    {
     "name": "stdout",
     "output_type": "stream",
     "text": [
      "  • Appended GSEA for diseaseId=MONDO_0021080, library KEGG_2021_Human\n",
      "Reading partition diseaseId=MONDO_0021096 from gs://ot-team/polina/pathwaganda/input_4_gsea/oncology/diseaseId=MONDO_0021096\n"
     ]
    },
    {
     "name": "stderr",
     "output_type": "stream",
     "text": [
      "                                                                                \r"
     ]
    },
    {
     "name": "stdout",
     "output_type": "stream",
     "text": [
      "  • Appended GSEA for diseaseId=MONDO_0021096, library KEGG_2021_Human\n",
      "Reading partition diseaseId=MONDO_0021117 from gs://ot-team/polina/pathwaganda/input_4_gsea/oncology/diseaseId=MONDO_0021117\n"
     ]
    },
    {
     "name": "stderr",
     "output_type": "stream",
     "text": [
      "                                                                                \r"
     ]
    },
    {
     "name": "stdout",
     "output_type": "stream",
     "text": [
      "  • Appended GSEA for diseaseId=MONDO_0021117, library KEGG_2021_Human\n",
      "Reading partition diseaseId=MONDO_0021118 from gs://ot-team/polina/pathwaganda/input_4_gsea/oncology/diseaseId=MONDO_0021118\n"
     ]
    },
    {
     "name": "stderr",
     "output_type": "stream",
     "text": [
      "                                                                                \r"
     ]
    },
    {
     "name": "stdout",
     "output_type": "stream",
     "text": [
      "  • Appended GSEA for diseaseId=MONDO_0021118, library KEGG_2021_Human\n",
      "Reading partition diseaseId=MONDO_0021138 from gs://ot-team/polina/pathwaganda/input_4_gsea/oncology/diseaseId=MONDO_0021138\n"
     ]
    },
    {
     "name": "stderr",
     "output_type": "stream",
     "text": [
      "                                                                                \r"
     ]
    },
    {
     "name": "stdout",
     "output_type": "stream",
     "text": [
      "  • Appended GSEA for diseaseId=MONDO_0021138, library KEGG_2021_Human\n",
      "Reading partition diseaseId=MONDO_0021143 from gs://ot-team/polina/pathwaganda/input_4_gsea/oncology/diseaseId=MONDO_0021143\n"
     ]
    },
    {
     "name": "stderr",
     "output_type": "stream",
     "text": [
      "                                                                                \r"
     ]
    },
    {
     "name": "stdout",
     "output_type": "stream",
     "text": [
      "  • Appended GSEA for diseaseId=MONDO_0021143, library KEGG_2021_Human\n",
      "Reading partition diseaseId=MONDO_0021148 from gs://ot-team/polina/pathwaganda/input_4_gsea/oncology/diseaseId=MONDO_0021148\n"
     ]
    },
    {
     "name": "stderr",
     "output_type": "stream",
     "text": [
      "                                                                                \r"
     ]
    },
    {
     "name": "stdout",
     "output_type": "stream",
     "text": [
      "  • Appended GSEA for diseaseId=MONDO_0021148, library KEGG_2021_Human\n",
      "Reading partition diseaseId=MONDO_0021193 from gs://ot-team/polina/pathwaganda/input_4_gsea/oncology/diseaseId=MONDO_0021193\n"
     ]
    },
    {
     "name": "stderr",
     "output_type": "stream",
     "text": [
      "                                                                                \r"
     ]
    },
    {
     "name": "stdout",
     "output_type": "stream",
     "text": [
      "  • Appended GSEA for diseaseId=MONDO_0021193, library KEGG_2021_Human\n",
      "Reading partition diseaseId=MONDO_0021230 from gs://ot-team/polina/pathwaganda/input_4_gsea/oncology/diseaseId=MONDO_0021230\n"
     ]
    },
    {
     "name": "stderr",
     "output_type": "stream",
     "text": [
      "                                                                                \r"
     ]
    },
    {
     "name": "stdout",
     "output_type": "stream",
     "text": [
      "  • Appended GSEA for diseaseId=MONDO_0021230, library KEGG_2021_Human\n",
      "Reading partition diseaseId=MONDO_0021248 from gs://ot-team/polina/pathwaganda/input_4_gsea/oncology/diseaseId=MONDO_0021248\n"
     ]
    },
    {
     "name": "stderr",
     "output_type": "stream",
     "text": [
      "                                                                                \r"
     ]
    },
    {
     "name": "stdout",
     "output_type": "stream",
     "text": [
      "  • Appended GSEA for diseaseId=MONDO_0021248, library KEGG_2021_Human\n",
      "Reading partition diseaseId=MONDO_0021251 from gs://ot-team/polina/pathwaganda/input_4_gsea/oncology/diseaseId=MONDO_0021251\n"
     ]
    },
    {
     "name": "stderr",
     "output_type": "stream",
     "text": [
      "                                                                                \r"
     ]
    },
    {
     "name": "stdout",
     "output_type": "stream",
     "text": [
      "  • Appended GSEA for diseaseId=MONDO_0021251, library KEGG_2021_Human\n",
      "Reading partition diseaseId=MONDO_0021254 from gs://ot-team/polina/pathwaganda/input_4_gsea/oncology/diseaseId=MONDO_0021254\n"
     ]
    },
    {
     "name": "stderr",
     "output_type": "stream",
     "text": [
      "                                                                                \r"
     ]
    },
    {
     "name": "stdout",
     "output_type": "stream",
     "text": [
      "  • Appended GSEA for diseaseId=MONDO_0021254, library KEGG_2021_Human\n",
      "Reading partition diseaseId=MONDO_0021259 from gs://ot-team/polina/pathwaganda/input_4_gsea/oncology/diseaseId=MONDO_0021259\n"
     ]
    },
    {
     "name": "stderr",
     "output_type": "stream",
     "text": [
      "                                                                                \r"
     ]
    },
    {
     "name": "stdout",
     "output_type": "stream",
     "text": [
      "  • Appended GSEA for diseaseId=MONDO_0021259, library KEGG_2021_Human\n",
      "Reading partition diseaseId=MONDO_0021335 from gs://ot-team/polina/pathwaganda/input_4_gsea/oncology/diseaseId=MONDO_0021335\n"
     ]
    },
    {
     "name": "stderr",
     "output_type": "stream",
     "text": [
      "                                                                                \r"
     ]
    },
    {
     "name": "stdout",
     "output_type": "stream",
     "text": [
      "  • Appended GSEA for diseaseId=MONDO_0021335, library KEGG_2021_Human\n",
      "Reading partition diseaseId=MONDO_0021350 from gs://ot-team/polina/pathwaganda/input_4_gsea/oncology/diseaseId=MONDO_0021350\n"
     ]
    },
    {
     "name": "stderr",
     "output_type": "stream",
     "text": [
      "                                                                                \r"
     ]
    },
    {
     "name": "stdout",
     "output_type": "stream",
     "text": [
      "  • Appended GSEA for diseaseId=MONDO_0021350, library KEGG_2021_Human\n",
      "Reading partition diseaseId=MONDO_0021355 from gs://ot-team/polina/pathwaganda/input_4_gsea/oncology/diseaseId=MONDO_0021355\n"
     ]
    },
    {
     "name": "stderr",
     "output_type": "stream",
     "text": [
      "                                                                                \r"
     ]
    },
    {
     "name": "stdout",
     "output_type": "stream",
     "text": [
      "  • Appended GSEA for diseaseId=MONDO_0021355, library KEGG_2021_Human\n",
      "Reading partition diseaseId=MONDO_0021375 from gs://ot-team/polina/pathwaganda/input_4_gsea/oncology/diseaseId=MONDO_0021375\n"
     ]
    },
    {
     "name": "stderr",
     "output_type": "stream",
     "text": [
      "                                                                                \r"
     ]
    },
    {
     "name": "stdout",
     "output_type": "stream",
     "text": [
      "  • Appended GSEA for diseaseId=MONDO_0021375, library KEGG_2021_Human\n",
      "Reading partition diseaseId=MONDO_0021545 from gs://ot-team/polina/pathwaganda/input_4_gsea/oncology/diseaseId=MONDO_0021545\n"
     ]
    },
    {
     "name": "stderr",
     "output_type": "stream",
     "text": [
      "                                                                                \r"
     ]
    },
    {
     "name": "stdout",
     "output_type": "stream",
     "text": [
      "  • Appended GSEA for diseaseId=MONDO_0021545, library KEGG_2021_Human\n",
      "Reading partition diseaseId=MONDO_0021581 from gs://ot-team/polina/pathwaganda/input_4_gsea/oncology/diseaseId=MONDO_0021581\n"
     ]
    },
    {
     "name": "stderr",
     "output_type": "stream",
     "text": [
      "                                                                                \r"
     ]
    },
    {
     "name": "stdout",
     "output_type": "stream",
     "text": [
      "  • Appended GSEA for diseaseId=MONDO_0021581, library KEGG_2021_Human\n",
      "Reading partition diseaseId=MONDO_0021583 from gs://ot-team/polina/pathwaganda/input_4_gsea/oncology/diseaseId=MONDO_0021583\n"
     ]
    },
    {
     "name": "stderr",
     "output_type": "stream",
     "text": [
      "                                                                                \r"
     ]
    },
    {
     "name": "stdout",
     "output_type": "stream",
     "text": [
      "  • Appended GSEA for diseaseId=MONDO_0021583, library KEGG_2021_Human\n",
      "Reading partition diseaseId=MONDO_0021631 from gs://ot-team/polina/pathwaganda/input_4_gsea/oncology/diseaseId=MONDO_0021631\n"
     ]
    },
    {
     "name": "stderr",
     "output_type": "stream",
     "text": [
      "                                                                                \r"
     ]
    },
    {
     "name": "stdout",
     "output_type": "stream",
     "text": [
      "  • Appended GSEA for diseaseId=MONDO_0021631, library KEGG_2021_Human\n",
      "Reading partition diseaseId=MONDO_0021632 from gs://ot-team/polina/pathwaganda/input_4_gsea/oncology/diseaseId=MONDO_0021632\n"
     ]
    },
    {
     "name": "stderr",
     "output_type": "stream",
     "text": [
      "                                                                                \r"
     ]
    },
    {
     "name": "stdout",
     "output_type": "stream",
     "text": [
      "  • Appended GSEA for diseaseId=MONDO_0021632, library KEGG_2021_Human\n",
      "Reading partition diseaseId=MONDO_0021634 from gs://ot-team/polina/pathwaganda/input_4_gsea/oncology/diseaseId=MONDO_0021634\n"
     ]
    },
    {
     "name": "stderr",
     "output_type": "stream",
     "text": [
      "                                                                                \r"
     ]
    },
    {
     "name": "stdout",
     "output_type": "stream",
     "text": [
      "  • Appended GSEA for diseaseId=MONDO_0021634, library KEGG_2021_Human\n",
      "Reading partition diseaseId=MONDO_0021636 from gs://ot-team/polina/pathwaganda/input_4_gsea/oncology/diseaseId=MONDO_0021636\n"
     ]
    },
    {
     "name": "stderr",
     "output_type": "stream",
     "text": [
      "                                                                                \r"
     ]
    },
    {
     "name": "stdout",
     "output_type": "stream",
     "text": [
      "  • Appended GSEA for diseaseId=MONDO_0021636, library KEGG_2021_Human\n",
      "Reading partition diseaseId=MONDO_0021662 from gs://ot-team/polina/pathwaganda/input_4_gsea/oncology/diseaseId=MONDO_0021662\n"
     ]
    },
    {
     "name": "stderr",
     "output_type": "stream",
     "text": [
      "                                                                                \r"
     ]
    },
    {
     "name": "stdout",
     "output_type": "stream",
     "text": [
      "  • Appended GSEA for diseaseId=MONDO_0021662, library KEGG_2021_Human\n",
      "Reading partition diseaseId=MONDO_0023370 from gs://ot-team/polina/pathwaganda/input_4_gsea/oncology/diseaseId=MONDO_0023370\n"
     ]
    },
    {
     "name": "stderr",
     "output_type": "stream",
     "text": [
      "                                                                                \r"
     ]
    },
    {
     "name": "stdout",
     "output_type": "stream",
     "text": [
      "  • Appended GSEA for diseaseId=MONDO_0023370, library KEGG_2021_Human\n",
      "Reading partition diseaseId=MONDO_0023644 from gs://ot-team/polina/pathwaganda/input_4_gsea/oncology/diseaseId=MONDO_0023644\n"
     ]
    },
    {
     "name": "stderr",
     "output_type": "stream",
     "text": [
      "                                                                                \r"
     ]
    },
    {
     "name": "stdout",
     "output_type": "stream",
     "text": [
      "  • Appended GSEA for diseaseId=MONDO_0023644, library KEGG_2021_Human\n",
      "Reading partition diseaseId=MONDO_0024276 from gs://ot-team/polina/pathwaganda/input_4_gsea/oncology/diseaseId=MONDO_0024276\n"
     ]
    },
    {
     "name": "stderr",
     "output_type": "stream",
     "text": [
      "                                                                                \r"
     ]
    },
    {
     "name": "stdout",
     "output_type": "stream",
     "text": [
      "  • Appended GSEA for diseaseId=MONDO_0024276, library KEGG_2021_Human\n",
      "Reading partition diseaseId=MONDO_0024296 from gs://ot-team/polina/pathwaganda/input_4_gsea/oncology/diseaseId=MONDO_0024296\n"
     ]
    },
    {
     "name": "stderr",
     "output_type": "stream",
     "text": [
      "                                                                                \r"
     ]
    },
    {
     "name": "stdout",
     "output_type": "stream",
     "text": [
      "  • Appended GSEA for diseaseId=MONDO_0024296, library KEGG_2021_Human\n",
      "Reading partition diseaseId=MONDO_0024337 from gs://ot-team/polina/pathwaganda/input_4_gsea/oncology/diseaseId=MONDO_0024337\n"
     ]
    },
    {
     "name": "stderr",
     "output_type": "stream",
     "text": [
      "                                                                                \r"
     ]
    },
    {
     "name": "stdout",
     "output_type": "stream",
     "text": [
      "  • Appended GSEA for diseaseId=MONDO_0024337, library KEGG_2021_Human\n",
      "Reading partition diseaseId=MONDO_0024476 from gs://ot-team/polina/pathwaganda/input_4_gsea/oncology/diseaseId=MONDO_0024476\n"
     ]
    },
    {
     "name": "stderr",
     "output_type": "stream",
     "text": [
      "                                                                                \r"
     ]
    },
    {
     "name": "stdout",
     "output_type": "stream",
     "text": [
      "  • Appended GSEA for diseaseId=MONDO_0024476, library KEGG_2021_Human\n",
      "Reading partition diseaseId=MONDO_0024477 from gs://ot-team/polina/pathwaganda/input_4_gsea/oncology/diseaseId=MONDO_0024477\n"
     ]
    },
    {
     "name": "stderr",
     "output_type": "stream",
     "text": [
      "                                                                                \r"
     ]
    },
    {
     "name": "stdout",
     "output_type": "stream",
     "text": [
      "  • Appended GSEA for diseaseId=MONDO_0024477, library KEGG_2021_Human\n",
      "Reading partition diseaseId=MONDO_0024479 from gs://ot-team/polina/pathwaganda/input_4_gsea/oncology/diseaseId=MONDO_0024479\n"
     ]
    },
    {
     "name": "stderr",
     "output_type": "stream",
     "text": [
      "                                                                                \r"
     ]
    },
    {
     "name": "stdout",
     "output_type": "stream",
     "text": [
      "  • Appended GSEA for diseaseId=MONDO_0024479, library KEGG_2021_Human\n",
      "Reading partition diseaseId=MONDO_0024503 from gs://ot-team/polina/pathwaganda/input_4_gsea/oncology/diseaseId=MONDO_0024503\n"
     ]
    },
    {
     "name": "stderr",
     "output_type": "stream",
     "text": [
      "                                                                                \r"
     ]
    },
    {
     "name": "stdout",
     "output_type": "stream",
     "text": [
      "  • Appended GSEA for diseaseId=MONDO_0024503, library KEGG_2021_Human\n",
      "Reading partition diseaseId=MONDO_0024582 from gs://ot-team/polina/pathwaganda/input_4_gsea/oncology/diseaseId=MONDO_0024582\n"
     ]
    },
    {
     "name": "stderr",
     "output_type": "stream",
     "text": [
      "                                                                                \r"
     ]
    },
    {
     "name": "stdout",
     "output_type": "stream",
     "text": [
      "  • Appended GSEA for diseaseId=MONDO_0024582, library KEGG_2021_Human\n",
      "Reading partition diseaseId=MONDO_0024637 from gs://ot-team/polina/pathwaganda/input_4_gsea/oncology/diseaseId=MONDO_0024637\n"
     ]
    },
    {
     "name": "stderr",
     "output_type": "stream",
     "text": [
      "                                                                                \r"
     ]
    },
    {
     "name": "stdout",
     "output_type": "stream",
     "text": [
      "  • Appended GSEA for diseaseId=MONDO_0024637, library KEGG_2021_Human\n",
      "Reading partition diseaseId=MONDO_0024757 from gs://ot-team/polina/pathwaganda/input_4_gsea/oncology/diseaseId=MONDO_0024757\n"
     ]
    },
    {
     "name": "stderr",
     "output_type": "stream",
     "text": [
      "                                                                                \r"
     ]
    },
    {
     "name": "stdout",
     "output_type": "stream",
     "text": [
      "  • Appended GSEA for diseaseId=MONDO_0024757, library KEGG_2021_Human\n",
      "Reading partition diseaseId=MONDO_0024885 from gs://ot-team/polina/pathwaganda/input_4_gsea/oncology/diseaseId=MONDO_0024885\n"
     ]
    },
    {
     "name": "stderr",
     "output_type": "stream",
     "text": [
      "                                                                                \r"
     ]
    },
    {
     "name": "stdout",
     "output_type": "stream",
     "text": [
      "  • Appended GSEA for diseaseId=MONDO_0024885, library KEGG_2021_Human\n",
      "Reading partition diseaseId=MONDO_0037254 from gs://ot-team/polina/pathwaganda/input_4_gsea/oncology/diseaseId=MONDO_0037254\n"
     ]
    },
    {
     "name": "stderr",
     "output_type": "stream",
     "text": [
      "                                                                                \r"
     ]
    },
    {
     "name": "stdout",
     "output_type": "stream",
     "text": [
      "  • Appended GSEA for diseaseId=MONDO_0037254, library KEGG_2021_Human\n",
      "Reading partition diseaseId=MONDO_0037255 from gs://ot-team/polina/pathwaganda/input_4_gsea/oncology/diseaseId=MONDO_0037255\n"
     ]
    },
    {
     "name": "stderr",
     "output_type": "stream",
     "text": [
      "                                                                                \r"
     ]
    },
    {
     "name": "stdout",
     "output_type": "stream",
     "text": [
      "  • Appended GSEA for diseaseId=MONDO_0037255, library KEGG_2021_Human\n",
      "Reading partition diseaseId=MONDO_0037256 from gs://ot-team/polina/pathwaganda/input_4_gsea/oncology/diseaseId=MONDO_0037256\n"
     ]
    },
    {
     "name": "stderr",
     "output_type": "stream",
     "text": [
      "                                                                                \r"
     ]
    },
    {
     "name": "stdout",
     "output_type": "stream",
     "text": [
      "  • Appended GSEA for diseaseId=MONDO_0037256, library KEGG_2021_Human\n",
      "Reading partition diseaseId=MONDO_0040677 from gs://ot-team/polina/pathwaganda/input_4_gsea/oncology/diseaseId=MONDO_0040677\n",
      "  • Appended GSEA for diseaseId=MONDO_0040677, library KEGG_2021_Human\n",
      "Reading partition diseaseId=MONDO_0044334 from gs://ot-team/polina/pathwaganda/input_4_gsea/oncology/diseaseId=MONDO_0044334\n"
     ]
    },
    {
     "name": "stderr",
     "output_type": "stream",
     "text": [
      "                                                                                \r"
     ]
    },
    {
     "name": "stdout",
     "output_type": "stream",
     "text": [
      "  • Appended GSEA for diseaseId=MONDO_0044334, library KEGG_2021_Human\n",
      "Reading partition diseaseId=MONDO_0044710 from gs://ot-team/polina/pathwaganda/input_4_gsea/oncology/diseaseId=MONDO_0044710\n"
     ]
    },
    {
     "name": "stderr",
     "output_type": "stream",
     "text": [
      "                                                                                \r"
     ]
    },
    {
     "name": "stdout",
     "output_type": "stream",
     "text": [
      "  • Appended GSEA for diseaseId=MONDO_0044710, library KEGG_2021_Human\n",
      "Reading partition diseaseId=MONDO_0044881 from gs://ot-team/polina/pathwaganda/input_4_gsea/oncology/diseaseId=MONDO_0044881\n"
     ]
    },
    {
     "name": "stderr",
     "output_type": "stream",
     "text": [
      "                                                                                \r"
     ]
    },
    {
     "name": "stdout",
     "output_type": "stream",
     "text": [
      "  • Appended GSEA for diseaseId=MONDO_0044881, library KEGG_2021_Human\n",
      "Reading partition diseaseId=MONDO_0044925 from gs://ot-team/polina/pathwaganda/input_4_gsea/oncology/diseaseId=MONDO_0044925\n"
     ]
    },
    {
     "name": "stderr",
     "output_type": "stream",
     "text": [
      "                                                                                \r"
     ]
    },
    {
     "name": "stdout",
     "output_type": "stream",
     "text": [
      "  • Appended GSEA for diseaseId=MONDO_0044925, library KEGG_2021_Human\n",
      "Reading partition diseaseId=MONDO_0044937 from gs://ot-team/polina/pathwaganda/input_4_gsea/oncology/diseaseId=MONDO_0044937\n"
     ]
    },
    {
     "name": "stderr",
     "output_type": "stream",
     "text": [
      "                                                                                \r"
     ]
    },
    {
     "name": "stdout",
     "output_type": "stream",
     "text": [
      "  • Appended GSEA for diseaseId=MONDO_0044937, library KEGG_2021_Human\n",
      "Reading partition diseaseId=MONDO_0045024 from gs://ot-team/polina/pathwaganda/input_4_gsea/oncology/diseaseId=MONDO_0045024\n"
     ]
    },
    {
     "name": "stderr",
     "output_type": "stream",
     "text": [
      "                                                                                \r"
     ]
    },
    {
     "name": "stdout",
     "output_type": "stream",
     "text": [
      "  • Appended GSEA for diseaseId=MONDO_0045024, library KEGG_2021_Human\n",
      "Reading partition diseaseId=MONDO_0100342 from gs://ot-team/polina/pathwaganda/input_4_gsea/oncology/diseaseId=MONDO_0100342\n"
     ]
    },
    {
     "name": "stderr",
     "output_type": "stream",
     "text": [
      "                                                                                \r"
     ]
    },
    {
     "name": "stdout",
     "output_type": "stream",
     "text": [
      "  • Appended GSEA for diseaseId=MONDO_0100342, library KEGG_2021_Human\n",
      "Reading partition diseaseId=Orphanet_271847 from gs://ot-team/polina/pathwaganda/input_4_gsea/oncology/diseaseId=Orphanet_271847\n"
     ]
    },
    {
     "name": "stderr",
     "output_type": "stream",
     "text": [
      "                                                                                \r"
     ]
    },
    {
     "name": "stdout",
     "output_type": "stream",
     "text": [
      "  • Appended GSEA for diseaseId=Orphanet_271847, library KEGG_2021_Human\n",
      "Reading partition diseaseId=Orphanet_322126 from gs://ot-team/polina/pathwaganda/input_4_gsea/oncology/diseaseId=Orphanet_322126\n"
     ]
    },
    {
     "name": "stderr",
     "output_type": "stream",
     "text": [
      "                                                                                \r"
     ]
    },
    {
     "name": "stdout",
     "output_type": "stream",
     "text": [
      "  • Appended GSEA for diseaseId=Orphanet_322126, library KEGG_2021_Human\n",
      "Reading partition diseaseId=Orphanet_68336 from gs://ot-team/polina/pathwaganda/input_4_gsea/oncology/diseaseId=Orphanet_68336\n"
     ]
    },
    {
     "name": "stderr",
     "output_type": "stream",
     "text": [
      "                                                                                \r"
     ]
    },
    {
     "name": "stdout",
     "output_type": "stream",
     "text": [
      "  • Appended GSEA for diseaseId=Orphanet_68336, library KEGG_2021_Human\n"
     ]
    }
   ],
   "source": [
    "import gcsfs\n",
    "\n",
    "# (2) Define your parameters\n",
    "input_base  = \"gs://ot-team/polina/pathwaganda/input_4_gsea/oncology\"\n",
    "output_base = \"gs://ot-team/polina/pathwaganda/gsea_run\"\n",
    "libs        = [\"KEGG_2021_Human\"]\n",
    "\n",
    "# (3) Call the function\n",
    "run_blitzgsea(\n",
    "    input_base=input_base,\n",
    "    output_base=output_base,\n",
    "    libraries=libs,\n",
    "    processes=4\n",
    ")"
   ]
  },
  {
   "cell_type": "code",
   "execution_count": null,
   "id": "0c142432",
   "metadata": {},
   "outputs": [],
   "source": []
  },
  {
   "cell_type": "code",
   "execution_count": null,
   "id": "155cf56d",
   "metadata": {},
   "outputs": [],
   "source": []
  },
  {
   "cell_type": "code",
   "execution_count": null,
   "id": "fdd2c77f",
   "metadata": {},
   "outputs": [],
   "source": []
  },
  {
   "cell_type": "code",
   "execution_count": 2,
   "id": "3dd8f33d",
   "metadata": {},
   "outputs": [],
   "source": [
    "import os\n",
    "import gcsfs\n",
    "from pyspark.sql import SparkSession\n",
    "from pyspark.sql.functions import col, countDistinct\n",
    "from pyspark.sql import functions as F"
   ]
  },
  {
   "cell_type": "code",
   "execution_count": null,
   "id": "df0a7570",
   "metadata": {},
   "outputs": [
    {
     "name": "stderr",
     "output_type": "stream",
     "text": [
      "                                                                                \r"
     ]
    },
    {
     "name": "stderr",
     "output_type": "stream",
     "text": [
      "[Stage 1391:>                                                       (0 + 2) / 2]\r"
     ]
    }
   ],
   "source": [
    "# Input and output GCS paths\n",
    "INPUT_PATH  = \"gs://ot-team/polina/pathwaganda/processed_diseases/oncology\"\n",
    "OUTPUT_BASE = \"gs://ot-team/polina/pathwaganda/input_4_gsea/oncology\"\n",
    "\n",
    "# ─── Initialize GCS filesystem and check input ────────────────────────────────\n",
    "\n",
    "fs = gcsfs.GCSFileSystem()\n",
    "if not fs.exists(INPUT_PATH):\n",
    "    raise FileNotFoundError(f\"Input path not found: {INPUT_PATH}\")\n",
    "\n",
    "# ─── Read all Parquet files from GCS ──────────────────────────────────────────\n",
    "\n",
    "df = spark.read.parquet(INPUT_PATH)"
   ]
  },
  {
   "cell_type": "code",
   "execution_count": 47,
   "id": "3ee6c2cf",
   "metadata": {},
   "outputs": [],
   "source": [
    "MIN_TARGETS = 500\n",
    "\n",
    "# only pull diseaseIds whose countDistinct(approvedSymbol) >= MIN_TARGETS\n",
    "valid_diseases = (\n",
    "    df\n",
    "    .groupBy(\"diseaseId\")\n",
    "    .agg(countDistinct(\"approvedSymbol\").alias(\"uniqueCount\"))\n",
    "    .filter(col(\"uniqueCount\") >= MIN_TARGETS)\n",
    "    .select(\"diseaseId\")\n",
    ")\n"
   ]
  },
  {
   "cell_type": "code",
   "execution_count": 48,
   "id": "285f9ed0",
   "metadata": {},
   "outputs": [],
   "source": [
    "# 2) Inner‐join back to keep only those diseases\n",
    "df_filtered = df.join(valid_diseases, on=\"diseaseId\", how=\"inner\")"
   ]
  },
  {
   "cell_type": "code",
   "execution_count": 49,
   "id": "d96e0074",
   "metadata": {},
   "outputs": [],
   "source": [
    "# 1) Select & rename once up‑front:\n",
    "df2 = (\n",
    "    df_filtered\n",
    "    .select(\"diseaseId\", \"approvedSymbol\", \"overallScore\")\n",
    "    .withColumnRenamed(\"approvedSymbol\", \"0\")\n",
    "    .withColumnRenamed(\"overallScore\",     \"1\")\n",
    ")\n"
   ]
  },
  {
   "cell_type": "code",
   "execution_count": 50,
   "id": "aec04ecc",
   "metadata": {},
   "outputs": [],
   "source": [
    "# 2) Repartition by diseaseId and sort within each partition **descending** by score:\n",
    "df2 = (\n",
    "    df2\n",
    "    .repartition(\"diseaseId\")\n",
    "    # .sortWithinPartitions(col(\"1\").desc())\n",
    ")"
   ]
  },
  {
   "cell_type": "code",
   "execution_count": null,
   "id": "ad28d42d",
   "metadata": {},
   "outputs": [
    {
     "name": "stderr",
     "output_type": "stream",
     "text": [
      "                                                                                \r"
     ]
    },
    {
     "name": "stderr",
     "output_type": "stream",
     "text": [
      "                                                                                \r"
     ]
    }
   ],
   "source": [
    "# 3) Write out in one go, partitioned by diseaseId:\n",
    "df2.write \\\n",
    "   .mode(\"overwrite\") \\\n",
    "   .partitionBy(\"diseaseId\") \\\n",
    "   .parquet(OUTPUT_BASE)"
   ]
  },
  {
   "cell_type": "code",
   "execution_count": null,
   "id": "2abe078d",
   "metadata": {},
   "outputs": [
    {
     "name": "stderr",
     "output_type": "stream",
     "text": [
      "                                                                                \r"
     ]
    },
    {
     "data": {
      "text/plain": [
       "815"
      ]
     },
     "execution_count": 45,
     "metadata": {},
     "output_type": "execute_result"
    },
    {
     "name": "stderr",
     "output_type": "stream",
     "text": [
      "[Stage 1391:>                                                       (0 + 2) / 2]\r"
     ]
    }
   ],
   "source": [
    "# spark.read.parquet(\"gs://ot-team/polina/pathwaganda/input_4_gsea/non_oncology/diseaseId=EFO_0000195\").count()"
   ]
  },
  {
   "cell_type": "code",
   "execution_count": null,
   "id": "b26fd220",
   "metadata": {},
   "outputs": [],
   "source": []
  },
  {
   "cell_type": "code",
   "execution_count": null,
   "id": "9f85a60f",
   "metadata": {},
   "outputs": [],
   "source": []
  },
  {
   "cell_type": "code",
   "execution_count": null,
   "id": "f31a9012",
   "metadata": {},
   "outputs": [],
   "source": []
  },
  {
   "cell_type": "code",
   "execution_count": null,
   "id": "04595636",
   "metadata": {},
   "outputs": [],
   "source": []
  },
  {
   "cell_type": "code",
   "execution_count": null,
   "id": "9da23fda",
   "metadata": {},
   "outputs": [],
   "source": []
  },
  {
   "cell_type": "code",
   "execution_count": null,
   "id": "91270bda",
   "metadata": {},
   "outputs": [],
   "source": []
  },
  {
   "cell_type": "code",
   "execution_count": 10,
   "id": "2c44025f",
   "metadata": {},
   "outputs": [],
   "source": [
    "from pyspark.sql import SparkSession\n",
    "from pyspark.sql.functions import col\n",
    "import blitzgsea as blitz\n",
    "\n",
    "def blitzgsea_with_fileprep_spark(\n",
    "    input_gcs_dir: str,\n",
    "    output_gcs_dir: str,\n",
    "    libraries: list = None,\n",
    "    fdr_cutoff: float = 0.1\n",
    ") -> None:\n",
    "    \"\"\"\n",
    "    Perform scalable GSEA on a Parquet dataset with PySpark, grouping by diseaseId and writing partitioned results.\n",
    "\n",
    "    Args:\n",
    "        input_gcs_dir (str): GCS path to the Parquet input (file or directory).\n",
    "        output_gcs_dir (str): GCS path for output library folders.\n",
    "        libraries (list of str, optional): List of blitz Enrichr library names. If None, fetches all available libraries.\n",
    "        fdr_cutoff (float): FDR threshold for significant terms.\n",
    "    \"\"\"\n",
    "    # Initialize Spark with GCS connector settings\n",
    "    spark = (\n",
    "        SparkSession\n",
    "        .builder\n",
    "        .appName(\"BlitzGSEA\")\n",
    "        # ensure Google Cloud Storage support\n",
    "        .config(\"spark.hadoop.fs.gs.impl\", \"com.google.cloud.hadoop.fs.gcs.GoogleHadoopFileSystem\")\n",
    "        .getOrCreate()\n",
    "    )\n",
    "\n",
    "    # Read Parquet dataset directly from GCS\n",
    "    df = spark.read.parquet(input_gcs_dir)\n",
    "\n",
    "    # Select and rename columns for GSEA\n",
    "    df2 = df.select(\n",
    "        col(\"diseaseId\"),\n",
    "        col(\"targetId\"),\n",
    "        col(\"approvedSymbol\").alias(\"0\"),\n",
    "        col(\"overallScore\").alias(\"1\")\n",
    "    )\n",
    "\n",
    "    # Determine libraries to process\n",
    "    if libraries is None:\n",
    "        libraries = blitz.enrichr.get_libraries()\n",
    "\n",
    "    # Pre-load all library sets\n",
    "    library_sets = {lib: blitz.enrichr.get_library(lib) for lib in libraries}\n",
    "\n",
    "    # Collect distinct disease IDs\n",
    "    disease_ids = [row.diseaseId for row in df2.select(\"diseaseId\").distinct().collect()]\n",
    "\n",
    "    for disease_id in disease_ids:\n",
    "        # Filter, sort, and convert to pandas for blitz.gsea\n",
    "        pdf = (\n",
    "            df2\n",
    "            .filter(col(\"diseaseId\") == disease_id)\n",
    "            .orderBy(col(\"1\").desc())\n",
    "            .select(\"0\", \"1\")\n",
    "            .toPandas()\n",
    "        )\n",
    "        if pdf.empty:\n",
    "            continue\n",
    "\n",
    "        for lib in libraries:\n",
    "            library = library_sets[lib]\n",
    "\n",
    "            # Run GSEA\n",
    "            result = blitz.gsea(pdf, library, processes=4)\n",
    "            sig = result[result.get(\"FDR\", result.get(\"fdr\", result.get(\"fdr_qvalue\"))) <= fdr_cutoff].copy()\n",
    "            if sig.empty:\n",
    "                continue\n",
    "\n",
    "            # Propagation step\n",
    "            sig[\"propagated_edge\"] = sig.index.map(lambda term: \",\".join(library.get(term, [])))\n",
    "            sig[\"diseaseId\"] = disease_id\n",
    "\n",
    "            # Convert back to Spark and write to GCS as Parquet\n",
    "            sdf = spark.createDataFrame(\n",
    "                sig.reset_index().rename(columns={\"index\": \"Term\"})\n",
    "            )\n",
    "            output_path = f\"{output_gcs_dir.rstrip('/')}/{lib}/{disease_id}\"\n",
    "            sdf.write.mode(\"overwrite\").parquet(output_path)\n",
    "\n",
    "    spark.stop()\n"
   ]
  },
  {
   "cell_type": "code",
   "execution_count": 11,
   "id": "f036ff4f",
   "metadata": {},
   "outputs": [
    {
     "name": "stderr",
     "output_type": "stream",
     "text": [
      "25/07/22 11:31:16 WARN SparkSession: Using an existing Spark session; only runtime SQL configurations will take effect.\n",
      "                                                                                \r"
     ]
    },
    {
     "ename": "ZeroDivisionError",
     "evalue": "float division by zero",
     "output_type": "error",
     "traceback": [
      "\u001b[0;31m---------------------------------------------------------------------------\u001b[0m",
      "\u001b[0;31mRemoteTraceback\u001b[0m                           Traceback (most recent call last)",
      "\u001b[0;31mRemoteTraceback\u001b[0m: \n\"\"\"\nTraceback (most recent call last):\n  File \"/opt/conda/miniconda3/lib/python3.11/multiprocessing/pool.py\", line 125, in worker\n    result = (True, func(*args, **kwds))\n                    ^^^^^^^^^^^^^^^^^^^\n  File \"/home/polina/.local/lib/python3.11/site-packages/blitzgsea/__init__.py\", line 39, in estimate_anchor_star\n    return estimate_anchor(*args)\n           ^^^^^^^^^^^^^^^^^^^^^^\n  File \"/home/polina/.local/lib/python3.11/site-packages/blitzgsea/__init__.py\", line 42, in estimate_anchor\n    es = np.array(get_peak_size_adv(abs_signature, set_size, permutations, int(seed)))\n                  ^^^^^^^^^^^^^^^^^^^^^^^^^^^^^^^^^^^^^^^^^^^^^^^^^^^^^^^^^^^^^^^^^^^\n  File \"/home/polina/.local/lib/python3.11/site-packages/blitzgsea/__init__.py\", line 153, in get_peak_size_adv\n    es_val = enrichment_score_null(abs_signature, hit_indicator.copy(), number_hits)\n             ^^^^^^^^^^^^^^^^^^^^^^^^^^^^^^^^^^^^^^^^^^^^^^^^^^^^^^^^^^^^^^^^^^^^^^^\n  File \"/home/polina/.local/lib/python3.11/site-packages/blitzgsea/__init__.py\", line 111, in enrichment_score_null\n    norm_no_hit = 1.0 / number_miss\n                  ~~~~^~~~~~~~~~~~~\nZeroDivisionError: float division by zero\n\"\"\"",
      "\nThe above exception was the direct cause of the following exception:\n",
      "\u001b[0;31mZeroDivisionError\u001b[0m                         Traceback (most recent call last)",
      "Cell \u001b[0;32mIn[11], line 10\u001b[0m\n\u001b[1;32m      2\u001b[0m output_gcs_dir \u001b[38;5;241m=\u001b[39m \u001b[38;5;124m\"\u001b[39m\u001b[38;5;124mgs://ot-team/polina/pathwaganda/gsea_results/non_oncology\u001b[39m\u001b[38;5;124m\"\u001b[39m\n\u001b[1;32m      4\u001b[0m libraries \u001b[38;5;241m=\u001b[39m [\u001b[38;5;124m\"\u001b[39m\u001b[38;5;124mKEGG_2021_Human\u001b[39m\u001b[38;5;124m\"\u001b[39m\n\u001b[1;32m      5\u001b[0m             \u001b[38;5;66;03m# \"Reactome_Pathways_2024\",\u001b[39;00m\n\u001b[1;32m      6\u001b[0m             \u001b[38;5;66;03m# \"WikiPathways_2024_Human\", \u001b[39;00m\n\u001b[1;32m      7\u001b[0m             \u001b[38;5;66;03m# \"GO_Biological_Process_2025\"]\u001b[39;00m\n\u001b[1;32m      8\u001b[0m             ]\n\u001b[0;32m---> 10\u001b[0m \u001b[43mblitzgsea_with_fileprep_spark\u001b[49m\u001b[43m(\u001b[49m\u001b[43minput_gcs_dir\u001b[49m\u001b[43m,\u001b[49m\u001b[43m \u001b[49m\u001b[43moutput_gcs_dir\u001b[49m\u001b[43m,\u001b[49m\u001b[43m \u001b[49m\u001b[43mlibraries\u001b[49m\u001b[43m)\u001b[49m\n",
      "Cell \u001b[0;32mIn[10], line 67\u001b[0m, in \u001b[0;36mblitzgsea_with_fileprep_spark\u001b[0;34m(input_gcs_dir, output_gcs_dir, libraries, fdr_cutoff)\u001b[0m\n\u001b[1;32m     64\u001b[0m library \u001b[38;5;241m=\u001b[39m library_sets[lib]\n\u001b[1;32m     66\u001b[0m \u001b[38;5;66;03m# Run GSEA\u001b[39;00m\n\u001b[0;32m---> 67\u001b[0m result \u001b[38;5;241m=\u001b[39m \u001b[43mblitz\u001b[49m\u001b[38;5;241;43m.\u001b[39;49m\u001b[43mgsea\u001b[49m\u001b[43m(\u001b[49m\u001b[43mpdf\u001b[49m\u001b[43m,\u001b[49m\u001b[43m \u001b[49m\u001b[43mlibrary\u001b[49m\u001b[43m,\u001b[49m\u001b[43m \u001b[49m\u001b[43mprocesses\u001b[49m\u001b[38;5;241;43m=\u001b[39;49m\u001b[38;5;241;43m4\u001b[39;49m\u001b[43m)\u001b[49m\n\u001b[1;32m     68\u001b[0m sig \u001b[38;5;241m=\u001b[39m result[result\u001b[38;5;241m.\u001b[39mget(\u001b[38;5;124m\"\u001b[39m\u001b[38;5;124mFDR\u001b[39m\u001b[38;5;124m\"\u001b[39m, result\u001b[38;5;241m.\u001b[39mget(\u001b[38;5;124m\"\u001b[39m\u001b[38;5;124mfdr\u001b[39m\u001b[38;5;124m\"\u001b[39m, result\u001b[38;5;241m.\u001b[39mget(\u001b[38;5;124m\"\u001b[39m\u001b[38;5;124mfdr_qvalue\u001b[39m\u001b[38;5;124m\"\u001b[39m))) \u001b[38;5;241m<\u001b[39m\u001b[38;5;241m=\u001b[39m fdr_cutoff]\u001b[38;5;241m.\u001b[39mcopy()\n\u001b[1;32m     69\u001b[0m \u001b[38;5;28;01mif\u001b[39;00m sig\u001b[38;5;241m.\u001b[39mempty:\n",
      "File \u001b[0;32m~/.local/lib/python3.11/site-packages/blitzgsea/__init__.py:354\u001b[0m, in \u001b[0;36mgsea\u001b[0;34m(signature, library, permutations, anchors, min_size, max_size, processes, plotting, verbose, progress, symmetric, signature_cache, kl_threshold, kl_bins, shared_null, seed, add_noise, accuracy, deep_accuracy, center, ks_disable)\u001b[0m\n\u001b[1;32m    352\u001b[0m     f_alpha_pos, f_beta_pos, f_pos_ratio, f_alpha_neg, f_beta_neg, ks_pos, ks_neg \u001b[38;5;241m=\u001b[39m pdf_cache[sig_hash][\u001b[38;5;124m\"\u001b[39m\u001b[38;5;124mmodel\u001b[39m\u001b[38;5;124m\"\u001b[39m]\n\u001b[1;32m    353\u001b[0m \u001b[38;5;28;01melse\u001b[39;00m:\n\u001b[0;32m--> 354\u001b[0m     f_alpha_pos, f_beta_pos, f_pos_ratio, f_alpha_neg, f_beta_neg, ks_pos, ks_neg \u001b[38;5;241m=\u001b[39m \u001b[43mestimate_parameters\u001b[49m\u001b[43m(\u001b[49m\u001b[43msignature\u001b[49m\u001b[43m,\u001b[49m\u001b[43m \u001b[49m\u001b[43mabs_signature\u001b[49m\u001b[43m,\u001b[49m\u001b[43m \u001b[49m\u001b[43msignature_map\u001b[49m\u001b[43m,\u001b[49m\u001b[43m \u001b[49m\u001b[43mlibrary\u001b[49m\u001b[43m,\u001b[49m\u001b[43m \u001b[49m\u001b[43mpermutations\u001b[49m\u001b[38;5;241;43m=\u001b[39;49m\u001b[43mpermutations\u001b[49m\u001b[43m,\u001b[49m\u001b[43m \u001b[49m\u001b[43mcalibration_anchors\u001b[49m\u001b[38;5;241;43m=\u001b[39;49m\u001b[43manchors\u001b[49m\u001b[43m,\u001b[49m\u001b[43m \u001b[49m\u001b[43mprocesses\u001b[49m\u001b[38;5;241;43m=\u001b[39;49m\u001b[43mprocesses\u001b[49m\u001b[43m,\u001b[49m\u001b[43m \u001b[49m\u001b[43msymmetric\u001b[49m\u001b[38;5;241;43m=\u001b[39;49m\u001b[43msymmetric\u001b[49m\u001b[43m,\u001b[49m\u001b[43m \u001b[49m\u001b[43mplotting\u001b[49m\u001b[38;5;241;43m=\u001b[39;49m\u001b[43mplotting\u001b[49m\u001b[43m,\u001b[49m\u001b[43m \u001b[49m\u001b[43mverbose\u001b[49m\u001b[38;5;241;43m=\u001b[39;49m\u001b[43mverbose\u001b[49m\u001b[43m,\u001b[49m\u001b[43m \u001b[49m\u001b[43mseed\u001b[49m\u001b[38;5;241;43m=\u001b[39;49m\u001b[43mseed\u001b[49m\u001b[43m,\u001b[49m\u001b[43m \u001b[49m\u001b[43mprogress\u001b[49m\u001b[38;5;241;43m=\u001b[39;49m\u001b[43mprogress\u001b[49m\u001b[43m,\u001b[49m\u001b[43m \u001b[49m\u001b[43mmax_size\u001b[49m\u001b[38;5;241;43m=\u001b[39;49m\u001b[43mmax_size\u001b[49m\u001b[43m,\u001b[49m\u001b[43m \u001b[49m\u001b[43mks_disable\u001b[49m\u001b[38;5;241;43m=\u001b[39;49m\u001b[43mks_disable\u001b[49m\u001b[43m)\u001b[49m\n\u001b[1;32m    355\u001b[0m     xv, pdf \u001b[38;5;241m=\u001b[39m create_pdf(np\u001b[38;5;241m.\u001b[39marray(signature[\u001b[38;5;124m\"\u001b[39m\u001b[38;5;124mv\u001b[39m\u001b[38;5;124m\"\u001b[39m]), kl_bins)\n\u001b[1;32m    356\u001b[0m     pdf_cache[sig_hash] \u001b[38;5;241m=\u001b[39m {\n\u001b[1;32m    357\u001b[0m         \u001b[38;5;124m\"\u001b[39m\u001b[38;5;124mxvalues\u001b[39m\u001b[38;5;124m\"\u001b[39m: xv,\n\u001b[1;32m    358\u001b[0m         \u001b[38;5;124m\"\u001b[39m\u001b[38;5;124mpdf\u001b[39m\u001b[38;5;124m\"\u001b[39m: pdf,\n\u001b[1;32m    359\u001b[0m         \u001b[38;5;124m\"\u001b[39m\u001b[38;5;124mmodel\u001b[39m\u001b[38;5;124m\"\u001b[39m: (f_alpha_pos, f_beta_pos, f_pos_ratio, f_alpha_neg, f_beta_neg, ks_pos, ks_neg),\n\u001b[1;32m    360\u001b[0m     }\n",
      "File \u001b[0;32m~/.local/lib/python3.11/site-packages/blitzgsea/__init__.py:183\u001b[0m, in \u001b[0;36mestimate_parameters\u001b[0;34m(signature, abs_signature, signature_map, library, permutations, max_size, symmetric, calibration_anchors, plotting, processes, verbose, progress, seed, ks_disable)\u001b[0m\n\u001b[1;32m    181\u001b[0m     \u001b[38;5;28;01mwith\u001b[39;00m multiprocessing\u001b[38;5;241m.\u001b[39mPool(processes) \u001b[38;5;28;01mas\u001b[39;00m pool:\n\u001b[1;32m    182\u001b[0m         args \u001b[38;5;241m=\u001b[39m [(signature, abs_signature, signature_map, xx, permutations, symmetric, \u001b[38;5;28mint\u001b[39m(seed\u001b[38;5;241m+\u001b[39mxx), ks_disable) \u001b[38;5;28;01mfor\u001b[39;00m xx \u001b[38;5;129;01min\u001b[39;00m anchor_set_sizes]\n\u001b[0;32m--> 183\u001b[0m         results \u001b[38;5;241m=\u001b[39m \u001b[38;5;28mlist\u001b[39m(tqdm(pool\u001b[38;5;241m.\u001b[39mimap(estimate_anchor_star, args), desc\u001b[38;5;241m=\u001b[39m\u001b[38;5;124m\"\u001b[39m\u001b[38;5;124mCalibration\u001b[39m\u001b[38;5;124m\"\u001b[39m, total\u001b[38;5;241m=\u001b[39m\u001b[38;5;28mlen\u001b[39m(args), disable\u001b[38;5;241m=\u001b[39m\u001b[38;5;129;01mnot\u001b[39;00m progress))\n\u001b[1;32m    185\u001b[0m alpha_pos \u001b[38;5;241m=\u001b[39m []\n\u001b[1;32m    186\u001b[0m beta_pos \u001b[38;5;241m=\u001b[39m []\n",
      "File \u001b[0;32m/opt/conda/miniconda3/lib/python3.11/site-packages/tqdm/std.py:1166\u001b[0m, in \u001b[0;36mtqdm.__iter__\u001b[0;34m(self)\u001b[0m\n\u001b[1;32m   1163\u001b[0m \u001b[38;5;66;03m# If the bar is disabled, then just walk the iterable\u001b[39;00m\n\u001b[1;32m   1164\u001b[0m \u001b[38;5;66;03m# (note: keep this check outside the loop for performance)\u001b[39;00m\n\u001b[1;32m   1165\u001b[0m \u001b[38;5;28;01mif\u001b[39;00m \u001b[38;5;28mself\u001b[39m\u001b[38;5;241m.\u001b[39mdisable:\n\u001b[0;32m-> 1166\u001b[0m \u001b[43m    \u001b[49m\u001b[38;5;28;43;01mfor\u001b[39;49;00m\u001b[43m \u001b[49m\u001b[43mobj\u001b[49m\u001b[43m \u001b[49m\u001b[38;5;129;43;01min\u001b[39;49;00m\u001b[43m \u001b[49m\u001b[43miterable\u001b[49m\u001b[43m:\u001b[49m\n\u001b[1;32m   1167\u001b[0m \u001b[43m        \u001b[49m\u001b[38;5;28;43;01myield\u001b[39;49;00m\u001b[43m \u001b[49m\u001b[43mobj\u001b[49m\n\u001b[1;32m   1168\u001b[0m     \u001b[38;5;28;01mreturn\u001b[39;00m\n",
      "File \u001b[0;32m/opt/conda/miniconda3/lib/python3.11/multiprocessing/pool.py:873\u001b[0m, in \u001b[0;36mIMapIterator.next\u001b[0;34m(self, timeout)\u001b[0m\n\u001b[1;32m    871\u001b[0m \u001b[38;5;28;01mif\u001b[39;00m success:\n\u001b[1;32m    872\u001b[0m     \u001b[38;5;28;01mreturn\u001b[39;00m value\n\u001b[0;32m--> 873\u001b[0m \u001b[38;5;28;01mraise\u001b[39;00m value\n",
      "\u001b[0;31mZeroDivisionError\u001b[0m: float division by zero"
     ]
    }
   ],
   "source": [
    "input_gcs_dir = \"gs://ot-team/polina/pathwaganda/processed_diseases/non_oncology\"\n",
    "output_gcs_dir = \"gs://ot-team/polina/pathwaganda/gsea_results/non_oncology\"\n",
    "\n",
    "libraries = [\"KEGG_2021_Human\"\n",
    "            # \"Reactome_Pathways_2024\",\n",
    "            # \"WikiPathways_2024_Human\", \n",
    "            # \"GO_Biological_Process_2025\"]\n",
    "            ]\n",
    "\n",
    "blitzgsea_with_fileprep_spark(input_gcs_dir, output_gcs_dir, libraries)"
   ]
  },
  {
   "cell_type": "code",
   "execution_count": null,
   "id": "82f4b00e",
   "metadata": {},
   "outputs": [],
   "source": []
  }
 ],
 "metadata": {
  "kernelspec": {
   "display_name": "PySpark",
   "language": "python",
   "name": "pyspark"
  },
  "language_info": {
   "codemirror_mode": {
    "name": "ipython",
    "version": 3
   },
   "file_extension": ".py",
   "mimetype": "text/x-python",
   "name": "python",
   "nbconvert_exporter": "python",
   "pygments_lexer": "ipython3",
   "version": "3.11.8"
  }
 },
 "nbformat": 4,
 "nbformat_minor": 5
}
