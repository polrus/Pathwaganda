{
 "cells": [
  {
   "cell_type": "markdown",
   "id": "bb7f6ee6",
   "metadata": {},
   "source": [
    "Score propagation based on harmonic sum:\n",
    "\n",
    "- Take list of genetic evidence for all diseases (single parquet file)\n",
    "- Based on target-target similarity calculate new harmonic sum score "
   ]
  },
  {
   "cell_type": "code",
   "execution_count": null,
   "id": "186249c6",
   "metadata": {},
   "outputs": [],
   "source": []
  },
  {
   "cell_type": "code",
   "execution_count": null,
   "id": "bba79ee9",
   "metadata": {},
   "outputs": [],
   "source": []
  },
  {
   "cell_type": "code",
   "execution_count": null,
   "id": "1569e4c9",
   "metadata": {},
   "outputs": [],
   "source": []
  },
  {
   "cell_type": "code",
   "execution_count": null,
   "id": "18a545e9",
   "metadata": {},
   "outputs": [],
   "source": []
  },
  {
   "cell_type": "code",
   "execution_count": null,
   "id": "d8b3b6a3",
   "metadata": {},
   "outputs": [],
   "source": []
  },
  {
   "cell_type": "code",
   "execution_count": null,
   "id": "4589e438",
   "metadata": {},
   "outputs": [],
   "source": []
  }
 ],
 "metadata": {
  "language_info": {
   "name": "python"
  }
 },
 "nbformat": 4,
 "nbformat_minor": 5
}
