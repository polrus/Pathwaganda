{
 "cells": [
  {
   "cell_type": "markdown",
   "id": "ff962462",
   "metadata": {
    "vscode": {
     "languageId": "plaintext"
    }
   },
   "source": [
    "# Save target-pathway lists as spark dfs and filter out non-gene targets"
   ]
  },
  {
   "cell_type": "markdown",
   "id": "0bf81c38",
   "metadata": {
    "vscode": {
     "languageId": "plaintext"
    }
   },
   "source": [
    "Input folder: Pathwaganda/data/GSEA_output"
   ]
  },
  {
   "cell_type": "code",
   "execution_count": 22,
   "id": "796fbd27",
   "metadata": {},
   "outputs": [],
   "source": [
    "from pyspark.sql import SparkSession\n",
    "import os\n",
    "import shutil\n",
    "from pyspark.sql.functions import split, explode, collect_list, col, concat_ws"
   ]
  },
  {
   "cell_type": "code",
   "execution_count": 33,
   "id": "e640365a",
   "metadata": {},
   "outputs": [],
   "source": [
    "spark = SparkSession.builder.getOrCreate()"
   ]
  },
  {
   "cell_type": "code",
   "execution_count": 10,
   "id": "81a99f0a",
   "metadata": {},
   "outputs": [],
   "source": [
    "df_test = spark.read.parquet(\"/Users/polina/Pathwaganda/data/GSEA_output_gui/Reactome_Pathways_2025_diy_v2/diseaseId=EFO_0000094\")"
   ]
  },
  {
   "cell_type": "code",
   "execution_count": 11,
   "id": "f99cf090",
   "metadata": {},
   "outputs": [
    {
     "name": "stdout",
     "output_type": "stream",
     "text": [
      "+------------+------------------------------------------------+-------------------------------+-------------------+-------------------+-------------------+---------------------+------------------+---------------------+--------------------------------------------+------------+--------------+\n",
      "|ID          |Link                                            |Pathway                        |ES                 |NES                |FDR                |p-value              |Sidak's p-value   |Number of input genes|Leading edge genes                          |Pathway size|Parent pathway|\n",
      "+------------+------------------------------------------------+-------------------------------+-------------------+-------------------+-------------------+---------------------+------------------+---------------------+--------------------------------------------+------------+--------------+\n",
      "|R-HSA-109581|https://reactome.org/content/detail/R-HSA-109581|Apoptosis                      |0.369056153063541  |1.2967564617085863 |0.5302846061649503 |0.19471499545132076  |1.0               |14                   |CDKN2A                                      |167         |R-HSA-5357801 |\n",
      "|R-HSA-109582|https://reactome.org/content/detail/R-HSA-109582|Hemostasis                     |0.34738745066125665|2.8921271267638167 |0.18810247075153202|0.0038264308286026782|0.9126889228929147|40                   |GATA3,MYB,ABL1,NRAS,PTPN11,IRF1,RASGRP1     |706         |              |\n",
      "|R-HSA-109606|https://reactome.org/content/detail/R-HSA-109606|Intrinsic Pathway for Apoptosis|0.5399566603929127 |1.8312915568208958 |0.4028364131702627 |0.06705703719661393  |1.0               |8                    |CDKN2A                                      |54          |R-HSA-109581  |\n",
      "|R-HSA-109704|https://reactome.org/content/detail/R-HSA-109704|PI3K Cascade                   |0.5239149726703267 |1.8462875724469    |0.4028364131702627 |0.06485046125198535  |1.0               |9                    |FGFR3,FGFR4,FGFR2,PIK3CA,PTPN11,PIK3CB,FGFR1|43          |R-HSA-112399  |\n",
      "|R-HSA-111885|https://reactome.org/content/detail/R-HSA-111885|Opioid Signalling              |-0.4133199716640177|-0.9818806883158206|0.6523172614586978 |0.3261586307293489   |1.0               |7                    |PPP1R1B                                     |89          |R-HSA-418594  |\n",
      "+------------+------------------------------------------------+-------------------------------+-------------------+-------------------+-------------------+---------------------+------------------+---------------------+--------------------------------------------+------------+--------------+\n",
      "only showing top 5 rows\n"
     ]
    }
   ],
   "source": [
    "df_test.show(5, truncate=False)"
   ]
  },
  {
   "cell_type": "markdown",
   "id": "451a395f",
   "metadata": {},
   "source": [
    "# Target-pathway matrix"
   ]
  },
  {
   "cell_type": "markdown",
   "id": "bc0109c9",
   "metadata": {},
   "source": [
    "Explode targets from propagated_edge and create boolean matrix TxP."
   ]
  },
  {
   "cell_type": "code",
   "execution_count": 3,
   "id": "61f5158d",
   "metadata": {},
   "outputs": [],
   "source": [
    "# Base directories - update these paths as needed\n",
    "t_input_base = \"/Users/polina/Pathwaganda/data/GSEA_output/Reactome_Pathways_2025_diy\"\n",
    "t_output_base = \"/Users/polina/Pathwaganda/data/target-pathway_matrix_opt/Reactome_Pathways_2025_diy\""
   ]
  },
  {
   "cell_type": "code",
   "execution_count": 4,
   "id": "9cb5d9c7",
   "metadata": {},
   "outputs": [],
   "source": [
    "def process_parquet_files(input_dir, output_dir):\n",
    "\n",
    "    # Loop through all disease subdirectories\n",
    "    for disease_folder in os.listdir(input_dir):\n",
    "        disease_input_path = os.path.join(input_dir, disease_folder)\n",
    "        if not os.path.isdir(disease_input_path):\n",
    "            continue\n",
    "\n",
    "        # Find the first Parquet file in the disease folder\n",
    "        parquet_files = [f for f in os.listdir(disease_input_path) if f.endswith(\".parquet\")]\n",
    "        if not parquet_files:\n",
    "            print(f\"No Parquet file found in {disease_input_path}\")\n",
    "            continue\n",
    "\n",
    "        input_parquet_path = os.path.join(disease_input_path, parquet_files[0])\n",
    "\n",
    "        # Read the Parquet file\n",
    "        df = spark.read.parquet(input_parquet_path)\n",
    "\n",
    "        # Select and process relevant columns\n",
    "        processed_df = (\n",
    "            df.select(\"ID\", \"propagated_edge\")\n",
    "              .withColumn(\"approvedSymbol\", explode(split(col(\"propagated_edge\"), \",\")))\n",
    "              .groupBy(\"approvedSymbol\")\n",
    "              .agg(concat_ws(\",\", collect_list(\"ID\")).alias(\"ID\"))\n",
    "        )\n",
    "\n",
    "        # Create the corresponding output path\n",
    "        disease_output_path = os.path.join(output_dir, disease_folder)\n",
    "        os.makedirs(disease_output_path, exist_ok=True)\n",
    "\n",
    "        output_parquet_path = os.path.join(disease_output_path)\n",
    "\n",
    "        # Write the result\n",
    "        processed_df.write.mode(\"overwrite\").parquet(output_parquet_path)\n",
    "        print(f\"Saved processed file to: {output_parquet_path}\")\n",
    "\n",
    "    spark.stop()\n"
   ]
  },
  {
   "cell_type": "code",
   "execution_count": 5,
   "id": "4ff8e726",
   "metadata": {},
   "outputs": [
    {
     "name": "stderr",
     "output_type": "stream",
     "text": [
      "                                                                                \r"
     ]
    },
    {
     "name": "stdout",
     "output_type": "stream",
     "text": [
      "Saved processed file to: /Users/polina/Pathwaganda/data/target-pathway_matrix_opt/Reactome_Pathways_2025_diy/diseaseId=EFO_0000503\n",
      "Saved processed file to: /Users/polina/Pathwaganda/data/target-pathway_matrix_opt/Reactome_Pathways_2025_diy/diseaseId=EFO_0011015\n",
      "Saved processed file to: /Users/polina/Pathwaganda/data/target-pathway_matrix_opt/Reactome_Pathways_2025_diy/diseaseId=MONDO_0000569\n",
      "Saved processed file to: /Users/polina/Pathwaganda/data/target-pathway_matrix_opt/Reactome_Pathways_2025_diy/diseaseId=MONDO_0003916\n",
      "Saved processed file to: /Users/polina/Pathwaganda/data/target-pathway_matrix_opt/Reactome_Pathways_2025_diy/diseaseId=EFO_0004533\n",
      "Saved processed file to: /Users/polina/Pathwaganda/data/target-pathway_matrix_opt/Reactome_Pathways_2025_diy/diseaseId=MONDO_0002033\n",
      "Saved processed file to: /Users/polina/Pathwaganda/data/target-pathway_matrix_opt/Reactome_Pathways_2025_diy/diseaseId=MONDO_0017343\n",
      "Saved processed file to: /Users/polina/Pathwaganda/data/target-pathway_matrix_opt/Reactome_Pathways_2025_diy/diseaseId=MONDO_0002691\n",
      "Saved processed file to: /Users/polina/Pathwaganda/data/target-pathway_matrix_opt/Reactome_Pathways_2025_diy/diseaseId=MONDO_0001014\n",
      "Saved processed file to: /Users/polina/Pathwaganda/data/target-pathway_matrix_opt/Reactome_Pathways_2025_diy/diseaseId=EFO_0007987\n",
      "Saved processed file to: /Users/polina/Pathwaganda/data/target-pathway_matrix_opt/Reactome_Pathways_2025_diy/diseaseId=EFO_0000504\n",
      "Saved processed file to: /Users/polina/Pathwaganda/data/target-pathway_matrix_opt/Reactome_Pathways_2025_diy/diseaseId=EFO_0004730\n",
      "Saved processed file to: /Users/polina/Pathwaganda/data/target-pathway_matrix_opt/Reactome_Pathways_2025_diy/diseaseId=EFO_0007989\n",
      "Saved processed file to: /Users/polina/Pathwaganda/data/target-pathway_matrix_opt/Reactome_Pathways_2025_diy/diseaseId=MONDO_0002654\n",
      "Saved processed file to: /Users/polina/Pathwaganda/data/target-pathway_matrix_opt/Reactome_Pathways_2025_diy/diseaseId=EFO_0005423\n",
      "Saved processed file to: /Users/polina/Pathwaganda/data/target-pathway_matrix_opt/Reactome_Pathways_2025_diy/diseaseId=MONDO_0019472\n",
      "Saved processed file to: /Users/polina/Pathwaganda/data/target-pathway_matrix_opt/Reactome_Pathways_2025_diy/diseaseId=EFO_0000707\n",
      "Saved processed file to: /Users/polina/Pathwaganda/data/target-pathway_matrix_opt/Reactome_Pathways_2025_diy/diseaseId=HP_0000152\n",
      "Saved processed file to: /Users/polina/Pathwaganda/data/target-pathway_matrix_opt/Reactome_Pathways_2025_diy/diseaseId=HP_0001877\n",
      "Saved processed file to: /Users/polina/Pathwaganda/data/target-pathway_matrix_opt/Reactome_Pathways_2025_diy/diseaseId=MONDO_0000594\n",
      "Saved processed file to: /Users/polina/Pathwaganda/data/target-pathway_matrix_opt/Reactome_Pathways_2025_diy/diseaseId=HP_0000951\n",
      "Saved processed file to: /Users/polina/Pathwaganda/data/target-pathway_matrix_opt/Reactome_Pathways_2025_diy/diseaseId=EFO_0007911\n",
      "Saved processed file to: /Users/polina/Pathwaganda/data/target-pathway_matrix_opt/Reactome_Pathways_2025_diy/diseaseId=EFO_0004338\n",
      "Saved processed file to: /Users/polina/Pathwaganda/data/target-pathway_matrix_opt/Reactome_Pathways_2025_diy/diseaseId=EFO_0007788\n",
      "Saved processed file to: /Users/polina/Pathwaganda/data/target-pathway_matrix_opt/Reactome_Pathways_2025_diy/diseaseId=EFO_0005689\n",
      "Saved processed file to: /Users/polina/Pathwaganda/data/target-pathway_matrix_opt/Reactome_Pathways_2025_diy/diseaseId=MONDO_0001627\n",
      "Saved processed file to: /Users/polina/Pathwaganda/data/target-pathway_matrix_opt/Reactome_Pathways_2025_diy/diseaseId=MONDO_0005041\n",
      "Saved processed file to: /Users/polina/Pathwaganda/data/target-pathway_matrix_opt/Reactome_Pathways_2025_diy/diseaseId=EFO_0009282\n",
      "Saved processed file to: /Users/polina/Pathwaganda/data/target-pathway_matrix_opt/Reactome_Pathways_2025_diy/diseaseId=HP_0003119\n",
      "Saved processed file to: /Users/polina/Pathwaganda/data/target-pathway_matrix_opt/Reactome_Pathways_2025_diy/diseaseId=EFO_1001949\n",
      "Saved processed file to: /Users/polina/Pathwaganda/data/target-pathway_matrix_opt/Reactome_Pathways_2025_diy/diseaseId=EFO_0010700\n",
      "Saved processed file to: /Users/polina/Pathwaganda/data/target-pathway_matrix_opt/Reactome_Pathways_2025_diy/diseaseId=EFO_0004309\n",
      "Saved processed file to: /Users/polina/Pathwaganda/data/target-pathway_matrix_opt/Reactome_Pathways_2025_diy/diseaseId=HP_0000598\n",
      "Saved processed file to: /Users/polina/Pathwaganda/data/target-pathway_matrix_opt/Reactome_Pathways_2025_diy/diseaseId=EFO_0009086\n",
      "Saved processed file to: /Users/polina/Pathwaganda/data/target-pathway_matrix_opt/Reactome_Pathways_2025_diy/diseaseId=EFO_0005680\n",
      "Saved processed file to: /Users/polina/Pathwaganda/data/target-pathway_matrix_opt/Reactome_Pathways_2025_diy/diseaseId=MONDO_0018531\n",
      "Saved processed file to: /Users/polina/Pathwaganda/data/target-pathway_matrix_opt/Reactome_Pathways_2025_diy/diseaseId=MONDO_0004390\n",
      "Saved processed file to: /Users/polina/Pathwaganda/data/target-pathway_matrix_opt/Reactome_Pathways_2025_diy/diseaseId=GO_0009410\n",
      "Saved processed file to: /Users/polina/Pathwaganda/data/target-pathway_matrix_opt/Reactome_Pathways_2025_diy/diseaseId=EFO_0004736\n",
      "Saved processed file to: /Users/polina/Pathwaganda/data/target-pathway_matrix_opt/Reactome_Pathways_2025_diy/diseaseId=EFO_1000233\n",
      "Saved processed file to: /Users/polina/Pathwaganda/data/target-pathway_matrix_opt/Reactome_Pathways_2025_diy/diseaseId=EFO_1000657\n",
      "Saved processed file to: /Users/polina/Pathwaganda/data/target-pathway_matrix_opt/Reactome_Pathways_2025_diy/diseaseId=EFO_0000706\n",
      "Saved processed file to: /Users/polina/Pathwaganda/data/target-pathway_matrix_opt/Reactome_Pathways_2025_diy/diseaseId=MONDO_0002494\n",
      "Saved processed file to: /Users/polina/Pathwaganda/data/target-pathway_matrix_opt/Reactome_Pathways_2025_diy/diseaseId=MONDO_0007576\n",
      "Saved processed file to: /Users/polina/Pathwaganda/data/target-pathway_matrix_opt/Reactome_Pathways_2025_diy/diseaseId=EFO_0000701\n",
      "Saved processed file to: /Users/polina/Pathwaganda/data/target-pathway_matrix_opt/Reactome_Pathways_2025_diy/diseaseId=EFO_0010593\n",
      "Saved processed file to: /Users/polina/Pathwaganda/data/target-pathway_matrix_opt/Reactome_Pathways_2025_diy/diseaseId=EFO_0004193\n",
      "Saved processed file to: /Users/polina/Pathwaganda/data/target-pathway_matrix_opt/Reactome_Pathways_2025_diy/diseaseId=EFO_0000365\n",
      "Saved processed file to: /Users/polina/Pathwaganda/data/target-pathway_matrix_opt/Reactome_Pathways_2025_diy/diseaseId=EFO_0004503\n",
      "Saved processed file to: /Users/polina/Pathwaganda/data/target-pathway_matrix_opt/Reactome_Pathways_2025_diy/diseaseId=EFO_0001071\n",
      "Saved processed file to: /Users/polina/Pathwaganda/data/target-pathway_matrix_opt/Reactome_Pathways_2025_diy/diseaseId=EFO_0004731\n",
      "Saved processed file to: /Users/polina/Pathwaganda/data/target-pathway_matrix_opt/Reactome_Pathways_2025_diy/diseaseId=HP_0001871\n",
      "Saved processed file to: /Users/polina/Pathwaganda/data/target-pathway_matrix_opt/Reactome_Pathways_2025_diy/diseaseId=MONDO_0000592\n",
      "Saved processed file to: /Users/polina/Pathwaganda/data/target-pathway_matrix_opt/Reactome_Pathways_2025_diy/diseaseId=MONDO_0044881\n",
      "Saved processed file to: /Users/polina/Pathwaganda/data/target-pathway_matrix_opt/Reactome_Pathways_2025_diy/diseaseId=EFO_0000195\n",
      "Saved processed file to: /Users/polina/Pathwaganda/data/target-pathway_matrix_opt/Reactome_Pathways_2025_diy/diseaseId=MONDO_0004907\n",
      "Saved processed file to: /Users/polina/Pathwaganda/data/target-pathway_matrix_opt/Reactome_Pathways_2025_diy/diseaseId=EFO_0000708\n",
      "Saved processed file to: /Users/polina/Pathwaganda/data/target-pathway_matrix_opt/Reactome_Pathways_2025_diy/diseaseId=HP_0001249\n",
      "Saved processed file to: /Users/polina/Pathwaganda/data/target-pathway_matrix_opt/Reactome_Pathways_2025_diy/diseaseId=MONDO_0024503\n",
      "Saved processed file to: /Users/polina/Pathwaganda/data/target-pathway_matrix_opt/Reactome_Pathways_2025_diy/diseaseId=Orphanet_68336\n",
      "Saved processed file to: /Users/polina/Pathwaganda/data/target-pathway_matrix_opt/Reactome_Pathways_2025_diy/diseaseId=EFO_0008591\n",
      "Saved processed file to: /Users/polina/Pathwaganda/data/target-pathway_matrix_opt/Reactome_Pathways_2025_diy/diseaseId=HP_0000539\n",
      "Saved processed file to: /Users/polina/Pathwaganda/data/target-pathway_matrix_opt/Reactome_Pathways_2025_diy/diseaseId=EFO_0004532\n",
      "Saved processed file to: /Users/polina/Pathwaganda/data/target-pathway_matrix_opt/Reactome_Pathways_2025_diy/diseaseId=EFO_0002890\n",
      "Saved processed file to: /Users/polina/Pathwaganda/data/target-pathway_matrix_opt/Reactome_Pathways_2025_diy/diseaseId=EFO_0009676\n",
      "Saved processed file to: /Users/polina/Pathwaganda/data/target-pathway_matrix_opt/Reactome_Pathways_2025_diy/diseaseId=MONDO_0017342\n",
      "Saved processed file to: /Users/polina/Pathwaganda/data/target-pathway_matrix_opt/Reactome_Pathways_2025_diy/diseaseId=MONDO_0021076\n",
      "Saved processed file to: /Users/polina/Pathwaganda/data/target-pathway_matrix_opt/Reactome_Pathways_2025_diy/diseaseId=EFO_0007986\n",
      "Saved processed file to: /Users/polina/Pathwaganda/data/target-pathway_matrix_opt/Reactome_Pathways_2025_diy/diseaseId=EFO_0009682\n",
      "Saved processed file to: /Users/polina/Pathwaganda/data/target-pathway_matrix_opt/Reactome_Pathways_2025_diy/diseaseId=EFO_0001642\n",
      "Saved processed file to: /Users/polina/Pathwaganda/data/target-pathway_matrix_opt/Reactome_Pathways_2025_diy/diseaseId=EFO_0008509\n",
      "Saved processed file to: /Users/polina/Pathwaganda/data/target-pathway_matrix_opt/Reactome_Pathways_2025_diy/diseaseId=MONDO_0008903\n",
      "Saved processed file to: /Users/polina/Pathwaganda/data/target-pathway_matrix_opt/Reactome_Pathways_2025_diy/diseaseId=Orphanet_322126\n",
      "Saved processed file to: /Users/polina/Pathwaganda/data/target-pathway_matrix_opt/Reactome_Pathways_2025_diy/diseaseId=EFO_0000763\n",
      "Saved processed file to: /Users/polina/Pathwaganda/data/target-pathway_matrix_opt/Reactome_Pathways_2025_diy/diseaseId=EFO_0001645\n",
      "Saved processed file to: /Users/polina/Pathwaganda/data/target-pathway_matrix_opt/Reactome_Pathways_2025_diy/diseaseId=EFO_0004337\n",
      "Saved processed file to: /Users/polina/Pathwaganda/data/target-pathway_matrix_opt/Reactome_Pathways_2025_diy/diseaseId=EFO_0006460\n",
      "Saved processed file to: /Users/polina/Pathwaganda/data/target-pathway_matrix_opt/Reactome_Pathways_2025_diy/diseaseId=EFO_0009283\n",
      "Saved processed file to: /Users/polina/Pathwaganda/data/target-pathway_matrix_opt/Reactome_Pathways_2025_diy/diseaseId=EFO_0007789\n",
      "Saved processed file to: /Users/polina/Pathwaganda/data/target-pathway_matrix_opt/Reactome_Pathways_2025_diy/diseaseId=MONDO_0024337\n",
      "Saved processed file to: /Users/polina/Pathwaganda/data/target-pathway_matrix_opt/Reactome_Pathways_2025_diy/diseaseId=EFO_1000294\n",
      "Saved processed file to: /Users/polina/Pathwaganda/data/target-pathway_matrix_opt/Reactome_Pathways_2025_diy/diseaseId=EFO_0010701\n",
      "Saved processed file to: /Users/polina/Pathwaganda/data/target-pathway_matrix_opt/Reactome_Pathways_2025_diy/diseaseId=EFO_0009270\n",
      "Saved processed file to: /Users/polina/Pathwaganda/data/target-pathway_matrix_opt/Reactome_Pathways_2025_diy/diseaseId=MONDO_0002898\n",
      "Saved processed file to: /Users/polina/Pathwaganda/data/target-pathway_matrix_opt/Reactome_Pathways_2025_diy/diseaseId=EFO_0009284\n",
      "Saved processed file to: /Users/polina/Pathwaganda/data/target-pathway_matrix_opt/Reactome_Pathways_2025_diy/diseaseId=MONDO_0002050\n",
      "Saved processed file to: /Users/polina/Pathwaganda/data/target-pathway_matrix_opt/Reactome_Pathways_2025_diy/diseaseId=EFO_0004306\n",
      "Saved processed file to: /Users/polina/Pathwaganda/data/target-pathway_matrix_opt/Reactome_Pathways_2025_diy/diseaseId=EFO_0004908\n",
      "Saved processed file to: /Users/polina/Pathwaganda/data/target-pathway_matrix_opt/Reactome_Pathways_2025_diy/diseaseId=EFO_0002461\n",
      "Saved processed file to: /Users/polina/Pathwaganda/data/target-pathway_matrix_opt/Reactome_Pathways_2025_diy/diseaseId=EFO_0005220\n",
      "Saved processed file to: /Users/polina/Pathwaganda/data/target-pathway_matrix_opt/Reactome_Pathways_2025_diy/diseaseId=EFO_0004280\n",
      "Saved processed file to: /Users/polina/Pathwaganda/data/target-pathway_matrix_opt/Reactome_Pathways_2025_diy/diseaseId=EFO_0004274\n",
      "Saved processed file to: /Users/polina/Pathwaganda/data/target-pathway_matrix_opt/Reactome_Pathways_2025_diy/diseaseId=EFO_0004273\n",
      "Saved processed file to: /Users/polina/Pathwaganda/data/target-pathway_matrix_opt/Reactome_Pathways_2025_diy/diseaseId=EFO_0004617\n",
      "Saved processed file to: /Users/polina/Pathwaganda/data/target-pathway_matrix_opt/Reactome_Pathways_2025_diy/diseaseId=EFO_0021796\n",
      "Saved processed file to: /Users/polina/Pathwaganda/data/target-pathway_matrix_opt/Reactome_Pathways_2025_diy/diseaseId=EFO_0006943\n",
      "Saved processed file to: /Users/polina/Pathwaganda/data/target-pathway_matrix_opt/Reactome_Pathways_2025_diy/diseaseId=EFO_0004842\n",
      "Saved processed file to: /Users/polina/Pathwaganda/data/target-pathway_matrix_opt/Reactome_Pathways_2025_diy/diseaseId=EFO_0000618\n",
      "Saved processed file to: /Users/polina/Pathwaganda/data/target-pathway_matrix_opt/Reactome_Pathways_2025_diy/diseaseId=EFO_0003060\n",
      "Saved processed file to: /Users/polina/Pathwaganda/data/target-pathway_matrix_opt/Reactome_Pathways_2025_diy/diseaseId=EFO_0000275\n",
      "Saved processed file to: /Users/polina/Pathwaganda/data/target-pathway_matrix_opt/Reactome_Pathways_2025_diy/diseaseId=EFO_0003863\n",
      "Saved processed file to: /Users/polina/Pathwaganda/data/target-pathway_matrix_opt/Reactome_Pathways_2025_diy/diseaseId=EFO_0003897\n",
      "Saved processed file to: /Users/polina/Pathwaganda/data/target-pathway_matrix_opt/Reactome_Pathways_2025_diy/diseaseId=EFO_0005952\n",
      "Saved processed file to: /Users/polina/Pathwaganda/data/target-pathway_matrix_opt/Reactome_Pathways_2025_diy/diseaseId=MONDO_0002917\n",
      "Saved processed file to: /Users/polina/Pathwaganda/data/target-pathway_matrix_opt/Reactome_Pathways_2025_diy/diseaseId=EFO_0000272\n",
      "Saved processed file to: /Users/polina/Pathwaganda/data/target-pathway_matrix_opt/Reactome_Pathways_2025_diy/diseaseId=EFO_0000616\n",
      "Saved processed file to: /Users/polina/Pathwaganda/data/target-pathway_matrix_opt/Reactome_Pathways_2025_diy/diseaseId=EFO_0010642\n",
      "Saved processed file to: /Users/polina/Pathwaganda/data/target-pathway_matrix_opt/Reactome_Pathways_2025_diy/diseaseId=HP_0000271\n",
      "Saved processed file to: /Users/polina/Pathwaganda/data/target-pathway_matrix_opt/Reactome_Pathways_2025_diy/diseaseId=EFO_0010226\n",
      "Saved processed file to: /Users/polina/Pathwaganda/data/target-pathway_matrix_opt/Reactome_Pathways_2025_diy/diseaseId=EFO_0004289\n",
      "Saved processed file to: /Users/polina/Pathwaganda/data/target-pathway_matrix_opt/Reactome_Pathways_2025_diy/diseaseId=MONDO_0002928\n",
      "Saved processed file to: /Users/polina/Pathwaganda/data/target-pathway_matrix_opt/Reactome_Pathways_2025_diy/diseaseId=EFO_0002916\n",
      "Saved processed file to: /Users/polina/Pathwaganda/data/target-pathway_matrix_opt/Reactome_Pathways_2025_diy/diseaseId=EFO_0007800\n",
      "Saved processed file to: /Users/polina/Pathwaganda/data/target-pathway_matrix_opt/Reactome_Pathways_2025_diy/diseaseId=MONDO_0024476\n",
      "Saved processed file to: /Users/polina/Pathwaganda/data/target-pathway_matrix_opt/Reactome_Pathways_2025_diy/diseaseId=EFO_0002571\n",
      "Saved processed file to: /Users/polina/Pathwaganda/data/target-pathway_matrix_opt/Reactome_Pathways_2025_diy/diseaseId=EFO_0005592\n",
      "Saved processed file to: /Users/polina/Pathwaganda/data/target-pathway_matrix_opt/Reactome_Pathways_2025_diy/diseaseId=MONDO_0003059\n",
      "Saved processed file to: /Users/polina/Pathwaganda/data/target-pathway_matrix_opt/Reactome_Pathways_2025_diy/diseaseId=MONDO_0037254\n",
      "Saved processed file to: /Users/polina/Pathwaganda/data/target-pathway_matrix_opt/Reactome_Pathways_2025_diy/diseaseId=MONDO_0003061\n",
      "Saved processed file to: /Users/polina/Pathwaganda/data/target-pathway_matrix_opt/Reactome_Pathways_2025_diy/diseaseId=EFO_1000941\n",
      "Saved processed file to: /Users/polina/Pathwaganda/data/target-pathway_matrix_opt/Reactome_Pathways_2025_diy/diseaseId=MONDO_0007263\n",
      "Saved processed file to: /Users/polina/Pathwaganda/data/target-pathway_matrix_opt/Reactome_Pathways_2025_diy/diseaseId=EFO_0005105\n",
      "Saved processed file to: /Users/polina/Pathwaganda/data/target-pathway_matrix_opt/Reactome_Pathways_2025_diy/diseaseId=EFO_0005561\n",
      "Saved processed file to: /Users/polina/Pathwaganda/data/target-pathway_matrix_opt/Reactome_Pathways_2025_diy/diseaseId=EFO_0000228\n",
      "Saved processed file to: /Users/polina/Pathwaganda/data/target-pathway_matrix_opt/Reactome_Pathways_2025_diy/diseaseId=EFO_0000673\n",
      "Saved processed file to: /Users/polina/Pathwaganda/data/target-pathway_matrix_opt/Reactome_Pathways_2025_diy/diseaseId=MONDO_0000621\n",
      "Saved processed file to: /Users/polina/Pathwaganda/data/target-pathway_matrix_opt/Reactome_Pathways_2025_diy/diseaseId=MONDO_0002512\n",
      "Saved processed file to: /Users/polina/Pathwaganda/data/target-pathway_matrix_opt/Reactome_Pathways_2025_diy/diseaseId=EFO_0005134\n",
      "Saved processed file to: /Users/polina/Pathwaganda/data/target-pathway_matrix_opt/Reactome_Pathways_2025_diy/diseaseId=MONDO_0002149\n",
      "Saved processed file to: /Users/polina/Pathwaganda/data/target-pathway_matrix_opt/Reactome_Pathways_2025_diy/diseaseId=EFO_0003839\n",
      "Saved processed file to: /Users/polina/Pathwaganda/data/target-pathway_matrix_opt/Reactome_Pathways_2025_diy/diseaseId=HP_0002715\n",
      "Saved processed file to: /Users/polina/Pathwaganda/data/target-pathway_matrix_opt/Reactome_Pathways_2025_diy/diseaseId=EFO_0004627\n",
      "Saved processed file to: /Users/polina/Pathwaganda/data/target-pathway_matrix_opt/Reactome_Pathways_2025_diy/diseaseId=EFO_0003865\n",
      "Saved processed file to: /Users/polina/Pathwaganda/data/target-pathway_matrix_opt/Reactome_Pathways_2025_diy/diseaseId=EFO_0004872\n",
      "Saved processed file to: /Users/polina/Pathwaganda/data/target-pathway_matrix_opt/Reactome_Pathways_2025_diy/diseaseId=EFO_0003891\n",
      "Saved processed file to: /Users/polina/Pathwaganda/data/target-pathway_matrix_opt/Reactome_Pathways_2025_diy/diseaseId=EFO_0004288\n",
      "Saved processed file to: /Users/polina/Pathwaganda/data/target-pathway_matrix_opt/Reactome_Pathways_2025_diy/diseaseId=MONDO_0011962\n",
      "Saved processed file to: /Users/polina/Pathwaganda/data/target-pathway_matrix_opt/Reactome_Pathways_2025_diy/diseaseId=EFO_1001455\n",
      "Saved processed file to: /Users/polina/Pathwaganda/data/target-pathway_matrix_opt/Reactome_Pathways_2025_diy/diseaseId=MONDO_0002320\n",
      "Saved processed file to: /Users/polina/Pathwaganda/data/target-pathway_matrix_opt/Reactome_Pathways_2025_diy/diseaseId=EFO_0004875\n",
      "Saved processed file to: /Users/polina/Pathwaganda/data/target-pathway_matrix_opt/Reactome_Pathways_2025_diy/diseaseId=EFO_1000121\n",
      "Saved processed file to: /Users/polina/Pathwaganda/data/target-pathway_matrix_opt/Reactome_Pathways_2025_diy/diseaseId=EFO_1001463\n",
      "Saved processed file to: /Users/polina/Pathwaganda/data/target-pathway_matrix_opt/Reactome_Pathways_2025_diy/diseaseId=EFO_0004616\n",
      "Saved processed file to: /Users/polina/Pathwaganda/data/target-pathway_matrix_opt/Reactome_Pathways_2025_diy/diseaseId=MONDO_0005301\n",
      "Saved processed file to: /Users/polina/Pathwaganda/data/target-pathway_matrix_opt/Reactome_Pathways_2025_diy/diseaseId=MONDO_0004643\n",
      "Saved processed file to: /Users/polina/Pathwaganda/data/target-pathway_matrix_opt/Reactome_Pathways_2025_diy/diseaseId=EFO_0004611\n",
      "Saved processed file to: /Users/polina/Pathwaganda/data/target-pathway_matrix_opt/Reactome_Pathways_2025_diy/diseaseId=EFO_0003853\n",
      "Saved processed file to: /Users/polina/Pathwaganda/data/target-pathway_matrix_opt/Reactome_Pathways_2025_diy/diseaseId=EFO_0009555\n",
      "Saved processed file to: /Users/polina/Pathwaganda/data/target-pathway_matrix_opt/Reactome_Pathways_2025_diy/diseaseId=MONDO_0021355\n",
      "Saved processed file to: /Users/polina/Pathwaganda/data/target-pathway_matrix_opt/Reactome_Pathways_2025_diy/diseaseId=EFO_0006945\n",
      "Saved processed file to: /Users/polina/Pathwaganda/data/target-pathway_matrix_opt/Reactome_Pathways_2025_diy/diseaseId=EFO_0005708\n",
      "Saved processed file to: /Users/polina/Pathwaganda/data/target-pathway_matrix_opt/Reactome_Pathways_2025_diy/diseaseId=MONDO_0021193\n",
      "Saved processed file to: /Users/polina/Pathwaganda/data/target-pathway_matrix_opt/Reactome_Pathways_2025_diy/diseaseId=EFO_1002018\n",
      "Saved processed file to: /Users/polina/Pathwaganda/data/target-pathway_matrix_opt/Reactome_Pathways_2025_diy/diseaseId=EFO_0000478\n",
      "Saved processed file to: /Users/polina/Pathwaganda/data/target-pathway_matrix_opt/Reactome_Pathways_2025_diy/diseaseId=EFO_0000681\n",
      "Saved processed file to: /Users/polina/Pathwaganda/data/target-pathway_matrix_opt/Reactome_Pathways_2025_diy/diseaseId=MONDO_0044937\n",
      "Saved processed file to: /Users/polina/Pathwaganda/data/target-pathway_matrix_opt/Reactome_Pathways_2025_diy/diseaseId=MONDO_0002974\n",
      "Saved processed file to: /Users/polina/Pathwaganda/data/target-pathway_matrix_opt/Reactome_Pathways_2025_diy/diseaseId=EFO_0005763\n",
      "Saved processed file to: /Users/polina/Pathwaganda/data/target-pathway_matrix_opt/Reactome_Pathways_2025_diy/diseaseId=EFO_1000172\n",
      "Saved processed file to: /Users/polina/Pathwaganda/data/target-pathway_matrix_opt/Reactome_Pathways_2025_diy/diseaseId=MONDO_0007254\n",
      "Saved processed file to: /Users/polina/Pathwaganda/data/target-pathway_matrix_opt/Reactome_Pathways_2025_diy/diseaseId=EFO_0006788\n",
      "Saved processed file to: /Users/polina/Pathwaganda/data/target-pathway_matrix_opt/Reactome_Pathways_2025_diy/diseaseId=EFO_0006318\n",
      "Saved processed file to: /Users/polina/Pathwaganda/data/target-pathway_matrix_opt/Reactome_Pathways_2025_diy/diseaseId=Orphanet_271847\n",
      "Saved processed file to: /Users/polina/Pathwaganda/data/target-pathway_matrix_opt/Reactome_Pathways_2025_diy/diseaseId=EFO_0002919\n",
      "Saved processed file to: /Users/polina/Pathwaganda/data/target-pathway_matrix_opt/Reactome_Pathways_2025_diy/diseaseId=MONDO_0024479\n",
      "Saved processed file to: /Users/polina/Pathwaganda/data/target-pathway_matrix_opt/Reactome_Pathways_2025_diy/diseaseId=MONDO_0037255\n",
      "Saved processed file to: /Users/polina/Pathwaganda/data/target-pathway_matrix_opt/Reactome_Pathways_2025_diy/diseaseId=MONDO_0003060\n",
      "Saved processed file to: /Users/polina/Pathwaganda/data/target-pathway_matrix_opt/Reactome_Pathways_2025_diy/diseaseId=EFO_1000143\n",
      "Saved processed file to: /Users/polina/Pathwaganda/data/target-pathway_matrix_opt/Reactome_Pathways_2025_diy/diseaseId=EFO_0007005\n",
      "Saved processed file to: /Users/polina/Pathwaganda/data/target-pathway_matrix_opt/Reactome_Pathways_2025_diy/diseaseId=EFO_0000220\n",
      "Saved processed file to: /Users/polina/Pathwaganda/data/target-pathway_matrix_opt/Reactome_Pathways_2025_diy/diseaseId=MONDO_0024477\n",
      "Saved processed file to: /Users/polina/Pathwaganda/data/target-pathway_matrix_opt/Reactome_Pathways_2025_diy/diseaseId=MONDO_0045024\n",
      "Saved processed file to: /Users/polina/Pathwaganda/data/target-pathway_matrix_opt/Reactome_Pathways_2025_diy/diseaseId=MONDO_0002525\n",
      "Saved processed file to: /Users/polina/Pathwaganda/data/target-pathway_matrix_opt/Reactome_Pathways_2025_diy/diseaseId=EFO_0002917\n",
      "Saved processed file to: /Users/polina/Pathwaganda/data/target-pathway_matrix_opt/Reactome_Pathways_2025_diy/diseaseId=MONDO_0000629\n",
      "Saved processed file to: /Users/polina/Pathwaganda/data/target-pathway_matrix_opt/Reactome_Pathways_2025_diy/diseaseId=EFO_0005755\n",
      "Saved processed file to: /Users/polina/Pathwaganda/data/target-pathway_matrix_opt/Reactome_Pathways_2025_diy/diseaseId=MONDO_0021118\n",
      "Saved processed file to: /Users/polina/Pathwaganda/data/target-pathway_matrix_opt/Reactome_Pathways_2025_diy/diseaseId=EFO_0009718\n",
      "Saved processed file to: /Users/polina/Pathwaganda/data/target-pathway_matrix_opt/Reactome_Pathways_2025_diy/diseaseId=EFO_0005922\n",
      "Saved processed file to: /Users/polina/Pathwaganda/data/target-pathway_matrix_opt/Reactome_Pathways_2025_diy/diseaseId=EFO_1001047\n",
      "Saved processed file to: /Users/polina/Pathwaganda/data/target-pathway_matrix_opt/Reactome_Pathways_2025_diy/diseaseId=EFO_0005784\n",
      "Saved processed file to: /Users/polina/Pathwaganda/data/target-pathway_matrix_opt/Reactome_Pathways_2025_diy/diseaseId=MONDO_0005341\n",
      "Saved processed file to: /Users/polina/Pathwaganda/data/target-pathway_matrix_opt/Reactome_Pathways_2025_diy/diseaseId=EFO_0005110\n",
      "Saved processed file to: /Users/polina/Pathwaganda/data/target-pathway_matrix_opt/Reactome_Pathways_2025_diy/diseaseId=EFO_0007223\n",
      "Saved processed file to: /Users/polina/Pathwaganda/data/target-pathway_matrix_opt/Reactome_Pathways_2025_diy/diseaseId=HP_0003674\n",
      "Saved processed file to: /Users/polina/Pathwaganda/data/target-pathway_matrix_opt/Reactome_Pathways_2025_diy/diseaseId=EFO_0009386\n",
      "Saved processed file to: /Users/polina/Pathwaganda/data/target-pathway_matrix_opt/Reactome_Pathways_2025_diy/diseaseId=MONDO_0004251\n",
      "Saved processed file to: /Users/polina/Pathwaganda/data/target-pathway_matrix_opt/Reactome_Pathways_2025_diy/diseaseId=MONDO_0004867\n",
      "Saved processed file to: /Users/polina/Pathwaganda/data/target-pathway_matrix_opt/Reactome_Pathways_2025_diy/diseaseId=EFO_0005741\n",
      "Saved processed file to: /Users/polina/Pathwaganda/data/target-pathway_matrix_opt/Reactome_Pathways_2025_diy/diseaseId=EFO_0003825\n",
      "Saved processed file to: /Users/polina/Pathwaganda/data/target-pathway_matrix_opt/Reactome_Pathways_2025_diy/diseaseId=MONDO_0021581\n",
      "Saved processed file to: /Users/polina/Pathwaganda/data/target-pathway_matrix_opt/Reactome_Pathways_2025_diy/diseaseId=EFO_0000668\n",
      "Saved processed file to: /Users/polina/Pathwaganda/data/target-pathway_matrix_opt/Reactome_Pathways_2025_diy/diseaseId=MONDO_0002367\n",
      "Saved processed file to: /Users/polina/Pathwaganda/data/target-pathway_matrix_opt/Reactome_Pathways_2025_diy/diseaseId=EFO_0006500\n",
      "Saved processed file to: /Users/polina/Pathwaganda/data/target-pathway_matrix_opt/Reactome_Pathways_2025_diy/diseaseId=EFO_0009910\n",
      "Saved processed file to: /Users/polina/Pathwaganda/data/target-pathway_matrix_opt/Reactome_Pathways_2025_diy/diseaseId=EFO_0003086\n",
      "Saved processed file to: /Users/polina/Pathwaganda/data/target-pathway_matrix_opt/Reactome_Pathways_2025_diy/diseaseId=MONDO_0002334\n",
      "Saved processed file to: /Users/polina/Pathwaganda/data/target-pathway_matrix_opt/Reactome_Pathways_2025_diy/diseaseId=MONDO_0005575\n",
      "Saved processed file to: /Users/polina/Pathwaganda/data/target-pathway_matrix_opt/Reactome_Pathways_2025_diy/diseaseId=MONDO_0002562\n",
      "Saved processed file to: /Users/polina/Pathwaganda/data/target-pathway_matrix_opt/Reactome_Pathways_2025_diy/diseaseId=EFO_0001379\n",
      "Saved processed file to: /Users/polina/Pathwaganda/data/target-pathway_matrix_opt/Reactome_Pathways_2025_diy/diseaseId=EFO_0000294\n",
      "Saved processed file to: /Users/polina/Pathwaganda/data/target-pathway_matrix_opt/Reactome_Pathways_2025_diy/diseaseId=EFO_0009546\n",
      "Saved processed file to: /Users/polina/Pathwaganda/data/target-pathway_matrix_opt/Reactome_Pathways_2025_diy/diseaseId=EFO_1000307\n",
      "Saved processed file to: /Users/polina/Pathwaganda/data/target-pathway_matrix_opt/Reactome_Pathways_2025_diy/diseaseId=EFO_0000400\n",
      "Saved processed file to: /Users/polina/Pathwaganda/data/target-pathway_matrix_opt/Reactome_Pathways_2025_diy/diseaseId=MONDO_0003812\n",
      "Saved processed file to: /Users/polina/Pathwaganda/data/target-pathway_matrix_opt/Reactome_Pathways_2025_diy/diseaseId=MONDO_0004805\n",
      "Saved processed file to: /Users/polina/Pathwaganda/data/target-pathway_matrix_opt/Reactome_Pathways_2025_diy/diseaseId=MONDO_0002108\n",
      "Saved processed file to: /Users/polina/Pathwaganda/data/target-pathway_matrix_opt/Reactome_Pathways_2025_diy/diseaseId=EFO_1000363\n",
      "Saved processed file to: /Users/polina/Pathwaganda/data/target-pathway_matrix_opt/Reactome_Pathways_2025_diy/diseaseId=EFO_0000232\n",
      "Saved processed file to: /Users/polina/Pathwaganda/data/target-pathway_matrix_opt/Reactome_Pathways_2025_diy/diseaseId=EFO_1002050\n",
      "Saved processed file to: /Users/polina/Pathwaganda/data/target-pathway_matrix_opt/Reactome_Pathways_2025_diy/diseaseId=EFO_0005116\n",
      "Saved processed file to: /Users/polina/Pathwaganda/data/target-pathway_matrix_opt/Reactome_Pathways_2025_diy/diseaseId=EFO_0022196\n",
      "Saved processed file to: /Users/polina/Pathwaganda/data/target-pathway_matrix_opt/Reactome_Pathways_2025_diy/diseaseId=EFO_1000999\n",
      "Saved processed file to: /Users/polina/Pathwaganda/data/target-pathway_matrix_opt/Reactome_Pathways_2025_diy/diseaseId=MONDO_0001187\n",
      "Saved processed file to: /Users/polina/Pathwaganda/data/target-pathway_matrix_opt/Reactome_Pathways_2025_diy/diseaseId=EFO_0004833\n",
      "Saved processed file to: /Users/polina/Pathwaganda/data/target-pathway_matrix_opt/Reactome_Pathways_2025_diy/diseaseId=EFO_0000651\n",
      "Saved processed file to: /Users/polina/Pathwaganda/data/target-pathway_matrix_opt/Reactome_Pathways_2025_diy/diseaseId=EFO_1000532\n",
      "Saved processed file to: /Users/polina/Pathwaganda/data/target-pathway_matrix_opt/Reactome_Pathways_2025_diy/diseaseId=EFO_0004695\n",
      "Saved processed file to: /Users/polina/Pathwaganda/data/target-pathway_matrix_opt/Reactome_Pathways_2025_diy/diseaseId=EFO_0007010\n",
      "Saved processed file to: /Users/polina/Pathwaganda/data/target-pathway_matrix_opt/Reactome_Pathways_2025_diy/diseaseId=MONDO_0004634\n",
      "Saved processed file to: /Users/polina/Pathwaganda/data/target-pathway_matrix_opt/Reactome_Pathways_2025_diy/diseaseId=MONDO_0021117\n",
      "Saved processed file to: /Users/polina/Pathwaganda/data/target-pathway_matrix_opt/Reactome_Pathways_2025_diy/diseaseId=EFO_0009387\n",
      "Saved processed file to: /Users/polina/Pathwaganda/data/target-pathway_matrix_opt/Reactome_Pathways_2025_diy/diseaseId=EFO_0005771\n",
      "Saved processed file to: /Users/polina/Pathwaganda/data/target-pathway_matrix_opt/Reactome_Pathways_2025_diy/diseaseId=EFO_0005543\n",
      "Saved processed file to: /Users/polina/Pathwaganda/data/target-pathway_matrix_opt/Reactome_Pathways_2025_diy/diseaseId=EFO_0005127\n",
      "Saved processed file to: /Users/polina/Pathwaganda/data/target-pathway_matrix_opt/Reactome_Pathways_2025_diy/diseaseId=EFO_0007442\n",
      "Saved processed file to: /Users/polina/Pathwaganda/data/target-pathway_matrix_opt/Reactome_Pathways_2025_diy/diseaseId=MONDO_0044925\n",
      "Saved processed file to: /Users/polina/Pathwaganda/data/target-pathway_matrix_opt/Reactome_Pathways_2025_diy/diseaseId=EFO_0005588\n",
      "Saved processed file to: /Users/polina/Pathwaganda/data/target-pathway_matrix_opt/Reactome_Pathways_2025_diy/diseaseId=MONDO_0021545\n",
      "Saved processed file to: /Users/polina/Pathwaganda/data/target-pathway_matrix_opt/Reactome_Pathways_2025_diy/diseaseId=GO_0032501\n",
      "Saved processed file to: /Users/polina/Pathwaganda/data/target-pathway_matrix_opt/Reactome_Pathways_2025_diy/diseaseId=MONDO_0002165\n",
      "Saved processed file to: /Users/polina/Pathwaganda/data/target-pathway_matrix_opt/Reactome_Pathways_2025_diy/diseaseId=EFO_0007825\n",
      "Saved processed file to: /Users/polina/Pathwaganda/data/target-pathway_matrix_opt/Reactome_Pathways_2025_diy/diseaseId=EFO_0006335\n",
      "Saved processed file to: /Users/polina/Pathwaganda/data/target-pathway_matrix_opt/Reactome_Pathways_2025_diy/diseaseId=EFO_1000158\n",
      "Saved processed file to: /Users/polina/Pathwaganda/data/target-pathway_matrix_opt/Reactome_Pathways_2025_diy/diseaseId=EFO_0008002\n",
      "Saved processed file to: /Users/polina/Pathwaganda/data/target-pathway_matrix_opt/Reactome_Pathways_2025_diy/diseaseId=EFO_0000096\n",
      "Saved processed file to: /Users/polina/Pathwaganda/data/target-pathway_matrix_opt/Reactome_Pathways_2025_diy/diseaseId=EFO_0004260\n",
      "Saved processed file to: /Users/polina/Pathwaganda/data/target-pathway_matrix_opt/Reactome_Pathways_2025_diy/diseaseId=EFO_1001471\n",
      "Saved processed file to: /Users/polina/Pathwaganda/data/target-pathway_matrix_opt/Reactome_Pathways_2025_diy/diseaseId=MONDO_0001572\n",
      "Saved processed file to: /Users/polina/Pathwaganda/data/target-pathway_matrix_opt/Reactome_Pathways_2025_diy/diseaseId=EFO_0003841\n",
      "Saved processed file to: /Users/polina/Pathwaganda/data/target-pathway_matrix_opt/Reactome_Pathways_2025_diy/diseaseId=EFO_0009578\n",
      "Saved processed file to: /Users/polina/Pathwaganda/data/target-pathway_matrix_opt/Reactome_Pathways_2025_diy/diseaseId=MONDO_0000833\n",
      "Saved processed file to: /Users/polina/Pathwaganda/data/target-pathway_matrix_opt/Reactome_Pathways_2025_diy/diseaseId=MONDO_0021143\n",
      "Saved processed file to: /Users/polina/Pathwaganda/data/target-pathway_matrix_opt/Reactome_Pathways_2025_diy/diseaseId=EFO_0001378\n",
      "Saved processed file to: /Users/polina/Pathwaganda/data/target-pathway_matrix_opt/Reactome_Pathways_2025_diy/diseaseId=EFO_1001216\n",
      "Saved processed file to: /Users/polina/Pathwaganda/data/target-pathway_matrix_opt/Reactome_Pathways_2025_diy/diseaseId=EFO_1002003\n",
      "Saved processed file to: /Users/polina/Pathwaganda/data/target-pathway_matrix_opt/Reactome_Pathways_2025_diy/diseaseId=EFO_0004269\n",
      "Saved processed file to: /Users/polina/Pathwaganda/data/target-pathway_matrix_opt/Reactome_Pathways_2025_diy/diseaseId=EFO_0009549\n",
      "Saved processed file to: /Users/polina/Pathwaganda/data/target-pathway_matrix_opt/Reactome_Pathways_2025_diy/diseaseId=EFO_0010724\n",
      "Saved processed file to: /Users/polina/Pathwaganda/data/target-pathway_matrix_opt/Reactome_Pathways_2025_diy/diseaseId=EFO_0004324\n",
      "Saved processed file to: /Users/polina/Pathwaganda/data/target-pathway_matrix_opt/Reactome_Pathways_2025_diy/diseaseId=EFO_0004586\n",
      "Saved processed file to: /Users/polina/Pathwaganda/data/target-pathway_matrix_opt/Reactome_Pathways_2025_diy/diseaseId=EFO_0000589\n",
      "Saved processed file to: /Users/polina/Pathwaganda/data/target-pathway_matrix_opt/Reactome_Pathways_2025_diy/diseaseId=EFO_0020946\n",
      "Saved processed file to: /Users/polina/Pathwaganda/data/target-pathway_matrix_opt/Reactome_Pathways_2025_diy/diseaseId=EFO_0000313\n",
      "Saved processed file to: /Users/polina/Pathwaganda/data/target-pathway_matrix_opt/Reactome_Pathways_2025_diy/diseaseId=EFO_0000545\n",
      "Saved processed file to: /Users/polina/Pathwaganda/data/target-pathway_matrix_opt/Reactome_Pathways_2025_diy/diseaseId=EFO_0004323\n",
      "Saved processed file to: /Users/polina/Pathwaganda/data/target-pathway_matrix_opt/Reactome_Pathways_2025_diy/diseaseId=EFO_0004747\n",
      "Saved processed file to: /Users/polina/Pathwaganda/data/target-pathway_matrix_opt/Reactome_Pathways_2025_diy/diseaseId=EFO_0009255\n",
      "Saved processed file to: /Users/polina/Pathwaganda/data/target-pathway_matrix_opt/Reactome_Pathways_2025_diy/diseaseId=MONDO_0004985\n",
      "Saved processed file to: /Users/polina/Pathwaganda/data/target-pathway_matrix_opt/Reactome_Pathways_2025_diy/diseaseId=EFO_0004315\n",
      "Saved processed file to: /Users/polina/Pathwaganda/data/target-pathway_matrix_opt/Reactome_Pathways_2025_diy/diseaseId=EFO_0009607\n",
      "Saved processed file to: /Users/polina/Pathwaganda/data/target-pathway_matrix_opt/Reactome_Pathways_2025_diy/diseaseId=EFO_0004312\n",
      "Saved processed file to: /Users/polina/Pathwaganda/data/target-pathway_matrix_opt/Reactome_Pathways_2025_diy/diseaseId=EFO_0000574\n",
      "Saved processed file to: /Users/polina/Pathwaganda/data/target-pathway_matrix_opt/Reactome_Pathways_2025_diy/diseaseId=MONDO_0000383\n",
      "Saved processed file to: /Users/polina/Pathwaganda/data/target-pathway_matrix_opt/Reactome_Pathways_2025_diy/diseaseId=MONDO_0021054\n",
      "Saved processed file to: /Users/polina/Pathwaganda/data/target-pathway_matrix_opt/Reactome_Pathways_2025_diy/diseaseId=MONDO_0002480\n",
      "Saved processed file to: /Users/polina/Pathwaganda/data/target-pathway_matrix_opt/Reactome_Pathways_2025_diy/diseaseId=EFO_0000349\n",
      "Saved processed file to: /Users/polina/Pathwaganda/data/target-pathway_matrix_opt/Reactome_Pathways_2025_diy/diseaseId=EFO_1000218\n",
      "Saved processed file to: /Users/polina/Pathwaganda/data/target-pathway_matrix_opt/Reactome_Pathways_2025_diy/diseaseId=EFO_0004346\n",
      "Saved processed file to: /Users/polina/Pathwaganda/data/target-pathway_matrix_opt/Reactome_Pathways_2025_diy/diseaseId=MONDO_0021259\n",
      "Saved processed file to: /Users/polina/Pathwaganda/data/target-pathway_matrix_opt/Reactome_Pathways_2025_diy/diseaseId=EFO_0005856\n",
      "Saved processed file to: /Users/polina/Pathwaganda/data/target-pathway_matrix_opt/Reactome_Pathways_2025_diy/diseaseId=EFO_0004528\n",
      "Saved processed file to: /Users/polina/Pathwaganda/data/target-pathway_matrix_opt/Reactome_Pathways_2025_diy/diseaseId=MONDO_0004126\n",
      "Saved processed file to: /Users/polina/Pathwaganda/data/target-pathway_matrix_opt/Reactome_Pathways_2025_diy/diseaseId=EFO_0004725\n",
      "Saved processed file to: /Users/polina/Pathwaganda/data/target-pathway_matrix_opt/Reactome_Pathways_2025_diy/diseaseId=EFO_0004517\n",
      "Saved processed file to: /Users/polina/Pathwaganda/data/target-pathway_matrix_opt/Reactome_Pathways_2025_diy/diseaseId=EFO_0007392\n",
      "Saved processed file to: /Users/polina/Pathwaganda/data/target-pathway_matrix_opt/Reactome_Pathways_2025_diy/diseaseId=MONDO_0004580\n",
      "Saved processed file to: /Users/polina/Pathwaganda/data/target-pathway_matrix_opt/Reactome_Pathways_2025_diy/diseaseId=EFO_1001901\n",
      "Saved processed file to: /Users/polina/Pathwaganda/data/target-pathway_matrix_opt/Reactome_Pathways_2025_diy/diseaseId=EFO_0004348\n",
      "Saved processed file to: /Users/polina/Pathwaganda/data/target-pathway_matrix_opt/Reactome_Pathways_2025_diy/diseaseId=EFO_0005407\n",
      "Saved processed file to: /Users/polina/Pathwaganda/data/target-pathway_matrix_opt/Reactome_Pathways_2025_diy/diseaseId=EFO_1001754\n",
      "Saved processed file to: /Users/polina/Pathwaganda/data/target-pathway_matrix_opt/Reactome_Pathways_2025_diy/diseaseId=EFO_0004145\n",
      "Saved processed file to: /Users/polina/Pathwaganda/data/target-pathway_matrix_opt/Reactome_Pathways_2025_diy/diseaseId=MONDO_0005499\n",
      "Saved processed file to: /Users/polina/Pathwaganda/data/target-pathway_matrix_opt/Reactome_Pathways_2025_diy/diseaseId=EFO_0004713\n",
      "Saved processed file to: /Users/polina/Pathwaganda/data/target-pathway_matrix_opt/Reactome_Pathways_2025_diy/diseaseId=EFO_0000181\n",
      "Saved processed file to: /Users/polina/Pathwaganda/data/target-pathway_matrix_opt/Reactome_Pathways_2025_diy/diseaseId=MONDO_0021634\n",
      "Saved processed file to: /Users/polina/Pathwaganda/data/target-pathway_matrix_opt/Reactome_Pathways_2025_diy/diseaseId=HP_0002619\n",
      "Saved processed file to: /Users/polina/Pathwaganda/data/target-pathway_matrix_opt/Reactome_Pathways_2025_diy/diseaseId=MONDO_0001657\n",
      "Saved processed file to: /Users/polina/Pathwaganda/data/target-pathway_matrix_opt/Reactome_Pathways_2025_diy/diseaseId=EFO_0002428\n",
      "Saved processed file to: /Users/polina/Pathwaganda/data/target-pathway_matrix_opt/Reactome_Pathways_2025_diy/diseaseId=MONDO_0021096\n",
      "Saved processed file to: /Users/polina/Pathwaganda/data/target-pathway_matrix_opt/Reactome_Pathways_2025_diy/diseaseId=MONDO_0000588\n",
      "Saved processed file to: /Users/polina/Pathwaganda/data/target-pathway_matrix_opt/Reactome_Pathways_2025_diy/diseaseId=EFO_0005090\n",
      "Saved processed file to: /Users/polina/Pathwaganda/data/target-pathway_matrix_opt/Reactome_Pathways_2025_diy/diseaseId=EFO_0004142\n",
      "Saved processed file to: /Users/polina/Pathwaganda/data/target-pathway_matrix_opt/Reactome_Pathways_2025_diy/diseaseId=EFO_0008549\n",
      "Saved processed file to: /Users/polina/Pathwaganda/data/target-pathway_matrix_opt/Reactome_Pathways_2025_diy/diseaseId=EFO_0005235\n",
      "Saved processed file to: /Users/polina/Pathwaganda/data/target-pathway_matrix_opt/Reactome_Pathways_2025_diy/diseaseId=MONDO_0004379\n",
      "Saved processed file to: /Users/polina/Pathwaganda/data/target-pathway_matrix_opt/Reactome_Pathways_2025_diy/diseaseId=MONDO_0000376\n",
      "Saved processed file to: /Users/polina/Pathwaganda/data/target-pathway_matrix_opt/Reactome_Pathways_2025_diy/diseaseId=EFO_0008515\n",
      "Saved processed file to: /Users/polina/Pathwaganda/data/target-pathway_matrix_opt/Reactome_Pathways_2025_diy/diseaseId=MONDO_0002277\n",
      "Saved processed file to: /Users/polina/Pathwaganda/data/target-pathway_matrix_opt/Reactome_Pathways_2025_diy/diseaseId=EFO_0009433\n",
      "Saved processed file to: /Users/polina/Pathwaganda/data/target-pathway_matrix_opt/Reactome_Pathways_2025_diy/diseaseId=HP_0000929\n",
      "Saved processed file to: /Users/polina/Pathwaganda/data/target-pathway_matrix_opt/Reactome_Pathways_2025_diy/diseaseId=EFO_0003767\n",
      "Saved processed file to: /Users/polina/Pathwaganda/data/target-pathway_matrix_opt/Reactome_Pathways_2025_diy/diseaseId=EFO_0004314\n",
      "Saved processed file to: /Users/polina/Pathwaganda/data/target-pathway_matrix_opt/Reactome_Pathways_2025_diy/diseaseId=EFO_0005232\n",
      "Saved processed file to: /Users/polina/Pathwaganda/data/target-pathway_matrix_opt/Reactome_Pathways_2025_diy/diseaseId=EFO_0004784\n",
      "Saved processed file to: /Users/polina/Pathwaganda/data/target-pathway_matrix_opt/Reactome_Pathways_2025_diy/diseaseId=MONDO_0002614\n",
      "Saved processed file to: /Users/polina/Pathwaganda/data/target-pathway_matrix_opt/Reactome_Pathways_2025_diy/diseaseId=EFO_0005803\n",
      "Saved processed file to: /Users/polina/Pathwaganda/data/target-pathway_matrix_opt/Reactome_Pathways_2025_diy/diseaseId=EFO_0004574\n",
      "Saved processed file to: /Users/polina/Pathwaganda/data/target-pathway_matrix_opt/Reactome_Pathways_2025_diy/diseaseId=EFO_1000627\n",
      "Saved processed file to: /Users/polina/Pathwaganda/data/target-pathway_matrix_opt/Reactome_Pathways_2025_diy/diseaseId=EFO_0006812\n",
      "Saved processed file to: /Users/polina/Pathwaganda/data/target-pathway_matrix_opt/Reactome_Pathways_2025_diy/diseaseId=MONDO_0004979\n",
      "Saved processed file to: /Users/polina/Pathwaganda/data/target-pathway_matrix_opt/Reactome_Pathways_2025_diy/diseaseId=EFO_0008524\n",
      "Saved processed file to: /Users/polina/Pathwaganda/data/target-pathway_matrix_opt/Reactome_Pathways_2025_diy/diseaseId=EFO_0000771\n",
      "Saved processed file to: /Users/polina/Pathwaganda/data/target-pathway_matrix_opt/Reactome_Pathways_2025_diy/diseaseId=EFO_0004587\n",
      "Saved processed file to: /Users/polina/Pathwaganda/data/target-pathway_matrix_opt/Reactome_Pathways_2025_diy/diseaseId=EFO_0003756\n",
      "Saved processed file to: /Users/polina/Pathwaganda/data/target-pathway_matrix_opt/Reactome_Pathways_2025_diy/diseaseId=EFO_0004741\n",
      "Saved processed file to: /Users/polina/Pathwaganda/data/target-pathway_matrix_opt/Reactome_Pathways_2025_diy/diseaseId=EFO_0003100\n",
      "Saved processed file to: /Users/polina/Pathwaganda/data/target-pathway_matrix_opt/Reactome_Pathways_2025_diy/diseaseId=EFO_0009608\n",
      "Saved processed file to: /Users/polina/Pathwaganda/data/target-pathway_matrix_opt/Reactome_Pathways_2025_diy/diseaseId=EFO_0020947\n",
      "Saved processed file to: /Users/polina/Pathwaganda/data/target-pathway_matrix_opt/Reactome_Pathways_2025_diy/diseaseId=MONDO_0005090\n",
      "Saved processed file to: /Users/polina/Pathwaganda/data/target-pathway_matrix_opt/Reactome_Pathways_2025_diy/diseaseId=EFO_0003769\n",
      "Saved processed file to: /Users/polina/Pathwaganda/data/target-pathway_matrix_opt/Reactome_Pathways_2025_diy/diseaseId=MONDO_0021251\n",
      "Saved processed file to: /Users/polina/Pathwaganda/data/target-pathway_matrix_opt/Reactome_Pathways_2025_diy/diseaseId=EFO_0010118\n",
      "Saved processed file to: /Users/polina/Pathwaganda/data/target-pathway_matrix_opt/Reactome_Pathways_2025_diy/diseaseId=EFO_0006841\n",
      "Saved processed file to: /Users/polina/Pathwaganda/data/target-pathway_matrix_opt/Reactome_Pathways_2025_diy/diseaseId=EFO_0007993\n",
      "Saved processed file to: /Users/polina/Pathwaganda/data/target-pathway_matrix_opt/Reactome_Pathways_2025_diy/diseaseId=MONDO_0021063\n",
      "Saved processed file to: /Users/polina/Pathwaganda/data/target-pathway_matrix_opt/Reactome_Pathways_2025_diy/diseaseId=EFO_0000341\n",
      "Saved processed file to: /Users/polina/Pathwaganda/data/target-pathway_matrix_opt/Reactome_Pathways_2025_diy/diseaseId=MONDO_0000589\n",
      "Saved processed file to: /Users/polina/Pathwaganda/data/target-pathway_matrix_opt/Reactome_Pathways_2025_diy/diseaseId=EFO_1001938\n",
      "Saved processed file to: /Users/polina/Pathwaganda/data/target-pathway_matrix_opt/Reactome_Pathways_2025_diy/diseaseId=EFO_0004527\n",
      "Saved processed file to: /Users/polina/Pathwaganda/data/target-pathway_matrix_opt/Reactome_Pathways_2025_diy/diseaseId=EFO_0005091\n",
      "Saved processed file to: /Users/polina/Pathwaganda/data/target-pathway_matrix_opt/Reactome_Pathways_2025_diy/diseaseId=MONDO_0021632\n",
      "Saved processed file to: /Users/polina/Pathwaganda/data/target-pathway_matrix_opt/Reactome_Pathways_2025_diy/diseaseId=EFO_0009690\n",
      "Saved processed file to: /Users/polina/Pathwaganda/data/target-pathway_matrix_opt/Reactome_Pathways_2025_diy/diseaseId=EFO_1001331\n",
      "Saved processed file to: /Users/polina/Pathwaganda/data/target-pathway_matrix_opt/Reactome_Pathways_2025_diy/diseaseId=HP_0001263\n",
      "Saved processed file to: /Users/polina/Pathwaganda/data/target-pathway_matrix_opt/Reactome_Pathways_2025_diy/diseaseId=EFO_1000217\n",
      "Saved processed file to: /Users/polina/Pathwaganda/data/target-pathway_matrix_opt/Reactome_Pathways_2025_diy/diseaseId=EFO_0003966\n",
      "Saved processed file to: /Users/polina/Pathwaganda/data/target-pathway_matrix_opt/Reactome_Pathways_2025_diy/diseaseId=EFO_0004529\n",
      "Saved processed file to: /Users/polina/Pathwaganda/data/target-pathway_matrix_opt/Reactome_Pathways_2025_diy/diseaseId=EFO_0000519\n",
      "Saved processed file to: /Users/polina/Pathwaganda/data/target-pathway_matrix_opt/Reactome_Pathways_2025_diy/diseaseId=EFO_0004516\n",
      "Saved processed file to: /Users/polina/Pathwaganda/data/target-pathway_matrix_opt/Reactome_Pathways_2025_diy/diseaseId=EFO_0000384\n",
      "Saved processed file to: /Users/polina/Pathwaganda/data/target-pathway_matrix_opt/Reactome_Pathways_2025_diy/diseaseId=EFO_0004340\n",
      "Saved processed file to: /Users/polina/Pathwaganda/data/target-pathway_matrix_opt/Reactome_Pathways_2025_diy/diseaseId=EFO_1001763\n",
      "Saved processed file to: /Users/polina/Pathwaganda/data/target-pathway_matrix_opt/Reactome_Pathways_2025_diy/diseaseId=EFO_0008579\n",
      "Saved processed file to: /Users/polina/Pathwaganda/data/target-pathway_matrix_opt/Reactome_Pathways_2025_diy/diseaseId=EFO_0002427\n",
      "Saved processed file to: /Users/polina/Pathwaganda/data/target-pathway_matrix_opt/Reactome_Pathways_2025_diy/diseaseId=HP_0030972\n",
      "Saved processed file to: /Users/polina/Pathwaganda/data/target-pathway_matrix_opt/Reactome_Pathways_2025_diy/diseaseId=EFO_0000348\n",
      "Saved processed file to: /Users/polina/Pathwaganda/data/target-pathway_matrix_opt/Reactome_Pathways_2025_diy/diseaseId=EFO_0011008\n",
      "Saved processed file to: /Users/polina/Pathwaganda/data/target-pathway_matrix_opt/Reactome_Pathways_2025_diy/diseaseId=EFO_0009003\n",
      "Saved processed file to: /Users/polina/Pathwaganda/data/target-pathway_matrix_opt/Reactome_Pathways_2025_diy/diseaseId=EFO_0008328\n",
      "Saved processed file to: /Users/polina/Pathwaganda/data/target-pathway_matrix_opt/Reactome_Pathways_2025_diy/diseaseId=MONDO_0008170\n",
      "Saved processed file to: /Users/polina/Pathwaganda/data/target-pathway_matrix_opt/Reactome_Pathways_2025_diy/diseaseId=EFO_0004949\n",
      "Saved processed file to: /Users/polina/Pathwaganda/data/target-pathway_matrix_opt/Reactome_Pathways_2025_diy/diseaseId=EFO_0006848\n",
      "Saved processed file to: /Users/polina/Pathwaganda/data/target-pathway_matrix_opt/Reactome_Pathways_2025_diy/diseaseId=EFO_0003925\n",
      "Saved processed file to: /Users/polina/Pathwaganda/data/target-pathway_matrix_opt/Reactome_Pathways_2025_diy/diseaseId=EFO_0010155\n",
      "Saved processed file to: /Users/polina/Pathwaganda/data/target-pathway_matrix_opt/Reactome_Pathways_2025_diy/diseaseId=EFO_0004555\n",
      "Saved processed file to: /Users/polina/Pathwaganda/data/target-pathway_matrix_opt/Reactome_Pathways_2025_diy/diseaseId=EFO_1001512\n",
      "Saved processed file to: /Users/polina/Pathwaganda/data/target-pathway_matrix_opt/Reactome_Pathways_2025_diy/diseaseId=EFO_0004303\n",
      "Saved processed file to: /Users/polina/Pathwaganda/data/target-pathway_matrix_opt/Reactome_Pathways_2025_diy/diseaseId=EFO_0000565\n",
      "Saved processed file to: /Users/polina/Pathwaganda/data/target-pathway_matrix_opt/Reactome_Pathways_2025_diy/diseaseId=EFO_1000262\n",
      "Saved processed file to: /Users/polina/Pathwaganda/data/target-pathway_matrix_opt/Reactome_Pathways_2025_diy/diseaseId=HP_0004936\n",
      "Saved processed file to: /Users/polina/Pathwaganda/data/target-pathway_matrix_opt/Reactome_Pathways_2025_diy/diseaseId=EFO_1000068\n",
      "Saved processed file to: /Users/polina/Pathwaganda/data/target-pathway_matrix_opt/Reactome_Pathways_2025_diy/diseaseId=EFO_1001986\n",
      "Saved processed file to: /Users/polina/Pathwaganda/data/target-pathway_matrix_opt/Reactome_Pathways_2025_diy/diseaseId=MONDO_0005277\n",
      "Saved processed file to: /Users/polina/Pathwaganda/data/target-pathway_matrix_opt/Reactome_Pathways_2025_diy/diseaseId=EFO_0008354\n",
      "Saved processed file to: /Users/polina/Pathwaganda/data/target-pathway_matrix_opt/Reactome_Pathways_2025_diy/diseaseId=MONDO_0040677\n",
      "Saved processed file to: /Users/polina/Pathwaganda/data/target-pathway_matrix_opt/Reactome_Pathways_2025_diy/diseaseId=EFO_0803548\n",
      "Saved processed file to: /Users/polina/Pathwaganda/data/target-pathway_matrix_opt/Reactome_Pathways_2025_diy/diseaseId=EFO_1001185\n",
      "Saved processed file to: /Users/polina/Pathwaganda/data/target-pathway_matrix_opt/Reactome_Pathways_2025_diy/diseaseId=EFO_1000601\n",
      "Saved processed file to: /Users/polina/Pathwaganda/data/target-pathway_matrix_opt/Reactome_Pathways_2025_diy/diseaseId=EFO_0001444\n",
      "Saved processed file to: /Users/polina/Pathwaganda/data/target-pathway_matrix_opt/Reactome_Pathways_2025_diy/diseaseId=EFO_0003777\n",
      "Saved processed file to: /Users/polina/Pathwaganda/data/target-pathway_matrix_opt/Reactome_Pathways_2025_diy/diseaseId=MONDO_0002256\n",
      "Saved processed file to: /Users/polina/Pathwaganda/data/target-pathway_matrix_opt/Reactome_Pathways_2025_diy/diseaseId=EFO_0003914\n",
      "Saved processed file to: /Users/polina/Pathwaganda/data/target-pathway_matrix_opt/Reactome_Pathways_2025_diy/diseaseId=EFO_0010967\n",
      "Saved processed file to: /Users/polina/Pathwaganda/data/target-pathway_matrix_opt/Reactome_Pathways_2025_diy/diseaseId=HP_0011842\n",
      "Saved processed file to: /Users/polina/Pathwaganda/data/target-pathway_matrix_opt/Reactome_Pathways_2025_diy/diseaseId=EFO_0005670\n",
      "Saved processed file to: /Users/polina/Pathwaganda/data/target-pathway_matrix_opt/Reactome_Pathways_2025_diy/diseaseId=EFO_0009085\n",
      "Saved processed file to: /Users/polina/Pathwaganda/data/target-pathway_matrix_opt/Reactome_Pathways_2025_diy/diseaseId=MONDO_0018364\n",
      "Saved processed file to: /Users/polina/Pathwaganda/data/target-pathway_matrix_opt/Reactome_Pathways_2025_diy/diseaseId=EFO_0803546\n",
      "Saved processed file to: /Users/polina/Pathwaganda/data/target-pathway_matrix_opt/Reactome_Pathways_2025_diy/diseaseId=EFO_0010351\n",
      "Saved processed file to: /Users/polina/Pathwaganda/data/target-pathway_matrix_opt/Reactome_Pathways_2025_diy/diseaseId=EFO_0000305\n",
      "Saved processed file to: /Users/polina/Pathwaganda/data/target-pathway_matrix_opt/Reactome_Pathways_2025_diy/diseaseId=EFO_0003144\n",
      "Saved processed file to: /Users/polina/Pathwaganda/data/target-pathway_matrix_opt/Reactome_Pathways_2025_diy/diseaseId=EFO_0001421\n",
      "Saved processed file to: /Users/polina/Pathwaganda/data/target-pathway_matrix_opt/Reactome_Pathways_2025_diy/diseaseId=EFO_0004705\n",
      "Saved processed file to: /Users/polina/Pathwaganda/data/target-pathway_matrix_opt/Reactome_Pathways_2025_diy/diseaseId=EFO_0011011\n",
      "Saved processed file to: /Users/polina/Pathwaganda/data/target-pathway_matrix_opt/Reactome_Pathways_2025_diy/diseaseId=EFO_0010934\n",
      "Saved processed file to: /Users/polina/Pathwaganda/data/target-pathway_matrix_opt/Reactome_Pathways_2025_diy/diseaseId=EFO_0000538\n",
      "Saved processed file to: /Users/polina/Pathwaganda/data/target-pathway_matrix_opt/Reactome_Pathways_2025_diy/diseaseId=EFO_0004198\n",
      "Saved processed file to: /Users/polina/Pathwaganda/data/target-pathway_matrix_opt/Reactome_Pathways_2025_diy/diseaseId=EFO_0005278\n",
      "Saved processed file to: /Users/polina/Pathwaganda/data/target-pathway_matrix_opt/Reactome_Pathways_2025_diy/diseaseId=HP_0032263\n",
      "Saved processed file to: /Users/polina/Pathwaganda/data/target-pathway_matrix_opt/Reactome_Pathways_2025_diy/diseaseId=EFO_0004530\n",
      "Saved processed file to: /Users/polina/Pathwaganda/data/target-pathway_matrix_opt/Reactome_Pathways_2025_diy/diseaseId=MONDO_0021080\n",
      "Saved processed file to: /Users/polina/Pathwaganda/data/target-pathway_matrix_opt/Reactome_Pathways_2025_diy/diseaseId=EFO_0002892\n",
      "Saved processed file to: /Users/polina/Pathwaganda/data/target-pathway_matrix_opt/Reactome_Pathways_2025_diy/diseaseId=EFO_0009674\n",
      "Saved processed file to: /Users/polina/Pathwaganda/data/target-pathway_matrix_opt/Reactome_Pathways_2025_diy/diseaseId=EFO_0007984\n",
      "Saved processed file to: /Users/polina/Pathwaganda/data/target-pathway_matrix_opt/Reactome_Pathways_2025_diy/diseaseId=GO_0008150\n",
      "Saved processed file to: /Users/polina/Pathwaganda/data/target-pathway_matrix_opt/Reactome_Pathways_2025_diy/diseaseId=MONDO_0002039\n",
      "Saved processed file to: /Users/polina/Pathwaganda/data/target-pathway_matrix_opt/Reactome_Pathways_2025_diy/diseaseId=HP_0000707\n",
      "Saved processed file to: /Users/polina/Pathwaganda/data/target-pathway_matrix_opt/Reactome_Pathways_2025_diy/diseaseId=EFO_0004995\n",
      "Saved processed file to: /Users/polina/Pathwaganda/data/target-pathway_matrix_opt/Reactome_Pathways_2025_diy/diseaseId=EFO_0000199\n",
      "Saved processed file to: /Users/polina/Pathwaganda/data/target-pathway_matrix_opt/Reactome_Pathways_2025_diy/diseaseId=HP_0011024\n",
      "Saved processed file to: /Users/polina/Pathwaganda/data/target-pathway_matrix_opt/Reactome_Pathways_2025_diy/diseaseId=EFO_0001073\n",
      "Saved processed file to: /Users/polina/Pathwaganda/data/target-pathway_matrix_opt/Reactome_Pathways_2025_diy/diseaseId=MONDO_0021248\n",
      "Saved processed file to: /Users/polina/Pathwaganda/data/target-pathway_matrix_opt/Reactome_Pathways_2025_diy/diseaseId=EFO_0006858\n",
      "Saved processed file to: /Users/polina/Pathwaganda/data/target-pathway_matrix_opt/Reactome_Pathways_2025_diy/diseaseId=HP_0001626\n",
      "Saved processed file to: /Users/polina/Pathwaganda/data/target-pathway_matrix_opt/Reactome_Pathways_2025_diy/diseaseId=EFO_0004191\n",
      "Saved processed file to: /Users/polina/Pathwaganda/data/target-pathway_matrix_opt/Reactome_Pathways_2025_diy/diseaseId=MONDO_0002491\n",
      "Saved processed file to: /Users/polina/Pathwaganda/data/target-pathway_matrix_opt/Reactome_Pathways_2025_diy/diseaseId=EFO_0009477\n",
      "Saved processed file to: /Users/polina/Pathwaganda/data/target-pathway_matrix_opt/Reactome_Pathways_2025_diy/diseaseId=EFO_0009483\n",
      "Saved processed file to: /Users/polina/Pathwaganda/data/target-pathway_matrix_opt/Reactome_Pathways_2025_diy/diseaseId=MONDO_0002406\n",
      "Saved processed file to: /Users/polina/Pathwaganda/data/target-pathway_matrix_opt/Reactome_Pathways_2025_diy/diseaseId=MONDO_0005411\n",
      "Saved processed file to: /Users/polina/Pathwaganda/data/target-pathway_matrix_opt/Reactome_Pathways_2025_diy/diseaseId=HP_0003549\n",
      "Saved processed file to: /Users/polina/Pathwaganda/data/target-pathway_matrix_opt/Reactome_Pathways_2025_diy/diseaseId=EFO_1000255\n",
      "Saved processed file to: /Users/polina/Pathwaganda/data/target-pathway_matrix_opt/Reactome_Pathways_2025_diy/diseaseId=EFO_0000304\n",
      "Saved processed file to: /Users/polina/Pathwaganda/data/target-pathway_matrix_opt/Reactome_Pathways_2025_diy/diseaseId=EFO_0803547\n",
      "Saved processed file to: /Users/polina/Pathwaganda/data/target-pathway_matrix_opt/Reactome_Pathways_2025_diy/diseaseId=EFO_0803540\n",
      "Saved processed file to: /Users/polina/Pathwaganda/data/target-pathway_matrix_opt/Reactome_Pathways_2025_diy/diseaseId=EFO_1000636\n",
      "Saved processed file to: /Users/polina/Pathwaganda/data/target-pathway_matrix_opt/Reactome_Pathways_2025_diy/diseaseId=MONDO_0024757\n",
      "Saved processed file to: /Users/polina/Pathwaganda/data/target-pathway_matrix_opt/Reactome_Pathways_2025_diy/diseaseId=HP_0012638\n",
      "Saved processed file to: /Users/polina/Pathwaganda/data/target-pathway_matrix_opt/Reactome_Pathways_2025_diy/diseaseId=EFO_0004305\n",
      "Saved processed file to: /Users/polina/Pathwaganda/data/target-pathway_matrix_opt/Reactome_Pathways_2025_diy/diseaseId=EFO_0004761\n",
      "Saved processed file to: /Users/polina/Pathwaganda/data/target-pathway_matrix_opt/Reactome_Pathways_2025_diy/diseaseId=MONDO_0005271\n",
      "Saved processed file to: /Users/polina/Pathwaganda/data/target-pathway_matrix_opt/Reactome_Pathways_2025_diy/diseaseId=EFO_0005815\n",
      "Saved processed file to: /Users/polina/Pathwaganda/data/target-pathway_matrix_opt/Reactome_Pathways_2025_diy/diseaseId=MONDO_0000956\n",
      "Saved processed file to: /Users/polina/Pathwaganda/data/target-pathway_matrix_opt/Reactome_Pathways_2025_diy/diseaseId=EFO_0000756\n",
      "Saved processed file to: /Users/polina/Pathwaganda/data/target-pathway_matrix_opt/Reactome_Pathways_2025_diy/diseaseId=HP_0003124\n",
      "Saved processed file to: /Users/polina/Pathwaganda/data/target-pathway_matrix_opt/Reactome_Pathways_2025_diy/diseaseId=MONDO_0004992\n",
      "Saved processed file to: /Users/polina/Pathwaganda/data/target-pathway_matrix_opt/Reactome_Pathways_2025_diy/diseaseId=EFO_1000051\n",
      "Saved processed file to: /Users/polina/Pathwaganda/data/target-pathway_matrix_opt/Reactome_Pathways_2025_diy/diseaseId=MONDO_0002259\n",
      "Saved processed file to: /Users/polina/Pathwaganda/data/target-pathway_matrix_opt/Reactome_Pathways_2025_diy/diseaseId=EFO_0010968\n",
      "Saved processed file to: /Users/polina/Pathwaganda/data/target-pathway_matrix_opt/Reactome_Pathways_2025_diy/diseaseId=EFO_0004302\n",
      "Saved processed file to: /Users/polina/Pathwaganda/data/target-pathway_matrix_opt/Reactome_Pathways_2025_diy/diseaseId=MONDO_0007915\n",
      "Saved processed file to: /Users/polina/Pathwaganda/data/target-pathway_matrix_opt/Reactome_Pathways_2025_diy/diseaseId=EFO_0004190\n",
      "Saved processed file to: /Users/polina/Pathwaganda/data/target-pathway_matrix_opt/Reactome_Pathways_2025_diy/diseaseId=EFO_0000702\n",
      "Saved processed file to: /Users/polina/Pathwaganda/data/target-pathway_matrix_opt/Reactome_Pathways_2025_diy/diseaseId=EFO_0004732\n",
      "Saved processed file to: /Users/polina/Pathwaganda/data/target-pathway_matrix_opt/Reactome_Pathways_2025_diy/diseaseId=EFO_0006859\n",
      "Saved processed file to: /Users/polina/Pathwaganda/data/target-pathway_matrix_opt/Reactome_Pathways_2025_diy/diseaseId=HP_0011025\n",
      "Saved processed file to: /Users/polina/Pathwaganda/data/target-pathway_matrix_opt/Reactome_Pathways_2025_diy/diseaseId=MONDO_0002232\n",
      "Saved processed file to: /Users/polina/Pathwaganda/data/target-pathway_matrix_opt/Reactome_Pathways_2025_diy/diseaseId=EFO_0008550\n",
      "Saved processed file to: /Users/polina/Pathwaganda/data/target-pathway_matrix_opt/Reactome_Pathways_2025_diy/diseaseId=MONDO_0000591\n",
      "Saved processed file to: /Users/polina/Pathwaganda/data/target-pathway_matrix_opt/Reactome_Pathways_2025_diy/diseaseId=HP_0011446\n",
      "Saved processed file to: /Users/polina/Pathwaganda/data/target-pathway_matrix_opt/Reactome_Pathways_2025_diy/diseaseId=EFO_0001075\n",
      "Saved processed file to: /Users/polina/Pathwaganda/data/target-pathway_matrix_opt/Reactome_Pathways_2025_diy/diseaseId=EFO_0004735\n",
      "Saved processed file to: /Users/polina/Pathwaganda/data/target-pathway_matrix_opt/Reactome_Pathways_2025_diy/diseaseId=MONDO_0002038\n",
      "Saved processed file to: /Users/polina/Pathwaganda/data/target-pathway_matrix_opt/Reactome_Pathways_2025_diy/diseaseId=EFO_0000705\n",
      "Saved processed file to: /Users/polina/Pathwaganda/data/target-pathway_matrix_opt/Reactome_Pathways_2025_diy/diseaseId=EFO_0008568\n",
      "Saved processed file to: /Users/polina/Pathwaganda/data/target-pathway_matrix_opt/Reactome_Pathways_2025_diy/diseaseId=EFO_0000537\n",
      "Saved processed file to: /Users/polina/Pathwaganda/data/target-pathway_matrix_opt/Reactome_Pathways_2025_diy/diseaseId=MONDO_0021043\n",
      "Saved processed file to: /Users/polina/Pathwaganda/data/target-pathway_matrix_opt/Reactome_Pathways_2025_diy/diseaseId=MONDO_0023370\n",
      "Saved processed file to: /Users/polina/Pathwaganda/data/target-pathway_matrix_opt/Reactome_Pathways_2025_diy/diseaseId=EFO_0000508\n",
      "Saved processed file to: /Users/polina/Pathwaganda/data/target-pathway_matrix_opt/Reactome_Pathways_2025_diy/diseaseId=EFO_0004531\n",
      "Saved processed file to: /Users/polina/Pathwaganda/data/target-pathway_matrix_opt/Reactome_Pathways_2025_diy/diseaseId=EFO_0004703\n",
      "Saved processed file to: /Users/polina/Pathwaganda/data/target-pathway_matrix_opt/Reactome_Pathways_2025_diy/diseaseId=MONDO_0017341\n",
      "Saved processed file to: /Users/polina/Pathwaganda/data/target-pathway_matrix_opt/Reactome_Pathways_2025_diy/diseaseId=EFO_0008595\n",
      "Saved processed file to: /Users/polina/Pathwaganda/data/target-pathway_matrix_opt/Reactome_Pathways_2025_diy/diseaseId=EFO_0007985\n",
      "Saved processed file to: /Users/polina/Pathwaganda/data/target-pathway_matrix_opt/Reactome_Pathways_2025_diy/diseaseId=MONDO_0002009\n",
      "Saved processed file to: /Users/polina/Pathwaganda/data/target-pathway_matrix_opt/Reactome_Pathways_2025_diy/diseaseId=HP_0002060\n",
      "Saved processed file to: /Users/polina/Pathwaganda/data/target-pathway_matrix_opt/Reactome_Pathways_2025_diy/diseaseId=EFO_0004536\n",
      "Saved processed file to: /Users/polina/Pathwaganda/data/target-pathway_matrix_opt/Reactome_Pathways_2025_diy/diseaseId=EFO_0004509\n",
      "Saved processed file to: /Users/polina/Pathwaganda/data/target-pathway_matrix_opt/Reactome_Pathways_2025_diy/diseaseId=EFO_0006545\n",
      "Saved processed file to: /Users/polina/Pathwaganda/data/target-pathway_matrix_opt/Reactome_Pathways_2025_diy/diseaseId=EFO_0000474\n",
      "Saved processed file to: /Users/polina/Pathwaganda/data/target-pathway_matrix_opt/Reactome_Pathways_2025_diy/diseaseId=EFO_0005106\n",
      "Saved processed file to: /Users/polina/Pathwaganda/data/target-pathway_matrix_opt/Reactome_Pathways_2025_diy/diseaseId=EFO_0000222\n",
      "Saved processed file to: /Users/polina/Pathwaganda/data/target-pathway_matrix_opt/Reactome_Pathways_2025_diy/diseaseId=EFO_0010282\n",
      "Saved processed file to: /Users/polina/Pathwaganda/data/target-pathway_matrix_opt/Reactome_Pathways_2025_diy/diseaseId=MONDO_0002715\n",
      "Saved processed file to: /Users/polina/Pathwaganda/data/target-pathway_matrix_opt/Reactome_Pathways_2025_diy/diseaseId=EFO_0010088\n",
      "Saved processed file to: /Users/polina/Pathwaganda/data/target-pathway_matrix_opt/Reactome_Pathways_2025_diy/diseaseId=MONDO_0000426\n",
      "Saved processed file to: /Users/polina/Pathwaganda/data/target-pathway_matrix_opt/Reactome_Pathways_2025_diy/diseaseId=EFO_0007803\n",
      "Saved processed file to: /Users/polina/Pathwaganda/data/target-pathway_matrix_opt/Reactome_Pathways_2025_diy/diseaseId=MONDO_0021335\n",
      "Saved processed file to: /Users/polina/Pathwaganda/data/target-pathway_matrix_opt/Reactome_Pathways_2025_diy/diseaseId=MONDO_0015756\n",
      "Saved processed file to: /Users/polina/Pathwaganda/data/target-pathway_matrix_opt/Reactome_Pathways_2025_diy/diseaseId=EFO_0003833\n",
      "Saved processed file to: /Users/polina/Pathwaganda/data/target-pathway_matrix_opt/Reactome_Pathways_2025_diy/diseaseId=EFO_0010285\n",
      "Saved processed file to: /Users/polina/Pathwaganda/data/target-pathway_matrix_opt/Reactome_Pathways_2025_diy/diseaseId=MONDO_0021138\n",
      "Saved processed file to: /Users/polina/Pathwaganda/data/target-pathway_matrix_opt/Reactome_Pathways_2025_diy/diseaseId=MONDO_0015760\n",
      "Saved processed file to: /Users/polina/Pathwaganda/data/target-pathway_matrix_opt/Reactome_Pathways_2025_diy/diseaseId=EFO_0000677\n",
      "Saved processed file to: /Users/polina/Pathwaganda/data/target-pathway_matrix_opt/Reactome_Pathways_2025_diy/diseaseId=EFO_0007660\n",
      "Saved processed file to: /Users/polina/Pathwaganda/data/target-pathway_matrix_opt/Reactome_Pathways_2025_diy/diseaseId=MONDO_0002516\n",
      "Saved processed file to: /Users/polina/Pathwaganda/data/target-pathway_matrix_opt/Reactome_Pathways_2025_diy/diseaseId=EFO_0000684\n",
      "Saved processed file to: /Users/polina/Pathwaganda/data/target-pathway_matrix_opt/Reactome_Pathways_2025_diy/diseaseId=MONDO_0002529\n",
      "Saved processed file to: /Users/polina/Pathwaganda/data/target-pathway_matrix_opt/Reactome_Pathways_2025_diy/diseaseId=EFO_0003869\n",
      "Saved processed file to: /Users/polina/Pathwaganda/data/target-pathway_matrix_opt/Reactome_Pathways_2025_diy/diseaseId=EFO_0006527\n",
      "Saved processed file to: /Users/polina/Pathwaganda/data/target-pathway_matrix_opt/Reactome_Pathways_2025_diy/diseaseId=EFO_0004614\n",
      "Saved processed file to: /Users/polina/Pathwaganda/data/target-pathway_matrix_opt/Reactome_Pathways_2025_diy/diseaseId=MONDO_0021350\n",
      "Saved processed file to: /Users/polina/Pathwaganda/data/target-pathway_matrix_opt/Reactome_Pathways_2025_diy/diseaseId=EFO_0009550\n",
      "Saved processed file to: /Users/polina/Pathwaganda/data/target-pathway_matrix_opt/Reactome_Pathways_2025_diy/diseaseId=EFO_0002970\n",
      "Saved processed file to: /Users/polina/Pathwaganda/data/target-pathway_matrix_opt/Reactome_Pathways_2025_diy/diseaseId=EFO_0004283\n",
      "Saved processed file to: /Users/polina/Pathwaganda/data/target-pathway_matrix_opt/Reactome_Pathways_2025_diy/diseaseId=EFO_1000786\n",
      "Saved processed file to: /Users/polina/Pathwaganda/data/target-pathway_matrix_opt/Reactome_Pathways_2025_diy/diseaseId=EFO_0007861\n",
      "Saved processed file to: /Users/polina/Pathwaganda/data/target-pathway_matrix_opt/Reactome_Pathways_2025_diy/diseaseId=EFO_0003851\n",
      "Saved processed file to: /Users/polina/Pathwaganda/data/target-pathway_matrix_opt/Reactome_Pathways_2025_diy/diseaseId=HP_0100790\n",
      "Saved processed file to: /Users/polina/Pathwaganda/data/target-pathway_matrix_opt/Reactome_Pathways_2025_diy/diseaseId=MONDO_0001933\n",
      "Saved processed file to: /Users/polina/Pathwaganda/data/target-pathway_matrix_opt/Reactome_Pathways_2025_diy/diseaseId=EFO_0006340\n",
      "Saved processed file to: /Users/polina/Pathwaganda/data/target-pathway_matrix_opt/Reactome_Pathways_2025_diy/diseaseId=EFO_0003893\n",
      "Saved processed file to: /Users/polina/Pathwaganda/data/target-pathway_matrix_opt/Reactome_Pathways_2025_diy/diseaseId=MONDO_0000640\n",
      "Saved processed file to: /Users/polina/Pathwaganda/data/target-pathway_matrix_opt/Reactome_Pathways_2025_diy/diseaseId=MONDO_0004670\n",
      "Saved processed file to: /Users/polina/Pathwaganda/data/target-pathway_matrix_opt/Reactome_Pathways_2025_diy/diseaseId=EFO_0004622\n",
      "Saved processed file to: /Users/polina/Pathwaganda/data/target-pathway_matrix_opt/Reactome_Pathways_2025_diy/diseaseId=MONDO_0000812\n",
      "Saved processed file to: /Users/polina/Pathwaganda/data/target-pathway_matrix_opt/Reactome_Pathways_2025_diy/diseaseId=EFO_0003860\n",
      "Saved processed file to: /Users/polina/Pathwaganda/data/target-pathway_matrix_opt/Reactome_Pathways_2025_diy/diseaseId=HP_0000078\n",
      "Saved processed file to: /Users/polina/Pathwaganda/data/target-pathway_matrix_opt/Reactome_Pathways_2025_diy/diseaseId=MONDO_0000624\n",
      "Saved processed file to: /Users/polina/Pathwaganda/data/target-pathway_matrix_opt/Reactome_Pathways_2025_diy/diseaseId=MONDO_0000429\n",
      "Saved processed file to: /Users/polina/Pathwaganda/data/target-pathway_matrix_opt/Reactome_Pathways_2025_diy/diseaseId=EFO_0000685\n",
      "Saved processed file to: /Users/polina/Pathwaganda/data/target-pathway_matrix_opt/Reactome_Pathways_2025_diy/diseaseId=HP_0000478\n",
      "Saved processed file to: /Users/polina/Pathwaganda/data/target-pathway_matrix_opt/Reactome_Pathways_2025_diy/diseaseId=MONDO_0003409\n",
      "Saved processed file to: /Users/polina/Pathwaganda/data/target-pathway_matrix_opt/Reactome_Pathways_2025_diy/diseaseId=EFO_0000676\n",
      "Saved processed file to: /Users/polina/Pathwaganda/data/target-pathway_matrix_opt/Reactome_Pathways_2025_diy/diseaseId=HP_0001939\n",
      "Saved processed file to: /Users/polina/Pathwaganda/data/target-pathway_matrix_opt/Reactome_Pathways_2025_diy/diseaseId=MONDO_0002977\n",
      "Saved processed file to: /Users/polina/Pathwaganda/data/target-pathway_matrix_opt/Reactome_Pathways_2025_diy/diseaseId=MONDO_0015757\n",
      "Saved processed file to: /Users/polina/Pathwaganda/data/target-pathway_matrix_opt/Reactome_Pathways_2025_diy/diseaseId=EFO_0009534\n",
      "Saved processed file to: /Users/polina/Pathwaganda/data/target-pathway_matrix_opt/Reactome_Pathways_2025_diy/diseaseId=EFO_0003832\n",
      "Saved processed file to: /Users/polina/Pathwaganda/data/target-pathway_matrix_opt/Reactome_Pathways_2025_diy/diseaseId=HP_0030680\n",
      "Saved processed file to: /Users/polina/Pathwaganda/data/target-pathway_matrix_opt/Reactome_Pathways_2025_diy/diseaseId=EFO_0010284\n",
      "Saved processed file to: /Users/polina/Pathwaganda/data/target-pathway_matrix_opt/Reactome_Pathways_2025_diy/diseaseId=EFO_0000640\n",
      "Saved processed file to: /Users/polina/Pathwaganda/data/target-pathway_matrix_opt/Reactome_Pathways_2025_diy/diseaseId=MONDO_0044334\n",
      "Saved processed file to: /Users/polina/Pathwaganda/data/target-pathway_matrix_opt/Reactome_Pathways_2025_diy/diseaseId=EFO_0009533\n",
      "Saved processed file to: /Users/polina/Pathwaganda/data/target-pathway_matrix_opt/Reactome_Pathways_2025_diy/diseaseId=MONDO_0037256\n",
      "Saved processed file to: /Users/polina/Pathwaganda/data/target-pathway_matrix_opt/Reactome_Pathways_2025_diy/diseaseId=EFO_0006544\n",
      "Saved processed file to: /Users/polina/Pathwaganda/data/target-pathway_matrix_opt/Reactome_Pathways_2025_diy/diseaseId=EFO_0004247\n",
      "Saved processed file to: /Users/polina/Pathwaganda/data/target-pathway_matrix_opt/Reactome_Pathways_2025_diy/diseaseId=EFO_0005950\n",
      "Saved processed file to: /Users/polina/Pathwaganda/data/target-pathway_matrix_opt/Reactome_Pathways_2025_diy/diseaseId=EFO_0003859\n",
      "Saved processed file to: /Users/polina/Pathwaganda/data/target-pathway_matrix_opt/Reactome_Pathways_2025_diy/diseaseId=EFO_0007869\n",
      "Saved processed file to: /Users/polina/Pathwaganda/data/target-pathway_matrix_opt/Reactome_Pathways_2025_diy/diseaseId=MONDO_0024276\n",
      "Saved processed file to: /Users/polina/Pathwaganda/data/target-pathway_matrix_opt/Reactome_Pathways_2025_diy/diseaseId=EFO_0003892\n",
      "Saved processed file to: /Users/polina/Pathwaganda/data/target-pathway_matrix_opt/Reactome_Pathways_2025_diy/diseaseId=MONDO_0000473\n",
      "Saved processed file to: /Users/polina/Pathwaganda/data/target-pathway_matrix_opt/Reactome_Pathways_2025_diy/diseaseId=MONDO_0002116\n",
      "Saved processed file to: /Users/polina/Pathwaganda/data/target-pathway_matrix_opt/Reactome_Pathways_2025_diy/diseaseId=EFO_0004612\n",
      "Saved processed file to: /Users/polina/Pathwaganda/data/target-pathway_matrix_opt/Reactome_Pathways_2025_diy/diseaseId=EFO_1000541\n",
      "Saved processed file to: /Users/polina/Pathwaganda/data/target-pathway_matrix_opt/Reactome_Pathways_2025_diy/diseaseId=MONDO_0024885\n",
      "Saved processed file to: /Users/polina/Pathwaganda/data/target-pathway_matrix_opt/Reactome_Pathways_2025_diy/diseaseId=MONDO_0000648\n",
      "Saved processed file to: /Users/polina/Pathwaganda/data/target-pathway_matrix_opt/Reactome_Pathways_2025_diy/diseaseId=EFO_0000246\n",
      "Saved processed file to: /Users/polina/Pathwaganda/data/target-pathway_matrix_opt/Reactome_Pathways_2025_diy/diseaseId=MONDO_0002120\n",
      "Saved processed file to: /Users/polina/Pathwaganda/data/target-pathway_matrix_opt/Reactome_Pathways_2025_diy/diseaseId=EFO_0003868\n",
      "Saved processed file to: /Users/polina/Pathwaganda/data/target-pathway_matrix_opt/Reactome_Pathways_2025_diy/diseaseId=EFO_0004615\n",
      "Saved processed file to: /Users/polina/Pathwaganda/data/target-pathway_matrix_opt/Reactome_Pathways_2025_diy/diseaseId=EFO_0006941\n",
      "Saved processed file to: /Users/polina/Pathwaganda/data/target-pathway_matrix_opt/Reactome_Pathways_2025_diy/diseaseId=EFO_0004840\n",
      "Saved processed file to: /Users/polina/Pathwaganda/data/target-pathway_matrix_opt/Reactome_Pathways_2025_diy/diseaseId=HP_0001977\n",
      "Saved processed file to: /Users/polina/Pathwaganda/data/target-pathway_matrix_opt/Reactome_Pathways_2025_diy/diseaseId=MONDO_0044710\n",
      "Saved processed file to: /Users/polina/Pathwaganda/data/target-pathway_matrix_opt/Reactome_Pathways_2025_diy/diseaseId=EFO_0004298\n",
      "Saved processed file to: /Users/polina/Pathwaganda/data/target-pathway_matrix_opt/Reactome_Pathways_2025_diy/diseaseId=EFO_0003872\n",
      "Saved processed file to: /Users/polina/Pathwaganda/data/target-pathway_matrix_opt/Reactome_Pathways_2025_diy/diseaseId=MONDO_0024296\n",
      "Saved processed file to: /Users/polina/Pathwaganda/data/target-pathway_matrix_opt/Reactome_Pathways_2025_diy/diseaseId=EFO_0005140\n",
      "Saved processed file to: /Users/polina/Pathwaganda/data/target-pathway_matrix_opt/Reactome_Pathways_2025_diy/diseaseId=HP_0100543\n",
      "Saved processed file to: /Users/polina/Pathwaganda/data/target-pathway_matrix_opt/Reactome_Pathways_2025_diy/diseaseId=EFO_0004639\n",
      "Saved processed file to: /Users/polina/Pathwaganda/data/target-pathway_matrix_opt/Reactome_Pathways_2025_diy/diseaseId=EFO_0004606\n",
      "Saved processed file to: /Users/polina/Pathwaganda/data/target-pathway_matrix_opt/Reactome_Pathways_2025_diy/diseaseId=EFO_0009119\n",
      "Saved processed file to: /Users/polina/Pathwaganda/data/target-pathway_matrix_opt/Reactome_Pathways_2025_diy/diseaseId=EFO_0000094\n",
      "Saved processed file to: /Users/polina/Pathwaganda/data/target-pathway_matrix_opt/Reactome_Pathways_2025_diy/diseaseId=MONDO_0000836\n",
      "Saved processed file to: /Users/polina/Pathwaganda/data/target-pathway_matrix_opt/Reactome_Pathways_2025_diy/diseaseId=HP_0012758\n",
      "Saved processed file to: /Users/polina/Pathwaganda/data/target-pathway_matrix_opt/Reactome_Pathways_2025_diy/diseaseId=MONDO_0024637\n",
      "Saved processed file to: /Users/polina/Pathwaganda/data/target-pathway_matrix_opt/Reactome_Pathways_2025_diy/diseaseId=EFO_0003843\n",
      "Saved processed file to: /Users/polina/Pathwaganda/data/target-pathway_matrix_opt/Reactome_Pathways_2025_diy/diseaseId=EFO_1000304\n",
      "Saved processed file to: /Users/polina/Pathwaganda/data/target-pathway_matrix_opt/Reactome_Pathways_2025_diy/diseaseId=EFO_0003888\n",
      "Saved processed file to: /Users/polina/Pathwaganda/data/target-pathway_matrix_opt/Reactome_Pathways_2025_diy/diseaseId=EFO_0000403\n",
      "Saved processed file to: /Users/polina/Pathwaganda/data/target-pathway_matrix_opt/Reactome_Pathways_2025_diy/diseaseId=MONDO_0020638\n",
      "Saved processed file to: /Users/polina/Pathwaganda/data/target-pathway_matrix_opt/Reactome_Pathways_2025_diy/diseaseId=MONDO_0021148\n",
      "Saved processed file to: /Users/polina/Pathwaganda/data/target-pathway_matrix_opt/Reactome_Pathways_2025_diy/diseaseId=EFO_0005541\n",
      "Saved processed file to: /Users/polina/Pathwaganda/data/target-pathway_matrix_opt/Reactome_Pathways_2025_diy/diseaseId=EFO_1000350\n",
      "Saved processed file to: /Users/polina/Pathwaganda/data/target-pathway_matrix_opt/Reactome_Pathways_2025_diy/diseaseId=EFO_0000691\n",
      "Saved processed file to: /Users/polina/Pathwaganda/data/target-pathway_matrix_opt/Reactome_Pathways_2025_diy/diseaseId=GO_0007610\n",
      "Saved processed file to: /Users/polina/Pathwaganda/data/target-pathway_matrix_opt/Reactome_Pathways_2025_diy/diseaseId=EFO_0004458\n",
      "Saved processed file to: /Users/polina/Pathwaganda/data/target-pathway_matrix_opt/Reactome_Pathways_2025_diy/diseaseId=MONDO_0005184\n",
      "Saved processed file to: /Users/polina/Pathwaganda/data/target-pathway_matrix_opt/Reactome_Pathways_2025_diy/diseaseId=HP_0025142\n",
      "Saved processed file to: /Users/polina/Pathwaganda/data/target-pathway_matrix_opt/Reactome_Pathways_2025_diy/diseaseId=EFO_0004838\n",
      "Saved processed file to: /Users/polina/Pathwaganda/data/target-pathway_matrix_opt/Reactome_Pathways_2025_diy/diseaseId=EFO_0000662\n",
      "Saved processed file to: /Users/polina/Pathwaganda/data/target-pathway_matrix_opt/Reactome_Pathways_2025_diy/diseaseId=MONDO_0005148\n",
      "Saved processed file to: /Users/polina/Pathwaganda/data/target-pathway_matrix_opt/Reactome_Pathways_2025_diy/diseaseId=EFO_0005774\n",
      "Saved processed file to: /Users/polina/Pathwaganda/data/target-pathway_matrix_opt/Reactome_Pathways_2025_diy/diseaseId=MONDO_0003274\n",
      "Saved processed file to: /Users/polina/Pathwaganda/data/target-pathway_matrix_opt/Reactome_Pathways_2025_diy/diseaseId=MONDO_0000637\n",
      "Saved processed file to: /Users/polina/Pathwaganda/data/target-pathway_matrix_opt/Reactome_Pathways_2025_diy/diseaseId=EFO_0005570\n",
      "Saved processed file to: /Users/polina/Pathwaganda/data/target-pathway_matrix_opt/Reactome_Pathways_2025_diy/diseaseId=EFO_0000466\n",
      "Saved processed file to: /Users/polina/Pathwaganda/data/target-pathway_matrix_opt/Reactome_Pathways_2025_diy/diseaseId=MONDO_0002532\n",
      "Saved processed file to: /Users/polina/Pathwaganda/data/target-pathway_matrix_opt/Reactome_Pathways_2025_diy/diseaseId=EFO_0009188\n",
      "Saved processed file to: /Users/polina/Pathwaganda/data/target-pathway_matrix_opt/Reactome_Pathways_2025_diy/diseaseId=HP_0002597\n",
      "Saved processed file to: /Users/polina/Pathwaganda/data/target-pathway_matrix_opt/Reactome_Pathways_2025_diy/diseaseId=HP_0000234\n",
      "Saved processed file to: /Users/polina/Pathwaganda/data/target-pathway_matrix_opt/Reactome_Pathways_2025_diy/diseaseId=EFO_0020092\n",
      "Saved processed file to: /Users/polina/Pathwaganda/data/target-pathway_matrix_opt/Reactome_Pathways_2025_diy/diseaseId=EFO_0009518\n",
      "Saved processed file to: /Users/polina/Pathwaganda/data/target-pathway_matrix_opt/Reactome_Pathways_2025_diy/diseaseId=EFO_0005548\n",
      "Saved processed file to: /Users/polina/Pathwaganda/data/target-pathway_matrix_opt/Reactome_Pathways_2025_diy/diseaseId=MONDO_0005374\n",
      "Saved processed file to: /Users/polina/Pathwaganda/data/target-pathway_matrix_opt/Reactome_Pathways_2025_diy/diseaseId=EFO_1000359\n",
      "Saved processed file to: /Users/polina/Pathwaganda/data/target-pathway_matrix_opt/Reactome_Pathways_2025_diy/diseaseId=MONDO_0020665\n",
      "Saved processed file to: /Users/polina/Pathwaganda/data/target-pathway_matrix_opt/Reactome_Pathways_2025_diy/diseaseId=EFO_0009544\n",
      "Saved processed file to: /Users/polina/Pathwaganda/data/target-pathway_matrix_opt/Reactome_Pathways_2025_diy/diseaseId=HP_0012759\n",
      "Saved processed file to: /Users/polina/Pathwaganda/data/target-pathway_matrix_opt/Reactome_Pathways_2025_diy/diseaseId=EFO_0004264\n",
      "Saved processed file to: /Users/polina/Pathwaganda/data/target-pathway_matrix_opt/Reactome_Pathways_2025_diy/diseaseId=MONDO_0003219\n",
      "Saved processed file to: /Users/polina/Pathwaganda/data/target-pathway_matrix_opt/Reactome_Pathways_2025_diy/diseaseId=EFO_0008039\n",
      "Saved processed file to: /Users/polina/Pathwaganda/data/target-pathway_matrix_opt/Reactome_Pathways_2025_diy/diseaseId=EFO_0000095\n",
      "Saved processed file to: /Users/polina/Pathwaganda/data/target-pathway_matrix_opt/Reactome_Pathways_2025_diy/diseaseId=EFO_0007629\n",
      "Saved processed file to: /Users/polina/Pathwaganda/data/target-pathway_matrix_opt/Reactome_Pathways_2025_diy/diseaseId=MONDO_0002567\n",
      "Saved processed file to: /Users/polina/Pathwaganda/data/target-pathway_matrix_opt/Reactome_Pathways_2025_diy/diseaseId=MONDO_0021375\n",
      "Saved processed file to: /Users/polina/Pathwaganda/data/target-pathway_matrix_opt/Reactome_Pathways_2025_diy/diseaseId=MONDO_0100342\n",
      "Saved processed file to: /Users/polina/Pathwaganda/data/target-pathway_matrix_opt/Reactome_Pathways_2025_diy/diseaseId=EFO_0010467\n",
      "Saved processed file to: /Users/polina/Pathwaganda/data/target-pathway_matrix_opt/Reactome_Pathways_2025_diy/diseaseId=EFO_0004631\n",
      "Saved processed file to: /Users/polina/Pathwaganda/data/target-pathway_matrix_opt/Reactome_Pathways_2025_diy/diseaseId=MONDO_0000653\n",
      "Saved processed file to: /Users/polina/Pathwaganda/data/target-pathway_matrix_opt/Reactome_Pathways_2025_diy/diseaseId=EFO_0004696\n",
      "Saved processed file to: /Users/polina/Pathwaganda/data/target-pathway_matrix_opt/Reactome_Pathways_2025_diy/diseaseId=MONDO_0005178\n",
      "Saved processed file to: /Users/polina/Pathwaganda/data/target-pathway_matrix_opt/Reactome_Pathways_2025_diy/diseaseId=EFO_0003820\n",
      "Saved processed file to: /Users/polina/Pathwaganda/data/target-pathway_matrix_opt/Reactome_Pathways_2025_diy/diseaseId=MONDO_0005147\n",
      "Saved processed file to: /Users/polina/Pathwaganda/data/target-pathway_matrix_opt/Reactome_Pathways_2025_diy/diseaseId=MONDO_0004095\n",
      "Saved processed file to: /Users/polina/Pathwaganda/data/target-pathway_matrix_opt/Reactome_Pathways_2025_diy/diseaseId=EFO_0000209\n",
      "Saved processed file to: /Users/polina/Pathwaganda/data/target-pathway_matrix_opt/Reactome_Pathways_2025_diy/diseaseId=HP_0012531\n",
      "Saved processed file to: /Users/polina/Pathwaganda/data/target-pathway_matrix_opt/Reactome_Pathways_2025_diy/diseaseId=EFO_0003818\n",
      "Saved processed file to: /Users/polina/Pathwaganda/data/target-pathway_matrix_opt/Reactome_Pathways_2025_diy/diseaseId=MONDO_0021583\n",
      "Saved processed file to: /Users/polina/Pathwaganda/data/target-pathway_matrix_opt/Reactome_Pathways_2025_diy/diseaseId=MONDO_0020663\n",
      "Saved processed file to: /Users/polina/Pathwaganda/data/target-pathway_matrix_opt/Reactome_Pathways_2025_diy/diseaseId=EFO_0004468\n",
      "Saved processed file to: /Users/polina/Pathwaganda/data/target-pathway_matrix_opt/Reactome_Pathways_2025_diy/diseaseId=MONDO_0023644\n",
      "Saved processed file to: /Users/polina/Pathwaganda/data/target-pathway_matrix_opt/Reactome_Pathways_2025_diy/diseaseId=HP_0001574\n",
      "Saved processed file to: /Users/polina/Pathwaganda/data/target-pathway_matrix_opt/Reactome_Pathways_2025_diy/diseaseId=EFO_0005775\n",
      "Saved processed file to: /Users/polina/Pathwaganda/data/target-pathway_matrix_opt/Reactome_Pathways_2025_diy/diseaseId=EFO_1000356\n",
      "Saved processed file to: /Users/polina/Pathwaganda/data/target-pathway_matrix_opt/Reactome_Pathways_2025_diy/diseaseId=EFO_0006336\n",
      "Saved processed file to: /Users/polina/Pathwaganda/data/target-pathway_matrix_opt/Reactome_Pathways_2025_diy/diseaseId=MONDO_0000636\n",
      "Saved processed file to: /Users/polina/Pathwaganda/data/target-pathway_matrix_opt/Reactome_Pathways_2025_diy/diseaseId=EFO_0004698\n",
      "Saved processed file to: /Users/polina/Pathwaganda/data/target-pathway_matrix_opt/Reactome_Pathways_2025_diy/diseaseId=EFO_0005540\n",
      "Saved processed file to: /Users/polina/Pathwaganda/data/target-pathway_matrix_opt/Reactome_Pathways_2025_diy/diseaseId=EFO_0000200\n",
      "Saved processed file to: /Users/polina/Pathwaganda/data/target-pathway_matrix_opt/Reactome_Pathways_2025_diy/diseaseId=EFO_0005772\n",
      "Saved processed file to: /Users/polina/Pathwaganda/data/target-pathway_matrix_opt/Reactome_Pathways_2025_diy/diseaseId=EFO_0007441\n",
      "Saved processed file to: /Users/polina/Pathwaganda/data/target-pathway_matrix_opt/Reactome_Pathways_2025_diy/diseaseId=EFO_0000729\n",
      "Saved processed file to: /Users/polina/Pathwaganda/data/target-pathway_matrix_opt/Reactome_Pathways_2025_diy/diseaseId=EFO_1000223\n",
      "Saved processed file to: /Users/polina/Pathwaganda/data/target-pathway_matrix_opt/Reactome_Pathways_2025_diy/diseaseId=EFO_0002425\n",
      "Saved processed file to: /Users/polina/Pathwaganda/data/target-pathway_matrix_opt/Reactome_Pathways_2025_diy/diseaseId=EFO_0009805\n",
      "Saved processed file to: /Users/polina/Pathwaganda/data/target-pathway_matrix_opt/Reactome_Pathways_2025_diy/diseaseId=EFO_0004980\n",
      "Saved processed file to: /Users/polina/Pathwaganda/data/target-pathway_matrix_opt/Reactome_Pathways_2025_diy/diseaseId=EFO_0000178\n",
      "Saved processed file to: /Users/polina/Pathwaganda/data/target-pathway_matrix_opt/Reactome_Pathways_2025_diy/diseaseId=HP_0025031\n",
      "Saved processed file to: /Users/polina/Pathwaganda/data/target-pathway_matrix_opt/Reactome_Pathways_2025_diy/diseaseId=EFO_0001061\n",
      "Saved processed file to: /Users/polina/Pathwaganda/data/target-pathway_matrix_opt/Reactome_Pathways_2025_diy/diseaseId=EFO_0007396\n",
      "Saved processed file to: /Users/polina/Pathwaganda/data/target-pathway_matrix_opt/Reactome_Pathways_2025_diy/diseaseId=EFO_0002422\n",
      "Saved processed file to: /Users/polina/Pathwaganda/data/target-pathway_matrix_opt/Reactome_Pathways_2025_diy/diseaseId=HP_0012647\n",
      "Saved processed file to: /Users/polina/Pathwaganda/data/target-pathway_matrix_opt/Reactome_Pathways_2025_diy/diseaseId=EFO_0008581\n",
      "Saved processed file to: /Users/polina/Pathwaganda/data/target-pathway_matrix_opt/Reactome_Pathways_2025_diy/diseaseId=EFO_0007991\n",
      "Saved processed file to: /Users/polina/Pathwaganda/data/target-pathway_matrix_opt/Reactome_Pathways_2025_diy/diseaseId=EFO_0006843\n",
      "Saved processed file to: /Users/polina/Pathwaganda/data/target-pathway_matrix_opt/Reactome_Pathways_2025_diy/diseaseId=MONDO_0002025\n",
      "Saved processed file to: /Users/polina/Pathwaganda/data/target-pathway_matrix_opt/Reactome_Pathways_2025_diy/diseaseId=EFO_0008111\n",
      "Saved processed file to: /Users/polina/Pathwaganda/data/target-pathway_matrix_opt/Reactome_Pathways_2025_diy/diseaseId=EFO_0005631\n",
      "Saved processed file to: /Users/polina/Pathwaganda/data/target-pathway_matrix_opt/Reactome_Pathways_2025_diy/diseaseId=HP_0012443\n",
      "Saved processed file to: /Users/polina/Pathwaganda/data/target-pathway_matrix_opt/Reactome_Pathways_2025_diy/diseaseId=EFO_1000020\n",
      "Saved processed file to: /Users/polina/Pathwaganda/data/target-pathway_matrix_opt/Reactome_Pathways_2025_diy/diseaseId=EFO_1000018\n",
      "Saved processed file to: /Users/polina/Pathwaganda/data/target-pathway_matrix_opt/Reactome_Pathways_2025_diy/diseaseId=HP_0012649\n",
      "Saved processed file to: /Users/polina/Pathwaganda/data/target-pathway_matrix_opt/Reactome_Pathways_2025_diy/diseaseId=EFO_1001902\n",
      "Saved processed file to: /Users/polina/Pathwaganda/data/target-pathway_matrix_opt/Reactome_Pathways_2025_diy/diseaseId=MONDO_0021066\n",
      "Saved processed file to: /Users/polina/Pathwaganda/data/target-pathway_matrix_opt/Reactome_Pathways_2025_diy/diseaseId=MONDO_0021254\n",
      "Saved processed file to: /Users/polina/Pathwaganda/data/target-pathway_matrix_opt/Reactome_Pathways_2025_diy/diseaseId=MONDO_0000920\n",
      "Saved processed file to: /Users/polina/Pathwaganda/data/target-pathway_matrix_opt/Reactome_Pathways_2025_diy/diseaseId=EFO_0000512\n",
      "Saved processed file to: /Users/polina/Pathwaganda/data/target-pathway_matrix_opt/Reactome_Pathways_2025_diy/diseaseId=EFO_0000182\n",
      "Saved processed file to: /Users/polina/Pathwaganda/data/target-pathway_matrix_opt/Reactome_Pathways_2025_diy/diseaseId=EFO_0000546\n",
      "Saved processed file to: /Users/polina/Pathwaganda/data/target-pathway_matrix_opt/Reactome_Pathways_2025_diy/diseaseId=EFO_1000417\n",
      "Saved processed file to: /Users/polina/Pathwaganda/data/target-pathway_matrix_opt/Reactome_Pathways_2025_diy/diseaseId=HP_0000545\n",
      "Saved processed file to: /Users/polina/Pathwaganda/data/target-pathway_matrix_opt/Reactome_Pathways_2025_diy/diseaseId=EFO_0010176\n",
      "Saved processed file to: /Users/polina/Pathwaganda/data/target-pathway_matrix_opt/Reactome_Pathways_2025_diy/diseaseId=EFO_1000870\n",
      "Saved processed file to: /Users/polina/Pathwaganda/data/target-pathway_matrix_opt/Reactome_Pathways_2025_diy/diseaseId=EFO_1001956\n",
      "Saved processed file to: /Users/polina/Pathwaganda/data/target-pathway_matrix_opt/Reactome_Pathways_2025_diy/diseaseId=GO_0050896\n",
      "Saved processed file to: /Users/polina/Pathwaganda/data/target-pathway_matrix_opt/Reactome_Pathways_2025_diy/diseaseId=EFO_0004327\n",
      "Saved processed file to: /Users/polina/Pathwaganda/data/target-pathway_matrix_opt/Reactome_Pathways_2025_diy/diseaseId=MONDO_0001056\n",
      "Saved processed file to: /Users/polina/Pathwaganda/data/target-pathway_matrix_opt/Reactome_Pathways_2025_diy/diseaseId=EFO_1001951\n",
      "Saved processed file to: /Users/polina/Pathwaganda/data/target-pathway_matrix_opt/Reactome_Pathways_2025_diy/diseaseId=EFO_0010972\n",
      "Saved processed file to: /Users/polina/Pathwaganda/data/target-pathway_matrix_opt/Reactome_Pathways_2025_diy/diseaseId=MONDO_0000726\n",
      "Saved processed file to: /Users/polina/Pathwaganda/data/target-pathway_matrix_opt/Reactome_Pathways_2025_diy/diseaseId=EFO_0020945\n",
      "Saved processed file to: /Users/polina/Pathwaganda/data/target-pathway_matrix_opt/Reactome_Pathways_2025_diy/diseaseId=GO_0036273\n",
      "Saved processed file to: /Users/polina/Pathwaganda/data/target-pathway_matrix_opt/Reactome_Pathways_2025_diy/diseaseId=EFO_0001663\n",
      "Saved processed file to: /Users/polina/Pathwaganda/data/target-pathway_matrix_opt/Reactome_Pathways_2025_diy/diseaseId=HP_0002011\n",
      "Saved processed file to: /Users/polina/Pathwaganda/data/target-pathway_matrix_opt/Reactome_Pathways_2025_diy/diseaseId=MONDO_0004975\n",
      "Saved processed file to: /Users/polina/Pathwaganda/data/target-pathway_matrix_opt/Reactome_Pathways_2025_diy/diseaseId=EFO_0005653\n",
      "Saved processed file to: /Users/polina/Pathwaganda/data/target-pathway_matrix_opt/Reactome_Pathways_2025_diy/diseaseId=EFO_0008528\n",
      "Saved processed file to: /Users/polina/Pathwaganda/data/target-pathway_matrix_opt/Reactome_Pathways_2025_diy/diseaseId=EFO_0009431\n",
      "Saved processed file to: /Users/polina/Pathwaganda/data/target-pathway_matrix_opt/Reactome_Pathways_2025_diy/diseaseId=MONDO_0017595\n",
      "Saved processed file to: /Users/polina/Pathwaganda/data/target-pathway_matrix_opt/Reactome_Pathways_2025_diy/diseaseId=EFO_1000613\n",
      "Saved processed file to: /Users/polina/Pathwaganda/data/target-pathway_matrix_opt/Reactome_Pathways_2025_diy/diseaseId=EFO_0000326\n",
      "Saved processed file to: /Users/polina/Pathwaganda/data/target-pathway_matrix_opt/Reactome_Pathways_2025_diy/diseaseId=MONDO_0004986\n",
      "Saved processed file to: /Users/polina/Pathwaganda/data/target-pathway_matrix_opt/Reactome_Pathways_2025_diy/diseaseId=EFO_1000045\n",
      "Saved processed file to: /Users/polina/Pathwaganda/data/target-pathway_matrix_opt/Reactome_Pathways_2025_diy/diseaseId=EFO_0007331\n",
      "Saved processed file to: /Users/polina/Pathwaganda/data/target-pathway_matrix_opt/Reactome_Pathways_2025_diy/diseaseId=EFO_0003765\n",
      "Saved processed file to: /Users/polina/Pathwaganda/data/target-pathway_matrix_opt/Reactome_Pathways_2025_diy/diseaseId=EFO_0000319\n",
      "Saved processed file to: /Users/polina/Pathwaganda/data/target-pathway_matrix_opt/Reactome_Pathways_2025_diy/diseaseId=MONDO_0024582\n",
      "Saved processed file to: /Users/polina/Pathwaganda/data/target-pathway_matrix_opt/Reactome_Pathways_2025_diy/diseaseId=MONDO_0002616\n",
      "Saved processed file to: /Users/polina/Pathwaganda/data/target-pathway_matrix_opt/Reactome_Pathways_2025_diy/diseaseId=EFO_0004329\n",
      "Saved processed file to: /Users/polina/Pathwaganda/data/target-pathway_matrix_opt/Reactome_Pathways_2025_diy/diseaseId=EFO_0009260\n",
      "Saved processed file to: /Users/polina/Pathwaganda/data/target-pathway_matrix_opt/Reactome_Pathways_2025_diy/diseaseId=MONDO_0003939\n",
      "Saved processed file to: /Users/polina/Pathwaganda/data/target-pathway_matrix_opt/Reactome_Pathways_2025_diy/diseaseId=EFO_0006845\n",
      "Saved processed file to: /Users/polina/Pathwaganda/data/target-pathway_matrix_opt/Reactome_Pathways_2025_diy/diseaseId=EFO_0803539\n",
      "Saved processed file to: /Users/polina/Pathwaganda/data/target-pathway_matrix_opt/Reactome_Pathways_2025_diy/diseaseId=MONDO_0021631\n",
      "Saved processed file to: /Users/polina/Pathwaganda/data/target-pathway_matrix_opt/Reactome_Pathways_2025_diy/diseaseId=MONDO_0007763\n",
      "Saved processed file to: /Users/polina/Pathwaganda/data/target-pathway_matrix_opt/Reactome_Pathways_2025_diy/diseaseId=MONDO_0021058\n",
      "Saved processed file to: /Users/polina/Pathwaganda/data/target-pathway_matrix_opt/Reactome_Pathways_2025_diy/diseaseId=EFO_0007352\n",
      "Saved processed file to: /Users/polina/Pathwaganda/data/target-pathway_matrix_opt/Reactome_Pathways_2025_diy/diseaseId=EFO_0002618\n",
      "Saved processed file to: /Users/polina/Pathwaganda/data/target-pathway_matrix_opt/Reactome_Pathways_2025_diy/diseaseId=EFO_0000719\n",
      "Saved processed file to: /Users/polina/Pathwaganda/data/target-pathway_matrix_opt/Reactome_Pathways_2025_diy/diseaseId=MONDO_0021636\n",
      "Saved processed file to: /Users/polina/Pathwaganda/data/target-pathway_matrix_opt/Reactome_Pathways_2025_diy/diseaseId=EFO_0007990\n",
      "Saved processed file to: /Users/polina/Pathwaganda/data/target-pathway_matrix_opt/Reactome_Pathways_2025_diy/diseaseId=EFO_0006842\n",
      "Saved processed file to: /Users/polina/Pathwaganda/data/target-pathway_matrix_opt/Reactome_Pathways_2025_diy/diseaseId=EFO_0000389\n",
      "Saved processed file to: /Users/polina/Pathwaganda/data/target-pathway_matrix_opt/Reactome_Pathways_2025_diy/diseaseId=EFO_0004729\n",
      "Saved processed file to: /Users/polina/Pathwaganda/data/target-pathway_matrix_opt/Reactome_Pathways_2025_diy/diseaseId=EFO_0001069\n",
      "Saved processed file to: /Users/polina/Pathwaganda/data/target-pathway_matrix_opt/Reactome_Pathways_2025_diy/diseaseId=EFO_0000514\n",
      "Saved processed file to: /Users/polina/Pathwaganda/data/target-pathway_matrix_opt/Reactome_Pathways_2025_diy/diseaseId=EFO_0007355\n",
      "Saved processed file to: /Users/polina/Pathwaganda/data/target-pathway_matrix_opt/Reactome_Pathways_2025_diy/diseaseId=MONDO_0002229\n",
      "Saved processed file to: /Users/polina/Pathwaganda/data/target-pathway_matrix_opt/Reactome_Pathways_2025_diy/diseaseId=EFO_1000021\n",
      "Saved processed file to: /Users/polina/Pathwaganda/data/target-pathway_matrix_opt/Reactome_Pathways_2025_diy/diseaseId=HP_0002624\n",
      "Saved processed file to: /Users/polina/Pathwaganda/data/target-pathway_matrix_opt/Reactome_Pathways_2025_diy/diseaseId=EFO_0004149\n",
      "Saved processed file to: /Users/polina/Pathwaganda/data/target-pathway_matrix_opt/Reactome_Pathways_2025_diy/diseaseId=EFO_1000017\n",
      "Saved processed file to: /Users/polina/Pathwaganda/data/target-pathway_matrix_opt/Reactome_Pathways_2025_diy/diseaseId=EFO_0008589\n",
      "Saved processed file to: /Users/polina/Pathwaganda/data/target-pathway_matrix_opt/Reactome_Pathways_2025_diy/diseaseId=EFO_0004512\n",
      "Saved processed file to: /Users/polina/Pathwaganda/data/target-pathway_matrix_opt/Reactome_Pathways_2025_diy/diseaseId=MONDO_0021069\n",
      "Saved processed file to: /Users/polina/Pathwaganda/data/target-pathway_matrix_opt/Reactome_Pathways_2025_diy/diseaseId=EFO_0009804\n",
      "Saved processed file to: /Users/polina/Pathwaganda/data/target-pathway_matrix_opt/Reactome_Pathways_2025_diy/diseaseId=EFO_0004343\n",
      "Saved processed file to: /Users/polina/Pathwaganda/data/target-pathway_matrix_opt/Reactome_Pathways_2025_diy/diseaseId=EFO_1000646\n",
      "Saved processed file to: /Users/polina/Pathwaganda/data/target-pathway_matrix_opt/Reactome_Pathways_2025_diy/diseaseId=EFO_0004541\n",
      "Saved processed file to: /Users/polina/Pathwaganda/data/target-pathway_matrix_opt/Reactome_Pathways_2025_diy/diseaseId=HP_0040064\n",
      "Saved processed file to: /Users/polina/Pathwaganda/data/target-pathway_matrix_opt/Reactome_Pathways_2025_diy/diseaseId=EFO_0000571\n",
      "Saved processed file to: /Users/polina/Pathwaganda/data/target-pathway_matrix_opt/Reactome_Pathways_2025_diy/diseaseId=EFO_0007330\n",
      "Saved processed file to: /Users/polina/Pathwaganda/data/target-pathway_matrix_opt/Reactome_Pathways_2025_diy/diseaseId=EFO_1000044\n",
      "Saved processed file to: /Users/polina/Pathwaganda/data/target-pathway_matrix_opt/Reactome_Pathways_2025_diy/diseaseId=HP_0002814\n",
      "Saved processed file to: /Users/polina/Pathwaganda/data/target-pathway_matrix_opt/Reactome_Pathways_2025_diy/diseaseId=EFO_0009605\n",
      "Saved processed file to: /Users/polina/Pathwaganda/data/target-pathway_matrix_opt/Reactome_Pathways_2025_diy/diseaseId=MONDO_0000386\n",
      "Saved processed file to: /Users/polina/Pathwaganda/data/target-pathway_matrix_opt/Reactome_Pathways_2025_diy/diseaseId=EFO_0003931\n",
      "Saved processed file to: /Users/polina/Pathwaganda/data/target-pathway_matrix_opt/Reactome_Pathways_2025_diy/diseaseId=EFO_0000318\n",
      "Saved processed file to: /Users/polina/Pathwaganda/data/target-pathway_matrix_opt/Reactome_Pathways_2025_diy/diseaseId=MONDO_0003193\n",
      "Saved processed file to: /Users/polina/Pathwaganda/data/target-pathway_matrix_opt/Reactome_Pathways_2025_diy/diseaseId=MONDO_0008315\n",
      "Saved processed file to: /Users/polina/Pathwaganda/data/target-pathway_matrix_opt/Reactome_Pathways_2025_diy/diseaseId=EFO_0009259\n",
      "Saved processed file to: /Users/polina/Pathwaganda/data/target-pathway_matrix_opt/Reactome_Pathways_2025_diy/diseaseId=EFO_0003763\n",
      "Saved processed file to: /Users/polina/Pathwaganda/data/target-pathway_matrix_opt/Reactome_Pathways_2025_diy/diseaseId=MONDO_0017594\n",
      "Saved processed file to: /Users/polina/Pathwaganda/data/target-pathway_matrix_opt/Reactome_Pathways_2025_diy/diseaseId=MONDO_0021230\n",
      "Saved processed file to: /Users/polina/Pathwaganda/data/target-pathway_matrix_opt/Reactome_Pathways_2025_diy/diseaseId=MONDO_0016680\n",
      "Saved processed file to: /Users/polina/Pathwaganda/data/target-pathway_matrix_opt/Reactome_Pathways_2025_diy/diseaseId=MONDO_0002280\n",
      "Saved processed file to: /Users/polina/Pathwaganda/data/target-pathway_matrix_opt/Reactome_Pathways_2025_diy/diseaseId=EFO_0009602\n",
      "Saved processed file to: /Users/polina/Pathwaganda/data/target-pathway_matrix_opt/Reactome_Pathways_2025_diy/diseaseId=EFO_0000540\n",
      "Saved processed file to: /Users/polina/Pathwaganda/data/target-pathway_matrix_opt/Reactome_Pathways_2025_diy/diseaseId=EFO_0004570\n",
      "Saved processed file to: /Users/polina/Pathwaganda/data/target-pathway_matrix_opt/Reactome_Pathways_2025_diy/diseaseId=EFO_0010514\n",
      "Saved processed file to: /Users/polina/Pathwaganda/data/target-pathway_matrix_opt/Reactome_Pathways_2025_diy/diseaseId=EFO_0020944\n",
      "Saved processed file to: /Users/polina/Pathwaganda/data/target-pathway_matrix_opt/Reactome_Pathways_2025_diy/diseaseId=EFO_0009406\n",
      "Saved processed file to: /Users/polina/Pathwaganda/data/target-pathway_matrix_opt/Reactome_Pathways_2025_diy/diseaseId=MONDO_0021662\n",
      "Saved processed file to: /Users/polina/Pathwaganda/data/target-pathway_matrix_opt/Reactome_Pathways_2025_diy/diseaseId=HP_0000924\n",
      "Saved processed file to: /Users/polina/Pathwaganda/data/target-pathway_matrix_opt/Reactome_Pathways_2025_diy/diseaseId=EFO_1001950\n",
      "Saved processed file to: /Users/polina/Pathwaganda/data/target-pathway_matrix_opt/Reactome_Pathways_2025_diy/diseaseId=HP_0000118\n",
      "Saved processed file to: /Users/polina/Pathwaganda/data/target-pathway_matrix_opt/Reactome_Pathways_2025_diy/diseaseId=EFO_1001968\n",
      "Saved processed file to: /Users/polina/Pathwaganda/data/target-pathway_matrix_opt/Reactome_Pathways_2025_diy/diseaseId=EFO_1000416\n",
      "Saved processed file to: /Users/polina/Pathwaganda/data/target-pathway_matrix_opt/Reactome_Pathways_2025_diy/diseaseId=EFO_0005809\n",
      "Saved processed file to: /Users/polina/Pathwaganda/data/target-pathway_matrix_opt/Reactome_Pathways_2025_diy/diseaseId=EFO_0020943\n",
      "Saved processed file to: /Users/polina/Pathwaganda/data/target-pathway_matrix_opt/Reactome_Pathways_2025_diy/diseaseId=EFO_0007937\n"
     ]
    }
   ],
   "source": [
    "process_parquet_files(t_input_base, t_output_base)"
   ]
  },
  {
   "cell_type": "code",
   "execution_count": 9,
   "id": "75cfccb8",
   "metadata": {},
   "outputs": [
    {
     "name": "stdout",
     "output_type": "stream",
     "text": [
      "+----------------+--------------------+\n",
      "|  approvedSymbol|                  ID|\n",
      "+----------------+--------------------+\n",
      "| complete genome|R-HSA-1643685,R-H...|\n",
      "|        18S rRNA|       R-HSA-1643685|\n",
      "|              1B|R-HSA-1643685,R-H...|\n",
      "|              1C|R-HSA-1643685,R-H...|\n",
      "|              1a|R-HSA-1643685,R-H...|\n",
      "+----------------+--------------------+\n",
      "only showing top 5 rows\n"
     ]
    }
   ],
   "source": [
    "spark.read.parquet(\"/Users/polina/Pathwaganda/data/target-pathway_matrix_opt/Reactome_Pathways_2025_diy/diseaseId=EFO_0000094\").show(5)"
   ]
  },
  {
   "cell_type": "markdown",
   "id": "12af426e",
   "metadata": {},
   "source": [
    "# Pathway embeddings"
   ]
  },
  {
   "cell_type": "markdown",
   "id": "5398e261",
   "metadata": {},
   "source": [
    "## Hierarchical (Poincare ball model)"
   ]
  },
  {
   "cell_type": "code",
   "execution_count": 18,
   "id": "12f73960",
   "metadata": {},
   "outputs": [],
   "source": [
    "import os\n",
    "import math\n",
    "import sys\n",
    "import types\n",
    "from pyspark.sql import SparkSession\n",
    "from pyspark.sql.functions import when, col\n",
    "\n",
    "# Ensure gensim can import numpy.strings\n",
    "sys.modules['numpy.strings'] = types.ModuleType('numpy.strings')\n",
    "\n",
    "from gensim.models.poincare import PoincareModel\n",
    "import pandas as pd"
   ]
  },
  {
   "cell_type": "code",
   "execution_count": 19,
   "id": "b83f7166",
   "metadata": {},
   "outputs": [],
   "source": [
    "def process_hierarchy_folders(input_dir, output_dir, negative=10, epochs=100):\n",
    "    # Configure Spark with better memory settings\n",
    "    spark = (SparkSession.builder\n",
    "             .appName(\"PoincareEmbedding\")\n",
    "             .config(\"spark.driver.memory\", \"4g\")\n",
    "             .config(\"spark.executor.memory\", \"4g\")\n",
    "             .config(\"spark.sql.shuffle.partitions\", \"200\")\n",
    "             .config(\"spark.sql.parquet.compression.codec\", \"snappy\")\n",
    "             .config(\"spark.memory.fraction\", \"0.8\")\n",
    "             .config(\"spark.memory.storageFraction\", \"0.3\")\n",
    "             .getOrCreate())\n",
    "\n",
    "    # Suppress unnecessary logs\n",
    "    spark.sparkContext.setLogLevel(\"ERROR\")\n",
    "\n",
    "    try:\n",
    "        for entry in os.scandir(input_dir):\n",
    "            if not entry.is_dir():\n",
    "                continue\n",
    "            \n",
    "            folder = entry.path\n",
    "            name = entry.name\n",
    "\n",
    "            # 1) Read Parquet with optimized settings\n",
    "            df = spark.read.parquet(folder).cache()  # Cache since we use it multiple times\n",
    "\n",
    "            # 2) Fill null parents with self\n",
    "            df = df.withColumn(\n",
    "                \"Parent pathway\",\n",
    "                when(col(\"Parent pathway\").isNull(), col(\"ID\")).otherwise(col(\"Parent pathway\"))\n",
    "            )\n",
    "\n",
    "            # 3) Count unique nodes - optimized\n",
    "            N = df.selectExpr(\"ID as node\").union(\n",
    "                df.selectExpr(\"`Parent pathway` as node\")\n",
    "            ).distinct().count()\n",
    "\n",
    "            # 4) Choose dims = ceil(log2(N)), at least 2\n",
    "            dims = max(2, math.ceil(math.log2(N)))\n",
    "\n",
    "            print(f\"{name} - Total distinct nodes N: {N}; Chosen d: {dims}\")\n",
    "\n",
    "            # 6) Extract edges into Python list - with batch processing for large datasets\n",
    "            edges = (\n",
    "                df.select(\"Parent pathway\", \"ID\")\n",
    "                .dropDuplicates()\n",
    "                .localCheckpoint()  # Helps with iterative algorithms\n",
    "                .toPandas()\n",
    "                .values.tolist()\n",
    "            )\n",
    "\n",
    "            # 7) Train Poincaré model\n",
    "            model = PoincareModel(edges, negative=negative, size=dims)\n",
    "            model.train(epochs=epochs)\n",
    "\n",
    "            # 8) Dump embeddings and convert to Spark\n",
    "            emb = [(key, *model.kv[key]) for key in model.kv.index_to_key]\n",
    "            pdf = pd.DataFrame(emb, columns=[\"ID\"] + [f\"dim_{i}\" for i in range(dims)])\n",
    "            \n",
    "            # Write in batches if needed\n",
    "            sdf = spark.createDataFrame(pdf)\n",
    "            sdf.write.mode(\"overwrite\").parquet(os.path.join(output_dir, name))\n",
    "\n",
    "            # Clean up cached data\n",
    "            df.unpersist()\n",
    "            \n",
    "    finally:\n",
    "        spark.stop()"
   ]
  },
  {
   "cell_type": "code",
   "execution_count": 20,
   "id": "938a1042",
   "metadata": {},
   "outputs": [
    {
     "name": "stdout",
     "output_type": "stream",
     "text": [
      "diseaseId=EFO_0000503 - Total distinct nodes N: 750; Chosen d: 10\n"
     ]
    },
    {
     "name": "stderr",
     "output_type": "stream",
     "text": [
      "                                                                                \r"
     ]
    },
    {
     "name": "stdout",
     "output_type": "stream",
     "text": [
      "diseaseId=EFO_0011015 - Total distinct nodes N: 1063; Chosen d: 11\n",
      "diseaseId=MONDO_0000569 - Total distinct nodes N: 504; Chosen d: 9\n",
      "diseaseId=MONDO_0003916 - Total distinct nodes N: 339; Chosen d: 9\n",
      "diseaseId=EFO_0004533 - Total distinct nodes N: 721; Chosen d: 10\n",
      "diseaseId=MONDO_0002033 - Total distinct nodes N: 742; Chosen d: 10\n",
      "diseaseId=MONDO_0017343 - Total distinct nodes N: 709; Chosen d: 10\n"
     ]
    },
    {
     "name": "stderr",
     "output_type": "stream",
     "text": [
      "                                                                                \r"
     ]
    },
    {
     "name": "stdout",
     "output_type": "stream",
     "text": [
      "diseaseId=MONDO_0002691 - Total distinct nodes N: 779; Chosen d: 10\n",
      "diseaseId=MONDO_0001014 - Total distinct nodes N: 767; Chosen d: 10\n",
      "diseaseId=EFO_0007987 - Total distinct nodes N: 1489; Chosen d: 11\n",
      "diseaseId=EFO_0000504 - Total distinct nodes N: 685; Chosen d: 10\n",
      "diseaseId=EFO_0004730 - Total distinct nodes N: 1186; Chosen d: 11\n",
      "diseaseId=EFO_0007989 - Total distinct nodes N: 560; Chosen d: 10\n",
      "diseaseId=MONDO_0002654 - Total distinct nodes N: 1317; Chosen d: 11\n",
      "diseaseId=EFO_0005423 - Total distinct nodes N: 288; Chosen d: 9\n",
      "diseaseId=MONDO_0019472 - Total distinct nodes N: 607; Chosen d: 10\n",
      "diseaseId=EFO_0000707 - Total distinct nodes N: 831; Chosen d: 10\n",
      "diseaseId=HP_0000152 - Total distinct nodes N: 592; Chosen d: 10\n",
      "diseaseId=HP_0001877 - Total distinct nodes N: 186; Chosen d: 8\n",
      "diseaseId=MONDO_0000594 - Total distinct nodes N: 462; Chosen d: 9\n",
      "diseaseId=HP_0000951 - Total distinct nodes N: 397; Chosen d: 9\n",
      "diseaseId=EFO_0007911 - Total distinct nodes N: 343; Chosen d: 9\n",
      "diseaseId=EFO_0004338 - Total distinct nodes N: 1306; Chosen d: 11\n",
      "diseaseId=EFO_0007788 - Total distinct nodes N: 503; Chosen d: 9\n",
      "diseaseId=EFO_0005689 - Total distinct nodes N: 535; Chosen d: 10\n",
      "diseaseId=MONDO_0001627 - Total distinct nodes N: 528; Chosen d: 10\n",
      "diseaseId=MONDO_0005041 - Total distinct nodes N: 343; Chosen d: 9\n",
      "diseaseId=EFO_0009282 - Total distinct nodes N: 419; Chosen d: 9\n",
      "diseaseId=HP_0003119 - Total distinct nodes N: 203; Chosen d: 8\n",
      "diseaseId=EFO_1001949 - Total distinct nodes N: 757; Chosen d: 10\n",
      "diseaseId=EFO_0010700 - Total distinct nodes N: 1225; Chosen d: 11\n",
      "diseaseId=EFO_0004309 - Total distinct nodes N: 1413; Chosen d: 11\n",
      "diseaseId=HP_0000598 - Total distinct nodes N: 317; Chosen d: 9\n",
      "diseaseId=EFO_0009086 - Total distinct nodes N: 281; Chosen d: 9\n",
      "diseaseId=EFO_0005680 - Total distinct nodes N: 202; Chosen d: 8\n",
      "diseaseId=MONDO_0018531 - Total distinct nodes N: 778; Chosen d: 10\n",
      "diseaseId=MONDO_0004390 - Total distinct nodes N: 164; Chosen d: 8\n",
      "diseaseId=GO_0009410 - Total distinct nodes N: 600; Chosen d: 10\n",
      "diseaseId=EFO_0004736 - Total distinct nodes N: 870; Chosen d: 10\n",
      "diseaseId=EFO_1000233 - Total distinct nodes N: 749; Chosen d: 10\n",
      "diseaseId=EFO_1000657 - Total distinct nodes N: 756; Chosen d: 10\n",
      "diseaseId=EFO_0000706 - Total distinct nodes N: 209; Chosen d: 8\n",
      "diseaseId=MONDO_0002494 - Total distinct nodes N: 375; Chosen d: 9\n",
      "diseaseId=MONDO_0007576 - Total distinct nodes N: 786; Chosen d: 10\n",
      "diseaseId=EFO_0000701 - Total distinct nodes N: 1343; Chosen d: 11\n",
      "diseaseId=EFO_0010593 - Total distinct nodes N: 208; Chosen d: 8\n",
      "diseaseId=EFO_0004193 - Total distinct nodes N: 852; Chosen d: 10\n",
      "diseaseId=EFO_0000365 - Total distinct nodes N: 763; Chosen d: 10\n",
      "diseaseId=EFO_0004503 - Total distinct nodes N: 1953; Chosen d: 11\n",
      "diseaseId=EFO_0001071 - Total distinct nodes N: 826; Chosen d: 10\n",
      "diseaseId=EFO_0004731 - Total distinct nodes N: 673; Chosen d: 10\n",
      "diseaseId=HP_0001871 - Total distinct nodes N: 768; Chosen d: 10\n",
      "diseaseId=MONDO_0000592 - Total distinct nodes N: 446; Chosen d: 9\n",
      "diseaseId=MONDO_0044881 - Total distinct nodes N: 929; Chosen d: 10\n",
      "diseaseId=EFO_0000195 - Total distinct nodes N: 364; Chosen d: 9\n",
      "diseaseId=MONDO_0004907 - Total distinct nodes N: 391; Chosen d: 9\n",
      "diseaseId=EFO_0000708 - Total distinct nodes N: 768; Chosen d: 10\n",
      "diseaseId=HP_0001249 - Total distinct nodes N: 549; Chosen d: 10\n",
      "diseaseId=MONDO_0024503 - Total distinct nodes N: 713; Chosen d: 10\n",
      "diseaseId=Orphanet_68336 - Total distinct nodes N: 1131; Chosen d: 11\n",
      "diseaseId=EFO_0008591 - Total distinct nodes N: 490; Chosen d: 9\n",
      "diseaseId=HP_0000539 - Total distinct nodes N: 466; Chosen d: 9\n",
      "diseaseId=EFO_0004532 - Total distinct nodes N: 722; Chosen d: 10\n",
      "diseaseId=EFO_0002890 - Total distinct nodes N: 790; Chosen d: 10\n",
      "diseaseId=EFO_0009676 - Total distinct nodes N: 1769; Chosen d: 11\n",
      "diseaseId=MONDO_0017342 - Total distinct nodes N: 714; Chosen d: 10\n",
      "diseaseId=MONDO_0021076 - Total distinct nodes N: 762; Chosen d: 10\n",
      "diseaseId=EFO_0007986 - Total distinct nodes N: 868; Chosen d: 10\n",
      "diseaseId=EFO_0009682 - Total distinct nodes N: 1241; Chosen d: 11\n",
      "diseaseId=EFO_0001642 - Total distinct nodes N: 906; Chosen d: 10\n",
      "diseaseId=EFO_0008509 - Total distinct nodes N: 656; Chosen d: 10\n",
      "diseaseId=MONDO_0008903 - Total distinct nodes N: 834; Chosen d: 10\n",
      "diseaseId=Orphanet_322126 - Total distinct nodes N: 928; Chosen d: 10\n",
      "diseaseId=EFO_0000763 - Total distinct nodes N: 466; Chosen d: 9\n",
      "diseaseId=EFO_0001645 - Total distinct nodes N: 587; Chosen d: 10\n",
      "diseaseId=EFO_0004337 - Total distinct nodes N: 366; Chosen d: 9\n",
      "diseaseId=EFO_0006460 - Total distinct nodes N: 753; Chosen d: 10\n",
      "diseaseId=EFO_0009283 - Total distinct nodes N: 403; Chosen d: 9\n",
      "diseaseId=EFO_0007789 - Total distinct nodes N: 580; Chosen d: 10\n",
      "diseaseId=MONDO_0024337 - Total distinct nodes N: 734; Chosen d: 10\n",
      "diseaseId=EFO_1000294 - Total distinct nodes N: 686; Chosen d: 10\n",
      "diseaseId=EFO_0010701 - Total distinct nodes N: 776; Chosen d: 10\n",
      "diseaseId=EFO_0009270 - Total distinct nodes N: 741; Chosen d: 10\n",
      "diseaseId=MONDO_0002898 - Total distinct nodes N: 915; Chosen d: 10\n",
      "diseaseId=EFO_0009284 - Total distinct nodes N: 357; Chosen d: 9\n",
      "diseaseId=MONDO_0002050 - Total distinct nodes N: 373; Chosen d: 9\n",
      "diseaseId=EFO_0004306 - Total distinct nodes N: 1623; Chosen d: 11\n",
      "diseaseId=EFO_0004908 - Total distinct nodes N: 489; Chosen d: 9\n",
      "diseaseId=EFO_0002461 - Total distinct nodes N: 1669; Chosen d: 11\n",
      "diseaseId=EFO_0005220 - Total distinct nodes N: 717; Chosen d: 10\n",
      "diseaseId=EFO_0004280 - Total distinct nodes N: 397; Chosen d: 9\n"
     ]
    },
    {
     "name": "stderr",
     "output_type": "stream",
     "text": [
      "                                                                                \r"
     ]
    },
    {
     "name": "stdout",
     "output_type": "stream",
     "text": [
      "diseaseId=EFO_0004274 - Total distinct nodes N: 274; Chosen d: 9\n",
      "diseaseId=EFO_0004273 - Total distinct nodes N: 354; Chosen d: 9\n",
      "diseaseId=EFO_0004617 - Total distinct nodes N: 881; Chosen d: 10\n",
      "diseaseId=EFO_0021796 - Total distinct nodes N: 367; Chosen d: 9\n",
      "diseaseId=EFO_0006943 - Total distinct nodes N: 700; Chosen d: 10\n",
      "diseaseId=EFO_0004842 - Total distinct nodes N: 1210; Chosen d: 11\n",
      "diseaseId=EFO_0000618 - Total distinct nodes N: 1792; Chosen d: 11\n",
      "diseaseId=EFO_0003060 - Total distinct nodes N: 796; Chosen d: 10\n",
      "diseaseId=EFO_0000275 - Total distinct nodes N: 510; Chosen d: 9\n",
      "diseaseId=EFO_0003863 - Total distinct nodes N: 354; Chosen d: 9\n",
      "diseaseId=EFO_0003897 - Total distinct nodes N: 764; Chosen d: 10\n",
      "diseaseId=EFO_0005952 - Total distinct nodes N: 842; Chosen d: 10\n",
      "diseaseId=MONDO_0002917 - Total distinct nodes N: 462; Chosen d: 9\n",
      "diseaseId=EFO_0000272 - Total distinct nodes N: 753; Chosen d: 10\n",
      "diseaseId=EFO_0000616 - Total distinct nodes N: 1699; Chosen d: 11\n",
      "diseaseId=EFO_0010642 - Total distinct nodes N: 833; Chosen d: 10\n",
      "diseaseId=HP_0000271 - Total distinct nodes N: 369; Chosen d: 9\n",
      "diseaseId=EFO_0010226 - Total distinct nodes N: 278; Chosen d: 9\n",
      "diseaseId=EFO_0004289 - Total distinct nodes N: 815; Chosen d: 10\n"
     ]
    },
    {
     "name": "stderr",
     "output_type": "stream",
     "text": [
      "                                                                                \r"
     ]
    },
    {
     "name": "stdout",
     "output_type": "stream",
     "text": [
      "diseaseId=MONDO_0002928 - Total distinct nodes N: 652; Chosen d: 10\n",
      "diseaseId=EFO_0002916 - Total distinct nodes N: 784; Chosen d: 10\n",
      "diseaseId=EFO_0007800 - Total distinct nodes N: 707; Chosen d: 10\n",
      "diseaseId=MONDO_0024476 - Total distinct nodes N: 754; Chosen d: 10\n",
      "diseaseId=EFO_0002571 - Total distinct nodes N: 667; Chosen d: 10\n",
      "diseaseId=EFO_0005592 - Total distinct nodes N: 654; Chosen d: 10\n",
      "diseaseId=MONDO_0003059 - Total distinct nodes N: 756; Chosen d: 10\n",
      "diseaseId=MONDO_0037254 - Total distinct nodes N: 734; Chosen d: 10\n"
     ]
    },
    {
     "name": "stderr",
     "output_type": "stream",
     "text": [
      "                                                                                \r"
     ]
    },
    {
     "name": "stdout",
     "output_type": "stream",
     "text": [
      "diseaseId=MONDO_0003061 - Total distinct nodes N: 248; Chosen d: 8\n",
      "diseaseId=EFO_1000941 - Total distinct nodes N: 143; Chosen d: 8\n",
      "diseaseId=MONDO_0007263 - Total distinct nodes N: 598; Chosen d: 10\n",
      "diseaseId=EFO_0005105 - Total distinct nodes N: 1825; Chosen d: 11\n",
      "diseaseId=EFO_0005561 - Total distinct nodes N: 582; Chosen d: 10\n",
      "diseaseId=EFO_0000228 - Total distinct nodes N: 896; Chosen d: 10\n",
      "diseaseId=EFO_0000673 - Total distinct nodes N: 749; Chosen d: 10\n",
      "diseaseId=MONDO_0000621 - Total distinct nodes N: 814; Chosen d: 10\n",
      "diseaseId=MONDO_0002512 - Total distinct nodes N: 711; Chosen d: 10\n",
      "diseaseId=EFO_0005134 - Total distinct nodes N: 526; Chosen d: 10\n",
      "diseaseId=MONDO_0002149 - Total distinct nodes N: 1302; Chosen d: 11\n",
      "diseaseId=EFO_0003839 - Total distinct nodes N: 447; Chosen d: 9\n",
      "diseaseId=HP_0002715 - Total distinct nodes N: 528; Chosen d: 10\n",
      "diseaseId=EFO_0004627 - Total distinct nodes N: 735; Chosen d: 10\n",
      "diseaseId=EFO_0003865 - Total distinct nodes N: 802; Chosen d: 10\n",
      "diseaseId=EFO_0004872 - Total distinct nodes N: 1138; Chosen d: 11\n",
      "diseaseId=EFO_0003891 - Total distinct nodes N: 794; Chosen d: 10\n",
      "diseaseId=EFO_0004288 - Total distinct nodes N: 805; Chosen d: 10\n",
      "diseaseId=MONDO_0011962 - Total distinct nodes N: 760; Chosen d: 10\n",
      "diseaseId=EFO_1001455 - Total distinct nodes N: 476; Chosen d: 9\n",
      "diseaseId=MONDO_0002320 - Total distinct nodes N: 348; Chosen d: 9\n",
      "diseaseId=EFO_0004875 - Total distinct nodes N: 524; Chosen d: 10\n",
      "diseaseId=EFO_1000121 - Total distinct nodes N: 246; Chosen d: 8\n",
      "diseaseId=EFO_1001463 - Total distinct nodes N: 490; Chosen d: 9\n",
      "diseaseId=EFO_0004616 - Total distinct nodes N: 380; Chosen d: 9\n",
      "diseaseId=MONDO_0005301 - Total distinct nodes N: 182; Chosen d: 8\n",
      "diseaseId=MONDO_0004643 - Total distinct nodes N: 726; Chosen d: 10\n",
      "diseaseId=EFO_0004611 - Total distinct nodes N: 972; Chosen d: 10\n",
      "diseaseId=EFO_0003853 - Total distinct nodes N: 864; Chosen d: 10\n",
      "diseaseId=EFO_0009555 - Total distinct nodes N: 898; Chosen d: 10\n",
      "diseaseId=MONDO_0021355 - Total distinct nodes N: 786; Chosen d: 10\n",
      "diseaseId=EFO_0006945 - Total distinct nodes N: 694; Chosen d: 10\n",
      "diseaseId=EFO_0005708 - Total distinct nodes N: 768; Chosen d: 10\n",
      "diseaseId=MONDO_0021193 - Total distinct nodes N: 777; Chosen d: 10\n",
      "diseaseId=EFO_1002018 - Total distinct nodes N: 660; Chosen d: 10\n",
      "diseaseId=EFO_0000478 - Total distinct nodes N: 745; Chosen d: 10\n",
      "diseaseId=EFO_0000681 - Total distinct nodes N: 773; Chosen d: 10\n",
      "diseaseId=MONDO_0044937 - Total distinct nodes N: 754; Chosen d: 10\n",
      "diseaseId=MONDO_0002974 - Total distinct nodes N: 988; Chosen d: 10\n",
      "diseaseId=EFO_0005763 - Total distinct nodes N: 815; Chosen d: 10\n",
      "diseaseId=EFO_1000172 - Total distinct nodes N: 722; Chosen d: 10\n",
      "diseaseId=MONDO_0007254 - Total distinct nodes N: 945; Chosen d: 10\n",
      "diseaseId=EFO_0006788 - Total distinct nodes N: 197; Chosen d: 8\n",
      "diseaseId=EFO_0006318 - Total distinct nodes N: 766; Chosen d: 10\n",
      "diseaseId=Orphanet_271847 - Total distinct nodes N: 719; Chosen d: 10\n",
      "diseaseId=EFO_0002919 - Total distinct nodes N: 1015; Chosen d: 10\n",
      "diseaseId=MONDO_0024479 - Total distinct nodes N: 774; Chosen d: 10\n",
      "diseaseId=MONDO_0037255 - Total distinct nodes N: 719; Chosen d: 10\n",
      "diseaseId=MONDO_0003060 - Total distinct nodes N: 757; Chosen d: 10\n",
      "diseaseId=EFO_1000143 - Total distinct nodes N: 791; Chosen d: 10\n",
      "diseaseId=EFO_0007005 - Total distinct nodes N: 173; Chosen d: 8\n",
      "diseaseId=EFO_0000220 - Total distinct nodes N: 801; Chosen d: 10\n",
      "diseaseId=MONDO_0024477 - Total distinct nodes N: 826; Chosen d: 10\n",
      "diseaseId=MONDO_0045024 - Total distinct nodes N: 1715; Chosen d: 11\n",
      "diseaseId=MONDO_0002525 - Total distinct nodes N: 161; Chosen d: 8\n",
      "diseaseId=EFO_0002917 - Total distinct nodes N: 719; Chosen d: 10\n",
      "diseaseId=MONDO_0000629 - Total distinct nodes N: 577; Chosen d: 10\n",
      "diseaseId=EFO_0005755 - Total distinct nodes N: 1266; Chosen d: 11\n",
      "diseaseId=MONDO_0021118 - Total distinct nodes N: 862; Chosen d: 10\n",
      "diseaseId=EFO_0009718 - Total distinct nodes N: 221; Chosen d: 8\n",
      "diseaseId=EFO_0005922 - Total distinct nodes N: 727; Chosen d: 10\n",
      "diseaseId=EFO_1001047 - Total distinct nodes N: 585; Chosen d: 10\n",
      "diseaseId=EFO_0005784 - Total distinct nodes N: 748; Chosen d: 10\n",
      "diseaseId=MONDO_0005341 - Total distinct nodes N: 726; Chosen d: 10\n",
      "diseaseId=EFO_0005110 - Total distinct nodes N: 355; Chosen d: 9\n",
      "diseaseId=EFO_0007223 - Total distinct nodes N: 361; Chosen d: 9\n",
      "diseaseId=HP_0003674 - Total distinct nodes N: 181; Chosen d: 8\n",
      "diseaseId=EFO_0009386 - Total distinct nodes N: 1692; Chosen d: 11\n",
      "diseaseId=MONDO_0004251 - Total distinct nodes N: 756; Chosen d: 10\n",
      "diseaseId=MONDO_0004867 - Total distinct nodes N: 758; Chosen d: 10\n",
      "diseaseId=EFO_0005741 - Total distinct nodes N: 968; Chosen d: 10\n",
      "diseaseId=EFO_0003825 - Total distinct nodes N: 720; Chosen d: 10\n",
      "diseaseId=MONDO_0021581 - Total distinct nodes N: 964; Chosen d: 10\n",
      "diseaseId=EFO_0000668 - Total distinct nodes N: 349; Chosen d: 9\n",
      "diseaseId=MONDO_0002367 - Total distinct nodes N: 800; Chosen d: 10\n",
      "diseaseId=EFO_0006500 - Total distinct nodes N: 746; Chosen d: 10\n",
      "diseaseId=EFO_0009910 - Total distinct nodes N: 370; Chosen d: 9\n",
      "diseaseId=EFO_0003086 - Total distinct nodes N: 1061; Chosen d: 11\n",
      "diseaseId=MONDO_0002334 - Total distinct nodes N: 961; Chosen d: 10\n",
      "diseaseId=MONDO_0005575 - Total distinct nodes N: 847; Chosen d: 10\n",
      "diseaseId=MONDO_0002562 - Total distinct nodes N: 183; Chosen d: 8\n",
      "diseaseId=EFO_0001379 - Total distinct nodes N: 1743; Chosen d: 11\n",
      "diseaseId=EFO_0000294 - Total distinct nodes N: 770; Chosen d: 10\n",
      "diseaseId=EFO_0009546 - Total distinct nodes N: 269; Chosen d: 9\n",
      "diseaseId=EFO_1000307 - Total distinct nodes N: 594; Chosen d: 10\n",
      "diseaseId=EFO_0000400 - Total distinct nodes N: 1199; Chosen d: 11\n",
      "diseaseId=MONDO_0003812 - Total distinct nodes N: 738; Chosen d: 10\n",
      "diseaseId=MONDO_0004805 - Total distinct nodes N: 371; Chosen d: 9\n",
      "diseaseId=MONDO_0002108 - Total distinct nodes N: 737; Chosen d: 10\n",
      "diseaseId=EFO_1000363 - Total distinct nodes N: 921; Chosen d: 10\n"
     ]
    },
    {
     "name": "stderr",
     "output_type": "stream",
     "text": [
      "                                                                                \r"
     ]
    },
    {
     "name": "stdout",
     "output_type": "stream",
     "text": [
      "diseaseId=EFO_0000232 - Total distinct nodes N: 749; Chosen d: 10\n",
      "diseaseId=EFO_1002050 - Total distinct nodes N: 195; Chosen d: 8\n",
      "diseaseId=EFO_0005116 - Total distinct nodes N: 867; Chosen d: 10\n",
      "diseaseId=EFO_0022196 - Total distinct nodes N: 271; Chosen d: 9\n",
      "diseaseId=EFO_1000999 - Total distinct nodes N: 1270; Chosen d: 11\n",
      "diseaseId=MONDO_0001187 - Total distinct nodes N: 770; Chosen d: 10\n",
      "diseaseId=EFO_0004833 - Total distinct nodes N: 1195; Chosen d: 11\n",
      "diseaseId=EFO_0000651 - Total distinct nodes N: 1829; Chosen d: 11\n",
      "diseaseId=EFO_1000532 - Total distinct nodes N: 706; Chosen d: 10\n",
      "diseaseId=EFO_0004695 - Total distinct nodes N: 185; Chosen d: 8\n",
      "diseaseId=EFO_0007010 - Total distinct nodes N: 1001; Chosen d: 10\n",
      "diseaseId=MONDO_0004634 - Total distinct nodes N: 244; Chosen d: 8\n",
      "diseaseId=MONDO_0021117 - Total distinct nodes N: 858; Chosen d: 10\n",
      "diseaseId=EFO_0009387 - Total distinct nodes N: 512; Chosen d: 9\n",
      "diseaseId=EFO_0005771 - Total distinct nodes N: 1124; Chosen d: 11\n",
      "diseaseId=EFO_0005543 - Total distinct nodes N: 772; Chosen d: 10\n",
      "diseaseId=EFO_0005127 - Total distinct nodes N: 769; Chosen d: 10\n",
      "diseaseId=EFO_0007442 - Total distinct nodes N: 666; Chosen d: 10\n",
      "diseaseId=MONDO_0044925 - Total distinct nodes N: 726; Chosen d: 10\n",
      "diseaseId=EFO_0005588 - Total distinct nodes N: 716; Chosen d: 10\n",
      "diseaseId=MONDO_0021545 - Total distinct nodes N: 455; Chosen d: 9\n",
      "diseaseId=GO_0032501 - Total distinct nodes N: 1062; Chosen d: 11\n",
      "diseaseId=MONDO_0002165 - Total distinct nodes N: 778; Chosen d: 10\n",
      "diseaseId=EFO_0007825 - Total distinct nodes N: 313; Chosen d: 9\n",
      "diseaseId=EFO_0006335 - Total distinct nodes N: 1223; Chosen d: 11\n",
      "diseaseId=EFO_1000158 - Total distinct nodes N: 855; Chosen d: 10\n",
      "diseaseId=EFO_0008002 - Total distinct nodes N: 204; Chosen d: 8\n",
      "diseaseId=EFO_0000096 - Total distinct nodes N: 833; Chosen d: 10\n",
      "diseaseId=EFO_0004260 - Total distinct nodes N: 1520; Chosen d: 11\n",
      "diseaseId=EFO_1001471 - Total distinct nodes N: 664; Chosen d: 10\n",
      "diseaseId=MONDO_0001572 - Total distinct nodes N: 246; Chosen d: 8\n",
      "diseaseId=EFO_0003841 - Total distinct nodes N: 794; Chosen d: 10\n",
      "diseaseId=EFO_0009578 - Total distinct nodes N: 351; Chosen d: 9\n",
      "diseaseId=MONDO_0000833 - Total distinct nodes N: 311; Chosen d: 9\n",
      "diseaseId=MONDO_0021143 - Total distinct nodes N: 823; Chosen d: 10\n",
      "diseaseId=EFO_0001378 - Total distinct nodes N: 583; Chosen d: 10\n",
      "diseaseId=EFO_1001216 - Total distinct nodes N: 230; Chosen d: 8\n",
      "diseaseId=EFO_1002003 - Total distinct nodes N: 1226; Chosen d: 11\n",
      "diseaseId=EFO_0004269 - Total distinct nodes N: 712; Chosen d: 10\n",
      "diseaseId=EFO_0009549 - Total distinct nodes N: 1546; Chosen d: 11\n",
      "diseaseId=EFO_0010724 - Total distinct nodes N: 143; Chosen d: 8\n",
      "diseaseId=EFO_0004324 - Total distinct nodes N: 1700; Chosen d: 11\n",
      "diseaseId=EFO_0004586 - Total distinct nodes N: 1891; Chosen d: 11\n",
      "diseaseId=EFO_0000589 - Total distinct nodes N: 1609; Chosen d: 11\n",
      "diseaseId=EFO_0020946 - Total distinct nodes N: 360; Chosen d: 9\n",
      "diseaseId=EFO_0000313 - Total distinct nodes N: 1420; Chosen d: 11\n",
      "diseaseId=EFO_0000545 - Total distinct nodes N: 238; Chosen d: 8\n",
      "diseaseId=EFO_0004323 - Total distinct nodes N: 716; Chosen d: 10\n",
      "diseaseId=EFO_0004747 - Total distinct nodes N: 1966; Chosen d: 11\n",
      "diseaseId=EFO_0009255 - Total distinct nodes N: 744; Chosen d: 10\n",
      "diseaseId=MONDO_0004985 - Total distinct nodes N: 203; Chosen d: 8\n",
      "diseaseId=EFO_0004315 - Total distinct nodes N: 185; Chosen d: 8\n",
      "diseaseId=EFO_0009607 - Total distinct nodes N: 148; Chosen d: 8\n",
      "diseaseId=EFO_0004312 - Total distinct nodes N: 745; Chosen d: 10\n",
      "diseaseId=EFO_0000574 - Total distinct nodes N: 902; Chosen d: 10\n",
      "diseaseId=MONDO_0000383 - Total distinct nodes N: 297; Chosen d: 9\n",
      "diseaseId=MONDO_0021054 - Total distinct nodes N: 598; Chosen d: 10\n",
      "diseaseId=MONDO_0002480 - Total distinct nodes N: 738; Chosen d: 10\n",
      "diseaseId=EFO_0000349 - Total distinct nodes N: 748; Chosen d: 10\n",
      "diseaseId=EFO_1000218 - Total distinct nodes N: 862; Chosen d: 10\n",
      "diseaseId=EFO_0004346 - Total distinct nodes N: 1154; Chosen d: 11\n",
      "diseaseId=MONDO_0021259 - Total distinct nodes N: 1084; Chosen d: 11\n",
      "diseaseId=EFO_0005856 - Total distinct nodes N: 1117; Chosen d: 11\n",
      "diseaseId=EFO_0004528 - Total distinct nodes N: 1393; Chosen d: 11\n",
      "diseaseId=MONDO_0004126 - Total distinct nodes N: 322; Chosen d: 9\n",
      "diseaseId=EFO_0004725 - Total distinct nodes N: 1678; Chosen d: 11\n",
      "diseaseId=EFO_0004517 - Total distinct nodes N: 1134; Chosen d: 11\n",
      "diseaseId=EFO_0007392 - Total distinct nodes N: 848; Chosen d: 10\n",
      "diseaseId=MONDO_0004580 - Total distinct nodes N: 222; Chosen d: 8\n",
      "diseaseId=EFO_1001901 - Total distinct nodes N: 752; Chosen d: 10\n",
      "diseaseId=EFO_0004348 - Total distinct nodes N: 1052; Chosen d: 11\n",
      "diseaseId=EFO_0005407 - Total distinct nodes N: 512; Chosen d: 9\n",
      "diseaseId=EFO_1001754 - Total distinct nodes N: 549; Chosen d: 10\n",
      "diseaseId=EFO_0004145 - Total distinct nodes N: 267; Chosen d: 9\n",
      "diseaseId=MONDO_0005499 - Total distinct nodes N: 745; Chosen d: 10\n",
      "diseaseId=EFO_0004713 - Total distinct nodes N: 494; Chosen d: 9\n",
      "diseaseId=EFO_0000181 - Total distinct nodes N: 751; Chosen d: 10\n",
      "diseaseId=MONDO_0021634 - Total distinct nodes N: 891; Chosen d: 10\n",
      "diseaseId=HP_0002619 - Total distinct nodes N: 155; Chosen d: 8\n",
      "diseaseId=MONDO_0001657 - Total distinct nodes N: 774; Chosen d: 10\n",
      "diseaseId=EFO_0002428 - Total distinct nodes N: 742; Chosen d: 10\n",
      "diseaseId=MONDO_0021096 - Total distinct nodes N: 711; Chosen d: 10\n",
      "diseaseId=MONDO_0000588 - Total distinct nodes N: 303; Chosen d: 9\n",
      "diseaseId=EFO_0005090 - Total distinct nodes N: 313; Chosen d: 9\n",
      "diseaseId=EFO_0004142 - Total distinct nodes N: 850; Chosen d: 10\n",
      "diseaseId=EFO_0008549 - Total distinct nodes N: 1003; Chosen d: 10\n",
      "diseaseId=EFO_0005235 - Total distinct nodes N: 670; Chosen d: 10\n",
      "diseaseId=MONDO_0004379 - Total distinct nodes N: 691; Chosen d: 10\n",
      "diseaseId=MONDO_0000376 - Total distinct nodes N: 837; Chosen d: 10\n",
      "diseaseId=EFO_0008515 - Total distinct nodes N: 667; Chosen d: 10\n",
      "diseaseId=MONDO_0002277 - Total distinct nodes N: 281; Chosen d: 9\n",
      "diseaseId=EFO_0009433 - Total distinct nodes N: 1028; Chosen d: 11\n",
      "diseaseId=HP_0000929 - Total distinct nodes N: 350; Chosen d: 9\n",
      "diseaseId=EFO_0003767 - Total distinct nodes N: 738; Chosen d: 10\n",
      "diseaseId=EFO_0004314 - Total distinct nodes N: 655; Chosen d: 10\n",
      "diseaseId=EFO_0005232 - Total distinct nodes N: 745; Chosen d: 10\n",
      "diseaseId=EFO_0004784 - Total distinct nodes N: 752; Chosen d: 10\n",
      "diseaseId=MONDO_0002614 - Total distinct nodes N: 1126; Chosen d: 11\n",
      "diseaseId=EFO_0005803 - Total distinct nodes N: 1183; Chosen d: 11\n",
      "diseaseId=EFO_0004574 - Total distinct nodes N: 1091; Chosen d: 11\n",
      "diseaseId=EFO_1000627 - Total distinct nodes N: 773; Chosen d: 10\n",
      "diseaseId=EFO_0006812 - Total distinct nodes N: 317; Chosen d: 9\n",
      "diseaseId=MONDO_0004979 - Total distinct nodes N: 553; Chosen d: 10\n",
      "diseaseId=EFO_0008524 - Total distinct nodes N: 727; Chosen d: 10\n",
      "diseaseId=EFO_0000771 - Total distinct nodes N: 221; Chosen d: 8\n",
      "diseaseId=EFO_0004587 - Total distinct nodes N: 1519; Chosen d: 11\n",
      "diseaseId=EFO_0003756 - Total distinct nodes N: 460; Chosen d: 9\n",
      "diseaseId=EFO_0004741 - Total distinct nodes N: 641; Chosen d: 10\n",
      "diseaseId=EFO_0003100 - Total distinct nodes N: 398; Chosen d: 9\n",
      "diseaseId=EFO_0009608 - Total distinct nodes N: 281; Chosen d: 9\n",
      "diseaseId=EFO_0020947 - Total distinct nodes N: 252; Chosen d: 8\n",
      "diseaseId=MONDO_0005090 - Total distinct nodes N: 512; Chosen d: 9\n",
      "diseaseId=EFO_0003769 - Total distinct nodes N: 912; Chosen d: 10\n",
      "diseaseId=MONDO_0021251 - Total distinct nodes N: 760; Chosen d: 10\n",
      "diseaseId=EFO_0010118 - Total distinct nodes N: 264; Chosen d: 9\n",
      "diseaseId=EFO_0006841 - Total distinct nodes N: 919; Chosen d: 10\n",
      "diseaseId=EFO_0007993 - Total distinct nodes N: 532; Chosen d: 10\n",
      "diseaseId=MONDO_0021063 - Total distinct nodes N: 775; Chosen d: 10\n",
      "diseaseId=EFO_0000341 - Total distinct nodes N: 369; Chosen d: 9\n",
      "diseaseId=MONDO_0000589 - Total distinct nodes N: 709; Chosen d: 10\n",
      "diseaseId=EFO_1001938 - Total distinct nodes N: 818; Chosen d: 10\n",
      "diseaseId=EFO_0004527 - Total distinct nodes N: 1028; Chosen d: 11\n",
      "diseaseId=EFO_0005091 - Total distinct nodes N: 1385; Chosen d: 11\n",
      "diseaseId=MONDO_0021632 - Total distinct nodes N: 744; Chosen d: 10\n",
      "diseaseId=EFO_0009690 - Total distinct nodes N: 1233; Chosen d: 11\n",
      "diseaseId=EFO_1001331 - Total distinct nodes N: 1062; Chosen d: 11\n",
      "diseaseId=HP_0001263 - Total distinct nodes N: 351; Chosen d: 9\n",
      "diseaseId=EFO_1000217 - Total distinct nodes N: 713; Chosen d: 10\n",
      "diseaseId=EFO_0003966 - Total distinct nodes N: 1288; Chosen d: 11\n",
      "diseaseId=EFO_0004529 - Total distinct nodes N: 1824; Chosen d: 11\n",
      "diseaseId=EFO_0000519 - Total distinct nodes N: 747; Chosen d: 10\n",
      "diseaseId=EFO_0004516 - Total distinct nodes N: 1230; Chosen d: 11\n",
      "diseaseId=EFO_0000384 - Total distinct nodes N: 374; Chosen d: 9\n",
      "diseaseId=EFO_0004340 - Total distinct nodes N: 1437; Chosen d: 11\n",
      "diseaseId=EFO_1001763 - Total distinct nodes N: 852; Chosen d: 10\n",
      "diseaseId=EFO_0008579 - Total distinct nodes N: 200; Chosen d: 8\n",
      "diseaseId=EFO_0002427 - Total distinct nodes N: 817; Chosen d: 10\n",
      "diseaseId=HP_0030972 - Total distinct nodes N: 265; Chosen d: 9\n",
      "diseaseId=EFO_0000348 - Total distinct nodes N: 749; Chosen d: 10\n",
      "diseaseId=EFO_0011008 - Total distinct nodes N: 887; Chosen d: 10\n",
      "diseaseId=EFO_0009003 - Total distinct nodes N: 594; Chosen d: 10\n",
      "diseaseId=EFO_0008328 - Total distinct nodes N: 218; Chosen d: 8\n",
      "diseaseId=MONDO_0008170 - Total distinct nodes N: 803; Chosen d: 10\n",
      "diseaseId=EFO_0004949 - Total distinct nodes N: 228; Chosen d: 8\n",
      "diseaseId=EFO_0006848 - Total distinct nodes N: 948; Chosen d: 10\n",
      "diseaseId=EFO_0003925 - Total distinct nodes N: 705; Chosen d: 10\n",
      "diseaseId=EFO_0010155 - Total distinct nodes N: 168; Chosen d: 8\n",
      "diseaseId=EFO_0004555 - Total distinct nodes N: 1364; Chosen d: 11\n",
      "diseaseId=EFO_1001512 - Total distinct nodes N: 749; Chosen d: 10\n",
      "diseaseId=EFO_0004303 - Total distinct nodes N: 1358; Chosen d: 11\n",
      "diseaseId=EFO_0000565 - Total distinct nodes N: 824; Chosen d: 10\n",
      "diseaseId=EFO_1000262 - Total distinct nodes N: 642; Chosen d: 10\n",
      "diseaseId=HP_0004936 - Total distinct nodes N: 237; Chosen d: 8\n",
      "diseaseId=EFO_1000068 - Total distinct nodes N: 811; Chosen d: 10\n",
      "diseaseId=EFO_1001986 - Total distinct nodes N: 1401; Chosen d: 11\n",
      "diseaseId=MONDO_0005277 - Total distinct nodes N: 192; Chosen d: 8\n",
      "diseaseId=EFO_0008354 - Total distinct nodes N: 507; Chosen d: 9\n",
      "diseaseId=MONDO_0040677 - Total distinct nodes N: 594; Chosen d: 10\n",
      "diseaseId=EFO_0803548 - Total distinct nodes N: 1225; Chosen d: 11\n",
      "diseaseId=EFO_1001185 - Total distinct nodes N: 455; Chosen d: 9\n",
      "diseaseId=EFO_1000601 - Total distinct nodes N: 734; Chosen d: 10\n",
      "diseaseId=EFO_0001444 - Total distinct nodes N: 2024; Chosen d: 11\n",
      "diseaseId=EFO_0003777 - Total distinct nodes N: 1368; Chosen d: 11\n",
      "diseaseId=MONDO_0002256 - Total distinct nodes N: 405; Chosen d: 9\n",
      "diseaseId=EFO_0003914 - Total distinct nodes N: 281; Chosen d: 9\n",
      "diseaseId=EFO_0010967 - Total distinct nodes N: 672; Chosen d: 10\n",
      "diseaseId=HP_0011842 - Total distinct nodes N: 782; Chosen d: 10\n",
      "diseaseId=EFO_0005670 - Total distinct nodes N: 840; Chosen d: 10\n",
      "diseaseId=EFO_0009085 - Total distinct nodes N: 281; Chosen d: 9\n",
      "diseaseId=MONDO_0018364 - Total distinct nodes N: 779; Chosen d: 10\n",
      "diseaseId=EFO_0803546 - Total distinct nodes N: 1522; Chosen d: 11\n",
      "diseaseId=EFO_0010351 - Total distinct nodes N: 442; Chosen d: 9\n",
      "diseaseId=EFO_0000305 - Total distinct nodes N: 931; Chosen d: 10\n",
      "diseaseId=EFO_0003144 - Total distinct nodes N: 246; Chosen d: 8\n",
      "diseaseId=EFO_0001421 - Total distinct nodes N: 836; Chosen d: 10\n",
      "diseaseId=EFO_0004705 - Total distinct nodes N: 267; Chosen d: 9\n",
      "diseaseId=EFO_0011011 - Total distinct nodes N: 649; Chosen d: 10\n",
      "diseaseId=EFO_0010934 - Total distinct nodes N: 655; Chosen d: 10\n",
      "diseaseId=EFO_0000538 - Total distinct nodes N: 383; Chosen d: 9\n",
      "diseaseId=EFO_0004198 - Total distinct nodes N: 977; Chosen d: 10\n",
      "diseaseId=EFO_0005278 - Total distinct nodes N: 1714; Chosen d: 11\n",
      "diseaseId=HP_0032263 - Total distinct nodes N: 265; Chosen d: 9\n",
      "diseaseId=EFO_0004530 - Total distinct nodes N: 1370; Chosen d: 11\n",
      "diseaseId=MONDO_0021080 - Total distinct nodes N: 666; Chosen d: 10\n",
      "diseaseId=EFO_0002892 - Total distinct nodes N: 734; Chosen d: 10\n",
      "diseaseId=EFO_0009674 - Total distinct nodes N: 190; Chosen d: 8\n",
      "diseaseId=EFO_0007984 - Total distinct nodes N: 634; Chosen d: 10\n",
      "diseaseId=GO_0008150 - Total distinct nodes N: 1541; Chosen d: 11\n",
      "diseaseId=MONDO_0002039 - Total distinct nodes N: 914; Chosen d: 10\n",
      "diseaseId=HP_0000707 - Total distinct nodes N: 1209; Chosen d: 11\n",
      "diseaseId=EFO_0004995 - Total distinct nodes N: 828; Chosen d: 10\n",
      "diseaseId=EFO_0000199 - Total distinct nodes N: 669; Chosen d: 10\n",
      "diseaseId=HP_0011024 - Total distinct nodes N: 273; Chosen d: 9\n",
      "diseaseId=EFO_0001073 - Total distinct nodes N: 339; Chosen d: 9\n",
      "diseaseId=MONDO_0021248 - Total distinct nodes N: 913; Chosen d: 10\n",
      "diseaseId=EFO_0006858 - Total distinct nodes N: 1437; Chosen d: 11\n",
      "diseaseId=HP_0001626 - Total distinct nodes N: 1006; Chosen d: 10\n",
      "diseaseId=EFO_0004191 - Total distinct nodes N: 237; Chosen d: 8\n",
      "diseaseId=MONDO_0002491 - Total distinct nodes N: 249; Chosen d: 8\n",
      "diseaseId=EFO_0009477 - Total distinct nodes N: 289; Chosen d: 9\n",
      "diseaseId=EFO_0009483 - Total distinct nodes N: 576; Chosen d: 10\n",
      "diseaseId=MONDO_0002406 - Total distinct nodes N: 620; Chosen d: 10\n",
      "diseaseId=MONDO_0005411 - Total distinct nodes N: 665; Chosen d: 10\n",
      "diseaseId=HP_0003549 - Total distinct nodes N: 261; Chosen d: 9\n",
      "diseaseId=EFO_1000255 - Total distinct nodes N: 384; Chosen d: 9\n",
      "diseaseId=EFO_0000304 - Total distinct nodes N: 766; Chosen d: 10\n",
      "diseaseId=EFO_0803547 - Total distinct nodes N: 1386; Chosen d: 11\n",
      "diseaseId=EFO_0803540 - Total distinct nodes N: 1213; Chosen d: 11\n",
      "diseaseId=EFO_1000636 - Total distinct nodes N: 450; Chosen d: 9\n",
      "diseaseId=MONDO_0024757 - Total distinct nodes N: 684; Chosen d: 10\n",
      "diseaseId=HP_0012638 - Total distinct nodes N: 1037; Chosen d: 11\n",
      "diseaseId=EFO_0004305 - Total distinct nodes N: 1324; Chosen d: 11\n",
      "diseaseId=EFO_0004761 - Total distinct nodes N: 368; Chosen d: 9\n",
      "diseaseId=MONDO_0005271 - Total distinct nodes N: 420; Chosen d: 9\n",
      "diseaseId=EFO_0005815 - Total distinct nodes N: 326; Chosen d: 9\n",
      "diseaseId=MONDO_0000956 - Total distinct nodes N: 721; Chosen d: 10\n",
      "diseaseId=EFO_0000756 - Total distinct nodes N: 819; Chosen d: 10\n",
      "diseaseId=HP_0003124 - Total distinct nodes N: 190; Chosen d: 8\n",
      "diseaseId=MONDO_0004992 - Total distinct nodes N: 1526; Chosen d: 11\n",
      "diseaseId=EFO_1000051 - Total distinct nodes N: 1449; Chosen d: 11\n",
      "diseaseId=MONDO_0002259 - Total distinct nodes N: 1191; Chosen d: 11\n",
      "diseaseId=EFO_0010968 - Total distinct nodes N: 846; Chosen d: 10\n",
      "diseaseId=EFO_0004302 - Total distinct nodes N: 1770; Chosen d: 11\n",
      "diseaseId=MONDO_0007915 - Total distinct nodes N: 356; Chosen d: 9\n",
      "diseaseId=EFO_0004190 - Total distinct nodes N: 266; Chosen d: 9\n",
      "diseaseId=EFO_0000702 - Total distinct nodes N: 714; Chosen d: 10\n",
      "diseaseId=EFO_0004732 - Total distinct nodes N: 1721; Chosen d: 11\n",
      "diseaseId=EFO_0006859 - Total distinct nodes N: 821; Chosen d: 10\n",
      "diseaseId=HP_0011025 - Total distinct nodes N: 549; Chosen d: 10\n",
      "diseaseId=MONDO_0002232 - Total distinct nodes N: 212; Chosen d: 8\n",
      "diseaseId=EFO_0008550 - Total distinct nodes N: 826; Chosen d: 10\n",
      "diseaseId=MONDO_0000591 - Total distinct nodes N: 462; Chosen d: 9\n",
      "diseaseId=HP_0011446 - Total distinct nodes N: 740; Chosen d: 10\n",
      "diseaseId=EFO_0001075 - Total distinct nodes N: 777; Chosen d: 10\n",
      "diseaseId=EFO_0004735 - Total distinct nodes N: 817; Chosen d: 10\n",
      "diseaseId=MONDO_0002038 - Total distinct nodes N: 752; Chosen d: 10\n",
      "diseaseId=EFO_0000705 - Total distinct nodes N: 606; Chosen d: 10\n",
      "diseaseId=EFO_0008568 - Total distinct nodes N: 503; Chosen d: 9\n",
      "diseaseId=EFO_0000537 - Total distinct nodes N: 1031; Chosen d: 11\n",
      "diseaseId=MONDO_0021043 - Total distinct nodes N: 703; Chosen d: 10\n",
      "diseaseId=MONDO_0023370 - Total distinct nodes N: 1703; Chosen d: 11\n",
      "diseaseId=EFO_0000508 - Total distinct nodes N: 1899; Chosen d: 11\n",
      "diseaseId=EFO_0004531 - Total distinct nodes N: 857; Chosen d: 10\n",
      "diseaseId=EFO_0004703 - Total distinct nodes N: 221; Chosen d: 8\n",
      "diseaseId=MONDO_0017341 - Total distinct nodes N: 743; Chosen d: 10\n",
      "diseaseId=EFO_0008595 - Total distinct nodes N: 209; Chosen d: 8\n",
      "diseaseId=EFO_0007985 - Total distinct nodes N: 790; Chosen d: 10\n",
      "diseaseId=MONDO_0002009 - Total distinct nodes N: 333; Chosen d: 9\n",
      "diseaseId=HP_0002060 - Total distinct nodes N: 501; Chosen d: 9\n",
      "diseaseId=EFO_0004536 - Total distinct nodes N: 524; Chosen d: 10\n",
      "diseaseId=EFO_0004509 - Total distinct nodes N: 1771; Chosen d: 11\n",
      "diseaseId=EFO_0006545 - Total distinct nodes N: 744; Chosen d: 10\n",
      "diseaseId=EFO_0000474 - Total distinct nodes N: 386; Chosen d: 9\n",
      "diseaseId=EFO_0005106 - Total distinct nodes N: 782; Chosen d: 10\n",
      "diseaseId=EFO_0000222 - Total distinct nodes N: 722; Chosen d: 10\n",
      "diseaseId=EFO_0010282 - Total distinct nodes N: 1598; Chosen d: 11\n",
      "diseaseId=MONDO_0002715 - Total distinct nodes N: 1025; Chosen d: 11\n",
      "diseaseId=EFO_0010088 - Total distinct nodes N: 185; Chosen d: 8\n",
      "diseaseId=MONDO_0000426 - Total distinct nodes N: 644; Chosen d: 10\n",
      "diseaseId=EFO_0007803 - Total distinct nodes N: 214; Chosen d: 8\n",
      "diseaseId=MONDO_0021335 - Total distinct nodes N: 713; Chosen d: 10\n",
      "diseaseId=MONDO_0015756 - Total distinct nodes N: 758; Chosen d: 10\n",
      "diseaseId=EFO_0003833 - Total distinct nodes N: 797; Chosen d: 10\n",
      "diseaseId=EFO_0010285 - Total distinct nodes N: 1433; Chosen d: 11\n",
      "diseaseId=MONDO_0021138 - Total distinct nodes N: 742; Chosen d: 10\n",
      "diseaseId=MONDO_0015760 - Total distinct nodes N: 585; Chosen d: 10\n",
      "diseaseId=EFO_0000677 - Total distinct nodes N: 1420; Chosen d: 11\n",
      "diseaseId=EFO_0007660 - Total distinct nodes N: 338; Chosen d: 9\n",
      "diseaseId=MONDO_0002516 - Total distinct nodes N: 942; Chosen d: 10\n",
      "diseaseId=EFO_0000684 - Total distinct nodes N: 1337; Chosen d: 11\n",
      "diseaseId=MONDO_0002529 - Total distinct nodes N: 742; Chosen d: 10\n",
      "diseaseId=EFO_0003869 - Total distinct nodes N: 971; Chosen d: 10\n",
      "diseaseId=EFO_0006527 - Total distinct nodes N: 554; Chosen d: 10\n",
      "diseaseId=EFO_0004614 - Total distinct nodes N: 601; Chosen d: 10\n",
      "diseaseId=MONDO_0021350 - Total distinct nodes N: 1058; Chosen d: 11\n",
      "diseaseId=EFO_0009550 - Total distinct nodes N: 218; Chosen d: 8\n",
      "diseaseId=EFO_0002970 - Total distinct nodes N: 804; Chosen d: 10\n",
      "diseaseId=EFO_0004283 - Total distinct nodes N: 298; Chosen d: 9\n",
      "diseaseId=EFO_1000786 - Total distinct nodes N: 273; Chosen d: 9\n",
      "diseaseId=EFO_0007861 - Total distinct nodes N: 638; Chosen d: 10\n",
      "diseaseId=EFO_0003851 - Total distinct nodes N: 651; Chosen d: 10\n",
      "diseaseId=HP_0100790 - Total distinct nodes N: 199; Chosen d: 8\n",
      "diseaseId=MONDO_0001933 - Total distinct nodes N: 1199; Chosen d: 11\n",
      "diseaseId=EFO_0006340 - Total distinct nodes N: 229; Chosen d: 8\n",
      "diseaseId=EFO_0003893 - Total distinct nodes N: 1122; Chosen d: 11\n",
      "diseaseId=MONDO_0000640 - Total distinct nodes N: 649; Chosen d: 10\n",
      "diseaseId=MONDO_0004670 - Total distinct nodes N: 362; Chosen d: 9\n",
      "diseaseId=EFO_0004622 - Total distinct nodes N: 308; Chosen d: 9\n",
      "diseaseId=MONDO_0000812 - Total distinct nodes N: 406; Chosen d: 9\n",
      "diseaseId=EFO_0003860 - Total distinct nodes N: 763; Chosen d: 10\n",
      "diseaseId=HP_0000078 - Total distinct nodes N: 286; Chosen d: 9\n",
      "diseaseId=MONDO_0000624 - Total distinct nodes N: 217; Chosen d: 8\n",
      "diseaseId=MONDO_0000429 - Total distinct nodes N: 951; Chosen d: 10\n",
      "diseaseId=EFO_0000685 - Total distinct nodes N: 460; Chosen d: 9\n",
      "diseaseId=HP_0000478 - Total distinct nodes N: 735; Chosen d: 10\n",
      "diseaseId=MONDO_0003409 - Total distinct nodes N: 574; Chosen d: 10\n",
      "diseaseId=EFO_0000676 - Total distinct nodes N: 321; Chosen d: 9\n",
      "diseaseId=HP_0001939 - Total distinct nodes N: 528; Chosen d: 10\n",
      "diseaseId=MONDO_0002977 - Total distinct nodes N: 270; Chosen d: 9\n",
      "diseaseId=MONDO_0015757 - Total distinct nodes N: 902; Chosen d: 10\n",
      "diseaseId=EFO_0009534 - Total distinct nodes N: 547; Chosen d: 10\n",
      "diseaseId=EFO_0003832 - Total distinct nodes N: 174; Chosen d: 8\n",
      "diseaseId=HP_0030680 - Total distinct nodes N: 434; Chosen d: 9\n",
      "diseaseId=EFO_0010284 - Total distinct nodes N: 1005; Chosen d: 10\n",
      "diseaseId=EFO_0000640 - Total distinct nodes N: 657; Chosen d: 10\n",
      "diseaseId=MONDO_0044334 - Total distinct nodes N: 783; Chosen d: 10\n",
      "diseaseId=EFO_0009533 - Total distinct nodes N: 192; Chosen d: 8\n",
      "diseaseId=MONDO_0037256 - Total distinct nodes N: 719; Chosen d: 10\n",
      "diseaseId=EFO_0006544 - Total distinct nodes N: 732; Chosen d: 10\n",
      "diseaseId=EFO_0004247 - Total distinct nodes N: 490; Chosen d: 9\n",
      "diseaseId=EFO_0005950 - Total distinct nodes N: 844; Chosen d: 10\n",
      "diseaseId=EFO_0003859 - Total distinct nodes N: 1109; Chosen d: 11\n",
      "diseaseId=EFO_0007869 - Total distinct nodes N: 223; Chosen d: 8\n",
      "diseaseId=MONDO_0024276 - Total distinct nodes N: 896; Chosen d: 10\n",
      "diseaseId=EFO_0003892 - Total distinct nodes N: 1106; Chosen d: 11\n",
      "diseaseId=MONDO_0000473 - Total distinct nodes N: 1312; Chosen d: 11\n",
      "diseaseId=MONDO_0002116 - Total distinct nodes N: 762; Chosen d: 10\n",
      "diseaseId=EFO_0004612 - Total distinct nodes N: 1582; Chosen d: 11\n",
      "diseaseId=EFO_1000541 - Total distinct nodes N: 760; Chosen d: 10\n",
      "diseaseId=MONDO_0024885 - Total distinct nodes N: 719; Chosen d: 10\n",
      "diseaseId=MONDO_0000648 - Total distinct nodes N: 561; Chosen d: 10\n",
      "diseaseId=EFO_0000246 - Total distinct nodes N: 545; Chosen d: 10\n",
      "diseaseId=MONDO_0002120 - Total distinct nodes N: 728; Chosen d: 10\n",
      "diseaseId=EFO_0003868 - Total distinct nodes N: 763; Chosen d: 10\n",
      "diseaseId=EFO_0004615 - Total distinct nodes N: 454; Chosen d: 9\n",
      "diseaseId=EFO_0006941 - Total distinct nodes N: 229; Chosen d: 8\n",
      "diseaseId=EFO_0004840 - Total distinct nodes N: 523; Chosen d: 10\n",
      "diseaseId=HP_0001977 - Total distinct nodes N: 325; Chosen d: 9\n",
      "diseaseId=MONDO_0044710 - Total distinct nodes N: 669; Chosen d: 10\n",
      "diseaseId=EFO_0004298 - Total distinct nodes N: 1829; Chosen d: 11\n",
      "diseaseId=EFO_0003872 - Total distinct nodes N: 367; Chosen d: 9\n",
      "diseaseId=MONDO_0024296 - Total distinct nodes N: 684; Chosen d: 10\n",
      "diseaseId=EFO_0005140 - Total distinct nodes N: 1223; Chosen d: 11\n",
      "diseaseId=HP_0100543 - Total distinct nodes N: 599; Chosen d: 10\n",
      "diseaseId=EFO_0004639 - Total distinct nodes N: 495; Chosen d: 9\n",
      "diseaseId=EFO_0004606 - Total distinct nodes N: 665; Chosen d: 10\n",
      "diseaseId=EFO_0009119 - Total distinct nodes N: 801; Chosen d: 10\n",
      "diseaseId=EFO_0000094 - Total distinct nodes N: 647; Chosen d: 10\n",
      "diseaseId=MONDO_0000836 - Total distinct nodes N: 521; Chosen d: 10\n",
      "diseaseId=HP_0012758 - Total distinct nodes N: 449; Chosen d: 9\n",
      "diseaseId=MONDO_0024637 - Total distinct nodes N: 736; Chosen d: 10\n",
      "diseaseId=EFO_0003843 - Total distinct nodes N: 295; Chosen d: 9\n",
      "diseaseId=EFO_1000304 - Total distinct nodes N: 685; Chosen d: 10\n",
      "diseaseId=EFO_0003888 - Total distinct nodes N: 417; Chosen d: 9\n",
      "diseaseId=EFO_0000403 - Total distinct nodes N: 658; Chosen d: 10\n",
      "diseaseId=MONDO_0020638 - Total distinct nodes N: 675; Chosen d: 10\n",
      "diseaseId=MONDO_0021148 - Total distinct nodes N: 1320; Chosen d: 11\n",
      "diseaseId=EFO_0005541 - Total distinct nodes N: 255; Chosen d: 8\n",
      "diseaseId=EFO_1000350 - Total distinct nodes N: 756; Chosen d: 10\n",
      "diseaseId=EFO_0000691 - Total distinct nodes N: 743; Chosen d: 10\n",
      "diseaseId=GO_0007610 - Total distinct nodes N: 1062; Chosen d: 11\n",
      "diseaseId=EFO_0004458 - Total distinct nodes N: 654; Chosen d: 10\n",
      "diseaseId=MONDO_0005184 - Total distinct nodes N: 746; Chosen d: 10\n",
      "diseaseId=HP_0025142 - Total distinct nodes N: 228; Chosen d: 8\n",
      "diseaseId=EFO_0004838 - Total distinct nodes N: 470; Chosen d: 9\n",
      "diseaseId=EFO_0000662 - Total distinct nodes N: 653; Chosen d: 10\n",
      "diseaseId=MONDO_0005148 - Total distinct nodes N: 892; Chosen d: 10\n",
      "diseaseId=EFO_0005774 - Total distinct nodes N: 1624; Chosen d: 11\n",
      "diseaseId=MONDO_0003274 - Total distinct nodes N: 1008; Chosen d: 10\n",
      "diseaseId=MONDO_0000637 - Total distinct nodes N: 759; Chosen d: 10\n",
      "diseaseId=EFO_0005570 - Total distinct nodes N: 759; Chosen d: 10\n",
      "diseaseId=EFO_0000466 - Total distinct nodes N: 757; Chosen d: 10\n",
      "diseaseId=MONDO_0002532 - Total distinct nodes N: 831; Chosen d: 10\n",
      "diseaseId=EFO_0009188 - Total distinct nodes N: 1210; Chosen d: 11\n",
      "diseaseId=HP_0002597 - Total distinct nodes N: 470; Chosen d: 9\n",
      "diseaseId=HP_0000234 - Total distinct nodes N: 589; Chosen d: 10\n",
      "diseaseId=EFO_0020092 - Total distinct nodes N: 183; Chosen d: 8\n",
      "diseaseId=EFO_0009518 - Total distinct nodes N: 336; Chosen d: 9\n",
      "diseaseId=EFO_0005548 - Total distinct nodes N: 859; Chosen d: 10\n",
      "diseaseId=MONDO_0005374 - Total distinct nodes N: 742; Chosen d: 10\n",
      "diseaseId=EFO_1000359 - Total distinct nodes N: 762; Chosen d: 10\n",
      "diseaseId=MONDO_0020665 - Total distinct nodes N: 757; Chosen d: 10\n",
      "diseaseId=EFO_0009544 - Total distinct nodes N: 258; Chosen d: 9\n",
      "diseaseId=HP_0012759 - Total distinct nodes N: 725; Chosen d: 10\n",
      "diseaseId=EFO_0004264 - Total distinct nodes N: 1560; Chosen d: 11\n",
      "diseaseId=MONDO_0003219 - Total distinct nodes N: 594; Chosen d: 10\n",
      "diseaseId=EFO_0008039 - Total distinct nodes N: 461; Chosen d: 9\n",
      "diseaseId=EFO_0000095 - Total distinct nodes N: 740; Chosen d: 10\n",
      "diseaseId=EFO_0007629 - Total distinct nodes N: 422; Chosen d: 9\n",
      "diseaseId=MONDO_0002567 - Total distinct nodes N: 374; Chosen d: 9\n",
      "diseaseId=MONDO_0021375 - Total distinct nodes N: 713; Chosen d: 10\n",
      "diseaseId=MONDO_0100342 - Total distinct nodes N: 753; Chosen d: 10\n",
      "diseaseId=EFO_0010467 - Total distinct nodes N: 170; Chosen d: 8\n",
      "diseaseId=EFO_0004631 - Total distinct nodes N: 174; Chosen d: 8\n"
     ]
    },
    {
     "name": "stderr",
     "output_type": "stream",
     "text": [
      "                                                                                \r"
     ]
    },
    {
     "name": "stdout",
     "output_type": "stream",
     "text": [
      "diseaseId=MONDO_0000653 - Total distinct nodes N: 1051; Chosen d: 11\n",
      "diseaseId=EFO_0004696 - Total distinct nodes N: 721; Chosen d: 10\n",
      "diseaseId=MONDO_0005178 - Total distinct nodes N: 713; Chosen d: 10\n",
      "diseaseId=EFO_0003820 - Total distinct nodes N: 780; Chosen d: 10\n",
      "diseaseId=MONDO_0005147 - Total distinct nodes N: 215; Chosen d: 8\n",
      "diseaseId=MONDO_0004095 - Total distinct nodes N: 849; Chosen d: 10\n",
      "diseaseId=EFO_0000209 - Total distinct nodes N: 614; Chosen d: 10\n",
      "diseaseId=HP_0012531 - Total distinct nodes N: 174; Chosen d: 8\n",
      "diseaseId=EFO_0003818 - Total distinct nodes N: 711; Chosen d: 10\n",
      "diseaseId=MONDO_0021583 - Total distinct nodes N: 811; Chosen d: 10\n",
      "diseaseId=MONDO_0020663 - Total distinct nodes N: 602; Chosen d: 10\n",
      "diseaseId=EFO_0004468 - Total distinct nodes N: 1342; Chosen d: 11\n",
      "diseaseId=MONDO_0023644 - Total distinct nodes N: 726; Chosen d: 10\n",
      "diseaseId=HP_0001574 - Total distinct nodes N: 547; Chosen d: 10\n",
      "diseaseId=EFO_0005775 - Total distinct nodes N: 227; Chosen d: 8\n",
      "diseaseId=EFO_1000356 - Total distinct nodes N: 702; Chosen d: 10\n",
      "diseaseId=EFO_0006336 - Total distinct nodes N: 1133; Chosen d: 11\n",
      "diseaseId=MONDO_0000636 - Total distinct nodes N: 423; Chosen d: 9\n",
      "diseaseId=EFO_0004698 - Total distinct nodes N: 367; Chosen d: 9\n",
      "diseaseId=EFO_0005540 - Total distinct nodes N: 755; Chosen d: 10\n",
      "diseaseId=EFO_0000200 - Total distinct nodes N: 584; Chosen d: 10\n",
      "diseaseId=EFO_0005772 - Total distinct nodes N: 947; Chosen d: 10\n",
      "diseaseId=EFO_0007441 - Total distinct nodes N: 1061; Chosen d: 11\n",
      "diseaseId=EFO_0000729 - Total distinct nodes N: 355; Chosen d: 9\n",
      "diseaseId=EFO_1000223 - Total distinct nodes N: 702; Chosen d: 10\n",
      "diseaseId=EFO_0002425 - Total distinct nodes N: 801; Chosen d: 10\n",
      "diseaseId=EFO_0009805 - Total distinct nodes N: 534; Chosen d: 10\n",
      "diseaseId=EFO_0004980 - Total distinct nodes N: 1031; Chosen d: 11\n",
      "diseaseId=EFO_0000178 - Total distinct nodes N: 761; Chosen d: 10\n",
      "diseaseId=HP_0025031 - Total distinct nodes N: 677; Chosen d: 10\n",
      "diseaseId=EFO_0001061 - Total distinct nodes N: 988; Chosen d: 10\n",
      "diseaseId=EFO_0007396 - Total distinct nodes N: 361; Chosen d: 9\n",
      "diseaseId=EFO_0002422 - Total distinct nodes N: 1027; Chosen d: 11\n",
      "diseaseId=HP_0012647 - Total distinct nodes N: 289; Chosen d: 9\n",
      "diseaseId=EFO_0008581 - Total distinct nodes N: 231; Chosen d: 8\n",
      "diseaseId=EFO_0007991 - Total distinct nodes N: 583; Chosen d: 10\n",
      "diseaseId=EFO_0006843 - Total distinct nodes N: 1531; Chosen d: 11\n",
      "diseaseId=MONDO_0002025 - Total distinct nodes N: 1505; Chosen d: 11\n",
      "diseaseId=EFO_0008111 - Total distinct nodes N: 555; Chosen d: 10\n",
      "diseaseId=EFO_0005631 - Total distinct nodes N: 754; Chosen d: 10\n",
      "diseaseId=HP_0012443 - Total distinct nodes N: 553; Chosen d: 10\n",
      "diseaseId=EFO_1000020 - Total distinct nodes N: 742; Chosen d: 10\n",
      "diseaseId=EFO_1000018 - Total distinct nodes N: 275; Chosen d: 9\n",
      "diseaseId=HP_0012649 - Total distinct nodes N: 289; Chosen d: 9\n",
      "diseaseId=EFO_1001902 - Total distinct nodes N: 679; Chosen d: 10\n",
      "diseaseId=MONDO_0021066 - Total distinct nodes N: 959; Chosen d: 10\n",
      "diseaseId=MONDO_0021254 - Total distinct nodes N: 530; Chosen d: 10\n",
      "diseaseId=MONDO_0000920 - Total distinct nodes N: 713; Chosen d: 10\n",
      "diseaseId=EFO_0000512 - Total distinct nodes N: 1643; Chosen d: 11\n",
      "diseaseId=EFO_0000182 - Total distinct nodes N: 768; Chosen d: 10\n",
      "diseaseId=EFO_0000546 - Total distinct nodes N: 532; Chosen d: 10\n",
      "diseaseId=EFO_1000417 - Total distinct nodes N: 735; Chosen d: 10\n",
      "diseaseId=HP_0000545 - Total distinct nodes N: 194; Chosen d: 8\n",
      "diseaseId=EFO_0010176 - Total distinct nodes N: 853; Chosen d: 10\n",
      "diseaseId=EFO_1000870 - Total distinct nodes N: 182; Chosen d: 8\n",
      "diseaseId=EFO_1001956 - Total distinct nodes N: 665; Chosen d: 10\n",
      "diseaseId=GO_0050896 - Total distinct nodes N: 1009; Chosen d: 10\n",
      "diseaseId=EFO_0004327 - Total distinct nodes N: 505; Chosen d: 9\n",
      "diseaseId=MONDO_0001056 - Total distinct nodes N: 764; Chosen d: 10\n",
      "diseaseId=EFO_1001951 - Total distinct nodes N: 780; Chosen d: 10\n",
      "diseaseId=EFO_0010972 - Total distinct nodes N: 150; Chosen d: 8\n",
      "diseaseId=MONDO_0000726 - Total distinct nodes N: 288; Chosen d: 9\n",
      "diseaseId=EFO_0020945 - Total distinct nodes N: 305; Chosen d: 9\n",
      "diseaseId=GO_0036273 - Total distinct nodes N: 268; Chosen d: 9\n",
      "diseaseId=EFO_0001663 - Total distinct nodes N: 1070; Chosen d: 11\n",
      "diseaseId=HP_0002011 - Total distinct nodes N: 578; Chosen d: 10\n",
      "diseaseId=MONDO_0004975 - Total distinct nodes N: 325; Chosen d: 9\n",
      "diseaseId=EFO_0005653 - Total distinct nodes N: 150; Chosen d: 8\n",
      "diseaseId=EFO_0008528 - Total distinct nodes N: 734; Chosen d: 10\n",
      "diseaseId=EFO_0009431 - Total distinct nodes N: 1116; Chosen d: 11\n",
      "diseaseId=MONDO_0017595 - Total distinct nodes N: 701; Chosen d: 10\n",
      "diseaseId=EFO_1000613 - Total distinct nodes N: 652; Chosen d: 10\n",
      "diseaseId=EFO_0000326 - Total distinct nodes N: 822; Chosen d: 10\n",
      "diseaseId=MONDO_0004986 - Total distinct nodes N: 753; Chosen d: 10\n",
      "diseaseId=EFO_1000045 - Total distinct nodes N: 696; Chosen d: 10\n",
      "diseaseId=EFO_0007331 - Total distinct nodes N: 696; Chosen d: 10\n",
      "diseaseId=EFO_0003765 - Total distinct nodes N: 406; Chosen d: 9\n",
      "diseaseId=EFO_0000319 - Total distinct nodes N: 1706; Chosen d: 11\n",
      "diseaseId=MONDO_0024582 - Total distinct nodes N: 1143; Chosen d: 11\n",
      "diseaseId=MONDO_0002616 - Total distinct nodes N: 745; Chosen d: 10\n",
      "diseaseId=EFO_0004329 - Total distinct nodes N: 174; Chosen d: 8\n",
      "diseaseId=EFO_0009260 - Total distinct nodes N: 863; Chosen d: 10\n",
      "diseaseId=MONDO_0003939 - Total distinct nodes N: 916; Chosen d: 10\n",
      "diseaseId=EFO_0006845 - Total distinct nodes N: 693; Chosen d: 10\n",
      "diseaseId=EFO_0803539 - Total distinct nodes N: 640; Chosen d: 10\n",
      "diseaseId=MONDO_0021631 - Total distinct nodes N: 744; Chosen d: 10\n",
      "diseaseId=MONDO_0007763 - Total distinct nodes N: 748; Chosen d: 10\n",
      "diseaseId=MONDO_0021058 - Total distinct nodes N: 553; Chosen d: 10\n",
      "diseaseId=EFO_0007352 - Total distinct nodes N: 543; Chosen d: 10\n",
      "diseaseId=EFO_0002618 - Total distinct nodes N: 762; Chosen d: 10\n",
      "diseaseId=EFO_0000719 - Total distinct nodes N: 963; Chosen d: 10\n",
      "diseaseId=MONDO_0021636 - Total distinct nodes N: 754; Chosen d: 10\n",
      "diseaseId=EFO_0007990 - Total distinct nodes N: 505; Chosen d: 9\n",
      "diseaseId=EFO_0006842 - Total distinct nodes N: 1343; Chosen d: 11\n",
      "diseaseId=EFO_0000389 - Total distinct nodes N: 804; Chosen d: 10\n",
      "diseaseId=EFO_0004729 - Total distinct nodes N: 221; Chosen d: 8\n",
      "diseaseId=EFO_0001069 - Total distinct nodes N: 607; Chosen d: 10\n",
      "diseaseId=EFO_0000514 - Total distinct nodes N: 636; Chosen d: 10\n",
      "diseaseId=EFO_0007355 - Total distinct nodes N: 1105; Chosen d: 11\n",
      "diseaseId=MONDO_0002229 - Total distinct nodes N: 797; Chosen d: 10\n",
      "diseaseId=EFO_1000021 - Total distinct nodes N: 742; Chosen d: 10\n",
      "diseaseId=HP_0002624 - Total distinct nodes N: 167; Chosen d: 8\n",
      "diseaseId=EFO_0004149 - Total distinct nodes N: 680; Chosen d: 10\n",
      "diseaseId=EFO_1000017 - Total distinct nodes N: 451; Chosen d: 9\n",
      "diseaseId=EFO_0008589 - Total distinct nodes N: 325; Chosen d: 9\n",
      "diseaseId=EFO_0004512 - Total distinct nodes N: 1421; Chosen d: 11\n",
      "diseaseId=MONDO_0021069 - Total distinct nodes N: 803; Chosen d: 10\n",
      "diseaseId=EFO_0009804 - Total distinct nodes N: 597; Chosen d: 10\n",
      "diseaseId=EFO_0004343 - Total distinct nodes N: 619; Chosen d: 10\n",
      "diseaseId=EFO_1000646 - Total distinct nodes N: 711; Chosen d: 10\n",
      "diseaseId=EFO_0004541 - Total distinct nodes N: 1174; Chosen d: 11\n",
      "diseaseId=HP_0040064 - Total distinct nodes N: 423; Chosen d: 9\n",
      "diseaseId=EFO_0000571 - Total distinct nodes N: 783; Chosen d: 10\n",
      "diseaseId=EFO_0007330 - Total distinct nodes N: 848; Chosen d: 10\n",
      "diseaseId=EFO_1000044 - Total distinct nodes N: 748; Chosen d: 10\n",
      "diseaseId=HP_0002814 - Total distinct nodes N: 226; Chosen d: 8\n",
      "diseaseId=EFO_0009605 - Total distinct nodes N: 1234; Chosen d: 11\n",
      "diseaseId=MONDO_0000386 - Total distinct nodes N: 700; Chosen d: 10\n",
      "diseaseId=EFO_0003931 - Total distinct nodes N: 180; Chosen d: 8\n",
      "diseaseId=EFO_0000318 - Total distinct nodes N: 599; Chosen d: 10\n",
      "diseaseId=MONDO_0003193 - Total distinct nodes N: 693; Chosen d: 10\n",
      "diseaseId=MONDO_0008315 - Total distinct nodes N: 1084; Chosen d: 11\n",
      "diseaseId=EFO_0009259 - Total distinct nodes N: 886; Chosen d: 10\n",
      "diseaseId=EFO_0003763 - Total distinct nodes N: 401; Chosen d: 9\n",
      "diseaseId=MONDO_0017594 - Total distinct nodes N: 764; Chosen d: 10\n",
      "diseaseId=MONDO_0021230 - Total distinct nodes N: 988; Chosen d: 10\n",
      "diseaseId=MONDO_0016680 - Total distinct nodes N: 748; Chosen d: 10\n",
      "diseaseId=MONDO_0002280 - Total distinct nodes N: 378; Chosen d: 9\n",
      "diseaseId=EFO_0009602 - Total distinct nodes N: 596; Chosen d: 10\n",
      "diseaseId=EFO_0000540 - Total distinct nodes N: 1547; Chosen d: 11\n",
      "diseaseId=EFO_0004570 - Total distinct nodes N: 532; Chosen d: 10\n",
      "diseaseId=EFO_0010514 - Total distinct nodes N: 183; Chosen d: 8\n",
      "diseaseId=EFO_0020944 - Total distinct nodes N: 264; Chosen d: 9\n",
      "diseaseId=EFO_0009406 - Total distinct nodes N: 1201; Chosen d: 11\n",
      "diseaseId=MONDO_0021662 - Total distinct nodes N: 756; Chosen d: 10\n",
      "diseaseId=HP_0000924 - Total distinct nodes N: 952; Chosen d: 10\n",
      "diseaseId=EFO_1001950 - Total distinct nodes N: 774; Chosen d: 10\n",
      "diseaseId=HP_0000118 - Total distinct nodes N: 1821; Chosen d: 11\n",
      "diseaseId=EFO_1001968 - Total distinct nodes N: 736; Chosen d: 10\n",
      "diseaseId=EFO_1000416 - Total distinct nodes N: 738; Chosen d: 10\n",
      "diseaseId=EFO_0005809 - Total distinct nodes N: 1103; Chosen d: 11\n",
      "diseaseId=EFO_0020943 - Total distinct nodes N: 260; Chosen d: 9\n",
      "diseaseId=EFO_0007937 - Total distinct nodes N: 1081; Chosen d: 11\n"
     ]
    }
   ],
   "source": [
    "input_dir = \"/Users/polina/Pathwaganda/data/GSEA_output_gui/Reactome_Pathways_2025_diy_v2\"\n",
    "output_dir = \"/Users/polina/Pathwaganda/data/pathway_embeddings/Reactome_Pathways_2025_diy_v2\"\n",
    "\n",
    "process_hierarchy_folders(input_dir, output_dir, negative=10, epochs=100)"
   ]
  },
  {
   "cell_type": "code",
   "execution_count": 24,
   "id": "f151aa3d",
   "metadata": {},
   "outputs": [
    {
     "name": "stdout",
     "output_type": "stream",
     "text": [
      "+-------------+--------------------+--------------------+--------------------+--------------------+--------------------+--------------------+--------------------+-------------------+--------------------+--------------------+\n",
      "|           ID|               dim_0|               dim_1|               dim_2|               dim_3|               dim_4|               dim_5|               dim_6|              dim_7|               dim_8|               dim_9|\n",
      "+-------------+--------------------+--------------------+--------------------+--------------------+--------------------+--------------------+--------------------+-------------------+--------------------+--------------------+\n",
      "|  R-HSA-73884|0.014547058809404203|0.028268725834584226|-0.38879342669362515|-0.21606444941898975| 0.16547843443756646| -0.1846101340568833|0.002042940629954195|-0.5107297842501242| 0.20386755682225918| 0.37808384314641375|\n",
      "|  R-HSA-73856|-0.09932011382566884| 0.08810110308801783| -0.5786949592655122|-0.27040918172764666|-0.07974141717979491|-0.17775631339965908| -0.2590383853537125|0.29526558079639087|  0.1580036867235042|-0.03073158149471...|\n",
      "|R-HSA-8984722|0.036296554218595664|  0.4757076297431328|  0.2082543309085937| 0.21518732817949127| -0.3737813584555457|  0.2659142692333169| 0.17115835807526605|0.07647394552671677| 0.08388473802907552| -0.3331757309844315|\n",
      "| R-HSA-112043| 0.04759357787165012| -0.1464033881654951|-0.38688507609172285|  0.5498885603296313|-0.01074695825119...| 0.21522111004180458|-0.23180728998474762| 0.2348838870153648|-0.14572196153842895|0.029095448235972217|\n",
      "| R-HSA-168643|  0.5254098661237938| 0.11124466217988932| 0.16610207658016524| 0.12301295638181498|-0.15474597411141353| 0.15465388452772838|  0.2727289136913373|0.49431709373641053| 0.07131927636751371|0.009799320713727752|\n",
      "+-------------+--------------------+--------------------+--------------------+--------------------+--------------------+--------------------+--------------------+-------------------+--------------------+--------------------+\n",
      "only showing top 5 rows\n"
     ]
    }
   ],
   "source": [
    "spark.read.parquet(\"/Users/polina/Pathwaganda/data/pathway_embeddings/Reactome_Pathways_2025_diy_v2/diseaseId=EFO_0000094\").show(5)"
   ]
  },
  {
   "cell_type": "markdown",
   "id": "4ac8dd0a",
   "metadata": {},
   "source": [
    "## Weighted (Jaccard similarity index)"
   ]
  },
  {
   "cell_type": "code",
   "execution_count": null,
   "id": "904abf42",
   "metadata": {},
   "outputs": [],
   "source": []
  },
  {
   "cell_type": "code",
   "execution_count": null,
   "id": "d9a8591d",
   "metadata": {},
   "outputs": [],
   "source": []
  },
  {
   "cell_type": "code",
   "execution_count": null,
   "id": "0a1489b0",
   "metadata": {},
   "outputs": [],
   "source": []
  },
  {
   "cell_type": "markdown",
   "id": "9e4850f9",
   "metadata": {},
   "source": [
    "# Target embeddings"
   ]
  },
  {
   "cell_type": "markdown",
   "id": "43a5ba10",
   "metadata": {},
   "source": [
    "## Hierarchical (Poincare coordinates)"
   ]
  },
  {
   "cell_type": "markdown",
   "id": "3c829552",
   "metadata": {},
   "source": [
    "Based on each file create pathway coordinates in hyperbolic space."
   ]
  },
  {
   "cell_type": "code",
   "execution_count": 29,
   "id": "112bc115",
   "metadata": {},
   "outputs": [],
   "source": [
    "from pyspark.sql import SparkSession\n",
    "from pyspark.sql.functions import split, explode, col, avg\n",
    "import os"
   ]
  },
  {
   "cell_type": "code",
   "execution_count": 30,
   "id": "e1f73ecc",
   "metadata": {},
   "outputs": [],
   "source": [
    "def create_target_embeddings(input_pathway: str, input_target2pathway: str, output: str):\n",
    "    spark = SparkSession.builder.appName(\"TargetEmbeddingGenerator\").getOrCreate()\n",
    "    \n",
    "    # List common file names in both folders\n",
    "    pathway_files = {f.name for f in os.scandir(input_pathway) if f.is_dir()}\n",
    "    target2pathway_files = {f.name for f in os.scandir(input_target2pathway) if f.is_dir()}\n",
    "    common_files = pathway_files & target2pathway_files\n",
    "    \n",
    "    if not common_files:\n",
    "        print(\"No matching files found between input_pathway and input_target2pathway.\")\n",
    "        return\n",
    "    \n",
    "    for file_name in common_files:\n",
    "        print(f\"Processing: {file_name}\")\n",
    "        \n",
    "        # Read pathway embedding\n",
    "        pathway_df = spark.read.parquet(os.path.join(input_pathway, file_name))\n",
    "        \n",
    "        # Read target-to-pathway mapping\n",
    "        target_df = spark.read.parquet(os.path.join(input_target2pathway, file_name))\n",
    "        \n",
    "        # Explode pathway IDs\n",
    "        exploded_target_df = (\n",
    "            target_df\n",
    "            .withColumn(\"pathwayID\", explode(split(col(\"ID\"), \",\")))\n",
    "            .select(\"approvedSymbol\", \"pathwayID\")\n",
    "        )\n",
    "        \n",
    "        # Join with pathway embeddings\n",
    "        joined_df = (\n",
    "            exploded_target_df\n",
    "            .join(pathway_df, exploded_target_df[\"pathwayID\"] == pathway_df[\"ID\"], \"inner\")\n",
    "        )\n",
    "\n",
    "        # Drop duplicated ID columns\n",
    "        joined_df = joined_df.drop(pathway_df[\"ID\"])\n",
    "\n",
    "        # Compute average for each dimension per target\n",
    "        embedding_columns = [col for col in joined_df.columns if col.startswith(\"dim_\")]\n",
    "        averaged_df = (\n",
    "            joined_df\n",
    "            .groupBy(\"approvedSymbol\")\n",
    "            .agg(*[avg(c).alias(c) for c in embedding_columns])\n",
    "        )\n",
    "        \n",
    "        # Write output\n",
    "        output_path = os.path.join(output, file_name)\n",
    "        averaged_df.write.mode(\"overwrite\").parquet(output_path)\n",
    "        print(f\"Written to: {output_path}\")\n",
    "\n",
    "    spark.stop()"
   ]
  },
  {
   "cell_type": "code",
   "execution_count": null,
   "id": "475fdb0c",
   "metadata": {},
   "outputs": [
    {
     "name": "stdout",
     "output_type": "stream",
     "text": [
      "Processing: diseaseId=EFO_0000094\n",
      "Written to: /Users/polina/Pathwaganda/data/target_embeddings/test/diseaseId=EFO_0000094\n"
     ]
    }
   ],
   "source": [
    "input_pathway = \"/Users/polina/Pathwaganda/data/pathway_embeddings/Reactome_Pathways_2025_diy_v2\"\n",
    "input_target2pathway = \"/Users/polina/Pathwaganda/data/target-pathway_matrix_opt/Reactome_Pathways_2025_diy\"\n",
    "output = \"/Users/polina/Pathwaganda/data/target_embeddings/Reactome_Pathways_2025_diy\"\n",
    "\n",
    "create_target_embeddings(input_pathway, input_target2pathway, output)"
   ]
  },
  {
   "cell_type": "code",
   "execution_count": 34,
   "id": "71337485",
   "metadata": {},
   "outputs": [
    {
     "name": "stdout",
     "output_type": "stream",
     "text": [
      "+--------------+--------------------+--------------------+--------------------+--------------------+--------------------+--------------------+--------------------+--------------------+--------------------+--------------------+\n",
      "|approvedSymbol|               dim_0|               dim_1|               dim_2|               dim_3|               dim_4|               dim_5|               dim_6|               dim_7|               dim_8|               dim_9|\n",
      "+--------------+--------------------+--------------------+--------------------+--------------------+--------------------+--------------------+--------------------+--------------------+--------------------+--------------------+\n",
      "|         AARS1| -0.3951987301936722| 0.24442867066109847|-0.13745470397796025| -0.2473505708239917|  0.4051520395139921| -0.1045244540795841| 0.21620448631638567| -0.0844914145852863| -0.1852327128433665|-0.37561990822242847|\n",
      "|         ABCC6|0.034605752178775005|-0.26681391315408365| 0.22767806279006286| 0.19258560841130357|  0.2035816926076321| -0.3574995652087113| 0.36088815215171166| 0.12273579627306912| -0.4690332683248368| 0.08096359764091104|\n",
      "|        ACOT12|-0.43031711319994403| 0.14399843800353898|-0.13597826914115962| 0.23806798925462963| 0.21689940438943658|-0.28179876398459075|  0.4432542175542897|-0.16215575333710217| 0.31927119909396756|-0.06086025235723033|\n",
      "|          AKT2|1.760628468253179...|-0.08331597752484486|-0.03139728169268971|0.024177756265631296|-0.05593890230832833|-0.05488572660667...|-0.09930371687980097| -0.0470525731166489|0.001060547747862...|0.010118203410560083|\n",
      "|       ALDH4A1|-0.42693425582516153| 0.14391085437527557|-0.13591753369344317|  0.2370817862159304|  0.2163982071441929| -0.2798526779613535| 0.44106955201508824|-0.16172858971933762| 0.31840980144496295|-0.05947073288313...|\n",
      "+--------------+--------------------+--------------------+--------------------+--------------------+--------------------+--------------------+--------------------+--------------------+--------------------+--------------------+\n",
      "only showing top 5 rows\n"
     ]
    }
   ],
   "source": [
    "spark.read.parquet(\"/Users/polina/Pathwaganda/data/target_embeddings/test/diseaseId=EFO_0000094\").show(5)"
   ]
  },
  {
   "cell_type": "code",
   "execution_count": null,
   "id": "323b0588",
   "metadata": {},
   "outputs": [],
   "source": []
  },
  {
   "cell_type": "code",
   "execution_count": 3,
   "id": "6c734457",
   "metadata": {},
   "outputs": [
    {
     "name": "stderr",
     "output_type": "stream",
     "text": [
      "                                                                                \r"
     ]
    }
   ],
   "source": [
    "# Target info from OT platform to parse gene names\n",
    "target_path = \"gs://open-targets-data-releases/25.03/output/target/\"\n",
    "target = spark.read.parquet(target_path)\n",
    "target_names = target.select(\"approvedSymbol\", \"id\")"
   ]
  },
  {
   "cell_type": "code",
   "execution_count": 4,
   "id": "fb1b7bed",
   "metadata": {},
   "outputs": [],
   "source": [
    "# Rename columns and aggregate by approvedSymbol\n",
    "target_names = target.select(\"approvedSymbol\", \"id\").groupBy('approvedSymbol').agg(\n",
    "    f.concat_ws(',', f.collect_list('id')).alias('targetId')\n",
    ")"
   ]
  },
  {
   "cell_type": "code",
   "execution_count": 5,
   "id": "08a24274",
   "metadata": {},
   "outputs": [],
   "source": [
    "def calculate_propagated_targets_with_terms(\n",
    "    input_gcs_dir, \n",
    "    output_gcs_dir, \n",
    "    folders_to_process, \n",
    "    target_table\n",
    "):\n",
    "    \"\"\"\n",
    "    Process CSV files in specified GCS folders to generate Spark DataFrames\n",
    "    with propagated targets and their corresponding terms. Merges with target_table\n",
    "    on approvedSymbol and filters out unmatched rows. Saves results in Parquet format.\n",
    "\n",
    "    Args:\n",
    "        input_gcs_dir (str): Input GCS directory path (gs://bucket/path/)\n",
    "        output_gcs_dir (str): Output GCS directory path (gs://bucket/path/)\n",
    "        folders_to_process (list): List of folder names to process\n",
    "        target_table (DataFrame): Spark DataFrame with 'approvedSymbol' and 'targetId'\n",
    "    \"\"\"\n",
    "    input_gcs_dir = input_gcs_dir.rstrip(\"/\")\n",
    "    output_gcs_dir = output_gcs_dir.rstrip(\"/\")\n",
    "\n",
    "    for folder_name in folders_to_process:\n",
    "        csv_files = spark.sparkContext.wholeTextFiles(f\"{input_gcs_dir}/{folder_name}/*.csv\").keys().collect()\n",
    "        \n",
    "        for csv_file in csv_files:\n",
    "            csv_name = csv_file.split(\"/\")[-1].replace(\".csv\", \"\")\n",
    "            output_folder_path = f\"{output_gcs_dir}/{folder_name}/{csv_name}\"\n",
    "\n",
    "            df = spark.read.option(\"header\", True).csv(csv_file)\n",
    "\n",
    "            if not {'propagated_edge', 'Term'}.issubset(df.columns):\n",
    "                print(f\"Skipping {csv_file}: missing required columns.\")\n",
    "                continue\n",
    "\n",
    "            df_exploded = df.withColumn(\n",
    "                \"approvedSymbol\", explode(split(col(\"propagated_edge\"), \",\"))\n",
    "            ).dropna(subset=[\"approvedSymbol\"])\n",
    "\n",
    "            target_terms_df = df_exploded.groupBy(\"approvedSymbol\") \\\n",
    "                .agg(collect_set(\"Term\").alias(\"terms\"))\n",
    "\n",
    "            merged_df = target_terms_df.join(\n",
    "                target_table.select(\"approvedSymbol\", \"targetId\"),\n",
    "                on=\"approvedSymbol\",\n",
    "                how=\"inner\"\n",
    "            )\n",
    "\n",
    "            # Write as Parquet (supports array columns)\n",
    "            merged_df.write.mode(\"overwrite\").parquet(output_folder_path)\n",
    "            print(f\"Saved: {output_folder_path}\")"
   ]
  },
  {
   "cell_type": "code",
   "execution_count": 15,
   "id": "18ee1d10",
   "metadata": {},
   "outputs": [
    {
     "name": "stderr",
     "output_type": "stream",
     "text": [
      "                                                                                \r"
     ]
    },
    {
     "name": "stdout",
     "output_type": "stream",
     "text": [
      "Saved: gs://ot-team/polina/pathway_propagation_validation_v2/gsea_output_spark/KEGG_2021_Human/EFO_0000095_ge_mm_som_gsea_KEGG_2021_Human_pval0.05\n"
     ]
    },
    {
     "name": "stderr",
     "output_type": "stream",
     "text": [
      "                                                                                \r"
     ]
    },
    {
     "name": "stdout",
     "output_type": "stream",
     "text": [
      "Saved: gs://ot-team/polina/pathway_propagation_validation_v2/gsea_output_spark/KEGG_2021_Human/EFO_0000222_ge_mm_som_gsea_KEGG_2021_Human_pval0.05\n"
     ]
    },
    {
     "name": "stderr",
     "output_type": "stream",
     "text": [
      "                                                                                \r"
     ]
    },
    {
     "name": "stdout",
     "output_type": "stream",
     "text": [
      "Saved: gs://ot-team/polina/pathway_propagation_validation_v2/gsea_output_spark/KEGG_2021_Human/EFO_0000274_ge_mm_gsea_KEGG_2021_Human_pval0.05\n"
     ]
    },
    {
     "name": "stderr",
     "output_type": "stream",
     "text": [
      "                                                                                \r"
     ]
    },
    {
     "name": "stdout",
     "output_type": "stream",
     "text": [
      "Saved: gs://ot-team/polina/pathway_propagation_validation_v2/gsea_output_spark/KEGG_2021_Human/EFO_0000183_ge_mm_som_gsea_KEGG_2021_Human_pval0.05\n"
     ]
    },
    {
     "name": "stderr",
     "output_type": "stream",
     "text": [
      "                                                                                \r"
     ]
    },
    {
     "name": "stdout",
     "output_type": "stream",
     "text": [
      "Saved: gs://ot-team/polina/pathway_propagation_validation_v2/gsea_output_spark/KEGG_2021_Human/EFO_0000341_ge_mm_gsea_KEGG_2021_Human_pval0.05\n"
     ]
    },
    {
     "name": "stderr",
     "output_type": "stream",
     "text": [
      "                                                                                \r"
     ]
    },
    {
     "name": "stdout",
     "output_type": "stream",
     "text": [
      "Saved: gs://ot-team/polina/pathway_propagation_validation_v2/gsea_output_spark/KEGG_2021_Human/EFO_0000384_ge_mm_gsea_KEGG_2021_Human_pval0.05\n"
     ]
    },
    {
     "name": "stderr",
     "output_type": "stream",
     "text": [
      "                                                                                \r"
     ]
    },
    {
     "name": "stdout",
     "output_type": "stream",
     "text": [
      "Saved: gs://ot-team/polina/pathway_propagation_validation_v2/gsea_output_spark/KEGG_2021_Human/EFO_0000403_ge_mm_som_gsea_KEGG_2021_Human_pval0.05\n"
     ]
    },
    {
     "name": "stderr",
     "output_type": "stream",
     "text": [
      "                                                                                \r"
     ]
    },
    {
     "name": "stdout",
     "output_type": "stream",
     "text": [
      "Saved: gs://ot-team/polina/pathway_propagation_validation_v2/gsea_output_spark/KEGG_2021_Human/EFO_0000275_ge_mm_gsea_KEGG_2021_Human_pval0.05\n"
     ]
    },
    {
     "name": "stderr",
     "output_type": "stream",
     "text": [
      "                                                                                \r"
     ]
    },
    {
     "name": "stdout",
     "output_type": "stream",
     "text": [
      "Saved: gs://ot-team/polina/pathway_propagation_validation_v2/gsea_output_spark/KEGG_2021_Human/EFO_0000474_ge_mm_gsea_KEGG_2021_Human_pval0.05\n"
     ]
    },
    {
     "name": "stderr",
     "output_type": "stream",
     "text": [
      "                                                                                \r"
     ]
    },
    {
     "name": "stdout",
     "output_type": "stream",
     "text": [
      "Saved: gs://ot-team/polina/pathway_propagation_validation_v2/gsea_output_spark/KEGG_2021_Human/EFO_0000519_ge_mm_som_gsea_KEGG_2021_Human_pval0.05\n"
     ]
    },
    {
     "name": "stderr",
     "output_type": "stream",
     "text": [
      "                                                                                \r"
     ]
    },
    {
     "name": "stdout",
     "output_type": "stream",
     "text": [
      "Saved: gs://ot-team/polina/pathway_propagation_validation_v2/gsea_output_spark/KEGG_2021_Human/EFO_0000565_ge_mm_som_gsea_KEGG_2021_Human_pval0.05\n"
     ]
    },
    {
     "name": "stderr",
     "output_type": "stream",
     "text": [
      "                                                                                \r"
     ]
    },
    {
     "name": "stdout",
     "output_type": "stream",
     "text": [
      "Saved: gs://ot-team/polina/pathway_propagation_validation_v2/gsea_output_spark/KEGG_2021_Human/EFO_0000612_ge_mm_gsea_KEGG_2021_Human_pval0.05\n"
     ]
    },
    {
     "name": "stderr",
     "output_type": "stream",
     "text": [
      "                                                                                \r"
     ]
    },
    {
     "name": "stdout",
     "output_type": "stream",
     "text": [
      "Saved: gs://ot-team/polina/pathway_propagation_validation_v2/gsea_output_spark/KEGG_2021_Human/EFO_0000637_ge_mm_som_gsea_KEGG_2021_Human_pval0.05\n"
     ]
    },
    {
     "name": "stderr",
     "output_type": "stream",
     "text": [
      "                                                                                \r"
     ]
    },
    {
     "name": "stdout",
     "output_type": "stream",
     "text": [
      "Saved: gs://ot-team/polina/pathway_propagation_validation_v2/gsea_output_spark/KEGG_2021_Human/EFO_0000574_ge_mm_som_gsea_KEGG_2021_Human_pval0.05\n"
     ]
    },
    {
     "name": "stderr",
     "output_type": "stream",
     "text": [
      "                                                                                \r"
     ]
    },
    {
     "name": "stdout",
     "output_type": "stream",
     "text": [
      "Saved: gs://ot-team/polina/pathway_propagation_validation_v2/gsea_output_spark/KEGG_2021_Human/EFO_0000685_ge_mm_gsea_KEGG_2021_Human_pval0.05\n"
     ]
    },
    {
     "name": "stderr",
     "output_type": "stream",
     "text": [
      "                                                                                \r"
     ]
    },
    {
     "name": "stdout",
     "output_type": "stream",
     "text": [
      "Saved: gs://ot-team/polina/pathway_propagation_validation_v2/gsea_output_spark/KEGG_2021_Human/EFO_0000702_ge_mm_som_gsea_KEGG_2021_Human_pval0.05\n"
     ]
    },
    {
     "name": "stderr",
     "output_type": "stream",
     "text": [
      "                                                                                \r"
     ]
    },
    {
     "name": "stdout",
     "output_type": "stream",
     "text": [
      "Saved: gs://ot-team/polina/pathway_propagation_validation_v2/gsea_output_spark/KEGG_2021_Human/EFO_0000676_ge_mm_gsea_KEGG_2021_Human_pval0.05\n"
     ]
    },
    {
     "name": "stderr",
     "output_type": "stream",
     "text": [
      "                                                                                \r"
     ]
    },
    {
     "name": "stdout",
     "output_type": "stream",
     "text": [
      "Saved: gs://ot-team/polina/pathway_propagation_validation_v2/gsea_output_spark/KEGG_2021_Human/EFO_0001073_ge_mm_gsea_KEGG_2021_Human_pval0.05\n"
     ]
    },
    {
     "name": "stderr",
     "output_type": "stream",
     "text": [
      "                                                                                \r"
     ]
    },
    {
     "name": "stdout",
     "output_type": "stream",
     "text": [
      "Saved: gs://ot-team/polina/pathway_propagation_validation_v2/gsea_output_spark/KEGG_2021_Human/EFO_0001378_ge_mm_som_gsea_KEGG_2021_Human_pval0.05\n"
     ]
    },
    {
     "name": "stderr",
     "output_type": "stream",
     "text": [
      "                                                                                \r"
     ]
    },
    {
     "name": "stdout",
     "output_type": "stream",
     "text": [
      "Saved: gs://ot-team/polina/pathway_propagation_validation_v2/gsea_output_spark/KEGG_2021_Human/EFO_0002429_ge_mm_som_gsea_KEGG_2021_Human_pval0.05\n"
     ]
    },
    {
     "name": "stderr",
     "output_type": "stream",
     "text": [
      "                                                                                \r"
     ]
    },
    {
     "name": "stdout",
     "output_type": "stream",
     "text": [
      "Saved: gs://ot-team/polina/pathway_propagation_validation_v2/gsea_output_spark/KEGG_2021_Human/EFO_0003060_ge_mm_som_gsea_KEGG_2021_Human_pval0.05\n"
     ]
    },
    {
     "name": "stderr",
     "output_type": "stream",
     "text": [
      "                                                                                \r"
     ]
    },
    {
     "name": "stdout",
     "output_type": "stream",
     "text": [
      "Saved: gs://ot-team/polina/pathway_propagation_validation_v2/gsea_output_spark/KEGG_2021_Human/EFO_0003144_ge_mm_gsea_KEGG_2021_Human_pval0.05\n"
     ]
    },
    {
     "name": "stderr",
     "output_type": "stream",
     "text": [
      "                                                                                \r"
     ]
    },
    {
     "name": "stdout",
     "output_type": "stream",
     "text": [
      "Saved: gs://ot-team/polina/pathway_propagation_validation_v2/gsea_output_spark/KEGG_2021_Human/EFO_0003758_ge_mm_gsea_KEGG_2021_Human_pval0.05\n"
     ]
    },
    {
     "name": "stderr",
     "output_type": "stream",
     "text": [
      "                                                                                \r"
     ]
    },
    {
     "name": "stdout",
     "output_type": "stream",
     "text": [
      "Saved: gs://ot-team/polina/pathway_propagation_validation_v2/gsea_output_spark/KEGG_2021_Human/EFO_0003833_ge_mm_som_gsea_KEGG_2021_Human_pval0.05\n"
     ]
    },
    {
     "name": "stderr",
     "output_type": "stream",
     "text": [
      "                                                                                \r"
     ]
    },
    {
     "name": "stdout",
     "output_type": "stream",
     "text": [
      "Saved: gs://ot-team/polina/pathway_propagation_validation_v2/gsea_output_spark/KEGG_2021_Human/EFO_0003869_ge_mm_som_gsea_KEGG_2021_Human_pval0.05\n"
     ]
    },
    {
     "name": "stderr",
     "output_type": "stream",
     "text": [
      "                                                                                \r"
     ]
    },
    {
     "name": "stdout",
     "output_type": "stream",
     "text": [
      "Saved: gs://ot-team/polina/pathway_propagation_validation_v2/gsea_output_spark/KEGG_2021_Human/EFO_0004142_ge_mm_som_gsea_KEGG_2021_Human_pval0.05\n"
     ]
    },
    {
     "name": "stderr",
     "output_type": "stream",
     "text": [
      "                                                                                \r"
     ]
    },
    {
     "name": "stdout",
     "output_type": "stream",
     "text": [
      "Saved: gs://ot-team/polina/pathway_propagation_validation_v2/gsea_output_spark/KEGG_2021_Human/EFO_0009606_ge_mm_gsea_KEGG_2021_Human_pval0.05\n"
     ]
    },
    {
     "name": "stderr",
     "output_type": "stream",
     "text": [
      "                                                                                \r"
     ]
    },
    {
     "name": "stdout",
     "output_type": "stream",
     "text": [
      "Saved: gs://ot-team/polina/pathway_propagation_validation_v2/gsea_output_spark/KEGG_2021_Human/EFO_0005952_ge_mm_som_gsea_KEGG_2021_Human_pval0.05\n"
     ]
    },
    {
     "name": "stderr",
     "output_type": "stream",
     "text": [
      "                                                                                \r"
     ]
    },
    {
     "name": "stdout",
     "output_type": "stream",
     "text": [
      "Saved: gs://ot-team/polina/pathway_propagation_validation_v2/gsea_output_spark/KEGG_2021_Human/EFO_1001901_ge_mm_som_gsea_KEGG_2021_Human_pval0.05\n"
     ]
    },
    {
     "name": "stderr",
     "output_type": "stream",
     "text": [
      "                                                                                \r"
     ]
    },
    {
     "name": "stdout",
     "output_type": "stream",
     "text": [
      "Saved: gs://ot-team/polina/pathway_propagation_validation_v2/gsea_output_spark/KEGG_2021_Human/MONDO_0001657_ge_mm_som_gsea_KEGG_2021_Human_pval0.05\n"
     ]
    },
    {
     "name": "stderr",
     "output_type": "stream",
     "text": [
      "                                                                                \r"
     ]
    },
    {
     "name": "stdout",
     "output_type": "stream",
     "text": [
      "Saved: gs://ot-team/polina/pathway_propagation_validation_v2/gsea_output_spark/KEGG_2021_Human/MONDO_0002367_ge_mm_som_gsea_KEGG_2021_Human_pval0.05\n"
     ]
    },
    {
     "name": "stderr",
     "output_type": "stream",
     "text": [
      "                                                                                \r"
     ]
    },
    {
     "name": "stdout",
     "output_type": "stream",
     "text": [
      "Saved: gs://ot-team/polina/pathway_propagation_validation_v2/gsea_output_spark/KEGG_2021_Human/MONDO_0004975_ge_mm_gsea_KEGG_2021_Human_pval0.05\n"
     ]
    },
    {
     "name": "stderr",
     "output_type": "stream",
     "text": [
      "                                                                                \r"
     ]
    },
    {
     "name": "stdout",
     "output_type": "stream",
     "text": [
      "Saved: gs://ot-team/polina/pathway_propagation_validation_v2/gsea_output_spark/KEGG_2021_Human/MONDO_0004976_ge_mm_gsea_KEGG_2021_Human_pval0.05\n"
     ]
    },
    {
     "name": "stderr",
     "output_type": "stream",
     "text": [
      "                                                                                \r"
     ]
    },
    {
     "name": "stdout",
     "output_type": "stream",
     "text": [
      "Saved: gs://ot-team/polina/pathway_propagation_validation_v2/gsea_output_spark/KEGG_2021_Human/MONDO_0004979_ge_mm_gsea_KEGG_2021_Human_pval0.05\n"
     ]
    },
    {
     "name": "stderr",
     "output_type": "stream",
     "text": [
      "                                                                                \r"
     ]
    },
    {
     "name": "stdout",
     "output_type": "stream",
     "text": [
      "Saved: gs://ot-team/polina/pathway_propagation_validation_v2/gsea_output_spark/KEGG_2021_Human/MONDO_0004985_ge_mm_gsea_KEGG_2021_Human_pval0.05\n"
     ]
    },
    {
     "name": "stderr",
     "output_type": "stream",
     "text": [
      "                                                                                \r"
     ]
    },
    {
     "name": "stdout",
     "output_type": "stream",
     "text": [
      "Saved: gs://ot-team/polina/pathway_propagation_validation_v2/gsea_output_spark/KEGG_2021_Human/MONDO_0005178_ge_mm_gsea_KEGG_2021_Human_pval0.05\n"
     ]
    },
    {
     "name": "stderr",
     "output_type": "stream",
     "text": [
      "                                                                                \r"
     ]
    },
    {
     "name": "stdout",
     "output_type": "stream",
     "text": [
      "Saved: gs://ot-team/polina/pathway_propagation_validation_v2/gsea_output_spark/KEGG_2021_Human/MONDO_0005147_ge_mm_gsea_KEGG_2021_Human_pval0.05\n"
     ]
    },
    {
     "name": "stderr",
     "output_type": "stream",
     "text": [
      "                                                                                \r"
     ]
    },
    {
     "name": "stdout",
     "output_type": "stream",
     "text": [
      "Saved: gs://ot-team/polina/pathway_propagation_validation_v2/gsea_output_spark/KEGG_2021_Human/MONDO_0005180_ge_mm_gsea_KEGG_2021_Human_pval0.05\n"
     ]
    },
    {
     "name": "stderr",
     "output_type": "stream",
     "text": [
      "                                                                                \r"
     ]
    },
    {
     "name": "stdout",
     "output_type": "stream",
     "text": [
      "Saved: gs://ot-team/polina/pathway_propagation_validation_v2/gsea_output_spark/KEGG_2021_Human/MONDO_0005301_ge_mm_gsea_KEGG_2021_Human_pval0.05\n"
     ]
    },
    {
     "name": "stderr",
     "output_type": "stream",
     "text": [
      "                                                                                \r"
     ]
    },
    {
     "name": "stdout",
     "output_type": "stream",
     "text": [
      "Saved: gs://ot-team/polina/pathway_propagation_validation_v2/gsea_output_spark/KEGG_2021_Human/MONDO_0005277_ge_mm_gsea_KEGG_2021_Human_pval0.05\n"
     ]
    },
    {
     "name": "stderr",
     "output_type": "stream",
     "text": [
      "                                                                                \r"
     ]
    },
    {
     "name": "stdout",
     "output_type": "stream",
     "text": [
      "Saved: gs://ot-team/polina/pathway_propagation_validation_v2/gsea_output_spark/KEGG_2021_Human/MONDO_0007915_ge_mm_gsea_KEGG_2021_Human_pval0.05\n"
     ]
    },
    {
     "name": "stderr",
     "output_type": "stream",
     "text": [
      "                                                                                \r"
     ]
    },
    {
     "name": "stdout",
     "output_type": "stream",
     "text": [
      "Saved: gs://ot-team/polina/pathway_propagation_validation_v2/gsea_output_spark/KEGG_2021_Human/MONDO_0008170_ge_mm_som_gsea_KEGG_2021_Human_pval0.05\n"
     ]
    },
    {
     "name": "stderr",
     "output_type": "stream",
     "text": [
      "                                                                                \r"
     ]
    },
    {
     "name": "stdout",
     "output_type": "stream",
     "text": [
      "Saved: gs://ot-team/polina/pathway_propagation_validation_v2/gsea_output_spark/KEGG_2021_Human/MONDO_0008315_ge_mm_som_gsea_KEGG_2021_Human_pval0.05\n"
     ]
    },
    {
     "name": "stderr",
     "output_type": "stream",
     "text": [
      "                                                                                \r"
     ]
    },
    {
     "name": "stdout",
     "output_type": "stream",
     "text": [
      "Saved: gs://ot-team/polina/pathway_propagation_validation_v2/gsea_output_spark/KEGG_2021_Human/MONDO_0011719_ge_mm_som_gsea_KEGG_2021_Human_pval0.05\n"
     ]
    },
    {
     "name": "stderr",
     "output_type": "stream",
     "text": [
      "                                                                                \r"
     ]
    },
    {
     "name": "stdout",
     "output_type": "stream",
     "text": [
      "Saved: gs://ot-team/polina/pathway_propagation_validation_v2/gsea_output_spark/KEGG_2021_Human/EFO_0000729_ge_mm_gsea_KEGG_2021_Human_pval0.05\n"
     ]
    },
    {
     "name": "stderr",
     "output_type": "stream",
     "text": [
      "                                                                                \r"
     ]
    },
    {
     "name": "stdout",
     "output_type": "stream",
     "text": [
      "Saved: gs://ot-team/polina/pathway_propagation_validation_v2/gsea_output_spark/KEGG_2021_Human/EFO_0000756_ge_mm_som_gsea_KEGG_2021_Human_pval0.05\n"
     ]
    }
   ],
   "source": [
    "calculate_propagated_targets_with_terms(\n",
    "    input_gcs_dir = \"gs://ot-team/polina/pathway_propagation_validation_v2/gsea_output\", \n",
    "    output_gcs_dir = \"gs://ot-team/polina/pathway_propagation_validation_v2/gsea_output_spark\", \n",
    "    folders_to_process = [\"KEGG_2021_Human\"], \n",
    "    target_table = target_names\n",
    ")"
   ]
  },
  {
   "cell_type": "code",
   "execution_count": 6,
   "id": "80929a03",
   "metadata": {},
   "outputs": [
    {
     "name": "stderr",
     "output_type": "stream",
     "text": [
      "                                                                                \r"
     ]
    },
    {
     "name": "stdout",
     "output_type": "stream",
     "text": [
      "Saved: gs://ot-team/polina/pathway_propagation_validation_v2/gsea_output_spark/Reactome_Pathways_2024/EFO_0000095_ge_mm_som_gsea_Reactome_Pathways_2024_pval0.05\n"
     ]
    },
    {
     "name": "stderr",
     "output_type": "stream",
     "text": [
      "                                                                                \r"
     ]
    },
    {
     "name": "stdout",
     "output_type": "stream",
     "text": [
      "Saved: gs://ot-team/polina/pathway_propagation_validation_v2/gsea_output_spark/Reactome_Pathways_2024/EFO_0000222_ge_mm_som_gsea_Reactome_Pathways_2024_pval0.05\n"
     ]
    },
    {
     "name": "stderr",
     "output_type": "stream",
     "text": [
      "                                                                                \r"
     ]
    },
    {
     "name": "stdout",
     "output_type": "stream",
     "text": [
      "Saved: gs://ot-team/polina/pathway_propagation_validation_v2/gsea_output_spark/Reactome_Pathways_2024/EFO_0000274_ge_mm_gsea_Reactome_Pathways_2024_pval0.05\n"
     ]
    },
    {
     "name": "stderr",
     "output_type": "stream",
     "text": [
      "                                                                                \r"
     ]
    },
    {
     "name": "stdout",
     "output_type": "stream",
     "text": [
      "Saved: gs://ot-team/polina/pathway_propagation_validation_v2/gsea_output_spark/Reactome_Pathways_2024/EFO_0000275_ge_mm_gsea_Reactome_Pathways_2024_pval0.05\n"
     ]
    },
    {
     "name": "stderr",
     "output_type": "stream",
     "text": [
      "                                                                                \r"
     ]
    },
    {
     "name": "stdout",
     "output_type": "stream",
     "text": [
      "Saved: gs://ot-team/polina/pathway_propagation_validation_v2/gsea_output_spark/Reactome_Pathways_2024/EFO_0000341_ge_mm_gsea_Reactome_Pathways_2024_pval0.05\n"
     ]
    },
    {
     "name": "stderr",
     "output_type": "stream",
     "text": [
      "                                                                                \r"
     ]
    },
    {
     "name": "stdout",
     "output_type": "stream",
     "text": [
      "Saved: gs://ot-team/polina/pathway_propagation_validation_v2/gsea_output_spark/Reactome_Pathways_2024/EFO_0000384_ge_mm_gsea_Reactome_Pathways_2024_pval0.05\n"
     ]
    },
    {
     "name": "stderr",
     "output_type": "stream",
     "text": [
      "                                                                                \r"
     ]
    },
    {
     "name": "stdout",
     "output_type": "stream",
     "text": [
      "Saved: gs://ot-team/polina/pathway_propagation_validation_v2/gsea_output_spark/Reactome_Pathways_2024/EFO_0000403_ge_mm_som_gsea_Reactome_Pathways_2024_pval0.05\n"
     ]
    },
    {
     "name": "stderr",
     "output_type": "stream",
     "text": [
      "                                                                                \r"
     ]
    },
    {
     "name": "stdout",
     "output_type": "stream",
     "text": [
      "Saved: gs://ot-team/polina/pathway_propagation_validation_v2/gsea_output_spark/Reactome_Pathways_2024/EFO_0000474_ge_mm_gsea_Reactome_Pathways_2024_pval0.05\n"
     ]
    },
    {
     "name": "stderr",
     "output_type": "stream",
     "text": [
      "                                                                                \r"
     ]
    },
    {
     "name": "stdout",
     "output_type": "stream",
     "text": [
      "Saved: gs://ot-team/polina/pathway_propagation_validation_v2/gsea_output_spark/Reactome_Pathways_2024/EFO_0000519_ge_mm_som_gsea_Reactome_Pathways_2024_pval0.05\n"
     ]
    },
    {
     "name": "stderr",
     "output_type": "stream",
     "text": [
      "                                                                                \r"
     ]
    },
    {
     "name": "stdout",
     "output_type": "stream",
     "text": [
      "Saved: gs://ot-team/polina/pathway_propagation_validation_v2/gsea_output_spark/Reactome_Pathways_2024/EFO_0000565_ge_mm_som_gsea_Reactome_Pathways_2024_pval0.05\n"
     ]
    },
    {
     "name": "stderr",
     "output_type": "stream",
     "text": [
      "                                                                                \r"
     ]
    },
    {
     "name": "stdout",
     "output_type": "stream",
     "text": [
      "Saved: gs://ot-team/polina/pathway_propagation_validation_v2/gsea_output_spark/Reactome_Pathways_2024/EFO_0000612_ge_mm_gsea_Reactome_Pathways_2024_pval0.05\n"
     ]
    },
    {
     "name": "stderr",
     "output_type": "stream",
     "text": [
      "                                                                                \r"
     ]
    },
    {
     "name": "stdout",
     "output_type": "stream",
     "text": [
      "Saved: gs://ot-team/polina/pathway_propagation_validation_v2/gsea_output_spark/Reactome_Pathways_2024/EFO_0000574_ge_mm_som_gsea_Reactome_Pathways_2024_pval0.05\n"
     ]
    },
    {
     "name": "stderr",
     "output_type": "stream",
     "text": [
      "                                                                                \r"
     ]
    },
    {
     "name": "stdout",
     "output_type": "stream",
     "text": [
      "Saved: gs://ot-team/polina/pathway_propagation_validation_v2/gsea_output_spark/Reactome_Pathways_2024/EFO_0000637_ge_mm_som_gsea_Reactome_Pathways_2024_pval0.05\n"
     ]
    },
    {
     "name": "stderr",
     "output_type": "stream",
     "text": [
      "                                                                                \r"
     ]
    },
    {
     "name": "stdout",
     "output_type": "stream",
     "text": [
      "Saved: gs://ot-team/polina/pathway_propagation_validation_v2/gsea_output_spark/Reactome_Pathways_2024/EFO_0000183_ge_mm_som_gsea_Reactome_Pathways_2024_pval0.05\n"
     ]
    },
    {
     "name": "stderr",
     "output_type": "stream",
     "text": [
      "                                                                                \r"
     ]
    },
    {
     "name": "stdout",
     "output_type": "stream",
     "text": [
      "Saved: gs://ot-team/polina/pathway_propagation_validation_v2/gsea_output_spark/Reactome_Pathways_2024/EFO_0000676_ge_mm_gsea_Reactome_Pathways_2024_pval0.05\n"
     ]
    },
    {
     "name": "stderr",
     "output_type": "stream",
     "text": [
      "                                                                                \r"
     ]
    },
    {
     "name": "stdout",
     "output_type": "stream",
     "text": [
      "Saved: gs://ot-team/polina/pathway_propagation_validation_v2/gsea_output_spark/Reactome_Pathways_2024/EFO_0000685_ge_mm_gsea_Reactome_Pathways_2024_pval0.05\n"
     ]
    },
    {
     "name": "stderr",
     "output_type": "stream",
     "text": [
      "                                                                                \r"
     ]
    },
    {
     "name": "stdout",
     "output_type": "stream",
     "text": [
      "Saved: gs://ot-team/polina/pathway_propagation_validation_v2/gsea_output_spark/Reactome_Pathways_2024/EFO_0000702_ge_mm_som_gsea_Reactome_Pathways_2024_pval0.05\n"
     ]
    },
    {
     "name": "stderr",
     "output_type": "stream",
     "text": [
      "                                                                                \r"
     ]
    },
    {
     "name": "stdout",
     "output_type": "stream",
     "text": [
      "Saved: gs://ot-team/polina/pathway_propagation_validation_v2/gsea_output_spark/Reactome_Pathways_2024/EFO_0000729_ge_mm_gsea_Reactome_Pathways_2024_pval0.05\n"
     ]
    },
    {
     "name": "stderr",
     "output_type": "stream",
     "text": [
      "                                                                                \r"
     ]
    },
    {
     "name": "stdout",
     "output_type": "stream",
     "text": [
      "Saved: gs://ot-team/polina/pathway_propagation_validation_v2/gsea_output_spark/Reactome_Pathways_2024/EFO_0000756_ge_mm_som_gsea_Reactome_Pathways_2024_pval0.05\n"
     ]
    },
    {
     "name": "stderr",
     "output_type": "stream",
     "text": [
      "                                                                                \r"
     ]
    },
    {
     "name": "stdout",
     "output_type": "stream",
     "text": [
      "Saved: gs://ot-team/polina/pathway_propagation_validation_v2/gsea_output_spark/Reactome_Pathways_2024/EFO_0001073_ge_mm_gsea_Reactome_Pathways_2024_pval0.05\n"
     ]
    },
    {
     "name": "stderr",
     "output_type": "stream",
     "text": [
      "                                                                                \r"
     ]
    },
    {
     "name": "stdout",
     "output_type": "stream",
     "text": [
      "Saved: gs://ot-team/polina/pathway_propagation_validation_v2/gsea_output_spark/Reactome_Pathways_2024/EFO_0002429_ge_mm_som_gsea_Reactome_Pathways_2024_pval0.05\n"
     ]
    },
    {
     "name": "stderr",
     "output_type": "stream",
     "text": [
      "                                                                                \r"
     ]
    },
    {
     "name": "stdout",
     "output_type": "stream",
     "text": [
      "Saved: gs://ot-team/polina/pathway_propagation_validation_v2/gsea_output_spark/Reactome_Pathways_2024/EFO_0001378_ge_mm_som_gsea_Reactome_Pathways_2024_pval0.05\n"
     ]
    },
    {
     "name": "stderr",
     "output_type": "stream",
     "text": [
      "                                                                                \r"
     ]
    },
    {
     "name": "stdout",
     "output_type": "stream",
     "text": [
      "Saved: gs://ot-team/polina/pathway_propagation_validation_v2/gsea_output_spark/Reactome_Pathways_2024/EFO_0003060_ge_mm_som_gsea_Reactome_Pathways_2024_pval0.05\n"
     ]
    },
    {
     "name": "stderr",
     "output_type": "stream",
     "text": [
      "                                                                                \r"
     ]
    },
    {
     "name": "stdout",
     "output_type": "stream",
     "text": [
      "Saved: gs://ot-team/polina/pathway_propagation_validation_v2/gsea_output_spark/Reactome_Pathways_2024/EFO_0003144_ge_mm_gsea_Reactome_Pathways_2024_pval0.05\n"
     ]
    },
    {
     "name": "stderr",
     "output_type": "stream",
     "text": [
      "                                                                                \r"
     ]
    },
    {
     "name": "stdout",
     "output_type": "stream",
     "text": [
      "Saved: gs://ot-team/polina/pathway_propagation_validation_v2/gsea_output_spark/Reactome_Pathways_2024/EFO_0003758_ge_mm_gsea_Reactome_Pathways_2024_pval0.05\n"
     ]
    },
    {
     "name": "stderr",
     "output_type": "stream",
     "text": [
      "                                                                                \r"
     ]
    },
    {
     "name": "stdout",
     "output_type": "stream",
     "text": [
      "Saved: gs://ot-team/polina/pathway_propagation_validation_v2/gsea_output_spark/Reactome_Pathways_2024/EFO_0003833_ge_mm_som_gsea_Reactome_Pathways_2024_pval0.05\n"
     ]
    },
    {
     "name": "stderr",
     "output_type": "stream",
     "text": [
      "                                                                                \r"
     ]
    },
    {
     "name": "stdout",
     "output_type": "stream",
     "text": [
      "Saved: gs://ot-team/polina/pathway_propagation_validation_v2/gsea_output_spark/Reactome_Pathways_2024/EFO_0003869_ge_mm_som_gsea_Reactome_Pathways_2024_pval0.05\n"
     ]
    },
    {
     "name": "stderr",
     "output_type": "stream",
     "text": [
      "                                                                                \r"
     ]
    },
    {
     "name": "stdout",
     "output_type": "stream",
     "text": [
      "Saved: gs://ot-team/polina/pathway_propagation_validation_v2/gsea_output_spark/Reactome_Pathways_2024/EFO_0004142_ge_mm_som_gsea_Reactome_Pathways_2024_pval0.05\n"
     ]
    },
    {
     "name": "stderr",
     "output_type": "stream",
     "text": [
      "                                                                                \r"
     ]
    },
    {
     "name": "stdout",
     "output_type": "stream",
     "text": [
      "Saved: gs://ot-team/polina/pathway_propagation_validation_v2/gsea_output_spark/Reactome_Pathways_2024/EFO_0005952_ge_mm_som_gsea_Reactome_Pathways_2024_pval0.05\n"
     ]
    },
    {
     "name": "stderr",
     "output_type": "stream",
     "text": [
      "                                                                                \r"
     ]
    },
    {
     "name": "stdout",
     "output_type": "stream",
     "text": [
      "Saved: gs://ot-team/polina/pathway_propagation_validation_v2/gsea_output_spark/Reactome_Pathways_2024/EFO_0009606_ge_mm_gsea_Reactome_Pathways_2024_pval0.05\n"
     ]
    },
    {
     "name": "stderr",
     "output_type": "stream",
     "text": [
      "                                                                                \r"
     ]
    },
    {
     "name": "stdout",
     "output_type": "stream",
     "text": [
      "Saved: gs://ot-team/polina/pathway_propagation_validation_v2/gsea_output_spark/Reactome_Pathways_2024/EFO_1001901_ge_mm_som_gsea_Reactome_Pathways_2024_pval0.05\n"
     ]
    },
    {
     "name": "stderr",
     "output_type": "stream",
     "text": [
      "                                                                                \r"
     ]
    },
    {
     "name": "stdout",
     "output_type": "stream",
     "text": [
      "Saved: gs://ot-team/polina/pathway_propagation_validation_v2/gsea_output_spark/Reactome_Pathways_2024/MONDO_0001657_ge_mm_som_gsea_Reactome_Pathways_2024_pval0.05\n"
     ]
    },
    {
     "name": "stderr",
     "output_type": "stream",
     "text": [
      "                                                                                \r"
     ]
    },
    {
     "name": "stdout",
     "output_type": "stream",
     "text": [
      "Saved: gs://ot-team/polina/pathway_propagation_validation_v2/gsea_output_spark/Reactome_Pathways_2024/MONDO_0002367_ge_mm_som_gsea_Reactome_Pathways_2024_pval0.05\n"
     ]
    },
    {
     "name": "stderr",
     "output_type": "stream",
     "text": [
      "                                                                                \r"
     ]
    },
    {
     "name": "stdout",
     "output_type": "stream",
     "text": [
      "Saved: gs://ot-team/polina/pathway_propagation_validation_v2/gsea_output_spark/Reactome_Pathways_2024/MONDO_0004975_ge_mm_gsea_Reactome_Pathways_2024_pval0.05\n"
     ]
    },
    {
     "name": "stderr",
     "output_type": "stream",
     "text": [
      "                                                                                \r"
     ]
    },
    {
     "name": "stdout",
     "output_type": "stream",
     "text": [
      "Saved: gs://ot-team/polina/pathway_propagation_validation_v2/gsea_output_spark/Reactome_Pathways_2024/MONDO_0004976_ge_mm_gsea_Reactome_Pathways_2024_pval0.05\n"
     ]
    },
    {
     "name": "stderr",
     "output_type": "stream",
     "text": [
      "                                                                                \r"
     ]
    },
    {
     "name": "stdout",
     "output_type": "stream",
     "text": [
      "Saved: gs://ot-team/polina/pathway_propagation_validation_v2/gsea_output_spark/Reactome_Pathways_2024/MONDO_0004979_ge_mm_gsea_Reactome_Pathways_2024_pval0.05\n"
     ]
    },
    {
     "name": "stderr",
     "output_type": "stream",
     "text": [
      "                                                                                \r"
     ]
    },
    {
     "name": "stdout",
     "output_type": "stream",
     "text": [
      "Saved: gs://ot-team/polina/pathway_propagation_validation_v2/gsea_output_spark/Reactome_Pathways_2024/MONDO_0004985_ge_mm_gsea_Reactome_Pathways_2024_pval0.05\n"
     ]
    },
    {
     "name": "stderr",
     "output_type": "stream",
     "text": [
      "                                                                                \r"
     ]
    },
    {
     "name": "stdout",
     "output_type": "stream",
     "text": [
      "Saved: gs://ot-team/polina/pathway_propagation_validation_v2/gsea_output_spark/Reactome_Pathways_2024/MONDO_0005147_ge_mm_gsea_Reactome_Pathways_2024_pval0.05\n"
     ]
    },
    {
     "name": "stderr",
     "output_type": "stream",
     "text": [
      "                                                                                \r"
     ]
    },
    {
     "name": "stdout",
     "output_type": "stream",
     "text": [
      "Saved: gs://ot-team/polina/pathway_propagation_validation_v2/gsea_output_spark/Reactome_Pathways_2024/MONDO_0005178_ge_mm_gsea_Reactome_Pathways_2024_pval0.05\n"
     ]
    },
    {
     "name": "stderr",
     "output_type": "stream",
     "text": [
      "                                                                                \r"
     ]
    },
    {
     "name": "stdout",
     "output_type": "stream",
     "text": [
      "Saved: gs://ot-team/polina/pathway_propagation_validation_v2/gsea_output_spark/Reactome_Pathways_2024/MONDO_0005180_ge_mm_gsea_Reactome_Pathways_2024_pval0.05\n"
     ]
    },
    {
     "name": "stderr",
     "output_type": "stream",
     "text": [
      "                                                                                \r"
     ]
    },
    {
     "name": "stdout",
     "output_type": "stream",
     "text": [
      "Saved: gs://ot-team/polina/pathway_propagation_validation_v2/gsea_output_spark/Reactome_Pathways_2024/MONDO_0005277_ge_mm_gsea_Reactome_Pathways_2024_pval0.05\n"
     ]
    },
    {
     "name": "stderr",
     "output_type": "stream",
     "text": [
      "                                                                                \r"
     ]
    },
    {
     "name": "stdout",
     "output_type": "stream",
     "text": [
      "Saved: gs://ot-team/polina/pathway_propagation_validation_v2/gsea_output_spark/Reactome_Pathways_2024/MONDO_0005301_ge_mm_gsea_Reactome_Pathways_2024_pval0.05\n"
     ]
    },
    {
     "name": "stderr",
     "output_type": "stream",
     "text": [
      "                                                                                \r"
     ]
    },
    {
     "name": "stdout",
     "output_type": "stream",
     "text": [
      "Saved: gs://ot-team/polina/pathway_propagation_validation_v2/gsea_output_spark/Reactome_Pathways_2024/MONDO_0007915_ge_mm_gsea_Reactome_Pathways_2024_pval0.05\n"
     ]
    },
    {
     "name": "stderr",
     "output_type": "stream",
     "text": [
      "                                                                                \r"
     ]
    },
    {
     "name": "stdout",
     "output_type": "stream",
     "text": [
      "Saved: gs://ot-team/polina/pathway_propagation_validation_v2/gsea_output_spark/Reactome_Pathways_2024/MONDO_0008170_ge_mm_som_gsea_Reactome_Pathways_2024_pval0.05\n"
     ]
    },
    {
     "name": "stderr",
     "output_type": "stream",
     "text": [
      "                                                                                \r"
     ]
    },
    {
     "name": "stdout",
     "output_type": "stream",
     "text": [
      "Saved: gs://ot-team/polina/pathway_propagation_validation_v2/gsea_output_spark/Reactome_Pathways_2024/MONDO_0008315_ge_mm_som_gsea_Reactome_Pathways_2024_pval0.05\n"
     ]
    },
    {
     "name": "stderr",
     "output_type": "stream",
     "text": [
      "                                                                                \r"
     ]
    },
    {
     "name": "stdout",
     "output_type": "stream",
     "text": [
      "Saved: gs://ot-team/polina/pathway_propagation_validation_v2/gsea_output_spark/Reactome_Pathways_2024/MONDO_0011719_ge_mm_som_gsea_Reactome_Pathways_2024_pval0.05\n"
     ]
    }
   ],
   "source": [
    "calculate_propagated_targets_with_terms(\n",
    "    input_gcs_dir = \"gs://ot-team/polina/pathway_propagation_validation_v2/gsea_output\", \n",
    "    output_gcs_dir = \"gs://ot-team/polina/pathway_propagation_validation_v2/gsea_output_spark\", \n",
    "    folders_to_process = [\"Reactome_Pathways_2024\"], \n",
    "    target_table = target_names\n",
    ")"
   ]
  },
  {
   "cell_type": "code",
   "execution_count": 8,
   "id": "4f35b93e",
   "metadata": {},
   "outputs": [
    {
     "name": "stderr",
     "output_type": "stream",
     "text": [
      "                                                                                \r"
     ]
    },
    {
     "name": "stdout",
     "output_type": "stream",
     "text": [
      "Saved: gs://ot-team/polina/pathway_propagation_validation_v2/gsea_output_spark/WikiPathways_2024_Human/EFO_0000095_ge_mm_som_gsea_WikiPathways_2024_Human_pval0.05\n"
     ]
    },
    {
     "name": "stderr",
     "output_type": "stream",
     "text": [
      "                                                                                \r"
     ]
    },
    {
     "name": "stdout",
     "output_type": "stream",
     "text": [
      "Saved: gs://ot-team/polina/pathway_propagation_validation_v2/gsea_output_spark/WikiPathways_2024_Human/EFO_0000222_ge_mm_som_gsea_WikiPathways_2024_Human_pval0.05\n"
     ]
    },
    {
     "name": "stderr",
     "output_type": "stream",
     "text": [
      "                                                                                \r"
     ]
    },
    {
     "name": "stdout",
     "output_type": "stream",
     "text": [
      "Saved: gs://ot-team/polina/pathway_propagation_validation_v2/gsea_output_spark/WikiPathways_2024_Human/EFO_0000183_ge_mm_som_gsea_WikiPathways_2024_Human_pval0.05\n"
     ]
    },
    {
     "name": "stderr",
     "output_type": "stream",
     "text": [
      "                                                                                \r"
     ]
    },
    {
     "name": "stdout",
     "output_type": "stream",
     "text": [
      "Saved: gs://ot-team/polina/pathway_propagation_validation_v2/gsea_output_spark/WikiPathways_2024_Human/EFO_0000274_ge_mm_gsea_WikiPathways_2024_Human_pval0.05\n"
     ]
    },
    {
     "name": "stderr",
     "output_type": "stream",
     "text": [
      "                                                                                \r"
     ]
    },
    {
     "name": "stdout",
     "output_type": "stream",
     "text": [
      "Saved: gs://ot-team/polina/pathway_propagation_validation_v2/gsea_output_spark/WikiPathways_2024_Human/EFO_0000341_ge_mm_gsea_WikiPathways_2024_Human_pval0.05\n"
     ]
    },
    {
     "name": "stderr",
     "output_type": "stream",
     "text": [
      "                                                                                \r"
     ]
    },
    {
     "name": "stdout",
     "output_type": "stream",
     "text": [
      "Saved: gs://ot-team/polina/pathway_propagation_validation_v2/gsea_output_spark/WikiPathways_2024_Human/EFO_0000275_ge_mm_gsea_WikiPathways_2024_Human_pval0.05\n"
     ]
    },
    {
     "name": "stderr",
     "output_type": "stream",
     "text": [
      "                                                                                \r"
     ]
    },
    {
     "name": "stdout",
     "output_type": "stream",
     "text": [
      "Saved: gs://ot-team/polina/pathway_propagation_validation_v2/gsea_output_spark/WikiPathways_2024_Human/EFO_0000384_ge_mm_gsea_WikiPathways_2024_Human_pval0.05\n"
     ]
    },
    {
     "name": "stderr",
     "output_type": "stream",
     "text": [
      "                                                                                \r"
     ]
    },
    {
     "name": "stdout",
     "output_type": "stream",
     "text": [
      "Saved: gs://ot-team/polina/pathway_propagation_validation_v2/gsea_output_spark/WikiPathways_2024_Human/EFO_0000474_ge_mm_gsea_WikiPathways_2024_Human_pval0.05\n"
     ]
    },
    {
     "name": "stderr",
     "output_type": "stream",
     "text": [
      "                                                                                \r"
     ]
    },
    {
     "name": "stdout",
     "output_type": "stream",
     "text": [
      "Saved: gs://ot-team/polina/pathway_propagation_validation_v2/gsea_output_spark/WikiPathways_2024_Human/EFO_0000403_ge_mm_som_gsea_WikiPathways_2024_Human_pval0.05\n"
     ]
    },
    {
     "name": "stderr",
     "output_type": "stream",
     "text": [
      "                                                                                \r"
     ]
    },
    {
     "name": "stdout",
     "output_type": "stream",
     "text": [
      "Saved: gs://ot-team/polina/pathway_propagation_validation_v2/gsea_output_spark/WikiPathways_2024_Human/EFO_0000519_ge_mm_som_gsea_WikiPathways_2024_Human_pval0.05\n"
     ]
    },
    {
     "name": "stderr",
     "output_type": "stream",
     "text": [
      "                                                                                \r"
     ]
    },
    {
     "name": "stdout",
     "output_type": "stream",
     "text": [
      "Saved: gs://ot-team/polina/pathway_propagation_validation_v2/gsea_output_spark/WikiPathways_2024_Human/EFO_0000565_ge_mm_som_gsea_WikiPathways_2024_Human_pval0.05\n"
     ]
    },
    {
     "name": "stderr",
     "output_type": "stream",
     "text": [
      "                                                                                \r"
     ]
    },
    {
     "name": "stdout",
     "output_type": "stream",
     "text": [
      "Saved: gs://ot-team/polina/pathway_propagation_validation_v2/gsea_output_spark/WikiPathways_2024_Human/EFO_0000574_ge_mm_som_gsea_WikiPathways_2024_Human_pval0.05\n"
     ]
    },
    {
     "name": "stderr",
     "output_type": "stream",
     "text": [
      "                                                                                \r"
     ]
    },
    {
     "name": "stdout",
     "output_type": "stream",
     "text": [
      "Saved: gs://ot-team/polina/pathway_propagation_validation_v2/gsea_output_spark/WikiPathways_2024_Human/EFO_0000612_ge_mm_gsea_WikiPathways_2024_Human_pval0.05\n"
     ]
    },
    {
     "name": "stderr",
     "output_type": "stream",
     "text": [
      "                                                                                \r"
     ]
    },
    {
     "name": "stdout",
     "output_type": "stream",
     "text": [
      "Saved: gs://ot-team/polina/pathway_propagation_validation_v2/gsea_output_spark/WikiPathways_2024_Human/EFO_0000637_ge_mm_som_gsea_WikiPathways_2024_Human_pval0.05\n"
     ]
    },
    {
     "name": "stderr",
     "output_type": "stream",
     "text": [
      "                                                                                \r"
     ]
    },
    {
     "name": "stdout",
     "output_type": "stream",
     "text": [
      "Saved: gs://ot-team/polina/pathway_propagation_validation_v2/gsea_output_spark/WikiPathways_2024_Human/EFO_0000676_ge_mm_gsea_WikiPathways_2024_Human_pval0.05\n"
     ]
    },
    {
     "name": "stderr",
     "output_type": "stream",
     "text": [
      "                                                                                \r"
     ]
    },
    {
     "name": "stdout",
     "output_type": "stream",
     "text": [
      "Saved: gs://ot-team/polina/pathway_propagation_validation_v2/gsea_output_spark/WikiPathways_2024_Human/EFO_0000685_ge_mm_gsea_WikiPathways_2024_Human_pval0.05\n"
     ]
    },
    {
     "name": "stderr",
     "output_type": "stream",
     "text": [
      "                                                                                \r"
     ]
    },
    {
     "name": "stdout",
     "output_type": "stream",
     "text": [
      "Saved: gs://ot-team/polina/pathway_propagation_validation_v2/gsea_output_spark/WikiPathways_2024_Human/EFO_0000702_ge_mm_som_gsea_WikiPathways_2024_Human_pval0.05\n"
     ]
    },
    {
     "name": "stderr",
     "output_type": "stream",
     "text": [
      "                                                                                \r"
     ]
    },
    {
     "name": "stdout",
     "output_type": "stream",
     "text": [
      "Saved: gs://ot-team/polina/pathway_propagation_validation_v2/gsea_output_spark/WikiPathways_2024_Human/EFO_0000729_ge_mm_gsea_WikiPathways_2024_Human_pval0.05\n"
     ]
    },
    {
     "name": "stderr",
     "output_type": "stream",
     "text": [
      "                                                                                \r"
     ]
    },
    {
     "name": "stdout",
     "output_type": "stream",
     "text": [
      "Saved: gs://ot-team/polina/pathway_propagation_validation_v2/gsea_output_spark/WikiPathways_2024_Human/EFO_0001073_ge_mm_gsea_WikiPathways_2024_Human_pval0.05\n"
     ]
    },
    {
     "name": "stderr",
     "output_type": "stream",
     "text": [
      "                                                                                \r"
     ]
    },
    {
     "name": "stdout",
     "output_type": "stream",
     "text": [
      "Saved: gs://ot-team/polina/pathway_propagation_validation_v2/gsea_output_spark/WikiPathways_2024_Human/EFO_0001378_ge_mm_som_gsea_WikiPathways_2024_Human_pval0.05\n"
     ]
    },
    {
     "name": "stderr",
     "output_type": "stream",
     "text": [
      "                                                                                \r"
     ]
    },
    {
     "name": "stdout",
     "output_type": "stream",
     "text": [
      "Saved: gs://ot-team/polina/pathway_propagation_validation_v2/gsea_output_spark/WikiPathways_2024_Human/EFO_0002429_ge_mm_som_gsea_WikiPathways_2024_Human_pval0.05\n"
     ]
    },
    {
     "name": "stderr",
     "output_type": "stream",
     "text": [
      "                                                                                \r"
     ]
    },
    {
     "name": "stdout",
     "output_type": "stream",
     "text": [
      "Saved: gs://ot-team/polina/pathway_propagation_validation_v2/gsea_output_spark/WikiPathways_2024_Human/EFO_0003060_ge_mm_som_gsea_WikiPathways_2024_Human_pval0.05\n"
     ]
    },
    {
     "name": "stderr",
     "output_type": "stream",
     "text": [
      "                                                                                \r"
     ]
    },
    {
     "name": "stdout",
     "output_type": "stream",
     "text": [
      "Saved: gs://ot-team/polina/pathway_propagation_validation_v2/gsea_output_spark/WikiPathways_2024_Human/EFO_0003144_ge_mm_gsea_WikiPathways_2024_Human_pval0.05\n"
     ]
    },
    {
     "name": "stderr",
     "output_type": "stream",
     "text": [
      "                                                                                \r"
     ]
    },
    {
     "name": "stdout",
     "output_type": "stream",
     "text": [
      "Saved: gs://ot-team/polina/pathway_propagation_validation_v2/gsea_output_spark/WikiPathways_2024_Human/EFO_0003758_ge_mm_gsea_WikiPathways_2024_Human_pval0.05\n"
     ]
    },
    {
     "name": "stderr",
     "output_type": "stream",
     "text": [
      "                                                                                \r"
     ]
    },
    {
     "name": "stdout",
     "output_type": "stream",
     "text": [
      "Saved: gs://ot-team/polina/pathway_propagation_validation_v2/gsea_output_spark/WikiPathways_2024_Human/EFO_0003833_ge_mm_som_gsea_WikiPathways_2024_Human_pval0.05\n"
     ]
    },
    {
     "name": "stderr",
     "output_type": "stream",
     "text": [
      "                                                                                \r"
     ]
    },
    {
     "name": "stdout",
     "output_type": "stream",
     "text": [
      "Saved: gs://ot-team/polina/pathway_propagation_validation_v2/gsea_output_spark/WikiPathways_2024_Human/EFO_0003869_ge_mm_som_gsea_WikiPathways_2024_Human_pval0.05\n"
     ]
    },
    {
     "name": "stderr",
     "output_type": "stream",
     "text": [
      "                                                                                \r"
     ]
    },
    {
     "name": "stdout",
     "output_type": "stream",
     "text": [
      "Saved: gs://ot-team/polina/pathway_propagation_validation_v2/gsea_output_spark/WikiPathways_2024_Human/EFO_0004142_ge_mm_som_gsea_WikiPathways_2024_Human_pval0.05\n"
     ]
    },
    {
     "name": "stderr",
     "output_type": "stream",
     "text": [
      "                                                                                \r"
     ]
    },
    {
     "name": "stdout",
     "output_type": "stream",
     "text": [
      "Saved: gs://ot-team/polina/pathway_propagation_validation_v2/gsea_output_spark/WikiPathways_2024_Human/EFO_0005952_ge_mm_som_gsea_WikiPathways_2024_Human_pval0.05\n"
     ]
    },
    {
     "name": "stderr",
     "output_type": "stream",
     "text": [
      "                                                                                \r"
     ]
    },
    {
     "name": "stdout",
     "output_type": "stream",
     "text": [
      "Saved: gs://ot-team/polina/pathway_propagation_validation_v2/gsea_output_spark/WikiPathways_2024_Human/EFO_0009606_ge_mm_gsea_WikiPathways_2024_Human_pval0.05\n"
     ]
    },
    {
     "name": "stderr",
     "output_type": "stream",
     "text": [
      "                                                                                \r"
     ]
    },
    {
     "name": "stdout",
     "output_type": "stream",
     "text": [
      "Saved: gs://ot-team/polina/pathway_propagation_validation_v2/gsea_output_spark/WikiPathways_2024_Human/EFO_1001231_ge_mm_gsea_WikiPathways_2024_Human_pval0.05\n"
     ]
    },
    {
     "name": "stderr",
     "output_type": "stream",
     "text": [
      "                                                                                \r"
     ]
    },
    {
     "name": "stdout",
     "output_type": "stream",
     "text": [
      "Saved: gs://ot-team/polina/pathway_propagation_validation_v2/gsea_output_spark/WikiPathways_2024_Human/EFO_1001901_ge_mm_som_gsea_WikiPathways_2024_Human_pval0.05\n"
     ]
    },
    {
     "name": "stderr",
     "output_type": "stream",
     "text": [
      "                                                                                \r"
     ]
    },
    {
     "name": "stdout",
     "output_type": "stream",
     "text": [
      "Saved: gs://ot-team/polina/pathway_propagation_validation_v2/gsea_output_spark/WikiPathways_2024_Human/MONDO_0001657_ge_mm_som_gsea_WikiPathways_2024_Human_pval0.05\n"
     ]
    },
    {
     "name": "stderr",
     "output_type": "stream",
     "text": [
      "                                                                                \r"
     ]
    },
    {
     "name": "stdout",
     "output_type": "stream",
     "text": [
      "Saved: gs://ot-team/polina/pathway_propagation_validation_v2/gsea_output_spark/WikiPathways_2024_Human/MONDO_0002367_ge_mm_som_gsea_WikiPathways_2024_Human_pval0.05\n"
     ]
    },
    {
     "name": "stderr",
     "output_type": "stream",
     "text": [
      "                                                                                \r"
     ]
    },
    {
     "name": "stdout",
     "output_type": "stream",
     "text": [
      "Saved: gs://ot-team/polina/pathway_propagation_validation_v2/gsea_output_spark/WikiPathways_2024_Human/MONDO_0004975_ge_mm_gsea_WikiPathways_2024_Human_pval0.05\n"
     ]
    },
    {
     "name": "stderr",
     "output_type": "stream",
     "text": [
      "                                                                                \r"
     ]
    },
    {
     "name": "stdout",
     "output_type": "stream",
     "text": [
      "Saved: gs://ot-team/polina/pathway_propagation_validation_v2/gsea_output_spark/WikiPathways_2024_Human/MONDO_0004976_ge_mm_gsea_WikiPathways_2024_Human_pval0.05\n"
     ]
    },
    {
     "name": "stderr",
     "output_type": "stream",
     "text": [
      "                                                                                \r"
     ]
    },
    {
     "name": "stdout",
     "output_type": "stream",
     "text": [
      "Saved: gs://ot-team/polina/pathway_propagation_validation_v2/gsea_output_spark/WikiPathways_2024_Human/MONDO_0004979_ge_mm_gsea_WikiPathways_2024_Human_pval0.05\n"
     ]
    },
    {
     "name": "stderr",
     "output_type": "stream",
     "text": [
      "                                                                                \r"
     ]
    },
    {
     "name": "stdout",
     "output_type": "stream",
     "text": [
      "Saved: gs://ot-team/polina/pathway_propagation_validation_v2/gsea_output_spark/WikiPathways_2024_Human/MONDO_0004985_ge_mm_gsea_WikiPathways_2024_Human_pval0.05\n"
     ]
    },
    {
     "name": "stderr",
     "output_type": "stream",
     "text": [
      "                                                                                \r"
     ]
    },
    {
     "name": "stdout",
     "output_type": "stream",
     "text": [
      "Saved: gs://ot-team/polina/pathway_propagation_validation_v2/gsea_output_spark/WikiPathways_2024_Human/MONDO_0005147_ge_mm_gsea_WikiPathways_2024_Human_pval0.05\n"
     ]
    },
    {
     "name": "stderr",
     "output_type": "stream",
     "text": [
      "                                                                                \r"
     ]
    },
    {
     "name": "stdout",
     "output_type": "stream",
     "text": [
      "Saved: gs://ot-team/polina/pathway_propagation_validation_v2/gsea_output_spark/WikiPathways_2024_Human/MONDO_0005178_ge_mm_gsea_WikiPathways_2024_Human_pval0.05\n"
     ]
    },
    {
     "name": "stderr",
     "output_type": "stream",
     "text": [
      "                                                                                \r"
     ]
    },
    {
     "name": "stdout",
     "output_type": "stream",
     "text": [
      "Saved: gs://ot-team/polina/pathway_propagation_validation_v2/gsea_output_spark/WikiPathways_2024_Human/MONDO_0005180_ge_mm_gsea_WikiPathways_2024_Human_pval0.05\n"
     ]
    },
    {
     "name": "stderr",
     "output_type": "stream",
     "text": [
      "                                                                                \r"
     ]
    },
    {
     "name": "stdout",
     "output_type": "stream",
     "text": [
      "Saved: gs://ot-team/polina/pathway_propagation_validation_v2/gsea_output_spark/WikiPathways_2024_Human/MONDO_0005277_ge_mm_gsea_WikiPathways_2024_Human_pval0.05\n"
     ]
    },
    {
     "name": "stderr",
     "output_type": "stream",
     "text": [
      "                                                                                \r"
     ]
    },
    {
     "name": "stdout",
     "output_type": "stream",
     "text": [
      "Saved: gs://ot-team/polina/pathway_propagation_validation_v2/gsea_output_spark/WikiPathways_2024_Human/MONDO_0005301_ge_mm_gsea_WikiPathways_2024_Human_pval0.05\n"
     ]
    },
    {
     "name": "stderr",
     "output_type": "stream",
     "text": [
      "                                                                                \r"
     ]
    },
    {
     "name": "stdout",
     "output_type": "stream",
     "text": [
      "Saved: gs://ot-team/polina/pathway_propagation_validation_v2/gsea_output_spark/WikiPathways_2024_Human/MONDO_0007915_ge_mm_gsea_WikiPathways_2024_Human_pval0.05\n"
     ]
    },
    {
     "name": "stderr",
     "output_type": "stream",
     "text": [
      "                                                                                \r"
     ]
    },
    {
     "name": "stdout",
     "output_type": "stream",
     "text": [
      "Saved: gs://ot-team/polina/pathway_propagation_validation_v2/gsea_output_spark/WikiPathways_2024_Human/MONDO_0008170_ge_mm_som_gsea_WikiPathways_2024_Human_pval0.05\n"
     ]
    },
    {
     "name": "stderr",
     "output_type": "stream",
     "text": [
      "                                                                                \r"
     ]
    },
    {
     "name": "stdout",
     "output_type": "stream",
     "text": [
      "Saved: gs://ot-team/polina/pathway_propagation_validation_v2/gsea_output_spark/WikiPathways_2024_Human/MONDO_0008315_ge_mm_som_gsea_WikiPathways_2024_Human_pval0.05\n"
     ]
    },
    {
     "name": "stderr",
     "output_type": "stream",
     "text": [
      "                                                                                \r"
     ]
    },
    {
     "name": "stdout",
     "output_type": "stream",
     "text": [
      "Saved: gs://ot-team/polina/pathway_propagation_validation_v2/gsea_output_spark/WikiPathways_2024_Human/MONDO_0011719_ge_mm_som_gsea_WikiPathways_2024_Human_pval0.05\n"
     ]
    },
    {
     "name": "stderr",
     "output_type": "stream",
     "text": [
      "                                                                                \r"
     ]
    },
    {
     "name": "stdout",
     "output_type": "stream",
     "text": [
      "Saved: gs://ot-team/polina/pathway_propagation_validation_v2/gsea_output_spark/WikiPathways_2024_Human/EFO_0000756_ge_mm_som_gsea_WikiPathways_2024_Human_pval0.05\n"
     ]
    }
   ],
   "source": [
    "calculate_propagated_targets_with_terms(\n",
    "    input_gcs_dir = \"gs://ot-team/polina/pathway_propagation_validation_v2/gsea_output\", \n",
    "    output_gcs_dir = \"gs://ot-team/polina/pathway_propagation_validation_v2/gsea_output_spark\", \n",
    "    folders_to_process = [\"WikiPathways_2024_Human\"], \n",
    "    target_table = target_names\n",
    ")"
   ]
  },
  {
   "cell_type": "code",
   "execution_count": 9,
   "id": "8f6f592c",
   "metadata": {},
   "outputs": [
    {
     "name": "stderr",
     "output_type": "stream",
     "text": [
      "                                                                                \r"
     ]
    },
    {
     "name": "stdout",
     "output_type": "stream",
     "text": [
      "Saved: gs://ot-team/polina/pathway_propagation_validation_v2/gsea_output_spark/GO_Biological_Process_2023/EFO_0000095_ge_mm_som_gsea_GO_Biological_Process_2023_pval0.05\n"
     ]
    },
    {
     "name": "stderr",
     "output_type": "stream",
     "text": [
      "                                                                                \r"
     ]
    },
    {
     "name": "stdout",
     "output_type": "stream",
     "text": [
      "Saved: gs://ot-team/polina/pathway_propagation_validation_v2/gsea_output_spark/GO_Biological_Process_2023/EFO_0000183_ge_mm_som_gsea_GO_Biological_Process_2023_pval0.05\n"
     ]
    },
    {
     "name": "stderr",
     "output_type": "stream",
     "text": [
      "                                                                                \r"
     ]
    },
    {
     "name": "stdout",
     "output_type": "stream",
     "text": [
      "Saved: gs://ot-team/polina/pathway_propagation_validation_v2/gsea_output_spark/GO_Biological_Process_2023/EFO_0000222_ge_mm_som_gsea_GO_Biological_Process_2023_pval0.05\n"
     ]
    },
    {
     "name": "stderr",
     "output_type": "stream",
     "text": [
      "                                                                                \r"
     ]
    },
    {
     "name": "stdout",
     "output_type": "stream",
     "text": [
      "Saved: gs://ot-team/polina/pathway_propagation_validation_v2/gsea_output_spark/GO_Biological_Process_2023/EFO_0000274_ge_mm_gsea_GO_Biological_Process_2023_pval0.05\n"
     ]
    },
    {
     "name": "stderr",
     "output_type": "stream",
     "text": [
      "                                                                                \r"
     ]
    },
    {
     "name": "stdout",
     "output_type": "stream",
     "text": [
      "Saved: gs://ot-team/polina/pathway_propagation_validation_v2/gsea_output_spark/GO_Biological_Process_2023/EFO_0000275_ge_mm_gsea_GO_Biological_Process_2023_pval0.05\n"
     ]
    },
    {
     "name": "stderr",
     "output_type": "stream",
     "text": [
      "                                                                                \r"
     ]
    },
    {
     "name": "stdout",
     "output_type": "stream",
     "text": [
      "Saved: gs://ot-team/polina/pathway_propagation_validation_v2/gsea_output_spark/GO_Biological_Process_2023/EFO_0000341_ge_mm_gsea_GO_Biological_Process_2023_pval0.05\n"
     ]
    },
    {
     "name": "stderr",
     "output_type": "stream",
     "text": [
      "                                                                                \r"
     ]
    },
    {
     "name": "stdout",
     "output_type": "stream",
     "text": [
      "Saved: gs://ot-team/polina/pathway_propagation_validation_v2/gsea_output_spark/GO_Biological_Process_2023/EFO_0000384_ge_mm_gsea_GO_Biological_Process_2023_pval0.05\n"
     ]
    },
    {
     "name": "stderr",
     "output_type": "stream",
     "text": [
      "                                                                                \r"
     ]
    },
    {
     "name": "stdout",
     "output_type": "stream",
     "text": [
      "Saved: gs://ot-team/polina/pathway_propagation_validation_v2/gsea_output_spark/GO_Biological_Process_2023/EFO_0000403_ge_mm_som_gsea_GO_Biological_Process_2023_pval0.05\n"
     ]
    },
    {
     "name": "stderr",
     "output_type": "stream",
     "text": [
      "                                                                                \r"
     ]
    },
    {
     "name": "stdout",
     "output_type": "stream",
     "text": [
      "Saved: gs://ot-team/polina/pathway_propagation_validation_v2/gsea_output_spark/GO_Biological_Process_2023/EFO_0000474_ge_mm_gsea_GO_Biological_Process_2023_pval0.05\n"
     ]
    },
    {
     "name": "stderr",
     "output_type": "stream",
     "text": [
      "                                                                                \r"
     ]
    },
    {
     "name": "stdout",
     "output_type": "stream",
     "text": [
      "Saved: gs://ot-team/polina/pathway_propagation_validation_v2/gsea_output_spark/GO_Biological_Process_2023/EFO_0000519_ge_mm_som_gsea_GO_Biological_Process_2023_pval0.05\n"
     ]
    },
    {
     "name": "stderr",
     "output_type": "stream",
     "text": [
      "                                                                                \r"
     ]
    },
    {
     "name": "stdout",
     "output_type": "stream",
     "text": [
      "Saved: gs://ot-team/polina/pathway_propagation_validation_v2/gsea_output_spark/GO_Biological_Process_2023/EFO_0000565_ge_mm_som_gsea_GO_Biological_Process_2023_pval0.05\n"
     ]
    },
    {
     "name": "stderr",
     "output_type": "stream",
     "text": [
      "                                                                                \r"
     ]
    },
    {
     "name": "stdout",
     "output_type": "stream",
     "text": [
      "Saved: gs://ot-team/polina/pathway_propagation_validation_v2/gsea_output_spark/GO_Biological_Process_2023/EFO_0000574_ge_mm_som_gsea_GO_Biological_Process_2023_pval0.05\n"
     ]
    },
    {
     "name": "stderr",
     "output_type": "stream",
     "text": [
      "                                                                                \r"
     ]
    },
    {
     "name": "stdout",
     "output_type": "stream",
     "text": [
      "Saved: gs://ot-team/polina/pathway_propagation_validation_v2/gsea_output_spark/GO_Biological_Process_2023/EFO_0000612_ge_mm_gsea_GO_Biological_Process_2023_pval0.05\n"
     ]
    },
    {
     "name": "stderr",
     "output_type": "stream",
     "text": [
      "                                                                                \r"
     ]
    },
    {
     "name": "stdout",
     "output_type": "stream",
     "text": [
      "Saved: gs://ot-team/polina/pathway_propagation_validation_v2/gsea_output_spark/GO_Biological_Process_2023/EFO_0000637_ge_mm_som_gsea_GO_Biological_Process_2023_pval0.05\n"
     ]
    },
    {
     "name": "stderr",
     "output_type": "stream",
     "text": [
      "                                                                                \r"
     ]
    },
    {
     "name": "stdout",
     "output_type": "stream",
     "text": [
      "Saved: gs://ot-team/polina/pathway_propagation_validation_v2/gsea_output_spark/GO_Biological_Process_2023/EFO_0000676_ge_mm_gsea_GO_Biological_Process_2023_pval0.05\n"
     ]
    },
    {
     "name": "stderr",
     "output_type": "stream",
     "text": [
      "                                                                                \r"
     ]
    },
    {
     "name": "stdout",
     "output_type": "stream",
     "text": [
      "Saved: gs://ot-team/polina/pathway_propagation_validation_v2/gsea_output_spark/GO_Biological_Process_2023/EFO_0000685_ge_mm_gsea_GO_Biological_Process_2023_pval0.05\n"
     ]
    },
    {
     "name": "stderr",
     "output_type": "stream",
     "text": [
      "                                                                                \r"
     ]
    },
    {
     "name": "stdout",
     "output_type": "stream",
     "text": [
      "Saved: gs://ot-team/polina/pathway_propagation_validation_v2/gsea_output_spark/GO_Biological_Process_2023/EFO_0000702_ge_mm_som_gsea_GO_Biological_Process_2023_pval0.05\n"
     ]
    },
    {
     "name": "stderr",
     "output_type": "stream",
     "text": [
      "                                                                                \r"
     ]
    },
    {
     "name": "stdout",
     "output_type": "stream",
     "text": [
      "Saved: gs://ot-team/polina/pathway_propagation_validation_v2/gsea_output_spark/GO_Biological_Process_2023/EFO_0000729_ge_mm_gsea_GO_Biological_Process_2023_pval0.05\n"
     ]
    },
    {
     "name": "stderr",
     "output_type": "stream",
     "text": [
      "                                                                                \r"
     ]
    },
    {
     "name": "stdout",
     "output_type": "stream",
     "text": [
      "Saved: gs://ot-team/polina/pathway_propagation_validation_v2/gsea_output_spark/GO_Biological_Process_2023/EFO_0001073_ge_mm_gsea_GO_Biological_Process_2023_pval0.05\n"
     ]
    },
    {
     "name": "stderr",
     "output_type": "stream",
     "text": [
      "                                                                                \r"
     ]
    },
    {
     "name": "stdout",
     "output_type": "stream",
     "text": [
      "Saved: gs://ot-team/polina/pathway_propagation_validation_v2/gsea_output_spark/GO_Biological_Process_2023/EFO_0001378_ge_mm_som_gsea_GO_Biological_Process_2023_pval0.05\n"
     ]
    },
    {
     "name": "stderr",
     "output_type": "stream",
     "text": [
      "                                                                                \r"
     ]
    },
    {
     "name": "stdout",
     "output_type": "stream",
     "text": [
      "Saved: gs://ot-team/polina/pathway_propagation_validation_v2/gsea_output_spark/GO_Biological_Process_2023/EFO_0002429_ge_mm_som_gsea_GO_Biological_Process_2023_pval0.05\n"
     ]
    },
    {
     "name": "stderr",
     "output_type": "stream",
     "text": [
      "                                                                                \r"
     ]
    },
    {
     "name": "stdout",
     "output_type": "stream",
     "text": [
      "Saved: gs://ot-team/polina/pathway_propagation_validation_v2/gsea_output_spark/GO_Biological_Process_2023/EFO_0003060_ge_mm_som_gsea_GO_Biological_Process_2023_pval0.05\n"
     ]
    },
    {
     "name": "stderr",
     "output_type": "stream",
     "text": [
      "                                                                                \r"
     ]
    },
    {
     "name": "stdout",
     "output_type": "stream",
     "text": [
      "Saved: gs://ot-team/polina/pathway_propagation_validation_v2/gsea_output_spark/GO_Biological_Process_2023/EFO_0003144_ge_mm_gsea_GO_Biological_Process_2023_pval0.05\n"
     ]
    },
    {
     "name": "stderr",
     "output_type": "stream",
     "text": [
      "                                                                                \r"
     ]
    },
    {
     "name": "stdout",
     "output_type": "stream",
     "text": [
      "Saved: gs://ot-team/polina/pathway_propagation_validation_v2/gsea_output_spark/GO_Biological_Process_2023/EFO_0003758_ge_mm_gsea_GO_Biological_Process_2023_pval0.05\n"
     ]
    },
    {
     "name": "stderr",
     "output_type": "stream",
     "text": [
      "                                                                                \r"
     ]
    },
    {
     "name": "stdout",
     "output_type": "stream",
     "text": [
      "Saved: gs://ot-team/polina/pathway_propagation_validation_v2/gsea_output_spark/GO_Biological_Process_2023/EFO_0003833_ge_mm_som_gsea_GO_Biological_Process_2023_pval0.05\n"
     ]
    },
    {
     "name": "stderr",
     "output_type": "stream",
     "text": [
      "                                                                                \r"
     ]
    },
    {
     "name": "stdout",
     "output_type": "stream",
     "text": [
      "Saved: gs://ot-team/polina/pathway_propagation_validation_v2/gsea_output_spark/GO_Biological_Process_2023/EFO_0004142_ge_mm_som_gsea_GO_Biological_Process_2023_pval0.05\n"
     ]
    },
    {
     "name": "stderr",
     "output_type": "stream",
     "text": [
      "                                                                                \r"
     ]
    },
    {
     "name": "stdout",
     "output_type": "stream",
     "text": [
      "Saved: gs://ot-team/polina/pathway_propagation_validation_v2/gsea_output_spark/GO_Biological_Process_2023/EFO_0003869_ge_mm_som_gsea_GO_Biological_Process_2023_pval0.05\n"
     ]
    },
    {
     "name": "stderr",
     "output_type": "stream",
     "text": [
      "                                                                                \r"
     ]
    },
    {
     "name": "stdout",
     "output_type": "stream",
     "text": [
      "Saved: gs://ot-team/polina/pathway_propagation_validation_v2/gsea_output_spark/GO_Biological_Process_2023/EFO_0005952_ge_mm_som_gsea_GO_Biological_Process_2023_pval0.05\n"
     ]
    },
    {
     "name": "stderr",
     "output_type": "stream",
     "text": [
      "                                                                                \r"
     ]
    },
    {
     "name": "stdout",
     "output_type": "stream",
     "text": [
      "Saved: gs://ot-team/polina/pathway_propagation_validation_v2/gsea_output_spark/GO_Biological_Process_2023/EFO_1001231_ge_mm_gsea_GO_Biological_Process_2023_pval0.05\n"
     ]
    },
    {
     "name": "stderr",
     "output_type": "stream",
     "text": [
      "                                                                                \r"
     ]
    },
    {
     "name": "stdout",
     "output_type": "stream",
     "text": [
      "Saved: gs://ot-team/polina/pathway_propagation_validation_v2/gsea_output_spark/GO_Biological_Process_2023/EFO_0009606_ge_mm_gsea_GO_Biological_Process_2023_pval0.05\n"
     ]
    },
    {
     "name": "stderr",
     "output_type": "stream",
     "text": [
      "                                                                                \r"
     ]
    },
    {
     "name": "stdout",
     "output_type": "stream",
     "text": [
      "Saved: gs://ot-team/polina/pathway_propagation_validation_v2/gsea_output_spark/GO_Biological_Process_2023/EFO_1001901_ge_mm_som_gsea_GO_Biological_Process_2023_pval0.05\n"
     ]
    },
    {
     "name": "stderr",
     "output_type": "stream",
     "text": [
      "                                                                                \r"
     ]
    },
    {
     "name": "stdout",
     "output_type": "stream",
     "text": [
      "Saved: gs://ot-team/polina/pathway_propagation_validation_v2/gsea_output_spark/GO_Biological_Process_2023/MONDO_0001657_ge_mm_som_gsea_GO_Biological_Process_2023_pval0.05\n"
     ]
    },
    {
     "name": "stderr",
     "output_type": "stream",
     "text": [
      "                                                                                \r"
     ]
    },
    {
     "name": "stdout",
     "output_type": "stream",
     "text": [
      "Saved: gs://ot-team/polina/pathway_propagation_validation_v2/gsea_output_spark/GO_Biological_Process_2023/MONDO_0002367_ge_mm_som_gsea_GO_Biological_Process_2023_pval0.05\n"
     ]
    },
    {
     "name": "stderr",
     "output_type": "stream",
     "text": [
      "                                                                                \r"
     ]
    },
    {
     "name": "stdout",
     "output_type": "stream",
     "text": [
      "Saved: gs://ot-team/polina/pathway_propagation_validation_v2/gsea_output_spark/GO_Biological_Process_2023/MONDO_0004975_ge_mm_gsea_GO_Biological_Process_2023_pval0.05\n"
     ]
    },
    {
     "name": "stderr",
     "output_type": "stream",
     "text": [
      "                                                                                \r"
     ]
    },
    {
     "name": "stdout",
     "output_type": "stream",
     "text": [
      "Saved: gs://ot-team/polina/pathway_propagation_validation_v2/gsea_output_spark/GO_Biological_Process_2023/MONDO_0004976_ge_mm_gsea_GO_Biological_Process_2023_pval0.05\n"
     ]
    },
    {
     "name": "stderr",
     "output_type": "stream",
     "text": [
      "                                                                                \r"
     ]
    },
    {
     "name": "stdout",
     "output_type": "stream",
     "text": [
      "Saved: gs://ot-team/polina/pathway_propagation_validation_v2/gsea_output_spark/GO_Biological_Process_2023/MONDO_0004979_ge_mm_gsea_GO_Biological_Process_2023_pval0.05\n"
     ]
    },
    {
     "name": "stderr",
     "output_type": "stream",
     "text": [
      "                                                                                \r"
     ]
    },
    {
     "name": "stdout",
     "output_type": "stream",
     "text": [
      "Saved: gs://ot-team/polina/pathway_propagation_validation_v2/gsea_output_spark/GO_Biological_Process_2023/MONDO_0004985_ge_mm_gsea_GO_Biological_Process_2023_pval0.05\n"
     ]
    },
    {
     "name": "stderr",
     "output_type": "stream",
     "text": [
      "                                                                                \r"
     ]
    },
    {
     "name": "stdout",
     "output_type": "stream",
     "text": [
      "Saved: gs://ot-team/polina/pathway_propagation_validation_v2/gsea_output_spark/GO_Biological_Process_2023/MONDO_0005147_ge_mm_gsea_GO_Biological_Process_2023_pval0.05\n"
     ]
    },
    {
     "name": "stderr",
     "output_type": "stream",
     "text": [
      "                                                                                \r"
     ]
    },
    {
     "name": "stdout",
     "output_type": "stream",
     "text": [
      "Saved: gs://ot-team/polina/pathway_propagation_validation_v2/gsea_output_spark/GO_Biological_Process_2023/MONDO_0005178_ge_mm_gsea_GO_Biological_Process_2023_pval0.05\n"
     ]
    },
    {
     "name": "stderr",
     "output_type": "stream",
     "text": [
      "                                                                                \r"
     ]
    },
    {
     "name": "stdout",
     "output_type": "stream",
     "text": [
      "Saved: gs://ot-team/polina/pathway_propagation_validation_v2/gsea_output_spark/GO_Biological_Process_2023/MONDO_0005180_ge_mm_gsea_GO_Biological_Process_2023_pval0.05\n"
     ]
    },
    {
     "name": "stderr",
     "output_type": "stream",
     "text": [
      "                                                                                \r"
     ]
    },
    {
     "name": "stdout",
     "output_type": "stream",
     "text": [
      "Saved: gs://ot-team/polina/pathway_propagation_validation_v2/gsea_output_spark/GO_Biological_Process_2023/MONDO_0005277_ge_mm_gsea_GO_Biological_Process_2023_pval0.05\n"
     ]
    },
    {
     "name": "stderr",
     "output_type": "stream",
     "text": [
      "                                                                                \r"
     ]
    },
    {
     "name": "stdout",
     "output_type": "stream",
     "text": [
      "Saved: gs://ot-team/polina/pathway_propagation_validation_v2/gsea_output_spark/GO_Biological_Process_2023/MONDO_0005301_ge_mm_gsea_GO_Biological_Process_2023_pval0.05\n"
     ]
    },
    {
     "name": "stderr",
     "output_type": "stream",
     "text": [
      "                                                                                \r"
     ]
    },
    {
     "name": "stdout",
     "output_type": "stream",
     "text": [
      "Saved: gs://ot-team/polina/pathway_propagation_validation_v2/gsea_output_spark/GO_Biological_Process_2023/MONDO_0007915_ge_mm_gsea_GO_Biological_Process_2023_pval0.05\n"
     ]
    },
    {
     "name": "stderr",
     "output_type": "stream",
     "text": [
      "                                                                                \r"
     ]
    },
    {
     "name": "stdout",
     "output_type": "stream",
     "text": [
      "Saved: gs://ot-team/polina/pathway_propagation_validation_v2/gsea_output_spark/GO_Biological_Process_2023/MONDO_0008170_ge_mm_som_gsea_GO_Biological_Process_2023_pval0.05\n"
     ]
    },
    {
     "name": "stderr",
     "output_type": "stream",
     "text": [
      "                                                                                \r"
     ]
    },
    {
     "name": "stdout",
     "output_type": "stream",
     "text": [
      "Saved: gs://ot-team/polina/pathway_propagation_validation_v2/gsea_output_spark/GO_Biological_Process_2023/MONDO_0008315_ge_mm_som_gsea_GO_Biological_Process_2023_pval0.05\n"
     ]
    },
    {
     "name": "stderr",
     "output_type": "stream",
     "text": [
      "                                                                                \r"
     ]
    },
    {
     "name": "stdout",
     "output_type": "stream",
     "text": [
      "Saved: gs://ot-team/polina/pathway_propagation_validation_v2/gsea_output_spark/GO_Biological_Process_2023/MONDO_0011719_ge_mm_som_gsea_GO_Biological_Process_2023_pval0.05\n"
     ]
    },
    {
     "name": "stderr",
     "output_type": "stream",
     "text": [
      "                                                                                \r"
     ]
    },
    {
     "name": "stdout",
     "output_type": "stream",
     "text": [
      "Saved: gs://ot-team/polina/pathway_propagation_validation_v2/gsea_output_spark/GO_Biological_Process_2023/EFO_0000756_ge_mm_som_gsea_GO_Biological_Process_2023_pval0.05\n"
     ]
    }
   ],
   "source": [
    "calculate_propagated_targets_with_terms(\n",
    "    input_gcs_dir = \"gs://ot-team/polina/pathway_propagation_validation_v2/gsea_output\", \n",
    "    output_gcs_dir = \"gs://ot-team/polina/pathway_propagation_validation_v2/gsea_output_spark\", \n",
    "    folders_to_process = [\"GO_Biological_Process_2023\"], \n",
    "    target_table = target_names\n",
    ")"
   ]
  },
  {
   "cell_type": "code",
   "execution_count": 10,
   "id": "52d65724",
   "metadata": {},
   "outputs": [],
   "source": [
    "spark_df = spark.read.parquet(\"gs://ot-team/polina/pathway_propagation_validation_v2/gsea_output_spark/GO_Biological_Process_2023/EFO_0000756_ge_mm_som_gsea_GO_Biological_Process_2023_pval0.05\")"
   ]
  },
  {
   "cell_type": "code",
   "execution_count": 11,
   "id": "f8d64b37",
   "metadata": {},
   "outputs": [
    {
     "name": "stdout",
     "output_type": "stream",
     "text": [
      "+--------------+-------------------------------------------------------------------------------------------------------------------------------------------------------------------------------------------------------------------------------------------------------------------+---------------+\n",
      "|approvedSymbol|terms                                                                                                                                                                                                                                                              |targetId       |\n",
      "+--------------+-------------------------------------------------------------------------------------------------------------------------------------------------------------------------------------------------------------------------------------------------------------------+---------------+\n",
      "|AATK          |[Protein Autophosphorylation (GO:0046777)]                                                                                                                                                                                                                         |ENSG00000181409|\n",
      "|ABCA7         |[Protein Modification Process (GO:0036211), Positive Regulation Of Multicellular Organismal Process (GO:0051240)]                                                                                                                                                  |ENSG00000064687|\n",
      "|ABCA8         |[Sphingolipid Biosynthetic Process (GO:0030148)]                                                                                                                                                                                                                   |ENSG00000141338|\n",
      "|ABCB11        |[Fatty Acid Metabolic Process (GO:0006631)]                                                                                                                                                                                                                        |ENSG00000073734|\n",
      "|ABCB4         |[Response To Organic Cyclic Compound (GO:0014070)]                                                                                                                                                                                                                 |ENSG00000005471|\n",
      "|ABCB8         |[Monoatomic Cation Transmembrane Transport (GO:0098655), Inorganic Cation Transmembrane Transport (GO:0098662)]                                                                                                                                                    |ENSG00000197150|\n",
      "|ABCC8         |[Monoatomic Cation Transmembrane Transport (GO:0098655), Potassium Ion Transmembrane Transport (GO:0071805), Potassium Ion Transport (GO:0006813), Inorganic Cation Transmembrane Transport (GO:0098662)]                                                          |ENSG00000006071|\n",
      "|ABCC9         |[Monoatomic Cation Transmembrane Transport (GO:0098655), Potassium Ion Transmembrane Transport (GO:0071805), Potassium Ion Transport (GO:0006813), Inorganic Cation Transmembrane Transport (GO:0098662), Potassium Ion Import Across Plasma Membrane (GO:1990573)]|ENSG00000069431|\n",
      "|ABCD2         |[Positive Regulation Of Cellular Catabolic Process (GO:0031331), Fatty Acid Metabolic Process (GO:0006631)]                                                                                                                                                        |ENSG00000173208|\n",
      "|ABCG1         |[Negative Regulation Of Cell Differentiation (GO:0045596)]                                                                                                                                                                                                         |ENSG00000160179|\n",
      "+--------------+-------------------------------------------------------------------------------------------------------------------------------------------------------------------------------------------------------------------------------------------------------------------+---------------+\n",
      "only showing top 10 rows\n",
      "\n"
     ]
    }
   ],
   "source": [
    "spark_df.show(10, truncate=False)"
   ]
  },
  {
   "cell_type": "code",
   "execution_count": 12,
   "id": "6828a33d",
   "metadata": {},
   "outputs": [
    {
     "data": {
      "text/plain": [
       "8959"
      ]
     },
     "execution_count": 12,
     "metadata": {},
     "output_type": "execute_result"
    }
   ],
   "source": [
    "spark_df.count()"
   ]
  },
  {
   "cell_type": "markdown",
   "id": "7b0576f1",
   "metadata": {},
   "source": [
    "# Save target-pathways lists for tensor board visualisation"
   ]
  },
  {
   "cell_type": "markdown",
   "id": "a6db7321",
   "metadata": {},
   "source": [
    "! This code is pasted from IBD_pathway_to_cell from similarity_mvp and haven't been run !"
   ]
  },
  {
   "cell_type": "markdown",
   "id": "22d0a244",
   "metadata": {},
   "source": [
    "Process CSV files in specified folders within a GCS directory and save target-pathway relationships in a format suitable for TensorBoard Embedding Projector. "
   ]
  },
  {
   "cell_type": "code",
   "execution_count": null,
   "id": "fcc5652d",
   "metadata": {},
   "outputs": [],
   "source": [
    "def save_target_pathway_tensorboard(input_gcs_dir, output_gcs_dir, folders_to_process):\n",
    "    \"\"\"\n",
    "    Args:\n",
    "        input_gcs_dir (str): Input GCS directory path.\n",
    "        output_gcs_dir (str): Output GCS directory path.\n",
    "        folders_to_process (list): List of folder names within the input directory to process.\n",
    "\n",
    "    Output:\n",
    "        Saves target-pathway relationships as TSV files in the output GCS directory.\n",
    "    \"\"\"\n",
    "    # Initialize GCS filesystem\n",
    "    fs = gcsfs.GCSFileSystem()\n",
    "\n",
    "    # Ensure no trailing slashes in input and output directories\n",
    "    input_gcs_dir = input_gcs_dir.rstrip(\"/\")\n",
    "    output_gcs_dir = output_gcs_dir.rstrip(\"/\")\n",
    "\n",
    "    for folder_name in folders_to_process:\n",
    "        folder_path = f\"{input_gcs_dir}/{folder_name}\"\n",
    "        output_folder_path = f\"{output_gcs_dir}/{folder_name}\"\n",
    "\n",
    "        # Ensure output folder exists\n",
    "        if not fs.exists(output_folder_path):\n",
    "            fs.mkdirs(output_folder_path)\n",
    "\n",
    "        # List files in the input folder\n",
    "        files_in_folder = fs.ls(folder_path)\n",
    "        csv_files = [file for file in files_in_folder if file.endswith('.csv')]\n",
    "\n",
    "        for file_path in csv_files:\n",
    "            # Read the CSV file directly from GCS\n",
    "            with fs.open(file_path, 'r') as f:\n",
    "                df = pd.read_csv(f)\n",
    "\n",
    "            # Check if 'propagated_edge' and 'Term' exist in the file\n",
    "            if 'propagated_edge' not in df.columns or 'Term' not in df.columns:\n",
    "                print(f\"Skipping {file_path}: missing required columns.\")\n",
    "                continue\n",
    "\n",
    "            # Explode the `propagated_edge` column\n",
    "            df['propagated_edge_exploded'] = df['propagated_edge'].str.split(',')\n",
    "            df = df.explode('propagated_edge_exploded').dropna(subset=['propagated_edge_exploded'])\n",
    "\n",
    "            # Prepare data for TensorBoard format\n",
    "            embedding_metadata = df[['propagated_edge_exploded', 'Term']]\n",
    "            embedding_metadata = embedding_metadata.rename(\n",
    "                columns={\"propagated_edge_exploded\": \"Target\", \"Term\": \"Pathway\"}\n",
    "            )\n",
    "\n",
    "            # Save target-pathway relationships as a TSV\n",
    "            output_file_name = f\"{Path(file_path).stem}_target_pathway.tsv\"\n",
    "            output_file_path = f\"{output_folder_path}/{output_file_name}\"\n",
    "\n",
    "            # Save directly to GCS\n",
    "            with fs.open(output_file_path, 'w') as f:\n",
    "                embedding_metadata.to_csv(f, sep='\\t', index=False)\n",
    "\n",
    "            print(f\"Processed and uploaded: {output_file_path}\")\n"
   ]
  },
  {
   "cell_type": "code",
   "execution_count": null,
   "id": "060bb180",
   "metadata": {},
   "outputs": [],
   "source": [
    "input_gcs_dir = \"gs://ot-team/polina/pathway_propagation_validation_v2/gsea_output\"\n",
    "output_gcs_dir = \"gs://ot-team/polina/pathway_propagation_validation_v2/4tensorboard/jaccard\"\n",
    "\n",
    "library = [\"Reactome_Pathways_2024\"]\n",
    "\n",
    "save_target_pathway_tensorboard(input_gcs_dir, output_gcs_dir, library)"
   ]
  }
 ],
 "metadata": {
  "kernelspec": {
   "display_name": "Python 3",
   "language": "python",
   "name": "python3"
  },
  "language_info": {
   "codemirror_mode": {
    "name": "ipython",
    "version": 3
   },
   "file_extension": ".py",
   "mimetype": "text/x-python",
   "name": "python",
   "nbconvert_exporter": "python",
   "pygments_lexer": "ipython3",
   "version": "3.11.6"
  }
 },
 "nbformat": 4,
 "nbformat_minor": 5
}
