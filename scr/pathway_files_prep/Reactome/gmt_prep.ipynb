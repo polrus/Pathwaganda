{
 "cells": [
  {
   "cell_type": "code",
   "execution_count": 2,
   "id": "d14eb0ea",
   "metadata": {},
   "outputs": [],
   "source": [
    "# Load and filter Complete_List_of_Pathways.txt\n",
    "valid_pathway_ids = set()\n",
    "with open(\"Reactome/Complete_List_of_Pathways.txt\", \"r\") as infile:\n",
    "    for line in infile:\n",
    "        parts = line.strip().split(\"\\t\")\n",
    "        if len(parts) >= 3 and parts[2] == \"Homo sapiens\":\n",
    "            valid_pathway_ids.add(parts[0])"
   ]
  },
  {
   "cell_type": "code",
   "execution_count": 4,
   "id": "b3fdcfaf",
   "metadata": {},
   "outputs": [
    {
     "name": "stdout",
     "output_type": "stream",
     "text": [
      "Number of valid Homo sapiens pathways: 2803\n"
     ]
    }
   ],
   "source": [
    "print(f\"Number of valid Homo sapiens pathways: {len(valid_pathway_ids)}\")"
   ]
  },
  {
   "cell_type": "code",
   "execution_count": 10,
   "id": "8fd6e0bd",
   "metadata": {},
   "outputs": [],
   "source": [
    "# Filter ReactomePathways.gmt and combine names\n",
    "with open(\"Reactome/ReactomePathways.gmt\", \"r\") as infile, open(\"Reactome/ReactomePathways_merged.gmt\", \"w\") as outfile:\n",
    "    for line in infile:\n",
    "        parts = line.strip().split(\"\\t\")\n",
    "        if len(parts) >= 2 and parts[1] in valid_pathway_ids:\n",
    "            merged_name = f\"{parts[0]} [{parts[1]}]\"\n",
    "            rest = \"\\t\".join(parts[2:]) if len(parts) > 2 else \"\"\n",
    "            if rest:\n",
    "                outfile.write(f\"{merged_name}\\t{rest}\\n\")\n",
    "            else:\n",
    "                outfile.write(f\"{merged_name}\\n\")"
   ]
  }
 ],
 "metadata": {
  "kernelspec": {
   "display_name": "Python 3",
   "language": "python",
   "name": "python3"
  },
  "language_info": {
   "codemirror_mode": {
    "name": "ipython",
    "version": 3
   },
   "file_extension": ".py",
   "mimetype": "text/x-python",
   "name": "python",
   "nbconvert_exporter": "python",
   "pygments_lexer": "ipython3",
   "version": "3.11.6"
  }
 },
 "nbformat": 4,
 "nbformat_minor": 5
}
