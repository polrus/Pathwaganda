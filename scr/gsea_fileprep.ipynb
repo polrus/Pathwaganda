{
 "cells": [
  {
   "cell_type": "markdown",
   "id": "6e2e9b47",
   "metadata": {},
   "source": [
    "## Prepare input for blitzGSEA"
   ]
  },
  {
   "cell_type": "markdown",
   "id": "ae3b7a9c",
   "metadata": {},
   "source": [
    "For each diseaseId with >= 500 genes:\n",
    "- take columns approvedSymbol, overallScore \n",
    "- sort by overallScore\n",
    "- convert each column name 'overallScore': '1', 'approvedSymbol': '0'\n",
    "- and saves each partition named after diseaseID into one parquet directory "
   ]
  },
  {
   "cell_type": "code",
   "execution_count": 31,
   "id": "3dd8f33d",
   "metadata": {},
   "outputs": [],
   "source": [
    "import os\n",
    "import gcsfs\n",
    "from pyspark.sql import SparkSession\n",
    "from pyspark.sql.functions import col, countDistinct\n",
    "from pyspark.sql import functions as F"
   ]
  },
  {
   "cell_type": "code",
   "execution_count": 13,
   "id": "a9e26fed",
   "metadata": {},
   "outputs": [],
   "source": [
    "spark = SparkSession.builder.getOrCreate()"
   ]
  },
  {
   "cell_type": "code",
   "execution_count": null,
   "id": "df0a7570",
   "metadata": {},
   "outputs": [
    {
     "name": "stderr",
     "output_type": "stream",
     "text": [
      "                                                                                \r"
     ]
    },
    {
     "name": "stderr",
     "output_type": "stream",
     "text": [
      "[Stage 1391:>                                                       (0 + 2) / 2]\r"
     ]
    }
   ],
   "source": [
    "# Input and output GCS paths\n",
    "INPUT_PATH  = \"gs://ot-team/polina/pathwaganda/processed_diseases/oncology\"\n",
    "OUTPUT_BASE = \"gs://ot-team/polina/pathwaganda/input_4_gsea/oncology\"\n",
    "\n",
    "# ─── Initialize GCS filesystem and check input ────────────────────────────────\n",
    "\n",
    "fs = gcsfs.GCSFileSystem()\n",
    "if not fs.exists(INPUT_PATH):\n",
    "    raise FileNotFoundError(f\"Input path not found: {INPUT_PATH}\")\n",
    "\n",
    "# ─── Read all Parquet files from GCS ──────────────────────────────────────────\n",
    "\n",
    "df = spark.read.parquet(INPUT_PATH)\n"
   ]
  },
  {
   "cell_type": "code",
   "execution_count": 47,
   "id": "3ee6c2cf",
   "metadata": {},
   "outputs": [],
   "source": [
    "MIN_TARGETS = 500\n",
    "\n",
    "# only pull diseaseIds whose countDistinct(approvedSymbol) >= MIN_TARGETS\n",
    "valid_diseases = (\n",
    "    df\n",
    "    .groupBy(\"diseaseId\")\n",
    "    .agg(countDistinct(\"approvedSymbol\").alias(\"uniqueCount\"))\n",
    "    .filter(col(\"uniqueCount\") >= MIN_TARGETS)\n",
    "    .select(\"diseaseId\")\n",
    ")\n"
   ]
  },
  {
   "cell_type": "code",
   "execution_count": 48,
   "id": "285f9ed0",
   "metadata": {},
   "outputs": [],
   "source": [
    "# 2) Inner‐join back to keep only those diseases\n",
    "df_filtered = df.join(valid_diseases, on=\"diseaseId\", how=\"inner\")"
   ]
  },
  {
   "cell_type": "code",
   "execution_count": 49,
   "id": "d96e0074",
   "metadata": {},
   "outputs": [],
   "source": [
    "# 1) Select & rename once up‑front:\n",
    "df2 = (\n",
    "    df_filtered\n",
    "    .select(\"diseaseId\", \"approvedSymbol\", \"overallScore\")\n",
    "    .withColumnRenamed(\"approvedSymbol\", \"0\")\n",
    "    .withColumnRenamed(\"overallScore\",     \"1\")\n",
    ")\n"
   ]
  },
  {
   "cell_type": "code",
   "execution_count": 50,
   "id": "aec04ecc",
   "metadata": {},
   "outputs": [],
   "source": [
    "# 2) Repartition by diseaseId and sort within each partition **descending** by score:\n",
    "df2 = (\n",
    "    df2\n",
    "    .repartition(\"diseaseId\")\n",
    "    # .sortWithinPartitions(col(\"1\").desc())\n",
    ")"
   ]
  },
  {
   "cell_type": "code",
   "execution_count": null,
   "id": "ad28d42d",
   "metadata": {},
   "outputs": [
    {
     "name": "stderr",
     "output_type": "stream",
     "text": [
      "                                                                                \r"
     ]
    },
    {
     "name": "stderr",
     "output_type": "stream",
     "text": [
      "                                                                                \r"
     ]
    }
   ],
   "source": [
    "# 3) Write out in one go, partitioned by diseaseId:\n",
    "df2.write \\\n",
    "   .mode(\"overwrite\") \\\n",
    "   .partitionBy(\"diseaseId\") \\\n",
    "   .parquet(OUTPUT_BASE)"
   ]
  },
  {
   "cell_type": "code",
   "execution_count": null,
   "id": "2abe078d",
   "metadata": {},
   "outputs": [
    {
     "name": "stderr",
     "output_type": "stream",
     "text": [
      "                                                                                \r"
     ]
    },
    {
     "data": {
      "text/plain": [
       "815"
      ]
     },
     "execution_count": 45,
     "metadata": {},
     "output_type": "execute_result"
    },
    {
     "name": "stderr",
     "output_type": "stream",
     "text": [
      "[Stage 1391:>                                                       (0 + 2) / 2]\r"
     ]
    }
   ],
   "source": [
    "# spark.read.parquet(\"gs://ot-team/polina/pathwaganda/input_4_gsea/non_oncology/diseaseId=EFO_0000195\").count()"
   ]
  }
 ],
 "metadata": {
  "kernelspec": {
   "display_name": "PySpark",
   "language": "python",
   "name": "pyspark"
  },
  "language_info": {
   "codemirror_mode": {
    "name": "ipython",
    "version": 3
   },
   "file_extension": ".py",
   "mimetype": "text/x-python",
   "name": "python",
   "nbconvert_exporter": "python",
   "pygments_lexer": "ipython3",
   "version": "3.11.8"
  }
 },
 "nbformat": 4,
 "nbformat_minor": 5
}
