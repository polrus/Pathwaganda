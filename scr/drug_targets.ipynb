{
 "cells": [
  {
   "cell_type": "code",
   "execution_count": 19,
   "id": "b3f286fc",
   "metadata": {},
   "outputs": [],
   "source": [
    "from pyspark.sql import SparkSession\n",
    "from pyspark.sql.functions import col, udf, row_number, sum as spark_sum, max as spark_max, create_map, lit, from_json, explode\n",
    "from pyspark.sql.types import StructType, StructField, StringType, DoubleType, LongType\n",
    "from pyspark.sql import Window\n",
    "from itertools import chain\n",
    "from pyspark.sql import DataFrame\n",
    "from pyspark.sql import functions as F\n",
    "import plotly.graph_objs as go\n",
    "import pandas as pd\n",
    "import matplotlib.pyplot as plt\n",
    "import numpy as np\n",
    "from scipy.stats import ttest_ind"
   ]
  },
  {
   "cell_type": "code",
   "execution_count": 2,
   "id": "f76f5cb1",
   "metadata": {},
   "outputs": [],
   "source": [
    "spark = SparkSession.builder.getOrCreate()"
   ]
  },
  {
   "cell_type": "markdown",
   "id": "defcb81b",
   "metadata": {},
   "source": [
    "# Parse disease list with drug targets"
   ]
  },
  {
   "cell_type": "code",
   "execution_count": null,
   "id": "d306dac2",
   "metadata": {},
   "outputs": [
    {
     "name": "stderr",
     "output_type": "stream",
     "text": [
      "                                                                                \r"
     ]
    }
   ],
   "source": [
    "# Drug targets list prepared based on Pharmaprojects dataset\n",
    "drug_targets = spark.read.parquet(\"gs://ot-team/jroldan/analysis/goldStandard_20241031/goldStandardDrugs_outer.parquet/\")"
   ]
  },
  {
   "cell_type": "code",
   "execution_count": 4,
   "id": "0836556b",
   "metadata": {},
   "outputs": [
    {
     "name": "stderr",
     "output_type": "stream",
     "text": [
      "                                                                                \r"
     ]
    }
   ],
   "source": [
    "# 1. Count unique approvedSymbol values per diseaseId (overall)\n",
    "all_sum_df = drug_targets.groupBy(\"diseaseId\").agg(F.countDistinct(\"approvedSymbol\").alias(\"all_sum\"))\n",
    "\n",
    "# 2. Count unique approvedSymbol values per diseaseId and combined_max_phase\n",
    "pivot_df_chembl = drug_targets.groupBy(\"diseaseId\").pivot(\"phasesApproved\").agg(F.countDistinct(\"approvedSymbol\")).withColumnRenamed(\"null\", \"nullChEMBL\")\n",
    "pivot_df_nelson = drug_targets.groupBy(\"diseaseId\").pivot(\"combined_max_phase\").agg(F.countDistinct(\"approvedSymbol\")).withColumnRenamed(\"null\", \"nullNelson\")\n",
    "\n",
    "# 3. Join both results to create the final DataFrame\n",
    "result_df = all_sum_df.join(pivot_df_chembl, on=\"diseaseId\", how=\"left\")\n",
    "result_df_final = result_df.join(pivot_df_nelson, on=\"diseaseId\", how=\"left\")"
   ]
  },
  {
   "cell_type": "markdown",
   "id": "475d0de1",
   "metadata": {},
   "source": [
    "Merge with number of genetically associated genes for each disease"
   ]
  },
  {
   "cell_type": "code",
   "execution_count": 5,
   "id": "73b792a1",
   "metadata": {},
   "outputs": [],
   "source": [
    "# Target-Disease indirect (propagated) evidence from Open Targets Platform (by data source)\n",
    "evidence_sour_path = \"gs://open-targets-data-releases/25.03/output/association_by_datasource_indirect/\"\n",
    "evidence_sour = spark.read.parquet(evidence_sour_path)"
   ]
  },
  {
   "cell_type": "code",
   "execution_count": 7,
   "id": "5dd63b00",
   "metadata": {},
   "outputs": [],
   "source": [
    "evidence_sour_ge_som = evidence_sour.filter(col('datatypeId').rlike(\"genetic_association|somatic_mutation\"))"
   ]
  },
  {
   "cell_type": "code",
   "execution_count": null,
   "id": "2f03e2c7",
   "metadata": {},
   "outputs": [],
   "source": [
    "# 1. Count unique targetId values per diseaseId (overall)\n",
    "disease_targets = evidence_sour_ge_som.groupBy(\"diseaseId\").agg(F.countDistinct(\"targetId\").alias(\"diseaseTargets\"))\n",
    "\n",
    "# 2. Join with Pharmaprojects target disease counts\n",
    "disease_targets = result_df_final.join(disease_targets, on=\"diseaseId\", how=\"left\")"
   ]
  },
  {
   "cell_type": "markdown",
   "id": "c94254b8",
   "metadata": {},
   "source": [
    "Name for diseases' EFOs"
   ]
  },
  {
   "cell_type": "code",
   "execution_count": 9,
   "id": "47bc54f5",
   "metadata": {},
   "outputs": [],
   "source": [
    "disease_path = \"gs://open-targets-data-releases/25.03/output/disease/\"\n",
    "disease = spark.read.parquet(disease_path)"
   ]
  },
  {
   "cell_type": "code",
   "execution_count": 10,
   "id": "3cd75c19",
   "metadata": {},
   "outputs": [],
   "source": [
    "def join_dataframes(initial_df: DataFrame, \n",
    "                    second_df: DataFrame, \n",
    "                    initial_key_column: str, \n",
    "                    second_key_column: str,\n",
    "                    columns_to_join: list) -> DataFrame:\n",
    "    \"\"\"\n",
    "    Joins two PySpark DataFrames on specified key columns.\n",
    "\n",
    "    Args:\n",
    "    initial_df (DataFrame): The initial PySpark DataFrame.\n",
    "    second_df (DataFrame): The second PySpark DataFrame to join with.\n",
    "    initial_key_column (str): The key column name in the initial DataFrame.\n",
    "    second_key_column (str): The key column name in the second DataFrame.\n",
    "    columns_to_join (list): List of column names from the second DataFrame to include in the join.\n",
    "\n",
    "    Returns:\n",
    "    DataFrame: The resulting DataFrame after the join.\n",
    "    \"\"\"\n",
    "\n",
    "    # Selecting specified columns from the second DataFrame, including its key column\n",
    "    second_df_selected = second_df.select([second_key_column] + columns_to_join)\n",
    "\n",
    "    second_columns_to_join_with_alias = [\"b.\" + col for col in columns_to_join]\n",
    "\n",
    "    return initial_df.alias(\"a\")\\\n",
    "        .join(second_df_selected.alias(\"b\"), \n",
    "            on = initial_df[initial_key_column] == second_df_selected[second_key_column], \n",
    "            how='left')\\\n",
    "        .select(\"a.*\", *second_columns_to_join_with_alias)\\\n",
    "        .persist()"
   ]
  },
  {
   "cell_type": "code",
   "execution_count": 11,
   "id": "f103e4dc",
   "metadata": {},
   "outputs": [
    {
     "name": "stderr",
     "output_type": "stream",
     "text": [
      "25/06/04 13:16:39 WARN CacheManager: Asked to cache already cached data.\n"
     ]
    }
   ],
   "source": [
    "disease_list = [\"name\", \"therapeuticAreas\"]\n",
    "\n",
    "disease_targets_pharma_names = join_dataframes(disease_targets, disease, \"diseaseId\", \"id\", disease_list).persist()"
   ]
  },
  {
   "cell_type": "code",
   "execution_count": 12,
   "id": "9329dfd4",
   "metadata": {},
   "outputs": [
    {
     "name": "stderr",
     "output_type": "stream",
     "text": [
      "                                                                                \r"
     ]
    },
    {
     "name": "stdout",
     "output_type": "stream",
     "text": [
      "+--------------+-------+----------+----+----+----+----+----+----------+--------+-------+--------+---------+-----------+--------------+--------------------+--------------------+\n",
      "|     diseaseId|all_sum|nullChEMBL| 0.5| 1.0| 2.0| 3.0| 4.0|nullNelson|Launched|Phase I|Phase II|Phase III|Preclinical|diseaseTargets|                name|    therapeuticAreas|\n",
      "+--------------+-------+----------+----+----+----+----+----+----------+--------+-------+--------+---------+-----------+--------------+--------------------+--------------------+\n",
      "|   EFO_0004254|     10|      NULL|NULL|   1|   3|   2|   4|         8|    NULL|   NULL|    NULL|        2|       NULL|            13|membranous glomer...|       [EFO_0009690]|\n",
      "|   EFO_1002027|      5|      NULL|NULL|NULL|   4|NULL|   1|         5|    NULL|   NULL|    NULL|     NULL|       NULL|          NULL|        osteomalacia|      [OTAR_0000006]|\n",
      "|   EFO_0000569|     54|      NULL|NULL|  18|  27|NULL|   9|        54|    NULL|   NULL|    NULL|     NULL|       NULL|           218|         liposarcoma|[OTAR_0000006, MO...|\n",
      "| MONDO_0003666|     21|      NULL|NULL|   5|NULL|  16|NULL|        21|    NULL|   NULL|    NULL|     NULL|       NULL|          NULL|fallopian tube en...|[OTAR_0000017, MO...|\n",
      "|   EFO_0006862|      9|      NULL|NULL|NULL|   4|   1|   4|         6|    NULL|      2|    NULL|        1|       NULL|            53|     Meniere disease|[MONDO_0002025, M...|\n",
      "|   EFO_1001973|     26|      NULL|NULL|NULL|   1|  25|NULL|        26|    NULL|   NULL|    NULL|     NULL|       NULL|             3|ureter urothelial...|[MONDO_0045024, E...|\n",
      "| MONDO_0002203|      5|      NULL|NULL|NULL|NULL|NULL|   5|         5|    NULL|   NULL|    NULL|     NULL|       NULL|             1|constipation diso...|       [EFO_0010282]|\n",
      "|   EFO_1000465|      3|      NULL|NULL|NULL|   3|NULL|NULL|         3|    NULL|   NULL|    NULL|     NULL|       NULL|             6|    Penile Carcinoma|[MONDO_0045024, O...|\n",
      "| MONDO_0002748|      4|      NULL|NULL|   1|   1|   2|NULL|         4|    NULL|   NULL|    NULL|     NULL|       NULL|          NULL|rectum mucinous a...|[EFO_0010282, MON...|\n",
      "|   EFO_0005561|      2|      NULL|NULL|   1|NULL|   1|NULL|         2|    NULL|   NULL|    NULL|     NULL|       NULL|           501|        histiocytoma|     [MONDO_0045024]|\n",
      "| Orphanet_1945|     12|      NULL|NULL|NULL|NULL|NULL|  12|        12|    NULL|   NULL|    NULL|     NULL|       NULL|            33|   Rolandic epilepsy|      [OTAR_0000018]|\n",
      "|   EFO_1001062|      4|      NULL|NULL|NULL|   1|NULL|   3|         4|    NULL|   NULL|    NULL|     NULL|       NULL|            90|      nodular goiter|       [EFO_0001379]|\n",
      "|    HP_0012390|      7|      NULL|NULL|NULL|NULL|   4|   3|         7|    NULL|   NULL|    NULL|     NULL|       NULL|             1|        Anal fissure|       [EFO_0000651]|\n",
      "|    HP_0002571|     11|      NULL|   1|NULL|   4|NULL|   6|        11|    NULL|   NULL|    NULL|     NULL|       NULL|             4|           Achalasia|       [EFO_0000651]|\n",
      "|Orphanet_46724|      5|      NULL|NULL|NULL|   4|NULL|   1|         5|    NULL|   NULL|    NULL|     NULL|       NULL|            21|Cerebral arteriov...|      [OTAR_0000018]|\n",
      "|   EFO_0002917|     24|      NULL|NULL|   3|   4|  17|NULL|        24|    NULL|   NULL|    NULL|     NULL|       NULL|           683|ovarian serous ad...|[OTAR_0000017, EF...|\n",
      "| MONDO_0000514|      1|      NULL|NULL|NULL|NULL|NULL|   1|         1|    NULL|   NULL|    NULL|     NULL|       NULL|             9|bone squamous cel...|[OTAR_0000006, MO...|\n",
      "|   EFO_0004266|      4|      NULL|NULL|NULL|NULL|NULL|   4|         4|    NULL|   NULL|    NULL|     NULL|       NULL|           200|primary ovarian i...|[EFO_0001379, OTA...|\n",
      "|   EFO_0020921|      1|      NULL|NULL|NULL|NULL|NULL|   1|         1|    NULL|   NULL|    NULL|     NULL|       NULL|             3|  hemorrhagic stroke|[EFO_0000319, EFO...|\n",
      "| MONDO_0004336|      2|      NULL|NULL|NULL|NULL|   2|NULL|         2|    NULL|   NULL|    NULL|     NULL|       NULL|          NULL|rectal signet rin...|[EFO_0010282, MON...|\n",
      "+--------------+-------+----------+----+----+----+----+----+----------+--------+-------+--------+---------+-----------+--------------+--------------------+--------------------+\n",
      "only showing top 20 rows\n",
      "\n"
     ]
    }
   ],
   "source": [
    "disease_targets_pharma_names.show()"
   ]
  },
  {
   "cell_type": "markdown",
   "id": "43a6992c",
   "metadata": {},
   "source": [
    "# Filtering based on amount os drug targets and associated genes"
   ]
  },
  {
   "cell_type": "code",
   "execution_count": null,
   "id": "3e98aa4d",
   "metadata": {},
   "outputs": [],
   "source": [
    "# Step 1: Calculate sum of Drug Targets (DT) for each diseaseId\n",
    "indications_list = disease_targets_pharma_names.withColumn(\n",
    "    'sumDT',\n",
    "    col('Launched') + col('Phase I') + col('Phase II') + col('Phase III') + col('Preclinical')\n",
    ")"
   ]
  },
  {
   "cell_type": "code",
   "execution_count": null,
   "id": "f7862745",
   "metadata": {},
   "outputs": [],
   "source": [
    "# Step 2: Calculate rate of Drug Targets (DT) for each diseaseId\n",
    "indications_list = indications_list.withColumn(\n",
    "    'rateDT',\n",
    "    (col('sumDT') / col('diseaseTargets')) * 100\n",
    ")"
   ]
  },
  {
   "cell_type": "code",
   "execution_count": 22,
   "id": "7895281c",
   "metadata": {},
   "outputs": [],
   "source": [
    "# Step 3: Filter indications with rate of drug targets greater then 5% and number of genes greater then 500\n",
    "indications_list_filt = indications_list.filter(\n",
    "    (col('rateDT') >= 0.05) & (col('diseaseTargets') > 500)\n",
    ")"
   ]
  },
  {
   "cell_type": "code",
   "execution_count": 23,
   "id": "bcce61a1",
   "metadata": {},
   "outputs": [
    {
     "name": "stderr",
     "output_type": "stream",
     "text": [
      "                                                                                \r"
     ]
    },
    {
     "data": {
      "text/plain": [
       "39"
      ]
     },
     "execution_count": 23,
     "metadata": {},
     "output_type": "execute_result"
    }
   ],
   "source": [
    "indications_list_filt.count()"
   ]
  },
  {
   "cell_type": "code",
   "execution_count": null,
   "id": "e0abbf72",
   "metadata": {},
   "outputs": [],
   "source": [
    "indications_list_filt"
   ]
  },
  {
   "cell_type": "code",
   "execution_count": 24,
   "id": "9b9aaa1b",
   "metadata": {},
   "outputs": [
    {
     "name": "stderr",
     "output_type": "stream",
     "text": [
      "[Stage 84:===================================================> (975 + 3) / 1000]\r"
     ]
    },
    {
     "name": "stdout",
     "output_type": "stream",
     "text": [
      "+---------------+-----+\n",
      "|therapeuticArea|Count|\n",
      "+---------------+-----+\n",
      "|   OTAR_0000010|    4|\n",
      "|   OTAR_0000018|    9|\n",
      "|    EFO_0010285|    2|\n",
      "|    EFO_0000540|   10|\n",
      "|  MONDO_0045024|   22|\n",
      "|    EFO_0005803|    6|\n",
      "|   OTAR_0000017|    4|\n",
      "|    EFO_0001379|    6|\n",
      "|    EFO_0009690|    3|\n",
      "|  MONDO_0024458|    1|\n",
      "|   OTAR_0000006|    4|\n",
      "|    EFO_0010282|    4|\n",
      "|    EFO_0000618|    6|\n",
      "|  MONDO_0002025|    3|\n",
      "|    EFO_0009605|    2|\n",
      "|    EFO_0000319|    3|\n",
      "|   OTAR_0000020|    1|\n",
      "+---------------+-----+\n",
      "\n"
     ]
    },
    {
     "name": "stderr",
     "output_type": "stream",
     "text": [
      "                                                                                \r"
     ]
    }
   ],
   "source": [
    "# Step 4: Explode and count therapeutic areas\n",
    "exploded = indications_list_filt.withColumn('therapeuticArea', explode(col('therapeuticAreas')))\n",
    "value_counts_df = exploded.groupBy('therapeuticArea').count().withColumnRenamed('count', 'Count')\n",
    "value_counts_df.show()"
   ]
  },
  {
   "cell_type": "markdown",
   "id": "19052439",
   "metadata": {},
   "source": [
    "# Prepare table for supplementary"
   ]
  },
  {
   "cell_type": "code",
   "execution_count": 25,
   "id": "f58209b1",
   "metadata": {},
   "outputs": [
    {
     "name": "stderr",
     "output_type": "stream",
     "text": [
      "                                                                                \r"
     ]
    }
   ],
   "source": [
    "indications_list_filt_pandas = indications_list_filt.toPandas()\n",
    "indications_list_filt_pandas.to_csv(\"outputs/indications_dt.csv\", index=False)"
   ]
  },
  {
   "cell_type": "code",
   "execution_count": null,
   "id": "f53be846",
   "metadata": {},
   "outputs": [],
   "source": []
  },
  {
   "cell_type": "code",
   "execution_count": null,
   "id": "258cfb2d",
   "metadata": {},
   "outputs": [],
   "source": []
  },
  {
   "cell_type": "code",
   "execution_count": null,
   "id": "55612e3a",
   "metadata": {},
   "outputs": [],
   "source": []
  },
  {
   "cell_type": "code",
   "execution_count": null,
   "id": "462e9655",
   "metadata": {},
   "outputs": [],
   "source": []
  }
 ],
 "metadata": {
  "kernelspec": {
   "display_name": "PySpark",
   "language": "python",
   "name": "pyspark"
  },
  "language_info": {
   "codemirror_mode": {
    "name": "ipython",
    "version": 3
   },
   "file_extension": ".py",
   "mimetype": "text/x-python",
   "name": "python",
   "nbconvert_exporter": "python",
   "pygments_lexer": "ipython3",
   "version": "3.11.8"
  }
 },
 "nbformat": 4,
 "nbformat_minor": 5
}
