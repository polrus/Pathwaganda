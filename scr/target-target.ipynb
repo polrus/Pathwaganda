{
 "cells": [
  {
   "cell_type": "code",
   "execution_count": 1,
   "id": "a7644035",
   "metadata": {},
   "outputs": [],
   "source": [
    "# from pyspark.sql import SparkSession\n",
    "# from pyspark.sql.functions import col, explode, split, array_distinct, udf\n",
    "# from pyspark.ml.feature import MinHashLSH\n",
    "# from pyspark.sql.types import FloatType\n",
    "# import pyspark.sql.functions as F\n",
    "# import os\n",
    "# import numpy as np\n",
    "# import gcsfs\n",
    "# from pyspark.ml.linalg import Vectors, VectorUDT\n",
    "# from pyspark.sql.functions import udf\n",
    "# from itertools import combinations\n",
    "\n",
    "# from pyspark.sql import SparkSession\n",
    "# from pyspark.sql.functions import col, split, explode, collect_set, lit, array, udf\n",
    "# from pyspark.sql.types import DoubleType\n",
    "# from itertools import combinations\n",
    "\n",
    "from pyspark.sql import SparkSession\n",
    "from pyspark.sql.functions import (\n",
    "    col, split, collect_list, flatten, \n",
    "    array_intersect, array_union, size,\n",
    "    when, first, input_file_name, regexp_extract, regexp_replace\n",
    ")\n",
    "from pyspark.sql.functions import lit\n",
    "from pyspark.storagelevel import StorageLevel\n",
    "from pyspark.sql.functions import *"
   ]
  },
  {
   "cell_type": "code",
   "execution_count": 2,
   "id": "2799bc78",
   "metadata": {},
   "outputs": [],
   "source": [
    "spark = SparkSession.builder.getOrCreate()"
   ]
  },
  {
   "cell_type": "markdown",
   "id": "a0a94715",
   "metadata": {},
   "source": [
    "# Similarity matrix for propagation results"
   ]
  },
  {
   "cell_type": "markdown",
   "id": "ef3da04d",
   "metadata": {},
   "source": [
    "For future speed optiomisation use Minhash for similarity calculation."
   ]
  },
  {
   "cell_type": "markdown",
   "id": "adaa0c96",
   "metadata": {},
   "source": [
    "## Jaccard"
   ]
  },
  {
   "cell_type": "code",
   "execution_count": 3,
   "id": "d25a6a86",
   "metadata": {},
   "outputs": [],
   "source": [
    "# Configurations for performance\n",
    "spark.conf.set(\"spark.sql.shuffle.partitions\", \"200\")\n",
    "spark.conf.set(\"spark.sql.adaptive.enabled\", \"true\")\n",
    "spark.conf.set(\"spark.sql.adaptive.coalescePartitions.enabled\", \"true\")"
   ]
  },
  {
   "cell_type": "code",
   "execution_count": 4,
   "id": "5d0beb24",
   "metadata": {},
   "outputs": [],
   "source": [
    "from pyspark.sql.functions import *\n",
    "\n",
    "def calculate_jaccard_similarity(base_gcs_path, folders_to_process, output_gcs_path):\n",
    "    base_gcs_path = base_gcs_path.rstrip(\"/\")\n",
    "    output_gcs_path = output_gcs_path.rstrip(\"/\")\n",
    "\n",
    "    for folder in folders_to_process:\n",
    "        # Use wholeTextFiles trick to find actual .parquet file paths\n",
    "        parquet_files = spark.sparkContext \\\n",
    "            .wholeTextFiles(f\"{base_gcs_path}/{folder}/**/*.parquet\") \\\n",
    "            .keys() \\\n",
    "            .collect()\n",
    "\n",
    "        # Get unique directories from the file paths\n",
    "        parquet_dirs = set(\"/\".join(path.split(\"/\")[:-1]) for path in parquet_files)\n",
    "\n",
    "        for parquet_dir in sorted(parquet_dirs):\n",
    "            df = spark.read.parquet(parquet_dir)\n",
    "\n",
    "            grouped = df.groupBy(\"approvedSymbol\").agg(\n",
    "                flatten(collect_list(\"terms\")).alias(\"terms\"),\n",
    "                first(\"targetId\").alias(\"targetId\")\n",
    "            ).cache()\n",
    "\n",
    "            if grouped.count() < 10000:\n",
    "                grouped = grouped.hint(\"broadcast\")\n",
    "\n",
    "            pairs = grouped.alias(\"a\").join(\n",
    "                grouped.alias(\"b\"),\n",
    "                (col(\"a.approvedSymbol\") < col(\"b.approvedSymbol\")) &\n",
    "                (size(array_intersect(col(\"a.terms\"), col(\"b.terms\"))) > 0)\n",
    "            )\n",
    "\n",
    "            result = pairs.select(\n",
    "                col(\"a.approvedSymbol\").alias(\"approvedSymbolA\"),\n",
    "                col(\"b.approvedSymbol\").alias(\"approvedSymbolB\"),\n",
    "                col(\"a.targetId\").alias(\"targetIdA\"),\n",
    "                col(\"b.targetId\").alias(\"targetIdB\"),\n",
    "                (size(array_intersect(col(\"a.terms\"), col(\"b.terms\"))) /\n",
    "                 size(array_union(col(\"a.terms\"), col(\"b.terms\")))).alias(\"jaccardSimilarity\"),\n",
    "                array_join(array_intersect(col(\"a.terms\"), col(\"b.terms\")), \",\").alias(\"intersectingTerms\")\n",
    "            )\n",
    "\n",
    "            # Recreate relative output path\n",
    "            relative_path = parquet_dir.replace(base_gcs_path + \"/\", \"\")\n",
    "            output_path = f\"{output_gcs_path}/{relative_path}\"\n",
    "            print(f\"Writing: {output_path}\")\n",
    "            result.repartition(20).write.mode(\"overwrite\").parquet(output_path)\n",
    "            grouped.unpersist()"
   ]
  },
  {
   "cell_type": "markdown",
   "id": "ea2f568f",
   "metadata": {},
   "source": [
    "~ 20 sec / file"
   ]
  },
  {
   "cell_type": "code",
   "execution_count": 5,
   "id": "17fbfc0a",
   "metadata": {},
   "outputs": [
    {
     "name": "stderr",
     "output_type": "stream",
     "text": [
      "                                                                                \r"
     ]
    },
    {
     "name": "stdout",
     "output_type": "stream",
     "text": [
      "Writing: gs://ot-team/polina/pathway_propagation_validation_v2/similarity_mtx/jaccard_spark/GO_Biological_Process_2023/EFO_0000095_ge_mm_som_gsea_GO_Biological_Process_2023_pval0.05\n"
     ]
    },
    {
     "name": "stderr",
     "output_type": "stream",
     "text": [
      "                                                                                \r"
     ]
    },
    {
     "name": "stdout",
     "output_type": "stream",
     "text": [
      "Writing: gs://ot-team/polina/pathway_propagation_validation_v2/similarity_mtx/jaccard_spark/GO_Biological_Process_2023/EFO_0000183_ge_mm_som_gsea_GO_Biological_Process_2023_pval0.05\n"
     ]
    },
    {
     "name": "stderr",
     "output_type": "stream",
     "text": [
      "                                                                                \r"
     ]
    },
    {
     "name": "stdout",
     "output_type": "stream",
     "text": [
      "Writing: gs://ot-team/polina/pathway_propagation_validation_v2/similarity_mtx/jaccard_spark/GO_Biological_Process_2023/EFO_0000222_ge_mm_som_gsea_GO_Biological_Process_2023_pval0.05\n"
     ]
    },
    {
     "name": "stderr",
     "output_type": "stream",
     "text": [
      "                                                                                \r"
     ]
    },
    {
     "name": "stdout",
     "output_type": "stream",
     "text": [
      "Writing: gs://ot-team/polina/pathway_propagation_validation_v2/similarity_mtx/jaccard_spark/GO_Biological_Process_2023/EFO_0000274_ge_mm_gsea_GO_Biological_Process_2023_pval0.05\n"
     ]
    },
    {
     "name": "stderr",
     "output_type": "stream",
     "text": [
      "                                                                                \r"
     ]
    },
    {
     "name": "stdout",
     "output_type": "stream",
     "text": [
      "Writing: gs://ot-team/polina/pathway_propagation_validation_v2/similarity_mtx/jaccard_spark/GO_Biological_Process_2023/EFO_0000275_ge_mm_gsea_GO_Biological_Process_2023_pval0.05\n"
     ]
    },
    {
     "name": "stderr",
     "output_type": "stream",
     "text": [
      "                                                                                \r"
     ]
    },
    {
     "name": "stdout",
     "output_type": "stream",
     "text": [
      "Writing: gs://ot-team/polina/pathway_propagation_validation_v2/similarity_mtx/jaccard_spark/GO_Biological_Process_2023/EFO_0000341_ge_mm_gsea_GO_Biological_Process_2023_pval0.05\n"
     ]
    },
    {
     "name": "stderr",
     "output_type": "stream",
     "text": [
      "                                                                                \r"
     ]
    },
    {
     "name": "stdout",
     "output_type": "stream",
     "text": [
      "Writing: gs://ot-team/polina/pathway_propagation_validation_v2/similarity_mtx/jaccard_spark/GO_Biological_Process_2023/EFO_0000384_ge_mm_gsea_GO_Biological_Process_2023_pval0.05\n"
     ]
    },
    {
     "name": "stderr",
     "output_type": "stream",
     "text": [
      "                                                                                \r"
     ]
    },
    {
     "name": "stdout",
     "output_type": "stream",
     "text": [
      "Writing: gs://ot-team/polina/pathway_propagation_validation_v2/similarity_mtx/jaccard_spark/GO_Biological_Process_2023/EFO_0000403_ge_mm_som_gsea_GO_Biological_Process_2023_pval0.05\n"
     ]
    },
    {
     "name": "stderr",
     "output_type": "stream",
     "text": [
      "                                                                                \r"
     ]
    },
    {
     "name": "stdout",
     "output_type": "stream",
     "text": [
      "Writing: gs://ot-team/polina/pathway_propagation_validation_v2/similarity_mtx/jaccard_spark/GO_Biological_Process_2023/EFO_0000474_ge_mm_gsea_GO_Biological_Process_2023_pval0.05\n"
     ]
    },
    {
     "name": "stderr",
     "output_type": "stream",
     "text": [
      "                                                                                \r"
     ]
    },
    {
     "name": "stdout",
     "output_type": "stream",
     "text": [
      "Writing: gs://ot-team/polina/pathway_propagation_validation_v2/similarity_mtx/jaccard_spark/GO_Biological_Process_2023/EFO_0000519_ge_mm_som_gsea_GO_Biological_Process_2023_pval0.05\n"
     ]
    },
    {
     "name": "stderr",
     "output_type": "stream",
     "text": [
      "                                                                                \r"
     ]
    },
    {
     "name": "stdout",
     "output_type": "stream",
     "text": [
      "Writing: gs://ot-team/polina/pathway_propagation_validation_v2/similarity_mtx/jaccard_spark/GO_Biological_Process_2023/EFO_0000565_ge_mm_som_gsea_GO_Biological_Process_2023_pval0.05\n"
     ]
    },
    {
     "name": "stderr",
     "output_type": "stream",
     "text": [
      "                                                                                \r"
     ]
    },
    {
     "name": "stdout",
     "output_type": "stream",
     "text": [
      "Writing: gs://ot-team/polina/pathway_propagation_validation_v2/similarity_mtx/jaccard_spark/GO_Biological_Process_2023/EFO_0000574_ge_mm_som_gsea_GO_Biological_Process_2023_pval0.05\n"
     ]
    },
    {
     "name": "stderr",
     "output_type": "stream",
     "text": [
      "                                                                                \r"
     ]
    },
    {
     "name": "stdout",
     "output_type": "stream",
     "text": [
      "Writing: gs://ot-team/polina/pathway_propagation_validation_v2/similarity_mtx/jaccard_spark/GO_Biological_Process_2023/EFO_0000612_ge_mm_gsea_GO_Biological_Process_2023_pval0.05\n"
     ]
    },
    {
     "name": "stderr",
     "output_type": "stream",
     "text": [
      "                                                                                \r"
     ]
    },
    {
     "name": "stdout",
     "output_type": "stream",
     "text": [
      "Writing: gs://ot-team/polina/pathway_propagation_validation_v2/similarity_mtx/jaccard_spark/GO_Biological_Process_2023/EFO_0000637_ge_mm_som_gsea_GO_Biological_Process_2023_pval0.05\n"
     ]
    },
    {
     "name": "stderr",
     "output_type": "stream",
     "text": [
      "                                                                                \r"
     ]
    },
    {
     "name": "stdout",
     "output_type": "stream",
     "text": [
      "Writing: gs://ot-team/polina/pathway_propagation_validation_v2/similarity_mtx/jaccard_spark/GO_Biological_Process_2023/EFO_0000676_ge_mm_gsea_GO_Biological_Process_2023_pval0.05\n"
     ]
    },
    {
     "name": "stderr",
     "output_type": "stream",
     "text": [
      "                                                                                \r"
     ]
    },
    {
     "name": "stdout",
     "output_type": "stream",
     "text": [
      "Writing: gs://ot-team/polina/pathway_propagation_validation_v2/similarity_mtx/jaccard_spark/GO_Biological_Process_2023/EFO_0000685_ge_mm_gsea_GO_Biological_Process_2023_pval0.05\n"
     ]
    },
    {
     "name": "stderr",
     "output_type": "stream",
     "text": [
      "                                                                                \r"
     ]
    },
    {
     "name": "stdout",
     "output_type": "stream",
     "text": [
      "Writing: gs://ot-team/polina/pathway_propagation_validation_v2/similarity_mtx/jaccard_spark/GO_Biological_Process_2023/EFO_0000702_ge_mm_som_gsea_GO_Biological_Process_2023_pval0.05\n"
     ]
    },
    {
     "name": "stderr",
     "output_type": "stream",
     "text": [
      "                                                                                \r"
     ]
    },
    {
     "name": "stdout",
     "output_type": "stream",
     "text": [
      "Writing: gs://ot-team/polina/pathway_propagation_validation_v2/similarity_mtx/jaccard_spark/GO_Biological_Process_2023/EFO_0000729_ge_mm_gsea_GO_Biological_Process_2023_pval0.05\n"
     ]
    },
    {
     "name": "stderr",
     "output_type": "stream",
     "text": [
      "                                                                                \r"
     ]
    },
    {
     "name": "stdout",
     "output_type": "stream",
     "text": [
      "Writing: gs://ot-team/polina/pathway_propagation_validation_v2/similarity_mtx/jaccard_spark/GO_Biological_Process_2023/EFO_0000756_ge_mm_som_gsea_GO_Biological_Process_2023_pval0.05\n"
     ]
    },
    {
     "name": "stderr",
     "output_type": "stream",
     "text": [
      "                                                                                \r"
     ]
    },
    {
     "name": "stdout",
     "output_type": "stream",
     "text": [
      "Writing: gs://ot-team/polina/pathway_propagation_validation_v2/similarity_mtx/jaccard_spark/GO_Biological_Process_2023/EFO_0001073_ge_mm_gsea_GO_Biological_Process_2023_pval0.05\n"
     ]
    },
    {
     "name": "stderr",
     "output_type": "stream",
     "text": [
      "                                                                                \r"
     ]
    },
    {
     "name": "stdout",
     "output_type": "stream",
     "text": [
      "Writing: gs://ot-team/polina/pathway_propagation_validation_v2/similarity_mtx/jaccard_spark/GO_Biological_Process_2023/EFO_0001378_ge_mm_som_gsea_GO_Biological_Process_2023_pval0.05\n"
     ]
    },
    {
     "name": "stderr",
     "output_type": "stream",
     "text": [
      "                                                                                \r"
     ]
    },
    {
     "name": "stdout",
     "output_type": "stream",
     "text": [
      "Writing: gs://ot-team/polina/pathway_propagation_validation_v2/similarity_mtx/jaccard_spark/GO_Biological_Process_2023/EFO_0002429_ge_mm_som_gsea_GO_Biological_Process_2023_pval0.05\n"
     ]
    },
    {
     "name": "stderr",
     "output_type": "stream",
     "text": [
      "                                                                                \r"
     ]
    },
    {
     "name": "stdout",
     "output_type": "stream",
     "text": [
      "Writing: gs://ot-team/polina/pathway_propagation_validation_v2/similarity_mtx/jaccard_spark/GO_Biological_Process_2023/EFO_0003060_ge_mm_som_gsea_GO_Biological_Process_2023_pval0.05\n"
     ]
    },
    {
     "name": "stderr",
     "output_type": "stream",
     "text": [
      "                                                                                \r"
     ]
    },
    {
     "name": "stdout",
     "output_type": "stream",
     "text": [
      "Writing: gs://ot-team/polina/pathway_propagation_validation_v2/similarity_mtx/jaccard_spark/GO_Biological_Process_2023/EFO_0003144_ge_mm_gsea_GO_Biological_Process_2023_pval0.05\n"
     ]
    },
    {
     "name": "stderr",
     "output_type": "stream",
     "text": [
      "                                                                                \r"
     ]
    },
    {
     "name": "stdout",
     "output_type": "stream",
     "text": [
      "Writing: gs://ot-team/polina/pathway_propagation_validation_v2/similarity_mtx/jaccard_spark/GO_Biological_Process_2023/EFO_0003758_ge_mm_gsea_GO_Biological_Process_2023_pval0.05\n"
     ]
    },
    {
     "name": "stderr",
     "output_type": "stream",
     "text": [
      "                                                                                \r"
     ]
    },
    {
     "name": "stdout",
     "output_type": "stream",
     "text": [
      "Writing: gs://ot-team/polina/pathway_propagation_validation_v2/similarity_mtx/jaccard_spark/GO_Biological_Process_2023/EFO_0003833_ge_mm_som_gsea_GO_Biological_Process_2023_pval0.05\n"
     ]
    },
    {
     "name": "stderr",
     "output_type": "stream",
     "text": [
      "                                                                                \r"
     ]
    },
    {
     "name": "stdout",
     "output_type": "stream",
     "text": [
      "Writing: gs://ot-team/polina/pathway_propagation_validation_v2/similarity_mtx/jaccard_spark/GO_Biological_Process_2023/EFO_0003869_ge_mm_som_gsea_GO_Biological_Process_2023_pval0.05\n"
     ]
    },
    {
     "name": "stderr",
     "output_type": "stream",
     "text": [
      "                                                                                \r"
     ]
    },
    {
     "name": "stdout",
     "output_type": "stream",
     "text": [
      "Writing: gs://ot-team/polina/pathway_propagation_validation_v2/similarity_mtx/jaccard_spark/GO_Biological_Process_2023/EFO_0004142_ge_mm_som_gsea_GO_Biological_Process_2023_pval0.05\n"
     ]
    },
    {
     "name": "stderr",
     "output_type": "stream",
     "text": [
      "                                                                                \r"
     ]
    },
    {
     "name": "stdout",
     "output_type": "stream",
     "text": [
      "Writing: gs://ot-team/polina/pathway_propagation_validation_v2/similarity_mtx/jaccard_spark/GO_Biological_Process_2023/EFO_0005952_ge_mm_som_gsea_GO_Biological_Process_2023_pval0.05\n"
     ]
    },
    {
     "name": "stderr",
     "output_type": "stream",
     "text": [
      "                                                                                \r"
     ]
    },
    {
     "name": "stdout",
     "output_type": "stream",
     "text": [
      "Writing: gs://ot-team/polina/pathway_propagation_validation_v2/similarity_mtx/jaccard_spark/GO_Biological_Process_2023/EFO_0009606_ge_mm_gsea_GO_Biological_Process_2023_pval0.05\n"
     ]
    },
    {
     "name": "stderr",
     "output_type": "stream",
     "text": [
      "                                                                                \r"
     ]
    },
    {
     "name": "stdout",
     "output_type": "stream",
     "text": [
      "Writing: gs://ot-team/polina/pathway_propagation_validation_v2/similarity_mtx/jaccard_spark/GO_Biological_Process_2023/EFO_1001231_ge_mm_gsea_GO_Biological_Process_2023_pval0.05\n"
     ]
    },
    {
     "name": "stderr",
     "output_type": "stream",
     "text": [
      "                                                                                \r"
     ]
    },
    {
     "name": "stdout",
     "output_type": "stream",
     "text": [
      "Writing: gs://ot-team/polina/pathway_propagation_validation_v2/similarity_mtx/jaccard_spark/GO_Biological_Process_2023/EFO_1001901_ge_mm_som_gsea_GO_Biological_Process_2023_pval0.05\n"
     ]
    },
    {
     "name": "stderr",
     "output_type": "stream",
     "text": [
      "                                                                                \r"
     ]
    },
    {
     "name": "stdout",
     "output_type": "stream",
     "text": [
      "Writing: gs://ot-team/polina/pathway_propagation_validation_v2/similarity_mtx/jaccard_spark/GO_Biological_Process_2023/MONDO_0001657_ge_mm_som_gsea_GO_Biological_Process_2023_pval0.05\n"
     ]
    },
    {
     "name": "stderr",
     "output_type": "stream",
     "text": [
      "                                                                                \r"
     ]
    },
    {
     "name": "stdout",
     "output_type": "stream",
     "text": [
      "Writing: gs://ot-team/polina/pathway_propagation_validation_v2/similarity_mtx/jaccard_spark/GO_Biological_Process_2023/MONDO_0002367_ge_mm_som_gsea_GO_Biological_Process_2023_pval0.05\n"
     ]
    },
    {
     "name": "stderr",
     "output_type": "stream",
     "text": [
      "                                                                                \r"
     ]
    },
    {
     "name": "stdout",
     "output_type": "stream",
     "text": [
      "Writing: gs://ot-team/polina/pathway_propagation_validation_v2/similarity_mtx/jaccard_spark/GO_Biological_Process_2023/MONDO_0004975_ge_mm_gsea_GO_Biological_Process_2023_pval0.05\n"
     ]
    },
    {
     "name": "stderr",
     "output_type": "stream",
     "text": [
      "                                                                                \r"
     ]
    },
    {
     "name": "stdout",
     "output_type": "stream",
     "text": [
      "Writing: gs://ot-team/polina/pathway_propagation_validation_v2/similarity_mtx/jaccard_spark/GO_Biological_Process_2023/MONDO_0004976_ge_mm_gsea_GO_Biological_Process_2023_pval0.05\n"
     ]
    },
    {
     "name": "stderr",
     "output_type": "stream",
     "text": [
      "                                                                                \r"
     ]
    },
    {
     "name": "stdout",
     "output_type": "stream",
     "text": [
      "Writing: gs://ot-team/polina/pathway_propagation_validation_v2/similarity_mtx/jaccard_spark/GO_Biological_Process_2023/MONDO_0004979_ge_mm_gsea_GO_Biological_Process_2023_pval0.05\n"
     ]
    },
    {
     "name": "stderr",
     "output_type": "stream",
     "text": [
      "                                                                                \r"
     ]
    },
    {
     "name": "stdout",
     "output_type": "stream",
     "text": [
      "Writing: gs://ot-team/polina/pathway_propagation_validation_v2/similarity_mtx/jaccard_spark/GO_Biological_Process_2023/MONDO_0004985_ge_mm_gsea_GO_Biological_Process_2023_pval0.05\n"
     ]
    },
    {
     "name": "stderr",
     "output_type": "stream",
     "text": [
      "                                                                                \r"
     ]
    },
    {
     "name": "stdout",
     "output_type": "stream",
     "text": [
      "Writing: gs://ot-team/polina/pathway_propagation_validation_v2/similarity_mtx/jaccard_spark/GO_Biological_Process_2023/MONDO_0005147_ge_mm_gsea_GO_Biological_Process_2023_pval0.05\n"
     ]
    },
    {
     "name": "stderr",
     "output_type": "stream",
     "text": [
      "                                                                                \r"
     ]
    },
    {
     "name": "stdout",
     "output_type": "stream",
     "text": [
      "Writing: gs://ot-team/polina/pathway_propagation_validation_v2/similarity_mtx/jaccard_spark/GO_Biological_Process_2023/MONDO_0005178_ge_mm_gsea_GO_Biological_Process_2023_pval0.05\n"
     ]
    },
    {
     "name": "stderr",
     "output_type": "stream",
     "text": [
      "                                                                                \r"
     ]
    },
    {
     "name": "stdout",
     "output_type": "stream",
     "text": [
      "Writing: gs://ot-team/polina/pathway_propagation_validation_v2/similarity_mtx/jaccard_spark/GO_Biological_Process_2023/MONDO_0005180_ge_mm_gsea_GO_Biological_Process_2023_pval0.05\n"
     ]
    },
    {
     "name": "stderr",
     "output_type": "stream",
     "text": [
      "                                                                                \r"
     ]
    },
    {
     "name": "stdout",
     "output_type": "stream",
     "text": [
      "Writing: gs://ot-team/polina/pathway_propagation_validation_v2/similarity_mtx/jaccard_spark/GO_Biological_Process_2023/MONDO_0005277_ge_mm_gsea_GO_Biological_Process_2023_pval0.05\n"
     ]
    },
    {
     "name": "stderr",
     "output_type": "stream",
     "text": [
      "                                                                                \r"
     ]
    },
    {
     "name": "stdout",
     "output_type": "stream",
     "text": [
      "Writing: gs://ot-team/polina/pathway_propagation_validation_v2/similarity_mtx/jaccard_spark/GO_Biological_Process_2023/MONDO_0005301_ge_mm_gsea_GO_Biological_Process_2023_pval0.05\n"
     ]
    },
    {
     "name": "stderr",
     "output_type": "stream",
     "text": [
      "                                                                                \r"
     ]
    },
    {
     "name": "stdout",
     "output_type": "stream",
     "text": [
      "Writing: gs://ot-team/polina/pathway_propagation_validation_v2/similarity_mtx/jaccard_spark/GO_Biological_Process_2023/MONDO_0007915_ge_mm_gsea_GO_Biological_Process_2023_pval0.05\n"
     ]
    },
    {
     "name": "stderr",
     "output_type": "stream",
     "text": [
      "                                                                                \r"
     ]
    },
    {
     "name": "stdout",
     "output_type": "stream",
     "text": [
      "Writing: gs://ot-team/polina/pathway_propagation_validation_v2/similarity_mtx/jaccard_spark/GO_Biological_Process_2023/MONDO_0008170_ge_mm_som_gsea_GO_Biological_Process_2023_pval0.05\n"
     ]
    },
    {
     "name": "stderr",
     "output_type": "stream",
     "text": [
      "                                                                                \r"
     ]
    },
    {
     "name": "stdout",
     "output_type": "stream",
     "text": [
      "Writing: gs://ot-team/polina/pathway_propagation_validation_v2/similarity_mtx/jaccard_spark/GO_Biological_Process_2023/MONDO_0008315_ge_mm_som_gsea_GO_Biological_Process_2023_pval0.05\n"
     ]
    },
    {
     "name": "stderr",
     "output_type": "stream",
     "text": [
      "                                                                                \r"
     ]
    },
    {
     "name": "stdout",
     "output_type": "stream",
     "text": [
      "Writing: gs://ot-team/polina/pathway_propagation_validation_v2/similarity_mtx/jaccard_spark/GO_Biological_Process_2023/MONDO_0011719_ge_mm_som_gsea_GO_Biological_Process_2023_pval0.05\n"
     ]
    },
    {
     "name": "stderr",
     "output_type": "stream",
     "text": [
      "                                                                                \r"
     ]
    }
   ],
   "source": [
    "gsea_dir = \"gs://ot-team/polina/pathway_propagation_validation_v2/gsea_output_spark\"\n",
    "output_dir = \"gs://ot-team/polina/pathway_propagation_validation_v2/similarity_mtx/jaccard_spark\"\n",
    "\n",
    "calculate_jaccard_similarity(\n",
    "    base_gcs_path=gsea_dir,\n",
    "    folders_to_process=[\"GO_Biological_Process_2023\"],\n",
    "    output_gcs_path=output_dir\n",
    ")"
   ]
  },
  {
   "cell_type": "code",
   "execution_count": 6,
   "id": "ce28d046",
   "metadata": {},
   "outputs": [],
   "source": [
    "df_show = spark.read.parquet(\"gs://ot-team/polina/pathway_propagation_validation_v2/similarity_mtx/jaccard_spark/GO_Biological_Process_2023/MONDO_0011719_ge_mm_som_gsea_GO_Biological_Process_2023_pval0.05\")"
   ]
  },
  {
   "cell_type": "code",
   "execution_count": 7,
   "id": "36e65f31",
   "metadata": {},
   "outputs": [
    {
     "name": "stderr",
     "output_type": "stream",
     "text": [
      "                                                                                \r"
     ]
    },
    {
     "name": "stdout",
     "output_type": "stream",
     "text": [
      "+---------------+---------------+---------------+---------------+-----------------+----------------------------------------------------------------------------------------------------------------------------------+\n",
      "|approvedSymbolA|approvedSymbolB|targetIdA      |targetIdB      |jaccardSimilarity|intersectingTerms                                                                                                                 |\n",
      "+---------------+---------------+---------------+---------------+-----------------+----------------------------------------------------------------------------------------------------------------------------------+\n",
      "|CDK4           |CDK6           |ENSG00000135446|ENSG00000105810|1.0              |Protein Modification Process (GO:0036211),Protein Phosphorylation (GO:0006468),Regulation Of Fibroblast Proliferation (GO:0048145)|\n",
      "+---------------+---------------+---------------+---------------+-----------------+----------------------------------------------------------------------------------------------------------------------------------+\n",
      "\n"
     ]
    }
   ],
   "source": [
    "df_show.filter((col(\"approvedSymbolA\") == \"CDK4\") & (col(\"approvedSymbolB\") == \"CDK6\")).show(5, truncate=False)\n",
    "# df_show.show(10)"
   ]
  },
  {
   "cell_type": "code",
   "execution_count": 8,
   "id": "021ff9ff",
   "metadata": {},
   "outputs": [
    {
     "name": "stderr",
     "output_type": "stream",
     "text": [
      "                                                                                \r"
     ]
    },
    {
     "data": {
      "text/plain": [
       "3040655"
      ]
     },
     "execution_count": 8,
     "metadata": {},
     "output_type": "execute_result"
    }
   ],
   "source": [
    "df_show.count()"
   ]
  },
  {
   "cell_type": "code",
   "execution_count": null,
   "id": "f6a61647",
   "metadata": {},
   "outputs": [],
   "source": []
  },
  {
   "cell_type": "code",
   "execution_count": null,
   "id": "5b81be5f",
   "metadata": {},
   "outputs": [],
   "source": []
  },
  {
   "cell_type": "code",
   "execution_count": null,
   "id": "e8ac54fd",
   "metadata": {},
   "outputs": [],
   "source": []
  }
 ],
 "metadata": {
  "kernelspec": {
   "display_name": "PySpark",
   "language": "python",
   "name": "pyspark"
  },
  "language_info": {
   "codemirror_mode": {
    "name": "ipython",
    "version": 3
   },
   "file_extension": ".py",
   "mimetype": "text/x-python",
   "name": "python",
   "nbconvert_exporter": "python",
   "pygments_lexer": "ipython3",
   "version": "3.11.8"
  }
 },
 "nbformat": 4,
 "nbformat_minor": 5
}
