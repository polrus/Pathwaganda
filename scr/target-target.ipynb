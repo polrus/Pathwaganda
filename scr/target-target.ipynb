{
 "cells": [
  {
   "cell_type": "code",
   "execution_count": 46,
   "id": "a7644035",
   "metadata": {},
   "outputs": [],
   "source": [
    "# from pyspark.sql import SparkSession\n",
    "# from pyspark.sql.functions import col, explode, split, array_distinct, udf\n",
    "# from pyspark.ml.feature import MinHashLSH\n",
    "# from pyspark.sql.types import FloatType\n",
    "# import pyspark.sql.functions as F\n",
    "# import os\n",
    "# import numpy as np\n",
    "# import gcsfs\n",
    "# from pyspark.ml.linalg import Vectors, VectorUDT\n",
    "# from pyspark.sql.functions import udf\n",
    "# from itertools import combinations\n",
    "\n",
    "# from pyspark.sql import SparkSession\n",
    "# from pyspark.sql.functions import col, split, explode, collect_set, lit, array, udf\n",
    "# from pyspark.sql.types import DoubleType\n",
    "# from itertools import combinations\n",
    "\n",
    "from pyspark.sql import SparkSession\n",
    "from pyspark.sql.functions import (\n",
    "    col, split, collect_list, flatten, \n",
    "    array_intersect, array_union, size,\n",
    "    when, first, input_file_name, regexp_extract, regexp_replace\n",
    ")\n",
    "from pyspark.sql.functions import lit\n",
    "from pyspark.storagelevel import StorageLevel\n",
    "from pyspark.sql.functions import *"
   ]
  },
  {
   "cell_type": "code",
   "execution_count": 2,
   "id": "2799bc78",
   "metadata": {},
   "outputs": [],
   "source": [
    "spark = SparkSession.builder.getOrCreate()"
   ]
  },
  {
   "cell_type": "markdown",
   "id": "a0a94715",
   "metadata": {},
   "source": [
    "# Similarity matrix for propagation results"
   ]
  },
  {
   "cell_type": "markdown",
   "id": "ef3da04d",
   "metadata": {},
   "source": [
    "For future speed optiomisation use Minhash for similarity calculation."
   ]
  },
  {
   "cell_type": "markdown",
   "id": "adaa0c96",
   "metadata": {},
   "source": [
    "## Jaccard"
   ]
  },
  {
   "cell_type": "code",
   "execution_count": 40,
   "id": "d25a6a86",
   "metadata": {},
   "outputs": [],
   "source": [
    "# Configurations for performance\n",
    "spark.conf.set(\"spark.sql.shuffle.partitions\", \"200\")\n",
    "spark.conf.set(\"spark.sql.adaptive.enabled\", \"true\")\n",
    "spark.conf.set(\"spark.sql.adaptive.coalescePartitions.enabled\", \"true\")"
   ]
  },
  {
   "cell_type": "code",
   "execution_count": 68,
   "id": "5d0beb24",
   "metadata": {},
   "outputs": [],
   "source": [
    "from pyspark.sql.functions import *\n",
    "\n",
    "def calculate_jaccard_similarity(base_gcs_path, folders_to_process, output_gcs_path):\n",
    "    base_gcs_path = base_gcs_path.rstrip(\"/\")\n",
    "    output_gcs_path = output_gcs_path.rstrip(\"/\")\n",
    "\n",
    "    for folder in folders_to_process:\n",
    "        # Use wholeTextFiles trick to find actual .parquet file paths\n",
    "        parquet_files = spark.sparkContext \\\n",
    "            .wholeTextFiles(f\"{base_gcs_path}/{folder}/**/*.parquet\") \\\n",
    "            .keys() \\\n",
    "            .collect()\n",
    "\n",
    "        # Get unique directories from the file paths\n",
    "        parquet_dirs = set(\"/\".join(path.split(\"/\")[:-1]) for path in parquet_files)\n",
    "\n",
    "        for parquet_dir in sorted(parquet_dirs):\n",
    "            df = spark.read.parquet(parquet_dir)\n",
    "\n",
    "            grouped = df.groupBy(\"approvedSymbol\").agg(\n",
    "                flatten(collect_list(\"terms\")).alias(\"terms\"),\n",
    "                first(\"targetId\").alias(\"targetId\")\n",
    "            ).cache()\n",
    "\n",
    "            if grouped.count() < 10000:\n",
    "                grouped = grouped.hint(\"broadcast\")\n",
    "\n",
    "            pairs = grouped.alias(\"a\").join(\n",
    "                grouped.alias(\"b\"),\n",
    "                (col(\"a.approvedSymbol\") < col(\"b.approvedSymbol\")) &\n",
    "                (size(array_intersect(col(\"a.terms\"), col(\"b.terms\"))) > 0)\n",
    "            )\n",
    "\n",
    "            result = pairs.select(\n",
    "                col(\"a.approvedSymbol\").alias(\"approvedSymbolA\"),\n",
    "                col(\"b.approvedSymbol\").alias(\"approvedSymbolB\"),\n",
    "                col(\"a.targetId\").alias(\"targetIdA\"),\n",
    "                col(\"b.targetId\").alias(\"targetIdB\"),\n",
    "                (size(array_intersect(col(\"a.terms\"), col(\"b.terms\"))) /\n",
    "                 size(array_union(col(\"a.terms\"), col(\"b.terms\")))).alias(\"jaccardSimilarity\"),\n",
    "                array_join(array_intersect(col(\"a.terms\"), col(\"b.terms\")), \",\").alias(\"intersectingTerms\")\n",
    "            )\n",
    "\n",
    "            # Recreate relative output path\n",
    "            relative_path = parquet_dir.replace(base_gcs_path + \"/\", \"\")\n",
    "            output_path = f\"{output_gcs_path}/{relative_path}\"\n",
    "            print(f\"Writing: {output_path}\")\n",
    "            result.repartition(20).write.mode(\"overwrite\").parquet(output_path)\n",
    "            grouped.unpersist()"
   ]
  },
  {
   "cell_type": "markdown",
   "id": "ea2f568f",
   "metadata": {},
   "source": [
    "~ 20 sec / file"
   ]
  },
  {
   "cell_type": "code",
   "execution_count": null,
   "id": "17fbfc0a",
   "metadata": {},
   "outputs": [
    {
     "name": "stderr",
     "output_type": "stream",
     "text": [
      "                                                                                \r"
     ]
    },
    {
     "name": "stdout",
     "output_type": "stream",
     "text": [
      "Writing: gs://ot-team/polina/pathway_propagation_validation_v2/similarity_mtx/jaccard_spark/Reactome_Pathways_2024/EFO_0000095_ge_mm_som_gsea_Reactome_Pathways_2024_pval0.05\n"
     ]
    },
    {
     "name": "stderr",
     "output_type": "stream",
     "text": [
      "                                                                                \r"
     ]
    },
    {
     "name": "stdout",
     "output_type": "stream",
     "text": [
      "Writing: gs://ot-team/polina/pathway_propagation_validation_v2/similarity_mtx/jaccard_spark/Reactome_Pathways_2024/EFO_0000183_ge_mm_som_gsea_Reactome_Pathways_2024_pval0.05\n"
     ]
    },
    {
     "name": "stderr",
     "output_type": "stream",
     "text": [
      "25/05/01 13:10:30 WARN BlockManagerMasterEndpoint: No more replicas available for rdd_442_83 !\n",
      "25/05/01 13:10:30 WARN BlockManagerMasterEndpoint: No more replicas available for rdd_442_10 !\n",
      "25/05/01 13:10:30 WARN BlockManagerMasterEndpoint: No more replicas available for rdd_442_68 !\n",
      "25/05/01 13:10:30 WARN BlockManagerMasterEndpoint: No more replicas available for rdd_442_162 !\n",
      "25/05/01 13:10:30 WARN BlockManagerMasterEndpoint: No more replicas available for rdd_442_149 !\n",
      "25/05/01 13:10:30 WARN BlockManagerMasterEndpoint: No more replicas available for rdd_442_38 !\n",
      "25/05/01 13:10:30 WARN BlockManagerMasterEndpoint: No more replicas available for rdd_442_190 !\n",
      "25/05/01 13:10:30 WARN BlockManagerMasterEndpoint: No more replicas available for rdd_442_73 !\n",
      "25/05/01 13:10:30 WARN BlockManagerMasterEndpoint: No more replicas available for rdd_442_134 !\n",
      "25/05/01 13:10:30 WARN BlockManagerMasterEndpoint: No more replicas available for rdd_442_40 !\n",
      "25/05/01 13:10:30 WARN BlockManagerMasterEndpoint: No more replicas available for rdd_442_99 !\n",
      "25/05/01 13:10:30 WARN BlockManagerMasterEndpoint: No more replicas available for rdd_442_12 !\n",
      "25/05/01 13:10:30 WARN BlockManagerMasterEndpoint: No more replicas available for rdd_442_131 !\n",
      "25/05/01 13:10:30 WARN BlockManagerMasterEndpoint: No more replicas available for rdd_442_102 !\n",
      "25/05/01 13:10:30 WARN BlockManagerMasterEndpoint: No more replicas available for rdd_442_94 !\n",
      "25/05/01 13:10:30 WARN BlockManagerMasterEndpoint: No more replicas available for rdd_442_171 !\n",
      "25/05/01 13:10:30 WARN BlockManagerMasterEndpoint: No more replicas available for rdd_442_23 !\n",
      "25/05/01 13:10:30 WARN BlockManagerMasterEndpoint: No more replicas available for rdd_442_112 !\n",
      "25/05/01 13:10:30 WARN BlockManagerMasterEndpoint: No more replicas available for rdd_442_45 !\n",
      "25/05/01 13:10:30 WARN BlockManagerMasterEndpoint: No more replicas available for rdd_442_64 !\n",
      "25/05/01 13:10:30 WARN BlockManagerMasterEndpoint: No more replicas available for rdd_442_167 !\n",
      "25/05/01 13:10:30 WARN BlockManagerMasterEndpoint: No more replicas available for rdd_442_192 !\n",
      "25/05/01 13:10:30 WARN BlockManagerMasterEndpoint: No more replicas available for rdd_442_46 !\n",
      "25/05/01 13:10:30 WARN BlockManagerMasterEndpoint: No more replicas available for rdd_442_9 !\n",
      "25/05/01 13:10:30 WARN BlockManagerMasterEndpoint: No more replicas available for rdd_442_20 !\n",
      "25/05/01 13:10:30 WARN BlockManagerMasterEndpoint: No more replicas available for rdd_442_4 !\n",
      "25/05/01 13:10:30 WARN BlockManagerMasterEndpoint: No more replicas available for rdd_442_109 !\n",
      "25/05/01 13:10:30 WARN BlockManagerMasterEndpoint: No more replicas available for rdd_442_25 !\n",
      "25/05/01 13:10:30 WARN BlockManagerMasterEndpoint: No more replicas available for rdd_442_175 !\n",
      "25/05/01 13:10:30 WARN BlockManagerMasterEndpoint: No more replicas available for rdd_442_36 !\n",
      "25/05/01 13:10:30 WARN BlockManagerMasterEndpoint: No more replicas available for rdd_442_59 !\n",
      "25/05/01 13:10:30 WARN BlockManagerMasterEndpoint: No more replicas available for rdd_442_74 !\n",
      "25/05/01 13:10:30 WARN BlockManagerMasterEndpoint: No more replicas available for rdd_442_37 !\n",
      "25/05/01 13:10:30 WARN BlockManagerMasterEndpoint: No more replicas available for rdd_442_17 !\n",
      "25/05/01 13:10:30 WARN BlockManagerMasterEndpoint: No more replicas available for rdd_442_78 !\n",
      "25/05/01 13:10:30 WARN BlockManagerMasterEndpoint: No more replicas available for rdd_442_182 !\n",
      "25/05/01 13:10:30 WARN BlockManagerMasterEndpoint: No more replicas available for rdd_442_58 !\n",
      "25/05/01 13:10:30 WARN BlockManagerMasterEndpoint: No more replicas available for rdd_442_16 !\n",
      "25/05/01 13:10:30 WARN BlockManagerMasterEndpoint: No more replicas available for rdd_442_130 !\n",
      "25/05/01 13:10:30 WARN BlockManagerMasterEndpoint: No more replicas available for rdd_442_11 !\n",
      "25/05/01 13:10:30 WARN BlockManagerMasterEndpoint: No more replicas available for rdd_442_47 !\n",
      "25/05/01 13:10:30 WARN BlockManagerMasterEndpoint: No more replicas available for rdd_442_181 !\n",
      "25/05/01 13:10:30 WARN BlockManagerMasterEndpoint: No more replicas available for rdd_442_71 !\n",
      "25/05/01 13:10:30 WARN BlockManagerMasterEndpoint: No more replicas available for rdd_442_89 !\n",
      "25/05/01 13:10:30 WARN BlockManagerMasterEndpoint: No more replicas available for rdd_442_50 !\n",
      "25/05/01 13:10:30 WARN BlockManagerMasterEndpoint: No more replicas available for rdd_442_67 !\n",
      "25/05/01 13:10:30 WARN BlockManagerMasterEndpoint: No more replicas available for rdd_442_66 !\n",
      "25/05/01 13:10:30 WARN BlockManagerMasterEndpoint: No more replicas available for rdd_442_116 !\n",
      "25/05/01 13:10:30 WARN BlockManagerMasterEndpoint: No more replicas available for rdd_442_76 !\n",
      "25/05/01 13:10:30 WARN BlockManagerMasterEndpoint: No more replicas available for rdd_442_114 !\n",
      "25/05/01 13:10:30 WARN BlockManagerMasterEndpoint: No more replicas available for rdd_442_154 !\n",
      "25/05/01 13:10:30 WARN BlockManagerMasterEndpoint: No more replicas available for rdd_442_62 !\n",
      "25/05/01 13:10:30 WARN BlockManagerMasterEndpoint: No more replicas available for rdd_442_191 !\n",
      "25/05/01 13:10:30 WARN BlockManagerMasterEndpoint: No more replicas available for rdd_442_31 !\n",
      "25/05/01 13:10:30 WARN BlockManagerMasterEndpoint: No more replicas available for rdd_442_30 !\n",
      "25/05/01 13:10:30 WARN BlockManagerMasterEndpoint: No more replicas available for rdd_442_22 !\n",
      "25/05/01 13:10:30 WARN BlockManagerMasterEndpoint: No more replicas available for rdd_442_179 !\n",
      "25/05/01 13:10:30 WARN BlockManagerMasterEndpoint: No more replicas available for rdd_442_137 !\n",
      "25/05/01 13:10:30 WARN BlockManagerMasterEndpoint: No more replicas available for rdd_442_63 !\n",
      "25/05/01 13:10:30 WARN BlockManagerMasterEndpoint: No more replicas available for rdd_442_7 !\n",
      "25/05/01 13:10:30 WARN BlockManagerMasterEndpoint: No more replicas available for rdd_442_110 !\n",
      "25/05/01 13:10:30 WARN BlockManagerMasterEndpoint: No more replicas available for rdd_442_96 !\n",
      "25/05/01 13:10:30 WARN BlockManagerMasterEndpoint: No more replicas available for rdd_442_88 !\n",
      "25/05/01 13:10:30 WARN BlockManagerMasterEndpoint: No more replicas available for rdd_442_186 !\n",
      "25/05/01 13:10:30 WARN BlockManagerMasterEndpoint: No more replicas available for rdd_442_91 !\n",
      "25/05/01 13:10:30 WARN BlockManagerMasterEndpoint: No more replicas available for rdd_442_113 !\n",
      "25/05/01 13:10:30 WARN BlockManagerMasterEndpoint: No more replicas available for rdd_442_199 !\n",
      "25/05/01 13:10:30 WARN BlockManagerMasterEndpoint: No more replicas available for rdd_442_65 !\n",
      "25/05/01 13:10:30 WARN BlockManagerMasterEndpoint: No more replicas available for rdd_442_195 !\n",
      "25/05/01 13:10:30 WARN BlockManagerMasterEndpoint: No more replicas available for rdd_442_34 !\n",
      "25/05/01 13:10:30 WARN BlockManagerMasterEndpoint: No more replicas available for rdd_442_159 !\n",
      "25/05/01 13:10:30 WARN BlockManagerMasterEndpoint: No more replicas available for rdd_442_128 !\n",
      "25/05/01 13:10:30 WARN BlockManagerMasterEndpoint: No more replicas available for rdd_442_177 !\n",
      "25/05/01 13:10:30 WARN BlockManagerMasterEndpoint: No more replicas available for rdd_442_95 !\n",
      "25/05/01 13:10:30 WARN BlockManagerMasterEndpoint: No more replicas available for rdd_442_196 !\n",
      "25/05/01 13:10:30 WARN BlockManagerMasterEndpoint: No more replicas available for rdd_442_107 !\n",
      "25/05/01 13:10:30 WARN BlockManagerMasterEndpoint: No more replicas available for rdd_442_136 !\n",
      "25/05/01 13:10:30 WARN BlockManagerMasterEndpoint: No more replicas available for rdd_442_123 !\n",
      "25/05/01 13:10:30 WARN BlockManagerMasterEndpoint: No more replicas available for rdd_442_27 !\n",
      "25/05/01 13:10:30 WARN BlockManagerMasterEndpoint: No more replicas available for rdd_442_170 !\n",
      "25/05/01 13:10:30 WARN BlockManagerMasterEndpoint: No more replicas available for rdd_442_147 !\n",
      "25/05/01 13:10:30 WARN BlockManagerMasterEndpoint: No more replicas available for rdd_442_5 !\n",
      "25/05/01 13:10:30 WARN BlockManagerMasterEndpoint: No more replicas available for rdd_442_39 !\n",
      "25/05/01 13:10:30 WARN BlockManagerMasterEndpoint: No more replicas available for rdd_442_150 !\n",
      "25/05/01 13:10:30 WARN BlockManagerMasterEndpoint: No more replicas available for rdd_442_24 !\n",
      "25/05/01 13:10:30 WARN BlockManagerMasterEndpoint: No more replicas available for rdd_442_145 !\n",
      "25/05/01 13:10:30 WARN BlockManagerMasterEndpoint: No more replicas available for rdd_442_14 !\n",
      "25/05/01 13:10:30 WARN BlockManagerMasterEndpoint: No more replicas available for rdd_442_26 !\n",
      "25/05/01 13:10:30 WARN BlockManagerMasterEndpoint: No more replicas available for rdd_442_122 !\n",
      "25/05/01 13:10:30 WARN BlockManagerMasterEndpoint: No more replicas available for rdd_442_15 !\n",
      "25/05/01 13:10:30 WARN BlockManagerMasterEndpoint: No more replicas available for rdd_442_157 !\n",
      "25/05/01 13:10:30 WARN BlockManagerMasterEndpoint: No more replicas available for rdd_442_21 !\n",
      "25/05/01 13:10:30 WARN BlockManagerMasterEndpoint: No more replicas available for rdd_442_140 !\n",
      "25/05/01 13:10:30 WARN BlockManagerMasterEndpoint: No more replicas available for rdd_442_13 !\n",
      "25/05/01 13:10:30 WARN BlockManagerMasterEndpoint: No more replicas available for rdd_442_121 !\n",
      "25/05/01 13:10:30 WARN BlockManagerMasterEndpoint: No more replicas available for rdd_442_56 !\n",
      "25/05/01 13:10:30 WARN BlockManagerMasterEndpoint: No more replicas available for rdd_442_105 !\n",
      "25/05/01 13:10:30 WARN BlockManagerMasterEndpoint: No more replicas available for rdd_442_8 !\n",
      "25/05/01 13:10:30 WARN BlockManagerMasterEndpoint: No more replicas available for rdd_442_120 !\n",
      "25/05/01 13:10:30 WARN BlockManagerMasterEndpoint: No more replicas available for rdd_442_93 !\n",
      "25/05/01 13:10:30 WARN BlockManagerMasterEndpoint: No more replicas available for rdd_442_153 !\n",
      "25/05/01 13:10:30 WARN BlockManagerMasterEndpoint: No more replicas available for rdd_442_161 !\n",
      "25/05/01 13:10:30 WARN BlockManagerMasterEndpoint: No more replicas available for rdd_442_90 !\n",
      "25/05/01 13:10:30 WARN BlockManagerMasterEndpoint: No more replicas available for rdd_442_127 !\n",
      "25/05/01 13:10:30 WARN BlockManagerMasterEndpoint: No more replicas available for rdd_442_184 !\n",
      "25/05/01 13:10:30 WARN BlockManagerMasterEndpoint: No more replicas available for rdd_442_57 !\n",
      "25/05/01 13:10:30 WARN BlockManagerMasterEndpoint: No more replicas available for rdd_442_97 !\n",
      "25/05/01 13:10:30 WARN BlockManagerMasterEndpoint: No more replicas available for rdd_442_51 !\n",
      "25/05/01 13:10:30 WARN BlockManagerMasterEndpoint: No more replicas available for rdd_442_85 !\n",
      "25/05/01 13:10:30 WARN BlockManagerMasterEndpoint: No more replicas available for rdd_442_54 !\n",
      "25/05/01 13:10:30 WARN BlockManagerMasterEndpoint: No more replicas available for rdd_442_69 !\n",
      "25/05/01 13:10:30 WARN BlockManagerMasterEndpoint: No more replicas available for rdd_442_28 !\n",
      "25/05/01 13:10:30 WARN BlockManagerMasterEndpoint: No more replicas available for rdd_442_44 !\n",
      "25/05/01 13:10:30 WARN BlockManagerMasterEndpoint: No more replicas available for rdd_442_168 !\n",
      "25/05/01 13:10:30 WARN BlockManagerMasterEndpoint: No more replicas available for rdd_442_101 !\n",
      "25/05/01 13:10:30 WARN BlockManagerMasterEndpoint: No more replicas available for rdd_442_166 !\n",
      "25/05/01 13:10:30 WARN BlockManagerMasterEndpoint: No more replicas available for rdd_442_43 !\n",
      "25/05/01 13:10:30 WARN BlockManagerMasterEndpoint: No more replicas available for rdd_442_146 !\n",
      "25/05/01 13:10:30 WARN BlockManagerMasterEndpoint: No more replicas available for rdd_442_197 !\n",
      "25/05/01 13:10:30 WARN BlockManagerMasterEndpoint: No more replicas available for rdd_442_29 !\n",
      "25/05/01 13:10:30 WARN BlockManagerMasterEndpoint: No more replicas available for rdd_442_106 !\n",
      "25/05/01 13:10:30 WARN BlockManagerMasterEndpoint: No more replicas available for rdd_442_81 !\n",
      "25/05/01 13:10:30 WARN BlockManagerMasterEndpoint: No more replicas available for rdd_442_129 !\n",
      "25/05/01 13:10:30 WARN BlockManagerMasterEndpoint: No more replicas available for rdd_442_0 !\n",
      "25/05/01 13:10:30 WARN BlockManagerMasterEndpoint: No more replicas available for rdd_442_41 !\n",
      "25/05/01 13:10:30 WARN BlockManagerMasterEndpoint: No more replicas available for rdd_442_165 !\n",
      "25/05/01 13:10:30 WARN BlockManagerMasterEndpoint: No more replicas available for rdd_442_42 !\n",
      "25/05/01 13:10:30 WARN BlockManagerMasterEndpoint: No more replicas available for rdd_442_53 !\n",
      "25/05/01 13:10:30 WARN BlockManagerMasterEndpoint: No more replicas available for rdd_442_143 !\n",
      "25/05/01 13:10:30 WARN BlockManagerMasterEndpoint: No more replicas available for rdd_442_52 !\n",
      "25/05/01 13:10:30 WARN BlockManagerMasterEndpoint: No more replicas available for rdd_442_117 !\n",
      "25/05/01 13:10:30 WARN BlockManagerMasterEndpoint: No more replicas available for rdd_442_198 !\n",
      "25/05/01 13:10:30 WARN BlockManagerMasterEndpoint: No more replicas available for rdd_442_141 !\n",
      "25/05/01 13:10:30 WARN BlockManagerMasterEndpoint: No more replicas available for rdd_442_176 !\n",
      "25/05/01 13:10:30 WARN BlockManagerMasterEndpoint: No more replicas available for rdd_442_185 !\n",
      "25/05/01 13:10:30 WARN BlockManagerMasterEndpoint: No more replicas available for rdd_442_103 !\n",
      "25/05/01 13:10:30 WARN BlockManagerMasterEndpoint: No more replicas available for rdd_442_19 !\n",
      "25/05/01 13:10:30 WARN BlockManagerMasterEndpoint: No more replicas available for rdd_442_6 !\n",
      "25/05/01 13:10:30 WARN BlockManagerMasterEndpoint: No more replicas available for rdd_442_152 !\n",
      "25/05/01 13:10:30 WARN BlockManagerMasterEndpoint: No more replicas available for rdd_442_77 !\n",
      "25/05/01 13:10:30 WARN BlockManagerMasterEndpoint: No more replicas available for rdd_442_55 !\n",
      "25/05/01 13:10:30 WARN BlockManagerMasterEndpoint: No more replicas available for rdd_442_2 !\n",
      "25/05/01 13:10:30 WARN BlockManagerMasterEndpoint: No more replicas available for rdd_442_124 !\n",
      "25/05/01 13:10:30 WARN BlockManagerMasterEndpoint: No more replicas available for rdd_442_82 !\n",
      "25/05/01 13:10:30 WARN BlockManagerMasterEndpoint: No more replicas available for rdd_442_156 !\n",
      "25/05/01 13:10:30 WARN BlockManagerMasterEndpoint: No more replicas available for rdd_442_18 !\n",
      "25/05/01 13:10:30 WARN BlockManagerMasterEndpoint: No more replicas available for rdd_442_173 !\n",
      "25/05/01 13:10:30 WARN BlockManagerMasterEndpoint: No more replicas available for rdd_442_33 !\n",
      "25/05/01 13:10:30 WARN BlockManagerMasterEndpoint: No more replicas available for rdd_442_133 !\n",
      "25/05/01 13:10:30 WARN BlockManagerMasterEndpoint: No more replicas available for rdd_442_139 !\n",
      "25/05/01 13:10:30 WARN BlockManagerMasterEndpoint: No more replicas available for rdd_442_187 !\n",
      "25/05/01 13:10:30 WARN YarnAllocator: Container from a bad node: container_1746098278489_0001_01_000012 on host: pr-path-v6-m.c.open-targets-eu-dev.internal. Exit status: 137. Diagnostics: [2025-05-01 13:10:30.428]Container killed on request. Exit code is 137\n",
      "[2025-05-01 13:10:30.428]Container exited with a non-zero exit code 137. \n",
      "[2025-05-01 13:10:30.428]Killed by external signal\n",
      ".\n",
      "25/05/01 13:10:30 ERROR YarnScheduler: Lost executor 10 on pr-path-v6-m.c.open-targets-eu-dev.internal: Container from a bad node: container_1746098278489_0001_01_000012 on host: pr-path-v6-m.c.open-targets-eu-dev.internal. Exit status: 137. Diagnostics: [2025-05-01 13:10:30.428]Container killed on request. Exit code is 137\n",
      "[2025-05-01 13:10:30.428]Container exited with a non-zero exit code 137. \n",
      "[2025-05-01 13:10:30.428]Killed by external signal\n",
      ".\n",
      "25/05/01 13:10:30 WARN YarnSchedulerBackend$YarnSchedulerEndpoint: Requesting driver to remove executor 10 for reason Container from a bad node: container_1746098278489_0001_01_000012 on host: pr-path-v6-m.c.open-targets-eu-dev.internal. Exit status: 137. Diagnostics: [2025-05-01 13:10:30.428]Container killed on request. Exit code is 137\n",
      "[2025-05-01 13:10:30.428]Container exited with a non-zero exit code 137. \n",
      "[2025-05-01 13:10:30.428]Killed by external signal\n",
      ".\n",
      "25/05/01 13:10:30 WARN TaskSetManager: Lost task 47.0 in stage 188.0 (TID 10445) (pr-path-v6-m.c.open-targets-eu-dev.internal executor 10): ExecutorLostFailure (executor 10 exited caused by one of the running tasks) Reason: Container from a bad node: container_1746098278489_0001_01_000012 on host: pr-path-v6-m.c.open-targets-eu-dev.internal. Exit status: 137. Diagnostics: [2025-05-01 13:10:30.428]Container killed on request. Exit code is 137\n",
      "[2025-05-01 13:10:30.428]Container exited with a non-zero exit code 137. \n",
      "[2025-05-01 13:10:30.428]Killed by external signal\n",
      ".\n",
      "25/05/01 13:10:30 WARN TaskSetManager: Lost task 50.0 in stage 188.0 (TID 10447) (pr-path-v6-m.c.open-targets-eu-dev.internal executor 10): ExecutorLostFailure (executor 10 exited caused by one of the running tasks) Reason: Container from a bad node: container_1746098278489_0001_01_000012 on host: pr-path-v6-m.c.open-targets-eu-dev.internal. Exit status: 137. Diagnostics: [2025-05-01 13:10:30.428]Container killed on request. Exit code is 137\n",
      "[2025-05-01 13:10:30.428]Container exited with a non-zero exit code 137. \n",
      "[2025-05-01 13:10:30.428]Killed by external signal\n",
      ".\n",
      "                                                                                \r"
     ]
    },
    {
     "name": "stdout",
     "output_type": "stream",
     "text": [
      "Writing: gs://ot-team/polina/pathway_propagation_validation_v2/similarity_mtx/jaccard_spark/Reactome_Pathways_2024/EFO_0000222_ge_mm_som_gsea_Reactome_Pathways_2024_pval0.05\n"
     ]
    },
    {
     "name": "stderr",
     "output_type": "stream",
     "text": [
      "                                                                                \r"
     ]
    },
    {
     "name": "stdout",
     "output_type": "stream",
     "text": [
      "Writing: gs://ot-team/polina/pathway_propagation_validation_v2/similarity_mtx/jaccard_spark/Reactome_Pathways_2024/EFO_0000274_ge_mm_gsea_Reactome_Pathways_2024_pval0.05\n"
     ]
    },
    {
     "name": "stderr",
     "output_type": "stream",
     "text": [
      "                                                                                \r"
     ]
    },
    {
     "name": "stdout",
     "output_type": "stream",
     "text": [
      "Writing: gs://ot-team/polina/pathway_propagation_validation_v2/similarity_mtx/jaccard_spark/Reactome_Pathways_2024/EFO_0000275_ge_mm_gsea_Reactome_Pathways_2024_pval0.05\n"
     ]
    },
    {
     "name": "stderr",
     "output_type": "stream",
     "text": [
      "                                                                                \r"
     ]
    },
    {
     "name": "stdout",
     "output_type": "stream",
     "text": [
      "Writing: gs://ot-team/polina/pathway_propagation_validation_v2/similarity_mtx/jaccard_spark/Reactome_Pathways_2024/EFO_0000341_ge_mm_gsea_Reactome_Pathways_2024_pval0.05\n"
     ]
    },
    {
     "name": "stderr",
     "output_type": "stream",
     "text": [
      "                                                                                \r"
     ]
    },
    {
     "name": "stdout",
     "output_type": "stream",
     "text": [
      "Writing: gs://ot-team/polina/pathway_propagation_validation_v2/similarity_mtx/jaccard_spark/Reactome_Pathways_2024/EFO_0000384_ge_mm_gsea_Reactome_Pathways_2024_pval0.05\n"
     ]
    },
    {
     "name": "stderr",
     "output_type": "stream",
     "text": [
      "                                                                                \r"
     ]
    },
    {
     "name": "stdout",
     "output_type": "stream",
     "text": [
      "Writing: gs://ot-team/polina/pathway_propagation_validation_v2/similarity_mtx/jaccard_spark/Reactome_Pathways_2024/EFO_0000403_ge_mm_som_gsea_Reactome_Pathways_2024_pval0.05\n"
     ]
    },
    {
     "name": "stderr",
     "output_type": "stream",
     "text": [
      "                                                                                \r"
     ]
    },
    {
     "name": "stdout",
     "output_type": "stream",
     "text": [
      "Writing: gs://ot-team/polina/pathway_propagation_validation_v2/similarity_mtx/jaccard_spark/Reactome_Pathways_2024/EFO_0000474_ge_mm_gsea_Reactome_Pathways_2024_pval0.05\n"
     ]
    },
    {
     "name": "stderr",
     "output_type": "stream",
     "text": [
      "                                                                                \r"
     ]
    },
    {
     "name": "stdout",
     "output_type": "stream",
     "text": [
      "Writing: gs://ot-team/polina/pathway_propagation_validation_v2/similarity_mtx/jaccard_spark/Reactome_Pathways_2024/EFO_0000519_ge_mm_som_gsea_Reactome_Pathways_2024_pval0.05\n"
     ]
    },
    {
     "name": "stderr",
     "output_type": "stream",
     "text": [
      "                                                                                \r"
     ]
    },
    {
     "name": "stdout",
     "output_type": "stream",
     "text": [
      "Writing: gs://ot-team/polina/pathway_propagation_validation_v2/similarity_mtx/jaccard_spark/Reactome_Pathways_2024/EFO_0000565_ge_mm_som_gsea_Reactome_Pathways_2024_pval0.05\n"
     ]
    },
    {
     "name": "stderr",
     "output_type": "stream",
     "text": [
      "                                                                                \r"
     ]
    },
    {
     "name": "stdout",
     "output_type": "stream",
     "text": [
      "Writing: gs://ot-team/polina/pathway_propagation_validation_v2/similarity_mtx/jaccard_spark/Reactome_Pathways_2024/EFO_0000574_ge_mm_som_gsea_Reactome_Pathways_2024_pval0.05\n"
     ]
    },
    {
     "name": "stderr",
     "output_type": "stream",
     "text": [
      "                                                                                \r"
     ]
    },
    {
     "name": "stdout",
     "output_type": "stream",
     "text": [
      "Writing: gs://ot-team/polina/pathway_propagation_validation_v2/similarity_mtx/jaccard_spark/Reactome_Pathways_2024/EFO_0000612_ge_mm_gsea_Reactome_Pathways_2024_pval0.05\n"
     ]
    },
    {
     "name": "stderr",
     "output_type": "stream",
     "text": [
      "                                                                                \r"
     ]
    },
    {
     "name": "stdout",
     "output_type": "stream",
     "text": [
      "Writing: gs://ot-team/polina/pathway_propagation_validation_v2/similarity_mtx/jaccard_spark/Reactome_Pathways_2024/EFO_0000637_ge_mm_som_gsea_Reactome_Pathways_2024_pval0.05\n"
     ]
    },
    {
     "name": "stderr",
     "output_type": "stream",
     "text": [
      "                                                                                \r"
     ]
    },
    {
     "name": "stdout",
     "output_type": "stream",
     "text": [
      "Writing: gs://ot-team/polina/pathway_propagation_validation_v2/similarity_mtx/jaccard_spark/Reactome_Pathways_2024/EFO_0000676_ge_mm_gsea_Reactome_Pathways_2024_pval0.05\n"
     ]
    },
    {
     "name": "stderr",
     "output_type": "stream",
     "text": [
      "                                                                                \r"
     ]
    },
    {
     "name": "stdout",
     "output_type": "stream",
     "text": [
      "Writing: gs://ot-team/polina/pathway_propagation_validation_v2/similarity_mtx/jaccard_spark/Reactome_Pathways_2024/EFO_0000685_ge_mm_gsea_Reactome_Pathways_2024_pval0.05\n"
     ]
    },
    {
     "name": "stderr",
     "output_type": "stream",
     "text": [
      "                                                                                \r"
     ]
    },
    {
     "name": "stdout",
     "output_type": "stream",
     "text": [
      "Writing: gs://ot-team/polina/pathway_propagation_validation_v2/similarity_mtx/jaccard_spark/Reactome_Pathways_2024/EFO_0000702_ge_mm_som_gsea_Reactome_Pathways_2024_pval0.05\n"
     ]
    },
    {
     "name": "stderr",
     "output_type": "stream",
     "text": [
      "                                                                                \r"
     ]
    },
    {
     "name": "stdout",
     "output_type": "stream",
     "text": [
      "Writing: gs://ot-team/polina/pathway_propagation_validation_v2/similarity_mtx/jaccard_spark/Reactome_Pathways_2024/EFO_0000729_ge_mm_gsea_Reactome_Pathways_2024_pval0.05\n"
     ]
    },
    {
     "name": "stderr",
     "output_type": "stream",
     "text": [
      "                                                                                \r"
     ]
    },
    {
     "name": "stdout",
     "output_type": "stream",
     "text": [
      "Writing: gs://ot-team/polina/pathway_propagation_validation_v2/similarity_mtx/jaccard_spark/Reactome_Pathways_2024/EFO_0000756_ge_mm_som_gsea_Reactome_Pathways_2024_pval0.05\n"
     ]
    },
    {
     "name": "stderr",
     "output_type": "stream",
     "text": [
      "                                                                                \r"
     ]
    },
    {
     "name": "stdout",
     "output_type": "stream",
     "text": [
      "Writing: gs://ot-team/polina/pathway_propagation_validation_v2/similarity_mtx/jaccard_spark/Reactome_Pathways_2024/EFO_0001073_ge_mm_gsea_Reactome_Pathways_2024_pval0.05\n"
     ]
    },
    {
     "name": "stderr",
     "output_type": "stream",
     "text": [
      "                                                                                \r"
     ]
    },
    {
     "name": "stdout",
     "output_type": "stream",
     "text": [
      "Writing: gs://ot-team/polina/pathway_propagation_validation_v2/similarity_mtx/jaccard_spark/Reactome_Pathways_2024/EFO_0001378_ge_mm_som_gsea_Reactome_Pathways_2024_pval0.05\n"
     ]
    },
    {
     "name": "stderr",
     "output_type": "stream",
     "text": [
      "                                                                                \r"
     ]
    },
    {
     "name": "stdout",
     "output_type": "stream",
     "text": [
      "Writing: gs://ot-team/polina/pathway_propagation_validation_v2/similarity_mtx/jaccard_spark/Reactome_Pathways_2024/EFO_0002429_ge_mm_som_gsea_Reactome_Pathways_2024_pval0.05\n"
     ]
    },
    {
     "name": "stderr",
     "output_type": "stream",
     "text": [
      "                                                                                \r"
     ]
    },
    {
     "name": "stdout",
     "output_type": "stream",
     "text": [
      "Writing: gs://ot-team/polina/pathway_propagation_validation_v2/similarity_mtx/jaccard_spark/Reactome_Pathways_2024/EFO_0003060_ge_mm_som_gsea_Reactome_Pathways_2024_pval0.05\n"
     ]
    },
    {
     "name": "stderr",
     "output_type": "stream",
     "text": [
      "[Stage 524:======================>                               (83 + 4) / 200]\r"
     ]
    }
   ],
   "source": [
    "gsea_dir = \"gs://ot-team/polina/pathway_propagation_validation_v2/gsea_output_spark\"\n",
    "output_dir = \"gs://ot-team/polina/pathway_propagation_validation_v2/similarity_mtx/jaccard_spark\"\n",
    "\n",
    "calculate_jaccard_similarity(\n",
    "    base_gcs_path=gsea_dir,\n",
    "    folders_to_process=[\"Reactome_Pathways_2024\"],\n",
    "    output_gcs_path=output_dir\n",
    ")"
   ]
  },
  {
   "cell_type": "code",
   "execution_count": null,
   "id": "ce28d046",
   "metadata": {},
   "outputs": [],
   "source": [
    "df_show = spark.read.parquet(\"gs://ot-team/polina/pathway_propagation_validation_v2/similarity_mtx/jaccard_spark/Reactome_Pathways_2024/EFO_0000183_ge_mm_som_gsea_Reactome_Pathways_2024_pval0.05\")"
   ]
  },
  {
   "cell_type": "code",
   "execution_count": null,
   "id": "36e65f31",
   "metadata": {},
   "outputs": [
    {
     "name": "stderr",
     "output_type": "stream",
     "text": [
      "[Stage 158:>                                                        (0 + 1) / 1]\r"
     ]
    },
    {
     "name": "stdout",
     "output_type": "stream",
     "text": [
      "+---------------+---------------+---------------+---------------+------------------+------------------------------------------------------------------------------------------------------------------------------------------------------------------------------------------------------------------------------------------------------------------------------------------------------------------------------------------------------------------------------------------------------------------------------------------------------------------------+\n",
      "|approvedSymbolA|approvedSymbolB|targetIdA      |targetIdB      |jaccardSimilarity |intersectingTerms                                                                                                                                                                                                                                                                                                                                                                                                                                                       |\n",
      "+---------------+---------------+---------------+---------------+------------------+------------------------------------------------------------------------------------------------------------------------------------------------------------------------------------------------------------------------------------------------------------------------------------------------------------------------------------------------------------------------------------------------------------------------------------------------------------------------+\n",
      "|CDK4           |CDK6           |ENSG00000135446|ENSG00000105810|0.8461538461538461|Human cytomegalovirus infection,Hepatocellular carcinoma,Kaposi sarcoma-associated herpesvirus infection,Cushing syndrome,Non-small cell lung cancer,Pathways in cancer,Pancreatic cancer,Human papillomavirus infection,Influenza A,Measles,Viral carcinogenesis,Cell cycle,Cellular senescence,Melanoma,Epstein-Barr virus infection,p53 signaling pathway,Chronic myeloid leukemia,Hepatitis C,PI3K-Akt signaling pathway,Breast cancer,Glioma,Small cell lung cancer|\n",
      "+---------------+---------------+---------------+---------------+------------------+------------------------------------------------------------------------------------------------------------------------------------------------------------------------------------------------------------------------------------------------------------------------------------------------------------------------------------------------------------------------------------------------------------------------------------------------------------------------+\n",
      "\n"
     ]
    },
    {
     "name": "stderr",
     "output_type": "stream",
     "text": [
      "                                                                                \r"
     ]
    }
   ],
   "source": [
    "# df_show.filter((col(\"approvedSymbolA\") == \"CDK4\") & (col(\"approvedSymbolB\") == \"CDK6\")).show(5, truncate=False)\n",
    "df_show.show(10)"
   ]
  },
  {
   "cell_type": "markdown",
   "id": "76c614ec",
   "metadata": {},
   "source": [
    "df_show.count()"
   ]
  },
  {
   "cell_type": "markdown",
   "id": "3bb5c238",
   "metadata": {},
   "source": []
  }
 ],
 "metadata": {
  "kernelspec": {
   "display_name": "PySpark",
   "language": "python",
   "name": "pyspark"
  },
  "language_info": {
   "codemirror_mode": {
    "name": "ipython",
    "version": 3
   },
   "file_extension": ".py",
   "mimetype": "text/x-python",
   "name": "python",
   "nbconvert_exporter": "python",
   "pygments_lexer": "ipython3",
   "version": "3.11.8"
  }
 },
 "nbformat": 4,
 "nbformat_minor": 5
}
