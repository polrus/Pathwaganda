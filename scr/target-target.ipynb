{
 "cells": [
  {
   "cell_type": "code",
   "execution_count": 46,
   "id": "a7644035",
   "metadata": {},
   "outputs": [],
   "source": [
    "# from pyspark.sql import SparkSession\n",
    "# from pyspark.sql.functions import col, explode, split, array_distinct, udf\n",
    "# from pyspark.ml.feature import MinHashLSH\n",
    "# from pyspark.sql.types import FloatType\n",
    "# import pyspark.sql.functions as F\n",
    "# import os\n",
    "# import numpy as np\n",
    "# import gcsfs\n",
    "# from pyspark.ml.linalg import Vectors, VectorUDT\n",
    "# from pyspark.sql.functions import udf\n",
    "# from itertools import combinations\n",
    "\n",
    "# from pyspark.sql import SparkSession\n",
    "# from pyspark.sql.functions import col, split, explode, collect_set, lit, array, udf\n",
    "# from pyspark.sql.types import DoubleType\n",
    "# from itertools import combinations\n",
    "\n",
    "from pyspark.sql import SparkSession\n",
    "from pyspark.sql.functions import (\n",
    "    col, split, collect_list, flatten, \n",
    "    array_intersect, array_union, size,\n",
    "    when, first, input_file_name, regexp_extract, regexp_replace\n",
    ")\n",
    "from pyspark.sql.functions import lit\n",
    "from pyspark.storagelevel import StorageLevel\n",
    "from pyspark.sql.functions import *"
   ]
  },
  {
   "cell_type": "code",
   "execution_count": 2,
   "id": "2799bc78",
   "metadata": {},
   "outputs": [],
   "source": [
    "spark = SparkSession.builder.getOrCreate()"
   ]
  },
  {
   "cell_type": "markdown",
   "id": "a0a94715",
   "metadata": {},
   "source": [
    "# Similarity matrix for propagation results"
   ]
  },
  {
   "cell_type": "markdown",
   "id": "ef3da04d",
   "metadata": {},
   "source": [
    "For future speed optiomisation use Minhash for similarity calculation."
   ]
  },
  {
   "cell_type": "markdown",
   "id": "adaa0c96",
   "metadata": {},
   "source": [
    "## Jaccard"
   ]
  },
  {
   "cell_type": "code",
   "execution_count": 40,
   "id": "d25a6a86",
   "metadata": {},
   "outputs": [],
   "source": [
    "# Configurations for performance\n",
    "spark.conf.set(\"spark.sql.shuffle.partitions\", \"200\")\n",
    "spark.conf.set(\"spark.sql.adaptive.enabled\", \"true\")\n",
    "spark.conf.set(\"spark.sql.adaptive.coalescePartitions.enabled\", \"true\")"
   ]
  },
  {
   "cell_type": "code",
   "execution_count": 68,
   "id": "5d0beb24",
   "metadata": {},
   "outputs": [],
   "source": [
    "from pyspark.sql.functions import *\n",
    "\n",
    "def calculate_jaccard_similarity(base_gcs_path, folders_to_process, output_gcs_path):\n",
    "    base_gcs_path = base_gcs_path.rstrip(\"/\")\n",
    "    output_gcs_path = output_gcs_path.rstrip(\"/\")\n",
    "\n",
    "    for folder in folders_to_process:\n",
    "        # Use wholeTextFiles trick to find actual .parquet file paths\n",
    "        parquet_files = spark.sparkContext \\\n",
    "            .wholeTextFiles(f\"{base_gcs_path}/{folder}/**/*.parquet\") \\\n",
    "            .keys() \\\n",
    "            .collect()\n",
    "\n",
    "        # Get unique directories from the file paths\n",
    "        parquet_dirs = set(\"/\".join(path.split(\"/\")[:-1]) for path in parquet_files)\n",
    "\n",
    "        for parquet_dir in sorted(parquet_dirs):\n",
    "            df = spark.read.parquet(parquet_dir)\n",
    "\n",
    "            grouped = df.groupBy(\"approvedSymbol\").agg(\n",
    "                flatten(collect_list(\"terms\")).alias(\"terms\"),\n",
    "                first(\"targetId\").alias(\"targetId\")\n",
    "            ).cache()\n",
    "\n",
    "            if grouped.count() < 10000:\n",
    "                grouped = grouped.hint(\"broadcast\")\n",
    "\n",
    "            pairs = grouped.alias(\"a\").join(\n",
    "                grouped.alias(\"b\"),\n",
    "                (col(\"a.approvedSymbol\") < col(\"b.approvedSymbol\")) &\n",
    "                (size(array_intersect(col(\"a.terms\"), col(\"b.terms\"))) > 0)\n",
    "            )\n",
    "\n",
    "            result = pairs.select(\n",
    "                col(\"a.approvedSymbol\").alias(\"approvedSymbolA\"),\n",
    "                col(\"b.approvedSymbol\").alias(\"approvedSymbolB\"),\n",
    "                col(\"a.targetId\").alias(\"targetIdA\"),\n",
    "                col(\"b.targetId\").alias(\"targetIdB\"),\n",
    "                (size(array_intersect(col(\"a.terms\"), col(\"b.terms\"))) /\n",
    "                 size(array_union(col(\"a.terms\"), col(\"b.terms\")))).alias(\"jaccardSimilarity\"),\n",
    "                array_join(array_intersect(col(\"a.terms\"), col(\"b.terms\")), \",\").alias(\"intersectingTerms\")\n",
    "            )\n",
    "\n",
    "            # Recreate relative output path\n",
    "            relative_path = parquet_dir.replace(base_gcs_path + \"/\", \"\")\n",
    "            output_path = f\"{output_gcs_path}/{relative_path}\"\n",
    "            print(f\"Writing: {output_path}\")\n",
    "            result.repartition(20).write.mode(\"overwrite\").parquet(output_path)\n",
    "            grouped.unpersist()"
   ]
  },
  {
   "cell_type": "markdown",
   "id": "ea2f568f",
   "metadata": {},
   "source": [
    "~ 20 sec / file"
   ]
  },
  {
   "cell_type": "code",
   "execution_count": 69,
   "id": "17fbfc0a",
   "metadata": {},
   "outputs": [
    {
     "name": "stderr",
     "output_type": "stream",
     "text": [
      "                                                                                \r"
     ]
    },
    {
     "name": "stdout",
     "output_type": "stream",
     "text": [
      "Writing: gs://ot-team/polina/pathway_propagation_validation_v2/similarity_mtx/jaccard_spark/Reactome_Pathways_2024/EFO_0000095_ge_mm_som_gsea_Reactome_Pathways_2024_pval0.05\n"
     ]
    },
    {
     "name": "stderr",
     "output_type": "stream",
     "text": [
      "                                                                                \r"
     ]
    },
    {
     "name": "stdout",
     "output_type": "stream",
     "text": [
      "Writing: gs://ot-team/polina/pathway_propagation_validation_v2/similarity_mtx/jaccard_spark/Reactome_Pathways_2024/EFO_0000183_ge_mm_som_gsea_Reactome_Pathways_2024_pval0.05\n"
     ]
    },
    {
     "name": "stderr",
     "output_type": "stream",
     "text": [
      "25/05/01 13:10:30 WARN BlockManagerMasterEndpoint: No more replicas available for rdd_442_83 !\n",
      "25/05/01 13:10:30 WARN BlockManagerMasterEndpoint: No more replicas available for rdd_442_10 !\n",
      "25/05/01 13:10:30 WARN BlockManagerMasterEndpoint: No more replicas available for rdd_442_68 !\n",
      "25/05/01 13:10:30 WARN BlockManagerMasterEndpoint: No more replicas available for rdd_442_162 !\n",
      "25/05/01 13:10:30 WARN BlockManagerMasterEndpoint: No more replicas available for rdd_442_149 !\n",
      "25/05/01 13:10:30 WARN BlockManagerMasterEndpoint: No more replicas available for rdd_442_38 !\n",
      "25/05/01 13:10:30 WARN BlockManagerMasterEndpoint: No more replicas available for rdd_442_190 !\n",
      "25/05/01 13:10:30 WARN BlockManagerMasterEndpoint: No more replicas available for rdd_442_73 !\n",
      "25/05/01 13:10:30 WARN BlockManagerMasterEndpoint: No more replicas available for rdd_442_134 !\n",
      "25/05/01 13:10:30 WARN BlockManagerMasterEndpoint: No more replicas available for rdd_442_40 !\n",
      "25/05/01 13:10:30 WARN BlockManagerMasterEndpoint: No more replicas available for rdd_442_99 !\n",
      "25/05/01 13:10:30 WARN BlockManagerMasterEndpoint: No more replicas available for rdd_442_12 !\n",
      "25/05/01 13:10:30 WARN BlockManagerMasterEndpoint: No more replicas available for rdd_442_131 !\n",
      "25/05/01 13:10:30 WARN BlockManagerMasterEndpoint: No more replicas available for rdd_442_102 !\n",
      "25/05/01 13:10:30 WARN BlockManagerMasterEndpoint: No more replicas available for rdd_442_94 !\n",
      "25/05/01 13:10:30 WARN BlockManagerMasterEndpoint: No more replicas available for rdd_442_171 !\n",
      "25/05/01 13:10:30 WARN BlockManagerMasterEndpoint: No more replicas available for rdd_442_23 !\n",
      "25/05/01 13:10:30 WARN BlockManagerMasterEndpoint: No more replicas available for rdd_442_112 !\n",
      "25/05/01 13:10:30 WARN BlockManagerMasterEndpoint: No more replicas available for rdd_442_45 !\n",
      "25/05/01 13:10:30 WARN BlockManagerMasterEndpoint: No more replicas available for rdd_442_64 !\n",
      "25/05/01 13:10:30 WARN BlockManagerMasterEndpoint: No more replicas available for rdd_442_167 !\n",
      "25/05/01 13:10:30 WARN BlockManagerMasterEndpoint: No more replicas available for rdd_442_192 !\n",
      "25/05/01 13:10:30 WARN BlockManagerMasterEndpoint: No more replicas available for rdd_442_46 !\n",
      "25/05/01 13:10:30 WARN BlockManagerMasterEndpoint: No more replicas available for rdd_442_9 !\n",
      "25/05/01 13:10:30 WARN BlockManagerMasterEndpoint: No more replicas available for rdd_442_20 !\n",
      "25/05/01 13:10:30 WARN BlockManagerMasterEndpoint: No more replicas available for rdd_442_4 !\n",
      "25/05/01 13:10:30 WARN BlockManagerMasterEndpoint: No more replicas available for rdd_442_109 !\n",
      "25/05/01 13:10:30 WARN BlockManagerMasterEndpoint: No more replicas available for rdd_442_25 !\n",
      "25/05/01 13:10:30 WARN BlockManagerMasterEndpoint: No more replicas available for rdd_442_175 !\n",
      "25/05/01 13:10:30 WARN BlockManagerMasterEndpoint: No more replicas available for rdd_442_36 !\n",
      "25/05/01 13:10:30 WARN BlockManagerMasterEndpoint: No more replicas available for rdd_442_59 !\n",
      "25/05/01 13:10:30 WARN BlockManagerMasterEndpoint: No more replicas available for rdd_442_74 !\n",
      "25/05/01 13:10:30 WARN BlockManagerMasterEndpoint: No more replicas available for rdd_442_37 !\n",
      "25/05/01 13:10:30 WARN BlockManagerMasterEndpoint: No more replicas available for rdd_442_17 !\n",
      "25/05/01 13:10:30 WARN BlockManagerMasterEndpoint: No more replicas available for rdd_442_78 !\n",
      "25/05/01 13:10:30 WARN BlockManagerMasterEndpoint: No more replicas available for rdd_442_182 !\n",
      "25/05/01 13:10:30 WARN BlockManagerMasterEndpoint: No more replicas available for rdd_442_58 !\n",
      "25/05/01 13:10:30 WARN BlockManagerMasterEndpoint: No more replicas available for rdd_442_16 !\n",
      "25/05/01 13:10:30 WARN BlockManagerMasterEndpoint: No more replicas available for rdd_442_130 !\n",
      "25/05/01 13:10:30 WARN BlockManagerMasterEndpoint: No more replicas available for rdd_442_11 !\n",
      "25/05/01 13:10:30 WARN BlockManagerMasterEndpoint: No more replicas available for rdd_442_47 !\n",
      "25/05/01 13:10:30 WARN BlockManagerMasterEndpoint: No more replicas available for rdd_442_181 !\n",
      "25/05/01 13:10:30 WARN BlockManagerMasterEndpoint: No more replicas available for rdd_442_71 !\n",
      "25/05/01 13:10:30 WARN BlockManagerMasterEndpoint: No more replicas available for rdd_442_89 !\n",
      "25/05/01 13:10:30 WARN BlockManagerMasterEndpoint: No more replicas available for rdd_442_50 !\n",
      "25/05/01 13:10:30 WARN BlockManagerMasterEndpoint: No more replicas available for rdd_442_67 !\n",
      "25/05/01 13:10:30 WARN BlockManagerMasterEndpoint: No more replicas available for rdd_442_66 !\n",
      "25/05/01 13:10:30 WARN BlockManagerMasterEndpoint: No more replicas available for rdd_442_116 !\n",
      "25/05/01 13:10:30 WARN BlockManagerMasterEndpoint: No more replicas available for rdd_442_76 !\n",
      "25/05/01 13:10:30 WARN BlockManagerMasterEndpoint: No more replicas available for rdd_442_114 !\n",
      "25/05/01 13:10:30 WARN BlockManagerMasterEndpoint: No more replicas available for rdd_442_154 !\n",
      "25/05/01 13:10:30 WARN BlockManagerMasterEndpoint: No more replicas available for rdd_442_62 !\n",
      "25/05/01 13:10:30 WARN BlockManagerMasterEndpoint: No more replicas available for rdd_442_191 !\n",
      "25/05/01 13:10:30 WARN BlockManagerMasterEndpoint: No more replicas available for rdd_442_31 !\n",
      "25/05/01 13:10:30 WARN BlockManagerMasterEndpoint: No more replicas available for rdd_442_30 !\n",
      "25/05/01 13:10:30 WARN BlockManagerMasterEndpoint: No more replicas available for rdd_442_22 !\n",
      "25/05/01 13:10:30 WARN BlockManagerMasterEndpoint: No more replicas available for rdd_442_179 !\n",
      "25/05/01 13:10:30 WARN BlockManagerMasterEndpoint: No more replicas available for rdd_442_137 !\n",
      "25/05/01 13:10:30 WARN BlockManagerMasterEndpoint: No more replicas available for rdd_442_63 !\n",
      "25/05/01 13:10:30 WARN BlockManagerMasterEndpoint: No more replicas available for rdd_442_7 !\n",
      "25/05/01 13:10:30 WARN BlockManagerMasterEndpoint: No more replicas available for rdd_442_110 !\n",
      "25/05/01 13:10:30 WARN BlockManagerMasterEndpoint: No more replicas available for rdd_442_96 !\n",
      "25/05/01 13:10:30 WARN BlockManagerMasterEndpoint: No more replicas available for rdd_442_88 !\n",
      "25/05/01 13:10:30 WARN BlockManagerMasterEndpoint: No more replicas available for rdd_442_186 !\n",
      "25/05/01 13:10:30 WARN BlockManagerMasterEndpoint: No more replicas available for rdd_442_91 !\n",
      "25/05/01 13:10:30 WARN BlockManagerMasterEndpoint: No more replicas available for rdd_442_113 !\n",
      "25/05/01 13:10:30 WARN BlockManagerMasterEndpoint: No more replicas available for rdd_442_199 !\n",
      "25/05/01 13:10:30 WARN BlockManagerMasterEndpoint: No more replicas available for rdd_442_65 !\n",
      "25/05/01 13:10:30 WARN BlockManagerMasterEndpoint: No more replicas available for rdd_442_195 !\n",
      "25/05/01 13:10:30 WARN BlockManagerMasterEndpoint: No more replicas available for rdd_442_34 !\n",
      "25/05/01 13:10:30 WARN BlockManagerMasterEndpoint: No more replicas available for rdd_442_159 !\n",
      "25/05/01 13:10:30 WARN BlockManagerMasterEndpoint: No more replicas available for rdd_442_128 !\n",
      "25/05/01 13:10:30 WARN BlockManagerMasterEndpoint: No more replicas available for rdd_442_177 !\n",
      "25/05/01 13:10:30 WARN BlockManagerMasterEndpoint: No more replicas available for rdd_442_95 !\n",
      "25/05/01 13:10:30 WARN BlockManagerMasterEndpoint: No more replicas available for rdd_442_196 !\n",
      "25/05/01 13:10:30 WARN BlockManagerMasterEndpoint: No more replicas available for rdd_442_107 !\n",
      "25/05/01 13:10:30 WARN BlockManagerMasterEndpoint: No more replicas available for rdd_442_136 !\n",
      "25/05/01 13:10:30 WARN BlockManagerMasterEndpoint: No more replicas available for rdd_442_123 !\n",
      "25/05/01 13:10:30 WARN BlockManagerMasterEndpoint: No more replicas available for rdd_442_27 !\n",
      "25/05/01 13:10:30 WARN BlockManagerMasterEndpoint: No more replicas available for rdd_442_170 !\n",
      "25/05/01 13:10:30 WARN BlockManagerMasterEndpoint: No more replicas available for rdd_442_147 !\n",
      "25/05/01 13:10:30 WARN BlockManagerMasterEndpoint: No more replicas available for rdd_442_5 !\n",
      "25/05/01 13:10:30 WARN BlockManagerMasterEndpoint: No more replicas available for rdd_442_39 !\n",
      "25/05/01 13:10:30 WARN BlockManagerMasterEndpoint: No more replicas available for rdd_442_150 !\n",
      "25/05/01 13:10:30 WARN BlockManagerMasterEndpoint: No more replicas available for rdd_442_24 !\n",
      "25/05/01 13:10:30 WARN BlockManagerMasterEndpoint: No more replicas available for rdd_442_145 !\n",
      "25/05/01 13:10:30 WARN BlockManagerMasterEndpoint: No more replicas available for rdd_442_14 !\n",
      "25/05/01 13:10:30 WARN BlockManagerMasterEndpoint: No more replicas available for rdd_442_26 !\n",
      "25/05/01 13:10:30 WARN BlockManagerMasterEndpoint: No more replicas available for rdd_442_122 !\n",
      "25/05/01 13:10:30 WARN BlockManagerMasterEndpoint: No more replicas available for rdd_442_15 !\n",
      "25/05/01 13:10:30 WARN BlockManagerMasterEndpoint: No more replicas available for rdd_442_157 !\n",
      "25/05/01 13:10:30 WARN BlockManagerMasterEndpoint: No more replicas available for rdd_442_21 !\n",
      "25/05/01 13:10:30 WARN BlockManagerMasterEndpoint: No more replicas available for rdd_442_140 !\n",
      "25/05/01 13:10:30 WARN BlockManagerMasterEndpoint: No more replicas available for rdd_442_13 !\n",
      "25/05/01 13:10:30 WARN BlockManagerMasterEndpoint: No more replicas available for rdd_442_121 !\n",
      "25/05/01 13:10:30 WARN BlockManagerMasterEndpoint: No more replicas available for rdd_442_56 !\n",
      "25/05/01 13:10:30 WARN BlockManagerMasterEndpoint: No more replicas available for rdd_442_105 !\n",
      "25/05/01 13:10:30 WARN BlockManagerMasterEndpoint: No more replicas available for rdd_442_8 !\n",
      "25/05/01 13:10:30 WARN BlockManagerMasterEndpoint: No more replicas available for rdd_442_120 !\n",
      "25/05/01 13:10:30 WARN BlockManagerMasterEndpoint: No more replicas available for rdd_442_93 !\n",
      "25/05/01 13:10:30 WARN BlockManagerMasterEndpoint: No more replicas available for rdd_442_153 !\n",
      "25/05/01 13:10:30 WARN BlockManagerMasterEndpoint: No more replicas available for rdd_442_161 !\n",
      "25/05/01 13:10:30 WARN BlockManagerMasterEndpoint: No more replicas available for rdd_442_90 !\n",
      "25/05/01 13:10:30 WARN BlockManagerMasterEndpoint: No more replicas available for rdd_442_127 !\n",
      "25/05/01 13:10:30 WARN BlockManagerMasterEndpoint: No more replicas available for rdd_442_184 !\n",
      "25/05/01 13:10:30 WARN BlockManagerMasterEndpoint: No more replicas available for rdd_442_57 !\n",
      "25/05/01 13:10:30 WARN BlockManagerMasterEndpoint: No more replicas available for rdd_442_97 !\n",
      "25/05/01 13:10:30 WARN BlockManagerMasterEndpoint: No more replicas available for rdd_442_51 !\n",
      "25/05/01 13:10:30 WARN BlockManagerMasterEndpoint: No more replicas available for rdd_442_85 !\n",
      "25/05/01 13:10:30 WARN BlockManagerMasterEndpoint: No more replicas available for rdd_442_54 !\n",
      "25/05/01 13:10:30 WARN BlockManagerMasterEndpoint: No more replicas available for rdd_442_69 !\n",
      "25/05/01 13:10:30 WARN BlockManagerMasterEndpoint: No more replicas available for rdd_442_28 !\n",
      "25/05/01 13:10:30 WARN BlockManagerMasterEndpoint: No more replicas available for rdd_442_44 !\n",
      "25/05/01 13:10:30 WARN BlockManagerMasterEndpoint: No more replicas available for rdd_442_168 !\n",
      "25/05/01 13:10:30 WARN BlockManagerMasterEndpoint: No more replicas available for rdd_442_101 !\n",
      "25/05/01 13:10:30 WARN BlockManagerMasterEndpoint: No more replicas available for rdd_442_166 !\n",
      "25/05/01 13:10:30 WARN BlockManagerMasterEndpoint: No more replicas available for rdd_442_43 !\n",
      "25/05/01 13:10:30 WARN BlockManagerMasterEndpoint: No more replicas available for rdd_442_146 !\n",
      "25/05/01 13:10:30 WARN BlockManagerMasterEndpoint: No more replicas available for rdd_442_197 !\n",
      "25/05/01 13:10:30 WARN BlockManagerMasterEndpoint: No more replicas available for rdd_442_29 !\n",
      "25/05/01 13:10:30 WARN BlockManagerMasterEndpoint: No more replicas available for rdd_442_106 !\n",
      "25/05/01 13:10:30 WARN BlockManagerMasterEndpoint: No more replicas available for rdd_442_81 !\n",
      "25/05/01 13:10:30 WARN BlockManagerMasterEndpoint: No more replicas available for rdd_442_129 !\n",
      "25/05/01 13:10:30 WARN BlockManagerMasterEndpoint: No more replicas available for rdd_442_0 !\n",
      "25/05/01 13:10:30 WARN BlockManagerMasterEndpoint: No more replicas available for rdd_442_41 !\n",
      "25/05/01 13:10:30 WARN BlockManagerMasterEndpoint: No more replicas available for rdd_442_165 !\n",
      "25/05/01 13:10:30 WARN BlockManagerMasterEndpoint: No more replicas available for rdd_442_42 !\n",
      "25/05/01 13:10:30 WARN BlockManagerMasterEndpoint: No more replicas available for rdd_442_53 !\n",
      "25/05/01 13:10:30 WARN BlockManagerMasterEndpoint: No more replicas available for rdd_442_143 !\n",
      "25/05/01 13:10:30 WARN BlockManagerMasterEndpoint: No more replicas available for rdd_442_52 !\n",
      "25/05/01 13:10:30 WARN BlockManagerMasterEndpoint: No more replicas available for rdd_442_117 !\n",
      "25/05/01 13:10:30 WARN BlockManagerMasterEndpoint: No more replicas available for rdd_442_198 !\n",
      "25/05/01 13:10:30 WARN BlockManagerMasterEndpoint: No more replicas available for rdd_442_141 !\n",
      "25/05/01 13:10:30 WARN BlockManagerMasterEndpoint: No more replicas available for rdd_442_176 !\n",
      "25/05/01 13:10:30 WARN BlockManagerMasterEndpoint: No more replicas available for rdd_442_185 !\n",
      "25/05/01 13:10:30 WARN BlockManagerMasterEndpoint: No more replicas available for rdd_442_103 !\n",
      "25/05/01 13:10:30 WARN BlockManagerMasterEndpoint: No more replicas available for rdd_442_19 !\n",
      "25/05/01 13:10:30 WARN BlockManagerMasterEndpoint: No more replicas available for rdd_442_6 !\n",
      "25/05/01 13:10:30 WARN BlockManagerMasterEndpoint: No more replicas available for rdd_442_152 !\n",
      "25/05/01 13:10:30 WARN BlockManagerMasterEndpoint: No more replicas available for rdd_442_77 !\n",
      "25/05/01 13:10:30 WARN BlockManagerMasterEndpoint: No more replicas available for rdd_442_55 !\n",
      "25/05/01 13:10:30 WARN BlockManagerMasterEndpoint: No more replicas available for rdd_442_2 !\n",
      "25/05/01 13:10:30 WARN BlockManagerMasterEndpoint: No more replicas available for rdd_442_124 !\n",
      "25/05/01 13:10:30 WARN BlockManagerMasterEndpoint: No more replicas available for rdd_442_82 !\n",
      "25/05/01 13:10:30 WARN BlockManagerMasterEndpoint: No more replicas available for rdd_442_156 !\n",
      "25/05/01 13:10:30 WARN BlockManagerMasterEndpoint: No more replicas available for rdd_442_18 !\n",
      "25/05/01 13:10:30 WARN BlockManagerMasterEndpoint: No more replicas available for rdd_442_173 !\n",
      "25/05/01 13:10:30 WARN BlockManagerMasterEndpoint: No more replicas available for rdd_442_33 !\n",
      "25/05/01 13:10:30 WARN BlockManagerMasterEndpoint: No more replicas available for rdd_442_133 !\n",
      "25/05/01 13:10:30 WARN BlockManagerMasterEndpoint: No more replicas available for rdd_442_139 !\n",
      "25/05/01 13:10:30 WARN BlockManagerMasterEndpoint: No more replicas available for rdd_442_187 !\n",
      "25/05/01 13:10:30 WARN YarnAllocator: Container from a bad node: container_1746098278489_0001_01_000012 on host: pr-path-v6-m.c.open-targets-eu-dev.internal. Exit status: 137. Diagnostics: [2025-05-01 13:10:30.428]Container killed on request. Exit code is 137\n",
      "[2025-05-01 13:10:30.428]Container exited with a non-zero exit code 137. \n",
      "[2025-05-01 13:10:30.428]Killed by external signal\n",
      ".\n",
      "25/05/01 13:10:30 ERROR YarnScheduler: Lost executor 10 on pr-path-v6-m.c.open-targets-eu-dev.internal: Container from a bad node: container_1746098278489_0001_01_000012 on host: pr-path-v6-m.c.open-targets-eu-dev.internal. Exit status: 137. Diagnostics: [2025-05-01 13:10:30.428]Container killed on request. Exit code is 137\n",
      "[2025-05-01 13:10:30.428]Container exited with a non-zero exit code 137. \n",
      "[2025-05-01 13:10:30.428]Killed by external signal\n",
      ".\n",
      "25/05/01 13:10:30 WARN YarnSchedulerBackend$YarnSchedulerEndpoint: Requesting driver to remove executor 10 for reason Container from a bad node: container_1746098278489_0001_01_000012 on host: pr-path-v6-m.c.open-targets-eu-dev.internal. Exit status: 137. Diagnostics: [2025-05-01 13:10:30.428]Container killed on request. Exit code is 137\n",
      "[2025-05-01 13:10:30.428]Container exited with a non-zero exit code 137. \n",
      "[2025-05-01 13:10:30.428]Killed by external signal\n",
      ".\n",
      "25/05/01 13:10:30 WARN TaskSetManager: Lost task 47.0 in stage 188.0 (TID 10445) (pr-path-v6-m.c.open-targets-eu-dev.internal executor 10): ExecutorLostFailure (executor 10 exited caused by one of the running tasks) Reason: Container from a bad node: container_1746098278489_0001_01_000012 on host: pr-path-v6-m.c.open-targets-eu-dev.internal. Exit status: 137. Diagnostics: [2025-05-01 13:10:30.428]Container killed on request. Exit code is 137\n",
      "[2025-05-01 13:10:30.428]Container exited with a non-zero exit code 137. \n",
      "[2025-05-01 13:10:30.428]Killed by external signal\n",
      ".\n",
      "25/05/01 13:10:30 WARN TaskSetManager: Lost task 50.0 in stage 188.0 (TID 10447) (pr-path-v6-m.c.open-targets-eu-dev.internal executor 10): ExecutorLostFailure (executor 10 exited caused by one of the running tasks) Reason: Container from a bad node: container_1746098278489_0001_01_000012 on host: pr-path-v6-m.c.open-targets-eu-dev.internal. Exit status: 137. Diagnostics: [2025-05-01 13:10:30.428]Container killed on request. Exit code is 137\n",
      "[2025-05-01 13:10:30.428]Container exited with a non-zero exit code 137. \n",
      "[2025-05-01 13:10:30.428]Killed by external signal\n",
      ".\n",
      "                                                                                \r"
     ]
    },
    {
     "name": "stdout",
     "output_type": "stream",
     "text": [
      "Writing: gs://ot-team/polina/pathway_propagation_validation_v2/similarity_mtx/jaccard_spark/Reactome_Pathways_2024/EFO_0000222_ge_mm_som_gsea_Reactome_Pathways_2024_pval0.05\n"
     ]
    },
    {
     "name": "stderr",
     "output_type": "stream",
     "text": [
      "                                                                                \r"
     ]
    },
    {
     "name": "stdout",
     "output_type": "stream",
     "text": [
      "Writing: gs://ot-team/polina/pathway_propagation_validation_v2/similarity_mtx/jaccard_spark/Reactome_Pathways_2024/EFO_0000274_ge_mm_gsea_Reactome_Pathways_2024_pval0.05\n"
     ]
    },
    {
     "name": "stderr",
     "output_type": "stream",
     "text": [
      "                                                                                \r"
     ]
    },
    {
     "name": "stdout",
     "output_type": "stream",
     "text": [
      "Writing: gs://ot-team/polina/pathway_propagation_validation_v2/similarity_mtx/jaccard_spark/Reactome_Pathways_2024/EFO_0000275_ge_mm_gsea_Reactome_Pathways_2024_pval0.05\n"
     ]
    },
    {
     "name": "stderr",
     "output_type": "stream",
     "text": [
      "                                                                                \r"
     ]
    },
    {
     "name": "stdout",
     "output_type": "stream",
     "text": [
      "Writing: gs://ot-team/polina/pathway_propagation_validation_v2/similarity_mtx/jaccard_spark/Reactome_Pathways_2024/EFO_0000341_ge_mm_gsea_Reactome_Pathways_2024_pval0.05\n"
     ]
    },
    {
     "name": "stderr",
     "output_type": "stream",
     "text": [
      "                                                                                \r"
     ]
    },
    {
     "name": "stdout",
     "output_type": "stream",
     "text": [
      "Writing: gs://ot-team/polina/pathway_propagation_validation_v2/similarity_mtx/jaccard_spark/Reactome_Pathways_2024/EFO_0000384_ge_mm_gsea_Reactome_Pathways_2024_pval0.05\n"
     ]
    },
    {
     "name": "stderr",
     "output_type": "stream",
     "text": [
      "                                                                                \r"
     ]
    },
    {
     "name": "stdout",
     "output_type": "stream",
     "text": [
      "Writing: gs://ot-team/polina/pathway_propagation_validation_v2/similarity_mtx/jaccard_spark/Reactome_Pathways_2024/EFO_0000403_ge_mm_som_gsea_Reactome_Pathways_2024_pval0.05\n"
     ]
    },
    {
     "name": "stderr",
     "output_type": "stream",
     "text": [
      "                                                                                \r"
     ]
    },
    {
     "name": "stdout",
     "output_type": "stream",
     "text": [
      "Writing: gs://ot-team/polina/pathway_propagation_validation_v2/similarity_mtx/jaccard_spark/Reactome_Pathways_2024/EFO_0000474_ge_mm_gsea_Reactome_Pathways_2024_pval0.05\n"
     ]
    },
    {
     "name": "stderr",
     "output_type": "stream",
     "text": [
      "                                                                                \r"
     ]
    },
    {
     "name": "stdout",
     "output_type": "stream",
     "text": [
      "Writing: gs://ot-team/polina/pathway_propagation_validation_v2/similarity_mtx/jaccard_spark/Reactome_Pathways_2024/EFO_0000519_ge_mm_som_gsea_Reactome_Pathways_2024_pval0.05\n"
     ]
    },
    {
     "name": "stderr",
     "output_type": "stream",
     "text": [
      "                                                                                \r"
     ]
    },
    {
     "name": "stdout",
     "output_type": "stream",
     "text": [
      "Writing: gs://ot-team/polina/pathway_propagation_validation_v2/similarity_mtx/jaccard_spark/Reactome_Pathways_2024/EFO_0000565_ge_mm_som_gsea_Reactome_Pathways_2024_pval0.05\n"
     ]
    },
    {
     "name": "stderr",
     "output_type": "stream",
     "text": [
      "                                                                                \r"
     ]
    },
    {
     "name": "stdout",
     "output_type": "stream",
     "text": [
      "Writing: gs://ot-team/polina/pathway_propagation_validation_v2/similarity_mtx/jaccard_spark/Reactome_Pathways_2024/EFO_0000574_ge_mm_som_gsea_Reactome_Pathways_2024_pval0.05\n"
     ]
    },
    {
     "name": "stderr",
     "output_type": "stream",
     "text": [
      "                                                                                \r"
     ]
    },
    {
     "name": "stdout",
     "output_type": "stream",
     "text": [
      "Writing: gs://ot-team/polina/pathway_propagation_validation_v2/similarity_mtx/jaccard_spark/Reactome_Pathways_2024/EFO_0000612_ge_mm_gsea_Reactome_Pathways_2024_pval0.05\n"
     ]
    },
    {
     "name": "stderr",
     "output_type": "stream",
     "text": [
      "                                                                                \r"
     ]
    },
    {
     "name": "stdout",
     "output_type": "stream",
     "text": [
      "Writing: gs://ot-team/polina/pathway_propagation_validation_v2/similarity_mtx/jaccard_spark/Reactome_Pathways_2024/EFO_0000637_ge_mm_som_gsea_Reactome_Pathways_2024_pval0.05\n"
     ]
    },
    {
     "name": "stderr",
     "output_type": "stream",
     "text": [
      "                                                                                \r"
     ]
    },
    {
     "name": "stdout",
     "output_type": "stream",
     "text": [
      "Writing: gs://ot-team/polina/pathway_propagation_validation_v2/similarity_mtx/jaccard_spark/Reactome_Pathways_2024/EFO_0000676_ge_mm_gsea_Reactome_Pathways_2024_pval0.05\n"
     ]
    },
    {
     "name": "stderr",
     "output_type": "stream",
     "text": [
      "                                                                                \r"
     ]
    },
    {
     "name": "stdout",
     "output_type": "stream",
     "text": [
      "Writing: gs://ot-team/polina/pathway_propagation_validation_v2/similarity_mtx/jaccard_spark/Reactome_Pathways_2024/EFO_0000685_ge_mm_gsea_Reactome_Pathways_2024_pval0.05\n"
     ]
    },
    {
     "name": "stderr",
     "output_type": "stream",
     "text": [
      "                                                                                \r"
     ]
    },
    {
     "name": "stdout",
     "output_type": "stream",
     "text": [
      "Writing: gs://ot-team/polina/pathway_propagation_validation_v2/similarity_mtx/jaccard_spark/Reactome_Pathways_2024/EFO_0000702_ge_mm_som_gsea_Reactome_Pathways_2024_pval0.05\n"
     ]
    },
    {
     "name": "stderr",
     "output_type": "stream",
     "text": [
      "                                                                                \r"
     ]
    },
    {
     "name": "stdout",
     "output_type": "stream",
     "text": [
      "Writing: gs://ot-team/polina/pathway_propagation_validation_v2/similarity_mtx/jaccard_spark/Reactome_Pathways_2024/EFO_0000729_ge_mm_gsea_Reactome_Pathways_2024_pval0.05\n"
     ]
    },
    {
     "name": "stderr",
     "output_type": "stream",
     "text": [
      "                                                                                \r"
     ]
    },
    {
     "name": "stdout",
     "output_type": "stream",
     "text": [
      "Writing: gs://ot-team/polina/pathway_propagation_validation_v2/similarity_mtx/jaccard_spark/Reactome_Pathways_2024/EFO_0000756_ge_mm_som_gsea_Reactome_Pathways_2024_pval0.05\n"
     ]
    },
    {
     "name": "stderr",
     "output_type": "stream",
     "text": [
      "                                                                                \r"
     ]
    },
    {
     "name": "stdout",
     "output_type": "stream",
     "text": [
      "Writing: gs://ot-team/polina/pathway_propagation_validation_v2/similarity_mtx/jaccard_spark/Reactome_Pathways_2024/EFO_0001073_ge_mm_gsea_Reactome_Pathways_2024_pval0.05\n"
     ]
    },
    {
     "name": "stderr",
     "output_type": "stream",
     "text": [
      "                                                                                \r"
     ]
    },
    {
     "name": "stdout",
     "output_type": "stream",
     "text": [
      "Writing: gs://ot-team/polina/pathway_propagation_validation_v2/similarity_mtx/jaccard_spark/Reactome_Pathways_2024/EFO_0001378_ge_mm_som_gsea_Reactome_Pathways_2024_pval0.05\n"
     ]
    },
    {
     "name": "stderr",
     "output_type": "stream",
     "text": [
      "                                                                                \r"
     ]
    },
    {
     "name": "stdout",
     "output_type": "stream",
     "text": [
      "Writing: gs://ot-team/polina/pathway_propagation_validation_v2/similarity_mtx/jaccard_spark/Reactome_Pathways_2024/EFO_0002429_ge_mm_som_gsea_Reactome_Pathways_2024_pval0.05\n"
     ]
    },
    {
     "name": "stderr",
     "output_type": "stream",
     "text": [
      "                                                                                \r"
     ]
    },
    {
     "name": "stdout",
     "output_type": "stream",
     "text": [
      "Writing: gs://ot-team/polina/pathway_propagation_validation_v2/similarity_mtx/jaccard_spark/Reactome_Pathways_2024/EFO_0003060_ge_mm_som_gsea_Reactome_Pathways_2024_pval0.05\n"
     ]
    },
    {
     "name": "stderr",
     "output_type": "stream",
     "text": [
      "25/05/01 13:19:11 WARN BlockManagerMasterEndpoint: No more replicas available for rdd_1114_23 !\n",
      "25/05/01 13:19:11 WARN BlockManagerMasterEndpoint: No more replicas available for rdd_1114_8 !\n",
      "25/05/01 13:19:11 WARN BlockManagerMasterEndpoint: No more replicas available for rdd_1114_37 !\n",
      "25/05/01 13:19:11 WARN BlockManagerMasterEndpoint: No more replicas available for rdd_1114_63 !\n",
      "25/05/01 13:19:11 WARN BlockManagerMasterEndpoint: No more replicas available for rdd_1114_4 !\n",
      "25/05/01 13:19:11 WARN BlockManagerMasterEndpoint: No more replicas available for rdd_1114_15 !\n",
      "25/05/01 13:19:11 WARN BlockManagerMasterEndpoint: No more replicas available for rdd_1114_42 !\n",
      "25/05/01 13:19:11 WARN BlockManagerMasterEndpoint: No more replicas available for rdd_1114_161 !\n",
      "25/05/01 13:19:11 WARN BlockManagerMasterEndpoint: No more replicas available for rdd_1114_192 !\n",
      "25/05/01 13:19:11 WARN BlockManagerMasterEndpoint: No more replicas available for rdd_1114_198 !\n",
      "25/05/01 13:19:11 WARN BlockManagerMasterEndpoint: No more replicas available for rdd_1114_188 !\n",
      "25/05/01 13:19:11 WARN BlockManagerMasterEndpoint: No more replicas available for rdd_1114_73 !\n",
      "25/05/01 13:19:11 WARN BlockManagerMasterEndpoint: No more replicas available for rdd_1114_113 !\n",
      "25/05/01 13:19:11 WARN BlockManagerMasterEndpoint: No more replicas available for rdd_1114_174 !\n",
      "25/05/01 13:19:11 WARN BlockManagerMasterEndpoint: No more replicas available for rdd_1114_162 !\n",
      "25/05/01 13:19:11 WARN BlockManagerMasterEndpoint: No more replicas available for rdd_1114_158 !\n",
      "25/05/01 13:19:11 WARN BlockManagerMasterEndpoint: No more replicas available for rdd_1114_110 !\n",
      "25/05/01 13:19:11 WARN BlockManagerMasterEndpoint: No more replicas available for rdd_1114_127 !\n",
      "25/05/01 13:19:11 WARN BlockManagerMasterEndpoint: No more replicas available for rdd_1114_51 !\n",
      "25/05/01 13:19:11 WARN BlockManagerMasterEndpoint: No more replicas available for rdd_1114_131 !\n",
      "25/05/01 13:19:11 WARN BlockManagerMasterEndpoint: No more replicas available for rdd_1114_187 !\n",
      "25/05/01 13:19:11 WARN BlockManagerMasterEndpoint: No more replicas available for rdd_1114_116 !\n",
      "25/05/01 13:19:11 WARN BlockManagerMasterEndpoint: No more replicas available for rdd_1114_32 !\n",
      "25/05/01 13:19:11 WARN BlockManagerMasterEndpoint: No more replicas available for rdd_1114_143 !\n",
      "25/05/01 13:19:11 WARN BlockManagerMasterEndpoint: No more replicas available for rdd_1114_29 !\n",
      "25/05/01 13:19:11 WARN BlockManagerMasterEndpoint: No more replicas available for rdd_1114_130 !\n",
      "25/05/01 13:19:11 WARN BlockManagerMasterEndpoint: No more replicas available for rdd_1114_90 !\n",
      "25/05/01 13:19:11 WARN BlockManagerMasterEndpoint: No more replicas available for rdd_1114_25 !\n",
      "25/05/01 13:19:11 WARN BlockManagerMasterEndpoint: No more replicas available for rdd_1114_129 !\n",
      "25/05/01 13:19:11 WARN BlockManagerMasterEndpoint: No more replicas available for rdd_1114_74 !\n",
      "25/05/01 13:19:11 WARN BlockManagerMasterEndpoint: No more replicas available for rdd_1114_154 !\n",
      "25/05/01 13:19:11 WARN BlockManagerMasterEndpoint: No more replicas available for rdd_1114_53 !\n",
      "25/05/01 13:19:11 WARN BlockManagerMasterEndpoint: No more replicas available for rdd_1114_152 !\n",
      "25/05/01 13:19:11 WARN BlockManagerMasterEndpoint: No more replicas available for rdd_1114_18 !\n",
      "25/05/01 13:19:11 WARN BlockManagerMasterEndpoint: No more replicas available for rdd_1114_11 !\n",
      "25/05/01 13:19:11 WARN BlockManagerMasterEndpoint: No more replicas available for rdd_1114_165 !\n",
      "25/05/01 13:19:11 WARN BlockManagerMasterEndpoint: No more replicas available for rdd_1114_144 !\n",
      "25/05/01 13:19:11 WARN BlockManagerMasterEndpoint: No more replicas available for rdd_1114_122 !\n",
      "25/05/01 13:19:11 WARN BlockManagerMasterEndpoint: No more replicas available for rdd_1114_137 !\n",
      "25/05/01 13:19:11 WARN BlockManagerMasterEndpoint: No more replicas available for rdd_1114_3 !\n",
      "25/05/01 13:19:11 WARN BlockManagerMasterEndpoint: No more replicas available for rdd_1114_125 !\n",
      "25/05/01 13:19:11 WARN BlockManagerMasterEndpoint: No more replicas available for rdd_1114_87 !\n",
      "25/05/01 13:19:11 WARN BlockManagerMasterEndpoint: No more replicas available for rdd_1114_103 !\n",
      "25/05/01 13:19:11 WARN BlockManagerMasterEndpoint: No more replicas available for rdd_1114_88 !\n",
      "25/05/01 13:19:11 WARN BlockManagerMasterEndpoint: No more replicas available for rdd_1114_147 !\n",
      "25/05/01 13:19:11 WARN BlockManagerMasterEndpoint: No more replicas available for rdd_1114_182 !\n",
      "25/05/01 13:19:11 WARN BlockManagerMasterEndpoint: No more replicas available for rdd_1114_57 !\n",
      "25/05/01 13:19:11 WARN BlockManagerMasterEndpoint: No more replicas available for rdd_1114_81 !\n",
      "25/05/01 13:19:11 WARN BlockManagerMasterEndpoint: No more replicas available for rdd_1114_96 !\n",
      "25/05/01 13:19:11 WARN BlockManagerMasterEndpoint: No more replicas available for rdd_1114_181 !\n",
      "25/05/01 13:19:11 WARN BlockManagerMasterEndpoint: No more replicas available for rdd_1114_70 !\n",
      "25/05/01 13:19:11 WARN BlockManagerMasterEndpoint: No more replicas available for rdd_1114_69 !\n",
      "25/05/01 13:19:11 WARN BlockManagerMasterEndpoint: No more replicas available for rdd_1114_79 !\n",
      "25/05/01 13:19:11 WARN BlockManagerMasterEndpoint: No more replicas available for rdd_1114_44 !\n",
      "25/05/01 13:19:11 WARN BlockManagerMasterEndpoint: No more replicas available for rdd_1114_85 !\n",
      "25/05/01 13:19:11 WARN BlockManagerMasterEndpoint: No more replicas available for rdd_1114_148 !\n",
      "25/05/01 13:19:11 WARN BlockManagerMasterEndpoint: No more replicas available for rdd_1114_16 !\n",
      "25/05/01 13:19:11 WARN BlockManagerMasterEndpoint: No more replicas available for rdd_1114_5 !\n",
      "25/05/01 13:19:11 WARN BlockManagerMasterEndpoint: No more replicas available for rdd_1114_91 !\n",
      "25/05/01 13:19:11 WARN BlockManagerMasterEndpoint: No more replicas available for rdd_1114_39 !\n",
      "25/05/01 13:19:11 WARN BlockManagerMasterEndpoint: No more replicas available for rdd_1114_195 !\n",
      "25/05/01 13:19:11 WARN BlockManagerMasterEndpoint: No more replicas available for rdd_1114_177 !\n",
      "25/05/01 13:19:11 WARN BlockManagerMasterEndpoint: No more replicas available for rdd_1114_50 !\n",
      "25/05/01 13:19:11 WARN BlockManagerMasterEndpoint: No more replicas available for rdd_1114_101 !\n",
      "25/05/01 13:19:11 WARN BlockManagerMasterEndpoint: No more replicas available for rdd_1114_66 !\n",
      "25/05/01 13:19:11 WARN BlockManagerMasterEndpoint: No more replicas available for rdd_1114_175 !\n",
      "25/05/01 13:19:11 WARN BlockManagerMasterEndpoint: No more replicas available for rdd_1114_117 !\n",
      "25/05/01 13:19:11 WARN BlockManagerMasterEndpoint: No more replicas available for rdd_1114_34 !\n",
      "25/05/01 13:19:11 WARN BlockManagerMasterEndpoint: No more replicas available for rdd_1114_171 !\n",
      "25/05/01 13:19:11 WARN BlockManagerMasterEndpoint: No more replicas available for rdd_1114_191 !\n",
      "25/05/01 13:19:11 WARN BlockManagerMasterEndpoint: No more replicas available for rdd_1114_104 !\n",
      "25/05/01 13:19:11 WARN BlockManagerMasterEndpoint: No more replicas available for rdd_1114_12 !\n",
      "25/05/01 13:19:11 WARN BlockManagerMasterEndpoint: No more replicas available for rdd_1114_124 !\n",
      "25/05/01 13:19:11 WARN BlockManagerMasterEndpoint: No more replicas available for rdd_1114_95 !\n",
      "25/05/01 13:19:11 WARN BlockManagerMasterEndpoint: No more replicas available for rdd_1114_168 !\n",
      "25/05/01 13:19:11 WARN BlockManagerMasterEndpoint: No more replicas available for rdd_1114_134 !\n",
      "25/05/01 13:19:11 WARN BlockManagerMasterEndpoint: No more replicas available for rdd_1114_109 !\n",
      "25/05/01 13:19:11 WARN BlockManagerMasterEndpoint: No more replicas available for rdd_1114_199 !\n",
      "25/05/01 13:19:11 WARN BlockManagerMasterEndpoint: No more replicas available for rdd_1114_86 !\n",
      "25/05/01 13:19:11 WARN BlockManagerMasterEndpoint: No more replicas available for rdd_1114_98 !\n",
      "25/05/01 13:19:11 WARN BlockManagerMasterEndpoint: No more replicas available for rdd_1114_107 !\n",
      "25/05/01 13:19:11 WARN BlockManagerMasterEndpoint: No more replicas available for rdd_1114_47 !\n",
      "25/05/01 13:19:11 WARN BlockManagerMasterEndpoint: No more replicas available for rdd_1114_139 !\n",
      "25/05/01 13:19:11 WARN BlockManagerMasterEndpoint: No more replicas available for rdd_1114_142 !\n",
      "25/05/01 13:19:11 WARN BlockManagerMasterEndpoint: No more replicas available for rdd_1114_60 !\n",
      "25/05/01 13:19:11 WARN BlockManagerMasterEndpoint: No more replicas available for rdd_1114_93 !\n",
      "25/05/01 13:19:11 WARN BlockManagerMasterEndpoint: No more replicas available for rdd_1114_43 !\n",
      "25/05/01 13:19:11 WARN BlockManagerMasterEndpoint: No more replicas available for rdd_1114_185 !\n",
      "25/05/01 13:19:11 WARN BlockManagerMasterEndpoint: No more replicas available for rdd_1114_121 !\n",
      "25/05/01 13:19:11 WARN BlockManagerMasterEndpoint: No more replicas available for rdd_1114_55 !\n",
      "25/05/01 13:19:11 WARN BlockManagerMasterEndpoint: No more replicas available for rdd_1114_114 !\n",
      "25/05/01 13:19:11 WARN BlockManagerMasterEndpoint: No more replicas available for rdd_1114_21 !\n",
      "25/05/01 13:19:11 WARN BlockManagerMasterEndpoint: No more replicas available for rdd_1114_65 !\n",
      "25/05/01 13:19:11 WARN BlockManagerMasterEndpoint: No more replicas available for rdd_1114_77 !\n",
      "25/05/01 13:19:11 WARN BlockManagerMasterEndpoint: No more replicas available for rdd_1114_118 !\n",
      "25/05/01 13:19:11 WARN BlockManagerMasterEndpoint: No more replicas available for rdd_1114_1 !\n",
      "25/05/01 13:19:11 WARN BlockManagerMasterEndpoint: No more replicas available for rdd_1114_150 !\n",
      "25/05/01 13:19:11 WARN BlockManagerMasterEndpoint: No more replicas available for rdd_1114_167 !\n",
      "25/05/01 13:19:11 WARN BlockManagerMasterEndpoint: No more replicas available for rdd_1114_178 !\n",
      "25/05/01 13:19:11 WARN BlockManagerMasterEndpoint: No more replicas available for rdd_1114_135 !\n",
      "25/05/01 13:19:11 WARN BlockManagerMasterEndpoint: No more replicas available for rdd_1114_82 !\n",
      "25/05/01 13:19:11 WARN YarnAllocator: Container from a bad node: container_1746098278489_0001_01_000014 on host: pr-path-v6-m.c.open-targets-eu-dev.internal. Exit status: 137. Diagnostics: [2025-05-01 13:19:11.619]Container killed on request. Exit code is 137\n",
      "[2025-05-01 13:19:11.619]Container exited with a non-zero exit code 137. \n",
      "[2025-05-01 13:19:11.621]Killed by external signal\n",
      ".\n",
      "25/05/01 13:19:11 WARN YarnSchedulerBackend$YarnSchedulerEndpoint: Requesting driver to remove executor 12 for reason Container from a bad node: container_1746098278489_0001_01_000014 on host: pr-path-v6-m.c.open-targets-eu-dev.internal. Exit status: 137. Diagnostics: [2025-05-01 13:19:11.619]Container killed on request. Exit code is 137\n",
      "[2025-05-01 13:19:11.619]Container exited with a non-zero exit code 137. \n",
      "[2025-05-01 13:19:11.621]Killed by external signal\n",
      ".\n",
      "25/05/01 13:19:11 ERROR YarnScheduler: Lost executor 12 on pr-path-v6-m.c.open-targets-eu-dev.internal: Container from a bad node: container_1746098278489_0001_01_000014 on host: pr-path-v6-m.c.open-targets-eu-dev.internal. Exit status: 137. Diagnostics: [2025-05-01 13:19:11.619]Container killed on request. Exit code is 137\n",
      "[2025-05-01 13:19:11.619]Container exited with a non-zero exit code 137. \n",
      "[2025-05-01 13:19:11.621]Killed by external signal\n",
      ".\n",
      "25/05/01 13:19:11 WARN TaskSetManager: Lost task 129.0 in stage 524.0 (TID 27793) (pr-path-v6-m.c.open-targets-eu-dev.internal executor 12): ExecutorLostFailure (executor 12 exited caused by one of the running tasks) Reason: Container from a bad node: container_1746098278489_0001_01_000014 on host: pr-path-v6-m.c.open-targets-eu-dev.internal. Exit status: 137. Diagnostics: [2025-05-01 13:19:11.619]Container killed on request. Exit code is 137\n",
      "[2025-05-01 13:19:11.619]Container exited with a non-zero exit code 137. \n",
      "[2025-05-01 13:19:11.621]Killed by external signal\n",
      ".\n",
      "25/05/01 13:19:11 WARN TaskSetManager: Lost task 127.0 in stage 524.0 (TID 27792) (pr-path-v6-m.c.open-targets-eu-dev.internal executor 12): ExecutorLostFailure (executor 12 exited caused by one of the running tasks) Reason: Container from a bad node: container_1746098278489_0001_01_000014 on host: pr-path-v6-m.c.open-targets-eu-dev.internal. Exit status: 137. Diagnostics: [2025-05-01 13:19:11.619]Container killed on request. Exit code is 137\n",
      "[2025-05-01 13:19:11.619]Container exited with a non-zero exit code 137. \n",
      "[2025-05-01 13:19:11.621]Killed by external signal\n",
      ".\n",
      "25/05/01 13:19:22 WARN BlockManagerMasterEndpoint: No more replicas available for rdd_1114_126 !\n",
      "25/05/01 13:19:22 WARN BlockManagerMasterEndpoint: No more replicas available for rdd_1114_80 !\n",
      "25/05/01 13:19:22 WARN BlockManagerMasterEndpoint: No more replicas available for rdd_1114_160 !\n",
      "25/05/01 13:19:22 WARN BlockManagerMasterEndpoint: No more replicas available for rdd_1114_76 !\n",
      "25/05/01 13:19:22 WARN BlockManagerMasterEndpoint: No more replicas available for rdd_1114_149 !\n",
      "25/05/01 13:19:22 WARN BlockManagerMasterEndpoint: No more replicas available for rdd_1114_78 !\n",
      "25/05/01 13:19:22 WARN BlockManagerMasterEndpoint: No more replicas available for rdd_1114_155 !\n",
      "25/05/01 13:19:22 WARN BlockManagerMasterEndpoint: No more replicas available for rdd_1114_62 !\n",
      "25/05/01 13:19:22 WARN BlockManagerMasterEndpoint: No more replicas available for rdd_1114_108 !\n",
      "25/05/01 13:19:22 WARN BlockManagerMasterEndpoint: No more replicas available for rdd_1114_2 !\n",
      "25/05/01 13:19:22 WARN BlockManagerMasterEndpoint: No more replicas available for rdd_1114_27 !\n",
      "25/05/01 13:19:22 WARN BlockManagerMasterEndpoint: No more replicas available for rdd_1114_169 !\n",
      "25/05/01 13:19:22 WARN BlockManagerMasterEndpoint: No more replicas available for rdd_1114_71 !\n",
      "25/05/01 13:19:22 WARN BlockManagerMasterEndpoint: No more replicas available for rdd_1114_132 !\n",
      "25/05/01 13:19:22 WARN BlockManagerMasterEndpoint: No more replicas available for rdd_1114_20 !\n",
      "25/05/01 13:19:22 WARN BlockManagerMasterEndpoint: No more replicas available for rdd_1114_153 !\n",
      "25/05/01 13:19:22 WARN BlockManagerMasterEndpoint: No more replicas available for rdd_1114_97 !\n",
      "25/05/01 13:19:22 WARN BlockManagerMasterEndpoint: No more replicas available for rdd_1114_33 !\n",
      "25/05/01 13:19:22 WARN BlockManagerMasterEndpoint: No more replicas available for rdd_1114_102 !\n",
      "25/05/01 13:19:22 WARN BlockManagerMasterEndpoint: No more replicas available for rdd_1114_84 !\n",
      "25/05/01 13:19:22 WARN BlockManagerMasterEndpoint: No more replicas available for rdd_1114_141 !\n",
      "25/05/01 13:19:22 WARN BlockManagerMasterEndpoint: No more replicas available for rdd_1114_105 !\n",
      "25/05/01 13:19:22 WARN BlockManagerMasterEndpoint: No more replicas available for rdd_1114_0 !\n",
      "25/05/01 13:19:22 WARN BlockManagerMasterEndpoint: No more replicas available for rdd_1114_49 !\n",
      "25/05/01 13:19:22 WARN BlockManagerMasterEndpoint: No more replicas available for rdd_1114_17 !\n",
      "25/05/01 13:19:22 WARN BlockManagerMasterEndpoint: No more replicas available for rdd_1114_64 !\n",
      "25/05/01 13:19:22 WARN BlockManagerMasterEndpoint: No more replicas available for rdd_1114_112 !\n",
      "25/05/01 13:19:22 WARN BlockManagerMasterEndpoint: No more replicas available for rdd_1114_197 !\n",
      "25/05/01 13:19:22 WARN BlockManagerMasterEndpoint: No more replicas available for rdd_1114_111 !\n",
      "25/05/01 13:19:22 WARN BlockManagerMasterEndpoint: No more replicas available for rdd_1114_52 !\n",
      "25/05/01 13:19:22 WARN BlockManagerMasterEndpoint: No more replicas available for rdd_1114_156 !\n",
      "25/05/01 13:19:22 WARN BlockManagerMasterEndpoint: No more replicas available for rdd_1114_157 !\n",
      "25/05/01 13:19:22 WARN BlockManagerMasterEndpoint: No more replicas available for rdd_1114_45 !\n",
      "25/05/01 13:19:22 WARN BlockManagerMasterEndpoint: No more replicas available for rdd_1114_92 !\n",
      "25/05/01 13:19:22 WARN BlockManagerMasterEndpoint: No more replicas available for rdd_1114_163 !\n",
      "25/05/01 13:19:22 WARN BlockManagerMasterEndpoint: No more replicas available for rdd_1114_194 !\n",
      "25/05/01 13:19:22 WARN BlockManagerMasterEndpoint: No more replicas available for rdd_1114_56 !\n",
      "25/05/01 13:19:22 WARN BlockManagerMasterEndpoint: No more replicas available for rdd_1114_100 !\n",
      "25/05/01 13:19:22 WARN BlockManagerMasterEndpoint: No more replicas available for rdd_1114_190 !\n",
      "25/05/01 13:19:22 WARN BlockManagerMasterEndpoint: No more replicas available for rdd_1114_6 !\n",
      "25/05/01 13:19:22 WARN BlockManagerMasterEndpoint: No more replicas available for rdd_1114_180 !\n",
      "25/05/01 13:19:22 WARN BlockManagerMasterEndpoint: No more replicas available for rdd_1114_151 !\n",
      "25/05/01 13:19:22 WARN BlockManagerMasterEndpoint: No more replicas available for rdd_1114_140 !\n",
      "25/05/01 13:19:22 WARN BlockManagerMasterEndpoint: No more replicas available for rdd_1114_164 !\n",
      "25/05/01 13:19:22 WARN BlockManagerMasterEndpoint: No more replicas available for rdd_1114_115 !\n",
      "25/05/01 13:19:22 WARN BlockManagerMasterEndpoint: No more replicas available for rdd_1114_120 !\n",
      "25/05/01 13:19:22 WARN BlockManagerMasterEndpoint: No more replicas available for rdd_1114_68 !\n",
      "25/05/01 13:19:22 WARN BlockManagerMasterEndpoint: No more replicas available for rdd_1114_9 !\n",
      "25/05/01 13:19:22 WARN BlockManagerMasterEndpoint: No more replicas available for rdd_1114_189 !\n",
      "25/05/01 13:19:22 WARN BlockManagerMasterEndpoint: No more replicas available for rdd_1114_26 !\n",
      "25/05/01 13:19:22 WARN BlockManagerMasterEndpoint: No more replicas available for rdd_1114_166 !\n",
      "25/05/01 13:19:22 WARN BlockManagerMasterEndpoint: No more replicas available for rdd_1114_196 !\n",
      "25/05/01 13:19:22 WARN BlockManagerMasterEndpoint: No more replicas available for rdd_1114_38 !\n",
      "25/05/01 13:19:22 WARN BlockManagerMasterEndpoint: No more replicas available for rdd_1114_46 !\n",
      "25/05/01 13:19:22 WARN BlockManagerMasterEndpoint: No more replicas available for rdd_1114_59 !\n",
      "25/05/01 13:19:22 WARN BlockManagerMasterEndpoint: No more replicas available for rdd_1114_72 !\n",
      "25/05/01 13:19:22 WARN BlockManagerMasterEndpoint: No more replicas available for rdd_1114_176 !\n",
      "25/05/01 13:19:22 WARN BlockManagerMasterEndpoint: No more replicas available for rdd_1114_193 !\n",
      "25/05/01 13:19:22 WARN BlockManagerMasterEndpoint: No more replicas available for rdd_1114_14 !\n",
      "25/05/01 13:19:22 WARN BlockManagerMasterEndpoint: No more replicas available for rdd_1114_40 !\n",
      "25/05/01 13:19:22 WARN BlockManagerMasterEndpoint: No more replicas available for rdd_1114_173 !\n",
      "25/05/01 13:19:22 WARN BlockManagerMasterEndpoint: No more replicas available for rdd_1114_106 !\n",
      "25/05/01 13:19:22 WARN BlockManagerMasterEndpoint: No more replicas available for rdd_1114_133 !\n",
      "25/05/01 13:19:22 WARN BlockManagerMasterEndpoint: No more replicas available for rdd_1114_35 !\n",
      "25/05/01 13:19:22 WARN BlockManagerMasterEndpoint: No more replicas available for rdd_1114_99 !\n",
      "25/05/01 13:19:22 WARN BlockManagerMasterEndpoint: No more replicas available for rdd_1114_75 !\n",
      "25/05/01 13:19:22 WARN BlockManagerMasterEndpoint: No more replicas available for rdd_1114_179 !\n",
      "25/05/01 13:19:22 WARN BlockManagerMasterEndpoint: No more replicas available for rdd_1114_128 !\n",
      "25/05/01 13:19:22 WARN BlockManagerMasterEndpoint: No more replicas available for rdd_1114_10 !\n",
      "25/05/01 13:19:22 WARN BlockManagerMasterEndpoint: No more replicas available for rdd_1114_36 !\n",
      "25/05/01 13:19:22 WARN BlockManagerMasterEndpoint: No more replicas available for rdd_1114_22 !\n",
      "25/05/01 13:19:22 WARN BlockManagerMasterEndpoint: No more replicas available for rdd_1114_31 !\n",
      "25/05/01 13:19:22 WARN BlockManagerMasterEndpoint: No more replicas available for rdd_1114_172 !\n",
      "25/05/01 13:19:22 WARN BlockManagerMasterEndpoint: No more replicas available for rdd_1114_170 !\n",
      "25/05/01 13:19:22 WARN BlockManagerMasterEndpoint: No more replicas available for rdd_1114_146 !\n",
      "25/05/01 13:19:22 WARN BlockManagerMasterEndpoint: No more replicas available for rdd_1114_30 !\n",
      "25/05/01 13:19:22 WARN BlockManagerMasterEndpoint: No more replicas available for rdd_1114_54 !\n",
      "25/05/01 13:19:22 WARN BlockManagerMasterEndpoint: No more replicas available for rdd_1114_184 !\n",
      "25/05/01 13:19:22 WARN BlockManagerMasterEndpoint: No more replicas available for rdd_1114_7 !\n",
      "25/05/01 13:19:22 WARN BlockManagerMasterEndpoint: No more replicas available for rdd_1114_28 !\n",
      "25/05/01 13:19:22 WARN BlockManagerMasterEndpoint: No more replicas available for rdd_1114_123 !\n",
      "25/05/01 13:19:22 WARN BlockManagerMasterEndpoint: No more replicas available for rdd_1114_67 !\n",
      "25/05/01 13:19:22 WARN BlockManagerMasterEndpoint: No more replicas available for rdd_1114_24 !\n",
      "25/05/01 13:19:22 WARN BlockManagerMasterEndpoint: No more replicas available for rdd_1114_48 !\n",
      "25/05/01 13:19:22 WARN BlockManagerMasterEndpoint: No more replicas available for rdd_1114_61 !\n",
      "25/05/01 13:19:22 WARN BlockManagerMasterEndpoint: No more replicas available for rdd_1114_13 !\n",
      "25/05/01 13:19:22 WARN BlockManagerMasterEndpoint: No more replicas available for rdd_1114_58 !\n",
      "25/05/01 13:19:22 WARN BlockManagerMasterEndpoint: No more replicas available for rdd_1114_94 !\n",
      "25/05/01 13:19:22 WARN BlockManagerMasterEndpoint: No more replicas available for rdd_1114_83 !\n",
      "25/05/01 13:19:22 WARN BlockManagerMasterEndpoint: No more replicas available for rdd_1114_138 !\n",
      "25/05/01 13:19:22 WARN BlockManagerMasterEndpoint: No more replicas available for rdd_1114_145 !\n",
      "25/05/01 13:19:22 WARN BlockManagerMasterEndpoint: No more replicas available for rdd_1114_136 !\n",
      "25/05/01 13:19:22 WARN BlockManagerMasterEndpoint: No more replicas available for rdd_1114_159 !\n",
      "25/05/01 13:19:22 WARN BlockManagerMasterEndpoint: No more replicas available for rdd_1114_183 !\n",
      "25/05/01 13:19:22 WARN BlockManagerMasterEndpoint: No more replicas available for rdd_1114_19 !\n",
      "25/05/01 13:19:22 WARN BlockManagerMasterEndpoint: No more replicas available for rdd_1114_119 !\n",
      "25/05/01 13:19:22 WARN BlockManagerMasterEndpoint: No more replicas available for rdd_1114_186 !\n",
      "25/05/01 13:19:22 WARN BlockManagerMasterEndpoint: No more replicas available for rdd_1114_89 !\n",
      "25/05/01 13:19:22 WARN BlockManagerMasterEndpoint: No more replicas available for rdd_1114_41 !\n",
      "25/05/01 13:19:22 WARN YarnAllocator: Container from a bad node: container_1746098278489_0001_01_000015 on host: pr-path-v6-m.c.open-targets-eu-dev.internal. Exit status: 143. Diagnostics: [2025-05-01 13:19:22.713]Container killed on request. Exit code is 143\n",
      "[2025-05-01 13:19:22.713]Container exited with a non-zero exit code 143. \n",
      "[2025-05-01 13:19:22.713]Killed by external signal\n",
      ".\n",
      "25/05/01 13:19:22 WARN YarnSchedulerBackend$YarnSchedulerEndpoint: Requesting driver to remove executor 13 for reason Container from a bad node: container_1746098278489_0001_01_000015 on host: pr-path-v6-m.c.open-targets-eu-dev.internal. Exit status: 143. Diagnostics: [2025-05-01 13:19:22.713]Container killed on request. Exit code is 143\n",
      "[2025-05-01 13:19:22.713]Container exited with a non-zero exit code 143. \n",
      "[2025-05-01 13:19:22.713]Killed by external signal\n",
      ".\n",
      "25/05/01 13:19:22 ERROR YarnScheduler: Lost executor 13 on pr-path-v6-m.c.open-targets-eu-dev.internal: Container from a bad node: container_1746098278489_0001_01_000015 on host: pr-path-v6-m.c.open-targets-eu-dev.internal. Exit status: 143. Diagnostics: [2025-05-01 13:19:22.713]Container killed on request. Exit code is 143\n",
      "[2025-05-01 13:19:22.713]Container exited with a non-zero exit code 143. \n",
      "[2025-05-01 13:19:22.713]Killed by external signal\n",
      ".\n",
      "25/05/01 13:19:22 WARN TaskSetManager: Lost task 196.0 in stage 524.0 (TID 27829) (pr-path-v6-m.c.open-targets-eu-dev.internal executor 13): ExecutorLostFailure (executor 13 exited caused by one of the running tasks) Reason: Container from a bad node: container_1746098278489_0001_01_000015 on host: pr-path-v6-m.c.open-targets-eu-dev.internal. Exit status: 143. Diagnostics: [2025-05-01 13:19:22.713]Container killed on request. Exit code is 143\n",
      "[2025-05-01 13:19:22.713]Container exited with a non-zero exit code 143. \n",
      "[2025-05-01 13:19:22.713]Killed by external signal\n",
      ".\n",
      "25/05/01 13:19:22 WARN TaskSetManager: Lost task 194.0 in stage 524.0 (TID 27828) (pr-path-v6-m.c.open-targets-eu-dev.internal executor 13): ExecutorLostFailure (executor 13 exited caused by one of the running tasks) Reason: Container from a bad node: container_1746098278489_0001_01_000015 on host: pr-path-v6-m.c.open-targets-eu-dev.internal. Exit status: 143. Diagnostics: [2025-05-01 13:19:22.713]Container killed on request. Exit code is 143\n",
      "[2025-05-01 13:19:22.713]Container exited with a non-zero exit code 143. \n",
      "[2025-05-01 13:19:22.713]Killed by external signal\n",
      ".\n",
      "                                                                                \r"
     ]
    },
    {
     "name": "stdout",
     "output_type": "stream",
     "text": [
      "Writing: gs://ot-team/polina/pathway_propagation_validation_v2/similarity_mtx/jaccard_spark/Reactome_Pathways_2024/EFO_0003144_ge_mm_gsea_Reactome_Pathways_2024_pval0.05\n"
     ]
    },
    {
     "name": "stderr",
     "output_type": "stream",
     "text": [
      "                                                                                \r"
     ]
    },
    {
     "name": "stdout",
     "output_type": "stream",
     "text": [
      "Writing: gs://ot-team/polina/pathway_propagation_validation_v2/similarity_mtx/jaccard_spark/Reactome_Pathways_2024/EFO_0003758_ge_mm_gsea_Reactome_Pathways_2024_pval0.05\n"
     ]
    },
    {
     "name": "stderr",
     "output_type": "stream",
     "text": [
      "                                                                                \r"
     ]
    },
    {
     "name": "stdout",
     "output_type": "stream",
     "text": [
      "Writing: gs://ot-team/polina/pathway_propagation_validation_v2/similarity_mtx/jaccard_spark/Reactome_Pathways_2024/EFO_0003833_ge_mm_som_gsea_Reactome_Pathways_2024_pval0.05\n"
     ]
    },
    {
     "name": "stderr",
     "output_type": "stream",
     "text": [
      "                                                                                \r"
     ]
    },
    {
     "name": "stdout",
     "output_type": "stream",
     "text": [
      "Writing: gs://ot-team/polina/pathway_propagation_validation_v2/similarity_mtx/jaccard_spark/Reactome_Pathways_2024/EFO_0003869_ge_mm_som_gsea_Reactome_Pathways_2024_pval0.05\n"
     ]
    },
    {
     "name": "stderr",
     "output_type": "stream",
     "text": [
      "                                                                                \r"
     ]
    },
    {
     "name": "stdout",
     "output_type": "stream",
     "text": [
      "Writing: gs://ot-team/polina/pathway_propagation_validation_v2/similarity_mtx/jaccard_spark/Reactome_Pathways_2024/EFO_0004142_ge_mm_som_gsea_Reactome_Pathways_2024_pval0.05\n"
     ]
    },
    {
     "name": "stderr",
     "output_type": "stream",
     "text": [
      "                                                                                \r"
     ]
    },
    {
     "name": "stdout",
     "output_type": "stream",
     "text": [
      "Writing: gs://ot-team/polina/pathway_propagation_validation_v2/similarity_mtx/jaccard_spark/Reactome_Pathways_2024/EFO_0005952_ge_mm_som_gsea_Reactome_Pathways_2024_pval0.05\n"
     ]
    },
    {
     "name": "stderr",
     "output_type": "stream",
     "text": [
      "                                                                                \r"
     ]
    },
    {
     "name": "stdout",
     "output_type": "stream",
     "text": [
      "Writing: gs://ot-team/polina/pathway_propagation_validation_v2/similarity_mtx/jaccard_spark/Reactome_Pathways_2024/EFO_0009606_ge_mm_gsea_Reactome_Pathways_2024_pval0.05\n"
     ]
    },
    {
     "name": "stderr",
     "output_type": "stream",
     "text": [
      "                                                                                \r"
     ]
    },
    {
     "name": "stdout",
     "output_type": "stream",
     "text": [
      "Writing: gs://ot-team/polina/pathway_propagation_validation_v2/similarity_mtx/jaccard_spark/Reactome_Pathways_2024/EFO_1001901_ge_mm_som_gsea_Reactome_Pathways_2024_pval0.05\n"
     ]
    },
    {
     "name": "stderr",
     "output_type": "stream",
     "text": [
      "                                                                                \r"
     ]
    },
    {
     "name": "stdout",
     "output_type": "stream",
     "text": [
      "Writing: gs://ot-team/polina/pathway_propagation_validation_v2/similarity_mtx/jaccard_spark/Reactome_Pathways_2024/MONDO_0001657_ge_mm_som_gsea_Reactome_Pathways_2024_pval0.05\n"
     ]
    },
    {
     "name": "stderr",
     "output_type": "stream",
     "text": [
      "                                                                                \r"
     ]
    },
    {
     "name": "stdout",
     "output_type": "stream",
     "text": [
      "Writing: gs://ot-team/polina/pathway_propagation_validation_v2/similarity_mtx/jaccard_spark/Reactome_Pathways_2024/MONDO_0002367_ge_mm_som_gsea_Reactome_Pathways_2024_pval0.05\n"
     ]
    },
    {
     "name": "stderr",
     "output_type": "stream",
     "text": [
      "                                                                                \r"
     ]
    },
    {
     "name": "stdout",
     "output_type": "stream",
     "text": [
      "Writing: gs://ot-team/polina/pathway_propagation_validation_v2/similarity_mtx/jaccard_spark/Reactome_Pathways_2024/MONDO_0004975_ge_mm_gsea_Reactome_Pathways_2024_pval0.05\n"
     ]
    },
    {
     "name": "stderr",
     "output_type": "stream",
     "text": [
      "                                                                                \r"
     ]
    },
    {
     "name": "stdout",
     "output_type": "stream",
     "text": [
      "Writing: gs://ot-team/polina/pathway_propagation_validation_v2/similarity_mtx/jaccard_spark/Reactome_Pathways_2024/MONDO_0004976_ge_mm_gsea_Reactome_Pathways_2024_pval0.05\n"
     ]
    },
    {
     "name": "stderr",
     "output_type": "stream",
     "text": [
      "                                                                                \r"
     ]
    },
    {
     "name": "stdout",
     "output_type": "stream",
     "text": [
      "Writing: gs://ot-team/polina/pathway_propagation_validation_v2/similarity_mtx/jaccard_spark/Reactome_Pathways_2024/MONDO_0004979_ge_mm_gsea_Reactome_Pathways_2024_pval0.05\n"
     ]
    },
    {
     "name": "stderr",
     "output_type": "stream",
     "text": [
      "                                                                                \r"
     ]
    },
    {
     "name": "stdout",
     "output_type": "stream",
     "text": [
      "Writing: gs://ot-team/polina/pathway_propagation_validation_v2/similarity_mtx/jaccard_spark/Reactome_Pathways_2024/MONDO_0004985_ge_mm_gsea_Reactome_Pathways_2024_pval0.05\n"
     ]
    },
    {
     "name": "stderr",
     "output_type": "stream",
     "text": [
      "                                                                                \r"
     ]
    },
    {
     "name": "stdout",
     "output_type": "stream",
     "text": [
      "Writing: gs://ot-team/polina/pathway_propagation_validation_v2/similarity_mtx/jaccard_spark/Reactome_Pathways_2024/MONDO_0005147_ge_mm_gsea_Reactome_Pathways_2024_pval0.05\n"
     ]
    },
    {
     "name": "stderr",
     "output_type": "stream",
     "text": [
      "                                                                                \r"
     ]
    },
    {
     "name": "stdout",
     "output_type": "stream",
     "text": [
      "Writing: gs://ot-team/polina/pathway_propagation_validation_v2/similarity_mtx/jaccard_spark/Reactome_Pathways_2024/MONDO_0005178_ge_mm_gsea_Reactome_Pathways_2024_pval0.05\n"
     ]
    },
    {
     "name": "stderr",
     "output_type": "stream",
     "text": [
      "                                                                                \r"
     ]
    },
    {
     "name": "stdout",
     "output_type": "stream",
     "text": [
      "Writing: gs://ot-team/polina/pathway_propagation_validation_v2/similarity_mtx/jaccard_spark/Reactome_Pathways_2024/MONDO_0005180_ge_mm_gsea_Reactome_Pathways_2024_pval0.05\n"
     ]
    },
    {
     "name": "stderr",
     "output_type": "stream",
     "text": [
      "                                                                                \r"
     ]
    },
    {
     "name": "stdout",
     "output_type": "stream",
     "text": [
      "Writing: gs://ot-team/polina/pathway_propagation_validation_v2/similarity_mtx/jaccard_spark/Reactome_Pathways_2024/MONDO_0005277_ge_mm_gsea_Reactome_Pathways_2024_pval0.05\n"
     ]
    },
    {
     "name": "stderr",
     "output_type": "stream",
     "text": [
      "                                                                                \r"
     ]
    },
    {
     "name": "stdout",
     "output_type": "stream",
     "text": [
      "Writing: gs://ot-team/polina/pathway_propagation_validation_v2/similarity_mtx/jaccard_spark/Reactome_Pathways_2024/MONDO_0005301_ge_mm_gsea_Reactome_Pathways_2024_pval0.05\n"
     ]
    },
    {
     "name": "stderr",
     "output_type": "stream",
     "text": [
      "                                                                                \r"
     ]
    },
    {
     "name": "stdout",
     "output_type": "stream",
     "text": [
      "Writing: gs://ot-team/polina/pathway_propagation_validation_v2/similarity_mtx/jaccard_spark/Reactome_Pathways_2024/MONDO_0007915_ge_mm_gsea_Reactome_Pathways_2024_pval0.05\n"
     ]
    },
    {
     "name": "stderr",
     "output_type": "stream",
     "text": [
      "                                                                                \r"
     ]
    },
    {
     "name": "stdout",
     "output_type": "stream",
     "text": [
      "Writing: gs://ot-team/polina/pathway_propagation_validation_v2/similarity_mtx/jaccard_spark/Reactome_Pathways_2024/MONDO_0008170_ge_mm_som_gsea_Reactome_Pathways_2024_pval0.05\n"
     ]
    },
    {
     "name": "stderr",
     "output_type": "stream",
     "text": [
      "                                                                                \r"
     ]
    },
    {
     "name": "stdout",
     "output_type": "stream",
     "text": [
      "Writing: gs://ot-team/polina/pathway_propagation_validation_v2/similarity_mtx/jaccard_spark/Reactome_Pathways_2024/MONDO_0008315_ge_mm_som_gsea_Reactome_Pathways_2024_pval0.05\n"
     ]
    },
    {
     "name": "stderr",
     "output_type": "stream",
     "text": [
      "                                                                                \r"
     ]
    },
    {
     "name": "stdout",
     "output_type": "stream",
     "text": [
      "Writing: gs://ot-team/polina/pathway_propagation_validation_v2/similarity_mtx/jaccard_spark/Reactome_Pathways_2024/MONDO_0011719_ge_mm_som_gsea_Reactome_Pathways_2024_pval0.05\n"
     ]
    },
    {
     "name": "stderr",
     "output_type": "stream",
     "text": [
      "                                                                                \r"
     ]
    }
   ],
   "source": [
    "gsea_dir = \"gs://ot-team/polina/pathway_propagation_validation_v2/gsea_output_spark\"\n",
    "output_dir = \"gs://ot-team/polina/pathway_propagation_validation_v2/similarity_mtx/jaccard_spark\"\n",
    "\n",
    "calculate_jaccard_similarity(\n",
    "    base_gcs_path=gsea_dir,\n",
    "    folders_to_process=[\"Reactome_Pathways_2024\"],\n",
    "    output_gcs_path=output_dir\n",
    ")"
   ]
  },
  {
   "cell_type": "code",
   "execution_count": 70,
   "id": "ce28d046",
   "metadata": {},
   "outputs": [],
   "source": [
    "df_show = spark.read.parquet(\"gs://ot-team/polina/pathway_propagation_validation_v2/similarity_mtx/jaccard_spark/Reactome_Pathways_2024/EFO_0000183_ge_mm_som_gsea_Reactome_Pathways_2024_pval0.05\")"
   ]
  },
  {
   "cell_type": "code",
   "execution_count": 73,
   "id": "36e65f31",
   "metadata": {},
   "outputs": [
    {
     "name": "stderr",
     "output_type": "stream",
     "text": [
      "[Stage 902:>                                                        (0 + 1) / 1]\r"
     ]
    },
    {
     "name": "stdout",
     "output_type": "stream",
     "text": [
      "+---------------+---------------+---------------+---------------+-------------------+-------------------------------------------------------------------------------------------------------------------------------------------------------------------------------------------------------------+\n",
      "|approvedSymbolA|approvedSymbolB|targetIdA      |targetIdB      |jaccardSimilarity  |intersectingTerms                                                                                                                                                                                            |\n",
      "+---------------+---------------+---------------+---------------+-------------------+-------------------------------------------------------------------------------------------------------------------------------------------------------------------------------------------------------------+\n",
      "|CDK4           |CDK6           |ENSG00000135446|ENSG00000105810|0.42105263157894735|RNA Polymerase II Transcription,Gene Expression (Transcription),Oxidative Stress Induced Senescence,Mitotic G1 Phase and G1 S Transition,Generic Transcription Pathway,Cell Cycle, Mitotic,Cell Cycle,Disease|\n",
      "+---------------+---------------+---------------+---------------+-------------------+-------------------------------------------------------------------------------------------------------------------------------------------------------------------------------------------------------------+\n",
      "\n"
     ]
    },
    {
     "name": "stderr",
     "output_type": "stream",
     "text": [
      "                                                                                \r"
     ]
    }
   ],
   "source": [
    "df_show.filter((col(\"approvedSymbolA\") == \"CDK4\") & (col(\"approvedSymbolB\") == \"CDK6\")).show(5, truncate=False)\n",
    "# df_show.show(10)"
   ]
  },
  {
   "cell_type": "code",
   "execution_count": 72,
   "id": "021ff9ff",
   "metadata": {},
   "outputs": [
    {
     "name": "stderr",
     "output_type": "stream",
     "text": [
      "                                                                                \r"
     ]
    },
    {
     "data": {
      "text/plain": [
       "7826712"
      ]
     },
     "execution_count": 72,
     "metadata": {},
     "output_type": "execute_result"
    }
   ],
   "source": [
    "df_show.count()"
   ]
  },
  {
   "cell_type": "code",
   "execution_count": null,
   "id": "f6a61647",
   "metadata": {},
   "outputs": [],
   "source": []
  },
  {
   "cell_type": "code",
   "execution_count": null,
   "id": "5b81be5f",
   "metadata": {},
   "outputs": [],
   "source": []
  },
  {
   "cell_type": "code",
   "execution_count": null,
   "id": "e8ac54fd",
   "metadata": {},
   "outputs": [],
   "source": []
  }
 ],
 "metadata": {
  "kernelspec": {
   "display_name": "PySpark",
   "language": "python",
   "name": "pyspark"
  },
  "language_info": {
   "codemirror_mode": {
    "name": "ipython",
    "version": 3
   },
   "file_extension": ".py",
   "mimetype": "text/x-python",
   "name": "python",
   "nbconvert_exporter": "python",
   "pygments_lexer": "ipython3",
   "version": "3.11.8"
  }
 },
 "nbformat": 4,
 "nbformat_minor": 5
}
