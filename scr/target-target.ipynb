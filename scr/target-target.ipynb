{
 "cells": [
  {
   "cell_type": "code",
   "execution_count": 1,
   "id": "a7644035",
   "metadata": {},
   "outputs": [],
   "source": [
    "from pyspark.sql import SparkSession\n",
    "from pyspark.sql.functions import col, explode, split, array_distinct, udf\n",
    "from pyspark.ml.feature import MinHashLSH\n",
    "from pyspark.sql.types import FloatType\n",
    "import pyspark.sql.functions as F\n",
    "import os\n",
    "import numpy as np\n",
    "import gcsfs\n",
    "from pyspark.ml.linalg import Vectors, VectorUDT\n",
    "from pyspark.sql.functions import udf\n",
    "from itertools import combinations"
   ]
  },
  {
   "cell_type": "code",
   "execution_count": 2,
   "id": "2799bc78",
   "metadata": {},
   "outputs": [],
   "source": [
    "spark = SparkSession.builder.getOrCreate()"
   ]
  },
  {
   "cell_type": "markdown",
   "id": "a0a94715",
   "metadata": {},
   "source": [
    "# Similarity matrix for propagation results"
   ]
  },
  {
   "cell_type": "markdown",
   "id": "ef3da04d",
   "metadata": {},
   "source": [
    "For future speed optiomisation use Minhash for similarity calculation."
   ]
  },
  {
   "cell_type": "markdown",
   "id": "adaa0c96",
   "metadata": {},
   "source": [
    "## Jaccard"
   ]
  },
  {
   "cell_type": "code",
   "execution_count": 3,
   "id": "5d0beb24",
   "metadata": {},
   "outputs": [],
   "source": [
    "def calculate_jaccard_similarity_spark_exact(input_gcs_dir, output_gcs_dir, folders_to_process):\n",
    "    \"\"\"\n",
    "    Process CSV files in specified GCS folders and calculate exact Jaccard similarity matrices.\n",
    "    Creates one output folder per input CSV file.\n",
    "\n",
    "    Args:\n",
    "        input_gcs_dir (str): Input GCS directory path (gs://bucket/path/)\n",
    "        output_gcs_dir (str): Output GCS directory path (gs://bucket/path/)\n",
    "        folders_to_process (list): List of folder names to process\n",
    "    \"\"\"\n",
    "    from pyspark.sql.functions import col, explode, split\n",
    "    from pyspark.sql import functions as F\n",
    "\n",
    "    input_gcs_dir = input_gcs_dir.rstrip(\"/\")\n",
    "    output_gcs_dir = output_gcs_dir.rstrip(\"/\")\n",
    "\n",
    "    def jaccard_similarity(set1, set2):\n",
    "        if not set1 or not set2:\n",
    "            return 0.0\n",
    "        intersection = len(set(set1).intersection(set(set2)))\n",
    "        union = len(set(set1).union(set(set2)))\n",
    "        return float(intersection) / float(union)\n",
    "\n",
    "    jaccard_udf = F.udf(jaccard_similarity, FloatType())\n",
    "\n",
    "    for folder_name in folders_to_process:\n",
    "        # Get list of CSV files using Spark's filesystem API\n",
    "        csv_files = spark.sparkContext.wholeTextFiles(f\"{input_gcs_dir}/{folder_name}/*.csv\").keys().collect()\n",
    "        \n",
    "        for csv_file in csv_files:\n",
    "            # Extract just the filename (last part of GCS path)\n",
    "            csv_name = csv_file.split(\"/\")[-1].replace(\".csv\", \"\")\n",
    "            output_folder_path = f\"{output_gcs_dir}/{folder_name}/{csv_name}\"\n",
    "\n",
    "            # Read single CSV file\n",
    "            df = spark.read.option(\"header\", True).csv(csv_file)\n",
    "\n",
    "            # Check required columns\n",
    "            expected_cols = {'propagated_edge', 'Term'}\n",
    "            if not expected_cols.issubset(set(df.columns)):\n",
    "                print(f\"Skipping {csv_file}: missing required columns.\")\n",
    "                continue\n",
    "\n",
    "            # Process data\n",
    "            df_exploded = df.withColumn(\n",
    "                \"propagated_edge_exploded\", \n",
    "                explode(split(col(\"propagated_edge\"), \",\"))\n",
    "            ).dropna(subset=[\"propagated_edge_exploded\"])\n",
    "\n",
    "            target_terms = df_exploded.groupBy(\"propagated_edge_exploded\") \\\n",
    "                .agg(F.collect_set(\"Term\").alias(\"terms\"))\n",
    "\n",
    "            # Cross join and filter\n",
    "            target_terms_alias1 = target_terms.alias(\"targetA\")\n",
    "            target_terms_alias2 = target_terms.alias(\"targetB\")\n",
    "            pairs = target_terms_alias1.crossJoin(target_terms_alias2) \\\n",
    "                .filter(\"targetA.propagated_edge_exploded <= targetB.propagated_edge_exploded\")\n",
    "\n",
    "            # Calculate similarities\n",
    "            similarity_df = pairs.select(\n",
    "                col(\"targetA.propagated_edge_exploded\").alias(\"targetA\"),\n",
    "                col(\"targetB.propagated_edge_exploded\").alias(\"targetB\"),\n",
    "                jaccard_udf(col(\"targetA.terms\"), col(\"targetB.terms\")).alias(\"jaccardSim\")\n",
    "            )\n",
    "\n",
    "            # Save results\n",
    "            similarity_df.write.mode('overwrite').option(\"header\", True).csv(output_folder_path)\n",
    "            print(f\"Output: {output_folder_path}\")"
   ]
  },
  {
   "cell_type": "code",
   "execution_count": 4,
   "id": "17fbfc0a",
   "metadata": {},
   "outputs": [
    {
     "name": "stderr",
     "output_type": "stream",
     "text": [
      "                                                                                \r"
     ]
    },
    {
     "name": "stdout",
     "output_type": "stream",
     "text": [
      "Output: gs://ot-team/polina/pathway_propagation_validation_v2/similarity_mtx/jaccard_spark/Reactome_Pathways_2024/EFO_0000095_ge_mm_som_gsea_Reactome_Pathways_2024_pval0.05\n"
     ]
    },
    {
     "name": "stderr",
     "output_type": "stream",
     "text": [
      "                                                                                \r"
     ]
    },
    {
     "name": "stdout",
     "output_type": "stream",
     "text": [
      "Output: gs://ot-team/polina/pathway_propagation_validation_v2/similarity_mtx/jaccard_spark/Reactome_Pathways_2024/EFO_0000183_ge_mm_som_gsea_Reactome_Pathways_2024_pval0.05\n"
     ]
    },
    {
     "name": "stderr",
     "output_type": "stream",
     "text": [
      "                                                                                \r"
     ]
    },
    {
     "name": "stdout",
     "output_type": "stream",
     "text": [
      "Output: gs://ot-team/polina/pathway_propagation_validation_v2/similarity_mtx/jaccard_spark/Reactome_Pathways_2024/EFO_0000274_ge_mm_gsea_Reactome_Pathways_2024_pval0.05\n"
     ]
    },
    {
     "name": "stderr",
     "output_type": "stream",
     "text": [
      "                                                                                \r"
     ]
    },
    {
     "name": "stdout",
     "output_type": "stream",
     "text": [
      "Output: gs://ot-team/polina/pathway_propagation_validation_v2/similarity_mtx/jaccard_spark/Reactome_Pathways_2024/EFO_0000275_ge_mm_gsea_Reactome_Pathways_2024_pval0.05\n"
     ]
    },
    {
     "name": "stderr",
     "output_type": "stream",
     "text": [
      "                                                                                \r"
     ]
    },
    {
     "name": "stdout",
     "output_type": "stream",
     "text": [
      "Output: gs://ot-team/polina/pathway_propagation_validation_v2/similarity_mtx/jaccard_spark/Reactome_Pathways_2024/EFO_0000341_ge_mm_gsea_Reactome_Pathways_2024_pval0.05\n"
     ]
    },
    {
     "name": "stderr",
     "output_type": "stream",
     "text": [
      "                                                                                \r"
     ]
    },
    {
     "name": "stdout",
     "output_type": "stream",
     "text": [
      "Output: gs://ot-team/polina/pathway_propagation_validation_v2/similarity_mtx/jaccard_spark/Reactome_Pathways_2024/EFO_0000222_ge_mm_som_gsea_Reactome_Pathways_2024_pval0.05\n"
     ]
    },
    {
     "name": "stderr",
     "output_type": "stream",
     "text": [
      "                                                                                \r"
     ]
    },
    {
     "name": "stdout",
     "output_type": "stream",
     "text": [
      "Output: gs://ot-team/polina/pathway_propagation_validation_v2/similarity_mtx/jaccard_spark/Reactome_Pathways_2024/EFO_0000384_ge_mm_gsea_Reactome_Pathways_2024_pval0.05\n"
     ]
    },
    {
     "name": "stderr",
     "output_type": "stream",
     "text": [
      "ERROR:root:KeyboardInterrupt while sending command.                 (0 + 1) / 1]\n",
      "Traceback (most recent call last):\n",
      "  File \"/usr/lib/spark/python/lib/py4j-0.10.9.7-src.zip/py4j/java_gateway.py\", line 1038, in send_command\n",
      "    response = connection.send_command(command)\n",
      "               ^^^^^^^^^^^^^^^^^^^^^^^^^^^^^^^^\n",
      "  File \"/usr/lib/spark/python/lib/py4j-0.10.9.7-src.zip/py4j/clientserver.py\", line 511, in send_command\n",
      "    answer = smart_decode(self.stream.readline()[:-1])\n",
      "                          ^^^^^^^^^^^^^^^^^^^^^^\n",
      "  File \"/opt/conda/miniconda3/lib/python3.11/socket.py\", line 706, in readinto\n",
      "    return self._sock.recv_into(b)\n",
      "           ^^^^^^^^^^^^^^^^^^^^^^^\n",
      "KeyboardInterrupt\n"
     ]
    },
    {
     "ename": "KeyboardInterrupt",
     "evalue": "",
     "output_type": "error",
     "traceback": [
      "\u001b[0;31m---------------------------------------------------------------------------\u001b[0m",
      "\u001b[0;31mKeyboardInterrupt\u001b[0m                         Traceback (most recent call last)",
      "Cell \u001b[0;32mIn[4], line 8\u001b[0m\n\u001b[1;32m      5\u001b[0m library \u001b[38;5;241m=\u001b[39m [\u001b[38;5;124m\"\u001b[39m\u001b[38;5;124mReactome_Pathways_2024\u001b[39m\u001b[38;5;124m\"\u001b[39m]\n\u001b[1;32m      6\u001b[0m \u001b[38;5;66;03m# library = [\"test\"]\u001b[39;00m\n\u001b[0;32m----> 8\u001b[0m \u001b[43mcalculate_jaccard_similarity_spark_exact\u001b[49m\u001b[43m(\u001b[49m\u001b[43mgsea_dir\u001b[49m\u001b[43m,\u001b[49m\u001b[43m \u001b[49m\u001b[43moutput_dir\u001b[49m\u001b[43m,\u001b[49m\u001b[43m \u001b[49m\u001b[43mlibrary\u001b[49m\u001b[43m)\u001b[49m\n",
      "Cell \u001b[0;32mIn[3], line 67\u001b[0m, in \u001b[0;36mcalculate_jaccard_similarity_spark_exact\u001b[0;34m(input_gcs_dir, output_gcs_dir, folders_to_process)\u001b[0m\n\u001b[1;32m     60\u001b[0m similarity_df \u001b[38;5;241m=\u001b[39m pairs\u001b[38;5;241m.\u001b[39mselect(\n\u001b[1;32m     61\u001b[0m     col(\u001b[38;5;124m\"\u001b[39m\u001b[38;5;124mtargetA.propagated_edge_exploded\u001b[39m\u001b[38;5;124m\"\u001b[39m)\u001b[38;5;241m.\u001b[39malias(\u001b[38;5;124m\"\u001b[39m\u001b[38;5;124mtargetA\u001b[39m\u001b[38;5;124m\"\u001b[39m),\n\u001b[1;32m     62\u001b[0m     col(\u001b[38;5;124m\"\u001b[39m\u001b[38;5;124mtargetB.propagated_edge_exploded\u001b[39m\u001b[38;5;124m\"\u001b[39m)\u001b[38;5;241m.\u001b[39malias(\u001b[38;5;124m\"\u001b[39m\u001b[38;5;124mtargetB\u001b[39m\u001b[38;5;124m\"\u001b[39m),\n\u001b[1;32m     63\u001b[0m     jaccard_udf(col(\u001b[38;5;124m\"\u001b[39m\u001b[38;5;124mtargetA.terms\u001b[39m\u001b[38;5;124m\"\u001b[39m), col(\u001b[38;5;124m\"\u001b[39m\u001b[38;5;124mtargetB.terms\u001b[39m\u001b[38;5;124m\"\u001b[39m))\u001b[38;5;241m.\u001b[39malias(\u001b[38;5;124m\"\u001b[39m\u001b[38;5;124mjaccardSim\u001b[39m\u001b[38;5;124m\"\u001b[39m)\n\u001b[1;32m     64\u001b[0m )\n\u001b[1;32m     66\u001b[0m \u001b[38;5;66;03m# Save results\u001b[39;00m\n\u001b[0;32m---> 67\u001b[0m \u001b[43msimilarity_df\u001b[49m\u001b[38;5;241;43m.\u001b[39;49m\u001b[43mwrite\u001b[49m\u001b[38;5;241;43m.\u001b[39;49m\u001b[43mmode\u001b[49m\u001b[43m(\u001b[49m\u001b[38;5;124;43m'\u001b[39;49m\u001b[38;5;124;43moverwrite\u001b[39;49m\u001b[38;5;124;43m'\u001b[39;49m\u001b[43m)\u001b[49m\u001b[38;5;241;43m.\u001b[39;49m\u001b[43moption\u001b[49m\u001b[43m(\u001b[49m\u001b[38;5;124;43m\"\u001b[39;49m\u001b[38;5;124;43mheader\u001b[39;49m\u001b[38;5;124;43m\"\u001b[39;49m\u001b[43m,\u001b[49m\u001b[43m \u001b[49m\u001b[38;5;28;43;01mTrue\u001b[39;49;00m\u001b[43m)\u001b[49m\u001b[38;5;241;43m.\u001b[39;49m\u001b[43mcsv\u001b[49m\u001b[43m(\u001b[49m\u001b[43moutput_folder_path\u001b[49m\u001b[43m)\u001b[49m\n\u001b[1;32m     68\u001b[0m \u001b[38;5;28mprint\u001b[39m(\u001b[38;5;124mf\u001b[39m\u001b[38;5;124m\"\u001b[39m\u001b[38;5;124mOutput: \u001b[39m\u001b[38;5;132;01m{\u001b[39;00moutput_folder_path\u001b[38;5;132;01m}\u001b[39;00m\u001b[38;5;124m\"\u001b[39m)\n",
      "File \u001b[0;32m/usr/lib/spark/python/pyspark/sql/readwriter.py:1864\u001b[0m, in \u001b[0;36mDataFrameWriter.csv\u001b[0;34m(self, path, mode, compression, sep, quote, escape, header, nullValue, escapeQuotes, quoteAll, dateFormat, timestampFormat, ignoreLeadingWhiteSpace, ignoreTrailingWhiteSpace, charToEscapeQuoteEscaping, encoding, emptyValue, lineSep)\u001b[0m\n\u001b[1;32m   1845\u001b[0m \u001b[38;5;28mself\u001b[39m\u001b[38;5;241m.\u001b[39mmode(mode)\n\u001b[1;32m   1846\u001b[0m \u001b[38;5;28mself\u001b[39m\u001b[38;5;241m.\u001b[39m_set_opts(\n\u001b[1;32m   1847\u001b[0m     compression\u001b[38;5;241m=\u001b[39mcompression,\n\u001b[1;32m   1848\u001b[0m     sep\u001b[38;5;241m=\u001b[39msep,\n\u001b[0;32m   (...)\u001b[0m\n\u001b[1;32m   1862\u001b[0m     lineSep\u001b[38;5;241m=\u001b[39mlineSep,\n\u001b[1;32m   1863\u001b[0m )\n\u001b[0;32m-> 1864\u001b[0m \u001b[38;5;28;43mself\u001b[39;49m\u001b[38;5;241;43m.\u001b[39;49m\u001b[43m_jwrite\u001b[49m\u001b[38;5;241;43m.\u001b[39;49m\u001b[43mcsv\u001b[49m\u001b[43m(\u001b[49m\u001b[43mpath\u001b[49m\u001b[43m)\u001b[49m\n",
      "File \u001b[0;32m/usr/lib/spark/python/lib/py4j-0.10.9.7-src.zip/py4j/java_gateway.py:1321\u001b[0m, in \u001b[0;36mJavaMember.__call__\u001b[0;34m(self, *args)\u001b[0m\n\u001b[1;32m   1314\u001b[0m args_command, temp_args \u001b[38;5;241m=\u001b[39m \u001b[38;5;28mself\u001b[39m\u001b[38;5;241m.\u001b[39m_build_args(\u001b[38;5;241m*\u001b[39margs)\n\u001b[1;32m   1316\u001b[0m command \u001b[38;5;241m=\u001b[39m proto\u001b[38;5;241m.\u001b[39mCALL_COMMAND_NAME \u001b[38;5;241m+\u001b[39m\\\n\u001b[1;32m   1317\u001b[0m     \u001b[38;5;28mself\u001b[39m\u001b[38;5;241m.\u001b[39mcommand_header \u001b[38;5;241m+\u001b[39m\\\n\u001b[1;32m   1318\u001b[0m     args_command \u001b[38;5;241m+\u001b[39m\\\n\u001b[1;32m   1319\u001b[0m     proto\u001b[38;5;241m.\u001b[39mEND_COMMAND_PART\n\u001b[0;32m-> 1321\u001b[0m answer \u001b[38;5;241m=\u001b[39m \u001b[38;5;28;43mself\u001b[39;49m\u001b[38;5;241;43m.\u001b[39;49m\u001b[43mgateway_client\u001b[49m\u001b[38;5;241;43m.\u001b[39;49m\u001b[43msend_command\u001b[49m\u001b[43m(\u001b[49m\u001b[43mcommand\u001b[49m\u001b[43m)\u001b[49m\n\u001b[1;32m   1322\u001b[0m return_value \u001b[38;5;241m=\u001b[39m get_return_value(\n\u001b[1;32m   1323\u001b[0m     answer, \u001b[38;5;28mself\u001b[39m\u001b[38;5;241m.\u001b[39mgateway_client, \u001b[38;5;28mself\u001b[39m\u001b[38;5;241m.\u001b[39mtarget_id, \u001b[38;5;28mself\u001b[39m\u001b[38;5;241m.\u001b[39mname)\n\u001b[1;32m   1325\u001b[0m \u001b[38;5;28;01mfor\u001b[39;00m temp_arg \u001b[38;5;129;01min\u001b[39;00m temp_args:\n",
      "File \u001b[0;32m/usr/lib/spark/python/lib/py4j-0.10.9.7-src.zip/py4j/java_gateway.py:1038\u001b[0m, in \u001b[0;36mGatewayClient.send_command\u001b[0;34m(self, command, retry, binary)\u001b[0m\n\u001b[1;32m   1036\u001b[0m connection \u001b[38;5;241m=\u001b[39m \u001b[38;5;28mself\u001b[39m\u001b[38;5;241m.\u001b[39m_get_connection()\n\u001b[1;32m   1037\u001b[0m \u001b[38;5;28;01mtry\u001b[39;00m:\n\u001b[0;32m-> 1038\u001b[0m     response \u001b[38;5;241m=\u001b[39m \u001b[43mconnection\u001b[49m\u001b[38;5;241;43m.\u001b[39;49m\u001b[43msend_command\u001b[49m\u001b[43m(\u001b[49m\u001b[43mcommand\u001b[49m\u001b[43m)\u001b[49m\n\u001b[1;32m   1039\u001b[0m     \u001b[38;5;28;01mif\u001b[39;00m binary:\n\u001b[1;32m   1040\u001b[0m         \u001b[38;5;28;01mreturn\u001b[39;00m response, \u001b[38;5;28mself\u001b[39m\u001b[38;5;241m.\u001b[39m_create_connection_guard(connection)\n",
      "File \u001b[0;32m/usr/lib/spark/python/lib/py4j-0.10.9.7-src.zip/py4j/clientserver.py:511\u001b[0m, in \u001b[0;36mClientServerConnection.send_command\u001b[0;34m(self, command)\u001b[0m\n\u001b[1;32m    509\u001b[0m \u001b[38;5;28;01mtry\u001b[39;00m:\n\u001b[1;32m    510\u001b[0m     \u001b[38;5;28;01mwhile\u001b[39;00m \u001b[38;5;28;01mTrue\u001b[39;00m:\n\u001b[0;32m--> 511\u001b[0m         answer \u001b[38;5;241m=\u001b[39m smart_decode(\u001b[38;5;28mself\u001b[39m\u001b[38;5;241m.\u001b[39mstream\u001b[38;5;241m.\u001b[39mreadline()[:\u001b[38;5;241m-\u001b[39m\u001b[38;5;241m1\u001b[39m])\n\u001b[1;32m    512\u001b[0m         logger\u001b[38;5;241m.\u001b[39mdebug(\u001b[38;5;124m\"\u001b[39m\u001b[38;5;124mAnswer received: \u001b[39m\u001b[38;5;132;01m{0}\u001b[39;00m\u001b[38;5;124m\"\u001b[39m\u001b[38;5;241m.\u001b[39mformat(answer))\n\u001b[1;32m    513\u001b[0m         \u001b[38;5;66;03m# Happens when a the other end is dead. There might be an empty\u001b[39;00m\n\u001b[1;32m    514\u001b[0m         \u001b[38;5;66;03m# answer before the socket raises an error.\u001b[39;00m\n",
      "File \u001b[0;32m/opt/conda/miniconda3/lib/python3.11/socket.py:706\u001b[0m, in \u001b[0;36mSocketIO.readinto\u001b[0;34m(self, b)\u001b[0m\n\u001b[1;32m    704\u001b[0m \u001b[38;5;28;01mwhile\u001b[39;00m \u001b[38;5;28;01mTrue\u001b[39;00m:\n\u001b[1;32m    705\u001b[0m     \u001b[38;5;28;01mtry\u001b[39;00m:\n\u001b[0;32m--> 706\u001b[0m         \u001b[38;5;28;01mreturn\u001b[39;00m \u001b[38;5;28;43mself\u001b[39;49m\u001b[38;5;241;43m.\u001b[39;49m\u001b[43m_sock\u001b[49m\u001b[38;5;241;43m.\u001b[39;49m\u001b[43mrecv_into\u001b[49m\u001b[43m(\u001b[49m\u001b[43mb\u001b[49m\u001b[43m)\u001b[49m\n\u001b[1;32m    707\u001b[0m     \u001b[38;5;28;01mexcept\u001b[39;00m timeout:\n\u001b[1;32m    708\u001b[0m         \u001b[38;5;28mself\u001b[39m\u001b[38;5;241m.\u001b[39m_timeout_occurred \u001b[38;5;241m=\u001b[39m \u001b[38;5;28;01mTrue\u001b[39;00m\n",
      "\u001b[0;31mKeyboardInterrupt\u001b[0m: "
     ]
    },
    {
     "name": "stderr",
     "output_type": "stream",
     "text": [
      "                                                                                \r"
     ]
    }
   ],
   "source": [
    "gsea_dir = \"gs://ot-team/polina/pathway_propagation_validation_v2/gsea_output\"\n",
    "output_dir = \"gs://ot-team/polina/pathway_propagation_validation_v2/similarity_mtx/jaccard_spark\"\n",
    "\n",
    "# library = [\"KEGG_2021_Human\"]\n",
    "library = [\"Reactome_Pathways_2024\"]\n",
    "# library = [\"test\"]\n",
    "\n",
    "calculate_jaccard_similarity_spark_exact(gsea_dir, output_dir, library)"
   ]
  },
  {
   "cell_type": "code",
   "execution_count": 57,
   "id": "ce28d046",
   "metadata": {},
   "outputs": [
    {
     "name": "stderr",
     "output_type": "stream",
     "text": [
      "                                                                                \r"
     ]
    }
   ],
   "source": [
    "df_show = spark.read.csv(\"gs://ot-team/polina/pathway_propagation_validation_v2/similarity_mtx/jaccard_spark/KEGG_2021_Human/EFO_0000565_ge_mm_som_gsea_KEGG_2021_Human_pval0.05\", header=True, inferSchema=True)"
   ]
  },
  {
   "cell_type": "code",
   "execution_count": 62,
   "id": "36e65f31",
   "metadata": {},
   "outputs": [
    {
     "name": "stderr",
     "output_type": "stream",
     "text": [
      "[Stage 476:>                                                        (0 + 1) / 1]\r"
     ]
    },
    {
     "name": "stdout",
     "output_type": "stream",
     "text": [
      "+-------+----------+-----------+\n",
      "|targetA|   targetB| jaccardSim|\n",
      "+-------+----------+-----------+\n",
      "|   CDK2|      CDK2|        1.0|\n",
      "|   CDK2|      CDK4| 0.41935483|\n",
      "|   CDK2|      CDK5|        0.0|\n",
      "|   CDK2|    CDK5R1|        0.0|\n",
      "|   CDK2|      CDK6| 0.41379312|\n",
      "|   CDK2|      CDK7|0.055555556|\n",
      "|   CDK2|      CDK9|        0.0|\n",
      "|   CDK2|    CDKN1A|  0.3902439|\n",
      "|   CDK2|    CDKN1B|        0.5|\n",
      "|   CDK2|    CDKN1C|0.055555556|\n",
      "|   CDK2|    CDKN2A| 0.25925925|\n",
      "|   CDK2|    CDKN2B|        0.5|\n",
      "|   CDK2|    CDKN2C| 0.15789473|\n",
      "|   CDK2|    CDKN2D| 0.11111111|\n",
      "|   CDK2|      CDX2|0.055555556|\n",
      "|   CDK2|     CEBPA|       0.05|\n",
      "|   CDK2|     CEBPB|        0.0|\n",
      "|   CDK2|     CEBPE|        0.0|\n",
      "|   CDK2|     CENPS|        0.0|\n",
      "|   CDK2|CENPS-CORT|        0.0|\n",
      "+-------+----------+-----------+\n",
      "only showing top 20 rows\n",
      "\n"
     ]
    },
    {
     "name": "stderr",
     "output_type": "stream",
     "text": [
      "                                                                                \r"
     ]
    }
   ],
   "source": [
    "df_show.filter(col(\"targetA\") == \"CDK2\").show(20)\n",
    "# df_show.show(10)"
   ]
  },
  {
   "cell_type": "markdown",
   "id": "6014351b",
   "metadata": {},
   "source": [
    "Ok it's too long. Lets return to hash-tables."
   ]
  },
  {
   "cell_type": "code",
   "execution_count": null,
   "id": "76c614ec",
   "metadata": {},
   "outputs": [],
   "source": []
  }
 ],
 "metadata": {
  "kernelspec": {
   "display_name": "PySpark",
   "language": "python",
   "name": "pyspark"
  },
  "language_info": {
   "codemirror_mode": {
    "name": "ipython",
    "version": 3
   },
   "file_extension": ".py",
   "mimetype": "text/x-python",
   "name": "python",
   "nbconvert_exporter": "python",
   "pygments_lexer": "ipython3",
   "version": "3.11.8"
  }
 },
 "nbformat": 4,
 "nbformat_minor": 5
}
