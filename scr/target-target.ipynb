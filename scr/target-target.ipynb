{
 "cells": [
  {
   "cell_type": "markdown",
   "id": "856135c1",
   "metadata": {},
   "source": [
    "This code is pasted from IBD_pathway_to_cell from similarity_mvp and should be rewritten to spark to process data more effeciently."
   ]
  },
  {
   "cell_type": "markdown",
   "id": "a0a94715",
   "metadata": {},
   "source": [
    "# Similarity matrix for propagation results"
   ]
  },
  {
   "cell_type": "markdown",
   "id": "a10f12f9",
   "metadata": {
    "vscode": {
     "languageId": "plaintext"
    }
   },
   "source": [
    "For MVP: \n",
    "\n",
    "presence or absence of target in pathways (0/1)\n",
    "\n",
    "Jaccard for distance"
   ]
  },
  {
   "cell_type": "code",
   "execution_count": null,
   "id": "1a275554",
   "metadata": {
    "vscode": {
     "languageId": "plaintext"
    }
   },
   "outputs": [],
   "source": [
    "def calculate_jaccard_similarity(input_gcs_dir, output_gcs_dir, folders_to_process):\n",
    "    \"\"\"\n",
    "    Process CSV files in specified folders within a GCS directory and calculate Jaccard similarity matrices.\n",
    "\n",
    "    Args:\n",
    "        input_gcs_dir (str): Input GCS directory path.\n",
    "        output_gcs_dir (str): Output GCS directory path.\n",
    "        folders_to_process (list): List of folder names within the input directory to process.\n",
    "\n",
    "    Output:\n",
    "        Saves similarity matrices as CSV files in output GCS directory.\n",
    "    \"\"\"\n",
    "    # Initialize GCS filesystem\n",
    "    fs = gcsfs.GCSFileSystem()\n",
    "\n",
    "    # Ensure no trailing slashes in input and output directories\n",
    "    input_gcs_dir = input_gcs_dir.rstrip(\"/\")\n",
    "    output_gcs_dir = output_gcs_dir.rstrip(\"/\")\n",
    "\n",
    "    for folder_name in folders_to_process:\n",
    "        folder_path = f\"{input_gcs_dir}/{folder_name}\"\n",
    "        output_folder_path = f\"{output_gcs_dir}/{folder_name}\"\n",
    "\n",
    "        # Ensure output folder exists\n",
    "        if not fs.exists(output_folder_path):\n",
    "            fs.mkdirs(output_folder_path)\n",
    "\n",
    "        # List files in the input folder\n",
    "        files_in_folder = fs.ls(folder_path)\n",
    "        csv_files = [file for file in files_in_folder if file.endswith('.csv')]\n",
    "\n",
    "        for file_path in csv_files:\n",
    "            # Read the CSV file directly from GCS\n",
    "            with fs.open(file_path, 'r') as f:\n",
    "                df = pd.read_csv(f)\n",
    "\n",
    "            # Check if 'propagated_edge' and 'Term' exist in the file\n",
    "            if 'propagated_edge' not in df.columns or 'Term' not in df.columns:\n",
    "                print(f\"Skipping {file_path}: missing required columns.\")\n",
    "                continue\n",
    "\n",
    "            # Explode the `propagated_edge` column\n",
    "            df['propagated_edge_exploded'] = df['propagated_edge'].str.split(',')\n",
    "            df = df.explode('propagated_edge_exploded').dropna(subset=['propagated_edge_exploded'])\n",
    "\n",
    "            # Prepare data for the similarity matrix\n",
    "            unique_terms = df['Term'].unique()\n",
    "            unique_targets = df['propagated_edge_exploded'].unique()\n",
    "\n",
    "            # Create a binary matrix: rows=targets, columns=terms\n",
    "            binary_matrix = pd.DataFrame(0, index=unique_targets, columns=unique_terms)\n",
    "            for target in unique_targets:\n",
    "                terms_with_target = df.loc[df['propagated_edge_exploded'] == target, 'Term'].unique()\n",
    "                binary_matrix.loc[target, terms_with_target] = 1\n",
    "\n",
    "            # Calculate Jaccard similarity matrix\n",
    "            jaccard_distance = pdist(binary_matrix.values, metric='jaccard')\n",
    "            jaccard_similarity = 1 - squareform(jaccard_distance)\n",
    "\n",
    "            # # Apply exponential decay function to the similarity matrix\n",
    "            # decay_function = lambda x: np.exp(-x)\n",
    "            # similarity_matrix = decay_function(jaccard_similarity)\n",
    "\n",
    "            # Save similarity matrix as a CSV\n",
    "            similarity_df = pd.DataFrame(\n",
    "                jaccard_similarity, \n",
    "                index=unique_targets, \n",
    "                columns=unique_targets\n",
    "            )\n",
    "            output_file_name = f\"{Path(file_path).stem}_jaccard_sim.csv\"\n",
    "            output_file_path = f\"{output_folder_path}/{output_file_name}\"\n",
    "\n",
    "            # Save directly to GCS\n",
    "            with fs.open(output_file_path, 'w') as f:\n",
    "                similarity_df.to_csv(f, index=True)\n",
    "\n",
    "            print(f\"Processed and uploaded: {output_file_path}\")"
   ]
  },
  {
   "cell_type": "code",
   "execution_count": null,
   "id": "135d9160",
   "metadata": {
    "vscode": {
     "languageId": "plaintext"
    }
   },
   "outputs": [],
   "source": [
    "gsea_dir = \"gs://ot-team/polina/pathway_propagation_validation_v2/gsea_output\"\n",
    "output_dir = \"gs://ot-team/polina/pathway_propagation_validation_v2/similarity_mtx/jaccard\"\n",
    "\n",
    "library = [\"GO_Biological_Process_2023\"]\n",
    "\n",
    "calculate_jaccard_similarity(gsea_dir, output_dir, library)"
   ]
  },
  {
   "cell_type": "code",
   "execution_count": null,
   "id": "1d8d4d39",
   "metadata": {
    "vscode": {
     "languageId": "plaintext"
    }
   },
   "outputs": [],
   "source": []
  },
  {
   "cell_type": "code",
   "execution_count": null,
   "id": "1abed3a1",
   "metadata": {
    "vscode": {
     "languageId": "plaintext"
    }
   },
   "outputs": [],
   "source": []
  }
 ],
 "metadata": {
  "language_info": {
   "name": "python"
  }
 },
 "nbformat": 4,
 "nbformat_minor": 5
}
