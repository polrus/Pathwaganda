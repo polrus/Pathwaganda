{
 "cells": [
  {
   "cell_type": "code",
   "execution_count": 3,
   "id": "ac45dbfb",
   "metadata": {},
   "outputs": [],
   "source": [
    "from scipy.spatial.distance import pdist, squareform\n",
    "import umap.umap_ as umap\n",
    "import pandas as pd\n",
    "import hdbscan\n",
    "import plotly.graph_objects as go\n",
    "import plotly.express as px\n",
    "import numpy as np\n",
    "import os"
   ]
  },
  {
   "cell_type": "code",
   "execution_count": 22,
   "id": "dd396e57",
   "metadata": {},
   "outputs": [],
   "source": [
    "def build_umap_plot_2d_clusters_from_metadata(metadata_cluster_file):\n",
    "    \"\"\"\n",
    "    Builds a 2D UMAP plot from metadata with 'UMAP 1', 'UMAP 2', and 'cluster' columns.\n",
    "    \"\"\"\n",
    "    import pandas as pd\n",
    "    import plotly.graph_objects as go\n",
    "    import plotly.express as px\n",
    "\n",
    "    # Load metadata\n",
    "    metadata = pd.read_csv(metadata_cluster_file, sep='\\t')\n",
    "\n",
    "    import colorcet as cc  # for colorblind-friendly palettes\n",
    "    import random\n",
    "\n",
    "    # Combine multiple colorblind-safe palettes\n",
    "    safe_colors = (\n",
    "        cc.glasbey[:25]  # Glasbey is great for many distinguishable categories\n",
    "    )\n",
    "\n",
    "    # Shuffle for aesthetics if desired\n",
    "    random.seed(42)  # ensure reproducibility\n",
    "    random.shuffle(safe_colors)\n",
    "\n",
    "    unique_clusters = sorted(metadata['cluster'].unique())\n",
    "    cluster_color_dict = {\n",
    "        cluster: ('gainsboro' if cluster == -1 else safe_colors[i % len(safe_colors)])\n",
    "        for i, cluster in enumerate(unique_clusters)\n",
    "    }\n",
    "    metadata['cluster_color'] = metadata['cluster'].map(cluster_color_dict)\n",
    "\n",
    "\n",
    "    # Build plot\n",
    "    fig = go.Figure()\n",
    "\n",
    "    for cluster_id in unique_clusters:\n",
    "        cluster_df = metadata[metadata['cluster'] == cluster_id]\n",
    "        # cluster_name = cluster_df['clusterNameReactome'].iloc[0] if cluster_id != -1 else 'Noise'\n",
    "        color = cluster_color_dict[cluster_id]\n",
    "        # legend_name = f\"{cluster_name}\" if cluster_id != -1 else 'Noise'\n",
    "\n",
    "        # # Marker outline only for drug targets (not visible in legend)\n",
    "        # marker_lines = [\n",
    "        #     dict(width=1, color='black') if val != 0 else dict(width=0)\n",
    "        #     for val in cluster_df['geneticAD']\n",
    "        # ]\n",
    "\n",
    "        fig.add_trace(go.Scatter(\n",
    "            x=cluster_df['UMAP 1'],\n",
    "            y=cluster_df['UMAP 2'],\n",
    "            mode='markers',\n",
    "            # name=legend_name,\n",
    "            marker=dict(\n",
    "                size=5,\n",
    "                color=color,\n",
    "                line=dict(width=0),  # Disable uniform outline to prevent black circles in legend\n",
    "                opacity=0.7\n",
    "            ),\n",
    "            customdata=cluster_df[['cluster', 'approvedSymbol']],\n",
    "            hovertemplate=(\n",
    "                \"Cluster %{customdata[0]}: %{customdata[1]}<br>\" +\n",
    "                \"approvedSymbol: %{customdata[2]}<extra></extra>\"\n",
    "            ),\n",
    "            showlegend=True\n",
    "        ))\n",
    "\n",
    "        # Add labels for maxPhase > 2\n",
    "        high_val_df = cluster_df[cluster_df['maxPhaseChEMBL'] > 2].copy()\n",
    "        y_offset = 0.15\n",
    "        fig.add_trace(go.Scatter(\n",
    "            x=high_val_df['UMAP 1'],\n",
    "            y=high_val_df['UMAP 2'] + y_offset,\n",
    "            mode='text',\n",
    "            text=high_val_df['approvedSymbol'],\n",
    "            textposition='top center',\n",
    "            textfont=dict(color='black', size=12),\n",
    "            showlegend=False,\n",
    "            hoverinfo='skip'\n",
    "        ))\n",
    "\n",
    "    # # Add dummy legend entry for drug targets\n",
    "    # fig.add_trace(go.Scatter(\n",
    "    #     x=[None],\n",
    "    #     y=[None],\n",
    "    #     mode='markers',\n",
    "    #     marker=dict(\n",
    "    #         symbol='circle-open',\n",
    "    #         color='black',\n",
    "    #         size=5,\n",
    "    #         line=dict(width=1)\n",
    "    #     ),\n",
    "    #     # name='– drug target (Pharmaprojects)',\n",
    "    #     name='– NeuroFlux hit',\n",
    "    #     showlegend=True\n",
    "    # ))\n",
    "\n",
    "    fig.update_layout(\n",
    "        xaxis=dict(title='UMAP1', showgrid=False, zeroline=False, constrain='domain', ticks='outside', showline=True, mirror=True),\n",
    "        yaxis=dict(title='UMAP2', showgrid=False, zeroline=False, scaleanchor='x', scaleratio=1, constrain='domain', ticks='outside', showline=True, mirror=True),\n",
    "        plot_bgcolor='white',\n",
    "        paper_bgcolor='white',\n",
    "        margin=dict(l=40, r=40, t=40, b=40),\n",
    "        legend=dict(title='Cluster', itemsizing='constant'),\n",
    "        height=700,\n",
    "        width=800,\n",
    "    )\n",
    "\n",
    "    return fig"
   ]
  },
  {
   "cell_type": "code",
   "execution_count": 23,
   "id": "8aa2d576",
   "metadata": {},
   "outputs": [
    {
     "ename": "ValueError",
     "evalue": "Mime type rendering requires nbformat>=4.2.0 but it is not installed",
     "output_type": "error",
     "traceback": [
      "\u001b[0;31m---------------------------------------------------------------------------\u001b[0m",
      "\u001b[0;31mValueError\u001b[0m                                Traceback (most recent call last)",
      "File \u001b[0;32m~/Library/Python/3.11/lib/python/site-packages/IPython/core/formatters.py:984\u001b[0m, in \u001b[0;36mIPythonDisplayFormatter.__call__\u001b[0;34m(self, obj)\u001b[0m\n\u001b[1;32m    982\u001b[0m method \u001b[38;5;241m=\u001b[39m get_real_method(obj, \u001b[38;5;28mself\u001b[39m\u001b[38;5;241m.\u001b[39mprint_method)\n\u001b[1;32m    983\u001b[0m \u001b[38;5;28;01mif\u001b[39;00m method \u001b[38;5;129;01mis\u001b[39;00m \u001b[38;5;129;01mnot\u001b[39;00m \u001b[38;5;28;01mNone\u001b[39;00m:\n\u001b[0;32m--> 984\u001b[0m     \u001b[43mmethod\u001b[49m\u001b[43m(\u001b[49m\u001b[43m)\u001b[49m\n\u001b[1;32m    985\u001b[0m     \u001b[38;5;28;01mreturn\u001b[39;00m \u001b[38;5;28;01mTrue\u001b[39;00m\n",
      "File \u001b[0;32m/Library/Frameworks/Python.framework/Versions/3.11/lib/python3.11/site-packages/plotly/basedatatypes.py:850\u001b[0m, in \u001b[0;36mBaseFigure._ipython_display_\u001b[0;34m(self)\u001b[0m\n\u001b[1;32m    847\u001b[0m \u001b[38;5;28;01mimport\u001b[39;00m\u001b[38;5;250m \u001b[39m\u001b[38;5;21;01mplotly\u001b[39;00m\u001b[38;5;21;01m.\u001b[39;00m\u001b[38;5;21;01mio\u001b[39;00m\u001b[38;5;250m \u001b[39m\u001b[38;5;28;01mas\u001b[39;00m\u001b[38;5;250m \u001b[39m\u001b[38;5;21;01mpio\u001b[39;00m\n\u001b[1;32m    849\u001b[0m \u001b[38;5;28;01mif\u001b[39;00m pio\u001b[38;5;241m.\u001b[39mrenderers\u001b[38;5;241m.\u001b[39mrender_on_display \u001b[38;5;129;01mand\u001b[39;00m pio\u001b[38;5;241m.\u001b[39mrenderers\u001b[38;5;241m.\u001b[39mdefault:\n\u001b[0;32m--> 850\u001b[0m     \u001b[43mpio\u001b[49m\u001b[38;5;241;43m.\u001b[39;49m\u001b[43mshow\u001b[49m\u001b[43m(\u001b[49m\u001b[38;5;28;43mself\u001b[39;49m\u001b[43m)\u001b[49m\n\u001b[1;32m    851\u001b[0m \u001b[38;5;28;01melse\u001b[39;00m:\n\u001b[1;32m    852\u001b[0m     \u001b[38;5;28mprint\u001b[39m(\u001b[38;5;28mrepr\u001b[39m(\u001b[38;5;28mself\u001b[39m))\n",
      "File \u001b[0;32m/Library/Frameworks/Python.framework/Versions/3.11/lib/python3.11/site-packages/plotly/io/_renderers.py:415\u001b[0m, in \u001b[0;36mshow\u001b[0;34m(fig, renderer, validate, **kwargs)\u001b[0m\n\u001b[1;32m    410\u001b[0m     \u001b[38;5;28;01mraise\u001b[39;00m \u001b[38;5;167;01mValueError\u001b[39;00m(\n\u001b[1;32m    411\u001b[0m         \u001b[38;5;124m\"\u001b[39m\u001b[38;5;124mMime type rendering requires ipython but it is not installed\u001b[39m\u001b[38;5;124m\"\u001b[39m\n\u001b[1;32m    412\u001b[0m     )\n\u001b[1;32m    414\u001b[0m \u001b[38;5;28;01mif\u001b[39;00m \u001b[38;5;129;01mnot\u001b[39;00m nbformat \u001b[38;5;129;01mor\u001b[39;00m Version(nbformat\u001b[38;5;241m.\u001b[39m__version__) \u001b[38;5;241m<\u001b[39m Version(\u001b[38;5;124m\"\u001b[39m\u001b[38;5;124m4.2.0\u001b[39m\u001b[38;5;124m\"\u001b[39m):\n\u001b[0;32m--> 415\u001b[0m     \u001b[38;5;28;01mraise\u001b[39;00m \u001b[38;5;167;01mValueError\u001b[39;00m(\n\u001b[1;32m    416\u001b[0m         \u001b[38;5;124m\"\u001b[39m\u001b[38;5;124mMime type rendering requires nbformat>=4.2.0 but it is not installed\u001b[39m\u001b[38;5;124m\"\u001b[39m\n\u001b[1;32m    417\u001b[0m     )\n\u001b[1;32m    419\u001b[0m display_jupyter_version_warnings()\n\u001b[1;32m    421\u001b[0m ipython_display\u001b[38;5;241m.\u001b[39mdisplay(bundle, raw\u001b[38;5;241m=\u001b[39m\u001b[38;5;28;01mTrue\u001b[39;00m)\n",
      "\u001b[0;31mValueError\u001b[0m: Mime type rendering requires nbformat>=4.2.0 but it is not installed"
     ]
    },
    {
     "data": {
      "application/vnd.plotly.v1+json": {
       "config": {
        "plotlyServerURL": "https://plot.ly"
       },
       "data": [
        {
         "customdata": [
          [
           -1,
           "BAK1"
          ],
          [
           -1,
           "NFATC2"
          ],
          [
           -1,
           "FLNA"
          ],
          [
           -1,
           "SOCS1"
          ],
          [
           -1,
           "TRAF7"
          ],
          [
           -1,
           "TFE3"
          ],
          [
           -1,
           "TMSB4X"
          ],
          [
           -1,
           "STAT6"
          ],
          [
           -1,
           "MSH6"
          ],
          [
           -1,
           "ARHGAP35"
          ],
          [
           -1,
           "MAX"
          ],
          [
           -1,
           "SALL4"
          ],
          [
           -1,
           "ZNF331"
          ],
          [
           -1,
           "PSIP1"
          ],
          [
           -1,
           "NUMA1"
          ],
          [
           -1,
           "ELN"
          ],
          [
           -1,
           "CD79A"
          ],
          [
           -1,
           "MECOM"
          ],
          [
           -1,
           "MYO5A"
          ],
          [
           -1,
           "RPL22"
          ],
          [
           -1,
           "CUX1"
          ],
          [
           -1,
           "PTPRB"
          ],
          [
           -1,
           "TRIM24"
          ],
          [
           -1,
           "B2M"
          ],
          [
           -1,
           "COL2A1"
          ],
          [
           -1,
           "HLA-A"
          ],
          [
           -1,
           "AMER1"
          ],
          [
           -1,
           "NFE2L2"
          ],
          [
           -1,
           "PTPRC"
          ],
          [
           -1,
           "CANT1"
          ],
          [
           -1,
           "CNTRL"
          ],
          [
           -1,
           "PRDM16"
          ],
          [
           -1,
           "RASGRP1"
          ],
          [
           -1,
           "POLD1"
          ],
          [
           -1,
           "CSF3R"
          ],
          [
           -1,
           "RPL5"
          ],
          [
           -1,
           "RPL10"
          ],
          [
           -1,
           "SH2B3"
          ],
          [
           -1,
           "JAK3"
          ],
          [
           -1,
           "CSF1R"
          ],
          [
           -1,
           "MUTYH"
          ],
          [
           -1,
           "PCM1"
          ],
          [
           -1,
           "DCC"
          ],
          [
           -1,
           "CCL2"
          ],
          [
           -1,
           "COL3A1"
          ],
          [
           -1,
           "FCGR2B"
          ],
          [
           -1,
           "CARD11"
          ],
          [
           -1,
           "ATP2B3"
          ],
          [
           -1,
           "SLC22A4"
          ],
          [
           -1,
           "ID3"
          ],
          [
           -1,
           "MUC6"
          ],
          [
           -1,
           "RNF43"
          ],
          [
           -1,
           "TET1"
          ],
          [
           -1,
           "CD209"
          ],
          [
           -1,
           "TET2"
          ],
          [
           -1,
           "AHI1"
          ],
          [
           -1,
           "CRNKL1"
          ],
          [
           -1,
           "IL7R"
          ],
          [
           -1,
           "ZCCHC8"
          ],
          [
           -1,
           "TBX3"
          ],
          [
           -1,
           "PAX3"
          ],
          [
           -1,
           "NFIB"
          ],
          [
           -1,
           "RBM10"
          ],
          [
           -1,
           "FLT4"
          ],
          [
           -1,
           "SLC7A10"
          ],
          [
           -1,
           "DLD"
          ],
          [
           -1,
           "POLG"
          ],
          [
           -1,
           "SLC45A3"
          ],
          [
           -1,
           "ATF1"
          ],
          [
           -1,
           "RIN3"
          ],
          [
           -1,
           "DDX3X"
          ],
          [
           -1,
           "FIP1L1"
          ],
          [
           -1,
           "KEAP1"
          ],
          [
           -1,
           "SETDB1"
          ],
          [
           -1,
           "CHEK2"
          ],
          [
           -1,
           "U2AF1"
          ],
          [
           -1,
           "FBXO11"
          ],
          [
           -1,
           "IRF1"
          ],
          [
           -1,
           "IRS4"
          ],
          [
           -1,
           "TMPRSS2"
          ],
          [
           -1,
           "MANBA"
          ],
          [
           -1,
           "ARAF"
          ],
          [
           -1,
           "PIM1"
          ],
          [
           -1,
           "TPM3"
          ],
          [
           -1,
           "TRIM27"
          ],
          [
           -1,
           "PICALM"
          ],
          [
           -1,
           "CEP43"
          ],
          [
           -1,
           "NF1"
          ],
          [
           -1,
           "DDR2"
          ],
          [
           -1,
           "TEC"
          ],
          [
           -1,
           "CDH17"
          ],
          [
           -1,
           "CDH10"
          ],
          [
           -1,
           "AXIN2"
          ],
          [
           -1,
           "MAP2K4"
          ],
          [
           -1,
           "KLK2"
          ],
          [
           -1,
           "USP44"
          ],
          [
           -1,
           "KNL1"
          ],
          [
           -1,
           "FOXL2"
          ],
          [
           -1,
           "ERCC4"
          ],
          [
           -1,
           "KDM5A"
          ],
          [
           -1,
           "RTEL1"
          ],
          [
           -1,
           "ZBTB16"
          ],
          [
           -1,
           "EML4"
          ],
          [
           -1,
           "FIGNL1"
          ],
          [
           -1,
           "POLE"
          ],
          [
           -1,
           "BCL11A"
          ],
          [
           -1,
           "FANCA"
          ],
          [
           -1,
           "TFG"
          ],
          [
           -1,
           "SRSF2"
          ],
          [
           -1,
           "SRSF3"
          ],
          [
           -1,
           "MYH9"
          ],
          [
           -1,
           "HNRNPA2B1"
          ],
          [
           -1,
           "KIF5B"
          ],
          [
           -1,
           "POT1"
          ],
          [
           -1,
           "TNFAIP3"
          ],
          [
           -1,
           "KDR"
          ],
          [
           -1,
           "MSN"
          ],
          [
           -1,
           "LIFR"
          ],
          [
           -1,
           "RNF213"
          ],
          [
           -1,
           "CBLB"
          ],
          [
           -1,
           "TNFRSF14"
          ],
          [
           -1,
           "MYD88"
          ],
          [
           -1,
           "ATXN3"
          ],
          [
           -1,
           "JAK1"
          ],
          [
           -1,
           "SF3B1"
          ],
          [
           -1,
           "TNC"
          ],
          [
           -1,
           "BCL6"
          ],
          [
           -1,
           "AFF4"
          ],
          [
           -1,
           "IL2"
          ],
          [
           -1,
           "GOLGA5"
          ],
          [
           -1,
           "CD274"
          ],
          [
           -1,
           "GRB10"
          ],
          [
           -1,
           "RNASET2"
          ],
          [
           -1,
           "CACNA1D"
          ],
          [
           -1,
           "DROSHA"
          ],
          [
           -1,
           "DNMT3A"
          ],
          [
           -1,
           "MUC16"
          ],
          [
           -1,
           "NCKIPSD"
          ],
          [
           -1,
           "NTRK1"
          ],
          [
           -1,
           "MRTFA"
          ],
          [
           -1,
           "GPC3"
          ],
          [
           -1,
           "FANCF"
          ],
          [
           -1,
           "PTPRK"
          ],
          [
           -1,
           "MED12"
          ],
          [
           -1,
           "BCL10"
          ],
          [
           -1,
           "CEP89"
          ],
          [
           -1,
           "IL33"
          ],
          [
           -1,
           "MALT1"
          ],
          [
           -1,
           "MLLT3"
          ],
          [
           -1,
           "FANCG"
          ],
          [
           -1,
           "SIRPA"
          ],
          [
           -1,
           "ASXL1"
          ],
          [
           -1,
           "MUC4"
          ],
          [
           -1,
           "CLTCL1"
          ],
          [
           -1,
           "BCR"
          ],
          [
           -1,
           "CYLD"
          ],
          [
           -1,
           "AFDN"
          ],
          [
           -1,
           "CD74"
          ],
          [
           -1,
           "RALGDS"
          ],
          [
           -1,
           "PPP6C"
          ],
          [
           -1,
           "VTI1A"
          ],
          [
           -1,
           "FUS"
          ],
          [
           -1,
           "IDH1"
          ],
          [
           -1,
           "XPC"
          ],
          [
           -1,
           "SET"
          ],
          [
           -1,
           "BRD4"
          ],
          [
           -1,
           "NTHL1"
          ],
          [
           -1,
           "ETV6"
          ],
          [
           -1,
           "PREX2"
          ],
          [
           -1,
           "CDH11"
          ],
          [
           -1,
           "MAP3K1"
          ],
          [
           -1,
           "MLLT1"
          ],
          [
           -1,
           "ZMYM2"
          ],
          [
           -1,
           "CPSF2"
          ],
          [
           -1,
           "CUL3"
          ],
          [
           -1,
           "ASXL2"
          ],
          [
           -1,
           "GPC5"
          ],
          [
           -1,
           "NSD2"
          ],
          [
           -1,
           "SFPQ"
          ],
          [
           -1,
           "ITK"
          ],
          [
           -1,
           "ORMDL3"
          ],
          [
           -1,
           "PTPN13"
          ]
         ],
         "hovertemplate": "Cluster %{customdata[0]}: %{customdata[1]}<br>approvedSymbol: %{customdata[2]}<extra></extra>",
         "marker": {
          "color": "gainsboro",
          "line": {
           "width": 0
          },
          "opacity": 0.7,
          "size": 5
         },
         "mode": "markers",
         "showlegend": true,
         "type": "scatter",
         "x": {
          "bdata": "inIOQ1ASFkC1GDxM+xYfQFwWuOEcchlAy9GIPsRrDUCBX34Cg1cawKfLYmLz6TNAs5dtp60hGUAmvRTDevAXQMDodh8VOde/LjiDv18cIEBUq6+uChQlQLIbbKCvzxRAe2mKAKd/JsD55BcUvJf0PxO1NLdCOCVAzjeie9ZFCEB6IA0ChiDtvz39VqE36xRAECBDxw7KG0BC9P8F3dnzPx0EHa1qQSNA0xHAzeIlB0A+6q9XWEgjQG2cA7rlefW/+L3yxYPyCUBC/Xj553PvvygeYWI9nxZAOkYNARujEEBwWL8+3/MeQFOGu8SiAwhAq8/VVuwvI0D2WnXC8K4SQLQEGQEVfh1A3c6+8iCNJkBKKH0h5FwgQLBBujNuJfc/PboRFhXR9D8nBpLBm28UQD4+ITtv0xRAW3heKjZ2J0BZHXN9o2bgv+Ul/5O/wyRA/G8lOzaCFUAvDKL/L5gYQDb0BeOWJQtA8OHtnMFKG8Ar2hznNjEewMHbzZ2qPBpAy9zX3CyBFkAzD6oeejwUQJwhC4eU1fO/n2+w3HfJFUCMTSuFQMYlwCjGQylrhfS/k1kYfWBSFUAnUMQihv0bQAD/lCpRJiBAjpAmg0jDHUCnJOtwdEUmwJTb9j3qozNAhnE3iNZ6E0BRM6SK4oUlwO8bX3tmQSBAMnbCS3CaF0CJmX0eo5wZQL00RYDTywJA7QvohTtvMkC/ikKBLcUVQIe+YNyyaApAXwmkxK5RMkCUBJd9DXcGQC2T4Xg+yyFAY7ZkVYSb+D+/AuK/ih0TQDRIwVPIxSVAZAYq499/FkCRP3uiqebhv8bbSq/NNhlAeCgK9ImsFECdQlMbQU/5v2jQ0D/BfSBAM8SxLm4zFkAI6SlyiGAiQBUu9T00jRhADsbj/RN3CkCVEKyqlx8SQO8eoPty/iNA6XP/ohWZFkCIlLCAU4kGQGwGuCBbjhVAUgq6vaRBJUCQTl35LG8lQHLD76Zbtg5AYWAMm7cwDUCYpZ2ay40VQAn9TL1ueTVAUkMbgA1YJEAdo4aAjWUEQG7BUl3AyyhATtAmh0+6EkCneFxUi8gnQGHPz7tO9tm/K6VneolBI0CnPpC8c8AoQF2MgXUcZyZAe/mdJjOeIUAstklFY40pQKxbVsRde9U/eal932ToFkBjEomdhDUVQNY6cTlekRxAaByPvu6RH0D922W/7uggQNgN2xZlViNAZJEm3gE+A0DF506w/+oaQFTPOMPDKh5AQQ3fwroJKEDJIHcRpsghQBpL/WHwLRrAAM9RooDwGcDE6SRbXZ4MQCfKlMWz6gFAjJ5b6Eo0EkAc6ndhazYWQIlqACX0KQVA3EduTbqlJ0CdgCbChm8mwNHrT+JzrxNAMJ5BQ/9EMkDhe3+D9noUQHRzlv7K5xpAx5KDI5IyBUBh3Xh3ZOwXQJEsYAK3RiXAT1DU4wjDCkC29GiqJ5P2vyl3n+OjxRZAdbwT/esWE0BKsN3ihpQDQKAnVCbrxvM/UIvBw7S/KUBSXPo864cTQBZRE30+ciNAF7mnqzumHsCTHRuBeIUbQPf1MkBYfA1AkX9mEB9oHcB+/RAbLBQmwCBGCI82FilAlSnmIOgAGUBEF9S3zDU1QDQyIxf3+vq/WyrKAKvWEkDNPo9RnokgQIIeatsw6gRAWW3+X3XEJECe1zPfHLEZQH09X7NcdhVAsmZkkLuoIkA1JsRcUk0yQJ+qQgOxtB9AGCR9WkVvEUAYJH1aRZM1QFZKz/QSGyVAa+VvjK48+b/BZzVue0znvyZWRiOfezJAJg0k3vDxE0DR6uQMxeUkQAdYUL3alglArtSzIJQ/JsA7i96pgIsjQMaFAyFZ6CXAJoSzABI6GEDHoBNCB0E1QMFCnD2GjQBAZJP8iF9hJ0CRkf09wioUQMv0S8Rb5xvAMxtkkpH7IEDc4WU8AFgEQA==",
          "dtype": "f8"
         },
         "y": {
          "bdata": "vCTOiqjJA0DWxtgJLyEaQAma4OUzagpAw9H6AEldD0Bce2cA5I6jP+9iUFxEGgnAe2OtRhvcAEAZyol2FUIjQGXHRiBe7xNA3bQZpyHiKkDR60/ic08eQFiG3RxTpBdA5lq0AG1HJ0Aswqj/B+seQDunWaDdzSFAOGbZk8DGJED4b16c+AohQMaD0ryIoxVAe9y3WiceJ0DlRLsKKWciQD3vxoLCKCZAmv3L//W7BECNQpJZvQsmQINRSZ2AFiFA+KbpswO2I0CJYk3ACmMeQPomTYOioR1AL4mzImoSIUCm0HmNXSIdQLGnHf6aHANA51QyAFQxJUAzqaENwD4tQDKSPULNIB9AVdtN8E2jIkAgt18+WfENQNtrQe+NsSJAaw4QzNHDIkDxCX7AqFETQBWNtb+zkSBA5SoWvynUFEAvW6H+aSkVQECKOnMPySJA1Jy8yARMKkDItaFinH8bQFA5Jov7vyNAlUXEQQC42L8/dP9g+Rbfv3D+cKE8DQJAouJJHMNtAkBfXoB9dConQBKlvcEXPh9A+oYdIV7aHUAJxOv6Bes0QLQ8D+7OKiFAPujZrPokLEDbXhymx1AJQN0DGaZbSwFAqMXgYdpHHkBf0hitoyo1QMfJDjudxQrAiIGufQGVLECJQWDl0Mo0QECGjh1U0gJAb0DwnT3EGUBy7I/mfn3/PxLcSNki2RZA8+LEVzuCN0CvXG+bqQADQIfx5OSPUw5Asp3vp8afN0CTMHg9PVsEQFmis8wixBxA203wTdNXIUC4kEdwIw0rQBNgWP58KxtAD1E7sqg+47+HGRpPBNEdQNGcUOM5NgVAtBzooba1JkAYtftVgH8fQEETvHxGnR9AC12JQPXfHECdgZGXNeElQLiswmaAYyJAN9AyQcOxHEChoBSt3KsUQAXfNH12UCVA63JKQEyKHkCoctpTcnYkQP2H9NvXSSFAQ3wWOmWk+D/wuiMI/Eb3P74mtWFeARVAFTsah/q9CkDO34RCBLwUQHSIbqx6r+K/12oPe6GYIUAF3zR9dtAhQLXf2omS4CJAVWggls00LUDwiXWqfJ8iQNOjqZ7M3x1ARrJHqBnaI0DIfat14rohQEN0CBwJDCJAt18+WTHsJUBVih2NQ50jQD7t8NdkzR9AlKJTX68T4L+p5PeRtoztv9vf2R69sSdA7JeZ4yZkB0BSR8fVyA4cQEZEMXkD7CBAxw2/m265IEClTdU9srEgQFA0D2CR/yVAU84Xey/OFEBJ2/gTlQUlQDYhaxUWP7m/yq96G/ZW0L/WZULdUS0RQGfAD717ph5A2JyDZ0ITH0BxqUpbXOPlv8l3KXXJ+CRA2CyXjc7JE0CCABk6djgnQJAqL57m0RJAOey+Y3isN0ASnQpdLq8fQMn/5O/eeSFADukBPR50AkAew2M/i40pQDTVk/lHqzRANCxGXWt3HUCqKck6HI0fQPmJXqFqZx9AICV2bW+/JkAVdHtJY1QhQA5LAz+qIRtAYKsEi8PRI0DTMlLvqUQnQBbCaixhLRdAlYp8TcX85r9aiGk6liIKQA4MxcK1ZxtAe4/pv70B47/9T/7uHd0mQIfFqGvtRSRARTu4hfjBB0B1mCe+d6fUv0Oy28JOBB5ApfeNrz07KUAe3QiLigAlQIavr3WpMSFAGVLqN7i5/T8hdTv7ytMGQI6R7BFqdiBAFr8prFSgGkDo+j4cJKQ3QBgxoqMLYAJArBxaZDufIEA0oUliSbnlv2E41zBDqyFAcQtMXeigHkAJceXsnYEVQDXPEfkuJSRAYkok0cuYIEAaogp/hjf9P58rAHymzQtAdjQO9bsIJ0AEyTuHMgQZQMfw2M9isSZAyxKdZRYBHEAJHEPfYQPXv960dGCUgxhA5rFmZJCjIkDPDfIfd44cQPN8/mJT+tS/0ZLH0/ITIECGIXL6ek4XQA==",
          "dtype": "f8"
         }
        },
        {
         "hoverinfo": "skip",
         "mode": "text",
         "showlegend": false,
         "text": [],
         "textfont": {
          "color": "black",
          "size": 12
         },
         "textposition": "top center",
         "type": "scatter",
         "x": [],
         "y": []
        },
        {
         "customdata": [
          [
           0,
           "IL21R"
          ],
          [
           0,
           "IL7"
          ],
          [
           0,
           "IL12A"
          ],
          [
           0,
           "CRLF2"
          ],
          [
           0,
           "STAT4"
          ]
         ],
         "hovertemplate": "Cluster %{customdata[0]}: %{customdata[1]}<br>approvedSymbol: %{customdata[2]}<extra></extra>",
         "marker": {
          "color": "#a17569",
          "line": {
           "width": 0
          },
          "opacity": 0.7,
          "size": 5
         },
         "mode": "markers",
         "showlegend": true,
         "type": "scatter",
         "x": {
          "bdata": "rcH7qlwAKECDUrRyL4gnQLoT7L/O4SdAE38Udeb+J0Cyu0BJgS0oQA==",
          "dtype": "f8"
         },
         "y": {
          "bdata": "uW3fo/5eOkBK0F/oEZs6QK7YX3ZPbjpAie3uAbpfOkDICn4bYkg6QA==",
          "dtype": "f8"
         }
        },
        {
         "hoverinfo": "skip",
         "mode": "text",
         "showlegend": false,
         "text": [],
         "textfont": {
          "color": "black",
          "size": 12
         },
         "textposition": "top center",
         "type": "scatter",
         "x": [],
         "y": []
        },
        {
         "customdata": [
          [
           1,
           "ELF3"
          ],
          [
           1,
           "RAP1GDS1"
          ],
          [
           1,
           "MSI2"
          ],
          [
           1,
           "RRAS2"
          ],
          [
           1,
           "BMPR1A"
          ],
          [
           1,
           "NF2"
          ],
          [
           1,
           "ARHGEF10"
          ],
          [
           1,
           "RHOH"
          ],
          [
           1,
           "ARHGEF10L"
          ],
          [
           1,
           "LATS2"
          ],
          [
           1,
           "SPEN"
          ],
          [
           1,
           "SUFU"
          ],
          [
           1,
           "SPOP"
          ],
          [
           1,
           "IKZF1"
          ],
          [
           1,
           "GLI1"
          ]
         ],
         "hovertemplate": "Cluster %{customdata[0]}: %{customdata[1]}<br>approvedSymbol: %{customdata[2]}<extra></extra>",
         "marker": {
          "color": "#005659",
          "line": {
           "width": 0
          },
          "opacity": 0.7,
          "size": 5
         },
         "mode": "markers",
         "showlegend": true,
         "type": "scatter",
         "x": {
          "bdata": "+5XOh2fhIEAKaY1BJxwfQKPLm8O12h5AbeNPVDZMIEB8urpjsY0gQDT3kPC9fx5A6Zct/lvWH0AOLbKd7z8fQBUfn5CdTyBAGxL3WPooIEDTTs3lBnsgQEVj7e9sRyBAfmfFgaF4HkAgJAuYwBUhQAHs7eBxCx9A",
          "dtype": "f8"
         },
         "y": {
          "bdata": "wW7YtiijQ0ANMzSeCPhDQGKdKt8zAERA32xzY3rIQ0BAwcWKGrhDQOtunuqQC0RAIT6w47/gQ0BBZfz7jPNDQOiHEcKjx0NAhpM0f0zRQ0AiwyreyLxDQOik942vyUNAlZ9U+3QMREDy0k1iEJZDQDJ3LSEf+kNA",
          "dtype": "f8"
         }
        },
        {
         "hoverinfo": "skip",
         "mode": "text",
         "showlegend": false,
         "text": [],
         "textfont": {
          "color": "black",
          "size": 12
         },
         "textposition": "top center",
         "type": "scatter",
         "x": [],
         "y": []
        },
        {
         "customdata": [
          [
           2,
           "PNMT"
          ],
          [
           2,
           "TIMMDC1"
          ],
          [
           2,
           "NDUFB1"
          ],
          [
           2,
           "SDHC"
          ],
          [
           2,
           "OAT"
          ],
          [
           2,
           "DDC"
          ],
          [
           2,
           "FH"
          ],
          [
           2,
           "IDH2"
          ],
          [
           2,
           "GPHN"
          ],
          [
           2,
           "SDHA"
          ]
         ],
         "hovertemplate": "Cluster %{customdata[0]}: %{customdata[1]}<br>approvedSymbol: %{customdata[2]}<extra></extra>",
         "marker": {
          "color": "#fdf490",
          "line": {
           "width": 0
          },
          "opacity": 0.7,
          "size": 5
         },
         "mode": "markers",
         "showlegend": true,
         "type": "scatter",
         "x": {
          "bdata": "r7DgfsBrIMBCBvLs8l0fwDNPrimQSSDA7ArHPafaHMBvtyQH7JogwMLbgxCQ9yDAaHbdW5FIHsBu2/eov84dwJpgONcwWyDAXUdmP5zhHMA=",
          "dtype": "f8"
         },
         "y": {
          "bdata": "raOqCaLOEsA4MSQnE4cTwNulDYelwRHA2xMktrsXEMBM/5JUpmgSwDaQLjatdBPA4Xmp2JgnEcBKDW0ANjARwGm5faAmtBHAXmQCfo30D8A=",
          "dtype": "f8"
         }
        },
        {
         "hoverinfo": "skip",
         "mode": "text",
         "showlegend": false,
         "text": [],
         "textfont": {
          "color": "black",
          "size": 12
         },
         "textposition": "top center",
         "type": "scatter",
         "x": [],
         "y": []
        },
        {
         "customdata": [
          [
           3,
           "SULT1A2"
          ],
          [
           3,
           "ACSL6"
          ],
          [
           3,
           "GMPS"
          ],
          [
           3,
           "CHST11"
          ],
          [
           3,
           "STARD3"
          ],
          [
           3,
           "LHPP"
          ],
          [
           3,
           "NT5C2"
          ],
          [
           3,
           "SULT1A1"
          ],
          [
           3,
           "CYP2C8"
          ],
          [
           3,
           "PRKD1"
          ]
         ],
         "hovertemplate": "Cluster %{customdata[0]}: %{customdata[1]}<br>approvedSymbol: %{customdata[2]}<extra></extra>",
         "marker": {
          "color": "#0774d8",
          "line": {
           "width": 0
          },
          "opacity": 0.7,
          "size": 5
         },
         "mode": "markers",
         "showlegend": true,
         "type": "scatter",
         "x": {
          "bdata": "cJxvn7Af679Xy0Lg7ebMv6DL7cEYz9i/5onOz2CVs7+5UPnX8srpvwlrCDMShuS/3hRem/B/27/Z+AJptbbjv4vdPqvMlNm/asSKIr3L1b8=",
          "dtype": "f8"
         },
         "y": {
          "bdata": "sIwN3ewnJsDWNVoO9OgkwPYn8bkTPCXAH9YbtcKcJMB1riglBBMmwF4T0hqDviXAP+YDAp1RJcARxHk4gbElwJDXg0nxQSXAguLHmLsuJcA=",
          "dtype": "f8"
         }
        },
        {
         "hoverinfo": "skip",
         "mode": "text",
         "showlegend": false,
         "text": [],
         "textfont": {
          "color": "black",
          "size": 12
         },
         "textposition": "top center",
         "type": "scatter",
         "x": [],
         "y": []
        },
        {
         "customdata": [
          [
           4,
           "CRTC3"
          ],
          [
           4,
           "CREB3L2"
          ],
          [
           4,
           "CRTC1"
          ],
          [
           4,
           "HMGA2"
          ],
          [
           4,
           "FLCN"
          ]
         ],
         "hovertemplate": "Cluster %{customdata[0]}: %{customdata[1]}<br>approvedSymbol: %{customdata[2]}<extra></extra>",
         "marker": {
          "color": "#6b004f",
          "line": {
           "width": 0
          },
          "opacity": 0.7,
          "size": 5
         },
         "mode": "markers",
         "showlegend": true,
         "type": "scatter",
         "x": {
          "bdata": "cRhxpq6BDEC6zztf/WkOQG+JEuPrQQ9A3mrnRTe8D0B6tlibEOQNQA==",
          "dtype": "f8"
         },
         "y": {
          "bdata": "xohEoWUlPUD8HYoCfWI9QMcqpWd6fT1AzZIANbWMPUA2sFWCxVE9QA==",
          "dtype": "f8"
         }
        },
        {
         "hoverinfo": "skip",
         "mode": "text",
         "showlegend": false,
         "text": [],
         "textfont": {
          "color": "black",
          "size": 12
         },
         "textposition": "top center",
         "type": "scatter",
         "x": [],
         "y": []
        },
        {
         "customdata": [
          [
           5,
           "BCL9"
          ],
          [
           5,
           "WIF1"
          ],
          [
           5,
           "RSPO2"
          ],
          [
           5,
           "ZNRF3"
          ],
          [
           5,
           "BCL9L"
          ]
         ],
         "hovertemplate": "Cluster %{customdata[0]}: %{customdata[1]}<br>approvedSymbol: %{customdata[2]}<extra></extra>",
         "marker": {
          "color": "#ff7ed1",
          "line": {
           "width": 0
          },
          "opacity": 0.7,
          "size": 5
         },
         "mode": "markers",
         "showlegend": true,
         "type": "scatter",
         "x": {
          "bdata": "2xfQC3cu8j+TOgFNhI33P/VBO0ygjfQ//hB25Q428z+CV8udmSD5Pw==",
          "dtype": "f8"
         },
         "y": {
          "bdata": "QukLIefJOkBvY7Mj1R87QDLJyFnY7zpA66wW2GPaOkActFcfDzk7QA==",
          "dtype": "f8"
         }
        },
        {
         "hoverinfo": "skip",
         "mode": "text",
         "showlegend": false,
         "text": [],
         "textfont": {
          "color": "black",
          "size": 12
         },
         "textposition": "top center",
         "type": "scatter",
         "x": [],
         "y": []
        },
        {
         "customdata": [
          [
           6,
           "KAT7"
          ],
          [
           6,
           "ARID5B"
          ],
          [
           6,
           "SETD2"
          ],
          [
           6,
           "NSD3"
          ],
          [
           6,
           "NSD1"
          ],
          [
           6,
           "KDM5C"
          ],
          [
           6,
           "KAT6B"
          ]
         ],
         "hovertemplate": "Cluster %{customdata[0]}: %{customdata[1]}<br>approvedSymbol: %{customdata[2]}<extra></extra>",
         "marker": {
          "color": "#0000dd",
          "line": {
           "width": 0
          },
          "opacity": 0.7,
          "size": 5
         },
         "mode": "markers",
         "showlegend": true,
         "type": "scatter",
         "x": {
          "bdata": "0QfL2NCNIsDEmPT3UggjwLwft18+ISLAvwzGiERJIsAEc/T4vQUiwHwNwXEZ3yLAxRouck+PIsA=",
          "dtype": "f8"
         },
         "y": {
          "bdata": "hgSMLm8+IsC9VGzM67giwCAKZkzB0iHAjs2OVN/5IcB+i06WWrchwH2VfOwukCLAe/Xx0Hc/IsA=",
          "dtype": "f8"
         }
        },
        {
         "hoverinfo": "skip",
         "mode": "text",
         "showlegend": false,
         "text": [],
         "textfont": {
          "color": "black",
          "size": 12
         },
         "textposition": "top center",
         "type": "scatter",
         "x": [],
         "y": []
        },
        {
         "customdata": [
          [
           7,
           "CCR7"
          ],
          [
           7,
           "GRM3"
          ],
          [
           7,
           "SMO"
          ],
          [
           7,
           "ACKR3"
          ],
          [
           7,
           "RGS7"
          ],
          [
           7,
           "PTCH1"
          ],
          [
           7,
           "TSHR"
          ],
          [
           7,
           "CXCR5"
          ],
          [
           7,
           "CCL11"
          ],
          [
           7,
           "CCR6"
          ],
          [
           7,
           "CCL7"
          ],
          [
           7,
           "CYSLTR2"
          ],
          [
           7,
           "NBEA"
          ],
          [
           7,
           "PPP1R1B"
          ]
         ],
         "hovertemplate": "Cluster %{customdata[0]}: %{customdata[1]}<br>approvedSymbol: %{customdata[2]}<extra></extra>",
         "marker": {
          "color": "#bf03b8",
          "line": {
           "width": 0
          },
          "opacity": 0.7,
          "size": 5
         },
         "mode": "markers",
         "showlegend": true,
         "type": "scatter",
         "x": {
          "bdata": "CeI8nMCEPEB3hxQDJMY7QJqV7UPeZjpAJNV3flGGO0BuisdFtUA7QN+I7lnXcDpANIC3QIIGPECE1VjC2pg8QFMGDmjpVjtA5bhTOliTPEDU7lcBvpM7QP2k2qfjzTtAS4+mejKfOkBfYFYo0nU8QA==",
          "dtype": "f8"
         },
         "y": {
          "bdata": "3795ceLbJ0AWURN9PlInQPOtD+uNSihAgem0boPSJ0BcVmEzwO0nQGACt+7meShAAJF++zoIKEB9PPTdrVwnQJhO6zaoTShAo5Ol1vvdJ0BI4uXpXBEoQCOimLwBTidAxlG5iVr6J0DF506w/xonQA==",
          "dtype": "f8"
         }
        },
        {
         "hoverinfo": "skip",
         "mode": "text",
         "showlegend": false,
         "text": [],
         "textfont": {
          "color": "black",
          "size": 12
         },
         "textposition": "top center",
         "type": "scatter",
         "x": [],
         "y": []
        },
        {
         "customdata": [
          [
           8,
           "HOXA11"
          ],
          [
           8,
           "CDX2"
          ],
          [
           8,
           "EBF1"
          ],
          [
           8,
           "FLI1"
          ],
          [
           8,
           "FOXP1"
          ],
          [
           8,
           "MAFB"
          ],
          [
           8,
           "PAX8"
          ],
          [
           8,
           "CEBPE"
          ],
          [
           8,
           "CTCF"
          ],
          [
           8,
           "CTNNA2"
          ],
          [
           8,
           "PAX7"
          ],
          [
           8,
           "SIX1"
          ],
          [
           8,
           "POU5F1"
          ]
         ],
         "hovertemplate": "Cluster %{customdata[0]}: %{customdata[1]}<br>approvedSymbol: %{customdata[2]}<extra></extra>",
         "marker": {
          "color": "#8e7900",
          "line": {
           "width": 0
          },
          "opacity": 0.7,
          "size": 5
         },
         "mode": "markers",
         "showlegend": true,
         "type": "scatter",
         "x": {
          "bdata": "ZW8p54udM0CSkbOwp7UzQJRQ+kLItTNAzjP2JRvjM0BVNNb+zsYzQAiOy7ipyTNAbosyG2RyM0C1/pYA/KszQIli8gaYoTNA7PfEOlVmM0DEX5M16oEzQIYA4NizszNAEkpfCDm/M0A=",
          "dtype": "f8"
         },
         "y": {
          "bdata": "BFq6gm3EGMB2KFSBpGkZwADnIEMiMBDA3lhQGJRJEsB6RmzBnDoUwONJHMOtzAvAENKunYMaGsAANiBCXHESwIgnYOBeHg3AvcKC+wH/EMDuCRLb3eMZwDBoIQGjMxjAmQ6dnncLFMA=",
          "dtype": "f8"
         }
        },
        {
         "hoverinfo": "skip",
         "mode": "text",
         "showlegend": false,
         "text": [],
         "textfont": {
          "color": "black",
          "size": 12
         },
         "textposition": "top center",
         "type": "scatter",
         "x": [],
         "y": []
        },
        {
         "customdata": [
          [
           9,
           "SHTN1"
          ],
          [
           9,
           "EPHA3"
          ],
          [
           9,
           "ROBO2"
          ],
          [
           9,
           "EPHA7"
          ],
          [
           9,
           "EZR"
          ]
         ],
         "hovertemplate": "Cluster %{customdata[0]}: %{customdata[1]}<br>approvedSymbol: %{customdata[2]}<extra></extra>",
         "marker": {
          "color": "#00fdcf",
          "line": {
           "width": 0
          },
          "opacity": 0.7,
          "size": 5
         },
         "mode": "markers",
         "showlegend": true,
         "type": "scatter",
         "x": {
          "bdata": "yE4ufDNg9j8wgsZMon73P8yyJ4HN2fg/giUNJN5w+D8T5RyGoPT6Pw==",
          "dtype": "f8"
         },
         "y": {
          "bdata": "gv18APdhDcBpp4u5EPANwBxdpbvrnA7AYH5dPHJqDsCEpRU6CqsPwA==",
          "dtype": "f8"
         }
        },
        {
         "hoverinfo": "skip",
         "mode": "text",
         "showlegend": false,
         "text": [],
         "textfont": {
          "color": "black",
          "size": 12
         },
         "textposition": "top center",
         "type": "scatter",
         "x": [],
         "y": []
        },
        {
         "customdata": [
          [
           10,
           "ARHGAP26"
          ],
          [
           10,
           "GOPC"
          ],
          [
           10,
           "ARHGAP31"
          ],
          [
           10,
           "ARHGAP5"
          ],
          [
           10,
           "FNBP1"
          ]
         ],
         "hovertemplate": "Cluster %{customdata[0]}: %{customdata[1]}<br>approvedSymbol: %{customdata[2]}<extra></extra>",
         "marker": {
          "color": "#790000",
          "line": {
           "width": 0
          },
          "opacity": 0.7,
          "size": 5
         },
         "mode": "markers",
         "showlegend": true,
         "type": "scatter",
         "x": {
          "bdata": "oG6gwDspFUBUoSafw8kUQEExDR4BDxZA376z4sDoFUBHO2743bQVQA==",
          "dtype": "f8"
         },
         "y": {
          "bdata": "bCHIQQkHMkAydOygEu8xQEd3EDtTQDJAUnx8QnY2MkCkiAyreCsyQA==",
          "dtype": "f8"
         }
        },
        {
         "hoverinfo": "skip",
         "mode": "text",
         "showlegend": false,
         "text": [],
         "textfont": {
          "color": "black",
          "size": 12
         },
         "textposition": "top center",
         "type": "scatter",
         "x": [],
         "y": []
        },
        {
         "customdata": [
          [
           11,
           "QKI"
          ],
          [
           11,
           "KIAA1549"
          ],
          [
           11,
           "WDCP"
          ],
          [
           11,
           "BIRC6"
          ],
          [
           11,
           "HIP1"
          ],
          [
           11,
           "PPFIBP1"
          ],
          [
           11,
           "SND1"
          ],
          [
           11,
           "PRF1"
          ],
          [
           11,
           "FAM131B"
          ]
         ],
         "hovertemplate": "Cluster %{customdata[0]}: %{customdata[1]}<br>approvedSymbol: %{customdata[2]}<extra></extra>",
         "marker": {
          "color": "#8c3bff",
          "line": {
           "width": 0
          },
          "opacity": 0.7,
          "size": 5
         },
         "mode": "markers",
         "showlegend": true,
         "type": "scatter",
         "x": {
          "bdata": "f73Cgvs1M0AKMCx/vjkzQKkXfJqTFzNApkdTPZlvM0CwO9154kUzQFdAoZ4+fjNAIeS8/48rM0BS0y6mmfIyQE/ltKfklDNA",
          "dtype": "f8"
         },
         "y": {
          "bdata": "s+pztRVTJEBlqIqp9PMiQD0Og/krnCNAVyWRfZDlI0Cx/WSMD3MjQIwwRbk0LiRA6C0e3nO4I0Dr4jYawEsjQEJ8YMd/KSNA",
          "dtype": "f8"
         }
        },
        {
         "hoverinfo": "skip",
         "mode": "text",
         "showlegend": false,
         "text": [],
         "textfont": {
          "color": "black",
          "size": 12
         },
         "textposition": "top center",
         "type": "scatter",
         "x": [],
         "y": []
        },
        {
         "customdata": [
          [
           12,
           "EIF1AX"
          ],
          [
           12,
           "EIF3C"
          ],
          [
           12,
           "PABPC1"
          ],
          [
           12,
           "MITF"
          ],
          [
           12,
           "EIF4A2"
          ],
          [
           12,
           "ANK1"
          ]
         ],
         "hovertemplate": "Cluster %{customdata[0]}: %{customdata[1]}<br>approvedSymbol: %{customdata[2]}<extra></extra>",
         "marker": {
          "color": "#95b577",
          "line": {
           "width": 0
          },
          "opacity": 0.7,
          "size": 5
         },
         "mode": "markers",
         "showlegend": true,
         "type": "scatter",
         "x": {
          "bdata": "MOtql9ti8j/pjN5f82D3P+zx54DJkvw//0F//ADvCUA4uYTotT72P0RjN32HnARA",
          "dtype": "f8"
         },
         "y": {
          "bdata": "DcNHxJT4JECbAMPy5+skQBTQRNjw9CNAgIC1atcUJUBBSuza3iYkQNmXbDzYYiNA",
          "dtype": "f8"
         }
        },
        {
         "hoverinfo": "skip",
         "mode": "text",
         "showlegend": false,
         "text": [],
         "textfont": {
          "color": "black",
          "size": 12
         },
         "textposition": "top center",
         "type": "scatter",
         "x": [],
         "y": []
        },
        {
         "customdata": [
          [
           13,
           "EXT1"
          ],
          [
           13,
           "SLC22A5"
          ],
          [
           13,
           "SLC24A4"
          ],
          [
           13,
           "SLC26A3"
          ],
          [
           13,
           "SLC34A2"
          ]
         ],
         "hovertemplate": "Cluster %{customdata[0]}: %{customdata[1]}<br>approvedSymbol: %{customdata[2]}<extra></extra>",
         "marker": {
          "color": "#ff7266",
          "line": {
           "width": 0
          },
          "opacity": 0.7,
          "size": 5
         },
         "mode": "markers",
         "showlegend": true,
         "type": "scatter",
         "x": {
          "bdata": "tsB5zJue6T+pS0pqNsnNP7bNFSQES6q/m0SUYaLi0b9hQS8WZTrLvw==",
          "dtype": "f8"
         },
         "y": {
          "bdata": "arY8IBp3F0B2d1OA3hoWQGPh2j8F1hRAkGeXb31IFUALXYlA9T8VQA==",
          "dtype": "f8"
         }
        },
        {
         "hoverinfo": "skip",
         "mode": "text",
         "showlegend": false,
         "text": [],
         "textfont": {
          "color": "black",
          "size": 12
         },
         "textposition": "top center",
         "type": "scatter",
         "x": [],
         "y": []
        },
        {
         "customdata": [
          [
           14,
           "CEBPA"
          ],
          [
           14,
           "BCL7A"
          ],
          [
           14,
           "DICER1"
          ],
          [
           14,
           "SS18"
          ],
          [
           14,
           "KDM6A"
          ],
          [
           14,
           "SS18L1"
          ]
         ],
         "hovertemplate": "Cluster %{customdata[0]}: %{customdata[1]}<br>approvedSymbol: %{customdata[2]}<extra></extra>",
         "marker": {
          "color": "#bcb6ff",
          "line": {
           "width": 0
          },
          "opacity": 0.7,
          "size": 5
         },
         "mode": "markers",
         "showlegend": true,
         "type": "scatter",
         "x": {
          "bdata": "LcHznD5sFkDQXiKDgbQUQIz34/bLFxhA7Ggc6ndBF0DM+Rhiq9oUQF3Cobd4mBdA",
          "dtype": "f8"
         },
         "y": {
          "bdata": "u7iNBvDWLEDtEP+wpe8sQM2tEFZjGSxAx2eyf54aLUCHMenvpUgsQOZAD7Vt2CxA",
          "dtype": "f8"
         }
        },
        {
         "hoverinfo": "skip",
         "mode": "text",
         "showlegend": false,
         "text": [],
         "textfont": {
          "color": "black",
          "size": 12
         },
         "textposition": "top center",
         "type": "scatter",
         "x": [],
         "y": []
        },
        {
         "customdata": [
          [
           15,
           "ABL2"
          ],
          [
           15,
           "PBX1"
          ],
          [
           15,
           "ARHGEF12"
          ],
          [
           15,
           "ACVR1B"
          ],
          [
           15,
           "SRGAP3"
          ],
          [
           15,
           "FOXA1"
          ],
          [
           15,
           "MYOD1"
          ],
          [
           15,
           "ACVR2A"
          ],
          [
           15,
           "MYH11"
          ]
         ],
         "hovertemplate": "Cluster %{customdata[0]}: %{customdata[1]}<br>approvedSymbol: %{customdata[2]}<extra></extra>",
         "marker": {
          "color": "#018700",
          "line": {
           "width": 0
          },
          "opacity": 0.7,
          "size": 5
         },
         "mode": "markers",
         "showlegend": true,
         "type": "scatter",
         "x": {
          "bdata": "skY9RKOLHkAhkEsceRggQO8dNSbE3BpAUtZvJqZzIEDd2EcCaJccQOAT61T51iBAodl1b0VyIEDkvtU6cQkhQKlorP2d/RpA",
          "dtype": "f8"
         },
         "y": {
          "bdata": "6l28H7fnKUARb51/u1AqQGa8rfTanChAJemayTerKkCAD167tEkpQOEoeXWOIStAtfl/1ZEDK0D+YyE6BLYqQKRyE7U07yhA",
          "dtype": "f8"
         }
        },
        {
         "hoverinfo": "skip",
         "mode": "text",
         "showlegend": false,
         "text": [],
         "textfont": {
          "color": "black",
          "size": 12
         },
         "textposition": "top center",
         "type": "scatter",
         "x": [],
         "y": []
        },
        {
         "customdata": [
          [
           16,
           "ERCC2"
          ],
          [
           16,
           "PMS2"
          ],
          [
           16,
           "MSH2"
          ],
          [
           16,
           "ERCC3"
          ],
          [
           16,
           "ELL"
          ]
         ],
         "hovertemplate": "Cluster %{customdata[0]}: %{customdata[1]}<br>approvedSymbol: %{customdata[2]}<extra></extra>",
         "marker": {
          "color": "#edb8b8",
          "line": {
           "width": 0
          },
          "opacity": 0.7,
          "size": 5
         },
         "mode": "markers",
         "showlegend": true,
         "type": "scatter",
         "x": {
          "bdata": "IH7+e/AyJkBVLlT+tdQmQIJ0sWmlICZAFoielEndJkAbTMPwEQknQA==",
          "dtype": "f8"
         },
         "y": {
          "bdata": "n2RhPg80EEC8CRkjbTYSQGyOGOL9RRFAQtKnVfTHD0DxaD5CKBIQQA==",
          "dtype": "f8"
         }
        },
        {
         "hoverinfo": "skip",
         "mode": "text",
         "showlegend": false,
         "text": [],
         "textfont": {
          "color": "black",
          "size": 12
         },
         "textposition": "top center",
         "type": "scatter",
         "x": [],
         "y": []
        },
        {
         "customdata": [
          [
           17,
           "PBRM1"
          ],
          [
           17,
           "SMARCE1"
          ],
          [
           17,
           "KMT2C"
          ],
          [
           17,
           "SETD1B"
          ],
          [
           17,
           "ARID2"
          ],
          [
           17,
           "GATA2"
          ],
          [
           17,
           "SMARCB1"
          ],
          [
           17,
           "ARID1B"
          ],
          [
           17,
           "KMT2A"
          ]
         ],
         "hovertemplate": "Cluster %{customdata[0]}: %{customdata[1]}<br>approvedSymbol: %{customdata[2]}<extra></extra>",
         "marker": {
          "color": "#97ff00",
          "line": {
           "width": 0
          },
          "opacity": 0.7,
          "size": 5
         },
         "mode": "markers",
         "showlegend": true,
         "type": "scatter",
         "x": {
          "bdata": "uvWaHhS0CUBoIQGjy1MQQNYCe0ykhBFA4yiKoeYVCkBFZ5lFKDYLQPb95aRBew9Au5o8ZTWdD0A4QlB/BwAQQJylZDkJdQ5A",
          "dtype": "f8"
         },
         "y": {
          "bdata": "pPs5BfnhKkBEboYb8OkoQO/H7ZdPDipArdug9lvDKkBFKowtBHkqQB4YQPhQqilARu9UwD0fKUA5ZAPpYtspQNI2/kRliypA",
          "dtype": "f8"
         }
        },
        {
         "hoverinfo": "skip",
         "mode": "text",
         "showlegend": false,
         "text": [],
         "textfont": {
          "color": "black",
          "size": 12
         },
         "textposition": "top center",
         "type": "scatter",
         "x": [],
         "y": []
        },
        {
         "customdata": [
          [
           18,
           "FANCC"
          ],
          [
           18,
           "FANCD2"
          ],
          [
           18,
           "CNOT3"
          ],
          [
           18,
           "TAL1"
          ],
          [
           18,
           "DEK"
          ],
          [
           18,
           "ZNF521"
          ]
         ],
         "hovertemplate": "Cluster %{customdata[0]}: %{customdata[1]}<br>approvedSymbol: %{customdata[2]}<extra></extra>",
         "marker": {
          "color": "#5d7e66",
          "line": {
           "width": 0
          },
          "opacity": 0.7,
          "size": 5
         },
         "mode": "markers",
         "showlegend": true,
         "type": "scatter",
         "x": {
          "bdata": "I7w9CAGZLUCdZ+xLNoYtQFCpEmVvgSxAWmPQCaHzK0BaZDvfT/0rQLLZkeo7vytA",
          "dtype": "f8"
         },
         "y": {
          "bdata": "loIkok6fFkB6bMuAs+QWQCDtf4C1QhdAN/nSgOZwGECDTggddBEZQFUWhV0UzRdA",
          "dtype": "f8"
         }
        },
        {
         "hoverinfo": "skip",
         "mode": "text",
         "showlegend": false,
         "text": [],
         "textfont": {
          "color": "black",
          "size": 12
         },
         "textposition": "top center",
         "type": "scatter",
         "x": [],
         "y": []
        },
        {
         "customdata": [
          [
           19,
           "ZFHX3"
          ],
          [
           19,
           "LMO2"
          ],
          [
           19,
           "PPM1D"
          ],
          [
           19,
           "BTG2"
          ],
          [
           19,
           "CDK12"
          ],
          [
           19,
           "PAX5"
          ],
          [
           19,
           "MAF"
          ],
          [
           19,
           "LMO1"
          ],
          [
           19,
           "NDRG1"
          ],
          [
           19,
           "NR4A3"
          ]
         ],
         "hovertemplate": "Cluster %{customdata[0]}: %{customdata[1]}<br>approvedSymbol: %{customdata[2]}<extra></extra>",
         "marker": {
          "color": "#ffa52f",
          "line": {
           "width": 0
          },
          "opacity": 0.7,
          "size": 5
         },
         "mode": "markers",
         "showlegend": true,
         "type": "scatter",
         "x": {
          "bdata": "25a32Q7MDsApeuBjsIIQwNBiKZKvxAzAQyCXOPJQL0CDaRg+IoYuQCTH51/cxw3AxdBFnn8eEcCYwoNm1z0RwFggelImDS9AnpBC/j5gEMA=",
          "dtype": "f8"
         },
         "y": {
          "bdata": "OEpenWMoIUAuH0lJD6siQP3dO2pMmCFARga5izDVE0DzPLg7a3cVQFhv1ArTZyFAP8kdNpGZIkD8pUV9kosiQKHlL+NcWRRAZf7RN2naIUA=",
          "dtype": "f8"
         }
        },
        {
         "hoverinfo": "skip",
         "mode": "text",
         "showlegend": false,
         "text": [],
         "textfont": {
          "color": "black",
          "size": 12
         },
         "textposition": "top center",
         "type": "scatter",
         "x": [],
         "y": []
        },
        {
         "customdata": [
          [
           20,
           "ZNF300"
          ],
          [
           20,
           "ZNF429"
          ],
          [
           20,
           "BTG1"
          ],
          [
           20,
           "DGCR8"
          ],
          [
           20,
           "ZNF479"
          ],
          [
           20,
           "GRIN2A"
          ]
         ],
         "hovertemplate": "Cluster %{customdata[0]}: %{customdata[1]}<br>approvedSymbol: %{customdata[2]}<extra></extra>",
         "marker": {
          "color": "#573b00",
          "line": {
           "width": 0
          },
          "opacity": 0.7,
          "size": 5
         },
         "mode": "markers",
         "showlegend": true,
         "type": "scatter",
         "x": {
          "bdata": "pdsSueCcKMBgrkUL0C4pwJTBUfLqBCnAAMgJE0bzKMBbCd0lcYYowAEXZMvypSnA",
          "dtype": "f8"
         },
         "y": {
          "bdata": "BqBRuvRfKUBSRIZVvPEpQPCmW3aIxylAK4arAyC2KUBvKlJhbEkpQPCiryDNaCpA",
          "dtype": "f8"
         }
        },
        {
         "hoverinfo": "skip",
         "mode": "text",
         "showlegend": false,
         "text": [],
         "textfont": {
          "color": "black",
          "size": 12
         },
         "textposition": "top center",
         "type": "scatter",
         "x": [],
         "y": []
        },
        {
         "customdata": [
          [
           21,
           "NUP98"
          ],
          [
           21,
           "PPP2R1A"
          ],
          [
           21,
           "AR"
          ],
          [
           21,
           "CD28"
          ],
          [
           21,
           "ABL1"
          ],
          [
           21,
           "CCND1"
          ],
          [
           21,
           "CBL"
          ],
          [
           21,
           "GSK3B"
          ],
          [
           21,
           "JAK2"
          ],
          [
           21,
           "PDGFRB"
          ],
          [
           21,
           "MDM2"
          ],
          [
           21,
           "GNAQ"
          ],
          [
           21,
           "FBXW7"
          ],
          [
           21,
           "EGFR"
          ],
          [
           21,
           "RB1"
          ],
          [
           21,
           "BIRC3"
          ],
          [
           21,
           "PPARG"
          ],
          [
           21,
           "PIP4K2A"
          ],
          [
           21,
           "RET"
          ],
          [
           21,
           "TRIM33"
          ],
          [
           21,
           "PRKAR1A"
          ],
          [
           21,
           "APC"
          ],
          [
           21,
           "STAG1"
          ],
          [
           21,
           "SMAD2"
          ],
          [
           21,
           "STAT5B"
          ],
          [
           21,
           "NOTCH1"
          ],
          [
           21,
           "PIK3CB"
          ],
          [
           21,
           "MEN1"
          ],
          [
           21,
           "PIK3CA"
          ],
          [
           21,
           "PTEN"
          ],
          [
           21,
           "RAD17"
          ],
          [
           21,
           "RPN1"
          ],
          [
           21,
           "PRKCB"
          ],
          [
           21,
           "ERBB3"
          ],
          [
           21,
           "RMI2"
          ],
          [
           21,
           "NTRK3"
          ],
          [
           21,
           "TRRAP"
          ],
          [
           21,
           "MAP2K2"
          ],
          [
           21,
           "ZEB1"
          ],
          [
           21,
           "DNM2"
          ],
          [
           21,
           "NPM1"
          ],
          [
           21,
           "ATM"
          ],
          [
           21,
           "RAD50"
          ],
          [
           21,
           "SRC"
          ],
          [
           21,
           "NUP214"
          ],
          [
           21,
           "MTOR"
          ],
          [
           21,
           "CTNNA1"
          ],
          [
           21,
           "FOXO1"
          ],
          [
           21,
           "ATR"
          ],
          [
           21,
           "HGF"
          ],
          [
           21,
           "NR3C2"
          ],
          [
           21,
           "COX6C"
          ],
          [
           21,
           "FAS"
          ],
          [
           21,
           "NCOA2"
          ],
          [
           21,
           "PML"
          ],
          [
           21,
           "RAD21"
          ],
          [
           21,
           "SOX2"
          ],
          [
           21,
           "BRCA1"
          ],
          [
           21,
           "STK11"
          ],
          [
           21,
           "TPR"
          ],
          [
           21,
           "PIK3R1"
          ],
          [
           21,
           "BMI1"
          ],
          [
           21,
           "EZH2"
          ],
          [
           21,
           "PDGFRA"
          ],
          [
           21,
           "FLT3"
          ],
          [
           21,
           "TSC2"
          ],
          [
           21,
           "FGFR3"
          ],
          [
           21,
           "ITGAV"
          ],
          [
           21,
           "MLH1"
          ],
          [
           21,
           "RHOA"
          ],
          [
           21,
           "EPS15"
          ],
          [
           21,
           "TP53"
          ],
          [
           21,
           "BLM"
          ],
          [
           21,
           "CLTC"
          ],
          [
           21,
           "RUNX1"
          ],
          [
           21,
           "CXCR4"
          ],
          [
           21,
           "ERBB2"
          ],
          [
           21,
           "TSC1"
          ],
          [
           21,
           "MAML2"
          ],
          [
           21,
           "WRN"
          ],
          [
           21,
           "SMC1A"
          ],
          [
           21,
           "MET"
          ],
          [
           21,
           "DAXX"
          ],
          [
           21,
           "AKT1"
          ],
          [
           21,
           "GATA3"
          ],
          [
           21,
           "NRG1"
          ],
          [
           21,
           "ARNT"
          ],
          [
           21,
           "CBFB"
          ],
          [
           21,
           "CD80"
          ],
          [
           21,
           "JUN"
          ],
          [
           21,
           "CREBBP"
          ],
          [
           21,
           "FGFR2"
          ],
          [
           21,
           "CCNE1"
          ],
          [
           21,
           "BRAF"
          ],
          [
           21,
           "AXIN1"
          ],
          [
           21,
           "PRDM1"
          ],
          [
           21,
           "PRKACA"
          ],
          [
           21,
           "CDK6"
          ],
          [
           21,
           "GLS"
          ],
          [
           21,
           "PDGFB"
          ],
          [
           21,
           "PTPN6"
          ],
          [
           21,
           "TP63"
          ],
          [
           21,
           "NFKB1"
          ],
          [
           21,
           "NRAS"
          ],
          [
           21,
           "CTNND1"
          ],
          [
           21,
           "DDX5"
          ],
          [
           21,
           "BCL2"
          ],
          [
           21,
           "CDC73"
          ],
          [
           21,
           "LMNA"
          ],
          [
           21,
           "TCF7L2"
          ],
          [
           21,
           "DDIT3"
          ],
          [
           21,
           "ABI1"
          ],
          [
           21,
           "MDM4"
          ],
          [
           21,
           "RARA"
          ],
          [
           21,
           "LEF1"
          ],
          [
           21,
           "CDKN1B"
          ],
          [
           21,
           "CDH1"
          ],
          [
           21,
           "CREB1"
          ],
          [
           21,
           "RSPO3"
          ],
          [
           21,
           "COL1A1"
          ],
          [
           21,
           "NOTCH2"
          ],
          [
           21,
           "FOXO4"
          ],
          [
           21,
           "MYB"
          ],
          [
           21,
           "SUZ12"
          ],
          [
           21,
           "BAX"
          ],
          [
           21,
           "TBL1XR1"
          ],
          [
           21,
           "CCNC"
          ],
          [
           21,
           "WWTR1"
          ],
          [
           21,
           "ESR1"
          ],
          [
           21,
           "CDKN2B"
          ],
          [
           21,
           "KRAS"
          ],
          [
           21,
           "KAT6A"
          ],
          [
           21,
           "RANBP2"
          ],
          [
           21,
           "H3-3A"
          ],
          [
           21,
           "NCOR1"
          ],
          [
           21,
           "ATRX"
          ],
          [
           21,
           "CHD4"
          ],
          [
           21,
           "HSP90AA1"
          ],
          [
           21,
           "USP9X"
          ],
          [
           21,
           "XPO1"
          ],
          [
           21,
           "ERBB4"
          ],
          [
           21,
           "FGFR1"
          ],
          [
           21,
           "NTRK2"
          ],
          [
           21,
           "FGFR4"
          ],
          [
           21,
           "ALK"
          ],
          [
           21,
           "BTK"
          ],
          [
           21,
           "MYC"
          ],
          [
           21,
           "HRAS"
          ],
          [
           21,
           "SKI"
          ],
          [
           21,
           "STRN"
          ],
          [
           21,
           "FOXO3"
          ],
          [
           21,
           "KMT2D"
          ],
          [
           21,
           "STAG2"
          ],
          [
           21,
           "WT1"
          ],
          [
           21,
           "TGFBR2"
          ],
          [
           21,
           "PTPN11"
          ],
          [
           21,
           "NCOR2"
          ],
          [
           21,
           "BRCA2"
          ],
          [
           21,
           "VAV1"
          ],
          [
           21,
           "SMAD4"
          ],
          [
           21,
           "DCTN1"
          ],
          [
           21,
           "SGK1"
          ],
          [
           21,
           "AKAP9"
          ],
          [
           21,
           "EP300"
          ],
          [
           21,
           "STAT3"
          ],
          [
           21,
           "CCND3"
          ],
          [
           21,
           "KIT"
          ],
          [
           21,
           "LYN"
          ],
          [
           21,
           "NBN"
          ],
          [
           21,
           "BRIP1"
          ],
          [
           21,
           "CLIP1"
          ],
          [
           21,
           "GNAS"
          ],
          [
           21,
           "CDKN2A"
          ],
          [
           21,
           "PTK6"
          ],
          [
           21,
           "YWHAE"
          ],
          [
           21,
           "IKBKB"
          ]
         ],
         "hovertemplate": "Cluster %{customdata[0]}: %{customdata[1]}<br>approvedSymbol: %{customdata[2]}<extra></extra>",
         "marker": {
          "color": "#d60000",
          "line": {
           "width": 0
          },
          "opacity": 0.7,
          "size": 5
         },
         "mode": "markers",
         "showlegend": true,
         "type": "scatter",
         "x": {
          "bdata": "ccD4s2l28j9kWpvG9pocQJYmpaDbawVACqWKPQ9xF0A7qS9LO10iQAMGSZ9WcR1AtafknNhbG0BFJoUe1qgfQFPWyt8YxR5A+C3fn/fDE0CDE9GvrUckQNZz0vvGxxpAcjYdAdykEUB/bJIf8UMTQGdg5GVN7CNA4pLjTulgHEC+LmjGR6AMQLQiaqLPzxBAxhSscTYNHUCL4eoAiFsdQMNGWb+ZoBtAS/z2GieqCEAETCpk+CkPQM1bdR2qqQtAJv4o6sz9H0AQsiyY+EMcQGNH41C/GxxAlpaRek9VE0A8a7ddaJYeQCcLBKZ4UQtAjBTKwtfXKEAZVBuciNYhQCsyOiAJ0xxAlskVgyyIE0BW8Ubmkb8pQJLySd2EwRRAbKkoA6xqCkD60AX1LYMVQPUrnQ/PIiNAhZm2f2XJIkDEB3b8F/gBQK34hsJnmyZA+YOB595bKkDqIRrdQTwdQH8FHzmIzOs/yCjPvBy2GkC8BKc+kIwjQIFdTZ6yGhNAmSzuPzLFKEBZxAt9C+4TQKqF7YIcTwJAd/UqMjr4J0BXCoFc4gAlQJHwvb9BgxhAZdKVvsYkBkAlJNI2/hQQQH39tWG5Yh9A0v4HWKtGKUCV1AloIqwoQGgBf51APeg/EVX4M7ypH0C3w3C/ja4MQPThWYKMYCFAlu1D3nJNFEBBYrt7gK4VQKadmssNJhVA3LdaJy4HGkCKdhVSfmIZQOylKQKcFiNAwnV7/9UZFkCD29rC86IiQMouvaIADh9Az582qtPhKUDEfHkB9ikaQMYzaOifOChALf2V37MfFEC5izBFudQTQFiqC3iZkSZAU01aAjptF0AMdO0L6BUqQBESDmIMuRBAArfu5qmeFEC/aVWm85z+P5p9HqM8Kx9A4bKv4Y7cC0CiHuxeOGEUQF9/Ep87iSZAeH5Rgv4aKUBYqgt4mTEXQD44RIHjnxpAXMe44uJ4G0Crvqn+97YYQDBK0F/oqSNAIZBLHHkgGUB7Tnrf+EoRQGKBr+jWYyhAKlYNwtz2HUDQDriumCEjQNEGYAMirCRA26M33EcuFUCH26FhMcofQF5nQ/6ZySRAX38SnzsxHUAV5dL4haceQHpRu18F+CJAz7mAPGBDDUCCMWzegpYaQHEeTmA69RRAUMb4MHt5IkDD1mzlJe8dQAxaSMDoPiZABWrWviUtF0AtliL5SmAlQJT2Bl+YzAxA0h6KXTYdH0C/Q1GgT8wiQFYMVwdAfCFAkFUAQtpVGkDEn5dAAO8TQHUbecX4BQ1A3A94YABBFUBZfb/iutMRQD5LRoQ1JA5Aa2PshJd4IEAJFoczv6IkQEdVE0TdJx1AdzBinwB6HEAK1jibjuAoQHZPHhZqXRFA963WicsBJED8NsR4zesdQJChYweVGCpAbv1PWahw8D+ISiNm9qkgQMQKt3wkbRlAsKnzqPhvI0BYVMTpJAsYQOCFrdnKCx1A7Vv3oLFgB0BTJcreUo4YQBnnb0IhShRAIhVrXQ9THEDPvvIgPW0TQN7IPPIHwxhAc2a7Qh9cFkCXM4Bch88LQFpXu9wWCx5Amu0KfbBcH0AxCKwcWuwUQIiE7/0NGhZAhxQDJJpAFkA9dfbflCMdQNAKDFndihBAGeJYF7cBJEBm9Q63Q2MTQDApPj4h6xxAmQsBZfjED0BFZFjFGwkrQB0jNN1GThhAakMPxpnAC0C6oSk7/SghQHwOLEfIiChAAWpq2VrXI0DECyJS094ZQNgo6zcTcx1AGOqwwi3/IUCPpnoy/4gSQCzwFd16XR9APdNLjGWSKkCFPljGhg4qQD52FygpiCNA0yjJ32JCGkDRsBh1rX0jQEBqEyf3AyNAnWNA9nonIUBP/L25ZIEJQA==",
          "dtype": "f8"
         },
         "y": {
          "bdata": "L2zNVl6SH0DvPPGcLbAeQCGU93E0xx1A5xn7ko0fIkAQJVryeGoYQNJu9DEfkBZAPdLgtrYAJEAc0qjAyQYZQPpfrkULsB9A4srZO6M9I0C4I5wWvBgbQGLZzCGplRlAFS71PTQdGUAPstHehQofQHdoWIy6Nh1AkqaLXlcdHEAo8iTpmgkgQBv0pbc/5xlA+JRShmDrD0CG56ViY6YSQDvj++JSjRhA4s0avK8aF0AGZ/D3iwkXQA2reCPzYCFAi2zn+6nRJECk6Uce4x0VQPaaHhSUIiFAAfc8f9rwEEAkgQabOpciQDNslPWbuRpAxY1bzM89IEDRlnMprroSQHB6F+/HHRdAX7cIjPW9JEBF1ESfj0ofQORnI9dNASRAkBSRYRU3GEDSwmUVNjMcQEFkkSbeQQlASrIOR1e5EEBOQX42cl0fQMOj6NxIpB1AdAmH3uKhIEDshm2LMgseQJ3PJcHA0B5ACK9d2nDoHEDunME66UgMQGtsCr8v0RlA4IRCBByCIEDtDFNb6pghQIDSUKOQZB1Afu8lQ0RQHUCS8kndhNEVQIF2hxQDhBVA0TcOYaFDHkAF5KZhU0oWQGPQCaGDdhBA+W5OgLzqHUBdPBehM1wVQA3BFmDEux9AD39N1qjXI0DWc9L7xnccQFdgyOpWvxRAuFm8WBjSI0A9Kv7viJIkQF7Ymq28tBpACW05l+IqJUCDUN7H0XwTQGojjcAOYhZA1h72QgE7GUCXytsRTusSQM/AyMuaqBpA0gDeAgkSHkDaNFseEFUfQEXJ9QAnJRdAGAYsuYo1FUBXtDnObYIdQAJk6NhBBRdAWbz9Xq+tEUB40sJlFZYeQMAlAP+UshZAR8mrcww4GkBw7NlzmSoeQIkenV85nxZASRKEK6A4IUB5k9+ik9UlQINtxJPdvBtAFiqkoeu/FUBRMc7fhJYhQJeg0Px7yhxAh4bFqGs9FEAEWU+tvpolQPjGEAAccyBAmBO0yeGDJEBzB/vAnzsWQM8xIHu9SxdAi87o/TUfF0CHwmfr4DAeQODbTyGyWxRAPGh23VvJIUDWHvZCAeseQG5pNSTu4RZA1cW3wZp0G0AZV1wclQskQGoV/aGZvxBAqhveYjSxGEA0uRgD65gWQDxb9toi7w5AiNhg4SRNHEBNLzGW6XcRQI4B2evdHxxAsf1kjA8LJUB/3lSkwvgbQBBbejTVKyBAMSjTaHJBEUAhHomXp7MgQHuYB/pV+gxAoDU//tK6HUBinpW04jsPQF6CUx9I7iJAVZuknqqfEEDg2omSkFgbQNtugm+axiFA0hxZ+WUgFECXV663zWQVQDZYOEnzZxZARIvHoG6jFUBqwYu+ghwWQKU09oDUuRtAYMd/gSCoIEAFGJY/3xYjQDGxnv/DqhZA9u6P96p1IEA9Y1+y8eAVQD4jERrBdhZATYHMzqL3IkBnrbIAtygXQJxrmKHxvCBAEW+df7sIIEBuLqP9tF4TQLCuCtRiaCVAmN2Th4XCIkAF3smnxxYlQKyQ8pNqXyVAvymsVFDJI0DfWXFgKAYMQDNrKSDtjxRA/u4dNSakI0CKKx1icvkNQIszhjlBGyNAl2mgnuNAG0ARGVbxRmYSQOmcn+I4yBdAxATawpgZBUBElhY/11gbQOyi6IGPGSRAHw99dyvLG0DXbVD7reUgQCcW+IpujSBAaoe/JmsMIECH2XD9YP0aQPAyw0ZZbxdAyjSaXIzpI0A6lKEqpnIUQPOrOUAw+yFAgqj7AKRWGUCrPldbsf8YQMQihh3GxBxACTICKhx5IEBWM8bikmYfQBfyCG6kfCJA0ZZzKa4KGkDzABb59ZMbQCzVBbzMwCBAgjtQpzwKGEBov/+gP14HQA==",
          "dtype": "f8"
         }
        },
        {
         "hoverinfo": "skip",
         "mode": "text",
         "showlegend": false,
         "text": [],
         "textfont": {
          "color": "black",
          "size": 12
         },
         "textposition": "top center",
         "type": "scatter",
         "x": [],
         "y": []
        },
        {
         "customdata": [
          [
           22,
           "SMARCA4"
          ],
          [
           22,
           "ARID1A"
          ],
          [
           22,
           "TCF12"
          ],
          [
           22,
           "TCF3"
          ],
          [
           22,
           "KLF4"
          ]
         ],
         "hovertemplate": "Cluster %{customdata[0]}: %{customdata[1]}<br>approvedSymbol: %{customdata[2]}<extra></extra>",
         "marker": {
          "color": "#00acc6",
          "line": {
           "width": 0
          },
          "opacity": 0.7,
          "size": 5
         },
         "mode": "markers",
         "showlegend": true,
         "type": "scatter",
         "x": {
          "bdata": "+69z02ZMIUAqqKj6lc4hQHuH26FhESJA+aOoM/cgIkDba0HvjZEiQA==",
          "dtype": "f8"
         },
         "y": {
          "bdata": "XKSao9hrCkBbq4d5oG8JQG8d0l4zTw5A2Lyqs1qACUD8aUiBqhYJQA==",
          "dtype": "f8"
         }
        },
        {
         "hoverinfo": "skip",
         "mode": "text",
         "showlegend": false,
         "text": [],
         "textfont": {
          "color": "black",
          "size": 12
         },
         "textposition": "top center",
         "type": "scatter",
         "x": [],
         "y": []
        }
       ],
       "layout": {
        "height": 700,
        "legend": {
         "itemsizing": "constant",
         "title": {
          "text": "Cluster"
         }
        },
        "margin": {
         "b": 40,
         "l": 40,
         "r": 40,
         "t": 40
        },
        "paper_bgcolor": "white",
        "plot_bgcolor": "white",
        "template": {
         "data": {
          "bar": [
           {
            "error_x": {
             "color": "#2a3f5f"
            },
            "error_y": {
             "color": "#2a3f5f"
            },
            "marker": {
             "line": {
              "color": "#E5ECF6",
              "width": 0.5
             },
             "pattern": {
              "fillmode": "overlay",
              "size": 10,
              "solidity": 0.2
             }
            },
            "type": "bar"
           }
          ],
          "barpolar": [
           {
            "marker": {
             "line": {
              "color": "#E5ECF6",
              "width": 0.5
             },
             "pattern": {
              "fillmode": "overlay",
              "size": 10,
              "solidity": 0.2
             }
            },
            "type": "barpolar"
           }
          ],
          "carpet": [
           {
            "aaxis": {
             "endlinecolor": "#2a3f5f",
             "gridcolor": "white",
             "linecolor": "white",
             "minorgridcolor": "white",
             "startlinecolor": "#2a3f5f"
            },
            "baxis": {
             "endlinecolor": "#2a3f5f",
             "gridcolor": "white",
             "linecolor": "white",
             "minorgridcolor": "white",
             "startlinecolor": "#2a3f5f"
            },
            "type": "carpet"
           }
          ],
          "choropleth": [
           {
            "colorbar": {
             "outlinewidth": 0,
             "ticks": ""
            },
            "type": "choropleth"
           }
          ],
          "contour": [
           {
            "colorbar": {
             "outlinewidth": 0,
             "ticks": ""
            },
            "colorscale": [
             [
              0,
              "#0d0887"
             ],
             [
              0.1111111111111111,
              "#46039f"
             ],
             [
              0.2222222222222222,
              "#7201a8"
             ],
             [
              0.3333333333333333,
              "#9c179e"
             ],
             [
              0.4444444444444444,
              "#bd3786"
             ],
             [
              0.5555555555555556,
              "#d8576b"
             ],
             [
              0.6666666666666666,
              "#ed7953"
             ],
             [
              0.7777777777777778,
              "#fb9f3a"
             ],
             [
              0.8888888888888888,
              "#fdca26"
             ],
             [
              1,
              "#f0f921"
             ]
            ],
            "type": "contour"
           }
          ],
          "contourcarpet": [
           {
            "colorbar": {
             "outlinewidth": 0,
             "ticks": ""
            },
            "type": "contourcarpet"
           }
          ],
          "heatmap": [
           {
            "colorbar": {
             "outlinewidth": 0,
             "ticks": ""
            },
            "colorscale": [
             [
              0,
              "#0d0887"
             ],
             [
              0.1111111111111111,
              "#46039f"
             ],
             [
              0.2222222222222222,
              "#7201a8"
             ],
             [
              0.3333333333333333,
              "#9c179e"
             ],
             [
              0.4444444444444444,
              "#bd3786"
             ],
             [
              0.5555555555555556,
              "#d8576b"
             ],
             [
              0.6666666666666666,
              "#ed7953"
             ],
             [
              0.7777777777777778,
              "#fb9f3a"
             ],
             [
              0.8888888888888888,
              "#fdca26"
             ],
             [
              1,
              "#f0f921"
             ]
            ],
            "type": "heatmap"
           }
          ],
          "histogram": [
           {
            "marker": {
             "pattern": {
              "fillmode": "overlay",
              "size": 10,
              "solidity": 0.2
             }
            },
            "type": "histogram"
           }
          ],
          "histogram2d": [
           {
            "colorbar": {
             "outlinewidth": 0,
             "ticks": ""
            },
            "colorscale": [
             [
              0,
              "#0d0887"
             ],
             [
              0.1111111111111111,
              "#46039f"
             ],
             [
              0.2222222222222222,
              "#7201a8"
             ],
             [
              0.3333333333333333,
              "#9c179e"
             ],
             [
              0.4444444444444444,
              "#bd3786"
             ],
             [
              0.5555555555555556,
              "#d8576b"
             ],
             [
              0.6666666666666666,
              "#ed7953"
             ],
             [
              0.7777777777777778,
              "#fb9f3a"
             ],
             [
              0.8888888888888888,
              "#fdca26"
             ],
             [
              1,
              "#f0f921"
             ]
            ],
            "type": "histogram2d"
           }
          ],
          "histogram2dcontour": [
           {
            "colorbar": {
             "outlinewidth": 0,
             "ticks": ""
            },
            "colorscale": [
             [
              0,
              "#0d0887"
             ],
             [
              0.1111111111111111,
              "#46039f"
             ],
             [
              0.2222222222222222,
              "#7201a8"
             ],
             [
              0.3333333333333333,
              "#9c179e"
             ],
             [
              0.4444444444444444,
              "#bd3786"
             ],
             [
              0.5555555555555556,
              "#d8576b"
             ],
             [
              0.6666666666666666,
              "#ed7953"
             ],
             [
              0.7777777777777778,
              "#fb9f3a"
             ],
             [
              0.8888888888888888,
              "#fdca26"
             ],
             [
              1,
              "#f0f921"
             ]
            ],
            "type": "histogram2dcontour"
           }
          ],
          "mesh3d": [
           {
            "colorbar": {
             "outlinewidth": 0,
             "ticks": ""
            },
            "type": "mesh3d"
           }
          ],
          "parcoords": [
           {
            "line": {
             "colorbar": {
              "outlinewidth": 0,
              "ticks": ""
             }
            },
            "type": "parcoords"
           }
          ],
          "pie": [
           {
            "automargin": true,
            "type": "pie"
           }
          ],
          "scatter": [
           {
            "fillpattern": {
             "fillmode": "overlay",
             "size": 10,
             "solidity": 0.2
            },
            "type": "scatter"
           }
          ],
          "scatter3d": [
           {
            "line": {
             "colorbar": {
              "outlinewidth": 0,
              "ticks": ""
             }
            },
            "marker": {
             "colorbar": {
              "outlinewidth": 0,
              "ticks": ""
             }
            },
            "type": "scatter3d"
           }
          ],
          "scattercarpet": [
           {
            "marker": {
             "colorbar": {
              "outlinewidth": 0,
              "ticks": ""
             }
            },
            "type": "scattercarpet"
           }
          ],
          "scattergeo": [
           {
            "marker": {
             "colorbar": {
              "outlinewidth": 0,
              "ticks": ""
             }
            },
            "type": "scattergeo"
           }
          ],
          "scattergl": [
           {
            "marker": {
             "colorbar": {
              "outlinewidth": 0,
              "ticks": ""
             }
            },
            "type": "scattergl"
           }
          ],
          "scattermap": [
           {
            "marker": {
             "colorbar": {
              "outlinewidth": 0,
              "ticks": ""
             }
            },
            "type": "scattermap"
           }
          ],
          "scattermapbox": [
           {
            "marker": {
             "colorbar": {
              "outlinewidth": 0,
              "ticks": ""
             }
            },
            "type": "scattermapbox"
           }
          ],
          "scatterpolar": [
           {
            "marker": {
             "colorbar": {
              "outlinewidth": 0,
              "ticks": ""
             }
            },
            "type": "scatterpolar"
           }
          ],
          "scatterpolargl": [
           {
            "marker": {
             "colorbar": {
              "outlinewidth": 0,
              "ticks": ""
             }
            },
            "type": "scatterpolargl"
           }
          ],
          "scatterternary": [
           {
            "marker": {
             "colorbar": {
              "outlinewidth": 0,
              "ticks": ""
             }
            },
            "type": "scatterternary"
           }
          ],
          "surface": [
           {
            "colorbar": {
             "outlinewidth": 0,
             "ticks": ""
            },
            "colorscale": [
             [
              0,
              "#0d0887"
             ],
             [
              0.1111111111111111,
              "#46039f"
             ],
             [
              0.2222222222222222,
              "#7201a8"
             ],
             [
              0.3333333333333333,
              "#9c179e"
             ],
             [
              0.4444444444444444,
              "#bd3786"
             ],
             [
              0.5555555555555556,
              "#d8576b"
             ],
             [
              0.6666666666666666,
              "#ed7953"
             ],
             [
              0.7777777777777778,
              "#fb9f3a"
             ],
             [
              0.8888888888888888,
              "#fdca26"
             ],
             [
              1,
              "#f0f921"
             ]
            ],
            "type": "surface"
           }
          ],
          "table": [
           {
            "cells": {
             "fill": {
              "color": "#EBF0F8"
             },
             "line": {
              "color": "white"
             }
            },
            "header": {
             "fill": {
              "color": "#C8D4E3"
             },
             "line": {
              "color": "white"
             }
            },
            "type": "table"
           }
          ]
         },
         "layout": {
          "annotationdefaults": {
           "arrowcolor": "#2a3f5f",
           "arrowhead": 0,
           "arrowwidth": 1
          },
          "autotypenumbers": "strict",
          "coloraxis": {
           "colorbar": {
            "outlinewidth": 0,
            "ticks": ""
           }
          },
          "colorscale": {
           "diverging": [
            [
             0,
             "#8e0152"
            ],
            [
             0.1,
             "#c51b7d"
            ],
            [
             0.2,
             "#de77ae"
            ],
            [
             0.3,
             "#f1b6da"
            ],
            [
             0.4,
             "#fde0ef"
            ],
            [
             0.5,
             "#f7f7f7"
            ],
            [
             0.6,
             "#e6f5d0"
            ],
            [
             0.7,
             "#b8e186"
            ],
            [
             0.8,
             "#7fbc41"
            ],
            [
             0.9,
             "#4d9221"
            ],
            [
             1,
             "#276419"
            ]
           ],
           "sequential": [
            [
             0,
             "#0d0887"
            ],
            [
             0.1111111111111111,
             "#46039f"
            ],
            [
             0.2222222222222222,
             "#7201a8"
            ],
            [
             0.3333333333333333,
             "#9c179e"
            ],
            [
             0.4444444444444444,
             "#bd3786"
            ],
            [
             0.5555555555555556,
             "#d8576b"
            ],
            [
             0.6666666666666666,
             "#ed7953"
            ],
            [
             0.7777777777777778,
             "#fb9f3a"
            ],
            [
             0.8888888888888888,
             "#fdca26"
            ],
            [
             1,
             "#f0f921"
            ]
           ],
           "sequentialminus": [
            [
             0,
             "#0d0887"
            ],
            [
             0.1111111111111111,
             "#46039f"
            ],
            [
             0.2222222222222222,
             "#7201a8"
            ],
            [
             0.3333333333333333,
             "#9c179e"
            ],
            [
             0.4444444444444444,
             "#bd3786"
            ],
            [
             0.5555555555555556,
             "#d8576b"
            ],
            [
             0.6666666666666666,
             "#ed7953"
            ],
            [
             0.7777777777777778,
             "#fb9f3a"
            ],
            [
             0.8888888888888888,
             "#fdca26"
            ],
            [
             1,
             "#f0f921"
            ]
           ]
          },
          "colorway": [
           "#636efa",
           "#EF553B",
           "#00cc96",
           "#ab63fa",
           "#FFA15A",
           "#19d3f3",
           "#FF6692",
           "#B6E880",
           "#FF97FF",
           "#FECB52"
          ],
          "font": {
           "color": "#2a3f5f"
          },
          "geo": {
           "bgcolor": "white",
           "lakecolor": "white",
           "landcolor": "#E5ECF6",
           "showlakes": true,
           "showland": true,
           "subunitcolor": "white"
          },
          "hoverlabel": {
           "align": "left"
          },
          "hovermode": "closest",
          "mapbox": {
           "style": "light"
          },
          "paper_bgcolor": "white",
          "plot_bgcolor": "#E5ECF6",
          "polar": {
           "angularaxis": {
            "gridcolor": "white",
            "linecolor": "white",
            "ticks": ""
           },
           "bgcolor": "#E5ECF6",
           "radialaxis": {
            "gridcolor": "white",
            "linecolor": "white",
            "ticks": ""
           }
          },
          "scene": {
           "xaxis": {
            "backgroundcolor": "#E5ECF6",
            "gridcolor": "white",
            "gridwidth": 2,
            "linecolor": "white",
            "showbackground": true,
            "ticks": "",
            "zerolinecolor": "white"
           },
           "yaxis": {
            "backgroundcolor": "#E5ECF6",
            "gridcolor": "white",
            "gridwidth": 2,
            "linecolor": "white",
            "showbackground": true,
            "ticks": "",
            "zerolinecolor": "white"
           },
           "zaxis": {
            "backgroundcolor": "#E5ECF6",
            "gridcolor": "white",
            "gridwidth": 2,
            "linecolor": "white",
            "showbackground": true,
            "ticks": "",
            "zerolinecolor": "white"
           }
          },
          "shapedefaults": {
           "line": {
            "color": "#2a3f5f"
           }
          },
          "ternary": {
           "aaxis": {
            "gridcolor": "white",
            "linecolor": "white",
            "ticks": ""
           },
           "baxis": {
            "gridcolor": "white",
            "linecolor": "white",
            "ticks": ""
           },
           "bgcolor": "#E5ECF6",
           "caxis": {
            "gridcolor": "white",
            "linecolor": "white",
            "ticks": ""
           }
          },
          "title": {
           "x": 0.05
          },
          "xaxis": {
           "automargin": true,
           "gridcolor": "white",
           "linecolor": "white",
           "ticks": "",
           "title": {
            "standoff": 15
           },
           "zerolinecolor": "white",
           "zerolinewidth": 2
          },
          "yaxis": {
           "automargin": true,
           "gridcolor": "white",
           "linecolor": "white",
           "ticks": "",
           "title": {
            "standoff": 15
           },
           "zerolinecolor": "white",
           "zerolinewidth": 2
          }
         }
        },
        "width": 800,
        "xaxis": {
         "constrain": "domain",
         "mirror": true,
         "showgrid": false,
         "showline": true,
         "ticks": "outside",
         "title": {
          "text": "UMAP1"
         },
         "zeroline": false
        },
        "yaxis": {
         "constrain": "domain",
         "mirror": true,
         "scaleanchor": "x",
         "scaleratio": 1,
         "showgrid": false,
         "showline": true,
         "ticks": "outside",
         "title": {
          "text": "UMAP2"
         },
         "zeroline": false
        }
       }
      },
      "text/html": [
       "<div>                        <script type=\"text/javascript\">window.PlotlyConfig = {MathJaxConfig: 'local'};</script>\n",
       "        <script charset=\"utf-8\" src=\"https://cdn.plot.ly/plotly-3.0.1.min.js\" integrity=\"sha256-oy6Be7Eh6eiQFs5M7oXuPxxm9qbJXEtTpfSI93dW16Q=\" crossorigin=\"anonymous\"></script>                <div id=\"c544eeac-faae-4649-85f2-f22c363756f0\" class=\"plotly-graph-div\" style=\"height:700px; width:800px;\"></div>            <script type=\"text/javascript\">                window.PLOTLYENV=window.PLOTLYENV || {};                                if (document.getElementById(\"c544eeac-faae-4649-85f2-f22c363756f0\")) {                    Plotly.newPlot(                        \"c544eeac-faae-4649-85f2-f22c363756f0\",                        [{\"customdata\":[[-1,\"BAK1\"],[-1,\"NFATC2\"],[-1,\"FLNA\"],[-1,\"SOCS1\"],[-1,\"TRAF7\"],[-1,\"TFE3\"],[-1,\"TMSB4X\"],[-1,\"STAT6\"],[-1,\"MSH6\"],[-1,\"ARHGAP35\"],[-1,\"MAX\"],[-1,\"SALL4\"],[-1,\"ZNF331\"],[-1,\"PSIP1\"],[-1,\"NUMA1\"],[-1,\"ELN\"],[-1,\"CD79A\"],[-1,\"MECOM\"],[-1,\"MYO5A\"],[-1,\"RPL22\"],[-1,\"CUX1\"],[-1,\"PTPRB\"],[-1,\"TRIM24\"],[-1,\"B2M\"],[-1,\"COL2A1\"],[-1,\"HLA-A\"],[-1,\"AMER1\"],[-1,\"NFE2L2\"],[-1,\"PTPRC\"],[-1,\"CANT1\"],[-1,\"CNTRL\"],[-1,\"PRDM16\"],[-1,\"RASGRP1\"],[-1,\"POLD1\"],[-1,\"CSF3R\"],[-1,\"RPL5\"],[-1,\"RPL10\"],[-1,\"SH2B3\"],[-1,\"JAK3\"],[-1,\"CSF1R\"],[-1,\"MUTYH\"],[-1,\"PCM1\"],[-1,\"DCC\"],[-1,\"CCL2\"],[-1,\"COL3A1\"],[-1,\"FCGR2B\"],[-1,\"CARD11\"],[-1,\"ATP2B3\"],[-1,\"SLC22A4\"],[-1,\"ID3\"],[-1,\"MUC6\"],[-1,\"RNF43\"],[-1,\"TET1\"],[-1,\"CD209\"],[-1,\"TET2\"],[-1,\"AHI1\"],[-1,\"CRNKL1\"],[-1,\"IL7R\"],[-1,\"ZCCHC8\"],[-1,\"TBX3\"],[-1,\"PAX3\"],[-1,\"NFIB\"],[-1,\"RBM10\"],[-1,\"FLT4\"],[-1,\"SLC7A10\"],[-1,\"DLD\"],[-1,\"POLG\"],[-1,\"SLC45A3\"],[-1,\"ATF1\"],[-1,\"RIN3\"],[-1,\"DDX3X\"],[-1,\"FIP1L1\"],[-1,\"KEAP1\"],[-1,\"SETDB1\"],[-1,\"CHEK2\"],[-1,\"U2AF1\"],[-1,\"FBXO11\"],[-1,\"IRF1\"],[-1,\"IRS4\"],[-1,\"TMPRSS2\"],[-1,\"MANBA\"],[-1,\"ARAF\"],[-1,\"PIM1\"],[-1,\"TPM3\"],[-1,\"TRIM27\"],[-1,\"PICALM\"],[-1,\"CEP43\"],[-1,\"NF1\"],[-1,\"DDR2\"],[-1,\"TEC\"],[-1,\"CDH17\"],[-1,\"CDH10\"],[-1,\"AXIN2\"],[-1,\"MAP2K4\"],[-1,\"KLK2\"],[-1,\"USP44\"],[-1,\"KNL1\"],[-1,\"FOXL2\"],[-1,\"ERCC4\"],[-1,\"KDM5A\"],[-1,\"RTEL1\"],[-1,\"ZBTB16\"],[-1,\"EML4\"],[-1,\"FIGNL1\"],[-1,\"POLE\"],[-1,\"BCL11A\"],[-1,\"FANCA\"],[-1,\"TFG\"],[-1,\"SRSF2\"],[-1,\"SRSF3\"],[-1,\"MYH9\"],[-1,\"HNRNPA2B1\"],[-1,\"KIF5B\"],[-1,\"POT1\"],[-1,\"TNFAIP3\"],[-1,\"KDR\"],[-1,\"MSN\"],[-1,\"LIFR\"],[-1,\"RNF213\"],[-1,\"CBLB\"],[-1,\"TNFRSF14\"],[-1,\"MYD88\"],[-1,\"ATXN3\"],[-1,\"JAK1\"],[-1,\"SF3B1\"],[-1,\"TNC\"],[-1,\"BCL6\"],[-1,\"AFF4\"],[-1,\"IL2\"],[-1,\"GOLGA5\"],[-1,\"CD274\"],[-1,\"GRB10\"],[-1,\"RNASET2\"],[-1,\"CACNA1D\"],[-1,\"DROSHA\"],[-1,\"DNMT3A\"],[-1,\"MUC16\"],[-1,\"NCKIPSD\"],[-1,\"NTRK1\"],[-1,\"MRTFA\"],[-1,\"GPC3\"],[-1,\"FANCF\"],[-1,\"PTPRK\"],[-1,\"MED12\"],[-1,\"BCL10\"],[-1,\"CEP89\"],[-1,\"IL33\"],[-1,\"MALT1\"],[-1,\"MLLT3\"],[-1,\"FANCG\"],[-1,\"SIRPA\"],[-1,\"ASXL1\"],[-1,\"MUC4\"],[-1,\"CLTCL1\"],[-1,\"BCR\"],[-1,\"CYLD\"],[-1,\"AFDN\"],[-1,\"CD74\"],[-1,\"RALGDS\"],[-1,\"PPP6C\"],[-1,\"VTI1A\"],[-1,\"FUS\"],[-1,\"IDH1\"],[-1,\"XPC\"],[-1,\"SET\"],[-1,\"BRD4\"],[-1,\"NTHL1\"],[-1,\"ETV6\"],[-1,\"PREX2\"],[-1,\"CDH11\"],[-1,\"MAP3K1\"],[-1,\"MLLT1\"],[-1,\"ZMYM2\"],[-1,\"CPSF2\"],[-1,\"CUL3\"],[-1,\"ASXL2\"],[-1,\"GPC5\"],[-1,\"NSD2\"],[-1,\"SFPQ\"],[-1,\"ITK\"],[-1,\"ORMDL3\"],[-1,\"PTPN13\"]],\"hovertemplate\":\"Cluster %{customdata[0]}: %{customdata[1]}\\u003cbr\\u003eapprovedSymbol: %{customdata[2]}\\u003cextra\\u003e\\u003c\\u002fextra\\u003e\",\"marker\":{\"color\":\"gainsboro\",\"line\":{\"width\":0},\"opacity\":0.7,\"size\":5},\"mode\":\"markers\",\"showlegend\":true,\"x\":{\"dtype\":\"f8\",\"bdata\":\"inIOQ1ASFkC1GDxM+xYfQFwWuOEcchlAy9GIPsRrDUCBX34Cg1cawKfLYmLz6TNAs5dtp60hGUAmvRTDevAXQMDodh8VOde\\u002fLjiDv18cIEBUq6+uChQlQLIbbKCvzxRAe2mKAKd\\u002fJsD55BcUvJf0PxO1NLdCOCVAzjeie9ZFCEB6IA0ChiDtvz39VqE36xRAECBDxw7KG0BC9P8F3dnzPx0EHa1qQSNA0xHAzeIlB0A+6q9XWEgjQG2cA7rlefW\\u002f+L3yxYPyCUBC\\u002fXj553PvvygeYWI9nxZAOkYNARujEEBwWL8+3\\u002fMeQFOGu8SiAwhAq8\\u002fVVuwvI0D2WnXC8K4SQLQEGQEVfh1A3c6+8iCNJkBKKH0h5FwgQLBBujNuJfc\\u002fPboRFhXR9D8nBpLBm28UQD4+ITtv0xRAW3heKjZ2J0BZHXN9o2bgv+Ul\\u002f5O\\u002fwyRA\\u002fG8lOzaCFUAvDKL\\u002fL5gYQDb0BeOWJQtA8OHtnMFKG8Ar2hznNjEewMHbzZ2qPBpAy9zX3CyBFkAzD6oeejwUQJwhC4eU1fO\\u002fn2+w3HfJFUCMTSuFQMYlwCjGQylrhfS\\u002fk1kYfWBSFUAnUMQihv0bQAD\\u002flCpRJiBAjpAmg0jDHUCnJOtwdEUmwJTb9j3qozNAhnE3iNZ6E0BRM6SK4oUlwO8bX3tmQSBAMnbCS3CaF0CJmX0eo5wZQL00RYDTywJA7QvohTtvMkC\\u002fikKBLcUVQIe+YNyyaApAXwmkxK5RMkCUBJd9DXcGQC2T4Xg+yyFAY7ZkVYSb+D+\\u002fAuK\\u002fih0TQDRIwVPIxSVAZAYq499\\u002fFkCRP3uiqebhv8bbSq\\u002fNNhlAeCgK9ImsFECdQlMbQU\\u002f5v2jQ0D\\u002fBfSBAM8SxLm4zFkAI6SlyiGAiQBUu9T00jRhADsbj\\u002fRN3CkCVEKyqlx8SQO8eoPty\\u002fiNA6XP\\u002fohWZFkCIlLCAU4kGQGwGuCBbjhVAUgq6vaRBJUCQTl35LG8lQHLD76Zbtg5AYWAMm7cwDUCYpZ2ay40VQAn9TL1ueTVAUkMbgA1YJEAdo4aAjWUEQG7BUl3AyyhATtAmh0+6EkCneFxUi8gnQGHPz7tO9tm\\u002fK6VneolBI0CnPpC8c8AoQF2MgXUcZyZAe\\u002fmdJjOeIUAstklFY40pQKxbVsRde9U\\u002feal932ToFkBjEomdhDUVQNY6cTlekRxAaByPvu6RH0D922W\\u002f7uggQNgN2xZlViNAZJEm3gE+A0DF506w\\u002f+oaQFTPOMPDKh5AQQ3fwroJKEDJIHcRpsghQBpL\\u002fWHwLRrAAM9RooDwGcDE6SRbXZ4MQCfKlMWz6gFAjJ5b6Eo0EkAc6ndhazYWQIlqACX0KQVA3EduTbqlJ0CdgCbChm8mwNHrT+JzrxNAMJ5BQ\\u002f9EMkDhe3+D9noUQHRzlv7K5xpAx5KDI5IyBUBh3Xh3ZOwXQJEsYAK3RiXAT1DU4wjDCkC29GiqJ5P2vyl3n+OjxRZAdbwT\\u002fesWE0BKsN3ihpQDQKAnVCbrxvM\\u002fUIvBw7S\\u002fKUBSXPo864cTQBZRE30+ciNAF7mnqzumHsCTHRuBeIUbQPf1MkBYfA1AkX9mEB9oHcB+\\u002fRAbLBQmwCBGCI82FilAlSnmIOgAGUBEF9S3zDU1QDQyIxf3+vq\\u002fWyrKAKvWEkDNPo9RnokgQIIeatsw6gRAWW3+X3XEJECe1zPfHLEZQH09X7NcdhVAsmZkkLuoIkA1JsRcUk0yQJ+qQgOxtB9AGCR9WkVvEUAYJH1aRZM1QFZKz\\u002fQSGyVAa+VvjK48+b\\u002fBZzVue0znvyZWRiOfezJAJg0k3vDxE0DR6uQMxeUkQAdYUL3alglArtSzIJQ\\u002fJsA7i96pgIsjQMaFAyFZ6CXAJoSzABI6GEDHoBNCB0E1QMFCnD2GjQBAZJP8iF9hJ0CRkf09wioUQMv0S8Rb5xvAMxtkkpH7IEDc4WU8AFgEQA==\"},\"y\":{\"dtype\":\"f8\",\"bdata\":\"vCTOiqjJA0DWxtgJLyEaQAma4OUzagpAw9H6AEldD0Bce2cA5I6jP+9iUFxEGgnAe2OtRhvcAEAZyol2FUIjQGXHRiBe7xNA3bQZpyHiKkDR60\\u002fic08eQFiG3RxTpBdA5lq0AG1HJ0Aswqj\\u002fB+seQDunWaDdzSFAOGbZk8DGJED4b16c+AohQMaD0ryIoxVAe9y3WiceJ0DlRLsKKWciQD3vxoLCKCZAmv3L\\u002f\\u002fW7BECNQpJZvQsmQINRSZ2AFiFA+KbpswO2I0CJYk3ACmMeQPomTYOioR1AL4mzImoSIUCm0HmNXSIdQLGnHf6aHANA51QyAFQxJUAzqaENwD4tQDKSPULNIB9AVdtN8E2jIkAgt18+WfENQNtrQe+NsSJAaw4QzNHDIkDxCX7AqFETQBWNtb+zkSBA5SoWvynUFEAvW6H+aSkVQECKOnMPySJA1Jy8yARMKkDItaFinH8bQFA5Jov7vyNAlUXEQQC42L8\\u002fdP9g+Rbfv3D+cKE8DQJAouJJHMNtAkBfXoB9dConQBKlvcEXPh9A+oYdIV7aHUAJxOv6Bes0QLQ8D+7OKiFAPujZrPokLEDbXhymx1AJQN0DGaZbSwFAqMXgYdpHHkBf0hitoyo1QMfJDjudxQrAiIGufQGVLECJQWDl0Mo0QECGjh1U0gJAb0DwnT3EGUBy7I\\u002fmfn3\\u002fPxLcSNki2RZA8+LEVzuCN0CvXG+bqQADQIfx5OSPUw5Asp3vp8afN0CTMHg9PVsEQFmis8wixBxA203wTdNXIUC4kEdwIw0rQBNgWP58KxtAD1E7sqg+47+HGRpPBNEdQNGcUOM5NgVAtBzooba1JkAYtftVgH8fQEETvHxGnR9AC12JQPXfHECdgZGXNeElQLiswmaAYyJAN9AyQcOxHEChoBSt3KsUQAXfNH12UCVA63JKQEyKHkCoctpTcnYkQP2H9NvXSSFAQ3wWOmWk+D\\u002fwuiMI\\u002fEb3P74mtWFeARVAFTsah\\u002fq9CkDO34RCBLwUQHSIbqx6r+K\\u002f12oPe6GYIUAF3zR9dtAhQLXf2omS4CJAVWggls00LUDwiXWqfJ8iQNOjqZ7M3x1ARrJHqBnaI0DIfat14rohQEN0CBwJDCJAt18+WTHsJUBVih2NQ50jQD7t8NdkzR9AlKJTX68T4L+p5PeRtoztv9vf2R69sSdA7JeZ4yZkB0BSR8fVyA4cQEZEMXkD7CBAxw2\\u002fm265IEClTdU9srEgQFA0D2CR\\u002fyVAU84Xey\\u002fOFEBJ2\\u002fgTlQUlQDYhaxUWP7m\\u002fyq96G\\u002fZW0L\\u002fWZULdUS0RQGfAD717ph5A2JyDZ0ITH0BxqUpbXOPlv8l3KXXJ+CRA2CyXjc7JE0CCABk6djgnQJAqL57m0RJAOey+Y3isN0ASnQpdLq8fQMn\\u002f5O\\u002feeSFADukBPR50AkAew2M\\u002fi40pQDTVk\\u002flHqzRANCxGXWt3HUCqKck6HI0fQPmJXqFqZx9AICV2bW+\\u002fJkAVdHtJY1QhQA5LAz+qIRtAYKsEi8PRI0DTMlLvqUQnQBbCaixhLRdAlYp8TcX85r9aiGk6liIKQA4MxcK1ZxtAe4\\u002fpv70B47\\u002f9T\\u002f7uHd0mQIfFqGvtRSRARTu4hfjBB0B1mCe+d6fUv0Oy28JOBB5ApfeNrz07KUAe3QiLigAlQIavr3WpMSFAGVLqN7i5\\u002fT8hdTv7ytMGQI6R7BFqdiBAFr8prFSgGkDo+j4cJKQ3QBgxoqMLYAJArBxaZDufIEA0oUliSbnlv2E41zBDqyFAcQtMXeigHkAJceXsnYEVQDXPEfkuJSRAYkok0cuYIEAaogp\\u002fhjf9P58rAHymzQtAdjQO9bsIJ0AEyTuHMgQZQMfw2M9isSZAyxKdZRYBHEAJHEPfYQPXv960dGCUgxhA5rFmZJCjIkDPDfIfd44cQPN8\\u002fmJT+tS\\u002f0ZLH0\\u002fITIECGIXL6ek4XQA==\"},\"type\":\"scatter\"},{\"hoverinfo\":\"skip\",\"mode\":\"text\",\"showlegend\":false,\"text\":[],\"textfont\":{\"color\":\"black\",\"size\":12},\"textposition\":\"top center\",\"x\":[],\"y\":[],\"type\":\"scatter\"},{\"customdata\":[[0,\"IL21R\"],[0,\"IL7\"],[0,\"IL12A\"],[0,\"CRLF2\"],[0,\"STAT4\"]],\"hovertemplate\":\"Cluster %{customdata[0]}: %{customdata[1]}\\u003cbr\\u003eapprovedSymbol: %{customdata[2]}\\u003cextra\\u003e\\u003c\\u002fextra\\u003e\",\"marker\":{\"color\":\"#a17569\",\"line\":{\"width\":0},\"opacity\":0.7,\"size\":5},\"mode\":\"markers\",\"showlegend\":true,\"x\":{\"dtype\":\"f8\",\"bdata\":\"rcH7qlwAKECDUrRyL4gnQLoT7L\\u002fO4SdAE38Udeb+J0Cyu0BJgS0oQA==\"},\"y\":{\"dtype\":\"f8\",\"bdata\":\"uW3fo\\u002f5eOkBK0F\\u002foEZs6QK7YX3ZPbjpAie3uAbpfOkDICn4bYkg6QA==\"},\"type\":\"scatter\"},{\"hoverinfo\":\"skip\",\"mode\":\"text\",\"showlegend\":false,\"text\":[],\"textfont\":{\"color\":\"black\",\"size\":12},\"textposition\":\"top center\",\"x\":[],\"y\":[],\"type\":\"scatter\"},{\"customdata\":[[1,\"ELF3\"],[1,\"RAP1GDS1\"],[1,\"MSI2\"],[1,\"RRAS2\"],[1,\"BMPR1A\"],[1,\"NF2\"],[1,\"ARHGEF10\"],[1,\"RHOH\"],[1,\"ARHGEF10L\"],[1,\"LATS2\"],[1,\"SPEN\"],[1,\"SUFU\"],[1,\"SPOP\"],[1,\"IKZF1\"],[1,\"GLI1\"]],\"hovertemplate\":\"Cluster %{customdata[0]}: %{customdata[1]}\\u003cbr\\u003eapprovedSymbol: %{customdata[2]}\\u003cextra\\u003e\\u003c\\u002fextra\\u003e\",\"marker\":{\"color\":\"#005659\",\"line\":{\"width\":0},\"opacity\":0.7,\"size\":5},\"mode\":\"markers\",\"showlegend\":true,\"x\":{\"dtype\":\"f8\",\"bdata\":\"+5XOh2fhIEAKaY1BJxwfQKPLm8O12h5AbeNPVDZMIEB8urpjsY0gQDT3kPC9fx5A6Zct\\u002flvWH0AOLbKd7z8fQBUfn5CdTyBAGxL3WPooIEDTTs3lBnsgQEVj7e9sRyBAfmfFgaF4HkAgJAuYwBUhQAHs7eBxCx9A\"},\"y\":{\"dtype\":\"f8\",\"bdata\":\"wW7YtiijQ0ANMzSeCPhDQGKdKt8zAERA32xzY3rIQ0BAwcWKGrhDQOtunuqQC0RAIT6w47\\u002fgQ0BBZfz7jPNDQOiHEcKjx0NAhpM0f0zRQ0AiwyreyLxDQOik942vyUNAlZ9U+3QMREDy0k1iEJZDQDJ3LSEf+kNA\"},\"type\":\"scatter\"},{\"hoverinfo\":\"skip\",\"mode\":\"text\",\"showlegend\":false,\"text\":[],\"textfont\":{\"color\":\"black\",\"size\":12},\"textposition\":\"top center\",\"x\":[],\"y\":[],\"type\":\"scatter\"},{\"customdata\":[[2,\"PNMT\"],[2,\"TIMMDC1\"],[2,\"NDUFB1\"],[2,\"SDHC\"],[2,\"OAT\"],[2,\"DDC\"],[2,\"FH\"],[2,\"IDH2\"],[2,\"GPHN\"],[2,\"SDHA\"]],\"hovertemplate\":\"Cluster %{customdata[0]}: %{customdata[1]}\\u003cbr\\u003eapprovedSymbol: %{customdata[2]}\\u003cextra\\u003e\\u003c\\u002fextra\\u003e\",\"marker\":{\"color\":\"#fdf490\",\"line\":{\"width\":0},\"opacity\":0.7,\"size\":5},\"mode\":\"markers\",\"showlegend\":true,\"x\":{\"dtype\":\"f8\",\"bdata\":\"r7DgfsBrIMBCBvLs8l0fwDNPrimQSSDA7ArHPafaHMBvtyQH7JogwMLbgxCQ9yDAaHbdW5FIHsBu2\\u002feov84dwJpgONcwWyDAXUdmP5zhHMA=\"},\"y\":{\"dtype\":\"f8\",\"bdata\":\"raOqCaLOEsA4MSQnE4cTwNulDYelwRHA2xMktrsXEMBM\\u002f5JUpmgSwDaQLjatdBPA4Xmp2JgnEcBKDW0ANjARwGm5faAmtBHAXmQCfo30D8A=\"},\"type\":\"scatter\"},{\"hoverinfo\":\"skip\",\"mode\":\"text\",\"showlegend\":false,\"text\":[],\"textfont\":{\"color\":\"black\",\"size\":12},\"textposition\":\"top center\",\"x\":[],\"y\":[],\"type\":\"scatter\"},{\"customdata\":[[3,\"SULT1A2\"],[3,\"ACSL6\"],[3,\"GMPS\"],[3,\"CHST11\"],[3,\"STARD3\"],[3,\"LHPP\"],[3,\"NT5C2\"],[3,\"SULT1A1\"],[3,\"CYP2C8\"],[3,\"PRKD1\"]],\"hovertemplate\":\"Cluster %{customdata[0]}: %{customdata[1]}\\u003cbr\\u003eapprovedSymbol: %{customdata[2]}\\u003cextra\\u003e\\u003c\\u002fextra\\u003e\",\"marker\":{\"color\":\"#0774d8\",\"line\":{\"width\":0},\"opacity\":0.7,\"size\":5},\"mode\":\"markers\",\"showlegend\":true,\"x\":{\"dtype\":\"f8\",\"bdata\":\"cJxvn7Af679Xy0Lg7ebMv6DL7cEYz9i\\u002f5onOz2CVs7+5UPnX8srpvwlrCDMShuS\\u002f3hRem\\u002fB\\u002f27\\u002fZ+AJptbbjv4vdPqvMlNm\\u002fasSKIr3L1b8=\"},\"y\":{\"dtype\":\"f8\",\"bdata\":\"sIwN3ewnJsDWNVoO9OgkwPYn8bkTPCXAH9YbtcKcJMB1riglBBMmwF4T0hqDviXAP+YDAp1RJcARxHk4gbElwJDXg0nxQSXAguLHmLsuJcA=\"},\"type\":\"scatter\"},{\"hoverinfo\":\"skip\",\"mode\":\"text\",\"showlegend\":false,\"text\":[],\"textfont\":{\"color\":\"black\",\"size\":12},\"textposition\":\"top center\",\"x\":[],\"y\":[],\"type\":\"scatter\"},{\"customdata\":[[4,\"CRTC3\"],[4,\"CREB3L2\"],[4,\"CRTC1\"],[4,\"HMGA2\"],[4,\"FLCN\"]],\"hovertemplate\":\"Cluster %{customdata[0]}: %{customdata[1]}\\u003cbr\\u003eapprovedSymbol: %{customdata[2]}\\u003cextra\\u003e\\u003c\\u002fextra\\u003e\",\"marker\":{\"color\":\"#6b004f\",\"line\":{\"width\":0},\"opacity\":0.7,\"size\":5},\"mode\":\"markers\",\"showlegend\":true,\"x\":{\"dtype\":\"f8\",\"bdata\":\"cRhxpq6BDEC6zztf\\u002fWkOQG+JEuPrQQ9A3mrnRTe8D0B6tlibEOQNQA==\"},\"y\":{\"dtype\":\"f8\",\"bdata\":\"xohEoWUlPUD8HYoCfWI9QMcqpWd6fT1AzZIANbWMPUA2sFWCxVE9QA==\"},\"type\":\"scatter\"},{\"hoverinfo\":\"skip\",\"mode\":\"text\",\"showlegend\":false,\"text\":[],\"textfont\":{\"color\":\"black\",\"size\":12},\"textposition\":\"top center\",\"x\":[],\"y\":[],\"type\":\"scatter\"},{\"customdata\":[[5,\"BCL9\"],[5,\"WIF1\"],[5,\"RSPO2\"],[5,\"ZNRF3\"],[5,\"BCL9L\"]],\"hovertemplate\":\"Cluster %{customdata[0]}: %{customdata[1]}\\u003cbr\\u003eapprovedSymbol: %{customdata[2]}\\u003cextra\\u003e\\u003c\\u002fextra\\u003e\",\"marker\":{\"color\":\"#ff7ed1\",\"line\":{\"width\":0},\"opacity\":0.7,\"size\":5},\"mode\":\"markers\",\"showlegend\":true,\"x\":{\"dtype\":\"f8\",\"bdata\":\"2xfQC3cu8j+TOgFNhI33P\\u002fVBO0ygjfQ\\u002f\\u002fhB25Q428z+CV8udmSD5Pw==\"},\"y\":{\"dtype\":\"f8\",\"bdata\":\"QukLIefJOkBvY7Mj1R87QDLJyFnY7zpA66wW2GPaOkActFcfDzk7QA==\"},\"type\":\"scatter\"},{\"hoverinfo\":\"skip\",\"mode\":\"text\",\"showlegend\":false,\"text\":[],\"textfont\":{\"color\":\"black\",\"size\":12},\"textposition\":\"top center\",\"x\":[],\"y\":[],\"type\":\"scatter\"},{\"customdata\":[[6,\"KAT7\"],[6,\"ARID5B\"],[6,\"SETD2\"],[6,\"NSD3\"],[6,\"NSD1\"],[6,\"KDM5C\"],[6,\"KAT6B\"]],\"hovertemplate\":\"Cluster %{customdata[0]}: %{customdata[1]}\\u003cbr\\u003eapprovedSymbol: %{customdata[2]}\\u003cextra\\u003e\\u003c\\u002fextra\\u003e\",\"marker\":{\"color\":\"#0000dd\",\"line\":{\"width\":0},\"opacity\":0.7,\"size\":5},\"mode\":\"markers\",\"showlegend\":true,\"x\":{\"dtype\":\"f8\",\"bdata\":\"0QfL2NCNIsDEmPT3UggjwLwft18+ISLAvwzGiERJIsAEc\\u002fT4vQUiwHwNwXEZ3yLAxRouck+PIsA=\"},\"y\":{\"dtype\":\"f8\",\"bdata\":\"hgSMLm8+IsC9VGzM67giwCAKZkzB0iHAjs2OVN\\u002f5IcB+i06WWrchwH2VfOwukCLAe\\u002fXx0Hc\\u002fIsA=\"},\"type\":\"scatter\"},{\"hoverinfo\":\"skip\",\"mode\":\"text\",\"showlegend\":false,\"text\":[],\"textfont\":{\"color\":\"black\",\"size\":12},\"textposition\":\"top center\",\"x\":[],\"y\":[],\"type\":\"scatter\"},{\"customdata\":[[7,\"CCR7\"],[7,\"GRM3\"],[7,\"SMO\"],[7,\"ACKR3\"],[7,\"RGS7\"],[7,\"PTCH1\"],[7,\"TSHR\"],[7,\"CXCR5\"],[7,\"CCL11\"],[7,\"CCR6\"],[7,\"CCL7\"],[7,\"CYSLTR2\"],[7,\"NBEA\"],[7,\"PPP1R1B\"]],\"hovertemplate\":\"Cluster %{customdata[0]}: %{customdata[1]}\\u003cbr\\u003eapprovedSymbol: %{customdata[2]}\\u003cextra\\u003e\\u003c\\u002fextra\\u003e\",\"marker\":{\"color\":\"#bf03b8\",\"line\":{\"width\":0},\"opacity\":0.7,\"size\":5},\"mode\":\"markers\",\"showlegend\":true,\"x\":{\"dtype\":\"f8\",\"bdata\":\"CeI8nMCEPEB3hxQDJMY7QJqV7UPeZjpAJNV3flGGO0BuisdFtUA7QN+I7lnXcDpANIC3QIIGPECE1VjC2pg8QFMGDmjpVjtA5bhTOliTPEDU7lcBvpM7QP2k2qfjzTtAS4+mejKfOkBfYFYo0nU8QA==\"},\"y\":{\"dtype\":\"f8\",\"bdata\":\"3795ceLbJ0AWURN9PlInQPOtD+uNSihAgem0boPSJ0BcVmEzwO0nQGACt+7meShAAJF++zoIKEB9PPTdrVwnQJhO6zaoTShAo5Ol1vvdJ0BI4uXpXBEoQCOimLwBTidAxlG5iVr6J0DF506w\\u002fxonQA==\"},\"type\":\"scatter\"},{\"hoverinfo\":\"skip\",\"mode\":\"text\",\"showlegend\":false,\"text\":[],\"textfont\":{\"color\":\"black\",\"size\":12},\"textposition\":\"top center\",\"x\":[],\"y\":[],\"type\":\"scatter\"},{\"customdata\":[[8,\"HOXA11\"],[8,\"CDX2\"],[8,\"EBF1\"],[8,\"FLI1\"],[8,\"FOXP1\"],[8,\"MAFB\"],[8,\"PAX8\"],[8,\"CEBPE\"],[8,\"CTCF\"],[8,\"CTNNA2\"],[8,\"PAX7\"],[8,\"SIX1\"],[8,\"POU5F1\"]],\"hovertemplate\":\"Cluster %{customdata[0]}: %{customdata[1]}\\u003cbr\\u003eapprovedSymbol: %{customdata[2]}\\u003cextra\\u003e\\u003c\\u002fextra\\u003e\",\"marker\":{\"color\":\"#8e7900\",\"line\":{\"width\":0},\"opacity\":0.7,\"size\":5},\"mode\":\"markers\",\"showlegend\":true,\"x\":{\"dtype\":\"f8\",\"bdata\":\"ZW8p54udM0CSkbOwp7UzQJRQ+kLItTNAzjP2JRvjM0BVNNb+zsYzQAiOy7ipyTNAbosyG2RyM0C1\\u002fpYA\\u002fKszQIli8gaYoTNA7PfEOlVmM0DEX5M16oEzQIYA4NizszNAEkpfCDm\\u002fM0A=\"},\"y\":{\"dtype\":\"f8\",\"bdata\":\"BFq6gm3EGMB2KFSBpGkZwADnIEMiMBDA3lhQGJRJEsB6RmzBnDoUwONJHMOtzAvAENKunYMaGsAANiBCXHESwIgnYOBeHg3AvcKC+wH\\u002fEMDuCRLb3eMZwDBoIQGjMxjAmQ6dnncLFMA=\"},\"type\":\"scatter\"},{\"hoverinfo\":\"skip\",\"mode\":\"text\",\"showlegend\":false,\"text\":[],\"textfont\":{\"color\":\"black\",\"size\":12},\"textposition\":\"top center\",\"x\":[],\"y\":[],\"type\":\"scatter\"},{\"customdata\":[[9,\"SHTN1\"],[9,\"EPHA3\"],[9,\"ROBO2\"],[9,\"EPHA7\"],[9,\"EZR\"]],\"hovertemplate\":\"Cluster %{customdata[0]}: %{customdata[1]}\\u003cbr\\u003eapprovedSymbol: %{customdata[2]}\\u003cextra\\u003e\\u003c\\u002fextra\\u003e\",\"marker\":{\"color\":\"#00fdcf\",\"line\":{\"width\":0},\"opacity\":0.7,\"size\":5},\"mode\":\"markers\",\"showlegend\":true,\"x\":{\"dtype\":\"f8\",\"bdata\":\"yE4ufDNg9j8wgsZMon73P8yyJ4HN2fg\\u002fgiUNJN5w+D8T5RyGoPT6Pw==\"},\"y\":{\"dtype\":\"f8\",\"bdata\":\"gv18APdhDcBpp4u5EPANwBxdpbvrnA7AYH5dPHJqDsCEpRU6CqsPwA==\"},\"type\":\"scatter\"},{\"hoverinfo\":\"skip\",\"mode\":\"text\",\"showlegend\":false,\"text\":[],\"textfont\":{\"color\":\"black\",\"size\":12},\"textposition\":\"top center\",\"x\":[],\"y\":[],\"type\":\"scatter\"},{\"customdata\":[[10,\"ARHGAP26\"],[10,\"GOPC\"],[10,\"ARHGAP31\"],[10,\"ARHGAP5\"],[10,\"FNBP1\"]],\"hovertemplate\":\"Cluster %{customdata[0]}: %{customdata[1]}\\u003cbr\\u003eapprovedSymbol: %{customdata[2]}\\u003cextra\\u003e\\u003c\\u002fextra\\u003e\",\"marker\":{\"color\":\"#790000\",\"line\":{\"width\":0},\"opacity\":0.7,\"size\":5},\"mode\":\"markers\",\"showlegend\":true,\"x\":{\"dtype\":\"f8\",\"bdata\":\"oG6gwDspFUBUoSafw8kUQEExDR4BDxZA376z4sDoFUBHO2743bQVQA==\"},\"y\":{\"dtype\":\"f8\",\"bdata\":\"bCHIQQkHMkAydOygEu8xQEd3EDtTQDJAUnx8QnY2MkCkiAyreCsyQA==\"},\"type\":\"scatter\"},{\"hoverinfo\":\"skip\",\"mode\":\"text\",\"showlegend\":false,\"text\":[],\"textfont\":{\"color\":\"black\",\"size\":12},\"textposition\":\"top center\",\"x\":[],\"y\":[],\"type\":\"scatter\"},{\"customdata\":[[11,\"QKI\"],[11,\"KIAA1549\"],[11,\"WDCP\"],[11,\"BIRC6\"],[11,\"HIP1\"],[11,\"PPFIBP1\"],[11,\"SND1\"],[11,\"PRF1\"],[11,\"FAM131B\"]],\"hovertemplate\":\"Cluster %{customdata[0]}: %{customdata[1]}\\u003cbr\\u003eapprovedSymbol: %{customdata[2]}\\u003cextra\\u003e\\u003c\\u002fextra\\u003e\",\"marker\":{\"color\":\"#8c3bff\",\"line\":{\"width\":0},\"opacity\":0.7,\"size\":5},\"mode\":\"markers\",\"showlegend\":true,\"x\":{\"dtype\":\"f8\",\"bdata\":\"f73Cgvs1M0AKMCx\\u002fvjkzQKkXfJqTFzNApkdTPZlvM0CwO9154kUzQFdAoZ4+fjNAIeS8\\u002f48rM0BS0y6mmfIyQE\\u002fltKfklDNA\"},\"y\":{\"dtype\":\"f8\",\"bdata\":\"s+pztRVTJEBlqIqp9PMiQD0Og\\u002fkrnCNAVyWRfZDlI0Cx\\u002fWSMD3MjQIwwRbk0LiRA6C0e3nO4I0Dr4jYawEsjQEJ8YMd\\u002fKSNA\"},\"type\":\"scatter\"},{\"hoverinfo\":\"skip\",\"mode\":\"text\",\"showlegend\":false,\"text\":[],\"textfont\":{\"color\":\"black\",\"size\":12},\"textposition\":\"top center\",\"x\":[],\"y\":[],\"type\":\"scatter\"},{\"customdata\":[[12,\"EIF1AX\"],[12,\"EIF3C\"],[12,\"PABPC1\"],[12,\"MITF\"],[12,\"EIF4A2\"],[12,\"ANK1\"]],\"hovertemplate\":\"Cluster %{customdata[0]}: %{customdata[1]}\\u003cbr\\u003eapprovedSymbol: %{customdata[2]}\\u003cextra\\u003e\\u003c\\u002fextra\\u003e\",\"marker\":{\"color\":\"#95b577\",\"line\":{\"width\":0},\"opacity\":0.7,\"size\":5},\"mode\":\"markers\",\"showlegend\":true,\"x\":{\"dtype\":\"f8\",\"bdata\":\"MOtql9ti8j\\u002fpjN5f82D3P+zx54DJkvw\\u002f\\u002f0F\\u002f\\u002fADvCUA4uYTotT72P0RjN32HnARA\"},\"y\":{\"dtype\":\"f8\",\"bdata\":\"DcNHxJT4JECbAMPy5+skQBTQRNjw9CNAgIC1atcUJUBBSuza3iYkQNmXbDzYYiNA\"},\"type\":\"scatter\"},{\"hoverinfo\":\"skip\",\"mode\":\"text\",\"showlegend\":false,\"text\":[],\"textfont\":{\"color\":\"black\",\"size\":12},\"textposition\":\"top center\",\"x\":[],\"y\":[],\"type\":\"scatter\"},{\"customdata\":[[13,\"EXT1\"],[13,\"SLC22A5\"],[13,\"SLC24A4\"],[13,\"SLC26A3\"],[13,\"SLC34A2\"]],\"hovertemplate\":\"Cluster %{customdata[0]}: %{customdata[1]}\\u003cbr\\u003eapprovedSymbol: %{customdata[2]}\\u003cextra\\u003e\\u003c\\u002fextra\\u003e\",\"marker\":{\"color\":\"#ff7266\",\"line\":{\"width\":0},\"opacity\":0.7,\"size\":5},\"mode\":\"markers\",\"showlegend\":true,\"x\":{\"dtype\":\"f8\",\"bdata\":\"tsB5zJue6T+pS0pqNsnNP7bNFSQES6q\\u002fm0SUYaLi0b9hQS8WZTrLvw==\"},\"y\":{\"dtype\":\"f8\",\"bdata\":\"arY8IBp3F0B2d1OA3hoWQGPh2j8F1hRAkGeXb31IFUALXYlA9T8VQA==\"},\"type\":\"scatter\"},{\"hoverinfo\":\"skip\",\"mode\":\"text\",\"showlegend\":false,\"text\":[],\"textfont\":{\"color\":\"black\",\"size\":12},\"textposition\":\"top center\",\"x\":[],\"y\":[],\"type\":\"scatter\"},{\"customdata\":[[14,\"CEBPA\"],[14,\"BCL7A\"],[14,\"DICER1\"],[14,\"SS18\"],[14,\"KDM6A\"],[14,\"SS18L1\"]],\"hovertemplate\":\"Cluster %{customdata[0]}: %{customdata[1]}\\u003cbr\\u003eapprovedSymbol: %{customdata[2]}\\u003cextra\\u003e\\u003c\\u002fextra\\u003e\",\"marker\":{\"color\":\"#bcb6ff\",\"line\":{\"width\":0},\"opacity\":0.7,\"size\":5},\"mode\":\"markers\",\"showlegend\":true,\"x\":{\"dtype\":\"f8\",\"bdata\":\"LcHznD5sFkDQXiKDgbQUQIz34\\u002fbLFxhA7Ggc6ndBF0DM+Rhiq9oUQF3Cobd4mBdA\"},\"y\":{\"dtype\":\"f8\",\"bdata\":\"u7iNBvDWLEDtEP+wpe8sQM2tEFZjGSxAx2eyf54aLUCHMenvpUgsQOZAD7Vt2CxA\"},\"type\":\"scatter\"},{\"hoverinfo\":\"skip\",\"mode\":\"text\",\"showlegend\":false,\"text\":[],\"textfont\":{\"color\":\"black\",\"size\":12},\"textposition\":\"top center\",\"x\":[],\"y\":[],\"type\":\"scatter\"},{\"customdata\":[[15,\"ABL2\"],[15,\"PBX1\"],[15,\"ARHGEF12\"],[15,\"ACVR1B\"],[15,\"SRGAP3\"],[15,\"FOXA1\"],[15,\"MYOD1\"],[15,\"ACVR2A\"],[15,\"MYH11\"]],\"hovertemplate\":\"Cluster %{customdata[0]}: %{customdata[1]}\\u003cbr\\u003eapprovedSymbol: %{customdata[2]}\\u003cextra\\u003e\\u003c\\u002fextra\\u003e\",\"marker\":{\"color\":\"#018700\",\"line\":{\"width\":0},\"opacity\":0.7,\"size\":5},\"mode\":\"markers\",\"showlegend\":true,\"x\":{\"dtype\":\"f8\",\"bdata\":\"skY9RKOLHkAhkEsceRggQO8dNSbE3BpAUtZvJqZzIEDd2EcCaJccQOAT61T51iBAodl1b0VyIEDkvtU6cQkhQKlorP2d\\u002fRpA\"},\"y\":{\"dtype\":\"f8\",\"bdata\":\"6l28H7fnKUARb51\\u002fu1AqQGa8rfTanChAJemayTerKkCAD167tEkpQOEoeXWOIStAtfl\\u002f1ZEDK0D+YyE6BLYqQKRyE7U07yhA\"},\"type\":\"scatter\"},{\"hoverinfo\":\"skip\",\"mode\":\"text\",\"showlegend\":false,\"text\":[],\"textfont\":{\"color\":\"black\",\"size\":12},\"textposition\":\"top center\",\"x\":[],\"y\":[],\"type\":\"scatter\"},{\"customdata\":[[16,\"ERCC2\"],[16,\"PMS2\"],[16,\"MSH2\"],[16,\"ERCC3\"],[16,\"ELL\"]],\"hovertemplate\":\"Cluster %{customdata[0]}: %{customdata[1]}\\u003cbr\\u003eapprovedSymbol: %{customdata[2]}\\u003cextra\\u003e\\u003c\\u002fextra\\u003e\",\"marker\":{\"color\":\"#edb8b8\",\"line\":{\"width\":0},\"opacity\":0.7,\"size\":5},\"mode\":\"markers\",\"showlegend\":true,\"x\":{\"dtype\":\"f8\",\"bdata\":\"IH7+e\\u002fAyJkBVLlT+tdQmQIJ0sWmlICZAFoielEndJkAbTMPwEQknQA==\"},\"y\":{\"dtype\":\"f8\",\"bdata\":\"n2RhPg80EEC8CRkjbTYSQGyOGOL9RRFAQtKnVfTHD0DxaD5CKBIQQA==\"},\"type\":\"scatter\"},{\"hoverinfo\":\"skip\",\"mode\":\"text\",\"showlegend\":false,\"text\":[],\"textfont\":{\"color\":\"black\",\"size\":12},\"textposition\":\"top center\",\"x\":[],\"y\":[],\"type\":\"scatter\"},{\"customdata\":[[17,\"PBRM1\"],[17,\"SMARCE1\"],[17,\"KMT2C\"],[17,\"SETD1B\"],[17,\"ARID2\"],[17,\"GATA2\"],[17,\"SMARCB1\"],[17,\"ARID1B\"],[17,\"KMT2A\"]],\"hovertemplate\":\"Cluster %{customdata[0]}: %{customdata[1]}\\u003cbr\\u003eapprovedSymbol: %{customdata[2]}\\u003cextra\\u003e\\u003c\\u002fextra\\u003e\",\"marker\":{\"color\":\"#97ff00\",\"line\":{\"width\":0},\"opacity\":0.7,\"size\":5},\"mode\":\"markers\",\"showlegend\":true,\"x\":{\"dtype\":\"f8\",\"bdata\":\"uvWaHhS0CUBoIQGjy1MQQNYCe0ykhBFA4yiKoeYVCkBFZ5lFKDYLQPb95aRBew9Au5o8ZTWdD0A4QlB\\u002fBwAQQJylZDkJdQ5A\"},\"y\":{\"dtype\":\"f8\",\"bdata\":\"pPs5BfnhKkBEboYb8OkoQO\\u002fH7ZdPDipArdug9lvDKkBFKowtBHkqQB4YQPhQqilARu9UwD0fKUA5ZAPpYtspQNI2\\u002fkRliypA\"},\"type\":\"scatter\"},{\"hoverinfo\":\"skip\",\"mode\":\"text\",\"showlegend\":false,\"text\":[],\"textfont\":{\"color\":\"black\",\"size\":12},\"textposition\":\"top center\",\"x\":[],\"y\":[],\"type\":\"scatter\"},{\"customdata\":[[18,\"FANCC\"],[18,\"FANCD2\"],[18,\"CNOT3\"],[18,\"TAL1\"],[18,\"DEK\"],[18,\"ZNF521\"]],\"hovertemplate\":\"Cluster %{customdata[0]}: %{customdata[1]}\\u003cbr\\u003eapprovedSymbol: %{customdata[2]}\\u003cextra\\u003e\\u003c\\u002fextra\\u003e\",\"marker\":{\"color\":\"#5d7e66\",\"line\":{\"width\":0},\"opacity\":0.7,\"size\":5},\"mode\":\"markers\",\"showlegend\":true,\"x\":{\"dtype\":\"f8\",\"bdata\":\"I7w9CAGZLUCdZ+xLNoYtQFCpEmVvgSxAWmPQCaHzK0BaZDvfT\\u002f0rQLLZkeo7vytA\"},\"y\":{\"dtype\":\"f8\",\"bdata\":\"loIkok6fFkB6bMuAs+QWQCDtf4C1QhdAN\\u002fnSgOZwGECDTggddBEZQFUWhV0UzRdA\"},\"type\":\"scatter\"},{\"hoverinfo\":\"skip\",\"mode\":\"text\",\"showlegend\":false,\"text\":[],\"textfont\":{\"color\":\"black\",\"size\":12},\"textposition\":\"top center\",\"x\":[],\"y\":[],\"type\":\"scatter\"},{\"customdata\":[[19,\"ZFHX3\"],[19,\"LMO2\"],[19,\"PPM1D\"],[19,\"BTG2\"],[19,\"CDK12\"],[19,\"PAX5\"],[19,\"MAF\"],[19,\"LMO1\"],[19,\"NDRG1\"],[19,\"NR4A3\"]],\"hovertemplate\":\"Cluster %{customdata[0]}: %{customdata[1]}\\u003cbr\\u003eapprovedSymbol: %{customdata[2]}\\u003cextra\\u003e\\u003c\\u002fextra\\u003e\",\"marker\":{\"color\":\"#ffa52f\",\"line\":{\"width\":0},\"opacity\":0.7,\"size\":5},\"mode\":\"markers\",\"showlegend\":true,\"x\":{\"dtype\":\"f8\",\"bdata\":\"25a32Q7MDsApeuBjsIIQwNBiKZKvxAzAQyCXOPJQL0CDaRg+IoYuQCTH51\\u002fcxw3AxdBFnn8eEcCYwoNm1z0RwFggelImDS9AnpBC\\u002fj5gEMA=\"},\"y\":{\"dtype\":\"f8\",\"bdata\":\"OEpenWMoIUAuH0lJD6siQP3dO2pMmCFARga5izDVE0DzPLg7a3cVQFhv1ArTZyFAP8kdNpGZIkD8pUV9kosiQKHlL+NcWRRAZf7RN2naIUA=\"},\"type\":\"scatter\"},{\"hoverinfo\":\"skip\",\"mode\":\"text\",\"showlegend\":false,\"text\":[],\"textfont\":{\"color\":\"black\",\"size\":12},\"textposition\":\"top center\",\"x\":[],\"y\":[],\"type\":\"scatter\"},{\"customdata\":[[20,\"ZNF300\"],[20,\"ZNF429\"],[20,\"BTG1\"],[20,\"DGCR8\"],[20,\"ZNF479\"],[20,\"GRIN2A\"]],\"hovertemplate\":\"Cluster %{customdata[0]}: %{customdata[1]}\\u003cbr\\u003eapprovedSymbol: %{customdata[2]}\\u003cextra\\u003e\\u003c\\u002fextra\\u003e\",\"marker\":{\"color\":\"#573b00\",\"line\":{\"width\":0},\"opacity\":0.7,\"size\":5},\"mode\":\"markers\",\"showlegend\":true,\"x\":{\"dtype\":\"f8\",\"bdata\":\"pdsSueCcKMBgrkUL0C4pwJTBUfLqBCnAAMgJE0bzKMBbCd0lcYYowAEXZMvypSnA\"},\"y\":{\"dtype\":\"f8\",\"bdata\":\"BqBRuvRfKUBSRIZVvPEpQPCmW3aIxylAK4arAyC2KUBvKlJhbEkpQPCiryDNaCpA\"},\"type\":\"scatter\"},{\"hoverinfo\":\"skip\",\"mode\":\"text\",\"showlegend\":false,\"text\":[],\"textfont\":{\"color\":\"black\",\"size\":12},\"textposition\":\"top center\",\"x\":[],\"y\":[],\"type\":\"scatter\"},{\"customdata\":[[21,\"NUP98\"],[21,\"PPP2R1A\"],[21,\"AR\"],[21,\"CD28\"],[21,\"ABL1\"],[21,\"CCND1\"],[21,\"CBL\"],[21,\"GSK3B\"],[21,\"JAK2\"],[21,\"PDGFRB\"],[21,\"MDM2\"],[21,\"GNAQ\"],[21,\"FBXW7\"],[21,\"EGFR\"],[21,\"RB1\"],[21,\"BIRC3\"],[21,\"PPARG\"],[21,\"PIP4K2A\"],[21,\"RET\"],[21,\"TRIM33\"],[21,\"PRKAR1A\"],[21,\"APC\"],[21,\"STAG1\"],[21,\"SMAD2\"],[21,\"STAT5B\"],[21,\"NOTCH1\"],[21,\"PIK3CB\"],[21,\"MEN1\"],[21,\"PIK3CA\"],[21,\"PTEN\"],[21,\"RAD17\"],[21,\"RPN1\"],[21,\"PRKCB\"],[21,\"ERBB3\"],[21,\"RMI2\"],[21,\"NTRK3\"],[21,\"TRRAP\"],[21,\"MAP2K2\"],[21,\"ZEB1\"],[21,\"DNM2\"],[21,\"NPM1\"],[21,\"ATM\"],[21,\"RAD50\"],[21,\"SRC\"],[21,\"NUP214\"],[21,\"MTOR\"],[21,\"CTNNA1\"],[21,\"FOXO1\"],[21,\"ATR\"],[21,\"HGF\"],[21,\"NR3C2\"],[21,\"COX6C\"],[21,\"FAS\"],[21,\"NCOA2\"],[21,\"PML\"],[21,\"RAD21\"],[21,\"SOX2\"],[21,\"BRCA1\"],[21,\"STK11\"],[21,\"TPR\"],[21,\"PIK3R1\"],[21,\"BMI1\"],[21,\"EZH2\"],[21,\"PDGFRA\"],[21,\"FLT3\"],[21,\"TSC2\"],[21,\"FGFR3\"],[21,\"ITGAV\"],[21,\"MLH1\"],[21,\"RHOA\"],[21,\"EPS15\"],[21,\"TP53\"],[21,\"BLM\"],[21,\"CLTC\"],[21,\"RUNX1\"],[21,\"CXCR4\"],[21,\"ERBB2\"],[21,\"TSC1\"],[21,\"MAML2\"],[21,\"WRN\"],[21,\"SMC1A\"],[21,\"MET\"],[21,\"DAXX\"],[21,\"AKT1\"],[21,\"GATA3\"],[21,\"NRG1\"],[21,\"ARNT\"],[21,\"CBFB\"],[21,\"CD80\"],[21,\"JUN\"],[21,\"CREBBP\"],[21,\"FGFR2\"],[21,\"CCNE1\"],[21,\"BRAF\"],[21,\"AXIN1\"],[21,\"PRDM1\"],[21,\"PRKACA\"],[21,\"CDK6\"],[21,\"GLS\"],[21,\"PDGFB\"],[21,\"PTPN6\"],[21,\"TP63\"],[21,\"NFKB1\"],[21,\"NRAS\"],[21,\"CTNND1\"],[21,\"DDX5\"],[21,\"BCL2\"],[21,\"CDC73\"],[21,\"LMNA\"],[21,\"TCF7L2\"],[21,\"DDIT3\"],[21,\"ABI1\"],[21,\"MDM4\"],[21,\"RARA\"],[21,\"LEF1\"],[21,\"CDKN1B\"],[21,\"CDH1\"],[21,\"CREB1\"],[21,\"RSPO3\"],[21,\"COL1A1\"],[21,\"NOTCH2\"],[21,\"FOXO4\"],[21,\"MYB\"],[21,\"SUZ12\"],[21,\"BAX\"],[21,\"TBL1XR1\"],[21,\"CCNC\"],[21,\"WWTR1\"],[21,\"ESR1\"],[21,\"CDKN2B\"],[21,\"KRAS\"],[21,\"KAT6A\"],[21,\"RANBP2\"],[21,\"H3-3A\"],[21,\"NCOR1\"],[21,\"ATRX\"],[21,\"CHD4\"],[21,\"HSP90AA1\"],[21,\"USP9X\"],[21,\"XPO1\"],[21,\"ERBB4\"],[21,\"FGFR1\"],[21,\"NTRK2\"],[21,\"FGFR4\"],[21,\"ALK\"],[21,\"BTK\"],[21,\"MYC\"],[21,\"HRAS\"],[21,\"SKI\"],[21,\"STRN\"],[21,\"FOXO3\"],[21,\"KMT2D\"],[21,\"STAG2\"],[21,\"WT1\"],[21,\"TGFBR2\"],[21,\"PTPN11\"],[21,\"NCOR2\"],[21,\"BRCA2\"],[21,\"VAV1\"],[21,\"SMAD4\"],[21,\"DCTN1\"],[21,\"SGK1\"],[21,\"AKAP9\"],[21,\"EP300\"],[21,\"STAT3\"],[21,\"CCND3\"],[21,\"KIT\"],[21,\"LYN\"],[21,\"NBN\"],[21,\"BRIP1\"],[21,\"CLIP1\"],[21,\"GNAS\"],[21,\"CDKN2A\"],[21,\"PTK6\"],[21,\"YWHAE\"],[21,\"IKBKB\"]],\"hovertemplate\":\"Cluster %{customdata[0]}: %{customdata[1]}\\u003cbr\\u003eapprovedSymbol: %{customdata[2]}\\u003cextra\\u003e\\u003c\\u002fextra\\u003e\",\"marker\":{\"color\":\"#d60000\",\"line\":{\"width\":0},\"opacity\":0.7,\"size\":5},\"mode\":\"markers\",\"showlegend\":true,\"x\":{\"dtype\":\"f8\",\"bdata\":\"ccD4s2l28j9kWpvG9pocQJYmpaDbawVACqWKPQ9xF0A7qS9LO10iQAMGSZ9WcR1AtafknNhbG0BFJoUe1qgfQFPWyt8YxR5A+C3fn\\u002ffDE0CDE9GvrUckQNZz0vvGxxpAcjYdAdykEUB\\u002fbJIf8UMTQGdg5GVN7CNA4pLjTulgHEC+LmjGR6AMQLQiaqLPzxBAxhSscTYNHUCL4eoAiFsdQMNGWb+ZoBtAS\\u002fz2GieqCEAETCpk+CkPQM1bdR2qqQtAJv4o6sz9H0AQsiyY+EMcQGNH41C\\u002fGxxAlpaRek9VE0A8a7ddaJYeQCcLBKZ4UQtAjBTKwtfXKEAZVBuciNYhQCsyOiAJ0xxAlskVgyyIE0BW8Ubmkb8pQJLySd2EwRRAbKkoA6xqCkD60AX1LYMVQPUrnQ\\u002fPIiNAhZm2f2XJIkDEB3b8F\\u002fgBQK34hsJnmyZA+YOB595bKkDqIRrdQTwdQH8FHzmIzOs\\u002fyCjPvBy2GkC8BKc+kIwjQIFdTZ6yGhNAmSzuPzLFKEBZxAt9C+4TQKqF7YIcTwJAd\\u002fUqMjr4J0BXCoFc4gAlQJHwvb9BgxhAZdKVvsYkBkAlJNI2\\u002fhQQQH39tWG5Yh9A0v4HWKtGKUCV1AloIqwoQGgBf51APeg\\u002fEVX4M7ypH0C3w3C\\u002fja4MQPThWYKMYCFAlu1D3nJNFEBBYrt7gK4VQKadmssNJhVA3LdaJy4HGkCKdhVSfmIZQOylKQKcFiNAwnV7\\u002f9UZFkCD29rC86IiQMouvaIADh9Az582qtPhKUDEfHkB9ikaQMYzaOifOChALf2V37MfFEC5izBFudQTQFiqC3iZkSZAU01aAjptF0AMdO0L6BUqQBESDmIMuRBAArfu5qmeFEC\\u002faVWm85z+P5p9HqM8Kx9A4bKv4Y7cC0CiHuxeOGEUQF9\\u002fEp87iSZAeH5Rgv4aKUBYqgt4mTEXQD44RIHjnxpAXMe44uJ4G0Crvqn+97YYQDBK0F\\u002foqSNAIZBLHHkgGUB7Tnrf+EoRQGKBr+jWYyhAKlYNwtz2HUDQDriumCEjQNEGYAMirCRA26M33EcuFUCH26FhMcofQF5nQ\\u002f6ZySRAX38SnzsxHUAV5dL4haceQHpRu18F+CJAz7mAPGBDDUCCMWzegpYaQHEeTmA69RRAUMb4MHt5IkDD1mzlJe8dQAxaSMDoPiZABWrWviUtF0AtliL5SmAlQJT2Bl+YzAxA0h6KXTYdH0C\\u002fQ1GgT8wiQFYMVwdAfCFAkFUAQtpVGkDEn5dAAO8TQHUbecX4BQ1A3A94YABBFUBZfb\\u002fiutMRQD5LRoQ1JA5Aa2PshJd4IEAJFoczv6IkQEdVE0TdJx1AdzBinwB6HEAK1jibjuAoQHZPHhZqXRFA963WicsBJED8NsR4zesdQJChYweVGCpAbv1PWahw8D+ISiNm9qkgQMQKt3wkbRlAsKnzqPhvI0BYVMTpJAsYQOCFrdnKCx1A7Vv3oLFgB0BTJcreUo4YQBnnb0IhShRAIhVrXQ9THEDPvvIgPW0TQN7IPPIHwxhAc2a7Qh9cFkCXM4Bch88LQFpXu9wWCx5Amu0KfbBcH0AxCKwcWuwUQIiE7\\u002f0NGhZAhxQDJJpAFkA9dfbflCMdQNAKDFndihBAGeJYF7cBJEBm9Q63Q2MTQDApPj4h6xxAmQsBZfjED0BFZFjFGwkrQB0jNN1GThhAakMPxpnAC0C6oSk7\\u002fSghQHwOLEfIiChAAWpq2VrXI0DECyJS094ZQNgo6zcTcx1AGOqwwi3\\u002fIUCPpnoy\\u002f4gSQCzwFd16XR9APdNLjGWSKkCFPljGhg4qQD52FygpiCNA0yjJ32JCGkDRsBh1rX0jQEBqEyf3AyNAnWNA9nonIUBP\\u002fL25ZIEJQA==\"},\"y\":{\"dtype\":\"f8\",\"bdata\":\"L2zNVl6SH0DvPPGcLbAeQCGU93E0xx1A5xn7ko0fIkAQJVryeGoYQNJu9DEfkBZAPdLgtrYAJEAc0qjAyQYZQPpfrkULsB9A4srZO6M9I0C4I5wWvBgbQGLZzCGplRlAFS71PTQdGUAPstHehQofQHdoWIy6Nh1AkqaLXlcdHEAo8iTpmgkgQBv0pbc\\u002f5xlA+JRShmDrD0CG56ViY6YSQDvj++JSjRhA4s0avK8aF0AGZ\\u002fD3iwkXQA2reCPzYCFAi2zn+6nRJECk6Uce4x0VQPaaHhSUIiFAAfc8f9rwEEAkgQabOpciQDNslPWbuRpAxY1bzM89IEDRlnMprroSQHB6F+\\u002fHHRdAX7cIjPW9JEBF1ESfj0ofQORnI9dNASRAkBSRYRU3GEDSwmUVNjMcQEFkkSbeQQlASrIOR1e5EEBOQX42cl0fQMOj6NxIpB1AdAmH3uKhIEDshm2LMgseQJ3PJcHA0B5ACK9d2nDoHEDunME66UgMQGtsCr8v0RlA4IRCBByCIEDtDFNb6pghQIDSUKOQZB1Afu8lQ0RQHUCS8kndhNEVQIF2hxQDhBVA0TcOYaFDHkAF5KZhU0oWQGPQCaGDdhBA+W5OgLzqHUBdPBehM1wVQA3BFmDEux9AD39N1qjXI0DWc9L7xnccQFdgyOpWvxRAuFm8WBjSI0A9Kv7viJIkQF7Ymq28tBpACW05l+IqJUCDUN7H0XwTQGojjcAOYhZA1h72QgE7GUCXytsRTusSQM\\u002fAyMuaqBpA0gDeAgkSHkDaNFseEFUfQEXJ9QAnJRdAGAYsuYo1FUBXtDnObYIdQAJk6NhBBRdAWbz9Xq+tEUB40sJlFZYeQMAlAP+UshZAR8mrcww4GkBw7NlzmSoeQIkenV85nxZASRKEK6A4IUB5k9+ik9UlQINtxJPdvBtAFiqkoeu\\u002fFUBRMc7fhJYhQJeg0Px7yhxAh4bFqGs9FEAEWU+tvpolQPjGEAAccyBAmBO0yeGDJEBzB\\u002fvAnzsWQM8xIHu9SxdAi87o\\u002fTUfF0CHwmfr4DAeQODbTyGyWxRAPGh23VvJIUDWHvZCAeseQG5pNSTu4RZA1cW3wZp0G0AZV1wclQskQGoV\\u002faGZvxBAqhveYjSxGEA0uRgD65gWQDxb9toi7w5AiNhg4SRNHEBNLzGW6XcRQI4B2evdHxxAsf1kjA8LJUB\\u002f3lSkwvgbQBBbejTVKyBAMSjTaHJBEUAhHomXp7MgQHuYB\\u002fpV+gxAoDU\\u002f\\u002ftK6HUBinpW04jsPQF6CUx9I7iJAVZuknqqfEEDg2omSkFgbQNtugm+axiFA0hxZ+WUgFECXV663zWQVQDZYOEnzZxZARIvHoG6jFUBqwYu+ghwWQKU09oDUuRtAYMd\\u002fgSCoIEAFGJY\\u002f3xYjQDGxnv\\u002fDqhZA9u6P96p1IEA9Y1+y8eAVQD4jERrBdhZATYHMzqL3IkBnrbIAtygXQJxrmKHxvCBAEW+df7sIIEBuLqP9tF4TQLCuCtRiaCVAmN2Th4XCIkAF3smnxxYlQKyQ8pNqXyVAvymsVFDJI0DfWXFgKAYMQDNrKSDtjxRA\\u002fu4dNSakI0CKKx1icvkNQIszhjlBGyNAl2mgnuNAG0ARGVbxRmYSQOmcn+I4yBdAxATawpgZBUBElhY\\u002f11gbQOyi6IGPGSRAHw99dyvLG0DXbVD7reUgQCcW+IpujSBAaoe\\u002fJmsMIECH2XD9YP0aQPAyw0ZZbxdAyjSaXIzpI0A6lKEqpnIUQPOrOUAw+yFAgqj7AKRWGUCrPldbsf8YQMQihh3GxBxACTICKhx5IEBWM8bikmYfQBfyCG6kfCJA0ZZzKa4KGkDzABb59ZMbQCzVBbzMwCBAgjtQpzwKGEBov\\u002f+gP14HQA==\"},\"type\":\"scatter\"},{\"hoverinfo\":\"skip\",\"mode\":\"text\",\"showlegend\":false,\"text\":[],\"textfont\":{\"color\":\"black\",\"size\":12},\"textposition\":\"top center\",\"x\":[],\"y\":[],\"type\":\"scatter\"},{\"customdata\":[[22,\"SMARCA4\"],[22,\"ARID1A\"],[22,\"TCF12\"],[22,\"TCF3\"],[22,\"KLF4\"]],\"hovertemplate\":\"Cluster %{customdata[0]}: %{customdata[1]}\\u003cbr\\u003eapprovedSymbol: %{customdata[2]}\\u003cextra\\u003e\\u003c\\u002fextra\\u003e\",\"marker\":{\"color\":\"#00acc6\",\"line\":{\"width\":0},\"opacity\":0.7,\"size\":5},\"mode\":\"markers\",\"showlegend\":true,\"x\":{\"dtype\":\"f8\",\"bdata\":\"+69z02ZMIUAqqKj6lc4hQHuH26FhESJA+aOoM\\u002fcgIkDba0HvjZEiQA==\"},\"y\":{\"dtype\":\"f8\",\"bdata\":\"XKSao9hrCkBbq4d5oG8JQG8d0l4zTw5A2Lyqs1qACUD8aUiBqhYJQA==\"},\"type\":\"scatter\"},{\"hoverinfo\":\"skip\",\"mode\":\"text\",\"showlegend\":false,\"text\":[],\"textfont\":{\"color\":\"black\",\"size\":12},\"textposition\":\"top center\",\"x\":[],\"y\":[],\"type\":\"scatter\"}],                        {\"template\":{\"data\":{\"histogram2dcontour\":[{\"type\":\"histogram2dcontour\",\"colorbar\":{\"outlinewidth\":0,\"ticks\":\"\"},\"colorscale\":[[0.0,\"#0d0887\"],[0.1111111111111111,\"#46039f\"],[0.2222222222222222,\"#7201a8\"],[0.3333333333333333,\"#9c179e\"],[0.4444444444444444,\"#bd3786\"],[0.5555555555555556,\"#d8576b\"],[0.6666666666666666,\"#ed7953\"],[0.7777777777777778,\"#fb9f3a\"],[0.8888888888888888,\"#fdca26\"],[1.0,\"#f0f921\"]]}],\"choropleth\":[{\"type\":\"choropleth\",\"colorbar\":{\"outlinewidth\":0,\"ticks\":\"\"}}],\"histogram2d\":[{\"type\":\"histogram2d\",\"colorbar\":{\"outlinewidth\":0,\"ticks\":\"\"},\"colorscale\":[[0.0,\"#0d0887\"],[0.1111111111111111,\"#46039f\"],[0.2222222222222222,\"#7201a8\"],[0.3333333333333333,\"#9c179e\"],[0.4444444444444444,\"#bd3786\"],[0.5555555555555556,\"#d8576b\"],[0.6666666666666666,\"#ed7953\"],[0.7777777777777778,\"#fb9f3a\"],[0.8888888888888888,\"#fdca26\"],[1.0,\"#f0f921\"]]}],\"heatmap\":[{\"type\":\"heatmap\",\"colorbar\":{\"outlinewidth\":0,\"ticks\":\"\"},\"colorscale\":[[0.0,\"#0d0887\"],[0.1111111111111111,\"#46039f\"],[0.2222222222222222,\"#7201a8\"],[0.3333333333333333,\"#9c179e\"],[0.4444444444444444,\"#bd3786\"],[0.5555555555555556,\"#d8576b\"],[0.6666666666666666,\"#ed7953\"],[0.7777777777777778,\"#fb9f3a\"],[0.8888888888888888,\"#fdca26\"],[1.0,\"#f0f921\"]]}],\"contourcarpet\":[{\"type\":\"contourcarpet\",\"colorbar\":{\"outlinewidth\":0,\"ticks\":\"\"}}],\"contour\":[{\"type\":\"contour\",\"colorbar\":{\"outlinewidth\":0,\"ticks\":\"\"},\"colorscale\":[[0.0,\"#0d0887\"],[0.1111111111111111,\"#46039f\"],[0.2222222222222222,\"#7201a8\"],[0.3333333333333333,\"#9c179e\"],[0.4444444444444444,\"#bd3786\"],[0.5555555555555556,\"#d8576b\"],[0.6666666666666666,\"#ed7953\"],[0.7777777777777778,\"#fb9f3a\"],[0.8888888888888888,\"#fdca26\"],[1.0,\"#f0f921\"]]}],\"surface\":[{\"type\":\"surface\",\"colorbar\":{\"outlinewidth\":0,\"ticks\":\"\"},\"colorscale\":[[0.0,\"#0d0887\"],[0.1111111111111111,\"#46039f\"],[0.2222222222222222,\"#7201a8\"],[0.3333333333333333,\"#9c179e\"],[0.4444444444444444,\"#bd3786\"],[0.5555555555555556,\"#d8576b\"],[0.6666666666666666,\"#ed7953\"],[0.7777777777777778,\"#fb9f3a\"],[0.8888888888888888,\"#fdca26\"],[1.0,\"#f0f921\"]]}],\"mesh3d\":[{\"type\":\"mesh3d\",\"colorbar\":{\"outlinewidth\":0,\"ticks\":\"\"}}],\"scatter\":[{\"fillpattern\":{\"fillmode\":\"overlay\",\"size\":10,\"solidity\":0.2},\"type\":\"scatter\"}],\"parcoords\":[{\"type\":\"parcoords\",\"line\":{\"colorbar\":{\"outlinewidth\":0,\"ticks\":\"\"}}}],\"scatterpolargl\":[{\"type\":\"scatterpolargl\",\"marker\":{\"colorbar\":{\"outlinewidth\":0,\"ticks\":\"\"}}}],\"bar\":[{\"error_x\":{\"color\":\"#2a3f5f\"},\"error_y\":{\"color\":\"#2a3f5f\"},\"marker\":{\"line\":{\"color\":\"#E5ECF6\",\"width\":0.5},\"pattern\":{\"fillmode\":\"overlay\",\"size\":10,\"solidity\":0.2}},\"type\":\"bar\"}],\"scattergeo\":[{\"type\":\"scattergeo\",\"marker\":{\"colorbar\":{\"outlinewidth\":0,\"ticks\":\"\"}}}],\"scatterpolar\":[{\"type\":\"scatterpolar\",\"marker\":{\"colorbar\":{\"outlinewidth\":0,\"ticks\":\"\"}}}],\"histogram\":[{\"marker\":{\"pattern\":{\"fillmode\":\"overlay\",\"size\":10,\"solidity\":0.2}},\"type\":\"histogram\"}],\"scattergl\":[{\"type\":\"scattergl\",\"marker\":{\"colorbar\":{\"outlinewidth\":0,\"ticks\":\"\"}}}],\"scatter3d\":[{\"type\":\"scatter3d\",\"line\":{\"colorbar\":{\"outlinewidth\":0,\"ticks\":\"\"}},\"marker\":{\"colorbar\":{\"outlinewidth\":0,\"ticks\":\"\"}}}],\"scattermap\":[{\"type\":\"scattermap\",\"marker\":{\"colorbar\":{\"outlinewidth\":0,\"ticks\":\"\"}}}],\"scattermapbox\":[{\"type\":\"scattermapbox\",\"marker\":{\"colorbar\":{\"outlinewidth\":0,\"ticks\":\"\"}}}],\"scatterternary\":[{\"type\":\"scatterternary\",\"marker\":{\"colorbar\":{\"outlinewidth\":0,\"ticks\":\"\"}}}],\"scattercarpet\":[{\"type\":\"scattercarpet\",\"marker\":{\"colorbar\":{\"outlinewidth\":0,\"ticks\":\"\"}}}],\"carpet\":[{\"aaxis\":{\"endlinecolor\":\"#2a3f5f\",\"gridcolor\":\"white\",\"linecolor\":\"white\",\"minorgridcolor\":\"white\",\"startlinecolor\":\"#2a3f5f\"},\"baxis\":{\"endlinecolor\":\"#2a3f5f\",\"gridcolor\":\"white\",\"linecolor\":\"white\",\"minorgridcolor\":\"white\",\"startlinecolor\":\"#2a3f5f\"},\"type\":\"carpet\"}],\"table\":[{\"cells\":{\"fill\":{\"color\":\"#EBF0F8\"},\"line\":{\"color\":\"white\"}},\"header\":{\"fill\":{\"color\":\"#C8D4E3\"},\"line\":{\"color\":\"white\"}},\"type\":\"table\"}],\"barpolar\":[{\"marker\":{\"line\":{\"color\":\"#E5ECF6\",\"width\":0.5},\"pattern\":{\"fillmode\":\"overlay\",\"size\":10,\"solidity\":0.2}},\"type\":\"barpolar\"}],\"pie\":[{\"automargin\":true,\"type\":\"pie\"}]},\"layout\":{\"autotypenumbers\":\"strict\",\"colorway\":[\"#636efa\",\"#EF553B\",\"#00cc96\",\"#ab63fa\",\"#FFA15A\",\"#19d3f3\",\"#FF6692\",\"#B6E880\",\"#FF97FF\",\"#FECB52\"],\"font\":{\"color\":\"#2a3f5f\"},\"hovermode\":\"closest\",\"hoverlabel\":{\"align\":\"left\"},\"paper_bgcolor\":\"white\",\"plot_bgcolor\":\"#E5ECF6\",\"polar\":{\"bgcolor\":\"#E5ECF6\",\"angularaxis\":{\"gridcolor\":\"white\",\"linecolor\":\"white\",\"ticks\":\"\"},\"radialaxis\":{\"gridcolor\":\"white\",\"linecolor\":\"white\",\"ticks\":\"\"}},\"ternary\":{\"bgcolor\":\"#E5ECF6\",\"aaxis\":{\"gridcolor\":\"white\",\"linecolor\":\"white\",\"ticks\":\"\"},\"baxis\":{\"gridcolor\":\"white\",\"linecolor\":\"white\",\"ticks\":\"\"},\"caxis\":{\"gridcolor\":\"white\",\"linecolor\":\"white\",\"ticks\":\"\"}},\"coloraxis\":{\"colorbar\":{\"outlinewidth\":0,\"ticks\":\"\"}},\"colorscale\":{\"sequential\":[[0.0,\"#0d0887\"],[0.1111111111111111,\"#46039f\"],[0.2222222222222222,\"#7201a8\"],[0.3333333333333333,\"#9c179e\"],[0.4444444444444444,\"#bd3786\"],[0.5555555555555556,\"#d8576b\"],[0.6666666666666666,\"#ed7953\"],[0.7777777777777778,\"#fb9f3a\"],[0.8888888888888888,\"#fdca26\"],[1.0,\"#f0f921\"]],\"sequentialminus\":[[0.0,\"#0d0887\"],[0.1111111111111111,\"#46039f\"],[0.2222222222222222,\"#7201a8\"],[0.3333333333333333,\"#9c179e\"],[0.4444444444444444,\"#bd3786\"],[0.5555555555555556,\"#d8576b\"],[0.6666666666666666,\"#ed7953\"],[0.7777777777777778,\"#fb9f3a\"],[0.8888888888888888,\"#fdca26\"],[1.0,\"#f0f921\"]],\"diverging\":[[0,\"#8e0152\"],[0.1,\"#c51b7d\"],[0.2,\"#de77ae\"],[0.3,\"#f1b6da\"],[0.4,\"#fde0ef\"],[0.5,\"#f7f7f7\"],[0.6,\"#e6f5d0\"],[0.7,\"#b8e186\"],[0.8,\"#7fbc41\"],[0.9,\"#4d9221\"],[1,\"#276419\"]]},\"xaxis\":{\"gridcolor\":\"white\",\"linecolor\":\"white\",\"ticks\":\"\",\"title\":{\"standoff\":15},\"zerolinecolor\":\"white\",\"automargin\":true,\"zerolinewidth\":2},\"yaxis\":{\"gridcolor\":\"white\",\"linecolor\":\"white\",\"ticks\":\"\",\"title\":{\"standoff\":15},\"zerolinecolor\":\"white\",\"automargin\":true,\"zerolinewidth\":2},\"scene\":{\"xaxis\":{\"backgroundcolor\":\"#E5ECF6\",\"gridcolor\":\"white\",\"linecolor\":\"white\",\"showbackground\":true,\"ticks\":\"\",\"zerolinecolor\":\"white\",\"gridwidth\":2},\"yaxis\":{\"backgroundcolor\":\"#E5ECF6\",\"gridcolor\":\"white\",\"linecolor\":\"white\",\"showbackground\":true,\"ticks\":\"\",\"zerolinecolor\":\"white\",\"gridwidth\":2},\"zaxis\":{\"backgroundcolor\":\"#E5ECF6\",\"gridcolor\":\"white\",\"linecolor\":\"white\",\"showbackground\":true,\"ticks\":\"\",\"zerolinecolor\":\"white\",\"gridwidth\":2}},\"shapedefaults\":{\"line\":{\"color\":\"#2a3f5f\"}},\"annotationdefaults\":{\"arrowcolor\":\"#2a3f5f\",\"arrowhead\":0,\"arrowwidth\":1},\"geo\":{\"bgcolor\":\"white\",\"landcolor\":\"#E5ECF6\",\"subunitcolor\":\"white\",\"showland\":true,\"showlakes\":true,\"lakecolor\":\"white\"},\"title\":{\"x\":0.05},\"mapbox\":{\"style\":\"light\"}}},\"xaxis\":{\"title\":{\"text\":\"UMAP1\"},\"showgrid\":false,\"zeroline\":false,\"constrain\":\"domain\",\"ticks\":\"outside\",\"showline\":true,\"mirror\":true},\"yaxis\":{\"title\":{\"text\":\"UMAP2\"},\"showgrid\":false,\"zeroline\":false,\"scaleanchor\":\"x\",\"scaleratio\":1,\"constrain\":\"domain\",\"ticks\":\"outside\",\"showline\":true,\"mirror\":true},\"margin\":{\"l\":40,\"r\":40,\"t\":40,\"b\":40},\"legend\":{\"title\":{\"text\":\"Cluster\"},\"itemsizing\":\"constant\"},\"plot_bgcolor\":\"white\",\"paper_bgcolor\":\"white\",\"height\":700,\"width\":800},                        {\"responsive\": true}                    )                };            </script>        </div>"
      ],
      "text/plain": [
       "Figure({\n",
       "    'data': [{'customdata': array([[-1, 'BAK1'],\n",
       "                                   [-1, 'NFATC2'],\n",
       "                                   [-1, 'FLNA'],\n",
       "                                   ...,\n",
       "                                   [-1, 'ITK'],\n",
       "                                   [-1, 'ORMDL3'],\n",
       "                                   [-1, 'PTPN13']], dtype=object),\n",
       "              'hovertemplate': ('Cluster %{customdata[0]}: %{cu' ... '{customdata[2]}<extra></extra>'),\n",
       "              'marker': {'color': 'gainsboro', 'line': {'width': 0}, 'opacity': 0.7, 'size': 5},\n",
       "              'mode': 'markers',\n",
       "              'showlegend': True,\n",
       "              'type': 'scatter',\n",
       "              'x': {'bdata': ('inIOQ1ASFkC1GDxM+xYfQFwWuOEcch' ... 'Rb5xvAMxtkkpH7IEDc4WU8AFgEQA=='),\n",
       "                    'dtype': 'f8'},\n",
       "              'y': {'bdata': ('vCTOiqjJA0DWxtgJLyEaQAma4OUzag' ... 'JT+tS/0ZLH0/ITIECGIXL6ek4XQA=='),\n",
       "                    'dtype': 'f8'}},\n",
       "             {'hoverinfo': 'skip',\n",
       "              'mode': 'text',\n",
       "              'showlegend': False,\n",
       "              'text': array([], dtype=object),\n",
       "              'textfont': {'color': 'black', 'size': 12},\n",
       "              'textposition': 'top center',\n",
       "              'type': 'scatter',\n",
       "              'x': array([], dtype=float64),\n",
       "              'y': array([], dtype=float64)},\n",
       "             {'customdata': array([[0, 'IL21R'],\n",
       "                                   [0, 'IL7'],\n",
       "                                   [0, 'IL12A'],\n",
       "                                   [0, 'CRLF2'],\n",
       "                                   [0, 'STAT4']], dtype=object),\n",
       "              'hovertemplate': ('Cluster %{customdata[0]}: %{cu' ... '{customdata[2]}<extra></extra>'),\n",
       "              'marker': {'color': '#a17569', 'line': {'width': 0}, 'opacity': 0.7, 'size': 5},\n",
       "              'mode': 'markers',\n",
       "              'showlegend': True,\n",
       "              'type': 'scatter',\n",
       "              'x': {'bdata': 'rcH7qlwAKECDUrRyL4gnQLoT7L/O4SdAE38Udeb+J0Cyu0BJgS0oQA==', 'dtype': 'f8'},\n",
       "              'y': {'bdata': 'uW3fo/5eOkBK0F/oEZs6QK7YX3ZPbjpAie3uAbpfOkDICn4bYkg6QA==', 'dtype': 'f8'}},\n",
       "             {'hoverinfo': 'skip',\n",
       "              'mode': 'text',\n",
       "              'showlegend': False,\n",
       "              'text': array([], dtype=object),\n",
       "              'textfont': {'color': 'black', 'size': 12},\n",
       "              'textposition': 'top center',\n",
       "              'type': 'scatter',\n",
       "              'x': array([], dtype=float64),\n",
       "              'y': array([], dtype=float64)},\n",
       "             {'customdata': array([[1, 'ELF3'],\n",
       "                                   [1, 'RAP1GDS1'],\n",
       "                                   [1, 'MSI2'],\n",
       "                                   [1, 'RRAS2'],\n",
       "                                   [1, 'BMPR1A'],\n",
       "                                   [1, 'NF2'],\n",
       "                                   [1, 'ARHGEF10'],\n",
       "                                   [1, 'RHOH'],\n",
       "                                   [1, 'ARHGEF10L'],\n",
       "                                   [1, 'LATS2'],\n",
       "                                   [1, 'SPEN'],\n",
       "                                   [1, 'SUFU'],\n",
       "                                   [1, 'SPOP'],\n",
       "                                   [1, 'IKZF1'],\n",
       "                                   [1, 'GLI1']], dtype=object),\n",
       "              'hovertemplate': ('Cluster %{customdata[0]}: %{cu' ... '{customdata[2]}<extra></extra>'),\n",
       "              'marker': {'color': '#005659', 'line': {'width': 0}, 'opacity': 0.7, 'size': 5},\n",
       "              'mode': 'markers',\n",
       "              'showlegend': True,\n",
       "              'type': 'scatter',\n",
       "              'x': {'bdata': ('+5XOh2fhIEAKaY1BJxwfQKPLm8O12h' ... 'fFgaF4HkAgJAuYwBUhQAHs7eBxCx9A'),\n",
       "                    'dtype': 'f8'},\n",
       "              'y': {'bdata': ('wW7YtiijQ0ANMzSeCPhDQGKdKt8zAE' ... '9U+3QMREDy0k1iEJZDQDJ3LSEf+kNA'),\n",
       "                    'dtype': 'f8'}},\n",
       "             {'hoverinfo': 'skip',\n",
       "              'mode': 'text',\n",
       "              'showlegend': False,\n",
       "              'text': array([], dtype=object),\n",
       "              'textfont': {'color': 'black', 'size': 12},\n",
       "              'textposition': 'top center',\n",
       "              'type': 'scatter',\n",
       "              'x': array([], dtype=float64),\n",
       "              'y': array([], dtype=float64)},\n",
       "             {'customdata': array([[2, 'PNMT'],\n",
       "                                   [2, 'TIMMDC1'],\n",
       "                                   [2, 'NDUFB1'],\n",
       "                                   [2, 'SDHC'],\n",
       "                                   [2, 'OAT'],\n",
       "                                   [2, 'DDC'],\n",
       "                                   [2, 'FH'],\n",
       "                                   [2, 'IDH2'],\n",
       "                                   [2, 'GPHN'],\n",
       "                                   [2, 'SDHA']], dtype=object),\n",
       "              'hovertemplate': ('Cluster %{customdata[0]}: %{cu' ... '{customdata[2]}<extra></extra>'),\n",
       "              'marker': {'color': '#fdf490', 'line': {'width': 0}, 'opacity': 0.7, 'size': 5},\n",
       "              'mode': 'markers',\n",
       "              'showlegend': True,\n",
       "              'type': 'scatter',\n",
       "              'x': {'bdata': ('r7DgfsBrIMBCBvLs8l0fwDNPrimQSS' ... 'eov84dwJpgONcwWyDAXUdmP5zhHMA='),\n",
       "                    'dtype': 'f8'},\n",
       "              'y': {'bdata': ('raOqCaLOEsA4MSQnE4cTwNulDYelwR' ... '0ANjARwGm5faAmtBHAXmQCfo30D8A='),\n",
       "                    'dtype': 'f8'}},\n",
       "             {'hoverinfo': 'skip',\n",
       "              'mode': 'text',\n",
       "              'showlegend': False,\n",
       "              'text': array([], dtype=object),\n",
       "              'textfont': {'color': 'black', 'size': 12},\n",
       "              'textposition': 'top center',\n",
       "              'type': 'scatter',\n",
       "              'x': array([], dtype=float64),\n",
       "              'y': array([], dtype=float64)},\n",
       "             {'customdata': array([[3, 'SULT1A2'],\n",
       "                                   [3, 'ACSL6'],\n",
       "                                   [3, 'GMPS'],\n",
       "                                   [3, 'CHST11'],\n",
       "                                   [3, 'STARD3'],\n",
       "                                   [3, 'LHPP'],\n",
       "                                   [3, 'NT5C2'],\n",
       "                                   [3, 'SULT1A1'],\n",
       "                                   [3, 'CYP2C8'],\n",
       "                                   [3, 'PRKD1']], dtype=object),\n",
       "              'hovertemplate': ('Cluster %{customdata[0]}: %{cu' ... '{customdata[2]}<extra></extra>'),\n",
       "              'marker': {'color': '#0774d8', 'line': {'width': 0}, 'opacity': 0.7, 'size': 5},\n",
       "              'mode': 'markers',\n",
       "              'showlegend': True,\n",
       "              'type': 'scatter',\n",
       "              'x': {'bdata': ('cJxvn7Af679Xy0Lg7ebMv6DL7cEYz9' ... 'Jptbbjv4vdPqvMlNm/asSKIr3L1b8='),\n",
       "                    'dtype': 'f8'},\n",
       "              'y': {'bdata': ('sIwN3ewnJsDWNVoO9OgkwPYn8bkTPC' ... 'k4gbElwJDXg0nxQSXAguLHmLsuJcA='),\n",
       "                    'dtype': 'f8'}},\n",
       "             {'hoverinfo': 'skip',\n",
       "              'mode': 'text',\n",
       "              'showlegend': False,\n",
       "              'text': array([], dtype=object),\n",
       "              'textfont': {'color': 'black', 'size': 12},\n",
       "              'textposition': 'top center',\n",
       "              'type': 'scatter',\n",
       "              'x': array([], dtype=float64),\n",
       "              'y': array([], dtype=float64)},\n",
       "             {'customdata': array([[4, 'CRTC3'],\n",
       "                                   [4, 'CREB3L2'],\n",
       "                                   [4, 'CRTC1'],\n",
       "                                   [4, 'HMGA2'],\n",
       "                                   [4, 'FLCN']], dtype=object),\n",
       "              'hovertemplate': ('Cluster %{customdata[0]}: %{cu' ... '{customdata[2]}<extra></extra>'),\n",
       "              'marker': {'color': '#6b004f', 'line': {'width': 0}, 'opacity': 0.7, 'size': 5},\n",
       "              'mode': 'markers',\n",
       "              'showlegend': True,\n",
       "              'type': 'scatter',\n",
       "              'x': {'bdata': 'cRhxpq6BDEC6zztf/WkOQG+JEuPrQQ9A3mrnRTe8D0B6tlibEOQNQA==', 'dtype': 'f8'},\n",
       "              'y': {'bdata': 'xohEoWUlPUD8HYoCfWI9QMcqpWd6fT1AzZIANbWMPUA2sFWCxVE9QA==', 'dtype': 'f8'}},\n",
       "             {'hoverinfo': 'skip',\n",
       "              'mode': 'text',\n",
       "              'showlegend': False,\n",
       "              'text': array([], dtype=object),\n",
       "              'textfont': {'color': 'black', 'size': 12},\n",
       "              'textposition': 'top center',\n",
       "              'type': 'scatter',\n",
       "              'x': array([], dtype=float64),\n",
       "              'y': array([], dtype=float64)},\n",
       "             {'customdata': array([[5, 'BCL9'],\n",
       "                                   [5, 'WIF1'],\n",
       "                                   [5, 'RSPO2'],\n",
       "                                   [5, 'ZNRF3'],\n",
       "                                   [5, 'BCL9L']], dtype=object),\n",
       "              'hovertemplate': ('Cluster %{customdata[0]}: %{cu' ... '{customdata[2]}<extra></extra>'),\n",
       "              'marker': {'color': '#ff7ed1', 'line': {'width': 0}, 'opacity': 0.7, 'size': 5},\n",
       "              'mode': 'markers',\n",
       "              'showlegend': True,\n",
       "              'type': 'scatter',\n",
       "              'x': {'bdata': '2xfQC3cu8j+TOgFNhI33P/VBO0ygjfQ//hB25Q428z+CV8udmSD5Pw==', 'dtype': 'f8'},\n",
       "              'y': {'bdata': 'QukLIefJOkBvY7Mj1R87QDLJyFnY7zpA66wW2GPaOkActFcfDzk7QA==', 'dtype': 'f8'}},\n",
       "             {'hoverinfo': 'skip',\n",
       "              'mode': 'text',\n",
       "              'showlegend': False,\n",
       "              'text': array([], dtype=object),\n",
       "              'textfont': {'color': 'black', 'size': 12},\n",
       "              'textposition': 'top center',\n",
       "              'type': 'scatter',\n",
       "              'x': array([], dtype=float64),\n",
       "              'y': array([], dtype=float64)},\n",
       "             {'customdata': array([[6, 'KAT7'],\n",
       "                                   [6, 'ARID5B'],\n",
       "                                   [6, 'SETD2'],\n",
       "                                   [6, 'NSD3'],\n",
       "                                   [6, 'NSD1'],\n",
       "                                   [6, 'KDM5C'],\n",
       "                                   [6, 'KAT6B']], dtype=object),\n",
       "              'hovertemplate': ('Cluster %{customdata[0]}: %{cu' ... '{customdata[2]}<extra></extra>'),\n",
       "              'marker': {'color': '#0000dd', 'line': {'width': 0}, 'opacity': 0.7, 'size': 5},\n",
       "              'mode': 'markers',\n",
       "              'showlegend': True,\n",
       "              'type': 'scatter',\n",
       "              'x': {'bdata': '0QfL2NCNIsDEmPT3UggjwLwft18+ISLAvwzGiERJIsAEc/T4vQUiwHwNwXEZ3yLAxRouck+PIsA=',\n",
       "                    'dtype': 'f8'},\n",
       "              'y': {'bdata': 'hgSMLm8+IsC9VGzM67giwCAKZkzB0iHAjs2OVN/5IcB+i06WWrchwH2VfOwukCLAe/Xx0Hc/IsA=',\n",
       "                    'dtype': 'f8'}},\n",
       "             {'hoverinfo': 'skip',\n",
       "              'mode': 'text',\n",
       "              'showlegend': False,\n",
       "              'text': array([], dtype=object),\n",
       "              'textfont': {'color': 'black', 'size': 12},\n",
       "              'textposition': 'top center',\n",
       "              'type': 'scatter',\n",
       "              'x': array([], dtype=float64),\n",
       "              'y': array([], dtype=float64)},\n",
       "             {'customdata': array([[7, 'CCR7'],\n",
       "                                   [7, 'GRM3'],\n",
       "                                   [7, 'SMO'],\n",
       "                                   [7, 'ACKR3'],\n",
       "                                   [7, 'RGS7'],\n",
       "                                   [7, 'PTCH1'],\n",
       "                                   [7, 'TSHR'],\n",
       "                                   [7, 'CXCR5'],\n",
       "                                   [7, 'CCL11'],\n",
       "                                   [7, 'CCR6'],\n",
       "                                   [7, 'CCL7'],\n",
       "                                   [7, 'CYSLTR2'],\n",
       "                                   [7, 'NBEA'],\n",
       "                                   [7, 'PPP1R1B']], dtype=object),\n",
       "              'hovertemplate': ('Cluster %{customdata[0]}: %{cu' ... '{customdata[2]}<extra></extra>'),\n",
       "              'marker': {'color': '#bf03b8', 'line': {'width': 0}, 'opacity': 0.7, 'size': 5},\n",
       "              'mode': 'markers',\n",
       "              'showlegend': True,\n",
       "              'type': 'scatter',\n",
       "              'x': {'bdata': ('CeI8nMCEPEB3hxQDJMY7QJqV7UPeZj' ... 'fjzTtAS4+mejKfOkBfYFYo0nU8QA=='),\n",
       "                    'dtype': 'f8'},\n",
       "              'y': {'bdata': ('3795ceLbJ0AWURN9PlInQPOtD+uNSi' ... 'wBTidAxlG5iVr6J0DF506w/xonQA=='),\n",
       "                    'dtype': 'f8'}},\n",
       "             {'hoverinfo': 'skip',\n",
       "              'mode': 'text',\n",
       "              'showlegend': False,\n",
       "              'text': array([], dtype=object),\n",
       "              'textfont': {'color': 'black', 'size': 12},\n",
       "              'textposition': 'top center',\n",
       "              'type': 'scatter',\n",
       "              'x': array([], dtype=float64),\n",
       "              'y': array([], dtype=float64)},\n",
       "             {'customdata': array([[8, 'HOXA11'],\n",
       "                                   [8, 'CDX2'],\n",
       "                                   [8, 'EBF1'],\n",
       "                                   [8, 'FLI1'],\n",
       "                                   [8, 'FOXP1'],\n",
       "                                   [8, 'MAFB'],\n",
       "                                   [8, 'PAX8'],\n",
       "                                   [8, 'CEBPE'],\n",
       "                                   [8, 'CTCF'],\n",
       "                                   [8, 'CTNNA2'],\n",
       "                                   [8, 'PAX7'],\n",
       "                                   [8, 'SIX1'],\n",
       "                                   [8, 'POU5F1']], dtype=object),\n",
       "              'hovertemplate': ('Cluster %{customdata[0]}: %{cu' ... '{customdata[2]}<extra></extra>'),\n",
       "              'marker': {'color': '#8e7900', 'line': {'width': 0}, 'opacity': 0.7, 'size': 5},\n",
       "              'mode': 'markers',\n",
       "              'showlegend': True,\n",
       "              'type': 'scatter',\n",
       "              'x': {'bdata': ('ZW8p54udM0CSkbOwp7UzQJRQ+kLItT' ... 'M16oEzQIYA4NizszNAEkpfCDm/M0A='),\n",
       "                    'dtype': 'f8'},\n",
       "              'y': {'bdata': ('BFq6gm3EGMB2KFSBpGkZwADnIEMiMB' ... 'Lb3eMZwDBoIQGjMxjAmQ6dnncLFMA='),\n",
       "                    'dtype': 'f8'}},\n",
       "             {'hoverinfo': 'skip',\n",
       "              'mode': 'text',\n",
       "              'showlegend': False,\n",
       "              'text': array([], dtype=object),\n",
       "              'textfont': {'color': 'black', 'size': 12},\n",
       "              'textposition': 'top center',\n",
       "              'type': 'scatter',\n",
       "              'x': array([], dtype=float64),\n",
       "              'y': array([], dtype=float64)},\n",
       "             {'customdata': array([[9, 'SHTN1'],\n",
       "                                   [9, 'EPHA3'],\n",
       "                                   [9, 'ROBO2'],\n",
       "                                   [9, 'EPHA7'],\n",
       "                                   [9, 'EZR']], dtype=object),\n",
       "              'hovertemplate': ('Cluster %{customdata[0]}: %{cu' ... '{customdata[2]}<extra></extra>'),\n",
       "              'marker': {'color': '#00fdcf', 'line': {'width': 0}, 'opacity': 0.7, 'size': 5},\n",
       "              'mode': 'markers',\n",
       "              'showlegend': True,\n",
       "              'type': 'scatter',\n",
       "              'x': {'bdata': 'yE4ufDNg9j8wgsZMon73P8yyJ4HN2fg/giUNJN5w+D8T5RyGoPT6Pw==', 'dtype': 'f8'},\n",
       "              'y': {'bdata': 'gv18APdhDcBpp4u5EPANwBxdpbvrnA7AYH5dPHJqDsCEpRU6CqsPwA==', 'dtype': 'f8'}},\n",
       "             {'hoverinfo': 'skip',\n",
       "              'mode': 'text',\n",
       "              'showlegend': False,\n",
       "              'text': array([], dtype=object),\n",
       "              'textfont': {'color': 'black', 'size': 12},\n",
       "              'textposition': 'top center',\n",
       "              'type': 'scatter',\n",
       "              'x': array([], dtype=float64),\n",
       "              'y': array([], dtype=float64)},\n",
       "             {'customdata': array([[10, 'ARHGAP26'],\n",
       "                                   [10, 'GOPC'],\n",
       "                                   [10, 'ARHGAP31'],\n",
       "                                   [10, 'ARHGAP5'],\n",
       "                                   [10, 'FNBP1']], dtype=object),\n",
       "              'hovertemplate': ('Cluster %{customdata[0]}: %{cu' ... '{customdata[2]}<extra></extra>'),\n",
       "              'marker': {'color': '#790000', 'line': {'width': 0}, 'opacity': 0.7, 'size': 5},\n",
       "              'mode': 'markers',\n",
       "              'showlegend': True,\n",
       "              'type': 'scatter',\n",
       "              'x': {'bdata': 'oG6gwDspFUBUoSafw8kUQEExDR4BDxZA376z4sDoFUBHO2743bQVQA==', 'dtype': 'f8'},\n",
       "              'y': {'bdata': 'bCHIQQkHMkAydOygEu8xQEd3EDtTQDJAUnx8QnY2MkCkiAyreCsyQA==', 'dtype': 'f8'}},\n",
       "             {'hoverinfo': 'skip',\n",
       "              'mode': 'text',\n",
       "              'showlegend': False,\n",
       "              'text': array([], dtype=object),\n",
       "              'textfont': {'color': 'black', 'size': 12},\n",
       "              'textposition': 'top center',\n",
       "              'type': 'scatter',\n",
       "              'x': array([], dtype=float64),\n",
       "              'y': array([], dtype=float64)},\n",
       "             {'customdata': array([[11, 'QKI'],\n",
       "                                   [11, 'KIAA1549'],\n",
       "                                   [11, 'WDCP'],\n",
       "                                   [11, 'BIRC6'],\n",
       "                                   [11, 'HIP1'],\n",
       "                                   [11, 'PPFIBP1'],\n",
       "                                   [11, 'SND1'],\n",
       "                                   [11, 'PRF1'],\n",
       "                                   [11, 'FAM131B']], dtype=object),\n",
       "              'hovertemplate': ('Cluster %{customdata[0]}: %{cu' ... '{customdata[2]}<extra></extra>'),\n",
       "              'marker': {'color': '#8c3bff', 'line': {'width': 0}, 'opacity': 0.7, 'size': 5},\n",
       "              'mode': 'markers',\n",
       "              'showlegend': True,\n",
       "              'type': 'scatter',\n",
       "              'x': {'bdata': ('f73Cgvs1M0AKMCx/vjkzQKkXfJqTFz' ... 'S8/48rM0BS0y6mmfIyQE/ltKfklDNA'),\n",
       "                    'dtype': 'f8'},\n",
       "              'y': {'bdata': ('s+pztRVTJEBlqIqp9PMiQD0Og/krnC' ... '0e3nO4I0Dr4jYawEsjQEJ8YMd/KSNA'),\n",
       "                    'dtype': 'f8'}},\n",
       "             {'hoverinfo': 'skip',\n",
       "              'mode': 'text',\n",
       "              'showlegend': False,\n",
       "              'text': array([], dtype=object),\n",
       "              'textfont': {'color': 'black', 'size': 12},\n",
       "              'textposition': 'top center',\n",
       "              'type': 'scatter',\n",
       "              'x': array([], dtype=float64),\n",
       "              'y': array([], dtype=float64)},\n",
       "             {'customdata': array([[12, 'EIF1AX'],\n",
       "                                   [12, 'EIF3C'],\n",
       "                                   [12, 'PABPC1'],\n",
       "                                   [12, 'MITF'],\n",
       "                                   [12, 'EIF4A2'],\n",
       "                                   [12, 'ANK1']], dtype=object),\n",
       "              'hovertemplate': ('Cluster %{customdata[0]}: %{cu' ... '{customdata[2]}<extra></extra>'),\n",
       "              'marker': {'color': '#95b577', 'line': {'width': 0}, 'opacity': 0.7, 'size': 5},\n",
       "              'mode': 'markers',\n",
       "              'showlegend': True,\n",
       "              'type': 'scatter',\n",
       "              'x': {'bdata': 'MOtql9ti8j/pjN5f82D3P+zx54DJkvw//0F//ADvCUA4uYTotT72P0RjN32HnARA', 'dtype': 'f8'},\n",
       "              'y': {'bdata': 'DcNHxJT4JECbAMPy5+skQBTQRNjw9CNAgIC1atcUJUBBSuza3iYkQNmXbDzYYiNA', 'dtype': 'f8'}},\n",
       "             {'hoverinfo': 'skip',\n",
       "              'mode': 'text',\n",
       "              'showlegend': False,\n",
       "              'text': array([], dtype=object),\n",
       "              'textfont': {'color': 'black', 'size': 12},\n",
       "              'textposition': 'top center',\n",
       "              'type': 'scatter',\n",
       "              'x': array([], dtype=float64),\n",
       "              'y': array([], dtype=float64)},\n",
       "             {'customdata': array([[13, 'EXT1'],\n",
       "                                   [13, 'SLC22A5'],\n",
       "                                   [13, 'SLC24A4'],\n",
       "                                   [13, 'SLC26A3'],\n",
       "                                   [13, 'SLC34A2']], dtype=object),\n",
       "              'hovertemplate': ('Cluster %{customdata[0]}: %{cu' ... '{customdata[2]}<extra></extra>'),\n",
       "              'marker': {'color': '#ff7266', 'line': {'width': 0}, 'opacity': 0.7, 'size': 5},\n",
       "              'mode': 'markers',\n",
       "              'showlegend': True,\n",
       "              'type': 'scatter',\n",
       "              'x': {'bdata': 'tsB5zJue6T+pS0pqNsnNP7bNFSQES6q/m0SUYaLi0b9hQS8WZTrLvw==', 'dtype': 'f8'},\n",
       "              'y': {'bdata': 'arY8IBp3F0B2d1OA3hoWQGPh2j8F1hRAkGeXb31IFUALXYlA9T8VQA==', 'dtype': 'f8'}},\n",
       "             {'hoverinfo': 'skip',\n",
       "              'mode': 'text',\n",
       "              'showlegend': False,\n",
       "              'text': array([], dtype=object),\n",
       "              'textfont': {'color': 'black', 'size': 12},\n",
       "              'textposition': 'top center',\n",
       "              'type': 'scatter',\n",
       "              'x': array([], dtype=float64),\n",
       "              'y': array([], dtype=float64)},\n",
       "             {'customdata': array([[14, 'CEBPA'],\n",
       "                                   [14, 'BCL7A'],\n",
       "                                   [14, 'DICER1'],\n",
       "                                   [14, 'SS18'],\n",
       "                                   [14, 'KDM6A'],\n",
       "                                   [14, 'SS18L1']], dtype=object),\n",
       "              'hovertemplate': ('Cluster %{customdata[0]}: %{cu' ... '{customdata[2]}<extra></extra>'),\n",
       "              'marker': {'color': '#bcb6ff', 'line': {'width': 0}, 'opacity': 0.7, 'size': 5},\n",
       "              'mode': 'markers',\n",
       "              'showlegend': True,\n",
       "              'type': 'scatter',\n",
       "              'x': {'bdata': 'LcHznD5sFkDQXiKDgbQUQIz34/bLFxhA7Ggc6ndBF0DM+Rhiq9oUQF3Cobd4mBdA', 'dtype': 'f8'},\n",
       "              'y': {'bdata': 'u7iNBvDWLEDtEP+wpe8sQM2tEFZjGSxAx2eyf54aLUCHMenvpUgsQOZAD7Vt2CxA', 'dtype': 'f8'}},\n",
       "             {'hoverinfo': 'skip',\n",
       "              'mode': 'text',\n",
       "              'showlegend': False,\n",
       "              'text': array([], dtype=object),\n",
       "              'textfont': {'color': 'black', 'size': 12},\n",
       "              'textposition': 'top center',\n",
       "              'type': 'scatter',\n",
       "              'x': array([], dtype=float64),\n",
       "              'y': array([], dtype=float64)},\n",
       "             {'customdata': array([[15, 'ABL2'],\n",
       "                                   [15, 'PBX1'],\n",
       "                                   [15, 'ARHGEF12'],\n",
       "                                   [15, 'ACVR1B'],\n",
       "                                   [15, 'SRGAP3'],\n",
       "                                   [15, 'FOXA1'],\n",
       "                                   [15, 'MYOD1'],\n",
       "                                   [15, 'ACVR2A'],\n",
       "                                   [15, 'MYH11']], dtype=object),\n",
       "              'hovertemplate': ('Cluster %{customdata[0]}: %{cu' ... '{customdata[2]}<extra></extra>'),\n",
       "              'marker': {'color': '#018700', 'line': {'width': 0}, 'opacity': 0.7, 'size': 5},\n",
       "              'mode': 'markers',\n",
       "              'showlegend': True,\n",
       "              'type': 'scatter',\n",
       "              'x': {'bdata': ('skY9RKOLHkAhkEsceRggQO8dNSbE3B' ... 'l1b0VyIEDkvtU6cQkhQKlorP2d/RpA'),\n",
       "                    'dtype': 'f8'},\n",
       "              'y': {'bdata': ('6l28H7fnKUARb51/u1AqQGa8rfTanC' ... 'l/1ZEDK0D+YyE6BLYqQKRyE7U07yhA'),\n",
       "                    'dtype': 'f8'}},\n",
       "             {'hoverinfo': 'skip',\n",
       "              'mode': 'text',\n",
       "              'showlegend': False,\n",
       "              'text': array([], dtype=object),\n",
       "              'textfont': {'color': 'black', 'size': 12},\n",
       "              'textposition': 'top center',\n",
       "              'type': 'scatter',\n",
       "              'x': array([], dtype=float64),\n",
       "              'y': array([], dtype=float64)},\n",
       "             {'customdata': array([[16, 'ERCC2'],\n",
       "                                   [16, 'PMS2'],\n",
       "                                   [16, 'MSH2'],\n",
       "                                   [16, 'ERCC3'],\n",
       "                                   [16, 'ELL']], dtype=object),\n",
       "              'hovertemplate': ('Cluster %{customdata[0]}: %{cu' ... '{customdata[2]}<extra></extra>'),\n",
       "              'marker': {'color': '#edb8b8', 'line': {'width': 0}, 'opacity': 0.7, 'size': 5},\n",
       "              'mode': 'markers',\n",
       "              'showlegend': True,\n",
       "              'type': 'scatter',\n",
       "              'x': {'bdata': 'IH7+e/AyJkBVLlT+tdQmQIJ0sWmlICZAFoielEndJkAbTMPwEQknQA==', 'dtype': 'f8'},\n",
       "              'y': {'bdata': 'n2RhPg80EEC8CRkjbTYSQGyOGOL9RRFAQtKnVfTHD0DxaD5CKBIQQA==', 'dtype': 'f8'}},\n",
       "             {'hoverinfo': 'skip',\n",
       "              'mode': 'text',\n",
       "              'showlegend': False,\n",
       "              'text': array([], dtype=object),\n",
       "              'textfont': {'color': 'black', 'size': 12},\n",
       "              'textposition': 'top center',\n",
       "              'type': 'scatter',\n",
       "              'x': array([], dtype=float64),\n",
       "              'y': array([], dtype=float64)},\n",
       "             {'customdata': array([[17, 'PBRM1'],\n",
       "                                   [17, 'SMARCE1'],\n",
       "                                   [17, 'KMT2C'],\n",
       "                                   [17, 'SETD1B'],\n",
       "                                   [17, 'ARID2'],\n",
       "                                   [17, 'GATA2'],\n",
       "                                   [17, 'SMARCB1'],\n",
       "                                   [17, 'ARID1B'],\n",
       "                                   [17, 'KMT2A']], dtype=object),\n",
       "              'hovertemplate': ('Cluster %{customdata[0]}: %{cu' ... '{customdata[2]}<extra></extra>'),\n",
       "              'marker': {'color': '#97ff00', 'line': {'width': 0}, 'opacity': 0.7, 'size': 5},\n",
       "              'mode': 'markers',\n",
       "              'showlegend': True,\n",
       "              'type': 'scatter',\n",
       "              'x': {'bdata': ('uvWaHhS0CUBoIQGjy1MQQNYCe0ykhB' ... 'o8ZTWdD0A4QlB/BwAQQJylZDkJdQ5A'),\n",
       "                    'dtype': 'f8'},\n",
       "              'y': {'bdata': ('pPs5BfnhKkBEboYb8OkoQO/H7ZdPDi' ... '9UwD0fKUA5ZAPpYtspQNI2/kRliypA'),\n",
       "                    'dtype': 'f8'}},\n",
       "             {'hoverinfo': 'skip',\n",
       "              'mode': 'text',\n",
       "              'showlegend': False,\n",
       "              'text': array([], dtype=object),\n",
       "              'textfont': {'color': 'black', 'size': 12},\n",
       "              'textposition': 'top center',\n",
       "              'type': 'scatter',\n",
       "              'x': array([], dtype=float64),\n",
       "              'y': array([], dtype=float64)},\n",
       "             {'customdata': array([[18, 'FANCC'],\n",
       "                                   [18, 'FANCD2'],\n",
       "                                   [18, 'CNOT3'],\n",
       "                                   [18, 'TAL1'],\n",
       "                                   [18, 'DEK'],\n",
       "                                   [18, 'ZNF521']], dtype=object),\n",
       "              'hovertemplate': ('Cluster %{customdata[0]}: %{cu' ... '{customdata[2]}<extra></extra>'),\n",
       "              'marker': {'color': '#5d7e66', 'line': {'width': 0}, 'opacity': 0.7, 'size': 5},\n",
       "              'mode': 'markers',\n",
       "              'showlegend': True,\n",
       "              'type': 'scatter',\n",
       "              'x': {'bdata': 'I7w9CAGZLUCdZ+xLNoYtQFCpEmVvgSxAWmPQCaHzK0BaZDvfT/0rQLLZkeo7vytA', 'dtype': 'f8'},\n",
       "              'y': {'bdata': 'loIkok6fFkB6bMuAs+QWQCDtf4C1QhdAN/nSgOZwGECDTggddBEZQFUWhV0UzRdA', 'dtype': 'f8'}},\n",
       "             {'hoverinfo': 'skip',\n",
       "              'mode': 'text',\n",
       "              'showlegend': False,\n",
       "              'text': array([], dtype=object),\n",
       "              'textfont': {'color': 'black', 'size': 12},\n",
       "              'textposition': 'top center',\n",
       "              'type': 'scatter',\n",
       "              'x': array([], dtype=float64),\n",
       "              'y': array([], dtype=float64)},\n",
       "             {'customdata': array([[19, 'ZFHX3'],\n",
       "                                   [19, 'LMO2'],\n",
       "                                   [19, 'PPM1D'],\n",
       "                                   [19, 'BTG2'],\n",
       "                                   [19, 'CDK12'],\n",
       "                                   [19, 'PAX5'],\n",
       "                                   [19, 'MAF'],\n",
       "                                   [19, 'LMO1'],\n",
       "                                   [19, 'NDRG1'],\n",
       "                                   [19, 'NR4A3']], dtype=object),\n",
       "              'hovertemplate': ('Cluster %{customdata[0]}: %{cu' ... '{customdata[2]}<extra></extra>'),\n",
       "              'marker': {'color': '#ffa52f', 'line': {'width': 0}, 'opacity': 0.7, 'size': 5},\n",
       "              'mode': 'markers',\n",
       "              'showlegend': True,\n",
       "              'type': 'scatter',\n",
       "              'x': {'bdata': ('25a32Q7MDsApeuBjsIIQwNBiKZKvxA' ... 'Nm1z0RwFggelImDS9AnpBC/j5gEMA='),\n",
       "                    'dtype': 'f8'},\n",
       "              'y': {'bdata': ('OEpenWMoIUAuH0lJD6siQP3dO2pMmC' ... 'V9kosiQKHlL+NcWRRAZf7RN2naIUA='),\n",
       "                    'dtype': 'f8'}},\n",
       "             {'hoverinfo': 'skip',\n",
       "              'mode': 'text',\n",
       "              'showlegend': False,\n",
       "              'text': array([], dtype=object),\n",
       "              'textfont': {'color': 'black', 'size': 12},\n",
       "              'textposition': 'top center',\n",
       "              'type': 'scatter',\n",
       "              'x': array([], dtype=float64),\n",
       "              'y': array([], dtype=float64)},\n",
       "             {'customdata': array([[20, 'ZNF300'],\n",
       "                                   [20, 'ZNF429'],\n",
       "                                   [20, 'BTG1'],\n",
       "                                   [20, 'DGCR8'],\n",
       "                                   [20, 'ZNF479'],\n",
       "                                   [20, 'GRIN2A']], dtype=object),\n",
       "              'hovertemplate': ('Cluster %{customdata[0]}: %{cu' ... '{customdata[2]}<extra></extra>'),\n",
       "              'marker': {'color': '#573b00', 'line': {'width': 0}, 'opacity': 0.7, 'size': 5},\n",
       "              'mode': 'markers',\n",
       "              'showlegend': True,\n",
       "              'type': 'scatter',\n",
       "              'x': {'bdata': 'pdsSueCcKMBgrkUL0C4pwJTBUfLqBCnAAMgJE0bzKMBbCd0lcYYowAEXZMvypSnA', 'dtype': 'f8'},\n",
       "              'y': {'bdata': 'BqBRuvRfKUBSRIZVvPEpQPCmW3aIxylAK4arAyC2KUBvKlJhbEkpQPCiryDNaCpA', 'dtype': 'f8'}},\n",
       "             {'hoverinfo': 'skip',\n",
       "              'mode': 'text',\n",
       "              'showlegend': False,\n",
       "              'text': array([], dtype=object),\n",
       "              'textfont': {'color': 'black', 'size': 12},\n",
       "              'textposition': 'top center',\n",
       "              'type': 'scatter',\n",
       "              'x': array([], dtype=float64),\n",
       "              'y': array([], dtype=float64)},\n",
       "             {'customdata': array([[21, 'NUP98'],\n",
       "                                   [21, 'PPP2R1A'],\n",
       "                                   [21, 'AR'],\n",
       "                                   ...,\n",
       "                                   [21, 'PTK6'],\n",
       "                                   [21, 'YWHAE'],\n",
       "                                   [21, 'IKBKB']], dtype=object),\n",
       "              'hovertemplate': ('Cluster %{customdata[0]}: %{cu' ... '{customdata[2]}<extra></extra>'),\n",
       "              'marker': {'color': '#d60000', 'line': {'width': 0}, 'opacity': 0.7, 'size': 5},\n",
       "              'mode': 'markers',\n",
       "              'showlegend': True,\n",
       "              'type': 'scatter',\n",
       "              'x': {'bdata': ('ccD4s2l28j9kWpvG9pocQJYmpaDbaw' ... 'f3AyNAnWNA9nonIUBP/L25ZIEJQA=='),\n",
       "                    'dtype': 'f8'},\n",
       "              'y': {'bdata': ('L2zNVl6SH0DvPPGcLbAeQCGU93E0xx' ... 'zMwCBAgjtQpzwKGEBov/+gP14HQA=='),\n",
       "                    'dtype': 'f8'}},\n",
       "             {'hoverinfo': 'skip',\n",
       "              'mode': 'text',\n",
       "              'showlegend': False,\n",
       "              'text': array([], dtype=object),\n",
       "              'textfont': {'color': 'black', 'size': 12},\n",
       "              'textposition': 'top center',\n",
       "              'type': 'scatter',\n",
       "              'x': array([], dtype=float64),\n",
       "              'y': array([], dtype=float64)},\n",
       "             {'customdata': array([[22, 'SMARCA4'],\n",
       "                                   [22, 'ARID1A'],\n",
       "                                   [22, 'TCF12'],\n",
       "                                   [22, 'TCF3'],\n",
       "                                   [22, 'KLF4']], dtype=object),\n",
       "              'hovertemplate': ('Cluster %{customdata[0]}: %{cu' ... '{customdata[2]}<extra></extra>'),\n",
       "              'marker': {'color': '#00acc6', 'line': {'width': 0}, 'opacity': 0.7, 'size': 5},\n",
       "              'mode': 'markers',\n",
       "              'showlegend': True,\n",
       "              'type': 'scatter',\n",
       "              'x': {'bdata': '+69z02ZMIUAqqKj6lc4hQHuH26FhESJA+aOoM/cgIkDba0HvjZEiQA==', 'dtype': 'f8'},\n",
       "              'y': {'bdata': 'XKSao9hrCkBbq4d5oG8JQG8d0l4zTw5A2Lyqs1qACUD8aUiBqhYJQA==', 'dtype': 'f8'}},\n",
       "             {'hoverinfo': 'skip',\n",
       "              'mode': 'text',\n",
       "              'showlegend': False,\n",
       "              'text': array([], dtype=object),\n",
       "              'textfont': {'color': 'black', 'size': 12},\n",
       "              'textposition': 'top center',\n",
       "              'type': 'scatter',\n",
       "              'x': array([], dtype=float64),\n",
       "              'y': array([], dtype=float64)}],\n",
       "    'layout': {'height': 700,\n",
       "               'legend': {'itemsizing': 'constant', 'title': {'text': 'Cluster'}},\n",
       "               'margin': {'b': 40, 'l': 40, 'r': 40, 't': 40},\n",
       "               'paper_bgcolor': 'white',\n",
       "               'plot_bgcolor': 'white',\n",
       "               'template': '...',\n",
       "               'width': 800,\n",
       "               'xaxis': {'constrain': 'domain',\n",
       "                         'mirror': True,\n",
       "                         'showgrid': False,\n",
       "                         'showline': True,\n",
       "                         'ticks': 'outside',\n",
       "                         'title': {'text': 'UMAP1'},\n",
       "                         'zeroline': False},\n",
       "               'yaxis': {'constrain': 'domain',\n",
       "                         'mirror': True,\n",
       "                         'scaleanchor': 'x',\n",
       "                         'scaleratio': 1,\n",
       "                         'showgrid': False,\n",
       "                         'showline': True,\n",
       "                         'ticks': 'outside',\n",
       "                         'title': {'text': 'UMAP2'},\n",
       "                         'zeroline': False}}\n",
       "})"
      ]
     },
     "execution_count": 23,
     "metadata": {},
     "output_type": "execute_result"
    }
   ],
   "source": [
    "metadata_cluster_file = '/Users/polina/Pathwaganda/data/umap/test/metadata_clusters_poincare_fast_ge.tsv'\n",
    "fig = build_umap_plot_2d_clusters_from_metadata(metadata_cluster_file)\n",
    "fig"
   ]
  },
  {
   "cell_type": "code",
   "execution_count": null,
   "id": "b4403dc8",
   "metadata": {},
   "outputs": [],
   "source": []
  }
 ],
 "metadata": {
  "kernelspec": {
   "display_name": "Python 3",
   "language": "python",
   "name": "python3"
  },
  "language_info": {
   "codemirror_mode": {
    "name": "ipython",
    "version": 3
   },
   "file_extension": ".py",
   "mimetype": "text/x-python",
   "name": "python",
   "nbconvert_exporter": "python",
   "pygments_lexer": "ipython3",
   "version": "3.11.6"
  }
 },
 "nbformat": 4,
 "nbformat_minor": 5
}
