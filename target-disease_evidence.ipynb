{
 "cells": [
  {
   "cell_type": "markdown",
   "id": "e19fa0ca",
   "metadata": {},
   "source": [
    "# Target-disease genetic evidence from Open Targets Platform"
   ]
  },
  {
   "cell_type": "markdown",
   "id": "7723f216",
   "metadata": {},
   "source": [
    "This code is meant to prepare ranked lists of genes for all diseases from Open Targets platform with amount of genetically supported genes (genetically and somatic mutations for oncological traits) >= 500"
   ]
  },
  {
   "cell_type": "code",
   "execution_count": 1,
   "id": "a6b66823",
   "metadata": {},
   "outputs": [
    {
     "name": "stderr",
     "output_type": "stream",
     "text": [
      "25/07/08 15:38:10 WARN SparkContext: Another SparkContext is being constructed (or threw an exception in its constructor). This may indicate an error, since only one SparkContext should be running in this JVM (see SPARK-2243). The other SparkContext was created at:\n",
      "org.apache.spark.api.java.JavaSparkContext.<init>(JavaSparkContext.scala:58)\n",
      "java.base/jdk.internal.reflect.NativeConstructorAccessorImpl.newInstance0(Native Method)\n",
      "java.base/jdk.internal.reflect.NativeConstructorAccessorImpl.newInstance(NativeConstructorAccessorImpl.java:62)\n",
      "java.base/jdk.internal.reflect.DelegatingConstructorAccessorImpl.newInstance(DelegatingConstructorAccessorImpl.java:45)\n",
      "java.base/java.lang.reflect.Constructor.newInstance(Constructor.java:490)\n",
      "py4j.reflection.MethodInvoker.invoke(MethodInvoker.java:247)\n",
      "py4j.reflection.ReflectionEngine.invoke(ReflectionEngine.java:374)\n",
      "py4j.Gateway.invoke(Gateway.java:238)\n",
      "py4j.commands.ConstructorCommand.invokeConstructor(ConstructorCommand.java:80)\n",
      "py4j.commands.ConstructorCommand.execute(ConstructorCommand.java:69)\n",
      "py4j.ClientServerConnection.waitForCommands(ClientServerConnection.java:182)\n",
      "py4j.ClientServerConnection.run(ClientServerConnection.java:106)\n",
      "java.base/java.lang.Thread.run(Thread.java:829)\n",
      "25/07/08 15:38:10 INFO SparkEnv: Registering MapOutputTracker\n",
      "25/07/08 15:38:10 INFO SparkEnv: Registering BlockManagerMaster\n",
      "25/07/08 15:38:10 INFO SparkEnv: Registering BlockManagerMasterHeartbeat\n",
      "25/07/08 15:38:10 INFO SparkEnv: Registering OutputCommitCoordinator\n"
     ]
    }
   ],
   "source": [
    "from pyspark.sql import SparkSession, DataFrame, Window\n",
    "from pyspark.sql.functions import (\n",
    "    col, countDistinct, row_number, sum as spark_sum,\n",
    "    broadcast, array_contains\n",
    ")\n",
    "import gcsfs\n",
    "\n",
    "spark = SparkSession.builder.appName(\"ProcessDiseasesNotebook\").getOrCreate()"
   ]
  },
  {
   "cell_type": "code",
   "execution_count": 2,
   "id": "df4da9d1",
   "metadata": {},
   "outputs": [],
   "source": [
    "# Oncology MONDO code constant\n",
    "ONCOLOGY_ID = \"MONDO_0045024\"\n",
    "\n",
    "\n",
    "# 1. Load inputs by specifying your GCS paths directly\n",
    "evidence_path = \"gs://open-targets-data-releases/25.06/output/association_by_datasource_indirect\"\n",
    "target_path   = \"gs://open-targets-data-releases/25.06/output/target\"\n",
    "disease_path  = \"gs://open-targets-data-releases/25.06/output/disease\"\n",
    "output_dir    = \"gs://ot-team/polina/pathwaganda/processed_diseases\"\n",
    "include_animal_models = False "
   ]
  },
  {
   "cell_type": "code",
   "execution_count": 4,
   "id": "ce9941e4",
   "metadata": {},
   "outputs": [
    {
     "name": "stderr",
     "output_type": "stream",
     "text": [
      "                                                                                \r"
     ]
    },
    {
     "name": "stdout",
     "output_type": "stream",
     "text": [
      "+------------+--------------------+--------------------+--------------------+--------------------+--------------------+--------------------+-------------+-------------+--------------------+--------------------+--------------------+--------------------+--------------------+\n",
      "|          id|                code|                name|         description|             dbXRefs|             parents|            synonyms|obsoleteTerms|obsoleteXRefs|            children|           ancestors|    therapeuticAreas|         descendants|            ontology|\n",
      "+------------+--------------------+--------------------+--------------------+--------------------+--------------------+--------------------+-------------+-------------+--------------------+--------------------+--------------------+--------------------+--------------------+\n",
      "|DOID_0050890|http://purl.oboli...|     synucleinopathy|A neurodegenerati...|[MESH:D000080874,...|[MONDO_0019052, M...|{[alpha Synuclein...|           []|           []|[EFO_0006792, EFO...|[MONDO_0024237, E...|[EFO_0000618, OTA...|[MONDO_0000211, M...|{false, false, {h...|\n",
      "|  DOID_10113|http://purl.oboli...|     trypanosomiasis|Infection with pr...|[UMLS:C0041227, M...|     [MONDO_0002428]|{[Trypanosoma cau...|           []|           []|[MONDO_0001444, E...|[MONDO_0002428, E...|       [EFO_0005741]|[EFO_0005225, EFO...|{false, false, {h...|\n",
      "|  DOID_10718|http://purl.oboli...|          giardiasis|An infection of t...|[MeSH:D005873, IC...|[MONDO_0002428, E...|{[giardiasis, bea...|           []|           []|                  []|[EFO_0010282, EFO...|[EFO_0010282, EFO...|                  []|{false, false, {h...|\n",
      "|  DOID_13406|http://purl.oboli...|pulmonary sarcoid...|Sarcoidosis affec...|[SNOMEDCT:1872300...|[MONDO_0017026, M...|{[Sarcoidosis, Pu...|           []|           []|       [EFO_1001232]|[MONDO_0017026, M...|[OTAR_0000010, OT...|       [EFO_1001232]|{false, false, {h...|\n",
      "+------------+--------------------+--------------------+--------------------+--------------------+--------------------+--------------------+-------------+-------------+--------------------+--------------------+--------------------+--------------------+--------------------+\n",
      "only showing top 4 rows\n",
      "\n"
     ]
    }
   ],
   "source": [
    "spark.read.parquet(disease_path).show(4)"
   ]
  },
  {
   "cell_type": "code",
   "execution_count": 11,
   "id": "5ed0c42a",
   "metadata": {},
   "outputs": [],
   "source": [
    "# 2. Read and prepare DataFrames\n",
    "\n",
    "evidence = spark.read.parquet(evidence_path)\n",
    "target_df = (\n",
    "    spark.read.parquet(target_path)\n",
    "         .select(col(\"id\").alias(\"targetId\"), col(\"approvedSymbol\"))\n",
    ")\n",
    "evidence = evidence.join(broadcast(target_df), on=\"targetId\", how=\"left\")\n",
    "\n",
    "disease_df = (\n",
    "    spark.read.parquet(disease_path)\n",
    "         .select(col(\"id\").alias(\"diseaseId\"), col(\"therapeuticAreas\"))\n",
    ")\n",
    "\n",
    "# 3. Define your data source weights\n",
    "weights = {\n",
    "    # \"ot_genetics_portal\": 1,\n",
    "    \"gwas_credible_sets\": 1,\n",
    "    \"gene_burden\": 1,\n",
    "    \"eva\": 1,\n",
    "    \"genomics_england\": 1,\n",
    "    \"gene2phenotype\": 1,\n",
    "    \"uniprot_literature\": 1,\n",
    "    \"uniprot_variants\": 1,\n",
    "    \"orphanet\": 1,\n",
    "    \"clingen\": 1,\n",
    "    \"cancer_gene_census\": 1,\n",
    "    \"intogen\": 1,\n",
    "    \"eva_somatic\": 1,\n",
    "    \"cancer_biomarkers\": 1,\n",
    "    \"chembl\": 1,\n",
    "    \"crispr_screen\": 1,\n",
    "    \"crispr\": 1,\n",
    "    \"slapenrich\": 0.5,\n",
    "    \"progeny\": 0.5,\n",
    "    \"reactome\": 1,\n",
    "    \"sysbio\": 0.5,\n",
    "    \"europepmc\": 0.2,\n",
    "    \"expression_atlas\": 0.2,\n",
    "    \"impc\": 0.2,\n",
    "    \"ot_crispr_validation\": 0.5,\n",
    "    \"ot_crispr\": 0.5,\n",
    "    \"encore\": 0.5,\n",
    "}\n",
    "\n",
    "# 4. Build evidence type lists based on animal-model flag\n",
    "oncology_types     = [\"genetic_association\", \"somatic_mutation\"]\n",
    "non_oncology_types = [\"genetic_association\"]\n",
    "if include_animal_models:\n",
    "    oncology_types.append(\"animal_model\")\n",
    "    non_oncology_types.append(\"animal_model\")\n"
   ]
  },
  {
   "cell_type": "code",
   "execution_count": 13,
   "id": "17ed374b",
   "metadata": {},
   "outputs": [],
   "source": [
    "# 5. Define processing functions\n",
    "\n",
    "def _compute_scores(ev: DataFrame, evidence_types: list) -> DataFrame:\n",
    "    # Build regex from types\n",
    "    pattern = \"|\".join(evidence_types)\n",
    "\n",
    "    # Filter by types and by ≥500 genes\n",
    "    valid = (\n",
    "        ev.filter(col(\"datatypeId\").rlike(pattern))\n",
    "          .groupBy(\"diseaseId\")\n",
    "          .agg(countDistinct(\"approvedSymbol\").alias(\"nGenes\"))\n",
    "          .filter(col(\"nGenes\") >= 500)\n",
    "    )\n",
    "    # Construct weights DataFrame with consistent DoubleType\n",
    "    weights_df = spark.createDataFrame(\n",
    "        [(ds, float(w)) for ds, w in weights.items()],\n",
    "        [\"datasourceId\", \"weight\"]\n",
    "    )\n",
    "\n",
    "    df = (\n",
    "        ev.join(valid.select(\"diseaseId\"), on=\"diseaseId\")\n",
    "          .join(broadcast(weights_df), on=\"datasourceId\", how=\"left\")\n",
    "          .withColumn(\"score_weighted\", col(\"score\") * col(\"weight\"))\n",
    "    )\n",
    "\n",
    "    # First-level window\n",
    "    win1 = Window.partitionBy(\n",
    "        \"diseaseId\", \"datatypeId\", \"approvedSymbol\", \"targetId\"\n",
    "    ).orderBy(col(\"score_weighted\").desc())\n",
    "    df1 = (\n",
    "        df.withColumn(\"rank1\", row_number().over(win1))\n",
    "          .withColumn(\"term1\", col(\"score_weighted\") / (col(\"rank1\") ** 2))\n",
    "          .groupBy(\"diseaseId\", \"datatypeId\", \"approvedSymbol\", \"targetId\")\n",
    "          .agg(spark_sum(\"term1\").alias(\"sourceSum\"))\n",
    "    )\n",
    "\n",
    "    # Second-level window\n",
    "    win2 = Window.partitionBy(\n",
    "        \"diseaseId\", \"approvedSymbol\", \"targetId\"\n",
    "    ).orderBy(col(\"sourceSum\").desc())\n",
    "    df2 = (\n",
    "        df1.withColumn(\"rank2\", row_number().over(win2))\n",
    "           .withColumn(\"overallScore\", col(\"sourceSum\") / (col(\"rank2\") ** 2))\n",
    "           .filter(col(\"overallScore\").isNotNull())\n",
    "    )\n",
    "    return df2"
   ]
  },
  {
   "cell_type": "code",
   "execution_count": 14,
   "id": "0e00e498",
   "metadata": {},
   "outputs": [
    {
     "name": "stderr",
     "output_type": "stream",
     "text": [
      "                                                                                \r"
     ]
    }
   ],
   "source": [
    "# 6. Process oncology\n",
    "\n",
    "ev_onc = (\n",
    "    evidence.join(broadcast(disease_df), on=\"diseaseId\")\n",
    "            .filter(array_contains(col(\"therapeuticAreas\"), ONCOLOGY_ID))\n",
    ")\n",
    "result_onc = _compute_scores(ev_onc, oncology_types)\n",
    "# Write out\n",
    "result_onc.select(\"diseaseId\",\"approvedSymbol\",\"targetId\",\"overallScore\") \\\n",
    "           .repartition(\"diseaseId\") \\\n",
    "           .write.mode(\"overwrite\") \\\n",
    "           .partitionBy(\"diseaseId\") \\\n",
    "           .parquet(f\"{output_dir}/oncology\")"
   ]
  },
  {
   "cell_type": "code",
   "execution_count": 20,
   "id": "65bc68be",
   "metadata": {},
   "outputs": [
    {
     "data": {
      "text/plain": [
       "5801"
      ]
     },
     "execution_count": 20,
     "metadata": {},
     "output_type": "execute_result"
    }
   ],
   "source": [
    "# File check\n",
    "spark.read.parquet(\"gs://ot-team/polina/pathwaganda/processed_diseases/oncology/diseaseId=EFO_0000095\").count()"
   ]
  },
  {
   "cell_type": "code",
   "execution_count": 21,
   "id": "486996a3",
   "metadata": {},
   "outputs": [
    {
     "name": "stdout",
     "output_type": "stream",
     "text": [
      "+--------------+---------------+------------------+\n",
      "|approvedSymbol|       targetId|      overallScore|\n",
      "+--------------+---------------+------------------+\n",
      "|          TP53|ENSG00000141510|1.0734668108113399|\n",
      "|         SF3B1|ENSG00000115524| 1.039870844982318|\n",
      "|           ATM|ENSG00000149311| 1.026074643823489|\n",
      "|          POT1|ENSG00000128513|1.0005294815256116|\n",
      "+--------------+---------------+------------------+\n",
      "only showing top 4 rows\n",
      "\n"
     ]
    }
   ],
   "source": [
    "from pyspark.sql.functions import desc\n",
    "\n",
    "spark.read.parquet(\"gs://ot-team/polina/pathwaganda/processed_diseases/oncology/diseaseId=EFO_0000095\").sort(desc(\"overallScore\")).show(4)"
   ]
  },
  {
   "cell_type": "code",
   "execution_count": 22,
   "id": "9a360b49",
   "metadata": {},
   "outputs": [
    {
     "name": "stderr",
     "output_type": "stream",
     "text": [
      "                                                                                \r"
     ]
    }
   ],
   "source": [
    "# 7. Process non-oncology\n",
    "\n",
    "ev_non = (\n",
    "    evidence.join(broadcast(disease_df), on=\"diseaseId\")\n",
    "            .filter(~array_contains(col(\"therapeuticAreas\"), ONCOLOGY_ID))\n",
    ")\n",
    "result_non = _compute_scores(ev_non, non_oncology_types)\n",
    "# Write out\n",
    "result_non.select(\"diseaseId\",\"approvedSymbol\",\"targetId\",\"overallScore\") \\\n",
    "           .repartition(\"diseaseId\") \\\n",
    "           .write.mode(\"overwrite\") \\\n",
    "           .partitionBy(\"diseaseId\") \\\n",
    "           .parquet(f\"{output_dir}/non_oncology\")"
   ]
  },
  {
   "cell_type": "code",
   "execution_count": 24,
   "id": "4fd6d83b",
   "metadata": {},
   "outputs": [
    {
     "data": {
      "text/plain": [
       "4669"
      ]
     },
     "execution_count": 24,
     "metadata": {},
     "output_type": "execute_result"
    }
   ],
   "source": [
    "spark.read.parquet(\"gs://ot-team/polina/pathwaganda/processed_diseases/non_oncology/diseaseId=EFO_0000195\").count()"
   ]
  },
  {
   "cell_type": "code",
   "execution_count": 25,
   "id": "5221beb8",
   "metadata": {},
   "outputs": [
    {
     "name": "stdout",
     "output_type": "stream",
     "text": [
      "+--------------+---------------+------------------+\n",
      "|approvedSymbol|       targetId|      overallScore|\n",
      "+--------------+---------------+------------------+\n",
      "|        DYRK1B|ENSG00000105204|1.1051797884522627|\n",
      "|          APOB|ENSG00000084674|0.9262022437993443|\n",
      "|           LPL|ENSG00000175445|0.8864316879980596|\n",
      "|          LIPC|ENSG00000166035|0.8602447264212504|\n",
      "+--------------+---------------+------------------+\n",
      "only showing top 4 rows\n",
      "\n"
     ]
    }
   ],
   "source": [
    "spark.read.parquet(\"gs://ot-team/polina/pathwaganda/processed_diseases/non_oncology/diseaseId=EFO_0000195\").sort(desc(\"overallScore\")).show(4)"
   ]
  },
  {
   "cell_type": "code",
   "execution_count": null,
   "id": "315f018a",
   "metadata": {},
   "outputs": [],
   "source": []
  }
 ],
 "metadata": {
  "kernelspec": {
   "display_name": "PySpark",
   "language": "python",
   "name": "pyspark"
  },
  "language_info": {
   "codemirror_mode": {
    "name": "ipython",
    "version": 3
   },
   "file_extension": ".py",
   "mimetype": "text/x-python",
   "name": "python",
   "nbconvert_exporter": "python",
   "pygments_lexer": "ipython3",
   "version": "3.11.8"
  }
 },
 "nbformat": 4,
 "nbformat_minor": 5
}
