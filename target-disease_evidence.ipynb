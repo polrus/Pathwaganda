{
 "cells": [
  {
   "cell_type": "markdown",
   "id": "e19fa0ca",
   "metadata": {},
   "source": [
    "# Target-disease genetic evidence from Open Targets Platform"
   ]
  },
  {
   "cell_type": "markdown",
   "id": "7723f216",
   "metadata": {},
   "source": [
    "This code is meant to prepare ranked lists of genes for all diseases from Open Targets platform with amount of genetically supported genes (genetically and somatic mutations for oncological traits) >= 500"
   ]
  },
  {
   "cell_type": "code",
   "execution_count": 16,
   "id": "a6b66823",
   "metadata": {},
   "outputs": [],
   "source": [
    "import math\n",
    "from pyspark.sql import SparkSession\n",
    "from pyspark.sql import functions as F\n",
    "from pyspark.sql.functions import col, broadcast, countDistinct, array_contains\n",
    "from pyspark.sql.window import Window\n",
    "\n",
    "spark = SparkSession.builder.appName(\"ProcessDiseasesNotebook\").getOrCreate()"
   ]
  },
  {
   "cell_type": "code",
   "execution_count": 17,
   "id": "df4da9d1",
   "metadata": {},
   "outputs": [],
   "source": [
    "# 1. Load inputs by specifying your GCS paths directly\n",
    "evidence_path = \"gs://open-targets-data-releases/25.06/output/association_by_datasource_indirect\"\n",
    "target_path   = \"gs://open-targets-data-releases/25.06/output/target\"\n",
    "disease_path  = \"gs://open-targets-data-releases/25.06/output/disease\"\n",
    "# output_dir    = \"gs://ot-team/polina/pathwaganda/processed_diseases\"\n",
    "# include_animal_models = False "
   ]
  },
  {
   "cell_type": "code",
   "execution_count": 18,
   "id": "5ed0c42a",
   "metadata": {},
   "outputs": [],
   "source": [
    "# 2. Read and prepare DataFrames\n",
    "evidence = spark.read.parquet(evidence_path)\n",
    "target_df = (\n",
    "    spark.read.parquet(target_path)\n",
    "         .select(col(\"id\").alias(\"targetId\"), col(\"approvedSymbol\"))\n",
    ")\n",
    "evidence = evidence.join(broadcast(target_df), on=\"targetId\", how=\"left\")\n",
    "\n",
    "disease_df = (\n",
    "    spark.read.parquet(disease_path)\n",
    "         .select(col(\"id\").alias(\"diseaseId\"), col(\"therapeuticAreas\"))\n",
    ")\n",
    "\n",
    "evidence_ta = evidence.join(broadcast(disease_df), on=\"diseaseId\", how=\"left\")\n",
    "\n",
    "# 3. Define your data source weights\n",
    "weights = {\n",
    "    # \"ot_genetics_portal\": 1,\n",
    "    \"gwas_credible_sets\": 1,\n",
    "    \"gene_burden\": 1,\n",
    "    \"eva\": 1,\n",
    "    \"genomics_england\": 1,\n",
    "    \"gene2phenotype\": 1,\n",
    "    \"uniprot_literature\": 1,\n",
    "    \"uniprot_variants\": 1,\n",
    "    \"orphanet\": 1,\n",
    "    \"clingen\": 1,\n",
    "    \"cancer_gene_census\": 1,\n",
    "    \"intogen\": 1,\n",
    "    \"eva_somatic\": 1,\n",
    "    \"cancer_biomarkers\": 1,\n",
    "    \"chembl\": 1,\n",
    "    \"crispr_screen\": 1,\n",
    "    \"crispr\": 1,\n",
    "    \"slapenrich\": 0.5,\n",
    "    \"progeny\": 0.5,\n",
    "    \"reactome\": 1,\n",
    "    \"sysbio\": 0.5,\n",
    "    \"europepmc\": 0.2,\n",
    "    \"expression_atlas\": 0.2,\n",
    "    \"impc\": 0.2,\n",
    "    \"ot_crispr_validation\": 0.5,\n",
    "    \"ot_crispr\": 0.5,\n",
    "    \"encore\": 0.5,\n",
    "}\n",
    "\n",
    "# 4. Build evidence type lists based on animal-model flag\n",
    "# oncology_types     = [\"genetic_association\", \"somatic_mutation\"]\n",
    "# non_oncology_types = [\"genetic_association\"]\n",
    "# if include_animal_models:\n",
    "#     oncology_types.append(\"animal_model\")\n",
    "#     non_oncology_types.append(\"animal_model\")"
   ]
  },
  {
   "cell_type": "code",
   "execution_count": 19,
   "id": "55b5c70d",
   "metadata": {},
   "outputs": [],
   "source": [
    "evidence_onco = evidence_ta.filter(\n",
    "    col(\"datatypeId\").isin(\"genetic_association\", \"somatic_mutation\")\n",
    "    & array_contains(col(\"therapeuticAreas\"), \"MONDO_0045024\")\n",
    ")"
   ]
  },
  {
   "cell_type": "code",
   "execution_count": 21,
   "id": "f9970185",
   "metadata": {},
   "outputs": [],
   "source": [
    "evidence_non_onco = evidence_ta.filter(\n",
    "    col(\"datatypeId\").isin(\"genetic_association\")\n",
    "    & ~array_contains(col(\"therapeuticAreas\"), \"MONDO_0045024\")\n",
    ")"
   ]
  },
  {
   "cell_type": "markdown",
   "id": "5bb1b5ae",
   "metadata": {},
   "source": [
    "Output: \n",
    "diseaseId: targetId, approvedSymbol, overallScore\n",
    "\n",
    "Input:\n",
    "_diseaseId_ _targetId_, _approvedSymbol_, _datatypeId_, datasourceId, datasourceWeight, score\n",
    "1. weightedScore = datasourceWeight * score\n",
    "2. Sort by datasourceId\n",
    "3. ordIndex = Compute order index of dataSource\n",
    "4. Compute HSum by taking Sum(weightedScore_i / ordIndex_i^2) / 1.644\n",
    "\n",
    "_diseaseId_ _targetId_, _approvedSymbol_, _datatypeId_, hSum\n",
    "1. Sort by datatypeId\n",
    "2. ordIndex = Compute order index of dataSource\n",
    "3. Compute amount of datatypes per (_diseaseId_ _targetId_, _approvedSymbol_)\n",
    "_diseaseId_ _targetId_, _approvedSymbol_, _datatypeId_, ordIndex, hSum, datatypes_amount\n",
    "4. Compute HSum by taking Sum(hSum_i / ordIndex_i^2) / datatypes_amount\n",
    "_diseaseId_ _targetId_, _approvedSymbol_, overallHSum\n",
    "\n",
    "datatypeScore = weightedHsumNorm(datasourceScore(score))\n",
    "\n",
    "overallScore = HsumNorm(datatypeScore) / 1.644\n",
    "\n",
    "HsumNorm = score / (positional id)^2"
   ]
  },
  {
   "cell_type": "code",
   "execution_count": 24,
   "id": "069a7698",
   "metadata": {},
   "outputs": [],
   "source": [
    "from pyspark.sql import functions as F\n",
    "from pyspark.sql import Window\n",
    "from pyspark.sql.functions import col, row_number, broadcast, udf\n",
    "from pyspark.sql.types import DoubleType\n",
    "\n",
    "sc = spark.sparkContext\n",
    "\n",
    "# --- 1) turn your Python dict into a tiny DataFrame & broadcast it ---\n",
    "#    assume weights = { 'ds1':0.3, 'ds2':0.5, ... }\n",
    "weights_df = spark.createDataFrame(\n",
    "    [(k, float(v)) for k,v in weights.items()],\n",
    "    ['datasourceId', 'datasourceWeight']\n",
    ")\n",
    "\n",
    "df = evidence_onco.join(\n",
    "    broadcast(weights_df),\n",
    "    on='datasourceId',\n",
    "    how='left'\n",
    ")\n",
    "\n",
    "# --- 2) compute per‐row weightedScore ---\n",
    "df = df.withColumn(\n",
    "    'weightedScore',\n",
    "    col('datasourceWeight') * col('score')\n",
    ")\n",
    "\n",
    "# --- 3) assign ordIndex by ranking weightedScore desc within each group ---\n",
    "grp_cols = ['diseaseId','targetId','approvedSymbol','datatypeId']\n",
    "order_win = Window.partitionBy(*grp_cols).orderBy(col('weightedScore').desc())\n",
    "\n",
    "df = df.withColumn(\n",
    "    'ordIndex',\n",
    "    row_number().over(order_win)\n",
    ")\n",
    "\n",
    "# --- 4) count number of rows (datasources) per group ---\n",
    "count_win = Window.partitionBy(*grp_cols)\n",
    "df = df.withColumn(\n",
    "    'nDs',\n",
    "    F.count('*').over(count_win)\n",
    ")\n",
    "\n",
    "# --- 5) precompute Σ_{k=1..n} 1/k² for n=1..20, else 1.644 ---\n",
    "theo = {i: sum(1.0/j**2 for j in range(1,i+1)) for i in range(1,21)}\n",
    "broadcast_theo = sc.broadcast(theo)\n",
    "\n",
    "@udf(DoubleType())\n",
    "def max_theoretical(n):\n",
    "    if n is None:\n",
    "        return None\n",
    "    return float(broadcast_theo.value[n]) if n <= 20 else 1.644\n",
    "\n",
    "df = df.withColumn(\n",
    "    'maxTheo',\n",
    "    max_theoretical(col('nDs'))\n",
    ")\n",
    "\n",
    "# --- 6) scale each row by 1/ordIndex² and sum, then divide by maxTheo ---\n",
    "df = df.withColumn(\n",
    "    'scaled',\n",
    "    col('weightedScore') / (col('ordIndex')**2)\n",
    ")\n",
    "\n",
    "result = (\n",
    "    df\n",
    "    .groupBy(*grp_cols)\n",
    "    .agg(\n",
    "        (F.sum('scaled') / F.first('maxTheo')).alias('hSum')\n",
    "    )\n",
    ")\n",
    "\n",
    "# result now has: diseaseId, targetId, approvedSymbol, datatypeId, hSum\n"
   ]
  },
  {
   "cell_type": "code",
   "execution_count": 28,
   "id": "8339ee58",
   "metadata": {},
   "outputs": [
    {
     "name": "stderr",
     "output_type": "stream",
     "text": [
      "[Stage 74:>                                                         (0 + 2) / 2]\r"
     ]
    },
    {
     "name": "stdout",
     "output_type": "stream",
     "text": [
      "+-------------+---------------+--------------+-------------------+------------------+\n",
      "|    diseaseId|       targetId|approvedSymbol|         datatypeId|              hSum|\n",
      "+-------------+---------------+--------------+-------------------+------------------+\n",
      "|MONDO_0002149|ENSG00000111276|        CDKN1B|genetic_association|0.7999966200371057|\n",
      "|  EFO_0005952|ENSG00000171456|         ASXL1|   somatic_mutation|0.7999807407658193|\n",
      "|  EFO_1000218|ENSG00000130396|          AFDN|   somatic_mutation|0.7999773630884303|\n",
      "|MONDO_0002516|ENSG00000169184|           MN1|   somatic_mutation|0.7999730053348342|\n",
      "|  EFO_0003859|ENSG00000100697|        DICER1|   somatic_mutation|0.7999362531293202|\n",
      "+-------------+---------------+--------------+-------------------+------------------+\n",
      "only showing top 5 rows\n",
      "\n"
     ]
    },
    {
     "name": "stderr",
     "output_type": "stream",
     "text": [
      "                                                                                \r"
     ]
    }
   ],
   "source": [
    "result.sort(-col(\"hSum\")).filter(col(\"hSum\")<0.8).show(5)"
   ]
  },
  {
   "cell_type": "code",
   "execution_count": null,
   "id": "f78a1df7",
   "metadata": {},
   "outputs": [],
   "source": []
  },
  {
   "cell_type": "code",
   "execution_count": null,
   "id": "7dcb96e2",
   "metadata": {},
   "outputs": [],
   "source": []
  },
  {
   "cell_type": "code",
   "execution_count": null,
   "id": "17ed374b",
   "metadata": {},
   "outputs": [
    {
     "name": "stderr",
     "output_type": "stream",
     "text": [
      "                                                                                \r"
     ]
    }
   ],
   "source": [
    "# 5. Precompute normalization constants\n",
    "H_INF = math.pi**2 / 6.0\n",
    "\n",
    "# Amount of datasources per evidence type (do not depend on disease)\n",
    "ds_per_type = (\n",
    "    evidence.select(\"datatypeId\", \"datasourceId\")\n",
    "            .distinct()\n",
    "            .groupBy(\"datatypeId\")\n",
    "            .agg(F.countDistinct(\"datasourceId\").alias(\"nDs\"))\n",
    ")\n",
    "type_norms = {\n",
    "    row.datatypeId: sum(1.0/(i*i) for i in range(1, row.nDs+1))\n",
    "    for row in ds_per_type.collect()\n",
    "}\n",
    "type_norm_df = spark.createDataFrame(\n",
    "    [(dt, float(norm)) for dt, norm in type_norms.items()],\n",
    "    [\"datatypeId\", \"typeNorm\"]\n",
    ")\n",
    "\n",
    "# 6. Define processing function\n",
    "\n",
    "def _compute_scores(ev, evidence_types):\n",
    "    # Filter to relevant evidence types and diseases with ≥500 genes\n",
    "    pattern = \"|\".join(evidence_types)\n",
    "    valid = (\n",
    "        ev.filter(col(\"datatypeId\").rlike(pattern))\n",
    "          .groupBy(\"diseaseId\")\n",
    "          .agg(countDistinct(\"approvedSymbol\").alias(\"nGenes\"))\n",
    "          .filter(col(\"nGenes\") >= 500)\n",
    "    )\n",
    "\n",
    "    # Stage 1: per-datasource harmonic sum + normalize → ds_score\n",
    "    win_ds = Window.partitionBy(\n",
    "        \"diseaseId\", \"datasourceId\", \"approvedSymbol\", \"targetId\"\n",
    "    ).orderBy(F.desc(\"score\"))\n",
    "    ds_scores = (\n",
    "        ev.join(valid.select(\"diseaseId\"), on=\"diseaseId\")\n",
    "          .withColumn(\"rank_ds\", F.row_number().over(win_ds))\n",
    "          .withColumn(\"term_ds\", col(\"score\") / (col(\"rank_ds\")**2))\n",
    "          .groupBy(\"diseaseId\", \"datasourceId\", \"datatypeId\",\n",
    "                   \"approvedSymbol\", \"targetId\")\n",
    "          .agg(F.sum(\"term_ds\").alias(\"ds_sum\"))\n",
    "          .withColumn(\"ds_score\", col(\"ds_sum\") / F.lit(H_INF))\n",
    "    )\n",
    "\n",
    "    # Stage 2: per-datatype harmonic sum + normalize → associationScore\n",
    "    weights_df = spark.createDataFrame(\n",
    "        [(ds, float(w)) for ds, w in weights.items()],\n",
    "        [\"datasourceId\", \"weight\"]\n",
    "    )\n",
    "    win_type = Window.partitionBy(\n",
    "        \"diseaseId\", \"datatypeId\", \"approvedSymbol\", \"targetId\"\n",
    "    ).orderBy(F.desc(\"weighted_ds\"))\n",
    "    type_scores = (\n",
    "        ds_scores\n",
    "          .join(weights_df, on=\"datasourceId\", how=\"left\")\n",
    "          .withColumn(\"weighted_ds\", col(\"ds_score\") * col(\"weight\"))\n",
    "          .withColumn(\"rank_type\", F.row_number().over(win_type))\n",
    "          .withColumn(\"term_type\", col(\"weighted_ds\") / (col(\"rank_type\")**2))\n",
    "          .groupBy(\"diseaseId\", \"datatypeId\", \"approvedSymbol\", \"targetId\")\n",
    "          .agg(F.sum(\"term_type\").alias(\"type_sum\"))\n",
    "          .join(type_norm_df, on=\"datatypeId\", how=\"left\")\n",
    "          .withColumn(\"associationScore\", col(\"type_sum\") / col(\"typeNorm\"))\n",
    "    )\n",
    "\n",
    "    # Stage 3: overall association score across all datasources\n",
    "    # Harmonic sum of ds_score weighted by datasource weights, normalized by H_INF\n",
    "    win_overall = Window.partitionBy(\n",
    "        \"diseaseId\", \"approvedSymbol\", \"targetId\"\n",
    "    ).orderBy(F.desc(\"weighted_ds_score\"))\n",
    "    overall_scores = (\n",
    "        ds_scores\n",
    "          .join(weights_df, on=\"datasourceId\", how=\"left\")\n",
    "          .withColumn(\"weighted_ds_score\", col(\"ds_score\") * col(\"weight\"))\n",
    "          .withColumn(\"rank_overall\", F.row_number().over(win_overall))\n",
    "          .withColumn(\"term_overall\", col(\"weighted_ds_score\") / (col(\"rank_overall\")**2))\n",
    "          .groupBy(\"diseaseId\", \"approvedSymbol\", \"targetId\")\n",
    "          .agg(F.sum(\"term_overall\").alias(\"overall_sum\"))\n",
    "          .withColumn(\"overallScore\", col(\"overall_sum\") / F.lit(H_INF))\n",
    "    )\n",
    "\n",
    "    return ds_scores, type_scores, overall_scores"
   ]
  },
  {
   "cell_type": "code",
   "execution_count": 11,
   "id": "215da841",
   "metadata": {},
   "outputs": [],
   "source": [
    "# 7. Execute for oncology and non-oncology\n",
    "oncology_ds, oncology_type, oncology_overall = _compute_scores(evidence, oncology_types)\n",
    "# non_oncology_scores = _compute_scores(evidence, non_oncology_types)"
   ]
  },
  {
   "cell_type": "code",
   "execution_count": null,
   "id": "73179784",
   "metadata": {},
   "outputs": [
    {
     "name": "stderr",
     "output_type": "stream",
     "text": [
      "[Stage 30:>   (0 + 4) / 6][Stage 31:>   (0 + 0) / 2][Stage 32:>   (0 + 0) / 5]\r"
     ]
    }
   ],
   "source": [
    "# 8. Persist results\n",
    "oncology_output_path = \"gs://ot-team/polina/pathwaganda/processed_diseases/oncology/\"\n",
    "# non_oncology_output_path = \"gs://ot-team/polina/pathwaganda/processed_diseases/non_oncology/\"\n",
    "\n",
    "# Select only the needed columns and write partitioned by diseaseId\n",
    "for df, out_path in [\n",
    "    (oncology_overall, oncology_output_path)\n",
    "    # (non_oncology_overall, non_oncology_overall_path)\n",
    "]:\n",
    "    df.select(\"diseaseId\", \"targetId\", \"approvedSymbol\", \"overallScore\") \\\n",
    "      .write \\\n",
    "      .mode(\"overwrite\") \\\n",
    "      .partitionBy(\"diseaseId\") \\\n",
    "      .parquet(out_path)\n",
    "    \n",
    "    \n",
    "# non_oncology_scores.write.mode(\"overwrite\").parquet(non_oncology_output_path)"
   ]
  },
  {
   "cell_type": "code",
   "execution_count": null,
   "id": "a28d92de",
   "metadata": {},
   "outputs": [],
   "source": []
  },
  {
   "cell_type": "code",
   "execution_count": null,
   "id": "6ed164e7",
   "metadata": {},
   "outputs": [],
   "source": []
  },
  {
   "cell_type": "code",
   "execution_count": null,
   "id": "8a7fa59e",
   "metadata": {},
   "outputs": [],
   "source": []
  },
  {
   "cell_type": "code",
   "execution_count": null,
   "id": "774076a5",
   "metadata": {},
   "outputs": [],
   "source": []
  },
  {
   "cell_type": "code",
   "execution_count": null,
   "id": "f1d2501d",
   "metadata": {},
   "outputs": [],
   "source": []
  },
  {
   "cell_type": "code",
   "execution_count": 14,
   "id": "0e00e498",
   "metadata": {},
   "outputs": [
    {
     "name": "stderr",
     "output_type": "stream",
     "text": [
      "                                                                                \r"
     ]
    }
   ],
   "source": [
    "# 6. Process oncology\n",
    "\n",
    "ev_onc = (\n",
    "    evidence.join(broadcast(disease_df), on=\"diseaseId\")\n",
    "            .filter(array_contains(col(\"therapeuticAreas\"), ONCOLOGY_ID))\n",
    ")\n",
    "result_onc = _compute_scores(ev_onc, oncology_types)\n",
    "# Write out\n",
    "result_onc.select(\"diseaseId\",\"approvedSymbol\",\"targetId\",\"overallScore\") \\\n",
    "           .repartition(\"diseaseId\") \\\n",
    "           .write.mode(\"overwrite\") \\\n",
    "           .partitionBy(\"diseaseId\") \\\n",
    "           .parquet(f\"{output_dir}/oncology\")"
   ]
  },
  {
   "cell_type": "code",
   "execution_count": 20,
   "id": "65bc68be",
   "metadata": {},
   "outputs": [
    {
     "data": {
      "text/plain": [
       "5801"
      ]
     },
     "execution_count": 20,
     "metadata": {},
     "output_type": "execute_result"
    }
   ],
   "source": [
    "# File check\n",
    "spark.read.parquet(\"gs://ot-team/polina/pathwaganda/processed_diseases/oncology/diseaseId=EFO_0000095\").count()"
   ]
  },
  {
   "cell_type": "code",
   "execution_count": 21,
   "id": "486996a3",
   "metadata": {},
   "outputs": [
    {
     "name": "stdout",
     "output_type": "stream",
     "text": [
      "+--------------+---------------+------------------+\n",
      "|approvedSymbol|       targetId|      overallScore|\n",
      "+--------------+---------------+------------------+\n",
      "|          TP53|ENSG00000141510|1.0734668108113399|\n",
      "|         SF3B1|ENSG00000115524| 1.039870844982318|\n",
      "|           ATM|ENSG00000149311| 1.026074643823489|\n",
      "|          POT1|ENSG00000128513|1.0005294815256116|\n",
      "+--------------+---------------+------------------+\n",
      "only showing top 4 rows\n",
      "\n"
     ]
    }
   ],
   "source": [
    "from pyspark.sql.functions import desc\n",
    "\n",
    "spark.read.parquet(\"gs://ot-team/polina/pathwaganda/processed_diseases/oncology/diseaseId=EFO_0000095\").sort(desc(\"overallScore\")).show(4)"
   ]
  },
  {
   "cell_type": "code",
   "execution_count": 22,
   "id": "9a360b49",
   "metadata": {},
   "outputs": [
    {
     "name": "stderr",
     "output_type": "stream",
     "text": [
      "                                                                                \r"
     ]
    }
   ],
   "source": [
    "# 7. Process non-oncology\n",
    "\n",
    "ev_non = (\n",
    "    evidence.join(broadcast(disease_df), on=\"diseaseId\")\n",
    "            .filter(~array_contains(col(\"therapeuticAreas\"), ONCOLOGY_ID))\n",
    ")\n",
    "result_non = _compute_scores(ev_non, non_oncology_types)\n",
    "# Write out\n",
    "result_non.select(\"diseaseId\",\"approvedSymbol\",\"targetId\",\"overallScore\") \\\n",
    "           .repartition(\"diseaseId\") \\\n",
    "           .write.mode(\"overwrite\") \\\n",
    "           .partitionBy(\"diseaseId\") \\\n",
    "           .parquet(f\"{output_dir}/non_oncology\")"
   ]
  },
  {
   "cell_type": "code",
   "execution_count": 24,
   "id": "4fd6d83b",
   "metadata": {},
   "outputs": [
    {
     "data": {
      "text/plain": [
       "4669"
      ]
     },
     "execution_count": 24,
     "metadata": {},
     "output_type": "execute_result"
    }
   ],
   "source": [
    "spark.read.parquet(\"gs://ot-team/polina/pathwaganda/processed_diseases/non_oncology/diseaseId=EFO_0000195\").count()"
   ]
  },
  {
   "cell_type": "code",
   "execution_count": 25,
   "id": "5221beb8",
   "metadata": {},
   "outputs": [
    {
     "name": "stdout",
     "output_type": "stream",
     "text": [
      "+--------------+---------------+------------------+\n",
      "|approvedSymbol|       targetId|      overallScore|\n",
      "+--------------+---------------+------------------+\n",
      "|        DYRK1B|ENSG00000105204|1.1051797884522627|\n",
      "|          APOB|ENSG00000084674|0.9262022437993443|\n",
      "|           LPL|ENSG00000175445|0.8864316879980596|\n",
      "|          LIPC|ENSG00000166035|0.8602447264212504|\n",
      "+--------------+---------------+------------------+\n",
      "only showing top 4 rows\n",
      "\n"
     ]
    }
   ],
   "source": [
    "spark.read.parquet(\"gs://ot-team/polina/pathwaganda/processed_diseases/non_oncology/diseaseId=EFO_0000195\").sort(desc(\"overallScore\")).show(4)"
   ]
  },
  {
   "cell_type": "code",
   "execution_count": null,
   "id": "315f018a",
   "metadata": {},
   "outputs": [],
   "source": []
  }
 ],
 "metadata": {
  "kernelspec": {
   "display_name": "PySpark",
   "language": "python",
   "name": "pyspark"
  },
  "language_info": {
   "codemirror_mode": {
    "name": "ipython",
    "version": 3
   },
   "file_extension": ".py",
   "mimetype": "text/x-python",
   "name": "python",
   "nbconvert_exporter": "python",
   "pygments_lexer": "ipython3",
   "version": "3.11.8"
  }
 },
 "nbformat": 4,
 "nbformat_minor": 5
}
